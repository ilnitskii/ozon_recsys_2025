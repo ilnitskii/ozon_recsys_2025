{
 "cells": [
  {
   "cell_type": "code",
   "execution_count": 1,
   "id": "5297b76f",
   "metadata": {},
   "outputs": [],
   "source": [
    "import pandas as pd\n",
    "import numpy as np\n",
    "import polars as pl\n",
    "import glob\n",
    "from tqdm import tqdm\n",
    "from collections import defaultdict\n",
    "import matplotlib.pyplot as plt\n",
    "\n",
    "from src.gen_cand_utils import *\n",
    "from src.validation import validate_recommendations, plot_metrics_by_k"
   ]
  },
  {
   "cell_type": "code",
   "execution_count": 6,
   "id": "0c44b161",
   "metadata": {},
   "outputs": [],
   "source": [
    "tracker_files = glob.glob('data/final_apparel_tracker_data_08_action_widget/*/*.parquet')\n",
    "order_files = glob.glob('data/final_apparel_orders_data_07/*/*.parquet')\n",
    "test_user_ids = pd.read_parquet('data/ml_ozon_recsys_test.snappy.parquet')\n",
    "test_user_ids_set = set(test_user_ids['user_id'].to_list())"
   ]
  },
  {
   "cell_type": "code",
   "execution_count": 13,
   "id": "02424601",
   "metadata": {},
   "outputs": [],
   "source": [
    "cat = pl.read_parquet('submits/top100_FINAL_2.parquet')"
   ]
  },
  {
   "cell_type": "code",
   "execution_count": 14,
   "id": "243235c5",
   "metadata": {},
   "outputs": [],
   "source": [
    "top100_list = (\n",
    "    cat\n",
    "    .sort([\"user_id\", \"score\"], descending=[False, True])  # сортируем по score внутри user\n",
    "    .group_by(\"user_id\")\n",
    "    .agg([\n",
    "        pl.col(\"item_id\").head(100).alias(\"top100_items\")  # берём первые 100 item_id\n",
    "    ]).filter(pl.col('user_id').is_in(test_user_ids_set))\n",
    ")"
   ]
  },
  {
   "cell_type": "code",
   "execution_count": 15,
   "id": "8b1eae8f",
   "metadata": {},
   "outputs": [
    {
     "name": "stderr",
     "output_type": "stream",
     "text": [
      "Формирование submission: 100%|██████████| 470347/470347 [00:17<00:00, 27235.46it/s]\n"
     ]
    }
   ],
   "source": [
    "gen_submit(top100_list.rename({\"top100_items\":'item_id'}).to_pandas(), 'catboost_v_5')"
   ]
  },
  {
   "cell_type": "code",
   "execution_count": 9,
   "id": "6bdc0392",
   "metadata": {},
   "outputs": [
    {
     "data": {
      "text/html": [
       "<div><style>\n",
       ".dataframe > thead > tr,\n",
       ".dataframe > tbody > tr {\n",
       "  text-align: right;\n",
       "  white-space: pre-wrap;\n",
       "}\n",
       "</style>\n",
       "<small>shape: (100,)</small><table border=\"1\" class=\"dataframe\"><thead><tr><th></th></tr><tr><td>i64</td></tr></thead><tbody><tr><td>86451006</td></tr><tr><td>201283307</td></tr><tr><td>10885660</td></tr><tr><td>164516883</td></tr><tr><td>140634651</td></tr><tr><td>&hellip;</td></tr><tr><td>174853854</td></tr><tr><td>298949789</td></tr><tr><td>183857215</td></tr><tr><td>186981750</td></tr><tr><td>56246241</td></tr></tbody></table></div>"
      ],
      "text/plain": [
       "shape: (100,)\n",
       "Series: '' [i64]\n",
       "[\n",
       "\t86451006\n",
       "\t201283307\n",
       "\t10885660\n",
       "\t164516883\n",
       "\t140634651\n",
       "\t…\n",
       "\t174853854\n",
       "\t298949789\n",
       "\t183857215\n",
       "\t186981750\n",
       "\t56246241\n",
       "]"
      ]
     },
     "execution_count": 9,
     "metadata": {},
     "output_type": "execute_result"
    }
   ],
   "source": [
    "top100_list[0,1]"
   ]
  },
  {
   "cell_type": "code",
   "execution_count": 3,
   "id": "c816e93e",
   "metadata": {},
   "outputs": [
    {
     "name": "stderr",
     "output_type": "stream",
     "text": [
      "Gen last favorite items: 100%|██████████| 3000/3000 [22:00<00:00,  2.27it/s] \n",
      "Gen last viewed items: 100%|██████████| 3000/3000 [13:46<00:00,  3.63it/s] \n",
      "Gen last favorite items: 100%|██████████| 3000/3000 [12:29<00:00,  4.00it/s] \n",
      "Gen cooccur neighbors of delivered items: 100%|██████████| 33/33 [00:07<00:00,  4.23it/s]\n",
      "Gen processed items: 100%|██████████| 33/33 [00:08<00:00,  3.70it/s]\n"
     ]
    }
   ],
   "source": [
    "candidate_last_favorite_items = get_last_favorite_items(mode='submit', n=200, min_date='2025-05-07')\n",
    "last_viewed_items = get_last_viewed_items(mode='submit', n=50, min_date='2025-06-15')\n",
    "candidate_last_viewed_def_items = get_last_viewed_def_items(mode='submit', n=200, min_date='2025-06-15')\n",
    "# last_viewed_items = pl.read_parquet('candidate_cache/last_viewed_items.parquet')\n",
    "\n",
    "nn_path = glob.glob('nearest_neighbors/*.parquet')\n",
    "nn_df = pl.read_parquet(nn_path, columns=['item_id', 'neighbor_item_id', 'rank'])\n",
    "\n",
    "k_values = {\n",
    "        'item_1': 6,\n",
    "        'item_2': 3,\n",
    "        'item_3': 2,\n",
    "        # 'item_4': 10,\n",
    "        # 'item_5': 5,\n",
    "        # 'item_6': 3,\n",
    "        # 'item_7': 2,\n",
    "    }\n",
    "candidate_neighbors_of_viewed_items = get_neighbors_of_viewed_items(last_viewed_items, nn_df, k_values)\n",
    "\n",
    "cooccur_neighbors_of_all_items = pl.read_parquet('cooccurrence_neighbors.parquet')\n",
    "candidate_cooccur_neighbors = get_cooccur_neighbors_of_last_delivered_items(cooccur_neighbors_of_all_items, mode='submit', min_date='2025-06-21')\n",
    "popular_items = get_popular_items(n=400, min_date='2025-05-21')\n",
    "popular_df = pl.DataFrame({'item_id': popular_items})\n",
    "\n",
    "candidate_processed_items = get_processed_items(mode='submit', n_last=100, min_date='2025-06-15')\n"
   ]
  },
  {
   "cell_type": "code",
   "execution_count": 8,
   "id": "05717c34",
   "metadata": {},
   "outputs": [],
   "source": [
    "candidates = (candidates\n",
    "    .group_by(\"user_id\")\n",
    "    .agg([\n",
    "        pl.col(\"item_id\").head(100).alias(\"top100_items\")  # берём первые 100 item_id\n",
    "    ]).filter(pl.col('user_id').is_in(test_user_ids_set))\n",
    ")"
   ]
  },
  {
   "cell_type": "code",
   "execution_count": 3,
   "id": "c1c5c607",
   "metadata": {},
   "outputs": [],
   "source": [
    "cand = pl.read_csv('submits/candidates_before_cb.csv')"
   ]
  },
  {
   "cell_type": "code",
   "execution_count": 4,
   "id": "ed524cc1",
   "metadata": {},
   "outputs": [
    {
     "name": "stderr",
     "output_type": "stream",
     "text": [
      "Формирование submission:   0%|          | 0/188138800 [00:00<?, ?it/s]\n"
     ]
    },
    {
     "ename": "TypeError",
     "evalue": "'numpy.int64' object is not iterable",
     "output_type": "error",
     "traceback": [
      "\u001b[1;31m---------------------------------------------------------------------------\u001b[0m",
      "\u001b[1;31mTypeError\u001b[0m                                 Traceback (most recent call last)",
      "Cell \u001b[1;32mIn[4], line 4\u001b[0m\n\u001b[0;32m      2\u001b[0m popular_items \u001b[38;5;241m=\u001b[39m get_popular_items(n\u001b[38;5;241m=\u001b[39m\u001b[38;5;241m400\u001b[39m, min_date\u001b[38;5;241m=\u001b[39m\u001b[38;5;124m'\u001b[39m\u001b[38;5;124m2025-05-21\u001b[39m\u001b[38;5;124m'\u001b[39m)\n\u001b[0;32m      3\u001b[0m candidates \u001b[38;5;241m=\u001b[39m unite_candidates_exploded(dfs_to_merge, popular_items, n\u001b[38;5;241m=\u001b[39m\u001b[38;5;241m400\u001b[39m)\n\u001b[1;32m----> 4\u001b[0m \u001b[43mgen_submit\u001b[49m\u001b[43m(\u001b[49m\u001b[43mcandidates\u001b[49m\u001b[43m,\u001b[49m\u001b[43m \u001b[49m\u001b[43mname\u001b[49m\u001b[38;5;241;43m=\u001b[39;49m\u001b[38;5;124;43mf\u001b[39;49m\u001b[38;5;124;43m'\u001b[39;49m\u001b[38;5;124;43mcandidates_exploded\u001b[39;49m\u001b[38;5;124;43m'\u001b[39;49m\u001b[43m)\u001b[49m\n",
      "File \u001b[1;32md:\\it\\ozon_rec\\src\\gen_cand_utils.py:671\u001b[0m, in \u001b[0;36mgen_submit\u001b[1;34m(res_pd, name)\u001b[0m\n\u001b[0;32m    667\u001b[0m submission_data \u001b[38;5;241m=\u001b[39m []\n\u001b[0;32m    668\u001b[0m \u001b[38;5;28;01mfor\u001b[39;00m _, row \u001b[38;5;129;01min\u001b[39;00m tqdm(res_pd\u001b[38;5;241m.\u001b[39miterrows(), total\u001b[38;5;241m=\u001b[39m\u001b[38;5;28mlen\u001b[39m(res_pd), desc\u001b[38;5;241m=\u001b[39m\u001b[38;5;124m\"\u001b[39m\u001b[38;5;124mФормирование submission\u001b[39m\u001b[38;5;124m\"\u001b[39m):\n\u001b[0;32m    669\u001b[0m     submission_data\u001b[38;5;241m.\u001b[39mappend({\n\u001b[0;32m    670\u001b[0m         \u001b[38;5;124m'\u001b[39m\u001b[38;5;124muser_id\u001b[39m\u001b[38;5;124m'\u001b[39m: row[\u001b[38;5;124m'\u001b[39m\u001b[38;5;124muser_id\u001b[39m\u001b[38;5;124m'\u001b[39m],\n\u001b[1;32m--> 671\u001b[0m         \u001b[38;5;124m'\u001b[39m\u001b[38;5;124mitem_id_1 item_id_2 ... item_id_100\u001b[39m\u001b[38;5;124m'\u001b[39m: \u001b[38;5;124m'\u001b[39m\u001b[38;5;124m \u001b[39m\u001b[38;5;124m'\u001b[39m\u001b[38;5;241m.\u001b[39mjoin(\u001b[38;5;28;43mmap\u001b[39;49m\u001b[43m(\u001b[49m\u001b[38;5;28;43mstr\u001b[39;49m\u001b[43m,\u001b[49m\u001b[43m \u001b[49m\u001b[43mrow\u001b[49m\u001b[43m[\u001b[49m\u001b[38;5;124;43m'\u001b[39;49m\u001b[38;5;124;43mitem_id\u001b[39;49m\u001b[38;5;124;43m'\u001b[39;49m\u001b[43m]\u001b[49m\u001b[43m)\u001b[49m)\n\u001b[0;32m    672\u001b[0m     })\n\u001b[0;32m    673\u001b[0m submission_df \u001b[38;5;241m=\u001b[39m pd\u001b[38;5;241m.\u001b[39mDataFrame(submission_data)\n\u001b[0;32m    674\u001b[0m submission_df\u001b[38;5;241m.\u001b[39mto_csv(\u001b[38;5;124mf\u001b[39m\u001b[38;5;124m'\u001b[39m\u001b[38;5;124msubmits/\u001b[39m\u001b[38;5;132;01m{\u001b[39;00mname\u001b[38;5;132;01m}\u001b[39;00m\u001b[38;5;124m.csv\u001b[39m\u001b[38;5;124m'\u001b[39m, index\u001b[38;5;241m=\u001b[39m\u001b[38;5;28;01mFalse\u001b[39;00m)\n",
      "\u001b[1;31mTypeError\u001b[0m: 'numpy.int64' object is not iterable"
     ]
    }
   ],
   "source": [
    "dfs_to_merge = [candidate_last_favorite_items, candidate_processed_items, candidate_last_viewed_def_items, candidate_neighbors_of_viewed_items, candidate_cooccur_neighbors]\n",
    "popular_items = get_popular_items(n=400, min_date='2025-05-21')\n",
    "candidates = unite_candidates_exploded(dfs_to_merge, popular_items, n=400)\n",
    "gen_submit(candidates, name=f'candidates_exploded')"
   ]
  },
  {
   "cell_type": "code",
   "execution_count": 6,
   "id": "a48fe2c3",
   "metadata": {},
   "outputs": [],
   "source": [
    "candidates.to_parquet('candidates_exploded_v2.parquet')"
   ]
  },
  {
   "cell_type": "code",
   "execution_count": 7,
   "id": "0d9aac30",
   "metadata": {},
   "outputs": [],
   "source": [
    "candidate_last_favorite_items.write_parquet('candidate_cache/last_favotite_items.parquet')\n",
    "last_viewed_items.write_parquet('candidate_cache/last_viewed_items.parquet')\n",
    "candidate_neighbors_of_viewed_items.write_parquet('candidate_cache/neighbors_of_viewed_items.parquet')\n",
    "candidate_cooccur_neighbors.write_parquet('candidate_cache/cooccur_neighbors.parquet')\n",
    "candidate_processed_items.write_parquet('candidate_cache/processed_items.parquet')\n",
    "candidate_last_viewed_def_items.write_parquet('candidate_cache/last_viewed_def_items.parquet')"
   ]
  },
  {
   "cell_type": "code",
   "execution_count": 3,
   "id": "79dc5bcb",
   "metadata": {},
   "outputs": [],
   "source": [
    "candidate_last_favorite_items = pl.read_parquet('candidate_cache/last_favotite_items.parquet')\n",
    "last_viewed_items = pl.read_parquet('candidate_cache/last_viewed_items.parquet')\n",
    "candidate_neighbors_of_viewed_items = pl.read_parquet('candidate_cache/neighbors_of_viewed_items.parquet')\n",
    "cooccur_neighbors_of_all_items = pl.read_parquet('cooccurrence_neighbors.parquet')\n",
    "candidate_cooccur_neighbors = pl.read_parquet('candidate_cache/cooccur_neighbors.parquet')\n",
    "popular_items = pl.read_parquet('candidate_cache/popular_items.parquet')['item_id'].to_list()\n",
    "candidate_processed_items = pl.read_parquet('candidate_cache/processed_items.parquet')"
   ]
  },
  {
   "cell_type": "markdown",
   "id": "e73181ca",
   "metadata": {},
   "source": [
    "## Leave-last-N train/val split"
   ]
  },
  {
   "cell_type": "code",
   "execution_count": null,
   "id": "6097cc4b",
   "metadata": {},
   "outputs": [],
   "source": [
    "orders_df_delivered = pl.read_parquet('data/orders_df_delivered.parquet', columns=['user_id', 'item_id', 'created_timestamp'])"
   ]
  },
  {
   "cell_type": "markdown",
   "id": "5e480de6",
   "metadata": {},
   "source": [
    "Получаем время разделения на train/val - после cutoff_time пользователь совершает три покупки."
   ]
  },
  {
   "cell_type": "code",
   "execution_count": null,
   "id": "8736f419",
   "metadata": {},
   "outputs": [],
   "source": [
    "leave_last_n = 3\n",
    "\n",
    "# Получаем временные метки отсечки для каждого пользователя\n",
    "user_cutoff_time = (\n",
    "    orders_df_delivered\n",
    "    .sort(['user_id', 'created_timestamp'])\n",
    "    .group_by('user_id')\n",
    "    .agg(\n",
    "        pl.col('created_timestamp')\n",
    "        .tail(leave_last_n)  # Берем последние n заказов\n",
    "        .min()\n",
    "        .alias('cutoff_time')\n",
    "    )\n",
    ")"
   ]
  },
  {
   "cell_type": "code",
   "execution_count": null,
   "id": "6a8932e2",
   "metadata": {},
   "outputs": [],
   "source": [
    "val_n_orders = (\n",
    "    orders_df_delivered\n",
    "    .join(user_cutoff_time, on='user_id')\n",
    "    .filter(pl.col('created_timestamp') >= pl.col('cutoff_time'))\n",
    "    .sort(['user_id', 'created_timestamp'])\n",
    "    .group_by('user_id')\n",
    "    .agg(\n",
    "        pl.col('item_id')\n",
    "        .alias('item_ids')\n",
    "    )\n",
    ").to_pandas()"
   ]
  },
  {
   "cell_type": "markdown",
   "id": "15897e2f",
   "metadata": {},
   "source": [
    "## Last n favorite items"
   ]
  },
  {
   "cell_type": "markdown",
   "id": "00d6ebfd",
   "metadata": {},
   "source": [
    "### получаем"
   ]
  },
  {
   "cell_type": "code",
   "execution_count": null,
   "id": "5fa336b0",
   "metadata": {},
   "outputs": [
    {
     "name": "stderr",
     "output_type": "stream",
     "text": [
      "Processing files: 100%|██████████| 2800/2800 [00:43<00:00, 63.88it/s]\n"
     ]
    }
   ],
   "source": [
    "candidate_last_favorite_items = get_last_favorite_items(mode='train', user_cutoff_time=user_cutoff_time)"
   ]
  },
  {
   "cell_type": "code",
   "execution_count": 4,
   "id": "9dd34a7b",
   "metadata": {},
   "outputs": [],
   "source": [
    "candidate_last_favorite_items.write_parquet('candidate_cache/last_favotite_items.parquet')\n"
   ]
  },
  {
   "cell_type": "code",
   "execution_count": 9,
   "id": "c0ab7948",
   "metadata": {},
   "outputs": [],
   "source": [
    "candidate_last_favorite_items = pl.read_parquet('candidate_cache/last_favotite_items.parquet')"
   ]
  },
  {
   "cell_type": "markdown",
   "id": "d405873d",
   "metadata": {},
   "source": [
    "## Last n viewed items"
   ]
  },
  {
   "cell_type": "code",
   "execution_count": null,
   "id": "c59560d6",
   "metadata": {},
   "outputs": [
    {
     "name": "stderr",
     "output_type": "stream",
     "text": [
      "Processing files: 100%|██████████| 2800/2800 [05:22<00:00,  8.68it/s]\n"
     ]
    }
   ],
   "source": [
    "last_viewed_items = get_last_viewed_items(mode='train', n=7, user_cutoff_time=user_cutoff_time)"
   ]
  },
  {
   "cell_type": "code",
   "execution_count": 5,
   "id": "c9aaca7e",
   "metadata": {},
   "outputs": [],
   "source": [
    "last_viewed_items.write_parquet('candidate_cache/last_viewed_items.parquet')"
   ]
  },
  {
   "cell_type": "code",
   "execution_count": 13,
   "id": "b469754c",
   "metadata": {},
   "outputs": [],
   "source": [
    "last_viewed_items = pl.read_parquet('candidate_cache/last_viewed_items.parquet')"
   ]
  },
  {
   "cell_type": "markdown",
   "id": "08252c41",
   "metadata": {},
   "source": [
    "## Ищем похожие товары из просматриваемых по косинусной близости"
   ]
  },
  {
   "cell_type": "markdown",
   "id": "0d2fdc22",
   "metadata": {},
   "source": [
    "### получение"
   ]
  },
  {
   "cell_type": "code",
   "execution_count": 15,
   "id": "f8251b0d",
   "metadata": {},
   "outputs": [],
   "source": [
    "last_viewed_items = pl.read_parquet('candidate_cache/last_viewed_items.parquet')\n",
    "\n",
    "nn_path = glob.glob('nearest_neighbors/*.parquet')\n",
    "nn_df = pl.read_parquet(nn_path, columns=['item_id', 'neighbor_item_id', 'rank'])\n",
    "\n",
    "k_values = {\n",
    "        'item_1': 20,\n",
    "        'item_2': 17,\n",
    "        'item_3': 15,\n",
    "        'item_4': 10,\n",
    "        'item_5': 5,\n",
    "        'item_6': 3,\n",
    "        'item_7': 2,\n",
    "    }"
   ]
  },
  {
   "cell_type": "code",
   "execution_count": 16,
   "id": "0892e495",
   "metadata": {},
   "outputs": [],
   "source": [
    "candidate_neighbors_of_viewed_items = get_neighbors_of_viewed_items(last_viewed_items, nn_df, k_values)"
   ]
  },
  {
   "cell_type": "code",
   "execution_count": 6,
   "id": "bb172f61",
   "metadata": {},
   "outputs": [],
   "source": [
    "candidate_neighbors_of_viewed_items.write_parquet('candidate_cache/neighbors_of_viewed_items.parquet')"
   ]
  },
  {
   "cell_type": "code",
   "execution_count": 18,
   "id": "8e438e2d",
   "metadata": {},
   "outputs": [],
   "source": [
    "candidate_neighbors_of_viewed_items = pl.read_parquet('candidate_cache/neighbors_of_viewed_items.parquet')"
   ]
  },
  {
   "cell_type": "markdown",
   "id": "df6339df",
   "metadata": {},
   "source": [
    "## Получаем co-occurrence"
   ]
  },
  {
   "cell_type": "markdown",
   "id": "cc3e754e",
   "metadata": {},
   "source": [
    "### получение"
   ]
  },
  {
   "cell_type": "code",
   "execution_count": 23,
   "id": "a8436743",
   "metadata": {},
   "outputs": [],
   "source": [
    "cooccur_neighbors_of_all_items = pl.read_parquet('cooccurrence_neighbors.parquet')"
   ]
  },
  {
   "cell_type": "code",
   "execution_count": null,
   "id": "ce2765dd",
   "metadata": {},
   "outputs": [
    {
     "name": "stderr",
     "output_type": "stream",
     "text": [
      "Processing files: 100%|██████████| 33/33 [00:26<00:00,  1.26it/s]\n"
     ]
    }
   ],
   "source": [
    "candidate_cooccur_neighbors = get_cooccur_neighbors_of_last_delivered_items(cooccur_neighbors_of_all_items, mode='train', user_cutoff_time=user_cutoff_time)"
   ]
  },
  {
   "cell_type": "code",
   "execution_count": 7,
   "id": "d13e8311",
   "metadata": {},
   "outputs": [],
   "source": [
    "candidate_cooccur_neighbors.write_parquet('candidate_cache/cooccur_neighbors.parquet')"
   ]
  },
  {
   "cell_type": "code",
   "execution_count": 27,
   "id": "c38324dd",
   "metadata": {},
   "outputs": [],
   "source": [
    "candidate_cooccur_neighbors = pl.read_parquet('candidate_cache/cooccur_neighbors.parquet')"
   ]
  },
  {
   "cell_type": "markdown",
   "id": "257577da",
   "metadata": {},
   "source": [
    "## popular_items"
   ]
  },
  {
   "cell_type": "markdown",
   "id": "b2f8fabf",
   "metadata": {},
   "source": [
    "### получение"
   ]
  },
  {
   "cell_type": "code",
   "execution_count": 3,
   "id": "cf07f2df",
   "metadata": {},
   "outputs": [],
   "source": [
    "popular_items = get_popular_items(n=100)\n",
    "popular_df = pl.DataFrame({'item_id': popular_items})"
   ]
  },
  {
   "cell_type": "code",
   "execution_count": 8,
   "id": "2379abae",
   "metadata": {},
   "outputs": [],
   "source": [
    "popular_df.write_parquet('candidate_cache/popular_items.parquet')"
   ]
  },
  {
   "cell_type": "code",
   "execution_count": 5,
   "id": "49249d29",
   "metadata": {},
   "outputs": [],
   "source": [
    "popular_items = pl.read_parquet('candidate_cache/popular_items.parquet')['item_id'].to_list()"
   ]
  },
  {
   "cell_type": "markdown",
   "id": "3dec36a4",
   "metadata": {},
   "source": [
    "## status = processed_orders"
   ]
  },
  {
   "cell_type": "markdown",
   "id": "561675cc",
   "metadata": {},
   "source": [
    "### получение"
   ]
  },
  {
   "cell_type": "code",
   "execution_count": null,
   "id": "ffa8fb0f",
   "metadata": {},
   "outputs": [
    {
     "name": "stderr",
     "output_type": "stream",
     "text": [
      "Processing files: 100%|██████████| 33/33 [00:09<00:00,  3.35it/s]\n"
     ]
    }
   ],
   "source": [
    "candidate_processed_items = get_processed_items(mode='train', user_cutoff_time=user_cutoff_time)"
   ]
  },
  {
   "cell_type": "code",
   "execution_count": 9,
   "id": "498661d6",
   "metadata": {},
   "outputs": [],
   "source": [
    "candidate_processed_items.write_parquet('candidate_cache/processed_items.parquet')"
   ]
  },
  {
   "cell_type": "code",
   "execution_count": 37,
   "id": "7a8c9483",
   "metadata": {},
   "outputs": [],
   "source": [
    "candidate_processed_items = pl.read_parquet('candidate_cache/processed_items.parquet')"
   ]
  },
  {
   "cell_type": "markdown",
   "id": "4c0468fd",
   "metadata": {},
   "source": [
    "## Объединяем кандидатов. Добиваем до 200 popular items"
   ]
  },
  {
   "cell_type": "code",
   "execution_count": null,
   "id": "2963bd32",
   "metadata": {},
   "outputs": [],
   "source": [
    "# candidate_last_favorite_items = pl.read_parquet('candidate_cache/last_favotite_items.parquet')\n",
    "# candidate_neighbors_of_viewed_items = pl.read_parquet('candidate_cache/neighbors_of_viewed_items.parquet')\n",
    "# candidate_cooccur_neighbors = pl.read_parquet('candidate_cache/cooccur_neighbors.parquet')\n",
    "# candidate_processed_items = pl.read_parquet('candidate_cache/processed_items.parquet')\n",
    "# popular_items = pl.read_parquet('candidate_cache/popular_items.parquet')['item_id'].to_list()\n"
   ]
  },
  {
   "cell_type": "markdown",
   "id": "7df5a1d6",
   "metadata": {},
   "source": [
    "### объединяем"
   ]
  },
  {
   "cell_type": "code",
   "execution_count": null,
   "id": "ef402f1e",
   "metadata": {},
   "outputs": [
    {
     "ename": "NameError",
     "evalue": "name 'candidate_processed_items' is not defined",
     "output_type": "error",
     "traceback": [
      "\u001b[1;31m---------------------------------------------------------------------------\u001b[0m",
      "\u001b[1;31mNameError\u001b[0m                                 Traceback (most recent call last)",
      "Cell \u001b[1;32mIn[5], line 1\u001b[0m\n\u001b[1;32m----> 1\u001b[0m dfs_to_merge \u001b[38;5;241m=\u001b[39m [\u001b[43mcandidate_processed_items\u001b[49m, candidate_last_favorite_items, candidate_neighbors_of_viewed_items, candidate_cooccur_neighbors]\n\u001b[0;32m      3\u001b[0m candidates \u001b[38;5;241m=\u001b[39m unite_candidates(dfs_to_merge\u001b[38;5;241m=\u001b[39m[], n\u001b[38;5;241m=\u001b[39m\u001b[38;5;241m100\u001b[39m)\n",
      "\u001b[1;31mNameError\u001b[0m: name 'candidate_processed_items' is not defined"
     ]
    }
   ],
   "source": [
    "dfs_to_merge = [candidate_processed_items, candidate_last_favorite_items, candidate_neighbors_of_viewed_items, candidate_cooccur_neighbors]\n",
    "\n",
    "candidates = unite_candidates(dfs_to_merge=[], n=100)"
   ]
  }
 ],
 "metadata": {
  "kernelspec": {
   "display_name": "Python 3",
   "language": "python",
   "name": "python3"
  },
  "language_info": {
   "codemirror_mode": {
    "name": "ipython",
    "version": 3
   },
   "file_extension": ".py",
   "mimetype": "text/x-python",
   "name": "python",
   "nbconvert_exporter": "python",
   "pygments_lexer": "ipython3",
   "version": "3.13.0"
  }
 },
 "nbformat": 4,
 "nbformat_minor": 5
}
