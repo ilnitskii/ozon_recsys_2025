{
 "cells": [
  {
   "cell_type": "code",
   "execution_count": 2,
   "id": "6af2828c",
   "metadata": {},
   "outputs": [],
   "source": [
    "import glob\n",
    "import polars as pl\n",
    "import pandas as pd\n",
    "from tqdm import tqdm\n",
    "from datetime import timedelta"
   ]
  },
  {
   "cell_type": "code",
   "execution_count": 3,
   "id": "832298ec",
   "metadata": {},
   "outputs": [],
   "source": [
    "tracker_files = glob.glob('data/final_apparel_tracker_data_08_action_widget/*/*.parquet')\n",
    "order_files = glob.glob('data/final_apparel_orders_data_07/*/*.parquet')\n",
    "items_files = glob.glob('data/ml_ozon_recsys_train_final_apparel_items_data/*.parquet')\n",
    "test_user_ids = pd.read_parquet('data/ml_ozon_recsys_test.snappy.parquet')\n",
    "test_user_ids_set = set(test_user_ids['user_id'].to_list())"
   ]
  },
  {
   "cell_type": "markdown",
   "id": "8315706d",
   "metadata": {},
   "source": [
    "## Orders"
   ]
  },
  {
   "cell_type": "code",
   "execution_count": 4,
   "id": "94718c26",
   "metadata": {},
   "outputs": [
    {
     "name": "stderr",
     "output_type": "stream",
     "text": [
      "Processing files: 100%|██████████| 33/33 [00:02<00:00, 16.29it/s]\n"
     ]
    }
   ],
   "source": [
    "all_dfs = []\n",
    "for i in tqdm(range(len(order_files)), desc='Processing files'):\n",
    "    file_path = order_files[i]\n",
    "\n",
    "    df = pl.read_parquet(\n",
    "        file_path, \n",
    "        columns=['user_id', 'item_id', 'created_timestamp', 'last_status', 'last_status_timestamp']\n",
    "    ).filter(pl.col('created_timestamp') > pl.datetime(2025, 5, 21)) # from may\n",
    "    all_dfs.append(df)\n",
    "\n",
    "orders = pl.concat(all_dfs)"
   ]
  },
  {
   "cell_type": "code",
   "execution_count": 5,
   "id": "a801a4f8",
   "metadata": {},
   "outputs": [
    {
     "data": {
      "text/html": [
       "<div><style>\n",
       ".dataframe > thead > tr,\n",
       ".dataframe > tbody > tr {\n",
       "  text-align: right;\n",
       "  white-space: pre-wrap;\n",
       "}\n",
       "</style>\n",
       "<small>shape: (17, 5)</small><table border=\"1\" class=\"dataframe\"><thead><tr><th>user_id</th><th>item_id</th><th>created_timestamp</th><th>last_status</th><th>last_status_timestamp</th></tr><tr><td>i32</td><td>i32</td><td>datetime[ns]</td><td>str</td><td>datetime[ns]</td></tr></thead><tbody><tr><td>1</td><td>129629015</td><td>2025-07-12 10:20:39.330</td><td>&quot;proccesed_orders&quot;</td><td>2025-07-12 12:51:41</td></tr><tr><td>1</td><td>59149470</td><td>2025-07-12 10:20:23.433</td><td>&quot;proccesed_orders&quot;</td><td>2025-07-12 13:28:09</td></tr><tr><td>1</td><td>57175120</td><td>2025-07-13 06:38:39.506</td><td>&quot;proccesed_orders&quot;</td><td>2025-07-13 08:39:12</td></tr><tr><td>1</td><td>86451006</td><td>2025-06-02 17:46:48.806</td><td>&quot;delivered_orders&quot;</td><td>2025-06-03 15:46:09</td></tr><tr><td>1</td><td>86451006</td><td>2025-06-02 17:48:38.060</td><td>&quot;canceled_orders&quot;</td><td>2025-06-15 11:55:42</td></tr><tr><td>&hellip;</td><td>&hellip;</td><td>&hellip;</td><td>&hellip;</td><td>&hellip;</td></tr><tr><td>1</td><td>159338187</td><td>2025-06-29 05:28:08.546</td><td>&quot;canceled_orders&quot;</td><td>2025-07-01 11:15:32.830</td></tr><tr><td>1</td><td>110740487</td><td>2025-06-06 13:14:38.956</td><td>&quot;delivered_orders&quot;</td><td>2025-06-12 19:16:24</td></tr><tr><td>1</td><td>272664684</td><td>2025-06-29 05:57:23.203</td><td>&quot;delivered_orders&quot;</td><td>2025-07-01 10:15:19</td></tr><tr><td>1</td><td>276029395</td><td>2025-06-02 17:48:54.186</td><td>&quot;delivered_orders&quot;</td><td>2025-06-12 19:16:19</td></tr><tr><td>1</td><td>31100959</td><td>2025-05-24 19:56:08.896</td><td>&quot;canceled_orders&quot;</td><td>2025-05-31 11:37:33</td></tr></tbody></table></div>"
      ],
      "text/plain": [
       "shape: (17, 5)\n",
       "┌─────────┬───────────┬─────────────────────────┬──────────────────┬─────────────────────────┐\n",
       "│ user_id ┆ item_id   ┆ created_timestamp       ┆ last_status      ┆ last_status_timestamp   │\n",
       "│ ---     ┆ ---       ┆ ---                     ┆ ---              ┆ ---                     │\n",
       "│ i32     ┆ i32       ┆ datetime[ns]            ┆ str              ┆ datetime[ns]            │\n",
       "╞═════════╪═══════════╪═════════════════════════╪══════════════════╪═════════════════════════╡\n",
       "│ 1       ┆ 129629015 ┆ 2025-07-12 10:20:39.330 ┆ proccesed_orders ┆ 2025-07-12 12:51:41     │\n",
       "│ 1       ┆ 59149470  ┆ 2025-07-12 10:20:23.433 ┆ proccesed_orders ┆ 2025-07-12 13:28:09     │\n",
       "│ 1       ┆ 57175120  ┆ 2025-07-13 06:38:39.506 ┆ proccesed_orders ┆ 2025-07-13 08:39:12     │\n",
       "│ 1       ┆ 86451006  ┆ 2025-06-02 17:46:48.806 ┆ delivered_orders ┆ 2025-06-03 15:46:09     │\n",
       "│ 1       ┆ 86451006  ┆ 2025-06-02 17:48:38.060 ┆ canceled_orders  ┆ 2025-06-15 11:55:42     │\n",
       "│ …       ┆ …         ┆ …                       ┆ …                ┆ …                       │\n",
       "│ 1       ┆ 159338187 ┆ 2025-06-29 05:28:08.546 ┆ canceled_orders  ┆ 2025-07-01 11:15:32.830 │\n",
       "│ 1       ┆ 110740487 ┆ 2025-06-06 13:14:38.956 ┆ delivered_orders ┆ 2025-06-12 19:16:24     │\n",
       "│ 1       ┆ 272664684 ┆ 2025-06-29 05:57:23.203 ┆ delivered_orders ┆ 2025-07-01 10:15:19     │\n",
       "│ 1       ┆ 276029395 ┆ 2025-06-02 17:48:54.186 ┆ delivered_orders ┆ 2025-06-12 19:16:19     │\n",
       "│ 1       ┆ 31100959  ┆ 2025-05-24 19:56:08.896 ┆ canceled_orders  ┆ 2025-05-31 11:37:33     │\n",
       "└─────────┴───────────┴─────────────────────────┴──────────────────┴─────────────────────────┘"
      ]
     },
     "execution_count": 5,
     "metadata": {},
     "output_type": "execute_result"
    }
   ],
   "source": [
    "orders.filter(pl.col('user_id') == 1)"
   ]
  },
  {
   "cell_type": "code",
   "execution_count": 5,
   "id": "9e3a347d",
   "metadata": {},
   "outputs": [
    {
     "data": {
      "text/plain": [
       "datetime.datetime(2025, 7, 15, 23, 59, 59, 50000)"
      ]
     },
     "execution_count": 5,
     "metadata": {},
     "output_type": "execute_result"
    }
   ],
   "source": [
    "orders['created_timestamp'].max()"
   ]
  },
  {
   "cell_type": "code",
   "execution_count": 42,
   "id": "94ac5df9",
   "metadata": {},
   "outputs": [],
   "source": [
    "item_ids_from_may = orders['item_id'].to_list()"
   ]
  },
  {
   "cell_type": "code",
   "execution_count": null,
   "id": "9f011f40",
   "metadata": {},
   "outputs": [
    {
     "name": "stdout",
     "output_type": "stream",
     "text": [
      "Размер данных: (20362338, 5)\n",
      "\n",
      "Информация о столбцах:\n",
      "Schema({'user_id': Int32, 'item_id': Int32, 'created_timestamp': Datetime(time_unit='ns', time_zone=None), 'last_status': String, 'last_status_timestamp': Datetime(time_unit='ns', time_zone=None)})\n",
      "\n",
      "Описательная статистика:\n",
      "shape: (9, 6)\n",
      "┌────────────┬─────────────┬──────────────┬──────────────────┬──────────────────┬──────────────────┐\n",
      "│ statistic  ┆ user_id     ┆ item_id      ┆ created_timestam ┆ last_status      ┆ last_status_time │\n",
      "│ ---        ┆ ---         ┆ ---          ┆ p                ┆ ---              ┆ stamp            │\n",
      "│ str        ┆ f64         ┆ f64          ┆ ---              ┆ str              ┆ ---              │\n",
      "│            ┆             ┆              ┆ str              ┆                  ┆ str              │\n",
      "╞════════════╪═════════════╪══════════════╪══════════════════╪══════════════════╪══════════════════╡\n",
      "│ count      ┆ 2.0362338e7 ┆ 2.0362338e7  ┆ 20362338         ┆ 20362338         ┆ 20362338         │\n",
      "│ null_count ┆ 0.0         ┆ 0.0          ┆ 0                ┆ 0                ┆ 0                │\n",
      "│ mean       ┆ 2.5309e6    ┆ 1.6935e8     ┆ 2025-04-17       ┆ null             ┆ 2025-04-24       │\n",
      "│            ┆             ┆              ┆ 00:42:24.974949  ┆                  ┆ 06:22:32.086023  │\n",
      "│ std        ┆ 1.4614e6    ┆ 9.7904e7     ┆ null             ┆ null             ┆ null             │\n",
      "│ min        ┆ 1.0         ┆ 72.0         ┆ 2025-01-01       ┆ canceled_orders  ┆ 2025-01-01       │\n",
      "│            ┆             ┆              ┆ 00:00:01.406000  ┆                  ┆ 00:01:38.173000  │\n",
      "│ 25%        ┆ 1.26201e6   ┆ 8.4651034e7  ┆ 2025-03-03       ┆ null             ┆ 2025-03-11       │\n",
      "│            ┆             ┆              ┆ 18:44:33.843000  ┆                  ┆ 17:58:23         │\n",
      "│ 50%        ┆ 2.53599e6   ┆ 1.69384863e8 ┆ 2025-04-21       ┆ null             ┆ 2025-04-29       │\n",
      "│            ┆             ┆              ┆ 15:51:02.823000  ┆                  ┆ 15:55:25         │\n",
      "│ 75%        ┆ 3.79319e6   ┆ 2.53945366e8 ┆ 2025-06-02       ┆ null             ┆ 2025-06-10       │\n",
      "│            ┆             ┆              ┆ 19:26:21.169999  ┆                  ┆ 21:32:22         │\n",
      "│ max        ┆ 5.06169e6   ┆ 3.39370964e8 ┆ 2025-07-15       ┆ proccesed_orders ┆ 2025-07-16       │\n",
      "│            ┆             ┆              ┆ 23:59:59.050000  ┆                  ┆ 00:00:05         │\n",
      "└────────────┴─────────────┴──────────────┴──────────────────┴──────────────────┴──────────────────┘\n",
      "\n",
      "Анализ временных меток:\n",
      "\n",
      "created_timestamp:\n",
      "Минимальная дата: 2025-01-01 00:00:01.406000\n",
      "Максимальная дата: 2025-07-15 23:59:59.050000\n",
      "Количество пропусков: 0\n",
      "\n",
      "last_status_timestamp:\n",
      "Минимальная дата: 2025-01-01 00:01:38.173000\n",
      "Максимальная дата: 2025-07-16 00:00:05\n",
      "Количество пропусков: 0\n",
      "\n",
      "Распределение статусов:\n",
      "shape: (3, 2)\n",
      "┌──────────────────┬──────────┐\n",
      "│ last_status      ┆ count    │\n",
      "│ ---              ┆ ---      │\n",
      "│ str              ┆ u32      │\n",
      "╞══════════════════╪══════════╡\n",
      "│ proccesed_orders ┆ 1520813  │\n",
      "│ canceled_orders  ┆ 8420631  │\n",
      "│ delivered_orders ┆ 10420894 │\n",
      "└──────────────────┴──────────┘\n"
     ]
    }
   ],
   "source": [
    "# Общая информация о данных\n",
    "print(\"Размер данных:\", orders.shape)\n",
    "print(\"\\nИнформация о столбцах:\")\n",
    "print(orders.schema)\n",
    "print(\"\\nОписательная статистика:\")\n",
    "print(orders.describe())\n",
    "\n",
    "# Анализ временных меток\n",
    "print(\"\\nАнализ временных меток:\")\n",
    "for col in ['created_timestamp', 'last_status_timestamp']:\n",
    "    print(f\"\\n{col}:\")\n",
    "    print(\"Минимальная дата:\", orders[col].min())\n",
    "    print(\"Максимальная дата:\", orders[col].max())\n",
    "    print(\"Количество пропусков:\", orders[col].null_count())\n",
    "\n",
    "# Анализ статусов\n",
    "print(\"\\nРаспределение статусов:\")\n",
    "print(orders['last_status'].value_counts())"
   ]
  },
  {
   "cell_type": "code",
   "execution_count": null,
   "id": "7abf0f02",
   "metadata": {},
   "outputs": [
    {
     "name": "stdout",
     "output_type": "stream",
     "text": [
      "Количество товаров с изменением статуса: 350086\n"
     ]
    }
   ],
   "source": [
    "status_changes = (\n",
    "    orders\n",
    "    .group_by(['user_id', 'item_id'])\n",
    "    .agg([\n",
    "        pl.col('last_status').unique().alias('unique_statuses')\n",
    "    ])\n",
    "    .filter(\n",
    "        pl.col('unique_statuses').list.contains('canceled_orders') &\n",
    "        (pl.col('unique_statuses').list.contains('delivered_orders') | \n",
    "         pl.col('unique_statuses').list.contains('proccesed_orders'))\n",
    "    )\n",
    ")\n",
    "\n",
    "print(\"Количество товаров с изменением статуса:\", status_changes.height)"
   ]
  },
  {
   "cell_type": "code",
   "execution_count": null,
   "id": "bcc08e2c",
   "metadata": {},
   "outputs": [
    {
     "name": "stdout",
     "output_type": "stream",
     "text": [
      "Найдено пар user-item с изменением статуса: 350086\n",
      "\n",
      "Первые 10 пар user_id + item_id:\n",
      "1. User: 634421, Item: 153150280, Статусы: ['canceled_orders', 'delivered_orders']\n",
      "2. User: 3758341, Item: 307165772, Статусы: ['canceled_orders', 'delivered_orders']\n",
      "3. User: 2721471, Item: 48130003, Статусы: ['canceled_orders', 'proccesed_orders']\n",
      "4. User: 4617841, Item: 197659645, Статусы: ['canceled_orders', 'delivered_orders']\n",
      "5. User: 6070, Item: 275527247, Статусы: ['delivered_orders', 'canceled_orders']\n",
      "6. User: 1969150, Item: 282101440, Статусы: ['delivered_orders', 'canceled_orders']\n",
      "7. User: 155641, Item: 198128712, Статусы: ['proccesed_orders', 'canceled_orders']\n",
      "8. User: 3614100, Item: 134537210, Статусы: ['delivered_orders', 'canceled_orders']\n",
      "9. User: 1748731, Item: 240052276, Статусы: ['delivered_orders', 'canceled_orders']\n",
      "10. User: 2969051, Item: 166045999, Статусы: ['delivered_orders', 'canceled_orders']\n"
     ]
    }
   ],
   "source": [
    "# Простой поиск пар user_id + item_id с обоими статусами\n",
    "simple_examples = (\n",
    "    orders\n",
    "    .filter(pl.col('last_status').is_in(['delivered_orders', 'proccesed_orders', 'canceled_orders']))\n",
    "    .group_by(['user_id', 'item_id'])\n",
    "    .agg([\n",
    "        pl.col('last_status').unique().alias('unique_statuses')\n",
    "    ])\n",
    "    .filter(\n",
    "        pl.col('unique_statuses').list.contains('canceled_orders') &\n",
    "        (pl.col('unique_statuses').list.contains('delivered_orders') | \n",
    "         pl.col('unique_statuses').list.contains('proccesed_orders'))\n",
    "    )\n",
    ")\n",
    "\n",
    "print(\"Найдено пар user-item с изменением статуса:\", simple_examples.height)\n",
    "\n",
    "# Показываем конкретные пары\n",
    "if simple_examples.height > 0:\n",
    "    print(\"\\nПервые 10 пар user_id + item_id:\")\n",
    "    for i, row in enumerate(simple_examples.head(10).iter_rows(named=True)):\n",
    "        print(f\"{i+1}. User: {row['user_id']}, Item: {row['item_id']}, Статусы: {row['unique_statuses']}\")"
   ]
  },
  {
   "cell_type": "code",
   "execution_count": 5,
   "id": "3842d5d8",
   "metadata": {},
   "outputs": [
    {
     "name": "stdout",
     "output_type": "stream",
     "text": [
      "Количество случаев с последовательностью ['canceled_orders', 'delivered_orders']: 34618\n"
     ]
    }
   ],
   "source": [
    "canceled_then_delivered = (\n",
    "    orders\n",
    "    .sort(['user_id', 'item_id', 'created_timestamp'])\n",
    "    .group_by(['user_id', 'item_id'])\n",
    "    .agg([\n",
    "        pl.col('last_status').alias('status_sequence'),\n",
    "        pl.col('created_timestamp').alias('timestamps'),\n",
    "        pl.col('last_status').first().alias('first_status'),\n",
    "        pl.col('last_status').last().alias('last_status')\n",
    "    ])\n",
    "    .filter(\n",
    "        (pl.col('first_status') == 'delivered_orders') &\n",
    "        (pl.col('last_status') == 'canceled_orders')\n",
    "    )\n",
    ")\n",
    "\n",
    "print(\"Количество случаев с последовательностью ['canceled_orders', 'delivered_orders']:\", canceled_then_delivered.height)"
   ]
  },
  {
   "cell_type": "code",
   "execution_count": null,
   "id": "aacdfbfe",
   "metadata": {},
   "outputs": [
    {
     "data": {
      "text/html": [
       "<div><style>\n",
       ".dataframe > thead > tr,\n",
       ".dataframe > tbody > tr {\n",
       "  text-align: right;\n",
       "  white-space: pre-wrap;\n",
       "}\n",
       "</style>\n",
       "<small>shape: (15, 5)</small><table border=\"1\" class=\"dataframe\"><thead><tr><th>user_id</th><th>item_id</th><th>created_timestamp</th><th>last_status</th><th>last_status_timestamp</th></tr><tr><td>i32</td><td>i32</td><td>datetime[ns]</td><td>str</td><td>datetime[ns]</td></tr></thead><tbody><tr><td>634421</td><td>289958675</td><td>2025-01-05 13:46:36.086</td><td>&quot;delivered_orders&quot;</td><td>2025-02-09 16:14:02.617</td></tr><tr><td>634421</td><td>313204882</td><td>2025-01-09 10:34:24.950</td><td>&quot;delivered_orders&quot;</td><td>2025-01-30 15:25:48.210</td></tr><tr><td>634421</td><td>289803477</td><td>2025-01-09 10:34:24.950</td><td>&quot;delivered_orders&quot;</td><td>2025-02-02 11:15:22.623</td></tr><tr><td>634421</td><td>259460427</td><td>2025-01-05 13:37:55.413</td><td>&quot;canceled_orders&quot;</td><td>2025-01-05 13:39:27.130</td></tr><tr><td>634421</td><td>10594724</td><td>2025-01-04 15:13:44.930</td><td>&quot;delivered_orders&quot;</td><td>2025-01-20 17:42:14.513</td></tr><tr><td>&hellip;</td><td>&hellip;</td><td>&hellip;</td><td>&hellip;</td><td>&hellip;</td></tr><tr><td>634421</td><td>133696227</td><td>2025-01-05 13:37:55.413</td><td>&quot;canceled_orders&quot;</td><td>2025-01-05 13:39:27.130</td></tr><tr><td>634421</td><td>153150280</td><td>2025-01-05 13:45:09.506</td><td>&quot;delivered_orders&quot;</td><td>2025-01-23 15:43:15.060</td></tr><tr><td>634421</td><td>153150280</td><td>2025-01-05 13:37:55.413</td><td>&quot;canceled_orders&quot;</td><td>2025-01-05 13:39:27.130</td></tr><tr><td>634421</td><td>220447297</td><td>2025-06-25 07:57:02.280</td><td>&quot;proccesed_orders&quot;</td><td>2025-06-26 05:29:38</td></tr><tr><td>634421</td><td>105008576</td><td>2025-06-11 19:33:37.780</td><td>&quot;proccesed_orders&quot;</td><td>2025-06-12 00:04:45</td></tr></tbody></table></div>"
      ],
      "text/plain": [
       "shape: (15, 5)\n",
       "┌─────────┬───────────┬─────────────────────────┬──────────────────┬─────────────────────────┐\n",
       "│ user_id ┆ item_id   ┆ created_timestamp       ┆ last_status      ┆ last_status_timestamp   │\n",
       "│ ---     ┆ ---       ┆ ---                     ┆ ---              ┆ ---                     │\n",
       "│ i32     ┆ i32       ┆ datetime[ns]            ┆ str              ┆ datetime[ns]            │\n",
       "╞═════════╪═══════════╪═════════════════════════╪══════════════════╪═════════════════════════╡\n",
       "│ 634421  ┆ 289958675 ┆ 2025-01-05 13:46:36.086 ┆ delivered_orders ┆ 2025-02-09 16:14:02.617 │\n",
       "│ 634421  ┆ 313204882 ┆ 2025-01-09 10:34:24.950 ┆ delivered_orders ┆ 2025-01-30 15:25:48.210 │\n",
       "│ 634421  ┆ 289803477 ┆ 2025-01-09 10:34:24.950 ┆ delivered_orders ┆ 2025-02-02 11:15:22.623 │\n",
       "│ 634421  ┆ 259460427 ┆ 2025-01-05 13:37:55.413 ┆ canceled_orders  ┆ 2025-01-05 13:39:27.130 │\n",
       "│ 634421  ┆ 10594724  ┆ 2025-01-04 15:13:44.930 ┆ delivered_orders ┆ 2025-01-20 17:42:14.513 │\n",
       "│ …       ┆ …         ┆ …                       ┆ …                ┆ …                       │\n",
       "│ 634421  ┆ 133696227 ┆ 2025-01-05 13:37:55.413 ┆ canceled_orders  ┆ 2025-01-05 13:39:27.130 │\n",
       "│ 634421  ┆ 153150280 ┆ 2025-01-05 13:45:09.506 ┆ delivered_orders ┆ 2025-01-23 15:43:15.060 │\n",
       "│ 634421  ┆ 153150280 ┆ 2025-01-05 13:37:55.413 ┆ canceled_orders  ┆ 2025-01-05 13:39:27.130 │\n",
       "│ 634421  ┆ 220447297 ┆ 2025-06-25 07:57:02.280 ┆ proccesed_orders ┆ 2025-06-26 05:29:38     │\n",
       "│ 634421  ┆ 105008576 ┆ 2025-06-11 19:33:37.780 ┆ proccesed_orders ┆ 2025-06-12 00:04:45     │\n",
       "└─────────┴───────────┴─────────────────────────┴──────────────────┴─────────────────────────┘"
      ]
     },
     "metadata": {},
     "output_type": "display_data"
    }
   ],
   "source": [
    "orders.filter(pl.col('user_id') == 634421)"
   ]
  },
  {
   "cell_type": "code",
   "execution_count": null,
   "id": "2a7afc7b",
   "metadata": {},
   "outputs": [
    {
     "data": {
      "text/html": [
       "<div><style>\n",
       ".dataframe > thead > tr,\n",
       ".dataframe > tbody > tr {\n",
       "  text-align: right;\n",
       "  white-space: pre-wrap;\n",
       "}\n",
       "</style>\n",
       "<small>shape: (2, 5)</small><table border=\"1\" class=\"dataframe\"><thead><tr><th>user_id</th><th>item_id</th><th>created_timestamp</th><th>last_status</th><th>last_status_timestamp</th></tr><tr><td>i32</td><td>i32</td><td>datetime[ns]</td><td>str</td><td>datetime[ns]</td></tr></thead><tbody><tr><td>1748731</td><td>240052276</td><td>2025-06-10 07:34:37.030</td><td>&quot;canceled_orders&quot;</td><td>2025-06-14 05:43:38</td></tr><tr><td>1748731</td><td>240052276</td><td>2025-06-10 01:56:20.003</td><td>&quot;delivered_orders&quot;</td><td>2025-06-12 19:24:22</td></tr></tbody></table></div>"
      ],
      "text/plain": [
       "shape: (2, 5)\n",
       "┌─────────┬───────────┬─────────────────────────┬──────────────────┬───────────────────────┐\n",
       "│ user_id ┆ item_id   ┆ created_timestamp       ┆ last_status      ┆ last_status_timestamp │\n",
       "│ ---     ┆ ---       ┆ ---                     ┆ ---              ┆ ---                   │\n",
       "│ i32     ┆ i32       ┆ datetime[ns]            ┆ str              ┆ datetime[ns]          │\n",
       "╞═════════╪═══════════╪═════════════════════════╪══════════════════╪═══════════════════════╡\n",
       "│ 1748731 ┆ 240052276 ┆ 2025-06-10 07:34:37.030 ┆ canceled_orders  ┆ 2025-06-14 05:43:38   │\n",
       "│ 1748731 ┆ 240052276 ┆ 2025-06-10 01:56:20.003 ┆ delivered_orders ┆ 2025-06-12 19:24:22   │\n",
       "└─────────┴───────────┴─────────────────────────┴──────────────────┴───────────────────────┘"
      ]
     },
     "metadata": {},
     "output_type": "display_data"
    }
   ],
   "source": [
    "orders.filter((pl.col('user_id') == 1748731) & (pl.col('item_id') == 240052276))"
   ]
  },
  {
   "cell_type": "code",
   "execution_count": null,
   "id": "795015bf",
   "metadata": {},
   "outputs": [
    {
     "data": {
      "text/html": [
       "<div><style>\n",
       ".dataframe > thead > tr,\n",
       ".dataframe > tbody > tr {\n",
       "  text-align: right;\n",
       "  white-space: pre-wrap;\n",
       "}\n",
       "</style>\n",
       "<small>shape: (2, 5)</small><table border=\"1\" class=\"dataframe\"><thead><tr><th>user_id</th><th>item_id</th><th>created_timestamp</th><th>last_status</th><th>last_status_timestamp</th></tr><tr><td>i32</td><td>i32</td><td>datetime[ns]</td><td>str</td><td>datetime[ns]</td></tr></thead><tbody><tr><td>6070</td><td>275527247</td><td>2025-01-25 17:37:24.863</td><td>&quot;canceled_orders&quot;</td><td>2025-01-25 17:40:55.377</td></tr><tr><td>6070</td><td>275527247</td><td>2025-01-25 17:43:57.740</td><td>&quot;delivered_orders&quot;</td><td>2025-02-01 12:10:44</td></tr></tbody></table></div>"
      ],
      "text/plain": [
       "shape: (2, 5)\n",
       "┌─────────┬───────────┬─────────────────────────┬──────────────────┬─────────────────────────┐\n",
       "│ user_id ┆ item_id   ┆ created_timestamp       ┆ last_status      ┆ last_status_timestamp   │\n",
       "│ ---     ┆ ---       ┆ ---                     ┆ ---              ┆ ---                     │\n",
       "│ i32     ┆ i32       ┆ datetime[ns]            ┆ str              ┆ datetime[ns]            │\n",
       "╞═════════╪═══════════╪═════════════════════════╪══════════════════╪═════════════════════════╡\n",
       "│ 6070    ┆ 275527247 ┆ 2025-01-25 17:37:24.863 ┆ canceled_orders  ┆ 2025-01-25 17:40:55.377 │\n",
       "│ 6070    ┆ 275527247 ┆ 2025-01-25 17:43:57.740 ┆ delivered_orders ┆ 2025-02-01 12:10:44     │\n",
       "└─────────┴───────────┴─────────────────────────┴──────────────────┴─────────────────────────┘"
      ]
     },
     "metadata": {},
     "output_type": "display_data"
    }
   ],
   "source": [
    "orders.filter((pl.col('user_id') == 6070) & (pl.col('item_id') == 275527247))"
   ]
  },
  {
   "cell_type": "code",
   "execution_count": 6,
   "id": "6a8a0422",
   "metadata": {},
   "outputs": [
    {
     "name": "stdout",
     "output_type": "stream",
     "text": [
      "Доля заказов за последние две недели: 7.24%\n",
      "Уникальных пользователей за последние две недели: 346759\n"
     ]
    }
   ],
   "source": [
    "max_date = orders['created_timestamp'].max()\n",
    "\n",
    "# Вычисляем границу двухнедельного периода\n",
    "two_weeks_ago = max_date - timedelta(days=14)\n",
    "\n",
    "# Заказы за последние две недели\n",
    "recent_orders = orders.filter(pl.col('created_timestamp') >= two_weeks_ago)\n",
    "\n",
    "# Расчет показателей\n",
    "total_orders = orders.height\n",
    "total_recent_orders = recent_orders.height\n",
    "unique_recent_users = recent_orders['user_id'].n_unique()\n",
    "\n",
    "print(f\"Доля заказов за последние две недели: {total_recent_orders/total_orders:.2%}\")\n",
    "print(f\"Уникальных пользователей за последние две недели: {unique_recent_users}\")"
   ]
  },
  {
   "cell_type": "code",
   "execution_count": 9,
   "id": "674d83ee",
   "metadata": {},
   "outputs": [
    {
     "name": "stdout",
     "output_type": "stream",
     "text": [
      "Доля заказов за последние две недели: 32.55%\n",
      "Уникальных пользователей за последние две недели: 635813\n"
     ]
    }
   ],
   "source": [
    "max_date = orders['created_timestamp'].max()\n",
    "\n",
    "# Вычисляем границу двухнедельного периода\n",
    "delta = max_date - timedelta(days=55)\n",
    "\n",
    "# Заказы за последние две недели\n",
    "recent_orders = orders.filter(pl.col('created_timestamp') >= delta)\n",
    "\n",
    "# Расчет показателей\n",
    "total_orders = orders.height\n",
    "total_recent_orders = recent_orders.height\n",
    "unique_recent_users = recent_orders['user_id'].n_unique()\n",
    "\n",
    "print(f\"Доля заказов за последние две недели: {total_recent_orders/total_orders:.2%}\")\n",
    "print(f\"Уникальных пользователей за последние две недели: {unique_recent_users}\")"
   ]
  },
  {
   "cell_type": "markdown",
   "id": "f9180e5a",
   "metadata": {},
   "source": [
    "Учитывая сезонность и климат, логично учитывать тренды покупки товаров с 22 мая."
   ]
  },
  {
   "cell_type": "markdown",
   "id": "d8faab2e",
   "metadata": {},
   "source": [
    "## Items"
   ]
  },
  {
   "cell_type": "code",
   "execution_count": 11,
   "id": "bb64891d",
   "metadata": {},
   "outputs": [],
   "source": [
    "items = pl.read_parquet(\n",
    "    items_files,\n",
    "    columns=[\"item_id\", \"itemname\"]  # Указываем только нужные столбцы\n",
    ")"
   ]
  },
  {
   "cell_type": "code",
   "execution_count": 31,
   "id": "d3f5087b",
   "metadata": {},
   "outputs": [],
   "source": [
    "items_1 = pl.read_parquet(items_files[0])"
   ]
  },
  {
   "cell_type": "code",
   "execution_count": 43,
   "id": "95ef93d8",
   "metadata": {},
   "outputs": [
    {
     "data": {
      "text/html": [
       "<div><style>\n",
       ".dataframe > thead > tr,\n",
       ".dataframe > tbody > tr {\n",
       "  text-align: right;\n",
       "  white-space: pre-wrap;\n",
       "}\n",
       "</style>\n",
       "<small>shape: (64_280, 7)</small><table border=\"1\" class=\"dataframe\"><thead><tr><th>item_id</th><th>itemname</th><th>attributes</th><th>fclip_embed</th><th>catalogid</th><th>variant_id</th><th>model_id</th></tr><tr><td>i32</td><td>str</td><td>list[struct[4]]</td><td>list[f32]</td><td>i64</td><td>i32</td><td>i32</td></tr></thead><tbody><tr><td>400301</td><td>&quot;Очки солнцезащитные&quot;</td><td>[{&quot;Type&quot;,&quot;Очки солнцезащитные&quot;,false,true}, {&quot;Brand&quot;,&quot;Нет бренда&quot;,false,true}, … {&quot;ColorBase_Forfilter&quot;,&quot;Розовый&quot;,false,false}]</td><td>[0.320239, 0.117663, … 0.038868]</td><td>17080</td><td>243954236</td><td>33306429</td></tr><tr><td>678602</td><td>&quot;Футболка GOLDUSTIM Футболка же…</td><td>[{&quot;Type&quot;,&quot;Футболка&quot;,false,true}, {&quot;Brand&quot;,&quot;GOLDUSTIM&quot;,false,true}, … {&quot;ColorBase_Forfilter&quot;,&quot;Розовый&quot;,false,false}]</td><td>[0.436009, 0.633967, … -0.176413]</td><td>7508</td><td>8039633</td><td>27057398</td></tr><tr><td>746401</td><td>&quot;Худи Patagonia&quot;</td><td>[{&quot;Type&quot;,&quot;Худи&quot;,false,true}, {&quot;Brand&quot;,&quot;Patagonia&quot;,false,true}, … {&quot;ColorBase_Forfilter&quot;,&quot;Серый&quot;,false,false}]</td><td>[0.474528, -0.47278, … 0.553977]</td><td>7555</td><td>120078071</td><td>11645051</td></tr><tr><td>872829</td><td>&quot;Комплект носков adidas 3S C Sp…</td><td>[{&quot;Type&quot;,&quot;Комплект носков&quot;,false,true}, {&quot;Brand&quot;,&quot;adidas&quot;,false,true}, … {&quot;ColorBase_Forfilter&quot;,&quot;Белый&quot;,false,false}]</td><td>[-0.069872, -2.280283, … 0.19949]</td><td>36563</td><td>247120069</td><td>38088455</td></tr><tr><td>893255</td><td>&quot;Жилет Buy &amp; Style жилеты&quot;</td><td>[{&quot;Type&quot;,&quot;Жилет&quot;,false,true}, {&quot;Brand&quot;,&quot;Buy &amp; Style&quot;,false,true}, … {&quot;ColorBase_Forfilter&quot;,&quot;Черный&quot;,false,false}]</td><td>[0.124888, 0.546629, … 0.108914]</td><td>7535</td><td>327822613</td><td>19339929</td></tr><tr><td>&hellip;</td><td>&hellip;</td><td>&hellip;</td><td>&hellip;</td><td>&hellip;</td><td>&hellip;</td><td>&hellip;</td></tr><tr><td>338030820</td><td>&quot;Комплект одежды EMBERENS&quot;</td><td>[{&quot;Type&quot;,&quot;Комплект одежды&quot;,false,true}, {&quot;Brand&quot;,&quot;EMBERENS&quot;,false,true}, … {&quot;ColorBase_Forfilter&quot;,&quot;Серый&quot;,false,false}]</td><td>[0.662005, -0.307679, … -0.079549]</td><td>7536</td><td>252544130</td><td>16863152</td></tr><tr><td>338096201</td><td>&quot;Футболка Разное&quot;</td><td>[{&quot;Type&quot;,&quot;Футболка&quot;,false,true}, {&quot;Brand&quot;,&quot;Нет бренда&quot;,false,true}, … {&quot;ColorBase_Forfilter&quot;,&quot;Черный&quot;,false,false}]</td><td>[-0.664809, -0.895367, … -0.513037]</td><td>7508</td><td>290553419</td><td>31414259</td></tr><tr><td>338153876</td><td>&quot;Футболка Frutto Rosso однотонн…</td><td>[{&quot;Type&quot;,&quot;Футболка&quot;,false,true}, {&quot;Brand&quot;,&quot;Frutto Rosso&quot;,false,true}, … {&quot;ColorBase_Forfilter&quot;,&quot;Бежевый&quot;,false,false}]</td><td>[0.202864, 0.494631, … -0.388542]</td><td>7508</td><td>148237041</td><td>37736429</td></tr><tr><td>338170502</td><td>&quot;Бейсболка Головные уборы&quot;</td><td>[{&quot;Type&quot;,&quot;Бейсболка&quot;,false,true}, {&quot;Brand&quot;,&quot;Нет бренда&quot;,false,true}, … {&quot;ColorBase_Forfilter&quot;,&quot;Бежевый&quot;,false,false}]</td><td>[-0.242451, -0.182588, … 0.489849]</td><td>38210</td><td>148525403</td><td>18155361</td></tr><tr><td>338705244</td><td>&quot;Обложка для студенческого биле…</td><td>[{&quot;Type&quot;,&quot;Обложка для документов&quot;,false,true}, {&quot;Brand&quot;,&quot;Flexpocket&quot;,false,true}, … {&quot;ColorBase_Forfilter&quot;,&quot;Черный&quot;,false,false}]</td><td>[0.880563, -1.488663, … 0.330825]</td><td>17058</td><td>256223797</td><td>19331281</td></tr></tbody></table></div>"
      ],
      "text/plain": [
       "shape: (64_280, 7)\n",
       "┌───────────┬────────────────┬────────────────┬────────────────┬───────────┬────────────┬──────────┐\n",
       "│ item_id   ┆ itemname       ┆ attributes     ┆ fclip_embed    ┆ catalogid ┆ variant_id ┆ model_id │\n",
       "│ ---       ┆ ---            ┆ ---            ┆ ---            ┆ ---       ┆ ---        ┆ ---      │\n",
       "│ i32       ┆ str            ┆ list[struct[4] ┆ list[f32]      ┆ i64       ┆ i32        ┆ i32      │\n",
       "│           ┆                ┆ ]              ┆                ┆           ┆            ┆          │\n",
       "╞═══════════╪════════════════╪════════════════╪════════════════╪═══════════╪════════════╪══════════╡\n",
       "│ 400301    ┆ Очки           ┆ [{\"Type\",\"Очки ┆ [0.320239,     ┆ 17080     ┆ 243954236  ┆ 33306429 │\n",
       "│           ┆ солнцезащитные ┆ солнцезащитные ┆ 0.117663, …    ┆           ┆            ┆          │\n",
       "│           ┆                ┆ \"…             ┆ 0.03886…       ┆           ┆            ┆          │\n",
       "│ 678602    ┆ Футболка       ┆ [{\"Type\",\"Футб ┆ [0.436009,     ┆ 7508      ┆ 8039633    ┆ 27057398 │\n",
       "│           ┆ GOLDUSTIM      ┆ олка\",false,tr ┆ 0.633967, …    ┆           ┆            ┆          │\n",
       "│           ┆ Футболка же…   ┆ ue…            ┆ -0.1764…       ┆           ┆            ┆          │\n",
       "│ 746401    ┆ Худи Patagonia ┆ [{\"Type\",\"Худи ┆ [0.474528,     ┆ 7555      ┆ 120078071  ┆ 11645051 │\n",
       "│           ┆                ┆ \",false,true}, ┆ -0.47278, …    ┆           ┆            ┆          │\n",
       "│           ┆                ┆ {…             ┆ 0.55397…       ┆           ┆            ┆          │\n",
       "│ 872829    ┆ Комплект       ┆ [{\"Type\",\"Комп ┆ [-0.069872,    ┆ 36563     ┆ 247120069  ┆ 38088455 │\n",
       "│           ┆ носков adidas  ┆ лект           ┆ -2.280283, …   ┆           ┆            ┆          │\n",
       "│           ┆ 3S C Sp…       ┆ носков\",fal…   ┆ 0.199…         ┆           ┆            ┆          │\n",
       "│ 893255    ┆ Жилет Buy &    ┆ [{\"Type\",\"Жиле ┆ [0.124888,     ┆ 7535      ┆ 327822613  ┆ 19339929 │\n",
       "│           ┆ Style жилеты   ┆ т\",false,true} ┆ 0.546629, …    ┆           ┆            ┆          │\n",
       "│           ┆                ┆ , …            ┆ 0.10891…       ┆           ┆            ┆          │\n",
       "│ …         ┆ …              ┆ …              ┆ …              ┆ …         ┆ …          ┆ …        │\n",
       "│ 338030820 ┆ Комплект       ┆ [{\"Type\",\"Комп ┆ [0.662005,     ┆ 7536      ┆ 252544130  ┆ 16863152 │\n",
       "│           ┆ одежды         ┆ лект           ┆ -0.307679, …   ┆           ┆            ┆          │\n",
       "│           ┆ EMBERENS       ┆ одежды\",fal…   ┆ -0.079…        ┆           ┆            ┆          │\n",
       "│ 338096201 ┆ Футболка       ┆ [{\"Type\",\"Футб ┆ [-0.664809,    ┆ 7508      ┆ 290553419  ┆ 31414259 │\n",
       "│           ┆ Разное         ┆ олка\",false,tr ┆ -0.895367, …   ┆           ┆            ┆          │\n",
       "│           ┆                ┆ ue…            ┆ -0.51…         ┆           ┆            ┆          │\n",
       "│ 338153876 ┆ Футболка       ┆ [{\"Type\",\"Футб ┆ [0.202864,     ┆ 7508      ┆ 148237041  ┆ 37736429 │\n",
       "│           ┆ Frutto Rosso   ┆ олка\",false,tr ┆ 0.494631, …    ┆           ┆            ┆          │\n",
       "│           ┆ однотонн…      ┆ ue…            ┆ -0.3885…       ┆           ┆            ┆          │\n",
       "│ 338170502 ┆ Бейсболка      ┆ [{\"Type\",\"Бейс ┆ [-0.242451,    ┆ 38210     ┆ 148525403  ┆ 18155361 │\n",
       "│           ┆ Головные уборы ┆ болка\",false,t ┆ -0.182588, …   ┆           ┆            ┆          │\n",
       "│           ┆                ┆ ru…            ┆ 0.489…         ┆           ┆            ┆          │\n",
       "│ 338705244 ┆ Обложка для    ┆ [{\"Type\",\"Обло ┆ [0.880563,     ┆ 17058     ┆ 256223797  ┆ 19331281 │\n",
       "│           ┆ студенческого  ┆ жка для        ┆ -1.488663, …   ┆           ┆            ┆          │\n",
       "│           ┆ биле…          ┆ документ…      ┆ 0.3308…        ┆           ┆            ┆          │\n",
       "└───────────┴────────────────┴────────────────┴────────────────┴───────────┴────────────┴──────────┘"
      ]
     },
     "execution_count": 43,
     "metadata": {},
     "output_type": "execute_result"
    }
   ],
   "source": [
    "items_1"
   ]
  },
  {
   "cell_type": "code",
   "execution_count": 37,
   "id": "2b320ce8",
   "metadata": {},
   "outputs": [
    {
     "data": {
      "text/html": [
       "<div><style>\n",
       ".dataframe > thead > tr,\n",
       ".dataframe > tbody > tr {\n",
       "  text-align: right;\n",
       "  white-space: pre-wrap;\n",
       "}\n",
       "</style>\n",
       "<small>shape: (16,)</small><table border=\"1\" class=\"dataframe\"><thead><tr><th></th></tr><tr><td>struct[4]</td></tr></thead><tbody><tr><td>{&quot;Type&quot;,&quot;Футболка&quot;,false,true}</td></tr><tr><td>{&quot;Brand&quot;,&quot;Нет бренда&quot;,false,true}</td></tr><tr><td>{&quot;Annotation&quot;,&quot;Футболка унисекс (мужская и женская) белая фильмы Лицехват (Чужой, Alien, Ностальгия, 90-ые, horror, Гигер) - 38219\n",
       "\n",
       "Футболка - это неотъемлемая часть гардероба: универсальная, практичная, стильная, сочетается с любой вещью.&lt;br&gt;\n",
       "Классический силуэт одновременно удобен в движении, так как достаточно свободен, но в то же время нигде ничего не топорщится и футболка смотрится аккуратно.&lt;br&gt;\n",
       "Трикотаж футболки изготовлен из полиэфирной пряжи по структуре и свойствам максимально похожей на хлопок, что позволяет коже дышать и делает ткань приятной к телу. При этом материал очень быстро сохнет и не мнется - что делает футболку универсальной для повседневной носки и спорта.&lt;br&gt;\n",
       "Печать принта осуществляется методом сублимации (прямой перенос краски на ткань), что делает принт долговечным.&lt;br&gt;\n",
       "&lt;br&gt;\n",
       "Уход:&lt;br&gt;\n",
       "Стирать при температуре не выше 40 градусов.&lt;br&gt;\n",
       "Гладить при температуре не выше 110 градусов.&lt;br&gt;\n",
       "Не использовать отбеливатель&lt;br&gt;\n",
       "&lt;br&gt;\n",
       "Детали:&lt;br&gt;\n",
       "Футболка имеет круглый вырез горловины, длина до линии бедер&lt;br&gt;\n",
       "&lt;br&gt;\n",
       "Тип нанесения:&lt;br&gt;\n",
       "Сублимация на ткани&lt;br&gt;&quot;,false,true}</td></tr><tr><td>{&quot;ColorBase&quot;,&quot;белый&quot;,true,true}</td></tr><tr><td>{&quot;ColorName&quot;,&quot;Футболка унисекс (мужская и женская) белая фильмы Лицехват (Чужой, Alien, Ностальгия, 90-ые, horror, Гигер) - 38219&quot;,true,true}</td></tr><tr><td>&hellip;</td></tr><tr><td>{&quot;Composition&quot;,&quot;50% Хлопок;50% Полиэстер&quot;,false,true}</td></tr><tr><td>{&quot;Season&quot;,&quot;На любой сезон&quot;,false,true}</td></tr><tr><td>{&quot;FilterSizeINT&quot;,&quot;XXL&quot;,false,false}</td></tr><tr><td>{&quot;Name&quot;,&quot;Футболка унисекс (мужская и женская) белая фильмы Лицехват (Чужой, Alien, Ностальгия, 90-ые, horror, Гигер) - 38219&quot;,false,false}</td></tr><tr><td>{&quot;ColorBase_Forfilter&quot;,&quot;Белый&quot;,false,false}</td></tr></tbody></table></div>"
      ],
      "text/plain": [
       "shape: (16,)\n",
       "Series: '' [struct[4]]\n",
       "[\n",
       "\t{\"Type\",\"Футболка\",false,true}\n",
       "\t{\"Brand\",\"Нет бренда\",false,true}\n",
       "\t{\"Annotation\",\"Футболка унисекс (мужская и женская) белая фильмы Лицехват (Чужой, Alien, Ностальгия, 90-ые, horror, Гигер) - 38219\n",
       "\n",
       "Футболка - это неотъемлемая часть гардероба: универсальная, практичная, стильная, сочетается с любой вещью.<br>\n",
       "Классический силуэт одновременно удобен в движении, так как достаточно свободен, но в то же время нигде ничего не топорщится и футболка смотрится аккуратно.<br>\n",
       "Трикотаж футболки изготовлен из полиэфирной пряжи по структуре и свойствам максимально похожей на хлопок, что позволяет коже дышать и делает ткань приятной к телу. При этом материал очень быстро сохнет и не мнется - что делает футболку универсальной для повседневной носки и спорта.<br>\n",
       "Печать принта осуществляется методом сублимации (прямой перенос краски на ткань), что делает принт долговечным.<br>\n",
       "<br>\n",
       "Уход:<br>\n",
       "Стирать при температуре не выше 40 градусов.<br>\n",
       "Гладить при температуре не выше 110 градусов.<br>\n",
       "Не использовать отбеливатель<br>\n",
       "<br>\n",
       "Детали:<br>\n",
       "Футболка имеет круглый вырез горловины, длина до линии бедер<br>\n",
       "<br>\n",
       "Тип нанесения:<br>\n",
       "Сублимация на ткани<br>\",false,true}\n",
       "\t{\"ColorBase\",\"белый\",true,true}\n",
       "\t{\"ColorName\",\"Футболка унисекс (мужская и женская) белая фильмы Лицехват (Чужой, Alien, Ностальгия, 90-ые, horror, Гигер) - 38219\",true,true}\n",
       "\t…\n",
       "\t{\"Composition\",\"50% Хлопок;50% Полиэстер\",false,true}\n",
       "\t{\"Season\",\"На любой сезон\",false,true}\n",
       "\t{\"FilterSizeINT\",\"XXL\",false,false}\n",
       "\t{\"Name\",\"Футболка унисекс (мужская и женская) белая фильмы Лицехват (Чужой, Alien, Ностальгия, 90-ые, horror, Гигер) - 38219\",false,false}\n",
       "\t{\"ColorBase_Forfilter\",\"Белый\",false,false}\n",
       "]"
      ]
     },
     "execution_count": 37,
     "metadata": {},
     "output_type": "execute_result"
    }
   ],
   "source": [
    "items_1.filter(pl.col('itemname') == 'Футболка')[0,2]"
   ]
  },
  {
   "cell_type": "code",
   "execution_count": 38,
   "id": "56f62043",
   "metadata": {},
   "outputs": [
    {
     "data": {
      "text/html": [
       "<div><style>\n",
       ".dataframe > thead > tr,\n",
       ".dataframe > tbody > tr {\n",
       "  text-align: right;\n",
       "  white-space: pre-wrap;\n",
       "}\n",
       "</style>\n",
       "<small>shape: (20,)</small><table border=\"1\" class=\"dataframe\"><thead><tr><th></th></tr><tr><td>struct[4]</td></tr></thead><tbody><tr><td>{&quot;Type&quot;,&quot;Футболка&quot;,false,true}</td></tr><tr><td>{&quot;Brand&quot;,&quot;Нет бренда&quot;,false,true}</td></tr><tr><td>{&quot;Annotation&quot;,&quot;&lt;p&gt;Футболка &quot;если ваше счастье не в деньгах шлите их мне&quot; - это отличный способ выразить свою индивидуальность и чувство юмора. Она станет отличным дополнением к любому образу, будь то повседневный или спортивный стиль.&lt;/p&gt;\n",
       "\n",
       "&lt;p&gt;Эта футболка выполнена из высококачественного хлопка, который обеспечивает комфорт и долговечность. Материал приятен на ощупь, хорошо пропускает воздух и не вызывает раздражения кожи. Благодаря этому футболка идеально подходит для повседневной носки.&lt;/p&gt;\n",
       "\n",
       "&lt;p&gt;Особенностью этой футболки является её дизайн. На передней части футболки расположена вышивка в виде забавной надписи. Надпись выполнена яркими нитками, которые не выцветают со временем. Это делает футболку не только стильной, но и практичной. Футболка доступна в различных размерах, что позволяет подобрать идеальный вариант для любого человека.&lt;/p&gt;\n",
       "\n",
       "&lt;p&gt;Если вы ищете оригинальный подарок для друга или близкого человека, то эта футболка станет отличным выбором. Она будет радовать своего владельца каждый день, напоминая о вас и вашем чувстве юмора.&lt;/p&gt;\n",
       "\n",
       "&lt;p&gt;Материал футболки - 100% хлопок плотностью 190 грамм на метр квадратный. Такая плотность ткани обеспечивает изделию прочность и износостойкость, а также позволяет коже дышать. Футболка сохраняет форму после стирки и не теряет цвет.&lt;/p&gt;\n",
       "\n",
       "&lt;p&gt;Футболка унисекс, подойдёт как мужчинам, так и женщинам. Её можно сочетать с различными стилями одежды и носить в любое время года.&lt;/p&gt;&quot;,false,true}</td></tr><tr><td>{&quot;ColorBase&quot;,&quot;черный&quot;,true,true}</td></tr><tr><td>{&quot;ColorName&quot;,&quot;черный&quot;,true,true}</td></tr><tr><td>&hellip;</td></tr><tr><td>{&quot;SleeveLength&quot;,&quot;Короткий&quot;,false,true}</td></tr><tr><td>{&quot;FilterSizeINT&quot;,&quot;XL&quot;,false,false}</td></tr><tr><td>{&quot;Name&quot;,&quot;Футболка &quot;если ваше счастье не в деньгах шлите их мне&quot;&quot;,false,false}</td></tr><tr><td>{&quot;DetailsClothes&quot;,&quot;Вышивка&quot;,false,false}</td></tr><tr><td>{&quot;ColorBase_Forfilter&quot;,&quot;Черный&quot;,false,false}</td></tr></tbody></table></div>"
      ],
      "text/plain": [
       "shape: (20,)\n",
       "Series: '' [struct[4]]\n",
       "[\n",
       "\t{\"Type\",\"Футболка\",false,true}\n",
       "\t{\"Brand\",\"Нет бренда\",false,true}\n",
       "\t{\"Annotation\",\"<p>Футболка \"если ваше счастье не в деньгах шлите их мне\" - это отличный способ выразить свою индивидуальность и чувство юмора. Она станет отличным дополнением к любому образу, будь то повседневный или спортивный стиль.</p>\n",
       "\n",
       "<p>Эта футболка выполнена из высококачественного хлопка, который обеспечивает комфорт и долговечность. Материал приятен на ощупь, хорошо пропускает воздух и не вызывает раздражения кожи. Благодаря этому футболка идеально подходит для повседневной носки.</p>\n",
       "\n",
       "<p>Особенностью этой футболки является её дизайн. На передней части футболки расположена вышивка в виде забавной надписи. Надпись выполнена яркими нитками, которые не выцветают со временем. Это делает футболку не только стильной, но и практичной. Футболка доступна в различных размерах, что позволяет подобрать идеальный вариант для любого человека.</p>\n",
       "\n",
       "<p>Если вы ищете оригинальный подарок для друга или близкого человека, то эта футболка станет отличным выбором. Она будет радовать своего владельца каждый день, напоминая о вас и вашем чувстве юмора.</p>\n",
       "\n",
       "<p>Материал футболки - 100% хлопок плотностью 190 грамм на метр квадратный. Такая плотность ткани обеспечивает изделию прочность и износостойкость, а также позволяет коже дышать. Футболка сохраняет форму после стирки и не теряет цвет.</p>\n",
       "\n",
       "<p>Футболка унисекс, подойдёт как мужчинам, так и женщинам. Её можно сочетать с различными стилями одежды и носить в любое время года.</p>\",false,true}\n",
       "\t{\"ColorBase\",\"черный\",true,true}\n",
       "\t{\"ColorName\",\"черный\",true,true}\n",
       "\t…\n",
       "\t{\"SleeveLength\",\"Короткий\",false,true}\n",
       "\t{\"FilterSizeINT\",\"XL\",false,false}\n",
       "\t{\"Name\",\"Футболка \"если ваше счастье не в деньгах шлите их мне\"\",false,false}\n",
       "\t{\"DetailsClothes\",\"Вышивка\",false,false}\n",
       "\t{\"ColorBase_Forfilter\",\"Черный\",false,false}\n",
       "]"
      ]
     },
     "execution_count": 38,
     "metadata": {},
     "output_type": "execute_result"
    }
   ],
   "source": [
    "items_1.filter(pl.col('itemname') == 'Футболка')[1,2]"
   ]
  },
  {
   "cell_type": "code",
   "execution_count": 35,
   "id": "c9928a06",
   "metadata": {},
   "outputs": [
    {
     "data": {
      "text/html": [
       "<div><style>\n",
       ".dataframe > thead > tr,\n",
       ".dataframe > tbody > tr {\n",
       "  text-align: right;\n",
       "  white-space: pre-wrap;\n",
       "}\n",
       "</style>\n",
       "<small>shape: (32_443, 1)</small><table border=\"1\" class=\"dataframe\"><thead><tr><th>itemname</th></tr><tr><td>struct[2]</td></tr></thead><tbody><tr><td>{&quot;Футболка&quot;,2599}</td></tr><tr><td>{&quot;Кроссовки&quot;,522}</td></tr><tr><td>{&quot;Платье&quot;,439}</td></tr><tr><td>{&quot;Комплект одежды&quot;,369}</td></tr><tr><td>{&quot;Рубашка&quot;,291}</td></tr><tr><td>&hellip;</td></tr><tr><td>{&quot;Кардиган SEVINGIN&quot;,1}</td></tr><tr><td>{&quot;Блузка People in Popsi блузки&quot;,1}</td></tr><tr><td>{&quot;Рубашка cookie Школа&quot;,1}</td></tr><tr><td>{&quot;Футболка Frutto Rosso однотонная женская&quot;,1}</td></tr><tr><td>{&quot;Обложка для студенческого билета, чехол для удостоверения, для пропуска, с дополнительным карманом для карты, премиум экокожа сафьяно, цвет черный, Flexpocket, Флекспокет&quot;,1}</td></tr></tbody></table></div>"
      ],
      "text/plain": [
       "shape: (32_443, 1)\n",
       "┌─────────────────────────────────┐\n",
       "│ itemname                        │\n",
       "│ ---                             │\n",
       "│ struct[2]                       │\n",
       "╞═════════════════════════════════╡\n",
       "│ {\"Футболка\",2599}               │\n",
       "│ {\"Кроссовки\",522}               │\n",
       "│ {\"Платье\",439}                  │\n",
       "│ {\"Комплект одежды\",369}         │\n",
       "│ {\"Рубашка\",291}                 │\n",
       "│ …                               │\n",
       "│ {\"Кардиган SEVINGIN\",1}         │\n",
       "│ {\"Блузка People in Popsi блузк… │\n",
       "│ {\"Рубашка cookie Школа\",1}      │\n",
       "│ {\"Футболка Frutto Rosso одното… │\n",
       "│ {\"Обложка для студенческого би… │\n",
       "└─────────────────────────────────┘"
      ]
     },
     "execution_count": 35,
     "metadata": {},
     "output_type": "execute_result"
    }
   ],
   "source": [
    "items_1.select(pl.col('itemname').value_counts(sort=True))"
   ]
  },
  {
   "cell_type": "markdown",
   "id": "fa4abbad",
   "metadata": {},
   "source": [
    "### Оцениваем результаты из cooccurrence_neighbors_df"
   ]
  },
  {
   "cell_type": "code",
   "execution_count": 29,
   "id": "b7a05806",
   "metadata": {},
   "outputs": [],
   "source": [
    "ids = neighbors_of_viewed[17,1].to_list()"
   ]
  },
  {
   "cell_type": "code",
   "execution_count": 30,
   "id": "17a6e2ae",
   "metadata": {},
   "outputs": [
    {
     "data": {
      "text/plain": [
       "['Топ ТЕЛОДВИЖЕНИЯ Топ женский',\n",
       " 'Майка Befree',\n",
       " 'Топ ТЕЛОДВИЖЕНИЯ Топ женский',\n",
       " 'Топ ТЕЛОДВИЖЕНИЯ Топ женский',\n",
       " 'Майка Befree',\n",
       " 'Майка Magic Lady CL',\n",
       " 'Майка Befree',\n",
       " 'Майка Magic Lady',\n",
       " 'Майка Befree',\n",
       " 'Майка Magic Lady',\n",
       " 'Майка Befree',\n",
       " 'Топ ТЕЛОДВИЖЕНИЯ Топ женский',\n",
       " 'Майка Befree',\n",
       " 'Майка Magic Lady',\n",
       " 'Майка Befree',\n",
       " 'Майка Befree',\n",
       " 'Майка Befree',\n",
       " 'Майка Befree',\n",
       " 'Майка Befree',\n",
       " 'Топ Befree',\n",
       " \"Майка RIDAN'S топ бельевая на тонких бретельках\",\n",
       " 'Топ ТЕЛОДВИЖЕНИЯ Топ женский',\n",
       " 'Топ ТЕЛОДВИЖЕНИЯ Топ женский',\n",
       " 'Топ ТЕЛОДВИЖЕНИЯ Топ женский',\n",
       " 'Майка Magic Lady',\n",
       " 'Майка Befree',\n",
       " 'Майка Magic Lady',\n",
       " 'Топ Befree',\n",
       " 'Майка Magic Lady',\n",
       " 'Майка Befree',\n",
       " 'Майка Befree',\n",
       " 'Топ ТЕЛОДВИЖЕНИЯ Топ женский',\n",
       " 'Топ ТЕЛОДВИЖЕНИЯ Топ женский',\n",
       " 'Майка Befree',\n",
       " 'Майка Befree',\n",
       " 'Топ ТЕЛОДВИЖЕНИЯ Топ женский',\n",
       " 'Майка Befree',\n",
       " 'Топ ТЕЛОДВИЖЕНИЯ Топ женский',\n",
       " 'Майка Befree',\n",
       " 'Майка Befree',\n",
       " 'Майка Magic Lady',\n",
       " 'Майка Befree',\n",
       " 'Топ Befree',\n",
       " 'Майка Befree',\n",
       " 'Майка Befree',\n",
       " 'Майка Befree',\n",
       " 'Майка Befree',\n",
       " 'Топ ТЕЛОДВИЖЕНИЯ Топ женский',\n",
       " 'Майка Magic Lady',\n",
       " \"Майка RIDAN'S топ бельевая на тонких бретельках\",\n",
       " \"Майка RIDAN'S топ бельевая на тонких бретельках\",\n",
       " 'Майка Magic Lady',\n",
       " 'Топ ТЕЛОДВИЖЕНИЯ Топ женский',\n",
       " \"Майка RIDAN'S топ бельевая на тонких бретельках\",\n",
       " 'Майка Befree',\n",
       " 'Топ ТЕЛОДВИЖЕНИЯ Топ женский',\n",
       " \"Майка RIDAN'S топ бельевая на тонких бретельках\",\n",
       " 'Топ ТЕЛОДВИЖЕНИЯ Топ женский']"
      ]
     },
     "execution_count": 30,
     "metadata": {},
     "output_type": "execute_result"
    }
   ],
   "source": [
    "items.filter(pl.col('item_id').is_in(ids)).select('itemname').to_series().to_list()"
   ]
  },
  {
   "cell_type": "code",
   "execution_count": 2,
   "id": "3d74a8d2",
   "metadata": {},
   "outputs": [],
   "source": [
    "neighbors_of_viewed = pl.read_parquet('candidate_cache/neighbors_of_viewed_items.parquet')"
   ]
  },
  {
   "cell_type": "markdown",
   "id": "cff0d873",
   "metadata": {},
   "source": [
    "### Берем items только после мая"
   ]
  },
  {
   "cell_type": "code",
   "execution_count": 44,
   "id": "fc39fc73",
   "metadata": {},
   "outputs": [
    {
     "name": "stderr",
     "output_type": "stream",
     "text": [
      "Processing files:  86%|████████▌ | 86/100 [02:36<00:25,  1.81s/it]"
     ]
    },
    {
     "ename": "",
     "evalue": "",
     "output_type": "error",
     "traceback": [
      "\u001b[1;31mThe Kernel crashed while executing code in the current cell or a previous cell. \n",
      "\u001b[1;31mPlease review the code in the cell(s) to identify a possible cause of the failure. \n",
      "\u001b[1;31mClick <a href='https://aka.ms/vscodeJupyterKernelCrash'>here</a> for more info. \n",
      "\u001b[1;31mView Jupyter <a href='command:jupyter.viewOutput'>log</a> for further details."
     ]
    }
   ],
   "source": [
    "all_dfs = []\n",
    "for i in tqdm(range(len(items_files)), desc='Processing files'):\n",
    "    file_path = items_files[i]\n",
    "\n",
    "    df = pl.read_parquet(\n",
    "        file_path\n",
    "    ).filter(pl.col('item_id').is_in(item_ids_from_may)) # from may\n",
    "    all_dfs.append(df)\n",
    "\n",
    "items_may_df = pl.concat(all_dfs)"
   ]
  },
  {
   "cell_type": "markdown",
   "id": "ce15d4fc",
   "metadata": {},
   "source": [
    "## Tracker"
   ]
  },
  {
   "cell_type": "code",
   "execution_count": 7,
   "id": "69e1bda4",
   "metadata": {},
   "outputs": [],
   "source": [
    "tr = pl.read_parquet(tracker_files[0])"
   ]
  },
  {
   "cell_type": "code",
   "execution_count": 9,
   "id": "33992d4b",
   "metadata": {},
   "outputs": [
    {
     "data": {
      "text/html": [
       "<div><style>\n",
       ".dataframe > thead > tr,\n",
       ".dataframe > tbody > tr {\n",
       "  text-align: right;\n",
       "  white-space: pre-wrap;\n",
       "}\n",
       "</style>\n",
       "<small>shape: (7,)</small><table border=\"1\" class=\"dataframe\"><thead><tr><th>action_type</th></tr><tr><td>str</td></tr></thead><tbody><tr><td>&quot;to_cart&quot;</td></tr><tr><td>&quot;review_view&quot;</td></tr><tr><td>&quot;favorite&quot;</td></tr><tr><td>&quot;unfavorite&quot;</td></tr><tr><td>&quot;remove&quot;</td></tr><tr><td>&quot;view_description&quot;</td></tr><tr><td>&quot;page_view&quot;</td></tr></tbody></table></div>"
      ],
      "text/plain": [
       "shape: (7,)\n",
       "Series: 'action_type' [str]\n",
       "[\n",
       "\t\"to_cart\"\n",
       "\t\"review_view\"\n",
       "\t\"favorite\"\n",
       "\t\"unfavorite\"\n",
       "\t\"remove\"\n",
       "\t\"view_description\"\n",
       "\t\"page_view\"\n",
       "]"
      ]
     },
     "execution_count": 9,
     "metadata": {},
     "output_type": "execute_result"
    }
   ],
   "source": [
    "tr['action_type'].unique()"
   ]
  },
  {
   "cell_type": "code",
   "execution_count": null,
   "id": "cf43ab47",
   "metadata": {},
   "outputs": [],
   "source": [
    "all_dfs = []\n",
    "for i in tqdm(range(len(tracker_files)), desc='Processing files'):\n",
    "    file_path = tracker_files[i]\n",
    "\n",
    "    df = pl.read_parquet(\n",
    "        file_path, \n",
    "        columns=['user_id', 'item_id', 'action_type', 'timestamp']\n",
    "    ).filter(pl.col('created_timestamp') > pl.datetime(2025, 5, 21))\n",
    "    all_dfs.append(df)\n",
    "\n",
    "tracker = pl.concat(all_dfs)"
   ]
  }
 ],
 "metadata": {
  "kernelspec": {
   "display_name": "Python 3",
   "language": "python",
   "name": "python3"
  },
  "language_info": {
   "codemirror_mode": {
    "name": "ipython",
    "version": 3
   },
   "file_extension": ".py",
   "mimetype": "text/x-python",
   "name": "python",
   "nbconvert_exporter": "python",
   "pygments_lexer": "ipython3",
   "version": "3.13.0"
  }
 },
 "nbformat": 4,
 "nbformat_minor": 5
}
