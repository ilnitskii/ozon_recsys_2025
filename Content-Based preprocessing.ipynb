{
 "cells": [
  {
   "cell_type": "markdown",
   "id": "6948f953",
   "metadata": {},
   "source": [
    "# CB. Контентные рекомендации. Получение векторов товаров"
   ]
  },
  {
   "cell_type": "code",
   "execution_count": null,
   "id": "4bfc915a",
   "metadata": {},
   "outputs": [],
   "source": [
    "import pandas as pd\n",
    "import numpy as np\n",
    "import glob\n",
    "from pathlib import Path\n",
    "from collections import defaultdict\n",
    "import json\n",
    "import matplotlib.pyplot as plt\n",
    "import seaborn as sns\n",
    "from tqdm import tqdm\n",
    "\n",
    "import polars as pl\n",
    "import dask.dataframe as dd\n",
    "from sklearn.feature_extraction.text import TfidfVectorizer\n",
    "from sklearn.decomposition import PCA, TruncatedSVD\n",
    "from sklearn.preprocessing import OneHotEncoder, StandardScaler\n",
    "\n",
    "from sklearn.metrics.pairwise import cosine_similarity\n",
    "from sklearn.neighbors import NearestNeighbors\n",
    "\n",
    "import pyarrow.parquet as pq\n",
    "import os\n",
    "\n",
    "plt.style.use('seaborn-v0_8')\n",
    "sns.set_palette(\"husl\")"
   ]
  },
  {
   "cell_type": "markdown",
   "id": "752d872a",
   "metadata": {},
   "source": [
    "### Категории"
   ]
  },
  {
   "cell_type": "markdown",
   "id": "086db555",
   "metadata": {},
   "source": [
    "#### Проход по всем parquet ver 2.0"
   ]
  },
  {
   "cell_type": "code",
   "execution_count": 3,
   "id": "50acc906",
   "metadata": {},
   "outputs": [
    {
     "name": "stdout",
     "output_type": "stream",
     "text": [
      "Загружено файлов: 100\n",
      "Размер DataFrame: 6,439,422 строк\n"
     ]
    }
   ],
   "source": [
    "# Получаем полный список файлов\n",
    "items_files = glob.glob('data/ml_ozon_recsys_train_final_apparel_items_data/*.parquet')\n",
    "\n",
    "# Читаем все файлы явно указывая список\n",
    "ddf = dd.read_parquet(items_files, columns=['catalogid'])\n",
    "\n",
    "# Проверяем количество файлов\n",
    "print(f\"Загружено файлов: {len(items_files)}\")\n",
    "print(f\"Размер DataFrame: {len(ddf):,} строк\")\n",
    "\n",
    "# Считаем уникальные catalogid\n",
    "catalogid_counter = (\n",
    "    ddf['catalogid']\n",
    "    .value_counts()\n",
    "    .compute()\n",
    "    .reset_index(name='count')\n",
    "    .rename(columns={'index': 'catalogid'})\n",
    ")"
   ]
  },
  {
   "cell_type": "code",
   "execution_count": 5,
   "id": "7a74dfc3",
   "metadata": {},
   "outputs": [
    {
     "data": {
      "application/vnd.microsoft.datawrangler.viewer.v0+json": {
       "columns": [
        {
         "name": "index",
         "rawType": "int64",
         "type": "integer"
        },
        {
         "name": "catalogid",
         "rawType": "int64",
         "type": "integer"
        },
        {
         "name": "count",
         "rawType": "int64",
         "type": "integer"
        }
       ],
       "ref": "12257d14-8371-4b45-9486-1505ee0f1bb0",
       "rows": [
        [
         "48",
         "35119",
         "1"
        ],
        [
         "101",
         "32132",
         "1"
        ],
        [
         "366",
         "9020",
         "1"
        ],
        [
         "244",
         "11237",
         "1"
        ],
        [
         "23",
         "7646000",
         "1"
        ],
        [
         "20",
         "38711",
         "1"
        ],
        [
         "298",
         "11536",
         "1"
        ],
        [
         "155",
         "7203",
         "1"
        ],
        [
         "24",
         "36697000",
         "1"
        ],
        [
         "224",
         "14701",
         "1"
        ],
        [
         "186",
         "315718000",
         "2"
        ],
        [
         "25",
         "76005000",
         "2"
        ],
        [
         "387",
         "13606",
         "2"
        ],
        [
         "378",
         "75002000",
         "2"
        ],
        [
         "380",
         "7527",
         "2"
        ],
        [
         "355",
         "38294",
         "2"
        ],
        [
         "262",
         "77002000",
         "2"
        ],
        [
         "444",
         "6631000",
         "3"
        ],
        [
         "272",
         "11628",
         "3"
        ],
        [
         "407",
         "31311000",
         "4"
        ],
        [
         "215",
         "71082000",
         "4"
        ],
        [
         "288",
         "106900000",
         "4"
        ],
        [
         "373",
         "32955",
         "5"
        ],
        [
         "161",
         "7822",
         "5"
        ],
        [
         "214",
         "62851000",
         "6"
        ],
        [
         "2",
         "7076",
         "7"
        ],
        [
         "149",
         "37571",
         "8"
        ],
        [
         "238",
         "6629000",
         "9"
        ],
        [
         "395",
         "30138",
         "9"
        ],
        [
         "443",
         "6307000",
         "10"
        ],
        [
         "68",
         "11104",
         "10"
        ],
        [
         "445",
         "7666000",
         "11"
        ],
        [
         "431",
         "30235",
         "12"
        ],
        [
         "286",
         "37074",
         "13"
        ],
        [
         "15",
         "30889",
         "14"
        ],
        [
         "405",
         "7641000",
         "16"
        ],
        [
         "212",
         "37073",
         "16"
        ],
        [
         "263",
         "364703000",
         "17"
        ],
        [
         "397",
         "31969",
         "18"
        ],
        [
         "184",
         "7667000",
         "19"
        ],
        [
         "240",
         "315782000",
         "20"
        ],
        [
         "154",
         "36471000",
         "21"
        ],
        [
         "85",
         "33331000",
         "24"
        ],
        [
         "357",
         "76001000",
         "26"
        ],
        [
         "187",
         "619780000",
         "27"
        ],
        [
         "75",
         "31968",
         "28"
        ],
        [
         "32",
         "11144",
         "28"
        ],
        [
         "261",
         "36410000",
         "30"
        ],
        [
         "356",
         "36683000",
         "31"
        ],
        [
         "308",
         "30502",
         "41"
        ]
       ],
       "shape": {
        "columns": 2,
        "rows": 478
       }
      },
      "text/html": [
       "<div>\n",
       "<style scoped>\n",
       "    .dataframe tbody tr th:only-of-type {\n",
       "        vertical-align: middle;\n",
       "    }\n",
       "\n",
       "    .dataframe tbody tr th {\n",
       "        vertical-align: top;\n",
       "    }\n",
       "\n",
       "    .dataframe thead th {\n",
       "        text-align: right;\n",
       "    }\n",
       "</style>\n",
       "<table border=\"1\" class=\"dataframe\">\n",
       "  <thead>\n",
       "    <tr style=\"text-align: right;\">\n",
       "      <th></th>\n",
       "      <th>catalogid</th>\n",
       "      <th>count</th>\n",
       "    </tr>\n",
       "  </thead>\n",
       "  <tbody>\n",
       "    <tr>\n",
       "      <th>48</th>\n",
       "      <td>35119</td>\n",
       "      <td>1</td>\n",
       "    </tr>\n",
       "    <tr>\n",
       "      <th>101</th>\n",
       "      <td>32132</td>\n",
       "      <td>1</td>\n",
       "    </tr>\n",
       "    <tr>\n",
       "      <th>366</th>\n",
       "      <td>9020</td>\n",
       "      <td>1</td>\n",
       "    </tr>\n",
       "    <tr>\n",
       "      <th>244</th>\n",
       "      <td>11237</td>\n",
       "      <td>1</td>\n",
       "    </tr>\n",
       "    <tr>\n",
       "      <th>23</th>\n",
       "      <td>7646000</td>\n",
       "      <td>1</td>\n",
       "    </tr>\n",
       "    <tr>\n",
       "      <th>...</th>\n",
       "      <td>...</td>\n",
       "      <td>...</td>\n",
       "    </tr>\n",
       "    <tr>\n",
       "      <th>87</th>\n",
       "      <td>7502</td>\n",
       "      <td>199919</td>\n",
       "    </tr>\n",
       "    <tr>\n",
       "      <th>330</th>\n",
       "      <td>7660</td>\n",
       "      <td>219858</td>\n",
       "    </tr>\n",
       "    <tr>\n",
       "      <th>128</th>\n",
       "      <td>36484</td>\n",
       "      <td>225336</td>\n",
       "    </tr>\n",
       "    <tr>\n",
       "      <th>129</th>\n",
       "      <td>7508</td>\n",
       "      <td>267444</td>\n",
       "    </tr>\n",
       "    <tr>\n",
       "      <th>450</th>\n",
       "      <td>7559</td>\n",
       "      <td>413637</td>\n",
       "    </tr>\n",
       "  </tbody>\n",
       "</table>\n",
       "<p>478 rows × 2 columns</p>\n",
       "</div>"
      ],
      "text/plain": [
       "     catalogid   count\n",
       "48       35119       1\n",
       "101      32132       1\n",
       "366       9020       1\n",
       "244      11237       1\n",
       "23     7646000       1\n",
       "..         ...     ...\n",
       "87        7502  199919\n",
       "330       7660  219858\n",
       "128      36484  225336\n",
       "129       7508  267444\n",
       "450       7559  413637\n",
       "\n",
       "[478 rows x 2 columns]"
      ]
     },
     "execution_count": 5,
     "metadata": {},
     "output_type": "execute_result"
    }
   ],
   "source": [
    "catalogid_counter.sort_values(by='count')"
   ]
  },
  {
   "cell_type": "markdown",
   "id": "e2970f00",
   "metadata": {},
   "source": [
    "##### Функции"
   ]
  },
  {
   "cell_type": "code",
   "execution_count": 30,
   "id": "cb5bf323",
   "metadata": {},
   "outputs": [],
   "source": [
    "# Конфигурация\n",
    "KNOWN_CATALOG_IDS = catalogid_counter['catalogid'].sort_values().tolist()  # Заполните известными catalogid\n",
    "INPUT_FILES = glob.glob('data/ml_ozon_recsys_train_final_apparel_items_data/*.parquet')\n",
    "TEMP_DIR = './catalog_tmp'\n",
    "OUTPUT_DIR = './result_vectors'\n",
    "BATCH_SIZE = 5000  # Размер батча для обработки\n",
    "TEXT_DIM_REDUCTION = 50  # Размерность после уменьшения для текстов\n",
    "EMBED_DIM_REDUCTION = 50  # Размерность после уменьшения для эмбеддингов\n",
    "LARGE_CATALOG_THRESHOLD = 50000  # Порог для определения больших catalogid"
   ]
  },
  {
   "cell_type": "code",
   "execution_count": null,
   "id": "28d43284",
   "metadata": {},
   "outputs": [],
   "source": [
    "# Создаем директории для временных файлов по каждому catalogid\n",
    "os.makedirs(TEMP_DIR, exist_ok=True)\n",
    "os.makedirs(OUTPUT_DIR, exist_ok=True)\n",
    "\n",
    "# 1. Функция для обработки атрибутов\n",
    "def process_attributes(df):\n",
    "    \"\"\"Разворачиваем attributes в отдельные столбцы\"\"\"\n",
    "    attrs_list = []\n",
    "    for attr_list in df['attributes']:\n",
    "        attrs = {}\n",
    "        for d in attr_list:\n",
    "            name = d.get('attribute_name')\n",
    "            value = d.get('attribute_value')\n",
    "            if name in ['Annotation', 'Type', 'Brand', 'ColorBase', 'Material']:\n",
    "                attrs[name] = value\n",
    "        attrs_list.append(attrs)\n",
    "    \n",
    "    attrs_df = pd.DataFrame(attrs_list)\n",
    "    attrs_df = attrs_df.rename(columns={'Annotation': 'annotation'})\n",
    "    return pd.concat([df[['item_id', 'itemname', 'fclip_embed', 'catalogid']], attrs_df], axis=1)\n",
    "\n",
    "# 2. Предварительная обработка и распределение по catalogid\n",
    "def preprocess_and_distribute():\n",
    "    \"\"\"Обрабатываем файлы и распределяем данные по catalogid\"\"\"\n",
    "    for file_path in tqdm(INPUT_FILES, desc=\"Обработка файлов\"):\n",
    "        print(f\"Обрабатываем файл: {file_path}\")\n",
    "        \n",
    "        # Читаем файл по частям\n",
    "        parquet_file = pq.ParquetFile(file_path)\n",
    "        \n",
    "        for i in range(parquet_file.num_row_groups):\n",
    "            # Читаем одну группу строк\n",
    "            table = parquet_file.read_row_group(i)\n",
    "            df = table.to_pandas()\n",
    "            \n",
    "            # Обрабатываем атрибуты\n",
    "            df_processed = process_attributes(df)\n",
    "            \n",
    "            # Сохраняем по catalogid\n",
    "            for catalog_id in KNOWN_CATALOG_IDS:\n",
    "                catalog_data = df_processed[df_processed['catalogid'] == catalog_id]\n",
    "                if not catalog_data.empty:\n",
    "                    output_path = f\"{TEMP_DIR}/{catalog_id}.parquet\"\n",
    "                    \n",
    "                    # Если файл уже существует, добавляем к нему\n",
    "                    if os.path.exists(output_path):\n",
    "                        existing_data = pd.read_parquet(output_path)\n",
    "                        combined = pd.concat([existing_data, catalog_data], ignore_index=True)\n",
    "                        combined.to_parquet(output_path, index=False)\n",
    "                    else:\n",
    "                        catalog_data.to_parquet(output_path, index=False)\n"
   ]
  },
  {
   "cell_type": "code",
   "execution_count": null,
   "id": "e3bd48e4",
   "metadata": {},
   "outputs": [],
   "source": [
    "# 1. Обработка небольших catalogid с проверкой размерности\n",
    "def process_small_catalog(catalog_id, df):\n",
    "    \"\"\"Обрабатываем небольшие catalogid целиком с проверкой размерности\"\"\"\n",
    "    print(f\"Обрабатываем небольшой catalogid: {catalog_id} (размер: {len(df)})\")\n",
    "    \n",
    "    # Инициализируем преобразователи\n",
    "    text_vectorizer = TfidfVectorizer(max_features=5000)\n",
    "    scaler = StandardScaler()\n",
    "    \n",
    "    # Подготавливаем категориальные признаки (без Size)\n",
    "    cat_columns = ['Type', 'Brand', 'ColorBase', 'Material']  # Убрали 'Size'\n",
    "    ohe = OneHotEncoder(handle_unknown='ignore', sparse_output=False)\n",
    "    ohe.fit(df[cat_columns].fillna('UNK'))\n",
    "    \n",
    "    # Текстовые признаки\n",
    "    name_vec = text_vectorizer.fit_transform(df['itemname'].fillna(''))\n",
    "    desc_vec = text_vectorizer.fit_transform(df['annotation'].fillna(''))\n",
    "    \n",
    "    # Уменьшение размерности текстов с проверкой\n",
    "    # Для name_vec\n",
    "    n_components_name = min(TEXT_DIM_REDUCTION, name_vec.shape[1], name_vec.shape[0]-1)\n",
    "    if n_components_name > 0:\n",
    "        svd_name = TruncatedSVD(n_components=n_components_name)\n",
    "        name_reduced = svd_name.fit_transform(name_vec)\n",
    "    else:\n",
    "        name_reduced = np.zeros((name_vec.shape[0], 1))\n",
    "        print(f\"Предупреждение: name_vec имеет недостаточно признаков для SVD\")\n",
    "    \n",
    "    # Для desc_vec\n",
    "    n_components_desc = min(TEXT_DIM_REDUCTION, desc_vec.shape[1], desc_vec.shape[0]-1)\n",
    "    if n_components_desc > 0:\n",
    "        svd_desc = TruncatedSVD(n_components=n_components_desc)\n",
    "        desc_reduced = svd_desc.fit_transform(desc_vec)\n",
    "    else:\n",
    "        desc_reduced = np.zeros((desc_vec.shape[0], 1))\n",
    "        print(f\"Предупреждение: desc_vec имеет недостаточно признаков для SVD\")\n",
    "    \n",
    "    # Кодирование категориальных признаков\n",
    "    cat_encoded = ohe.transform(df[cat_columns].fillna('UNK'))\n",
    "    \n",
    "    # Обработка эмбеддингов с проверкой размерности\n",
    "    all_embeddings = np.vstack(df['fclip_embed'].values)\n",
    "    \n",
    "    # Для PCA нужно: n_components <= min(n_samples, n_features)\n",
    "    n_components_embed = min(\n",
    "        EMBED_DIM_REDUCTION, \n",
    "        all_embeddings.shape[0]-1,  # n_samples-1\n",
    "        all_embeddings.shape[1]     # n_features\n",
    "    )\n",
    "    \n",
    "    if n_components_embed > 0:\n",
    "        pca = PCA(n_components=n_components_embed)\n",
    "        embed_reduced = pca.fit_transform(all_embeddings)\n",
    "    else:\n",
    "        embed_reduced = np.zeros((all_embeddings.shape[0], 1))\n",
    "        print(f\"Предупреждение: эмбеддинги имеют недостаточно признаков для PCA\")\n",
    "    \n",
    "    # Объединение всех признаков\n",
    "    final_vectors = np.hstack([\n",
    "        cat_encoded,\n",
    "        name_reduced * 0.5,  # Веса для текстовых features\n",
    "        desc_reduced * 0.3,\n",
    "        embed_reduced\n",
    "    ])\n",
    "    \n",
    "    # Нормализация\n",
    "    final_vectors_normalized = scaler.fit_transform(final_vectors)\n",
    "    \n",
    "    # Сохранение результатов\n",
    "    result_df = pd.DataFrame({\n",
    "        'item_id': df['item_id'].values,\n",
    "        'vector': list(final_vectors_normalized)\n",
    "    })\n",
    "    result_df.to_parquet(f\"{OUTPUT_DIR}/{catalog_id}_vectors.parquet\", index=False)\n",
    "    \n",
    "    # Сохраняем scaler для последующего использования\n",
    "    np.save(f\"{OUTPUT_DIR}/{catalog_id}_scaler_mean.npy\", scaler.mean_)\n",
    "    np.save(f\"{OUTPUT_DIR}/{catalog_id}_scaler_scale.npy\", scaler.scale_)\n",
    "\n",
    "# 2. Обработка больших catalogid с проверкой размерности\n",
    "def process_large_catalog(catalog_id, df):\n",
    "    \"\"\"Обрабатываем большие catalogid батчами с проверкой размерности\"\"\"\n",
    "    print(f\"Обрабатываем большой catalogid: {catalog_id} (размер: {len(df)})\")\n",
    "    \n",
    "    # Сначала соберем всю статистику для обучения преобразователей\n",
    "    print(\"Сбор статистики для обучения преобразователей...\")\n",
    "    \n",
    "    # Для текстовых признаков - соберем все тексты для обучения TF-IDF\n",
    "    all_texts = pd.concat([\n",
    "        df['itemname'].fillna(''),\n",
    "        df['annotation'].fillna('')\n",
    "    ])\n",
    "    \n",
    "    # Для категориальных признаков (без Size)\n",
    "    cat_columns = ['Type', 'Brand', 'ColorBase', 'Material']  # Убрали 'Size'\n",
    "    ohe = OneHotEncoder(handle_unknown='ignore', sparse_output=False)\n",
    "    ohe.fit(df[cat_columns].fillna('UNK'))\n",
    "    \n",
    "    # Для эмбеддингов - соберем все эмбеддинги для обучения PCA\n",
    "    all_embeddings = np.vstack(df['fclip_embed'].values)\n",
    "    \n",
    "    # Обучаем преобразователи на всех данных\n",
    "    print(\"Обучение преобразователей...\")\n",
    "    text_vectorizer = TfidfVectorizer(max_features=5000)\n",
    "    text_vectorizer.fit(all_texts)\n",
    "    \n",
    "    # Проверяем размерность для SVD\n",
    "    sample_size = min(10000, len(df))\n",
    "    sample_texts = all_texts.sample(sample_size, random_state=42)\n",
    "    sample_text_vectors = text_vectorizer.transform(sample_texts)\n",
    "    \n",
    "    n_components_svd = min(\n",
    "        TEXT_DIM_REDUCTION, \n",
    "        sample_text_vectors.shape[1], \n",
    "        sample_text_vectors.shape[0]-1\n",
    "    )\n",
    "    if n_components_svd > 0:\n",
    "        svd = TruncatedSVD(n_components=n_components_svd)\n",
    "        svd.fit(sample_text_vectors)\n",
    "    else:\n",
    "        svd = None\n",
    "        print(f\"Предупреждение: недостаточно признаков для SVD (n_features={sample_text_vectors.shape[1]})\")\n",
    "    \n",
    "    # Проверяем размерность для PCA\n",
    "    n_components_pca = min(\n",
    "        EMBED_DIM_REDUCTION, \n",
    "        all_embeddings.shape[0]-1,  # n_samples-1\n",
    "        all_embeddings.shape[1]     # n_features\n",
    "    )\n",
    "    if n_components_pca > 0:\n",
    "        pca = PCA(n_components=n_components_pca)\n",
    "        pca.fit(all_embeddings)\n",
    "    else:\n",
    "        pca = None\n",
    "        print(f\"Предупреждение: недостаточно признаков для PCA (n_features={all_embeddings.shape[1]})\")\n",
    "    \n",
    "    # Определяем размерность финальных векторов\n",
    "    print(\"Определение размерности финальных векторов...\")\n",
    "    test_sample = df.iloc[:1].copy()\n",
    "    \n",
    "    # Обрабатываем тестовый sample для определения размерности\n",
    "    name_vec_test = text_vectorizer.transform(test_sample['itemname'].fillna(''))\n",
    "    desc_vec_test = text_vectorizer.transform(test_sample['annotation'].fillna(''))\n",
    "    \n",
    "    # Применяем SVD если доступен\n",
    "    if svd is not None:\n",
    "        name_reduced_test = svd.transform(name_vec_test)\n",
    "        desc_reduced_test = svd.transform(desc_vec_test)\n",
    "    else:\n",
    "        name_reduced_test = np.zeros((name_vec_test.shape[0], 1))\n",
    "        desc_reduced_test = np.zeros((desc_vec_test.shape[0], 1))\n",
    "    \n",
    "    cat_encoded_test = ohe.transform(test_sample[cat_columns].fillna('UNK'))\n",
    "    \n",
    "    # Применяем PCA если доступен\n",
    "    if pca is not None:\n",
    "        embed_reduced_test = pca.transform(np.vstack(test_sample['fclip_embed'].values))\n",
    "    else:\n",
    "        embed_reduced_test = np.zeros((len(test_sample), 1))\n",
    "    \n",
    "    final_vector_test = np.hstack([\n",
    "        cat_encoded_test,\n",
    "        name_reduced_test * 0.5,  # Веса для текстовых features\n",
    "        desc_reduced_test * 0.3,\n",
    "        embed_reduced_test\n",
    "    ])\n",
    "    \n",
    "    n_features = final_vector_test.shape[1]\n",
    "    n_samples = len(df)\n",
    "    \n",
    "    print(f\"Размерность финальных векторов: {n_features}\")\n",
    "    \n",
    "    # ПЕРВЫЙ ПРОХОД: вычисляем среднее и std для нормализации\n",
    "    print(\"Первый проход: вычисление статистики для нормализации...\")\n",
    "    sum_vectors = np.zeros(n_features, dtype='float64')\n",
    "    sum_sq_vectors = np.zeros(n_features, dtype='float64')\n",
    "    count = 0\n",
    "    \n",
    "    for i in tqdm(range(0, len(df), BATCH_SIZE), desc=\"Сбор статистики\"):\n",
    "        batch = df.iloc[i:i+BATCH_SIZE].copy()\n",
    "        \n",
    "        # Текстовые признаки\n",
    "        name_vec = text_vectorizer.transform(batch['itemname'].fillna(''))\n",
    "        desc_vec = text_vectorizer.transform(batch['annotation'].fillna(''))\n",
    "        \n",
    "        # Уменьшение размерности текстов\n",
    "        if svd is not None:\n",
    "            name_reduced = svd.transform(name_vec)\n",
    "            desc_reduced = svd.transform(desc_vec)\n",
    "        else:\n",
    "            name_reduced = np.zeros((name_vec.shape[0], 1))\n",
    "            desc_reduced = np.zeros((desc_vec.shape[0], 1))\n",
    "        \n",
    "        # Кодирование категориальных признаков\n",
    "        cat_encoded = ohe.transform(batch[cat_columns].fillna('UNK'))\n",
    "        \n",
    "        # Обработка эмбеддингов\n",
    "        if pca is not None:\n",
    "            embed_reduced = pca.transform(np.vstack(batch['fclip_embed'].values))\n",
    "        else:\n",
    "            embed_reduced = np.zeros((len(batch), 1))\n",
    "        \n",
    "        # Объединение всех признаков\n",
    "        final_vectors = np.hstack([\n",
    "            cat_encoded,\n",
    "            name_reduced * 0.5,  # Веса для текстовых features\n",
    "            desc_reduced * 0.3,\n",
    "            embed_reduced\n",
    "        ]).astype('float32')\n",
    "        \n",
    "        # Аккумулируем статистику\n",
    "        batch_sum = np.sum(final_vectors, axis=0)\n",
    "        batch_sum_sq = np.sum(final_vectors ** 2, axis=0)\n",
    "        \n",
    "        # Обновляем общую статистику\n",
    "        sum_vectors += batch_sum\n",
    "        sum_sq_vectors += batch_sum_sq\n",
    "        count += len(final_vectors)\n",
    "    \n",
    "    # Вычисляем среднее и стандартное отклонение\n",
    "    mean = sum_vectors / count\n",
    "    std = np.sqrt((sum_sq_vectors / count) - (mean ** 2))\n",
    "    std = np.where(std < 1e-8, 1.0, std)  # Избегаем деления на ноль\n",
    "    \n",
    "    # Сохраняем параметры нормализации\n",
    "    np.save(f\"{OUTPUT_DIR}/{catalog_id}_normalization_mean.npy\", mean.astype('float32'))\n",
    "    np.save(f\"{OUTPUT_DIR}/{catalog_id}_normalization_std.npy\", std.astype('float32'))\n",
    "    \n",
    "    # ВТОРОЙ ПРОХОД: нормализация и сохранение\n",
    "    print(\"Второй проход: нормализация и сохранение...\")\n",
    "    \n",
    "    # Создаем memory-mapped файлы для финальных векторов и идентификаторов\n",
    "    vectors_path = f\"{OUTPUT_DIR}/{catalog_id}_vectors.npy\"\n",
    "    item_ids_path = f\"{OUTPUT_DIR}/{catalog_id}_item_ids.npy\"\n",
    "    metadata_path = f\"{OUTPUT_DIR}/{catalog_id}_metadata.json\"\n",
    "    \n",
    "    vectors_mmap = np.memmap(vectors_path, dtype='float32', mode='w+', \n",
    "                            shape=(n_samples, n_features))\n",
    "    item_ids_mmap = np.memmap(item_ids_path, dtype='int64', mode='w+', \n",
    "                             shape=(n_samples,))\n",
    "    \n",
    "    # Сохраняем метаданные\n",
    "    metadata = {\n",
    "        'n_samples': n_samples,\n",
    "        'n_features': n_features,\n",
    "        'catalog_id': catalog_id,\n",
    "        'dtype': 'float32',\n",
    "        'normalized': True,\n",
    "        'mean_path': f\"{catalog_id}_normalization_mean.npy\",\n",
    "        'std_path': f\"{catalog_id}_normalization_std.npy\"\n",
    "    }\n",
    "    \n",
    "    with open(metadata_path, 'w') as f:\n",
    "        json.dump(metadata, f)\n",
    "    \n",
    "    # Обрабатываем данные батчами, нормализуем и сохраняем\n",
    "    for i in tqdm(range(0, len(df), BATCH_SIZE), desc=\"Нормализация и сохранение\"):\n",
    "        batch = df.iloc[i:i+BATCH_SIZE].copy()\n",
    "        end_idx = min(i + BATCH_SIZE, len(df))\n",
    "        \n",
    "        # Текстовые признаки\n",
    "        name_vec = text_vectorizer.transform(batch['itemname'].fillna(''))\n",
    "        desc_vec = text_vectorizer.transform(batch['annotation'].fillna(''))\n",
    "        \n",
    "        # Уменьшение размерности текстов\n",
    "        if svd is not None:\n",
    "            name_reduced = svd.transform(name_vec)\n",
    "            desc_reduced = svd.transform(desc_vec)\n",
    "        else:\n",
    "            name_reduced = np.zeros((name_vec.shape[0], 1))\n",
    "            desc_reduced = np.zeros((desc_vec.shape[0], 1))\n",
    "        \n",
    "        # Кодирование категориальных признаков\n",
    "        cat_encoded = ohe.transform(batch[cat_columns].fillna('UNK'))\n",
    "        \n",
    "        # Обработка эмбеддингов\n",
    "        if pca is not None:\n",
    "            embed_reduced = pca.transform(np.vstack(batch['fclip_embed'].values))\n",
    "        else:\n",
    "            embed_reduced = np.zeros((len(batch), 1))\n",
    "        \n",
    "        # Объединение всех признаков\n",
    "        final_vectors = np.hstack([\n",
    "            cat_encoded,\n",
    "            name_reduced * 0.5,  # Веса для текстовых features\n",
    "            desc_reduced * 0.3,\n",
    "            embed_reduced\n",
    "        ]).astype('float32')\n",
    "        \n",
    "        # НОРМАЛИЗАЦИЯ: (x - mean) / std\n",
    "        final_vectors_normalized = (final_vectors - mean) / std\n",
    "        \n",
    "        # Записываем в memory-mapped arrays\n",
    "        vectors_mmap[i:end_idx] = final_vectors_normalized\n",
    "        item_ids_mmap[i:end_idx] = batch['item_id'].values\n",
    "        \n",
    "        # Принудительно записываем изменения на диск\n",
    "        vectors_mmap.flush()\n",
    "        item_ids_mmap.flush()\n",
    "    \n",
    "    # Закрываем memory-mapped arrays\n",
    "    del vectors_mmap\n",
    "    del item_ids_mmap\n",
    "    \n",
    "    print(f\"Обработка с нормализацией завершена. Векторы сохранены в: {vectors_path}\")\n",
    "\n",
    "# 3. Основной пайплайн обработки\n",
    "def process_catalog(catalog_id):\n",
    "    \"\"\"Обрабатываем данные для конкретного catalogid с проверкой размерности\"\"\"\n",
    "    print(f\"Обрабатываем catalogid: {catalog_id}\")\n",
    "    \n",
    "    input_path = f\"{TEMP_DIR}/{catalog_id}.parquet\"\n",
    "    if not os.path.exists(input_path):\n",
    "        print(f\"Нет данных для catalogid: {catalog_id}\")\n",
    "        return\n",
    "    \n",
    "    # Читаем данные\n",
    "    df = pd.read_parquet(input_path)\n",
    "    \n",
    "    if len(df) > LARGE_CATALOG_THRESHOLD:\n",
    "        process_large_catalog(catalog_id, df)\n",
    "    else:\n",
    "        process_small_catalog(catalog_id, df)"
   ]
  },
  {
   "cell_type": "markdown",
   "id": "1cb5c63c",
   "metadata": {},
   "source": [
    "##### проход"
   ]
  },
  {
   "cell_type": "code",
   "execution_count": 32,
   "id": "ced6fcd1",
   "metadata": {},
   "outputs": [
    {
     "name": "stdout",
     "output_type": "stream",
     "text": [
      "Начинаем предобработку и распределение данных...\n",
      "Начинаем обработку каждого catalogid...\n"
     ]
    },
    {
     "name": "stderr",
     "output_type": "stream",
     "text": [
      "Обработка catalogid:   0%|          | 0/478 [00:00<?, ?it/s]"
     ]
    },
    {
     "name": "stdout",
     "output_type": "stream",
     "text": [
      "Обрабатываем catalogid: 1652\n",
      "Обрабатываем небольшой catalogid: 1652 (размер: 850)\n"
     ]
    },
    {
     "name": "stderr",
     "output_type": "stream",
     "text": [
      "Обработка catalogid:   0%|          | 1/478 [00:00<02:54,  2.73it/s]"
     ]
    },
    {
     "name": "stdout",
     "output_type": "stream",
     "text": [
      "Обрабатываем catalogid: 1657\n",
      "Обрабатываем небольшой catalogid: 1657 (размер: 10603)\n"
     ]
    },
    {
     "name": "stderr",
     "output_type": "stream",
     "text": [
      "Обработка catalogid:   0%|          | 2/478 [00:02<11:49,  1.49s/it]"
     ]
    },
    {
     "name": "stdout",
     "output_type": "stream",
     "text": [
      "Обрабатываем catalogid: 1658\n",
      "Обрабатываем небольшой catalogid: 1658 (размер: 3086)\n"
     ]
    },
    {
     "name": "stderr",
     "output_type": "stream",
     "text": [
      "Обработка catalogid:   1%|          | 3/478 [00:03<09:38,  1.22s/it]"
     ]
    },
    {
     "name": "stdout",
     "output_type": "stream",
     "text": [
      "Обрабатываем catalogid: 1770\n",
      "Обрабатываем небольшой catalogid: 1770 (размер: 9195)\n"
     ]
    },
    {
     "name": "stderr",
     "output_type": "stream",
     "text": [
      "Обработка catalogid:   1%|          | 4/478 [00:05<11:14,  1.42s/it]"
     ]
    },
    {
     "name": "stdout",
     "output_type": "stream",
     "text": [
      "Обрабатываем catalogid: 6302\n",
      "Обрабатываем небольшой catalogid: 6302 (размер: 1002)\n"
     ]
    },
    {
     "name": "stderr",
     "output_type": "stream",
     "text": [
      "Обработка catalogid:   1%|          | 5/478 [00:05<07:53,  1.00s/it]"
     ]
    },
    {
     "name": "stdout",
     "output_type": "stream",
     "text": [
      "Обрабатываем catalogid: 7063\n",
      "Обрабатываем небольшой catalogid: 7063 (размер: 819)\n"
     ]
    },
    {
     "name": "stderr",
     "output_type": "stream",
     "text": [
      "Обработка catalogid:   2%|▏         | 8/478 [00:05<03:18,  2.37it/s]"
     ]
    },
    {
     "name": "stdout",
     "output_type": "stream",
     "text": [
      "Обрабатываем catalogid: 7076\n",
      "Обрабатываем небольшой catalogid: 7076 (размер: 7)\n",
      "Обрабатываем catalogid: 7083\n",
      "Обрабатываем небольшой catalogid: 7083 (размер: 261)\n",
      "Обрабатываем catalogid: 7203\n",
      "Обрабатываем небольшой catalogid: 7203 (размер: 1)\n",
      "Предупреждение: name_vec имеет недостаточно признаков для SVD\n",
      "Предупреждение: desc_vec имеет недостаточно признаков для SVD\n",
      "Предупреждение: эмбеддинги имеют недостаточно признаков для PCA\n",
      "Обрабатываем catalogid: 7502\n",
      "Обрабатываем большой catalogid: 7502 (размер: 199919)\n",
      "Сбор статистики для обучения преобразователей...\n",
      "Обучение преобразователей...\n",
      "Определение размерности финальных векторов...\n",
      "Размерность финальных векторов: 5383\n",
      "Первый проход: вычисление статистики для нормализации...\n"
     ]
    },
    {
     "name": "stderr",
     "output_type": "stream",
     "text": [
      "Сбор статистики: 100%|██████████| 40/40 [00:27<00:00,  1.47it/s]\n"
     ]
    },
    {
     "name": "stdout",
     "output_type": "stream",
     "text": [
      "Второй проход: нормализация и сохранение...\n"
     ]
    },
    {
     "name": "stderr",
     "output_type": "stream",
     "text": [
      "Нормализация и сохранение: 100%|██████████| 40/40 [00:34<00:00,  1.16it/s]\n",
      "Обработка catalogid:   2%|▏         | 10/478 [01:24<2:08:01, 16.41s/it]"
     ]
    },
    {
     "name": "stdout",
     "output_type": "stream",
     "text": [
      "Обработка с нормализацией завершена. Векторы сохранены в: ./result_vectors/7502_vectors.npy\n",
      "Обрабатываем catalogid: 7503\n",
      "Обрабатываем большой catalogid: 7503 (размер: 73755)\n",
      "Сбор статистики для обучения преобразователей...\n",
      "Обучение преобразователей...\n",
      "Определение размерности финальных векторов...\n",
      "Размерность финальных векторов: 2039\n",
      "Первый проход: вычисление статистики для нормализации...\n"
     ]
    },
    {
     "name": "stderr",
     "output_type": "stream",
     "text": [
      "Сбор статистики: 100%|██████████| 15/15 [00:06<00:00,  2.44it/s]\n"
     ]
    },
    {
     "name": "stdout",
     "output_type": "stream",
     "text": [
      "Второй проход: нормализация и сохранение...\n"
     ]
    },
    {
     "name": "stderr",
     "output_type": "stream",
     "text": [
      "Нормализация и сохранение: 100%|██████████| 15/15 [00:07<00:00,  2.06it/s]\n",
      "Обработка catalogid:   2%|▏         | 11/478 [01:43<2:13:02, 17.09s/it]"
     ]
    },
    {
     "name": "stdout",
     "output_type": "stream",
     "text": [
      "Обработка с нормализацией завершена. Векторы сохранены в: ./result_vectors/7503_vectors.npy\n",
      "Обрабатываем catalogid: 7504\n",
      "Обрабатываем большой catalogid: 7504 (размер: 62463)\n",
      "Сбор статистики для обучения преобразователей...\n",
      "Обучение преобразователей...\n",
      "Определение размерности финальных векторов...\n",
      "Размерность финальных векторов: 3259\n",
      "Первый проход: вычисление статистики для нормализации...\n"
     ]
    },
    {
     "name": "stderr",
     "output_type": "stream",
     "text": [
      "Сбор статистики: 100%|██████████| 13/13 [00:05<00:00,  2.19it/s]\n"
     ]
    },
    {
     "name": "stdout",
     "output_type": "stream",
     "text": [
      "Второй проход: нормализация и сохранение...\n"
     ]
    },
    {
     "name": "stderr",
     "output_type": "stream",
     "text": [
      "Нормализация и сохранение: 100%|██████████| 13/13 [00:07<00:00,  1.71it/s]\n",
      "Обработка catalogid:   3%|▎         | 12/478 [02:02<2:16:01, 17.51s/it]"
     ]
    },
    {
     "name": "stdout",
     "output_type": "stream",
     "text": [
      "Обработка с нормализацией завершена. Векторы сохранены в: ./result_vectors/7504_vectors.npy\n",
      "Обрабатываем catalogid: 7506\n",
      "Обрабатываем большой catalogid: 7506 (размер: 72422)\n",
      "Сбор статистики для обучения преобразователей...\n",
      "Обучение преобразователей...\n",
      "Определение размерности финальных векторов...\n",
      "Размерность финальных векторов: 3134\n",
      "Первый проход: вычисление статистики для нормализации...\n"
     ]
    },
    {
     "name": "stderr",
     "output_type": "stream",
     "text": [
      "Сбор статистики: 100%|██████████| 15/15 [00:06<00:00,  2.31it/s]\n"
     ]
    },
    {
     "name": "stdout",
     "output_type": "stream",
     "text": [
      "Второй проход: нормализация и сохранение...\n"
     ]
    },
    {
     "name": "stderr",
     "output_type": "stream",
     "text": [
      "Нормализация и сохранение: 100%|██████████| 15/15 [00:08<00:00,  1.76it/s]\n",
      "Обработка catalogid:   3%|▎         | 13/478 [02:23<2:22:20, 18.37s/it]"
     ]
    },
    {
     "name": "stdout",
     "output_type": "stream",
     "text": [
      "Обработка с нормализацией завершена. Векторы сохранены в: ./result_vectors/7506_vectors.npy\n",
      "Обрабатываем catalogid: 7507\n",
      "Обрабатываем небольшой catalogid: 7507 (размер: 12131)\n"
     ]
    },
    {
     "name": "stderr",
     "output_type": "stream",
     "text": [
      "Обработка catalogid:   3%|▎         | 14/478 [02:25<1:48:56, 14.09s/it]"
     ]
    },
    {
     "name": "stdout",
     "output_type": "stream",
     "text": [
      "Обрабатываем catalogid: 7508\n",
      "Обрабатываем большой catalogid: 7508 (размер: 267444)\n",
      "Сбор статистики для обучения преобразователей...\n",
      "Обучение преобразователей...\n",
      "Определение размерности финальных векторов...\n",
      "Размерность финальных векторов: 4660\n",
      "Первый проход: вычисление статистики для нормализации...\n"
     ]
    },
    {
     "name": "stderr",
     "output_type": "stream",
     "text": [
      "Сбор статистики: 100%|██████████| 54/54 [00:29<00:00,  1.84it/s]\n"
     ]
    },
    {
     "name": "stdout",
     "output_type": "stream",
     "text": [
      "Второй проход: нормализация и сохранение...\n"
     ]
    },
    {
     "name": "stderr",
     "output_type": "stream",
     "text": [
      "Нормализация и сохранение: 100%|██████████| 54/54 [00:44<00:00,  1.22it/s]\n",
      "Обработка catalogid:   3%|▎         | 15/478 [04:02<4:46:46, 37.16s/it]"
     ]
    },
    {
     "name": "stdout",
     "output_type": "stream",
     "text": [
      "Обработка с нормализацией завершена. Векторы сохранены в: ./result_vectors/7508_vectors.npy\n",
      "Обрабатываем catalogid: 7511\n",
      "Обрабатываем большой catalogid: 7511 (размер: 108535)\n",
      "Сбор статистики для обучения преобразователей...\n",
      "Обучение преобразователей...\n",
      "Определение размерности финальных векторов...\n",
      "Размерность финальных векторов: 3370\n",
      "Первый проход: вычисление статистики для нормализации...\n"
     ]
    },
    {
     "name": "stderr",
     "output_type": "stream",
     "text": [
      "Сбор статистики: 100%|██████████| 22/22 [00:09<00:00,  2.40it/s]\n"
     ]
    },
    {
     "name": "stdout",
     "output_type": "stream",
     "text": [
      "Второй проход: нормализация и сохранение...\n"
     ]
    },
    {
     "name": "stderr",
     "output_type": "stream",
     "text": [
      "Нормализация и сохранение: 100%|██████████| 22/22 [00:11<00:00,  1.84it/s]\n",
      "Обработка catalogid:   3%|▎         | 16/478 [04:31<4:27:17, 34.71s/it]"
     ]
    },
    {
     "name": "stdout",
     "output_type": "stream",
     "text": [
      "Обработка с нормализацией завершена. Векторы сохранены в: ./result_vectors/7511_vectors.npy\n",
      "Обрабатываем catalogid: 7512\n",
      "Обрабатываем большой catalogid: 7512 (размер: 120846)\n",
      "Сбор статистики для обучения преобразователей...\n",
      "Обучение преобразователей...\n",
      "Определение размерности финальных векторов...\n",
      "Размерность финальных векторов: 4882\n",
      "Первый проход: вычисление статистики для нормализации...\n"
     ]
    },
    {
     "name": "stderr",
     "output_type": "stream",
     "text": [
      "Сбор статистики: 100%|██████████| 25/25 [00:12<00:00,  1.97it/s]\n"
     ]
    },
    {
     "name": "stdout",
     "output_type": "stream",
     "text": [
      "Второй проход: нормализация и сохранение...\n"
     ]
    },
    {
     "name": "stderr",
     "output_type": "stream",
     "text": [
      "Нормализация и сохранение: 100%|██████████| 25/25 [00:17<00:00,  1.44it/s]\n",
      "Обработка catalogid:   4%|▎         | 17/478 [05:10<4:37:23, 36.10s/it]"
     ]
    },
    {
     "name": "stdout",
     "output_type": "stream",
     "text": [
      "Обработка с нормализацией завершена. Векторы сохранены в: ./result_vectors/7512_vectors.npy\n",
      "Обрабатываем catalogid: 7513\n",
      "Обрабатываем небольшой catalogid: 7513 (размер: 13272)\n"
     ]
    },
    {
     "name": "stderr",
     "output_type": "stream",
     "text": [
      "Обработка catalogid:   4%|▍         | 18/478 [05:13<3:21:21, 26.26s/it]"
     ]
    },
    {
     "name": "stdout",
     "output_type": "stream",
     "text": [
      "Обрабатываем catalogid: 7514\n",
      "Обрабатываем небольшой catalogid: 7514 (размер: 22737)\n"
     ]
    },
    {
     "name": "stderr",
     "output_type": "stream",
     "text": [
      "Обработка catalogid:   4%|▍         | 19/478 [05:21<2:40:30, 20.98s/it]"
     ]
    },
    {
     "name": "stdout",
     "output_type": "stream",
     "text": [
      "Обрабатываем catalogid: 7516\n",
      "Обрабатываем небольшой catalogid: 7516 (размер: 39233)\n"
     ]
    },
    {
     "name": "stderr",
     "output_type": "stream",
     "text": [
      "Обработка catalogid:   4%|▍         | 20/478 [05:31<2:14:46, 17.66s/it]"
     ]
    },
    {
     "name": "stdout",
     "output_type": "stream",
     "text": [
      "Обрабатываем catalogid: 7517\n",
      "Обрабатываем небольшой catalogid: 7517 (размер: 10941)\n"
     ]
    },
    {
     "name": "stderr",
     "output_type": "stream",
     "text": [
      "Обработка catalogid:   4%|▍         | 21/478 [05:33<1:39:36, 13.08s/it]"
     ]
    },
    {
     "name": "stdout",
     "output_type": "stream",
     "text": [
      "Обрабатываем catalogid: 7518\n",
      "Обрабатываем небольшой catalogid: 7518 (размер: 4094)\n"
     ]
    },
    {
     "name": "stderr",
     "output_type": "stream",
     "text": [
      "Обработка catalogid:   5%|▍         | 22/478 [05:34<1:12:11,  9.50s/it]"
     ]
    },
    {
     "name": "stdout",
     "output_type": "stream",
     "text": [
      "Обрабатываем catalogid: 7519\n",
      "Обрабатываем небольшой catalogid: 7519 (размер: 6662)\n"
     ]
    },
    {
     "name": "stderr",
     "output_type": "stream",
     "text": [
      "Обработка catalogid:   5%|▍         | 23/478 [05:36<53:44,  7.09s/it]  "
     ]
    },
    {
     "name": "stdout",
     "output_type": "stream",
     "text": [
      "Обрабатываем catalogid: 7520\n",
      "Обрабатываем небольшой catalogid: 7520 (размер: 11204)\n"
     ]
    },
    {
     "name": "stderr",
     "output_type": "stream",
     "text": [
      "Обработка catalogid:   5%|▌         | 24/478 [05:38<42:43,  5.65s/it]"
     ]
    },
    {
     "name": "stdout",
     "output_type": "stream",
     "text": [
      "Обрабатываем catalogid: 7521\n",
      "Обрабатываем небольшой catalogid: 7521 (размер: 1405)\n"
     ]
    },
    {
     "name": "stderr",
     "output_type": "stream",
     "text": [
      "Обработка catalogid:   5%|▌         | 25/478 [05:38<30:53,  4.09s/it]"
     ]
    },
    {
     "name": "stdout",
     "output_type": "stream",
     "text": [
      "Обрабатываем catalogid: 7527\n",
      "Обрабатываем небольшой catalogid: 7527 (размер: 2)\n",
      "Обрабатываем catalogid: 7529\n",
      "Обрабатываем небольшой catalogid: 7529 (размер: 9637)\n"
     ]
    },
    {
     "name": "stderr",
     "output_type": "stream",
     "text": [
      "Обработка catalogid:   6%|▌         | 27/478 [05:40<19:55,  2.65s/it]"
     ]
    },
    {
     "name": "stdout",
     "output_type": "stream",
     "text": [
      "Обрабатываем catalogid: 7530\n",
      "Обрабатываем большой catalogid: 7530 (размер: 106773)\n",
      "Сбор статистики для обучения преобразователей...\n",
      "Обучение преобразователей...\n",
      "Определение размерности финальных векторов...\n",
      "Размерность финальных векторов: 3617\n",
      "Первый проход: вычисление статистики для нормализации...\n"
     ]
    },
    {
     "name": "stderr",
     "output_type": "stream",
     "text": [
      "Сбор статистики: 100%|██████████| 22/22 [00:10<00:00,  2.11it/s]\n"
     ]
    },
    {
     "name": "stdout",
     "output_type": "stream",
     "text": [
      "Второй проход: нормализация и сохранение...\n"
     ]
    },
    {
     "name": "stderr",
     "output_type": "stream",
     "text": [
      "Нормализация и сохранение: 100%|██████████| 22/22 [00:12<00:00,  1.72it/s]\n",
      "Обработка catalogid:   6%|▌         | 28/478 [06:12<1:14:44,  9.96s/it]"
     ]
    },
    {
     "name": "stdout",
     "output_type": "stream",
     "text": [
      "Обработка с нормализацией завершена. Векторы сохранены в: ./result_vectors/7530_vectors.npy\n",
      "Обрабатываем catalogid: 7531\n",
      "Обрабатываем небольшой catalogid: 7531 (размер: 17304)\n"
     ]
    },
    {
     "name": "stderr",
     "output_type": "stream",
     "text": [
      "Обработка catalogid:   6%|▌         | 29/478 [06:17<1:04:15,  8.59s/it]"
     ]
    },
    {
     "name": "stdout",
     "output_type": "stream",
     "text": [
      "Обрабатываем catalogid: 7532\n",
      "Обрабатываем небольшой catalogid: 7532 (размер: 8139)\n"
     ]
    },
    {
     "name": "stderr",
     "output_type": "stream",
     "text": [
      "Обработка catalogid:   6%|▋         | 30/478 [06:19<50:05,  6.71s/it]  "
     ]
    },
    {
     "name": "stdout",
     "output_type": "stream",
     "text": [
      "Обрабатываем catalogid: 7534\n",
      "Обрабатываем небольшой catalogid: 7534 (размер: 8720)\n"
     ]
    },
    {
     "name": "stderr",
     "output_type": "stream",
     "text": [
      "Обработка catalogid:   6%|▋         | 31/478 [06:20<39:43,  5.33s/it]"
     ]
    },
    {
     "name": "stdout",
     "output_type": "stream",
     "text": [
      "Обрабатываем catalogid: 7535\n",
      "Обрабатываем небольшой catalogid: 7535 (размер: 38954)\n"
     ]
    },
    {
     "name": "stderr",
     "output_type": "stream",
     "text": [
      "Обработка catalogid:   7%|▋         | 32/478 [06:30<47:57,  6.45s/it]"
     ]
    },
    {
     "name": "stdout",
     "output_type": "stream",
     "text": [
      "Обрабатываем catalogid: 7536\n",
      "Обрабатываем большой catalogid: 7536 (размер: 66111)\n",
      "Сбор статистики для обучения преобразователей...\n",
      "Обучение преобразователей...\n",
      "Определение размерности финальных векторов...\n",
      "Размерность финальных векторов: 3069\n",
      "Первый проход: вычисление статистики для нормализации...\n"
     ]
    },
    {
     "name": "stderr",
     "output_type": "stream",
     "text": [
      "Сбор статистики: 100%|██████████| 14/14 [00:06<00:00,  2.26it/s]\n"
     ]
    },
    {
     "name": "stdout",
     "output_type": "stream",
     "text": [
      "Второй проход: нормализация и сохранение...\n"
     ]
    },
    {
     "name": "stderr",
     "output_type": "stream",
     "text": [
      "Нормализация и сохранение: 100%|██████████| 14/14 [00:07<00:00,  1.78it/s]\n",
      "Обработка catalogid:   7%|▋         | 33/478 [06:50<1:16:34, 10.32s/it]"
     ]
    },
    {
     "name": "stdout",
     "output_type": "stream",
     "text": [
      "Обработка с нормализацией завершена. Векторы сохранены в: ./result_vectors/7536_vectors.npy\n",
      "Обрабатываем catalogid: 7537\n",
      "Обрабатываем большой catalogid: 7537 (размер: 73868)\n",
      "Сбор статистики для обучения преобразователей...\n",
      "Обучение преобразователей...\n",
      "Определение размерности финальных векторов...\n",
      "Размерность финальных векторов: 3224\n",
      "Первый проход: вычисление статистики для нормализации...\n"
     ]
    },
    {
     "name": "stderr",
     "output_type": "stream",
     "text": [
      "Сбор статистики: 100%|██████████| 15/15 [00:06<00:00,  2.34it/s]\n"
     ]
    },
    {
     "name": "stdout",
     "output_type": "stream",
     "text": [
      "Второй проход: нормализация и сохранение...\n"
     ]
    },
    {
     "name": "stderr",
     "output_type": "stream",
     "text": [
      "Нормализация и сохранение: 100%|██████████| 15/15 [00:07<00:00,  1.90it/s]\n",
      "Обработка catalogid:   7%|▋         | 34/478 [07:10<1:37:16, 13.15s/it]"
     ]
    },
    {
     "name": "stdout",
     "output_type": "stream",
     "text": [
      "Обработка с нормализацией завершена. Векторы сохранены в: ./result_vectors/7537_vectors.npy\n",
      "Обрабатываем catalogid: 7540\n",
      "Обрабатываем большой catalogid: 7540 (размер: 66790)\n",
      "Сбор статистики для обучения преобразователей...\n",
      "Обучение преобразователей...\n",
      "Определение размерности финальных векторов...\n",
      "Размерность финальных векторов: 2044\n",
      "Первый проход: вычисление статистики для нормализации...\n"
     ]
    },
    {
     "name": "stderr",
     "output_type": "stream",
     "text": [
      "Сбор статистики: 100%|██████████| 14/14 [00:05<00:00,  2.71it/s]\n"
     ]
    },
    {
     "name": "stdout",
     "output_type": "stream",
     "text": [
      "Второй проход: нормализация и сохранение...\n"
     ]
    },
    {
     "name": "stderr",
     "output_type": "stream",
     "text": [
      "Нормализация и сохранение: 100%|██████████| 14/14 [00:06<00:00,  2.29it/s]\n",
      "Обработка catalogid:   7%|▋         | 35/478 [07:26<1:43:59, 14.08s/it]"
     ]
    },
    {
     "name": "stdout",
     "output_type": "stream",
     "text": [
      "Обработка с нормализацией завершена. Векторы сохранены в: ./result_vectors/7540_vectors.npy\n",
      "Обрабатываем catalogid: 7544\n",
      "Обрабатываем небольшой catalogid: 7544 (размер: 5078)\n"
     ]
    },
    {
     "name": "stderr",
     "output_type": "stream",
     "text": [
      "Обработка catalogid:   8%|▊         | 36/478 [07:27<1:15:19, 10.23s/it]"
     ]
    },
    {
     "name": "stdout",
     "output_type": "stream",
     "text": [
      "Обрабатываем catalogid: 7545\n",
      "Обрабатываем большой catalogid: 7545 (размер: 60588)\n",
      "Сбор статистики для обучения преобразователей...\n",
      "Обучение преобразователей...\n",
      "Определение размерности финальных векторов...\n",
      "Размерность финальных векторов: 2610\n",
      "Первый проход: вычисление статистики для нормализации...\n"
     ]
    },
    {
     "name": "stderr",
     "output_type": "stream",
     "text": [
      "Сбор статистики: 100%|██████████| 13/13 [00:04<00:00,  2.64it/s]\n"
     ]
    },
    {
     "name": "stdout",
     "output_type": "stream",
     "text": [
      "Второй проход: нормализация и сохранение...\n"
     ]
    },
    {
     "name": "stderr",
     "output_type": "stream",
     "text": [
      "Нормализация и сохранение: 100%|██████████| 13/13 [00:06<00:00,  2.01it/s]\n",
      "Обработка catalogid:   8%|▊         | 37/478 [07:43<1:28:41, 12.07s/it]"
     ]
    },
    {
     "name": "stdout",
     "output_type": "stream",
     "text": [
      "Обработка с нормализацией завершена. Векторы сохранены в: ./result_vectors/7545_vectors.npy\n",
      "Обрабатываем catalogid: 7546\n",
      "Обрабатываем небольшой catalogid: 7546 (размер: 2679)\n"
     ]
    },
    {
     "name": "stderr",
     "output_type": "stream",
     "text": [
      "Обработка catalogid:   8%|▊         | 39/478 [07:44<44:51,  6.13s/it]  "
     ]
    },
    {
     "name": "stdout",
     "output_type": "stream",
     "text": [
      "Обрабатываем catalogid: 7549\n",
      "Обрабатываем небольшой catalogid: 7549 (размер: 626)\n",
      "Обрабатываем catalogid: 7550\n",
      "Обрабатываем небольшой catalogid: 7550 (размер: 9940)\n"
     ]
    },
    {
     "name": "stderr",
     "output_type": "stream",
     "text": [
      "Обработка catalogid:   8%|▊         | 40/478 [07:46<35:34,  4.87s/it]"
     ]
    },
    {
     "name": "stdout",
     "output_type": "stream",
     "text": [
      "Обрабатываем catalogid: 7552\n",
      "Обрабатываем большой catalogid: 7552 (размер: 51928)\n",
      "Сбор статистики для обучения преобразователей...\n",
      "Обучение преобразователей...\n",
      "Определение размерности финальных векторов...\n",
      "Размерность финальных векторов: 2273\n",
      "Первый проход: вычисление статистики для нормализации...\n"
     ]
    },
    {
     "name": "stderr",
     "output_type": "stream",
     "text": [
      "Сбор статистики: 100%|██████████| 11/11 [00:04<00:00,  2.45it/s]\n"
     ]
    },
    {
     "name": "stdout",
     "output_type": "stream",
     "text": [
      "Второй проход: нормализация и сохранение...\n"
     ]
    },
    {
     "name": "stderr",
     "output_type": "stream",
     "text": [
      "Нормализация и сохранение: 100%|██████████| 11/11 [00:05<00:00,  2.01it/s]\n",
      "Обработка catalogid:   9%|▊         | 41/478 [08:01<56:22,  7.74s/it]"
     ]
    },
    {
     "name": "stdout",
     "output_type": "stream",
     "text": [
      "Обработка с нормализацией завершена. Векторы сохранены в: ./result_vectors/7552_vectors.npy\n",
      "Обрабатываем catalogid: 7553\n",
      "Обрабатываем большой catalogid: 7553 (размер: 50728)\n",
      "Сбор статистики для обучения преобразователей...\n",
      "Обучение преобразователей...\n",
      "Определение размерности финальных векторов...\n",
      "Размерность финальных векторов: 1920\n",
      "Первый проход: вычисление статистики для нормализации...\n"
     ]
    },
    {
     "name": "stderr",
     "output_type": "stream",
     "text": [
      "Сбор статистики: 100%|██████████| 11/11 [00:03<00:00,  2.93it/s]\n"
     ]
    },
    {
     "name": "stdout",
     "output_type": "stream",
     "text": [
      "Второй проход: нормализация и сохранение...\n"
     ]
    },
    {
     "name": "stderr",
     "output_type": "stream",
     "text": [
      "Нормализация и сохранение: 100%|██████████| 11/11 [00:04<00:00,  2.37it/s]\n",
      "Обработка catalogid:   9%|▉         | 42/478 [08:14<1:08:19,  9.40s/it]"
     ]
    },
    {
     "name": "stdout",
     "output_type": "stream",
     "text": [
      "Обработка с нормализацией завершена. Векторы сохранены в: ./result_vectors/7553_vectors.npy\n",
      "Обрабатываем catalogid: 7554\n",
      "Обрабатываем небольшой catalogid: 7554 (размер: 24213)\n"
     ]
    },
    {
     "name": "stderr",
     "output_type": "stream",
     "text": [
      "Обработка catalogid:   9%|▉         | 43/478 [08:19<57:52,  7.98s/it]  "
     ]
    },
    {
     "name": "stdout",
     "output_type": "stream",
     "text": [
      "Обрабатываем catalogid: 7555\n",
      "Обрабатываем небольшой catalogid: 7555 (размер: 44700)\n"
     ]
    },
    {
     "name": "stderr",
     "output_type": "stream",
     "text": [
      "Обработка catalogid:   9%|▉         | 44/478 [08:29<1:02:38,  8.66s/it]"
     ]
    },
    {
     "name": "stdout",
     "output_type": "stream",
     "text": [
      "Обрабатываем catalogid: 7556\n",
      "Обрабатываем небольшой catalogid: 7556 (размер: 37503)\n"
     ]
    },
    {
     "name": "stderr",
     "output_type": "stream",
     "text": [
      "Обработка catalogid:   9%|▉         | 45/478 [08:36<58:41,  8.13s/it]  "
     ]
    },
    {
     "name": "stdout",
     "output_type": "stream",
     "text": [
      "Обрабатываем catalogid: 7557\n",
      "Обрабатываем небольшой catalogid: 7557 (размер: 22128)\n"
     ]
    },
    {
     "name": "stderr",
     "output_type": "stream",
     "text": [
      "Обработка catalogid:  10%|▉         | 46/478 [08:40<50:46,  7.05s/it]"
     ]
    },
    {
     "name": "stdout",
     "output_type": "stream",
     "text": [
      "Обрабатываем catalogid: 7559\n",
      "Обрабатываем большой catalogid: 7559 (размер: 413637)\n",
      "Сбор статистики для обучения преобразователей...\n",
      "Обучение преобразователей...\n",
      "Определение размерности финальных векторов...\n",
      "Размерность финальных векторов: 4750\n",
      "Первый проход: вычисление статистики для нормализации...\n"
     ]
    },
    {
     "name": "stderr",
     "output_type": "stream",
     "text": [
      "Сбор статистики: 100%|██████████| 83/83 [00:41<00:00,  2.02it/s]\n"
     ]
    },
    {
     "name": "stdout",
     "output_type": "stream",
     "text": [
      "Второй проход: нормализация и сохранение...\n"
     ]
    },
    {
     "name": "stderr",
     "output_type": "stream",
     "text": [
      "Нормализация и сохранение: 100%|██████████| 83/83 [01:02<00:00,  1.32it/s]\n",
      "Обработка catalogid:  10%|▉         | 47/478 [10:54<5:24:48, 45.22s/it]"
     ]
    },
    {
     "name": "stdout",
     "output_type": "stream",
     "text": [
      "Обработка с нормализацией завершена. Векторы сохранены в: ./result_vectors/7559_vectors.npy\n",
      "Обрабатываем catalogid: 7562\n",
      "Обрабатываем небольшой catalogid: 7562 (размер: 10063)\n"
     ]
    },
    {
     "name": "stderr",
     "output_type": "stream",
     "text": [
      "Обработка catalogid:  10%|█         | 48/478 [10:57<3:51:25, 32.29s/it]"
     ]
    },
    {
     "name": "stdout",
     "output_type": "stream",
     "text": [
      "Обрабатываем catalogid: 7564\n",
      "Обрабатываем небольшой catalogid: 7564 (размер: 30430)\n"
     ]
    },
    {
     "name": "stderr",
     "output_type": "stream",
     "text": [
      "Обработка catalogid:  10%|█         | 49/478 [11:02<2:53:55, 24.33s/it]"
     ]
    },
    {
     "name": "stdout",
     "output_type": "stream",
     "text": [
      "Обрабатываем catalogid: 7565\n",
      "Обрабатываем небольшой catalogid: 7565 (размер: 20756)\n"
     ]
    },
    {
     "name": "stderr",
     "output_type": "stream",
     "text": [
      "Обработка catalogid:  10%|█         | 50/478 [11:06<2:09:43, 18.19s/it]"
     ]
    },
    {
     "name": "stdout",
     "output_type": "stream",
     "text": [
      "Обрабатываем catalogid: 7566\n",
      "Обрабатываем небольшой catalogid: 7566 (размер: 5725)\n"
     ]
    },
    {
     "name": "stderr",
     "output_type": "stream",
     "text": [
      "Обработка catalogid:  11%|█         | 51/478 [11:07<1:33:11, 13.09s/it]"
     ]
    },
    {
     "name": "stdout",
     "output_type": "stream",
     "text": [
      "Обрабатываем catalogid: 7567\n",
      "Обрабатываем небольшой catalogid: 7567 (размер: 8090)\n"
     ]
    },
    {
     "name": "stderr",
     "output_type": "stream",
     "text": [
      "Обработка catalogid:  11%|█         | 52/478 [11:09<1:08:28,  9.64s/it]"
     ]
    },
    {
     "name": "stdout",
     "output_type": "stream",
     "text": [
      "Обрабатываем catalogid: 7568\n",
      "Обрабатываем небольшой catalogid: 7568 (размер: 32578)\n"
     ]
    },
    {
     "name": "stderr",
     "output_type": "stream",
     "text": [
      "Обработка catalogid:  11%|█         | 53/478 [11:15<1:00:50,  8.59s/it]"
     ]
    },
    {
     "name": "stdout",
     "output_type": "stream",
     "text": [
      "Обрабатываем catalogid: 7569\n",
      "Обрабатываем небольшой catalogid: 7569 (размер: 2069)\n"
     ]
    },
    {
     "name": "stderr",
     "output_type": "stream",
     "text": [
      "Обработка catalogid:  11%|█▏        | 54/478 [11:16<44:05,  6.24s/it]  "
     ]
    },
    {
     "name": "stdout",
     "output_type": "stream",
     "text": [
      "Обрабатываем catalogid: 7570\n",
      "Обрабатываем небольшой catalogid: 7570 (размер: 7976)\n"
     ]
    },
    {
     "name": "stderr",
     "output_type": "stream",
     "text": [
      "Обработка catalogid:  12%|█▏        | 55/478 [11:19<36:22,  5.16s/it]"
     ]
    },
    {
     "name": "stdout",
     "output_type": "stream",
     "text": [
      "Обрабатываем catalogid: 7582\n",
      "Обрабатываем небольшой catalogid: 7582 (размер: 13991)\n"
     ]
    },
    {
     "name": "stderr",
     "output_type": "stream",
     "text": [
      "Обработка catalogid:  12%|█▏        | 56/478 [11:22<31:49,  4.53s/it]"
     ]
    },
    {
     "name": "stdout",
     "output_type": "stream",
     "text": [
      "Обрабатываем catalogid: 7583\n",
      "Обрабатываем небольшой catalogid: 7583 (размер: 9380)\n"
     ]
    },
    {
     "name": "stderr",
     "output_type": "stream",
     "text": [
      "Обработка catalogid:  12%|█▏        | 57/478 [11:23<25:57,  3.70s/it]"
     ]
    },
    {
     "name": "stdout",
     "output_type": "stream",
     "text": [
      "Обрабатываем catalogid: 7585\n",
      "Обрабатываем небольшой catalogid: 7585 (размер: 31744)\n"
     ]
    },
    {
     "name": "stderr",
     "output_type": "stream",
     "text": [
      "Обработка catalogid:  12%|█▏        | 58/478 [11:30<32:19,  4.62s/it]"
     ]
    },
    {
     "name": "stdout",
     "output_type": "stream",
     "text": [
      "Обрабатываем catalogid: 7593\n",
      "Обрабатываем небольшой catalogid: 7593 (размер: 31609)\n"
     ]
    },
    {
     "name": "stderr",
     "output_type": "stream",
     "text": [
      "Обработка catalogid:  12%|█▏        | 59/478 [11:36<35:09,  5.04s/it]"
     ]
    },
    {
     "name": "stdout",
     "output_type": "stream",
     "text": [
      "Обрабатываем catalogid: 7594\n",
      "Обрабатываем небольшой catalogid: 7594 (размер: 377)\n"
     ]
    },
    {
     "name": "stderr",
     "output_type": "stream",
     "text": [
      "Обработка catalogid:  13%|█▎        | 60/478 [11:37<25:37,  3.68s/it]"
     ]
    },
    {
     "name": "stdout",
     "output_type": "stream",
     "text": [
      "Обрабатываем catalogid: 7595\n",
      "Обрабатываем небольшой catalogid: 7595 (размер: 9720)\n"
     ]
    },
    {
     "name": "stderr",
     "output_type": "stream",
     "text": [
      "Обработка catalogid:  13%|█▎        | 61/478 [11:38<21:24,  3.08s/it]"
     ]
    },
    {
     "name": "stdout",
     "output_type": "stream",
     "text": [
      "Обрабатываем catalogid: 7596\n",
      "Обрабатываем небольшой catalogid: 7596 (размер: 7855)\n"
     ]
    },
    {
     "name": "stderr",
     "output_type": "stream",
     "text": [
      "Обработка catalogid:  13%|█▎        | 62/478 [11:40<17:56,  2.59s/it]"
     ]
    },
    {
     "name": "stdout",
     "output_type": "stream",
     "text": [
      "Обрабатываем catalogid: 7597\n",
      "Обрабатываем небольшой catalogid: 7597 (размер: 18886)\n"
     ]
    },
    {
     "name": "stderr",
     "output_type": "stream",
     "text": [
      "Обработка catalogid:  13%|█▎        | 63/478 [11:43<19:57,  2.88s/it]"
     ]
    },
    {
     "name": "stdout",
     "output_type": "stream",
     "text": [
      "Обрабатываем catalogid: 7598\n",
      "Обрабатываем небольшой catalogid: 7598 (размер: 3079)\n"
     ]
    },
    {
     "name": "stderr",
     "output_type": "stream",
     "text": [
      "Обработка catalogid:  13%|█▎        | 64/478 [11:44<15:18,  2.22s/it]"
     ]
    },
    {
     "name": "stdout",
     "output_type": "stream",
     "text": [
      "Обрабатываем catalogid: 7599\n",
      "Обрабатываем небольшой catalogid: 7599 (размер: 41941)\n"
     ]
    },
    {
     "name": "stderr",
     "output_type": "stream",
     "text": [
      "Обработка catalogid:  14%|█▎        | 65/478 [11:53<28:49,  4.19s/it]"
     ]
    },
    {
     "name": "stdout",
     "output_type": "stream",
     "text": [
      "Обрабатываем catalogid: 7601\n",
      "Обрабатываем небольшой catalogid: 7601 (размер: 13440)\n"
     ]
    },
    {
     "name": "stderr",
     "output_type": "stream",
     "text": [
      "Обработка catalogid:  14%|█▍        | 66/478 [11:55<24:55,  3.63s/it]"
     ]
    },
    {
     "name": "stdout",
     "output_type": "stream",
     "text": [
      "Обрабатываем catalogid: 7603\n",
      "Обрабатываем небольшой catalogid: 7603 (размер: 13392)\n"
     ]
    },
    {
     "name": "stderr",
     "output_type": "stream",
     "text": [
      "Обработка catalogid:  14%|█▍        | 67/478 [11:57<22:01,  3.22s/it]"
     ]
    },
    {
     "name": "stdout",
     "output_type": "stream",
     "text": [
      "Обрабатываем catalogid: 7604\n",
      "Обрабатываем небольшой catalogid: 7604 (размер: 7671)\n"
     ]
    },
    {
     "name": "stderr",
     "output_type": "stream",
     "text": [
      "Обработка catalogid:  14%|█▍        | 68/478 [11:59<18:55,  2.77s/it]"
     ]
    },
    {
     "name": "stdout",
     "output_type": "stream",
     "text": [
      "Обрабатываем catalogid: 7606\n",
      "Обрабатываем небольшой catalogid: 7606 (размер: 9668)\n"
     ]
    },
    {
     "name": "stderr",
     "output_type": "stream",
     "text": [
      "Обработка catalogid:  14%|█▍        | 69/478 [12:01<18:05,  2.65s/it]"
     ]
    },
    {
     "name": "stdout",
     "output_type": "stream",
     "text": [
      "Обрабатываем catalogid: 7608\n",
      "Обрабатываем небольшой catalogid: 7608 (размер: 28219)\n"
     ]
    },
    {
     "name": "stderr",
     "output_type": "stream",
     "text": [
      "Обработка catalogid:  15%|█▍        | 70/478 [12:07<24:39,  3.63s/it]"
     ]
    },
    {
     "name": "stdout",
     "output_type": "stream",
     "text": [
      "Обрабатываем catalogid: 7616\n",
      "Обрабатываем небольшой catalogid: 7616 (размер: 25780)\n"
     ]
    },
    {
     "name": "stderr",
     "output_type": "stream",
     "text": [
      "Обработка catalogid:  15%|█▍        | 71/478 [12:12<26:52,  3.96s/it]"
     ]
    },
    {
     "name": "stdout",
     "output_type": "stream",
     "text": [
      "Обрабатываем catalogid: 7618\n",
      "Обрабатываем небольшой catalogid: 7618 (размер: 2092)\n"
     ]
    },
    {
     "name": "stderr",
     "output_type": "stream",
     "text": [
      "Обработка catalogid:  15%|█▌        | 72/478 [12:13<19:51,  2.93s/it]"
     ]
    },
    {
     "name": "stdout",
     "output_type": "stream",
     "text": [
      "Обрабатываем catalogid: 7619\n",
      "Обрабатываем небольшой catalogid: 7619 (размер: 8913)\n"
     ]
    },
    {
     "name": "stderr",
     "output_type": "stream",
     "text": [
      "Обработка catalogid:  15%|█▌        | 73/478 [12:15<17:37,  2.61s/it]"
     ]
    },
    {
     "name": "stdout",
     "output_type": "stream",
     "text": [
      "Обрабатываем catalogid: 7621\n",
      "Обрабатываем небольшой catalogid: 7621 (размер: 5105)\n"
     ]
    },
    {
     "name": "stderr",
     "output_type": "stream",
     "text": [
      "Обработка catalogid:  15%|█▌        | 74/478 [12:16<14:18,  2.13s/it]"
     ]
    },
    {
     "name": "stdout",
     "output_type": "stream",
     "text": [
      "Обрабатываем catalogid: 7622\n",
      "Обрабатываем небольшой catalogid: 7622 (размер: 9201)\n"
     ]
    },
    {
     "name": "stderr",
     "output_type": "stream",
     "text": [
      "Обработка catalogid:  16%|█▌        | 75/478 [12:17<13:25,  2.00s/it]"
     ]
    },
    {
     "name": "stdout",
     "output_type": "stream",
     "text": [
      "Обрабатываем catalogid: 7624\n",
      "Обрабатываем небольшой catalogid: 7624 (размер: 12930)\n"
     ]
    },
    {
     "name": "stderr",
     "output_type": "stream",
     "text": [
      "Обработка catalogid:  16%|█▌        | 76/478 [12:19<13:56,  2.08s/it]"
     ]
    },
    {
     "name": "stdout",
     "output_type": "stream",
     "text": [
      "Обрабатываем catalogid: 7628\n",
      "Обрабатываем небольшой catalogid: 7628 (размер: 8661)\n"
     ]
    },
    {
     "name": "stderr",
     "output_type": "stream",
     "text": [
      "Обработка catalogid:  16%|█▌        | 77/478 [12:21<13:04,  1.96s/it]"
     ]
    },
    {
     "name": "stdout",
     "output_type": "stream",
     "text": [
      "Обрабатываем catalogid: 7630\n",
      "Обрабатываем небольшой catalogid: 7630 (размер: 2208)\n"
     ]
    },
    {
     "name": "stderr",
     "output_type": "stream",
     "text": [
      "Обработка catalogid:  16%|█▋        | 78/478 [12:22<10:19,  1.55s/it]"
     ]
    },
    {
     "name": "stdout",
     "output_type": "stream",
     "text": [
      "Обрабатываем catalogid: 7631\n",
      "Обрабатываем небольшой catalogid: 7631 (размер: 2042)\n"
     ]
    },
    {
     "name": "stderr",
     "output_type": "stream",
     "text": [
      "Обработка catalogid:  17%|█▋        | 79/478 [12:22<08:21,  1.26s/it]"
     ]
    },
    {
     "name": "stdout",
     "output_type": "stream",
     "text": [
      "Обрабатываем catalogid: 7632\n",
      "Обрабатываем небольшой catalogid: 7632 (размер: 7076)\n"
     ]
    },
    {
     "name": "stderr",
     "output_type": "stream",
     "text": [
      "Обработка catalogid:  17%|█▋        | 80/478 [12:24<08:56,  1.35s/it]"
     ]
    },
    {
     "name": "stdout",
     "output_type": "stream",
     "text": [
      "Обрабатываем catalogid: 7633\n",
      "Обрабатываем небольшой catalogid: 7633 (размер: 15629)\n"
     ]
    },
    {
     "name": "stderr",
     "output_type": "stream",
     "text": [
      "Обработка catalogid:  17%|█▋        | 81/478 [12:27<11:58,  1.81s/it]"
     ]
    },
    {
     "name": "stdout",
     "output_type": "stream",
     "text": [
      "Обрабатываем catalogid: 7634\n",
      "Обрабатываем небольшой catalogid: 7634 (размер: 5810)\n"
     ]
    },
    {
     "name": "stderr",
     "output_type": "stream",
     "text": [
      "Обработка catalogid:  17%|█▋        | 82/478 [12:28<10:51,  1.65s/it]"
     ]
    },
    {
     "name": "stdout",
     "output_type": "stream",
     "text": [
      "Обрабатываем catalogid: 7635\n",
      "Обрабатываем небольшой catalogid: 7635 (размер: 5684)\n"
     ]
    },
    {
     "name": "stderr",
     "output_type": "stream",
     "text": [
      "Обработка catalogid:  17%|█▋        | 83/478 [12:29<10:10,  1.55s/it]"
     ]
    },
    {
     "name": "stdout",
     "output_type": "stream",
     "text": [
      "Обрабатываем catalogid: 7636\n",
      "Обрабатываем небольшой catalogid: 7636 (размер: 6763)\n"
     ]
    },
    {
     "name": "stderr",
     "output_type": "stream",
     "text": [
      "Обработка catalogid:  18%|█▊        | 84/478 [12:31<09:41,  1.48s/it]"
     ]
    },
    {
     "name": "stdout",
     "output_type": "stream",
     "text": [
      "Обрабатываем catalogid: 7638\n",
      "Обрабатываем небольшой catalogid: 7638 (размер: 1305)\n"
     ]
    },
    {
     "name": "stderr",
     "output_type": "stream",
     "text": [
      "Обработка catalogid:  18%|█▊        | 85/478 [12:31<07:37,  1.16s/it]"
     ]
    },
    {
     "name": "stdout",
     "output_type": "stream",
     "text": [
      "Обрабатываем catalogid: 7644\n",
      "Обрабатываем большой catalogid: 7644 (размер: 101622)\n",
      "Сбор статистики для обучения преобразователей...\n",
      "Обучение преобразователей...\n",
      "Определение размерности финальных векторов...\n",
      "Размерность финальных векторов: 1963\n",
      "Первый проход: вычисление статистики для нормализации...\n"
     ]
    },
    {
     "name": "stderr",
     "output_type": "stream",
     "text": [
      "Сбор статистики: 100%|██████████| 21/21 [00:07<00:00,  2.73it/s]\n"
     ]
    },
    {
     "name": "stdout",
     "output_type": "stream",
     "text": [
      "Второй проход: нормализация и сохранение...\n"
     ]
    },
    {
     "name": "stderr",
     "output_type": "stream",
     "text": [
      "Нормализация и сохранение: 100%|██████████| 21/21 [00:09<00:00,  2.33it/s]\n",
      "Обработка catalogid:  18%|█▊        | 86/478 [12:55<52:12,  7.99s/it]"
     ]
    },
    {
     "name": "stdout",
     "output_type": "stream",
     "text": [
      "Обработка с нормализацией завершена. Векторы сохранены в: ./result_vectors/7644_vectors.npy\n",
      "Обрабатываем catalogid: 7645\n",
      "Обрабатываем большой catalogid: 7645 (размер: 92535)\n",
      "Сбор статистики для обучения преобразователей...\n",
      "Обучение преобразователей...\n",
      "Определение размерности финальных векторов...\n",
      "Размерность финальных векторов: 2078\n",
      "Первый проход: вычисление статистики для нормализации...\n"
     ]
    },
    {
     "name": "stderr",
     "output_type": "stream",
     "text": [
      "Сбор статистики: 100%|██████████| 19/19 [00:06<00:00,  2.97it/s]\n"
     ]
    },
    {
     "name": "stdout",
     "output_type": "stream",
     "text": [
      "Второй проход: нормализация и сохранение...\n"
     ]
    },
    {
     "name": "stderr",
     "output_type": "stream",
     "text": [
      "Нормализация и сохранение: 100%|██████████| 19/19 [00:07<00:00,  2.42it/s]\n",
      "Обработка catalogid:  18%|█▊        | 87/478 [13:15<1:15:36, 11.60s/it]"
     ]
    },
    {
     "name": "stdout",
     "output_type": "stream",
     "text": [
      "Обработка с нормализацией завершена. Векторы сохранены в: ./result_vectors/7645_vectors.npy\n",
      "Обрабатываем catalogid: 7646\n",
      "Обрабатываем небольшой catalogid: 7646 (размер: 29525)\n"
     ]
    },
    {
     "name": "stderr",
     "output_type": "stream",
     "text": [
      "Обработка catalogid:  18%|█▊        | 88/478 [13:20<1:03:10,  9.72s/it]"
     ]
    },
    {
     "name": "stdout",
     "output_type": "stream",
     "text": [
      "Обрабатываем catalogid: 7648\n",
      "Обрабатываем небольшой catalogid: 7648 (размер: 10394)\n"
     ]
    },
    {
     "name": "stderr",
     "output_type": "stream",
     "text": [
      "Обработка catalogid:  19%|█▊        | 89/478 [13:22<47:14,  7.29s/it]  "
     ]
    },
    {
     "name": "stdout",
     "output_type": "stream",
     "text": [
      "Обрабатываем catalogid: 7649\n",
      "Обрабатываем небольшой catalogid: 7649 (размер: 2328)\n"
     ]
    },
    {
     "name": "stderr",
     "output_type": "stream",
     "text": [
      "Обработка catalogid:  19%|█▉        | 90/478 [13:22<33:55,  5.25s/it]"
     ]
    },
    {
     "name": "stdout",
     "output_type": "stream",
     "text": [
      "Обрабатываем catalogid: 7651\n",
      "Обрабатываем большой catalogid: 7651 (размер: 76747)\n",
      "Сбор статистики для обучения преобразователей...\n",
      "Обучение преобразователей...\n",
      "Определение размерности финальных векторов...\n",
      "Размерность финальных векторов: 1969\n",
      "Первый проход: вычисление статистики для нормализации...\n"
     ]
    },
    {
     "name": "stderr",
     "output_type": "stream",
     "text": [
      "Сбор статистики: 100%|██████████| 16/16 [00:05<00:00,  2.86it/s]\n"
     ]
    },
    {
     "name": "stdout",
     "output_type": "stream",
     "text": [
      "Второй проход: нормализация и сохранение...\n"
     ]
    },
    {
     "name": "stderr",
     "output_type": "stream",
     "text": [
      "Нормализация и сохранение: 100%|██████████| 16/16 [00:06<00:00,  2.42it/s]\n",
      "Обработка catalogid:  19%|█▉        | 91/478 [13:40<57:52,  8.97s/it]"
     ]
    },
    {
     "name": "stdout",
     "output_type": "stream",
     "text": [
      "Обработка с нормализацией завершена. Векторы сохранены в: ./result_vectors/7651_vectors.npy\n",
      "Обрабатываем catalogid: 7652\n",
      "Обрабатываем небольшой catalogid: 7652 (размер: 29083)\n"
     ]
    },
    {
     "name": "stderr",
     "output_type": "stream",
     "text": [
      "Обработка catalogid:  19%|█▉        | 92/478 [13:45<49:50,  7.75s/it]"
     ]
    },
    {
     "name": "stdout",
     "output_type": "stream",
     "text": [
      "Обрабатываем catalogid: 7653\n",
      "Обрабатываем небольшой catalogid: 7653 (размер: 20493)\n"
     ]
    },
    {
     "name": "stderr",
     "output_type": "stream",
     "text": [
      "Обработка catalogid:  19%|█▉        | 93/478 [13:49<41:34,  6.48s/it]"
     ]
    },
    {
     "name": "stdout",
     "output_type": "stream",
     "text": [
      "Обрабатываем catalogid: 7655\n",
      "Обрабатываем небольшой catalogid: 7655 (размер: 32276)\n"
     ]
    },
    {
     "name": "stderr",
     "output_type": "stream",
     "text": [
      "Обработка catalogid:  20%|█▉        | 94/478 [13:55<41:08,  6.43s/it]"
     ]
    },
    {
     "name": "stdout",
     "output_type": "stream",
     "text": [
      "Обрабатываем catalogid: 7657\n",
      "Обрабатываем небольшой catalogid: 7657 (размер: 36126)\n"
     ]
    },
    {
     "name": "stderr",
     "output_type": "stream",
     "text": [
      "Обработка catalogid:  20%|█▉        | 95/478 [14:01<40:26,  6.34s/it]"
     ]
    },
    {
     "name": "stdout",
     "output_type": "stream",
     "text": [
      "Обрабатываем catalogid: 7660\n",
      "Обрабатываем большой catalogid: 7660 (размер: 219858)\n",
      "Сбор статистики для обучения преобразователей...\n",
      "Обучение преобразователей...\n",
      "Определение размерности финальных векторов...\n",
      "Размерность финальных векторов: 2781\n",
      "Первый проход: вычисление статистики для нормализации...\n"
     ]
    },
    {
     "name": "stderr",
     "output_type": "stream",
     "text": [
      "Сбор статистики: 100%|██████████| 44/44 [00:16<00:00,  2.61it/s]\n"
     ]
    },
    {
     "name": "stdout",
     "output_type": "stream",
     "text": [
      "Второй проход: нормализация и сохранение...\n"
     ]
    },
    {
     "name": "stderr",
     "output_type": "stream",
     "text": [
      "Нормализация и сохранение: 100%|██████████| 44/44 [00:21<00:00,  2.02it/s]\n",
      "Обработка catalogid:  20%|██        | 96/478 [14:54<2:08:45, 20.22s/it]"
     ]
    },
    {
     "name": "stdout",
     "output_type": "stream",
     "text": [
      "Обработка с нормализацией завершена. Векторы сохранены в: ./result_vectors/7660_vectors.npy\n",
      "Обрабатываем catalogid: 7661\n",
      "Обрабатываем небольшой catalogid: 7661 (размер: 936)\n"
     ]
    },
    {
     "name": "stderr",
     "output_type": "stream",
     "text": [
      "Обработка catalogid:  20%|██        | 97/478 [14:54<1:30:25, 14.24s/it]"
     ]
    },
    {
     "name": "stdout",
     "output_type": "stream",
     "text": [
      "Обрабатываем catalogid: 7662\n",
      "Обрабатываем небольшой catalogid: 7662 (размер: 12059)\n"
     ]
    },
    {
     "name": "stderr",
     "output_type": "stream",
     "text": [
      "Обработка catalogid:  21%|██        | 98/478 [14:56<1:06:28, 10.50s/it]"
     ]
    },
    {
     "name": "stdout",
     "output_type": "stream",
     "text": [
      "Обрабатываем catalogid: 7663\n",
      "Обрабатываем небольшой catalogid: 7663 (размер: 21721)\n"
     ]
    },
    {
     "name": "stderr",
     "output_type": "stream",
     "text": [
      "Обработка catalogid:  21%|██        | 99/478 [14:59<53:05,  8.41s/it]  "
     ]
    },
    {
     "name": "stdout",
     "output_type": "stream",
     "text": [
      "Обрабатываем catalogid: 7664\n",
      "Обрабатываем небольшой catalogid: 7664 (размер: 10268)\n"
     ]
    },
    {
     "name": "stderr",
     "output_type": "stream",
     "text": [
      "Обработка catalogid:  21%|██        | 100/478 [15:01<40:05,  6.36s/it]"
     ]
    },
    {
     "name": "stdout",
     "output_type": "stream",
     "text": [
      "Обрабатываем catalogid: 7665\n",
      "Обрабатываем небольшой catalogid: 7665 (размер: 37756)\n"
     ]
    },
    {
     "name": "stderr",
     "output_type": "stream",
     "text": [
      "Обработка catalogid:  21%|██        | 101/478 [15:08<41:18,  6.57s/it]"
     ]
    },
    {
     "name": "stdout",
     "output_type": "stream",
     "text": [
      "Обрабатываем catalogid: 7666\n",
      "Обрабатываем небольшой catalogid: 7666 (размер: 20833)\n"
     ]
    },
    {
     "name": "stderr",
     "output_type": "stream",
     "text": [
      "Обработка catalogid:  21%|██▏       | 102/478 [15:12<36:45,  5.86s/it]"
     ]
    },
    {
     "name": "stdout",
     "output_type": "stream",
     "text": [
      "Обрабатываем catalogid: 7667\n",
      "Обрабатываем небольшой catalogid: 7667 (размер: 2653)\n"
     ]
    },
    {
     "name": "stderr",
     "output_type": "stream",
     "text": [
      "Обработка catalogid:  22%|██▏       | 103/478 [15:13<26:53,  4.30s/it]"
     ]
    },
    {
     "name": "stdout",
     "output_type": "stream",
     "text": [
      "Обрабатываем catalogid: 7670\n",
      "Обрабатываем небольшой catalogid: 7670 (размер: 4364)\n"
     ]
    },
    {
     "name": "stderr",
     "output_type": "stream",
     "text": [
      "Обработка catalogid:  22%|██▏       | 104/478 [15:14<20:33,  3.30s/it]"
     ]
    },
    {
     "name": "stdout",
     "output_type": "stream",
     "text": [
      "Обрабатываем catalogid: 7671\n",
      "Обрабатываем небольшой catalogid: 7671 (размер: 17314)\n"
     ]
    },
    {
     "name": "stderr",
     "output_type": "stream",
     "text": [
      "Обработка catalogid:  22%|██▏       | 105/478 [15:17<20:28,  3.29s/it]"
     ]
    },
    {
     "name": "stdout",
     "output_type": "stream",
     "text": [
      "Обрабатываем catalogid: 7674\n",
      "Обрабатываем небольшой catalogid: 7674 (размер: 25680)\n"
     ]
    },
    {
     "name": "stderr",
     "output_type": "stream",
     "text": [
      "Обработка catalogid:  22%|██▏       | 106/478 [15:21<21:39,  3.49s/it]"
     ]
    },
    {
     "name": "stdout",
     "output_type": "stream",
     "text": [
      "Обрабатываем catalogid: 7675\n",
      "Обрабатываем небольшой catalogid: 7675 (размер: 11609)\n"
     ]
    },
    {
     "name": "stderr",
     "output_type": "stream",
     "text": [
      "Обработка catalogid:  22%|██▏       | 107/478 [15:23<18:52,  3.05s/it]"
     ]
    },
    {
     "name": "stdout",
     "output_type": "stream",
     "text": [
      "Обрабатываем catalogid: 7676\n",
      "Обрабатываем небольшой catalogid: 7676 (размер: 4605)\n"
     ]
    },
    {
     "name": "stderr",
     "output_type": "stream",
     "text": [
      "Обработка catalogid:  23%|██▎       | 108/478 [15:24<15:02,  2.44s/it]"
     ]
    },
    {
     "name": "stdout",
     "output_type": "stream",
     "text": [
      "Обрабатываем catalogid: 7677\n",
      "Обрабатываем небольшой catalogid: 7677 (размер: 41956)\n"
     ]
    },
    {
     "name": "stderr",
     "output_type": "stream",
     "text": [
      "Обработка catalogid:  23%|██▎       | 109/478 [15:31<24:00,  3.90s/it]"
     ]
    },
    {
     "name": "stdout",
     "output_type": "stream",
     "text": [
      "Обрабатываем catalogid: 7679\n",
      "Обрабатываем небольшой catalogid: 7679 (размер: 3874)\n"
     ]
    },
    {
     "name": "stderr",
     "output_type": "stream",
     "text": [
      "Обработка catalogid:  23%|██▎       | 110/478 [15:32<18:34,  3.03s/it]"
     ]
    },
    {
     "name": "stdout",
     "output_type": "stream",
     "text": [
      "Обрабатываем catalogid: 7680\n",
      "Обрабатываем небольшой catalogid: 7680 (размер: 2776)\n"
     ]
    },
    {
     "name": "stderr",
     "output_type": "stream",
     "text": [
      "Обработка catalogid:  23%|██▎       | 111/478 [15:33<14:23,  2.35s/it]"
     ]
    },
    {
     "name": "stdout",
     "output_type": "stream",
     "text": [
      "Обрабатываем catalogid: 7683\n",
      "Обрабатываем небольшой catalogid: 7683 (размер: 4387)\n"
     ]
    },
    {
     "name": "stderr",
     "output_type": "stream",
     "text": [
      "Обработка catalogid:  23%|██▎       | 112/478 [15:34<11:53,  1.95s/it]"
     ]
    },
    {
     "name": "stdout",
     "output_type": "stream",
     "text": [
      "Обрабатываем catalogid: 7684\n",
      "Обрабатываем небольшой catalogid: 7684 (размер: 8285)\n"
     ]
    },
    {
     "name": "stderr",
     "output_type": "stream",
     "text": [
      "Обработка catalogid:  24%|██▎       | 113/478 [15:35<10:58,  1.80s/it]"
     ]
    },
    {
     "name": "stdout",
     "output_type": "stream",
     "text": [
      "Обрабатываем catalogid: 7686\n",
      "Обрабатываем небольшой catalogid: 7686 (размер: 10782)\n"
     ]
    },
    {
     "name": "stderr",
     "output_type": "stream",
     "text": [
      "Обработка catalogid:  24%|██▍       | 114/478 [15:37<11:02,  1.82s/it]"
     ]
    },
    {
     "name": "stdout",
     "output_type": "stream",
     "text": [
      "Обрабатываем catalogid: 7687\n",
      "Обрабатываем небольшой catalogid: 7687 (размер: 2952)\n"
     ]
    },
    {
     "name": "stderr",
     "output_type": "stream",
     "text": [
      "Обработка catalogid:  24%|██▍       | 115/478 [15:38<09:06,  1.51s/it]"
     ]
    },
    {
     "name": "stdout",
     "output_type": "stream",
     "text": [
      "Обрабатываем catalogid: 7688\n",
      "Обрабатываем небольшой catalogid: 7688 (размер: 46626)\n"
     ]
    },
    {
     "name": "stderr",
     "output_type": "stream",
     "text": [
      "Обработка catalogid:  24%|██▍       | 116/478 [15:46<21:15,  3.52s/it]"
     ]
    },
    {
     "name": "stdout",
     "output_type": "stream",
     "text": [
      "Обрабатываем catalogid: 7690\n",
      "Обрабатываем небольшой catalogid: 7690 (размер: 2886)\n"
     ]
    },
    {
     "name": "stderr",
     "output_type": "stream",
     "text": [
      "Обработка catalogid:  24%|██▍       | 117/478 [15:47<16:28,  2.74s/it]"
     ]
    },
    {
     "name": "stdout",
     "output_type": "stream",
     "text": [
      "Обрабатываем catalogid: 7691\n",
      "Обрабатываем небольшой catalogid: 7691 (размер: 18999)\n"
     ]
    },
    {
     "name": "stderr",
     "output_type": "stream",
     "text": [
      "Обработка catalogid:  25%|██▍       | 118/478 [15:50<17:04,  2.85s/it]"
     ]
    },
    {
     "name": "stdout",
     "output_type": "stream",
     "text": [
      "Обрабатываем catalogid: 7692\n",
      "Обрабатываем небольшой catalogid: 7692 (размер: 1205)\n"
     ]
    },
    {
     "name": "stderr",
     "output_type": "stream",
     "text": [
      "Обработка catalogid:  25%|██▍       | 119/478 [15:51<12:38,  2.11s/it]"
     ]
    },
    {
     "name": "stdout",
     "output_type": "stream",
     "text": [
      "Обрабатываем catalogid: 7694\n",
      "Обрабатываем небольшой catalogid: 7694 (размер: 2328)\n"
     ]
    },
    {
     "name": "stderr",
     "output_type": "stream",
     "text": [
      "Обработка catalogid:  25%|██▌       | 120/478 [15:51<09:50,  1.65s/it]"
     ]
    },
    {
     "name": "stdout",
     "output_type": "stream",
     "text": [
      "Обрабатываем catalogid: 7696\n",
      "Обрабатываем небольшой catalogid: 7696 (размер: 5226)\n"
     ]
    },
    {
     "name": "stderr",
     "output_type": "stream",
     "text": [
      "Обработка catalogid:  25%|██▌       | 121/478 [15:52<08:44,  1.47s/it]"
     ]
    },
    {
     "name": "stdout",
     "output_type": "stream",
     "text": [
      "Обрабатываем catalogid: 7706\n",
      "Обрабатываем небольшой catalogid: 7706 (размер: 13764)\n"
     ]
    },
    {
     "name": "stderr",
     "output_type": "stream",
     "text": [
      "Обработка catalogid:  26%|██▌       | 122/478 [15:55<11:00,  1.86s/it]"
     ]
    },
    {
     "name": "stdout",
     "output_type": "stream",
     "text": [
      "Обрабатываем catalogid: 7751\n",
      "Обрабатываем небольшой catalogid: 7751 (размер: 4226)\n"
     ]
    },
    {
     "name": "stderr",
     "output_type": "stream",
     "text": [
      "Обработка catalogid:  26%|██▌       | 123/478 [15:56<09:12,  1.56s/it]"
     ]
    },
    {
     "name": "stdout",
     "output_type": "stream",
     "text": [
      "Обрабатываем catalogid: 7762\n",
      "Обрабатываем небольшой catalogid: 7762 (размер: 750)\n"
     ]
    },
    {
     "name": "stderr",
     "output_type": "stream",
     "text": [
      "Обработка catalogid:  26%|██▌       | 125/478 [15:56<05:08,  1.15it/s]"
     ]
    },
    {
     "name": "stdout",
     "output_type": "stream",
     "text": [
      "Обрабатываем catalogid: 7768\n",
      "Обрабатываем небольшой catalogid: 7768 (размер: 79)\n",
      "Обрабатываем catalogid: 7771\n",
      "Обрабатываем небольшой catalogid: 7771 (размер: 1036)\n"
     ]
    },
    {
     "name": "stderr",
     "output_type": "stream",
     "text": [
      "Обработка catalogid:  26%|██▋       | 126/478 [15:57<04:14,  1.38it/s]"
     ]
    },
    {
     "name": "stdout",
     "output_type": "stream",
     "text": [
      "Обрабатываем catalogid: 7773\n",
      "Обрабатываем небольшой catalogid: 7773 (размер: 9129)\n"
     ]
    },
    {
     "name": "stderr",
     "output_type": "stream",
     "text": [
      "Обработка catalogid:  27%|██▋       | 127/478 [15:58<05:48,  1.01it/s]"
     ]
    },
    {
     "name": "stdout",
     "output_type": "stream",
     "text": [
      "Обрабатываем catalogid: 7774\n",
      "Обрабатываем небольшой catalogid: 7774 (размер: 7856)\n"
     ]
    },
    {
     "name": "stderr",
     "output_type": "stream",
     "text": [
      "Обработка catalogid:  27%|██▋       | 129/478 [16:00<05:13,  1.11it/s]"
     ]
    },
    {
     "name": "stdout",
     "output_type": "stream",
     "text": [
      "Обрабатываем catalogid: 7777\n",
      "Обрабатываем небольшой catalogid: 7777 (размер: 333)\n",
      "Обрабатываем catalogid: 7779\n",
      "Обрабатываем небольшой catalogid: 7779 (размер: 1554)\n"
     ]
    },
    {
     "name": "stderr",
     "output_type": "stream",
     "text": [
      "Обработка catalogid:  27%|██▋       | 130/478 [16:01<04:37,  1.25it/s]"
     ]
    },
    {
     "name": "stdout",
     "output_type": "stream",
     "text": [
      "Обрабатываем catalogid: 7781\n",
      "Обрабатываем небольшой catalogid: 7781 (размер: 1849)\n"
     ]
    },
    {
     "name": "stderr",
     "output_type": "stream",
     "text": [
      "Обработка catalogid:  27%|██▋       | 131/478 [16:02<04:28,  1.29it/s]"
     ]
    },
    {
     "name": "stdout",
     "output_type": "stream",
     "text": [
      "Обрабатываем catalogid: 7783\n",
      "Обрабатываем небольшой catalogid: 7783 (размер: 3479)\n"
     ]
    },
    {
     "name": "stderr",
     "output_type": "stream",
     "text": [
      "Обработка catalogid:  28%|██▊       | 132/478 [16:03<04:40,  1.23it/s]"
     ]
    },
    {
     "name": "stdout",
     "output_type": "stream",
     "text": [
      "Обрабатываем catalogid: 7786\n",
      "Обрабатываем небольшой catalogid: 7786 (размер: 1037)\n"
     ]
    },
    {
     "name": "stderr",
     "output_type": "stream",
     "text": [
      "Обработка catalogid:  28%|██▊       | 133/478 [16:03<03:58,  1.45it/s]"
     ]
    },
    {
     "name": "stdout",
     "output_type": "stream",
     "text": [
      "Обрабатываем catalogid: 7787\n",
      "Обрабатываем небольшой catalogid: 7787 (размер: 10634)\n"
     ]
    },
    {
     "name": "stderr",
     "output_type": "stream",
     "text": [
      "Обработка catalogid:  28%|██▊       | 134/478 [16:05<06:27,  1.13s/it]"
     ]
    },
    {
     "name": "stdout",
     "output_type": "stream",
     "text": [
      "Обрабатываем catalogid: 7788\n",
      "Обрабатываем небольшой catalogid: 7788 (размер: 44603)\n"
     ]
    },
    {
     "name": "stderr",
     "output_type": "stream",
     "text": [
      "Обработка catalogid:  28%|██▊       | 135/478 [16:17<25:29,  4.46s/it]"
     ]
    },
    {
     "name": "stdout",
     "output_type": "stream",
     "text": [
      "Обрабатываем catalogid: 7789\n",
      "Обрабатываем небольшой catalogid: 7789 (размер: 4251)\n"
     ]
    },
    {
     "name": "stderr",
     "output_type": "stream",
     "text": [
      "Обработка catalogid:  28%|██▊       | 136/478 [16:19<19:58,  3.50s/it]"
     ]
    },
    {
     "name": "stdout",
     "output_type": "stream",
     "text": [
      "Обрабатываем catalogid: 7793\n",
      "Обрабатываем небольшой catalogid: 7793 (размер: 2151)\n"
     ]
    },
    {
     "name": "stderr",
     "output_type": "stream",
     "text": [
      "Обработка catalogid:  29%|██▊       | 137/478 [16:19<15:11,  2.67s/it]"
     ]
    },
    {
     "name": "stdout",
     "output_type": "stream",
     "text": [
      "Обрабатываем catalogid: 7798\n",
      "Обрабатываем небольшой catalogid: 7798 (размер: 1265)\n"
     ]
    },
    {
     "name": "stderr",
     "output_type": "stream",
     "text": [
      "Обработка catalogid:  29%|██▉       | 138/478 [16:20<11:18,  2.00s/it]"
     ]
    },
    {
     "name": "stdout",
     "output_type": "stream",
     "text": [
      "Обрабатываем catalogid: 7801\n",
      "Обрабатываем небольшой catalogid: 7801 (размер: 1472)\n"
     ]
    },
    {
     "name": "stderr",
     "output_type": "stream",
     "text": [
      "Обработка catalogid:  29%|██▉       | 139/478 [16:20<08:42,  1.54s/it]"
     ]
    },
    {
     "name": "stdout",
     "output_type": "stream",
     "text": [
      "Обрабатываем catalogid: 7805\n",
      "Обрабатываем небольшой catalogid: 7805 (размер: 1297)\n"
     ]
    },
    {
     "name": "stderr",
     "output_type": "stream",
     "text": [
      "Обработка catalogid:  29%|██▉       | 140/478 [16:21<06:56,  1.23s/it]"
     ]
    },
    {
     "name": "stdout",
     "output_type": "stream",
     "text": [
      "Обрабатываем catalogid: 7806\n",
      "Обрабатываем небольшой catalogid: 7806 (размер: 5953)\n"
     ]
    },
    {
     "name": "stderr",
     "output_type": "stream",
     "text": [
      "Обработка catalogid:  29%|██▉       | 141/478 [16:22<07:08,  1.27s/it]"
     ]
    },
    {
     "name": "stdout",
     "output_type": "stream",
     "text": [
      "Обрабатываем catalogid: 7808\n",
      "Обрабатываем небольшой catalogid: 7808 (размер: 4847)\n"
     ]
    },
    {
     "name": "stderr",
     "output_type": "stream",
     "text": [
      "Обработка catalogid:  30%|██▉       | 142/478 [16:23<06:54,  1.23s/it]"
     ]
    },
    {
     "name": "stdout",
     "output_type": "stream",
     "text": [
      "Обрабатываем catalogid: 7813\n",
      "Обрабатываем небольшой catalogid: 7813 (размер: 1019)\n"
     ]
    },
    {
     "name": "stderr",
     "output_type": "stream",
     "text": [
      "Обработка catalogid:  30%|██▉       | 143/478 [16:24<05:32,  1.01it/s]"
     ]
    },
    {
     "name": "stdout",
     "output_type": "stream",
     "text": [
      "Обрабатываем catalogid: 7822\n",
      "Обрабатываем небольшой catalogid: 7822 (размер: 5)\n",
      "Обрабатываем catalogid: 9020\n",
      "Обрабатываем небольшой catalogid: 9020 (размер: 1)\n",
      "Предупреждение: name_vec имеет недостаточно признаков для SVD\n",
      "Предупреждение: desc_vec имеет недостаточно признаков для SVD\n",
      "Предупреждение: эмбеддинги имеют недостаточно признаков для PCA\n",
      "Обрабатываем catalogid: 10190\n",
      "Обрабатываем небольшой catalogid: 10190 (размер: 34668)\n"
     ]
    },
    {
     "name": "stderr",
     "output_type": "stream",
     "text": [
      "Обработка catalogid:  31%|███       | 148/478 [16:31<06:28,  1.18s/it]"
     ]
    },
    {
     "name": "stdout",
     "output_type": "stream",
     "text": [
      "Обрабатываем catalogid: 11104\n",
      "Обрабатываем небольшой catalogid: 11104 (размер: 10)\n",
      "Обрабатываем catalogid: 11144\n",
      "Обрабатываем небольшой catalogid: 11144 (размер: 28)\n",
      "Обрабатываем catalogid: 11237\n",
      "Обрабатываем небольшой catalogid: 11237 (размер: 1)\n",
      "Предупреждение: name_vec имеет недостаточно признаков для SVD\n",
      "Предупреждение: desc_vec имеет недостаточно признаков для SVD\n",
      "Предупреждение: эмбеддинги имеют недостаточно признаков для PCA\n",
      "Обрабатываем catalogid: 11280\n",
      "Обрабатываем небольшой catalogid: 11280 (размер: 909)\n"
     ]
    },
    {
     "name": "stderr",
     "output_type": "stream",
     "text": [
      "Обработка catalogid:  31%|███▏      | 150/478 [16:32<04:53,  1.12it/s]"
     ]
    },
    {
     "name": "stdout",
     "output_type": "stream",
     "text": [
      "Обрабатываем catalogid: 11536\n",
      "Обрабатываем небольшой catalogid: 11536 (размер: 1)\n",
      "Предупреждение: name_vec имеет недостаточно признаков для SVD\n",
      "Предупреждение: desc_vec имеет недостаточно признаков для SVD\n",
      "Предупреждение: эмбеддинги имеют недостаточно признаков для PCA\n",
      "Обрабатываем catalogid: 11601\n",
      "Обрабатываем небольшой catalogid: 11601 (размер: 867)\n"
     ]
    },
    {
     "name": "stderr",
     "output_type": "stream",
     "text": [
      "Обработка catalogid:  32%|███▏      | 152/478 [16:32<03:39,  1.48it/s]"
     ]
    },
    {
     "name": "stdout",
     "output_type": "stream",
     "text": [
      "Обрабатываем catalogid: 11606\n",
      "Обрабатываем небольшой catalogid: 11606 (размер: 749)\n"
     ]
    },
    {
     "name": "stderr",
     "output_type": "stream",
     "text": [
      "Обработка catalogid:  32%|███▏      | 154/478 [16:33<02:49,  1.91it/s]"
     ]
    },
    {
     "name": "stdout",
     "output_type": "stream",
     "text": [
      "Обрабатываем catalogid: 11608\n",
      "Обрабатываем небольшой catalogid: 11608 (размер: 407)\n",
      "Обрабатываем catalogid: 11628\n",
      "Обрабатываем небольшой catalogid: 11628 (размер: 3)\n",
      "Обрабатываем catalogid: 11856\n",
      "Обрабатываем небольшой catalogid: 11856 (размер: 1959)\n"
     ]
    },
    {
     "name": "stderr",
     "output_type": "stream",
     "text": [
      "Обработка catalogid:  33%|███▎      | 157/478 [16:33<02:06,  2.53it/s]"
     ]
    },
    {
     "name": "stdout",
     "output_type": "stream",
     "text": [
      "Обрабатываем catalogid: 11866\n",
      "Обрабатываем небольшой catalogid: 11866 (размер: 260)\n",
      "Обрабатываем catalogid: 13606\n",
      "Обрабатываем небольшой catalogid: 13606 (размер: 2)\n",
      "Обрабатываем catalogid: 14624\n",
      "Обрабатываем небольшой catalogid: 14624 (размер: 827)\n"
     ]
    },
    {
     "name": "stderr",
     "output_type": "stream",
     "text": [
      "Обработка catalogid:  33%|███▎      | 160/478 [16:34<01:32,  3.43it/s]"
     ]
    },
    {
     "name": "stdout",
     "output_type": "stream",
     "text": [
      "Обрабатываем catalogid: 14626\n",
      "Обрабатываем небольшой catalogid: 14626 (размер: 239)\n",
      "Обрабатываем catalogid: 14629\n",
      "Обрабатываем небольшой catalogid: 14629 (размер: 3691)\n"
     ]
    },
    {
     "name": "stderr",
     "output_type": "stream",
     "text": [
      "Обработка catalogid:  34%|███▎      | 161/478 [16:35<02:20,  2.25it/s]"
     ]
    },
    {
     "name": "stdout",
     "output_type": "stream",
     "text": [
      "Обрабатываем catalogid: 14631\n",
      "Обрабатываем небольшой catalogid: 14631 (размер: 800)\n"
     ]
    },
    {
     "name": "stderr",
     "output_type": "stream",
     "text": [
      "Обработка catalogid:  34%|███▍      | 162/478 [16:35<02:14,  2.34it/s]"
     ]
    },
    {
     "name": "stdout",
     "output_type": "stream",
     "text": [
      "Обрабатываем catalogid: 14701\n",
      "Обрабатываем небольшой catalogid: 14701 (размер: 1)\n",
      "Предупреждение: name_vec имеет недостаточно признаков для SVD\n",
      "Предупреждение: desc_vec имеет недостаточно признаков для SVD\n",
      "Предупреждение: эмбеддинги имеют недостаточно признаков для PCA\n",
      "Обрабатываем catalogid: 14765\n",
      "Обрабатываем небольшой catalogid: 14765 (размер: 758)\n"
     ]
    },
    {
     "name": "stderr",
     "output_type": "stream",
     "text": [
      "Обработка catalogid:  34%|███▍      | 164/478 [16:36<01:46,  2.94it/s]"
     ]
    },
    {
     "name": "stdout",
     "output_type": "stream",
     "text": [
      "Обрабатываем catalogid: 17002\n",
      "Обрабатываем большой catalogid: 17002 (размер: 105158)\n",
      "Сбор статистики для обучения преобразователей...\n",
      "Обучение преобразователей...\n",
      "Определение размерности финальных векторов...\n",
      "Размерность финальных векторов: 4694\n",
      "Первый проход: вычисление статистики для нормализации...\n"
     ]
    },
    {
     "name": "stderr",
     "output_type": "stream",
     "text": [
      "Сбор статистики: 100%|██████████| 22/22 [00:10<00:00,  2.06it/s]\n"
     ]
    },
    {
     "name": "stdout",
     "output_type": "stream",
     "text": [
      "Второй проход: нормализация и сохранение...\n"
     ]
    },
    {
     "name": "stderr",
     "output_type": "stream",
     "text": [
      "Нормализация и сохранение: 100%|██████████| 22/22 [00:16<00:00,  1.31it/s]\n",
      "Обработка catalogid:  35%|███▍      | 165/478 [17:12<44:33,  8.54s/it]"
     ]
    },
    {
     "name": "stdout",
     "output_type": "stream",
     "text": [
      "Обработка с нормализацией завершена. Векторы сохранены в: ./result_vectors/17002_vectors.npy\n",
      "Обрабатываем catalogid: 17007\n",
      "Обрабатываем небольшой catalogid: 17007 (размер: 3662)\n"
     ]
    },
    {
     "name": "stderr",
     "output_type": "stream",
     "text": [
      "Обработка catalogid:  35%|███▍      | 166/478 [17:13<34:36,  6.65s/it]"
     ]
    },
    {
     "name": "stdout",
     "output_type": "stream",
     "text": [
      "Обрабатываем catalogid: 17008\n",
      "Обрабатываем небольшой catalogid: 17008 (размер: 9444)\n"
     ]
    },
    {
     "name": "stderr",
     "output_type": "stream",
     "text": [
      "Обработка catalogid:  35%|███▍      | 167/478 [17:15<28:11,  5.44s/it]"
     ]
    },
    {
     "name": "stdout",
     "output_type": "stream",
     "text": [
      "Обрабатываем catalogid: 17010\n",
      "Обрабатываем небольшой catalogid: 17010 (размер: 21671)\n"
     ]
    },
    {
     "name": "stderr",
     "output_type": "stream",
     "text": [
      "Обработка catalogid:  35%|███▌      | 168/478 [17:20<27:31,  5.33s/it]"
     ]
    },
    {
     "name": "stdout",
     "output_type": "stream",
     "text": [
      "Обрабатываем catalogid: 17012\n",
      "Обрабатываем небольшой catalogid: 17012 (размер: 5165)\n"
     ]
    },
    {
     "name": "stderr",
     "output_type": "stream",
     "text": [
      "Обработка catalogid:  35%|███▌      | 169/478 [17:21<21:46,  4.23s/it]"
     ]
    },
    {
     "name": "stdout",
     "output_type": "stream",
     "text": [
      "Обрабатываем catalogid: 17016\n",
      "Обрабатываем небольшой catalogid: 17016 (размер: 1741)\n"
     ]
    },
    {
     "name": "stderr",
     "output_type": "stream",
     "text": [
      "Обработка catalogid:  36%|███▌      | 170/478 [17:22<16:36,  3.24s/it]"
     ]
    },
    {
     "name": "stdout",
     "output_type": "stream",
     "text": [
      "Обрабатываем catalogid: 17019\n",
      "Обрабатываем небольшой catalogid: 17019 (размер: 25900)\n"
     ]
    },
    {
     "name": "stderr",
     "output_type": "stream",
     "text": [
      "Обработка catalogid:  36%|███▌      | 171/478 [17:28<20:13,  3.95s/it]"
     ]
    },
    {
     "name": "stdout",
     "output_type": "stream",
     "text": [
      "Обрабатываем catalogid: 17020\n",
      "Обрабатываем небольшой catalogid: 17020 (размер: 1582)\n"
     ]
    },
    {
     "name": "stderr",
     "output_type": "stream",
     "text": [
      "Обработка catalogid:  36%|███▌      | 172/478 [17:28<15:07,  2.97s/it]"
     ]
    },
    {
     "name": "stdout",
     "output_type": "stream",
     "text": [
      "Обрабатываем catalogid: 17021\n",
      "Обрабатываем небольшой catalogid: 17021 (размер: 1110)\n"
     ]
    },
    {
     "name": "stderr",
     "output_type": "stream",
     "text": [
      "Обработка catalogid:  36%|███▌      | 173/478 [17:29<11:16,  2.22s/it]"
     ]
    },
    {
     "name": "stdout",
     "output_type": "stream",
     "text": [
      "Обрабатываем catalogid: 17023\n",
      "Обрабатываем небольшой catalogid: 17023 (размер: 16067)\n"
     ]
    },
    {
     "name": "stderr",
     "output_type": "stream",
     "text": [
      "Обработка catalogid:  36%|███▋      | 174/478 [17:32<12:36,  2.49s/it]"
     ]
    },
    {
     "name": "stdout",
     "output_type": "stream",
     "text": [
      "Обрабатываем catalogid: 17024\n",
      "Обрабатываем небольшой catalogid: 17024 (размер: 33434)\n"
     ]
    },
    {
     "name": "stderr",
     "output_type": "stream",
     "text": [
      "Обработка catalogid:  37%|███▋      | 175/478 [17:39<20:03,  3.97s/it]"
     ]
    },
    {
     "name": "stdout",
     "output_type": "stream",
     "text": [
      "Обрабатываем catalogid: 17027\n",
      "Обрабатываем небольшой catalogid: 17027 (размер: 25412)\n"
     ]
    },
    {
     "name": "stderr",
     "output_type": "stream",
     "text": [
      "Обработка catalogid:  37%|███▋      | 176/478 [17:45<22:08,  4.40s/it]"
     ]
    },
    {
     "name": "stdout",
     "output_type": "stream",
     "text": [
      "Обрабатываем catalogid: 17029\n",
      "Обрабатываем небольшой catalogid: 17029 (размер: 11152)\n"
     ]
    },
    {
     "name": "stderr",
     "output_type": "stream",
     "text": [
      "Обработка catalogid:  37%|███▋      | 177/478 [17:47<19:09,  3.82s/it]"
     ]
    },
    {
     "name": "stdout",
     "output_type": "stream",
     "text": [
      "Обрабатываем catalogid: 17030\n",
      "Обрабатываем небольшой catalogid: 17030 (размер: 3714)\n"
     ]
    },
    {
     "name": "stderr",
     "output_type": "stream",
     "text": [
      "Обработка catalogid:  37%|███▋      | 178/478 [17:48<14:44,  2.95s/it]"
     ]
    },
    {
     "name": "stdout",
     "output_type": "stream",
     "text": [
      "Обрабатываем catalogid: 17031\n",
      "Обрабатываем небольшой catalogid: 17031 (размер: 25371)\n"
     ]
    },
    {
     "name": "stderr",
     "output_type": "stream",
     "text": [
      "Обработка catalogid:  37%|███▋      | 179/478 [17:54<18:51,  3.78s/it]"
     ]
    },
    {
     "name": "stdout",
     "output_type": "stream",
     "text": [
      "Обрабатываем catalogid: 17032\n",
      "Обрабатываем небольшой catalogid: 17032 (размер: 3369)\n"
     ]
    },
    {
     "name": "stderr",
     "output_type": "stream",
     "text": [
      "Обработка catalogid:  38%|███▊      | 180/478 [17:55<14:34,  2.93s/it]"
     ]
    },
    {
     "name": "stdout",
     "output_type": "stream",
     "text": [
      "Обрабатываем catalogid: 17033\n",
      "Обрабатываем небольшой catalogid: 17033 (размер: 17595)\n"
     ]
    },
    {
     "name": "stderr",
     "output_type": "stream",
     "text": [
      "Обработка catalogid:  38%|███▊      | 181/478 [17:59<16:08,  3.26s/it]"
     ]
    },
    {
     "name": "stdout",
     "output_type": "stream",
     "text": [
      "Обрабатываем catalogid: 17034\n",
      "Обрабатываем небольшой catalogid: 17034 (размер: 20756)\n"
     ]
    },
    {
     "name": "stderr",
     "output_type": "stream",
     "text": [
      "Обработка catalogid:  38%|███▊      | 182/478 [18:03<17:14,  3.50s/it]"
     ]
    },
    {
     "name": "stdout",
     "output_type": "stream",
     "text": [
      "Обрабатываем catalogid: 17037\n",
      "Обрабатываем небольшой catalogid: 17037 (размер: 14607)\n"
     ]
    },
    {
     "name": "stderr",
     "output_type": "stream",
     "text": [
      "Обработка catalogid:  38%|███▊      | 183/478 [18:05<15:52,  3.23s/it]"
     ]
    },
    {
     "name": "stdout",
     "output_type": "stream",
     "text": [
      "Обрабатываем catalogid: 17041\n",
      "Обрабатываем небольшой catalogid: 17041 (размер: 14803)\n"
     ]
    },
    {
     "name": "stderr",
     "output_type": "stream",
     "text": [
      "Обработка catalogid:  38%|███▊      | 184/478 [18:08<15:28,  3.16s/it]"
     ]
    },
    {
     "name": "stdout",
     "output_type": "stream",
     "text": [
      "Обрабатываем catalogid: 17048\n",
      "Обрабатываем небольшой catalogid: 17048 (размер: 16873)\n"
     ]
    },
    {
     "name": "stderr",
     "output_type": "stream",
     "text": [
      "Обработка catalogid:  39%|███▊      | 185/478 [18:12<15:49,  3.24s/it]"
     ]
    },
    {
     "name": "stdout",
     "output_type": "stream",
     "text": [
      "Обрабатываем catalogid: 17050\n",
      "Обрабатываем небольшой catalogid: 17050 (размер: 6769)\n"
     ]
    },
    {
     "name": "stderr",
     "output_type": "stream",
     "text": [
      "Обработка catalogid:  39%|███▉      | 186/478 [18:13<13:11,  2.71s/it]"
     ]
    },
    {
     "name": "stdout",
     "output_type": "stream",
     "text": [
      "Обрабатываем catalogid: 17052\n",
      "Обрабатываем небольшой catalogid: 17052 (размер: 1179)\n"
     ]
    },
    {
     "name": "stderr",
     "output_type": "stream",
     "text": [
      "Обработка catalogid:  39%|███▉      | 187/478 [18:14<09:52,  2.04s/it]"
     ]
    },
    {
     "name": "stdout",
     "output_type": "stream",
     "text": [
      "Обрабатываем catalogid: 17055\n",
      "Обрабатываем небольшой catalogid: 17055 (размер: 16087)\n"
     ]
    },
    {
     "name": "stderr",
     "output_type": "stream",
     "text": [
      "Обработка catalogid:  39%|███▉      | 188/478 [18:17<11:40,  2.42s/it]"
     ]
    },
    {
     "name": "stdout",
     "output_type": "stream",
     "text": [
      "Обрабатываем catalogid: 17056\n",
      "Обрабатываем небольшой catalogid: 17056 (размер: 1165)\n"
     ]
    },
    {
     "name": "stderr",
     "output_type": "stream",
     "text": [
      "Обработка catalogid:  40%|███▉      | 189/478 [18:18<08:52,  1.84s/it]"
     ]
    },
    {
     "name": "stdout",
     "output_type": "stream",
     "text": [
      "Обрабатываем catalogid: 17057\n",
      "Обрабатываем небольшой catalogid: 17057 (размер: 8752)\n"
     ]
    },
    {
     "name": "stderr",
     "output_type": "stream",
     "text": [
      "Обработка catalogid:  40%|███▉      | 190/478 [18:19<08:50,  1.84s/it]"
     ]
    },
    {
     "name": "stdout",
     "output_type": "stream",
     "text": [
      "Обрабатываем catalogid: 17058\n",
      "Обрабатываем небольшой catalogid: 17058 (размер: 6457)\n"
     ]
    },
    {
     "name": "stderr",
     "output_type": "stream",
     "text": [
      "Обработка catalogid:  40%|████      | 192/478 [18:21<06:04,  1.27s/it]"
     ]
    },
    {
     "name": "stdout",
     "output_type": "stream",
     "text": [
      "Обрабатываем catalogid: 17059\n",
      "Обрабатываем небольшой catalogid: 17059 (размер: 309)\n",
      "Обрабатываем catalogid: 17060\n",
      "Обрабатываем небольшой catalogid: 17060 (размер: 13166)\n"
     ]
    },
    {
     "name": "stderr",
     "output_type": "stream",
     "text": [
      "Обработка catalogid:  40%|████      | 193/478 [18:24<08:13,  1.73s/it]"
     ]
    },
    {
     "name": "stdout",
     "output_type": "stream",
     "text": [
      "Обрабатываем catalogid: 17065\n",
      "Обрабатываем небольшой catalogid: 17065 (размер: 18938)\n"
     ]
    },
    {
     "name": "stderr",
     "output_type": "stream",
     "text": [
      "Обработка catalogid:  41%|████      | 194/478 [18:29<13:13,  2.79s/it]"
     ]
    },
    {
     "name": "stdout",
     "output_type": "stream",
     "text": [
      "Обрабатываем catalogid: 17069\n",
      "Обрабатываем небольшой catalogid: 17069 (размер: 1244)\n"
     ]
    },
    {
     "name": "stderr",
     "output_type": "stream",
     "text": [
      "Обработка catalogid:  41%|████      | 195/478 [18:30<09:55,  2.11s/it]"
     ]
    },
    {
     "name": "stdout",
     "output_type": "stream",
     "text": [
      "Обрабатываем catalogid: 17070\n",
      "Обрабатываем небольшой catalogid: 17070 (размер: 1740)\n"
     ]
    },
    {
     "name": "stderr",
     "output_type": "stream",
     "text": [
      "Обработка catalogid:  41%|████      | 196/478 [18:30<07:49,  1.67s/it]"
     ]
    },
    {
     "name": "stdout",
     "output_type": "stream",
     "text": [
      "Обрабатываем catalogid: 17072\n",
      "Обрабатываем небольшой catalogid: 17072 (размер: 16010)\n"
     ]
    },
    {
     "name": "stderr",
     "output_type": "stream",
     "text": [
      "Обработка catalogid:  41%|████      | 197/478 [18:34<10:52,  2.32s/it]"
     ]
    },
    {
     "name": "stdout",
     "output_type": "stream",
     "text": [
      "Обрабатываем catalogid: 17074\n",
      "Обрабатываем небольшой catalogid: 17074 (размер: 1754)\n"
     ]
    },
    {
     "name": "stderr",
     "output_type": "stream",
     "text": [
      "Обработка catalogid:  41%|████▏     | 198/478 [18:35<08:25,  1.80s/it]"
     ]
    },
    {
     "name": "stdout",
     "output_type": "stream",
     "text": [
      "Обрабатываем catalogid: 17076\n",
      "Обрабатываем небольшой catalogid: 17076 (размер: 18342)\n"
     ]
    },
    {
     "name": "stderr",
     "output_type": "stream",
     "text": [
      "Обработка catalogid:  42%|████▏     | 199/478 [18:39<11:39,  2.51s/it]"
     ]
    },
    {
     "name": "stdout",
     "output_type": "stream",
     "text": [
      "Обрабатываем catalogid: 17077\n",
      "Обрабатываем небольшой catalogid: 17077 (размер: 362)\n"
     ]
    },
    {
     "name": "stderr",
     "output_type": "stream",
     "text": [
      "Обработка catalogid:  42%|████▏     | 200/478 [18:39<08:43,  1.88s/it]"
     ]
    },
    {
     "name": "stdout",
     "output_type": "stream",
     "text": [
      "Обрабатываем catalogid: 17080\n",
      "Обрабатываем небольшой catalogid: 17080 (размер: 17195)\n"
     ]
    },
    {
     "name": "stderr",
     "output_type": "stream",
     "text": [
      "Обработка catalogid:  42%|████▏     | 201/478 [18:43<10:35,  2.29s/it]"
     ]
    },
    {
     "name": "stdout",
     "output_type": "stream",
     "text": [
      "Обрабатываем catalogid: 17081\n",
      "Обрабатываем небольшой catalogid: 17081 (размер: 1053)\n"
     ]
    },
    {
     "name": "stderr",
     "output_type": "stream",
     "text": [
      "Обработка catalogid:  42%|████▏     | 202/478 [18:43<07:57,  1.73s/it]"
     ]
    },
    {
     "name": "stdout",
     "output_type": "stream",
     "text": [
      "Обрабатываем catalogid: 17082\n",
      "Обрабатываем небольшой catalogid: 17082 (размер: 1632)\n"
     ]
    },
    {
     "name": "stderr",
     "output_type": "stream",
     "text": [
      "Обработка catalogid:  42%|████▏     | 203/478 [18:44<06:23,  1.40s/it]"
     ]
    },
    {
     "name": "stdout",
     "output_type": "stream",
     "text": [
      "Обрабатываем catalogid: 17084\n",
      "Обрабатываем небольшой catalogid: 17084 (размер: 4928)\n"
     ]
    },
    {
     "name": "stderr",
     "output_type": "stream",
     "text": [
      "Обработка catalogid:  43%|████▎     | 204/478 [18:45<06:04,  1.33s/it]"
     ]
    },
    {
     "name": "stdout",
     "output_type": "stream",
     "text": [
      "Обрабатываем catalogid: 17085\n",
      "Обрабатываем небольшой catalogid: 17085 (размер: 6788)\n"
     ]
    },
    {
     "name": "stderr",
     "output_type": "stream",
     "text": [
      "Обработка catalogid:  43%|████▎     | 205/478 [18:47<06:39,  1.47s/it]"
     ]
    },
    {
     "name": "stdout",
     "output_type": "stream",
     "text": [
      "Обрабатываем catalogid: 17086\n",
      "Обрабатываем небольшой catalogid: 17086 (размер: 9603)\n"
     ]
    },
    {
     "name": "stderr",
     "output_type": "stream",
     "text": [
      "Обработка catalogid:  43%|████▎     | 206/478 [18:49<07:40,  1.69s/it]"
     ]
    },
    {
     "name": "stdout",
     "output_type": "stream",
     "text": [
      "Обрабатываем catalogid: 17089\n",
      "Обрабатываем небольшой catalogid: 17089 (размер: 26712)\n"
     ]
    },
    {
     "name": "stderr",
     "output_type": "stream",
     "text": [
      "Обработка catalogid:  43%|████▎     | 207/478 [18:54<11:59,  2.65s/it]"
     ]
    },
    {
     "name": "stdout",
     "output_type": "stream",
     "text": [
      "Обрабатываем catalogid: 17093\n",
      "Обрабатываем небольшой catalogid: 17093 (размер: 10184)\n"
     ]
    },
    {
     "name": "stderr",
     "output_type": "stream",
     "text": [
      "Обработка catalogid:  44%|████▎     | 208/478 [18:56<11:19,  2.52s/it]"
     ]
    },
    {
     "name": "stdout",
     "output_type": "stream",
     "text": [
      "Обрабатываем catalogid: 17100\n",
      "Обрабатываем небольшой catalogid: 17100 (размер: 2645)\n"
     ]
    },
    {
     "name": "stderr",
     "output_type": "stream",
     "text": [
      "Обработка catalogid:  44%|████▎     | 209/478 [18:58<10:33,  2.35s/it]"
     ]
    },
    {
     "name": "stdout",
     "output_type": "stream",
     "text": [
      "Обрабатываем catalogid: 17101\n",
      "Обрабатываем небольшой catalogid: 17101 (размер: 6084)\n"
     ]
    },
    {
     "name": "stderr",
     "output_type": "stream",
     "text": [
      "Обработка catalogid:  44%|████▍     | 210/478 [18:59<09:32,  2.14s/it]"
     ]
    },
    {
     "name": "stdout",
     "output_type": "stream",
     "text": [
      "Обрабатываем catalogid: 17102\n",
      "Обрабатываем небольшой catalogid: 17102 (размер: 3727)\n"
     ]
    },
    {
     "name": "stderr",
     "output_type": "stream",
     "text": [
      "Обработка catalogid:  44%|████▍     | 211/478 [19:01<08:22,  1.88s/it]"
     ]
    },
    {
     "name": "stdout",
     "output_type": "stream",
     "text": [
      "Обрабатываем catalogid: 17103\n",
      "Обрабатываем небольшой catalogid: 17103 (размер: 420)\n"
     ]
    },
    {
     "name": "stderr",
     "output_type": "stream",
     "text": [
      "Обработка catalogid:  44%|████▍     | 212/478 [19:01<06:07,  1.38s/it]"
     ]
    },
    {
     "name": "stdout",
     "output_type": "stream",
     "text": [
      "Обрабатываем catalogid: 17104\n",
      "Обрабатываем небольшой catalogid: 17104 (размер: 5937)\n"
     ]
    },
    {
     "name": "stderr",
     "output_type": "stream",
     "text": [
      "Обработка catalogid:  45%|████▍     | 213/478 [19:02<06:09,  1.39s/it]"
     ]
    },
    {
     "name": "stdout",
     "output_type": "stream",
     "text": [
      "Обрабатываем catalogid: 17111\n",
      "Обрабатываем небольшой catalogid: 17111 (размер: 3334)\n"
     ]
    },
    {
     "name": "stderr",
     "output_type": "stream",
     "text": [
      "Обработка catalogid:  45%|████▍     | 214/478 [19:03<05:29,  1.25s/it]"
     ]
    },
    {
     "name": "stdout",
     "output_type": "stream",
     "text": [
      "Обрабатываем catalogid: 17112\n",
      "Обрабатываем небольшой catalogid: 17112 (размер: 20216)\n"
     ]
    },
    {
     "name": "stderr",
     "output_type": "stream",
     "text": [
      "Обработка catalogid:  45%|████▍     | 215/478 [19:08<09:24,  2.15s/it]"
     ]
    },
    {
     "name": "stdout",
     "output_type": "stream",
     "text": [
      "Обрабатываем catalogid: 17117\n",
      "Обрабатываем небольшой catalogid: 17117 (размер: 1890)\n"
     ]
    },
    {
     "name": "stderr",
     "output_type": "stream",
     "text": [
      "Обработка catalogid:  45%|████▌     | 216/478 [19:08<07:27,  1.71s/it]"
     ]
    },
    {
     "name": "stdout",
     "output_type": "stream",
     "text": [
      "Обрабатываем catalogid: 17124\n",
      "Обрабатываем небольшой catalogid: 17124 (размер: 23505)\n"
     ]
    },
    {
     "name": "stderr",
     "output_type": "stream",
     "text": [
      "Обработка catalogid:  45%|████▌     | 217/478 [19:14<13:01,  2.99s/it]"
     ]
    },
    {
     "name": "stdout",
     "output_type": "stream",
     "text": [
      "Обрабатываем catalogid: 17126\n",
      "Обрабатываем небольшой catalogid: 17126 (размер: 1459)\n"
     ]
    },
    {
     "name": "stderr",
     "output_type": "stream",
     "text": [
      "Обработка catalogid:  46%|████▌     | 218/478 [19:15<10:07,  2.34s/it]"
     ]
    },
    {
     "name": "stdout",
     "output_type": "stream",
     "text": [
      "Обрабатываем catalogid: 17127\n",
      "Обрабатываем небольшой catalogid: 17127 (размер: 1881)\n"
     ]
    },
    {
     "name": "stderr",
     "output_type": "stream",
     "text": [
      "Обработка catalogid:  46%|████▌     | 219/478 [19:16<07:52,  1.82s/it]"
     ]
    },
    {
     "name": "stdout",
     "output_type": "stream",
     "text": [
      "Обрабатываем catalogid: 17128\n",
      "Обрабатываем небольшой catalogid: 17128 (размер: 17590)\n"
     ]
    },
    {
     "name": "stderr",
     "output_type": "stream",
     "text": [
      "Обработка catalogid:  46%|████▌     | 220/478 [19:20<10:33,  2.46s/it]"
     ]
    },
    {
     "name": "stdout",
     "output_type": "stream",
     "text": [
      "Обрабатываем catalogid: 17134\n",
      "Обрабатываем небольшой catalogid: 17134 (размер: 921)\n"
     ]
    },
    {
     "name": "stderr",
     "output_type": "stream",
     "text": [
      "Обработка catalogid:  46%|████▋     | 222/478 [19:20<05:46,  1.35s/it]"
     ]
    },
    {
     "name": "stdout",
     "output_type": "stream",
     "text": [
      "Обрабатываем catalogid: 17135\n",
      "Обрабатываем небольшой catalogid: 17135 (размер: 157)\n",
      "Обрабатываем catalogid: 17136\n",
      "Обрабатываем небольшой catalogid: 17136 (размер: 4304)\n"
     ]
    },
    {
     "name": "stderr",
     "output_type": "stream",
     "text": [
      "Обработка catalogid:  47%|████▋     | 223/478 [19:21<05:14,  1.23s/it]"
     ]
    },
    {
     "name": "stdout",
     "output_type": "stream",
     "text": [
      "Обрабатываем catalogid: 17140\n",
      "Обрабатываем небольшой catalogid: 17140 (размер: 2711)\n"
     ]
    },
    {
     "name": "stderr",
     "output_type": "stream",
     "text": [
      "Обработка catalogid:  47%|████▋     | 224/478 [19:22<04:39,  1.10s/it]"
     ]
    },
    {
     "name": "stdout",
     "output_type": "stream",
     "text": [
      "Обрабатываем catalogid: 17141\n",
      "Обрабатываем небольшой catalogid: 17141 (размер: 2072)\n"
     ]
    },
    {
     "name": "stderr",
     "output_type": "stream",
     "text": [
      "Обработка catalogid:  47%|████▋     | 225/478 [19:23<04:10,  1.01it/s]"
     ]
    },
    {
     "name": "stdout",
     "output_type": "stream",
     "text": [
      "Обрабатываем catalogid: 17142\n",
      "Обрабатываем небольшой catalogid: 17142 (размер: 15258)\n"
     ]
    },
    {
     "name": "stderr",
     "output_type": "stream",
     "text": [
      "Обработка catalogid:  47%|████▋     | 226/478 [19:26<06:45,  1.61s/it]"
     ]
    },
    {
     "name": "stdout",
     "output_type": "stream",
     "text": [
      "Обрабатываем catalogid: 17146\n",
      "Обрабатываем небольшой catalogid: 17146 (размер: 1575)\n"
     ]
    },
    {
     "name": "stderr",
     "output_type": "stream",
     "text": [
      "Обработка catalogid:  47%|████▋     | 227/478 [19:26<05:32,  1.33s/it]"
     ]
    },
    {
     "name": "stdout",
     "output_type": "stream",
     "text": [
      "Обрабатываем catalogid: 17149\n",
      "Обрабатываем небольшой catalogid: 17149 (размер: 8993)\n"
     ]
    },
    {
     "name": "stderr",
     "output_type": "stream",
     "text": [
      "Обработка catalogid:  48%|████▊     | 228/478 [19:28<06:24,  1.54s/it]"
     ]
    },
    {
     "name": "stdout",
     "output_type": "stream",
     "text": [
      "Обрабатываем catalogid: 17150\n",
      "Обрабатываем небольшой catalogid: 17150 (размер: 2010)\n"
     ]
    },
    {
     "name": "stderr",
     "output_type": "stream",
     "text": [
      "Обработка catalogid:  48%|████▊     | 229/478 [19:29<05:15,  1.27s/it]"
     ]
    },
    {
     "name": "stdout",
     "output_type": "stream",
     "text": [
      "Обрабатываем catalogid: 17151\n",
      "Обрабатываем небольшой catalogid: 17151 (размер: 1025)\n"
     ]
    },
    {
     "name": "stderr",
     "output_type": "stream",
     "text": [
      "Обработка catalogid:  48%|████▊     | 230/478 [19:30<04:12,  1.02s/it]"
     ]
    },
    {
     "name": "stdout",
     "output_type": "stream",
     "text": [
      "Обрабатываем catalogid: 17153\n",
      "Обрабатываем небольшой catalogid: 17153 (размер: 760)\n"
     ]
    },
    {
     "name": "stderr",
     "output_type": "stream",
     "text": [
      "Обработка catalogid:  48%|████▊     | 231/478 [19:30<03:24,  1.21it/s]"
     ]
    },
    {
     "name": "stdout",
     "output_type": "stream",
     "text": [
      "Обрабатываем catalogid: 17154\n",
      "Обрабатываем небольшой catalogid: 17154 (размер: 582)\n"
     ]
    },
    {
     "name": "stderr",
     "output_type": "stream",
     "text": [
      "Обработка catalogid:  49%|████▊     | 232/478 [19:30<02:38,  1.56it/s]"
     ]
    },
    {
     "name": "stdout",
     "output_type": "stream",
     "text": [
      "Обрабатываем catalogid: 17155\n",
      "Обрабатываем небольшой catalogid: 17155 (размер: 156)\n"
     ]
    },
    {
     "name": "stderr",
     "output_type": "stream",
     "text": [
      "Обработка catalogid:  49%|████▊     | 233/478 [19:30<02:15,  1.80it/s]"
     ]
    },
    {
     "name": "stdout",
     "output_type": "stream",
     "text": [
      "Обрабатываем catalogid: 17156\n",
      "Обрабатываем небольшой catalogid: 17156 (размер: 3478)\n"
     ]
    },
    {
     "name": "stderr",
     "output_type": "stream",
     "text": [
      "Обработка catalogid:  49%|████▉     | 234/478 [19:31<02:40,  1.52it/s]"
     ]
    },
    {
     "name": "stdout",
     "output_type": "stream",
     "text": [
      "Обрабатываем catalogid: 30109\n",
      "Обрабатываем небольшой catalogid: 30109 (размер: 13999)\n"
     ]
    },
    {
     "name": "stderr",
     "output_type": "stream",
     "text": [
      "Обработка catalogid:  49%|████▉     | 235/478 [19:35<06:02,  1.49s/it]"
     ]
    },
    {
     "name": "stdout",
     "output_type": "stream",
     "text": [
      "Обрабатываем catalogid: 30110\n",
      "Обрабатываем небольшой catalogid: 30110 (размер: 6779)\n"
     ]
    },
    {
     "name": "stderr",
     "output_type": "stream",
     "text": [
      "Обработка catalogid:  49%|████▉     | 236/478 [19:36<06:12,  1.54s/it]"
     ]
    },
    {
     "name": "stdout",
     "output_type": "stream",
     "text": [
      "Обрабатываем catalogid: 30112\n",
      "Обрабатываем небольшой catalogid: 30112 (размер: 6241)\n"
     ]
    },
    {
     "name": "stderr",
     "output_type": "stream",
     "text": [
      "Обработка catalogid:  50%|████▉     | 237/478 [19:38<06:11,  1.54s/it]"
     ]
    },
    {
     "name": "stdout",
     "output_type": "stream",
     "text": [
      "Обрабатываем catalogid: 30113\n",
      "Обрабатываем небольшой catalogid: 30113 (размер: 1435)\n"
     ]
    },
    {
     "name": "stderr",
     "output_type": "stream",
     "text": [
      "Обработка catalogid:  50%|████▉     | 238/478 [19:39<06:03,  1.52s/it]"
     ]
    },
    {
     "name": "stdout",
     "output_type": "stream",
     "text": [
      "Обрабатываем catalogid: 30115\n",
      "Обрабатываем небольшой catalogid: 30115 (размер: 815)\n"
     ]
    },
    {
     "name": "stderr",
     "output_type": "stream",
     "text": [
      "Обработка catalogid:  50%|█████     | 239/478 [19:41<05:45,  1.45s/it]"
     ]
    },
    {
     "name": "stdout",
     "output_type": "stream",
     "text": [
      "Обрабатываем catalogid: 30116\n",
      "Обрабатываем небольшой catalogid: 30116 (размер: 6883)\n"
     ]
    },
    {
     "name": "stderr",
     "output_type": "stream",
     "text": [
      "Обработка catalogid:  50%|█████     | 240/478 [19:43<06:32,  1.65s/it]"
     ]
    },
    {
     "name": "stdout",
     "output_type": "stream",
     "text": [
      "Обрабатываем catalogid: 30118\n",
      "Обрабатываем небольшой catalogid: 30118 (размер: 9244)\n"
     ]
    },
    {
     "name": "stderr",
     "output_type": "stream",
     "text": [
      "Обработка catalogid:  50%|█████     | 241/478 [19:45<07:06,  1.80s/it]"
     ]
    },
    {
     "name": "stdout",
     "output_type": "stream",
     "text": [
      "Обрабатываем catalogid: 30120\n",
      "Обрабатываем небольшой catalogid: 30120 (размер: 2042)\n"
     ]
    },
    {
     "name": "stderr",
     "output_type": "stream",
     "text": [
      "Обработка catalogid:  51%|█████     | 243/478 [19:46<04:13,  1.08s/it]"
     ]
    },
    {
     "name": "stdout",
     "output_type": "stream",
     "text": [
      "Обрабатываем catalogid: 30124\n",
      "Обрабатываем небольшой catalogid: 30124 (размер: 258)\n",
      "Обрабатываем catalogid: 30125\n",
      "Обрабатываем небольшой catalogid: 30125 (размер: 322)\n"
     ]
    },
    {
     "name": "stderr",
     "output_type": "stream",
     "text": [
      "Обработка catalogid:  51%|█████     | 244/478 [19:46<03:11,  1.22it/s]"
     ]
    },
    {
     "name": "stdout",
     "output_type": "stream",
     "text": [
      "Обрабатываем catalogid: 30126\n",
      "Обрабатываем небольшой catalogid: 30126 (размер: 5367)\n"
     ]
    },
    {
     "name": "stderr",
     "output_type": "stream",
     "text": [
      "Обработка catalogid:  51%|█████▏    | 245/478 [19:47<03:46,  1.03it/s]"
     ]
    },
    {
     "name": "stdout",
     "output_type": "stream",
     "text": [
      "Обрабатываем catalogid: 30130\n",
      "Обрабатываем небольшой catalogid: 30130 (размер: 991)\n"
     ]
    },
    {
     "name": "stderr",
     "output_type": "stream",
     "text": [
      "Обработка catalogid:  51%|█████▏    | 246/478 [19:48<03:04,  1.26it/s]"
     ]
    },
    {
     "name": "stdout",
     "output_type": "stream",
     "text": [
      "Обрабатываем catalogid: 30132\n",
      "Обрабатываем небольшой catalogid: 30132 (размер: 12556)\n"
     ]
    },
    {
     "name": "stderr",
     "output_type": "stream",
     "text": [
      "Обработка catalogid:  52%|█████▏    | 247/478 [19:51<05:37,  1.46s/it]"
     ]
    },
    {
     "name": "stdout",
     "output_type": "stream",
     "text": [
      "Обрабатываем catalogid: 30137\n",
      "Обрабатываем небольшой catalogid: 30137 (размер: 1361)\n"
     ]
    },
    {
     "name": "stderr",
     "output_type": "stream",
     "text": [
      "Обработка catalogid:  52%|█████▏    | 248/478 [19:51<04:28,  1.17s/it]"
     ]
    },
    {
     "name": "stdout",
     "output_type": "stream",
     "text": [
      "Обрабатываем catalogid: 30138\n",
      "Обрабатываем небольшой catalogid: 30138 (размер: 9)\n",
      "Обрабатываем catalogid: 30235\n",
      "Обрабатываем небольшой catalogid: 30235 (размер: 12)\n",
      "Обрабатываем catalogid: 30246\n",
      "Обрабатываем небольшой catalogid: 30246 (размер: 5062)\n"
     ]
    },
    {
     "name": "stderr",
     "output_type": "stream",
     "text": [
      "Обработка catalogid:  53%|█████▎    | 251/478 [19:53<02:56,  1.28it/s]"
     ]
    },
    {
     "name": "stdout",
     "output_type": "stream",
     "text": [
      "Обрабатываем catalogid: 30249\n",
      "Обрабатываем небольшой catalogid: 30249 (размер: 903)\n"
     ]
    },
    {
     "name": "stderr",
     "output_type": "stream",
     "text": [
      "Обработка catalogid:  53%|█████▎    | 252/478 [19:53<02:36,  1.44it/s]"
     ]
    },
    {
     "name": "stdout",
     "output_type": "stream",
     "text": [
      "Обрабатываем catalogid: 30300\n",
      "Обрабатываем небольшой catalogid: 30300 (размер: 2271)\n"
     ]
    },
    {
     "name": "stderr",
     "output_type": "stream",
     "text": [
      "Обработка catalogid:  53%|█████▎    | 253/478 [19:54<02:39,  1.41it/s]"
     ]
    },
    {
     "name": "stdout",
     "output_type": "stream",
     "text": [
      "Обрабатываем catalogid: 30316\n",
      "Обрабатываем небольшой catalogid: 30316 (размер: 1750)\n"
     ]
    },
    {
     "name": "stderr",
     "output_type": "stream",
     "text": [
      "Обработка catalogid:  53%|█████▎    | 254/478 [19:54<02:28,  1.50it/s]"
     ]
    },
    {
     "name": "stdout",
     "output_type": "stream",
     "text": [
      "Обрабатываем catalogid: 30318\n",
      "Обрабатываем небольшой catalogid: 30318 (размер: 1987)\n"
     ]
    },
    {
     "name": "stderr",
     "output_type": "stream",
     "text": [
      "Обработка catalogid:  53%|█████▎    | 255/478 [19:55<02:18,  1.61it/s]"
     ]
    },
    {
     "name": "stdout",
     "output_type": "stream",
     "text": [
      "Обрабатываем catalogid: 30468\n",
      "Обрабатываем небольшой catalogid: 30468 (размер: 3925)\n"
     ]
    },
    {
     "name": "stderr",
     "output_type": "stream",
     "text": [
      "Обработка catalogid:  54%|█████▎    | 256/478 [19:56<02:39,  1.39it/s]"
     ]
    },
    {
     "name": "stdout",
     "output_type": "stream",
     "text": [
      "Обрабатываем catalogid: 30474\n",
      "Обрабатываем небольшой catalogid: 30474 (размер: 545)\n"
     ]
    },
    {
     "name": "stderr",
     "output_type": "stream",
     "text": [
      "Обработка catalogid:  54%|█████▍    | 257/478 [19:56<02:10,  1.70it/s]"
     ]
    },
    {
     "name": "stdout",
     "output_type": "stream",
     "text": [
      "Обрабатываем catalogid: 30502\n",
      "Обрабатываем небольшой catalogid: 30502 (размер: 41)\n",
      "Обрабатываем catalogid: 30505\n",
      "Обрабатываем небольшой catalogid: 30505 (размер: 737)\n"
     ]
    },
    {
     "name": "stderr",
     "output_type": "stream",
     "text": [
      "Обработка catalogid:  54%|█████▍    | 259/478 [19:57<01:30,  2.42it/s]"
     ]
    },
    {
     "name": "stdout",
     "output_type": "stream",
     "text": [
      "Обрабатываем catalogid: 30547\n",
      "Обрабатываем небольшой catalogid: 30547 (размер: 3186)\n"
     ]
    },
    {
     "name": "stderr",
     "output_type": "stream",
     "text": [
      "Обработка catalogid:  55%|█████▍    | 261/478 [19:57<01:22,  2.64it/s]"
     ]
    },
    {
     "name": "stdout",
     "output_type": "stream",
     "text": [
      "Обрабатываем catalogid: 30589\n",
      "Обрабатываем небольшой catalogid: 30589 (размер: 119)\n",
      "Обрабатываем catalogid: 30835\n",
      "Обрабатываем небольшой catalogid: 30835 (размер: 9689)\n"
     ]
    },
    {
     "name": "stderr",
     "output_type": "stream",
     "text": [
      "Обработка catalogid:  55%|█████▍    | 262/478 [19:59<02:41,  1.34it/s]"
     ]
    },
    {
     "name": "stdout",
     "output_type": "stream",
     "text": [
      "Обрабатываем catalogid: 30889\n",
      "Обрабатываем небольшой catalogid: 30889 (размер: 14)\n",
      "Обрабатываем catalogid: 30894\n",
      "Обрабатываем небольшой catalogid: 30894 (размер: 2134)\n"
     ]
    },
    {
     "name": "stderr",
     "output_type": "stream",
     "text": [
      "Обработка catalogid:  55%|█████▌    | 264/478 [20:00<01:55,  1.86it/s]"
     ]
    },
    {
     "name": "stdout",
     "output_type": "stream",
     "text": [
      "Обрабатываем catalogid: 31080\n",
      "Обрабатываем небольшой catalogid: 31080 (размер: 21084)\n"
     ]
    },
    {
     "name": "stderr",
     "output_type": "stream",
     "text": [
      "Обработка catalogid:  55%|█████▌    | 265/478 [20:03<04:34,  1.29s/it]"
     ]
    },
    {
     "name": "stdout",
     "output_type": "stream",
     "text": [
      "Обрабатываем catalogid: 31117\n",
      "Обрабатываем небольшой catalogid: 31117 (размер: 979)\n"
     ]
    },
    {
     "name": "stderr",
     "output_type": "stream",
     "text": [
      "Обработка catalogid:  56%|█████▌    | 266/478 [20:04<03:46,  1.07s/it]"
     ]
    },
    {
     "name": "stdout",
     "output_type": "stream",
     "text": [
      "Обрабатываем catalogid: 31306\n",
      "Обрабатываем большой catalogid: 31306 (размер: 67945)\n",
      "Сбор статистики для обучения преобразователей...\n",
      "Обучение преобразователей...\n",
      "Определение размерности финальных векторов...\n",
      "Размерность финальных векторов: 2180\n",
      "Первый проход: вычисление статистики для нормализации...\n"
     ]
    },
    {
     "name": "stderr",
     "output_type": "stream",
     "text": [
      "Сбор статистики: 100%|██████████| 14/14 [00:06<00:00,  2.25it/s]\n"
     ]
    },
    {
     "name": "stdout",
     "output_type": "stream",
     "text": [
      "Второй проход: нормализация и сохранение...\n"
     ]
    },
    {
     "name": "stderr",
     "output_type": "stream",
     "text": [
      "Нормализация и сохранение: 100%|██████████| 14/14 [00:07<00:00,  1.95it/s]\n",
      "Обработка catalogid:  56%|█████▌    | 267/478 [20:23<21:11,  6.02s/it]"
     ]
    },
    {
     "name": "stdout",
     "output_type": "stream",
     "text": [
      "Обработка с нормализацией завершена. Векторы сохранены в: ./result_vectors/31306_vectors.npy\n",
      "Обрабатываем catalogid: 31307\n",
      "Обрабатываем большой catalogid: 31307 (размер: 80843)\n",
      "Сбор статистики для обучения преобразователей...\n",
      "Обучение преобразователей...\n",
      "Определение размерности финальных векторов...\n",
      "Размерность финальных векторов: 1775\n",
      "Первый проход: вычисление статистики для нормализации...\n"
     ]
    },
    {
     "name": "stderr",
     "output_type": "stream",
     "text": [
      "Сбор статистики: 100%|██████████| 17/17 [00:06<00:00,  2.58it/s]\n"
     ]
    },
    {
     "name": "stdout",
     "output_type": "stream",
     "text": [
      "Второй проход: нормализация и сохранение...\n"
     ]
    },
    {
     "name": "stderr",
     "output_type": "stream",
     "text": [
      "Нормализация и сохранение: 100%|██████████| 17/17 [00:07<00:00,  2.17it/s]\n",
      "Обработка catalogid:  56%|█████▌    | 268/478 [20:45<35:31, 10.15s/it]"
     ]
    },
    {
     "name": "stdout",
     "output_type": "stream",
     "text": [
      "Обработка с нормализацией завершена. Векторы сохранены в: ./result_vectors/31307_vectors.npy\n",
      "Обрабатываем catalogid: 31308\n",
      "Обрабатываем небольшой catalogid: 31308 (размер: 17948)\n"
     ]
    },
    {
     "name": "stderr",
     "output_type": "stream",
     "text": [
      "Обработка catalogid:  56%|█████▋    | 269/478 [20:48<29:04,  8.35s/it]"
     ]
    },
    {
     "name": "stdout",
     "output_type": "stream",
     "text": [
      "Обрабатываем catalogid: 31309\n",
      "Обрабатываем небольшой catalogid: 31309 (размер: 10691)\n"
     ]
    },
    {
     "name": "stderr",
     "output_type": "stream",
     "text": [
      "Обработка catalogid:  56%|█████▋    | 270/478 [20:50<22:33,  6.51s/it]"
     ]
    },
    {
     "name": "stdout",
     "output_type": "stream",
     "text": [
      "Обрабатываем catalogid: 31310\n",
      "Обрабатываем небольшой catalogid: 31310 (размер: 19048)\n"
     ]
    },
    {
     "name": "stderr",
     "output_type": "stream",
     "text": [
      "Обработка catalogid:  57%|█████▋    | 271/478 [20:54<20:06,  5.83s/it]"
     ]
    },
    {
     "name": "stdout",
     "output_type": "stream",
     "text": [
      "Обрабатываем catalogid: 31311\n",
      "Обрабатываем небольшой catalogid: 31311 (размер: 44072)\n"
     ]
    },
    {
     "name": "stderr",
     "output_type": "stream",
     "text": [
      "Обработка catalogid:  57%|█████▋    | 272/478 [21:05<24:49,  7.23s/it]"
     ]
    },
    {
     "name": "stdout",
     "output_type": "stream",
     "text": [
      "Обрабатываем catalogid: 31312\n",
      "Обрабатываем небольшой catalogid: 31312 (размер: 7010)\n"
     ]
    },
    {
     "name": "stderr",
     "output_type": "stream",
     "text": [
      "Обработка catalogid:  57%|█████▋    | 273/478 [21:07<19:06,  5.59s/it]"
     ]
    },
    {
     "name": "stdout",
     "output_type": "stream",
     "text": [
      "Обрабатываем catalogid: 31313\n",
      "Обрабатываем небольшой catalogid: 31313 (размер: 19033)\n"
     ]
    },
    {
     "name": "stderr",
     "output_type": "stream",
     "text": [
      "Обработка catalogid:  57%|█████▋    | 274/478 [21:11<17:20,  5.10s/it]"
     ]
    },
    {
     "name": "stdout",
     "output_type": "stream",
     "text": [
      "Обрабатываем catalogid: 31314\n",
      "Обрабатываем небольшой catalogid: 31314 (размер: 1413)\n"
     ]
    },
    {
     "name": "stderr",
     "output_type": "stream",
     "text": [
      "Обработка catalogid:  58%|█████▊    | 275/478 [21:11<12:31,  3.70s/it]"
     ]
    },
    {
     "name": "stdout",
     "output_type": "stream",
     "text": [
      "Обрабатываем catalogid: 31316\n",
      "Обрабатываем небольшой catalogid: 31316 (размер: 3992)\n"
     ]
    },
    {
     "name": "stderr",
     "output_type": "stream",
     "text": [
      "Обработка catalogid:  58%|█████▊    | 276/478 [21:13<10:30,  3.12s/it]"
     ]
    },
    {
     "name": "stdout",
     "output_type": "stream",
     "text": [
      "Обрабатываем catalogid: 31317\n",
      "Обрабатываем небольшой catalogid: 31317 (размер: 5939)\n"
     ]
    },
    {
     "name": "stderr",
     "output_type": "stream",
     "text": [
      "Обработка catalogid:  58%|█████▊    | 277/478 [21:14<08:53,  2.66s/it]"
     ]
    },
    {
     "name": "stdout",
     "output_type": "stream",
     "text": [
      "Обрабатываем catalogid: 31611\n",
      "Обрабатываем небольшой catalogid: 31611 (размер: 2414)\n"
     ]
    },
    {
     "name": "stderr",
     "output_type": "stream",
     "text": [
      "Обработка catalogid:  58%|█████▊    | 278/478 [21:16<07:30,  2.25s/it]"
     ]
    },
    {
     "name": "stdout",
     "output_type": "stream",
     "text": [
      "Обрабатываем catalogid: 31655\n",
      "Обрабатываем небольшой catalogid: 31655 (размер: 2069)\n"
     ]
    },
    {
     "name": "stderr",
     "output_type": "stream",
     "text": [
      "Обработка catalogid:  58%|█████▊    | 279/478 [21:16<05:42,  1.72s/it]"
     ]
    },
    {
     "name": "stdout",
     "output_type": "stream",
     "text": [
      "Обрабатываем catalogid: 31691\n",
      "Обрабатываем небольшой catalogid: 31691 (размер: 6748)\n"
     ]
    },
    {
     "name": "stderr",
     "output_type": "stream",
     "text": [
      "Обработка catalogid:  59%|█████▊    | 280/478 [21:17<05:15,  1.59s/it]"
     ]
    },
    {
     "name": "stdout",
     "output_type": "stream",
     "text": [
      "Обрабатываем catalogid: 31785\n",
      "Обрабатываем небольшой catalogid: 31785 (размер: 2617)\n"
     ]
    },
    {
     "name": "stderr",
     "output_type": "stream",
     "text": [
      "Обработка catalogid:  59%|█████▉    | 281/478 [21:18<04:12,  1.28s/it]"
     ]
    },
    {
     "name": "stdout",
     "output_type": "stream",
     "text": [
      "Обрабатываем catalogid: 31824\n",
      "Обрабатываем небольшой catalogid: 31824 (размер: 1198)\n"
     ]
    },
    {
     "name": "stderr",
     "output_type": "stream",
     "text": [
      "Обработка catalogid:  59%|█████▉    | 283/478 [21:18<02:24,  1.35it/s]"
     ]
    },
    {
     "name": "stdout",
     "output_type": "stream",
     "text": [
      "Обрабатываем catalogid: 31892\n",
      "Обрабатываем небольшой catalogid: 31892 (размер: 206)\n",
      "Обрабатываем catalogid: 31968\n",
      "Обрабатываем небольшой catalogid: 31968 (размер: 28)\n",
      "Обрабатываем catalogid: 31969\n",
      "Обрабатываем небольшой catalogid: 31969 (размер: 18)\n",
      "Обрабатываем catalogid: 31983\n",
      "Обрабатываем небольшой catalogid: 31983 (размер: 16369)\n"
     ]
    },
    {
     "name": "stderr",
     "output_type": "stream",
     "text": [
      "Обработка catalogid:  60%|█████▉    | 286/478 [21:22<02:58,  1.07it/s]"
     ]
    },
    {
     "name": "stdout",
     "output_type": "stream",
     "text": [
      "Обрабатываем catalogid: 31984\n",
      "Обрабатываем небольшой catalogid: 31984 (размер: 13288)\n"
     ]
    },
    {
     "name": "stderr",
     "output_type": "stream",
     "text": [
      "Обработка catalogid:  60%|██████    | 288/478 [21:24<03:11,  1.01s/it]"
     ]
    },
    {
     "name": "stdout",
     "output_type": "stream",
     "text": [
      "Обрабатываем catalogid: 32091\n",
      "Обрабатываем небольшой catalogid: 32091 (размер: 128)\n",
      "Обрабатываем catalogid: 32128\n",
      "Обрабатываем небольшой catalogid: 32128 (размер: 2251)\n"
     ]
    },
    {
     "name": "stderr",
     "output_type": "stream",
     "text": [
      "Обработка catalogid:  60%|██████    | 289/478 [21:25<02:52,  1.10it/s]"
     ]
    },
    {
     "name": "stdout",
     "output_type": "stream",
     "text": [
      "Обрабатываем catalogid: 32132\n",
      "Обрабатываем небольшой catalogid: 32132 (размер: 1)\n",
      "Предупреждение: name_vec имеет недостаточно признаков для SVD\n",
      "Предупреждение: desc_vec имеет недостаточно признаков для SVD\n",
      "Предупреждение: эмбеддинги имеют недостаточно признаков для PCA\n",
      "Обрабатываем catalogid: 32181\n",
      "Обрабатываем небольшой catalogid: 32181 (размер: 4677)\n"
     ]
    },
    {
     "name": "stderr",
     "output_type": "stream",
     "text": [
      "Обработка catalogid:  61%|██████    | 291/478 [21:26<02:19,  1.34it/s]"
     ]
    },
    {
     "name": "stdout",
     "output_type": "stream",
     "text": [
      "Обрабатываем catalogid: 32726\n",
      "Обрабатываем небольшой catalogid: 32726 (размер: 2206)\n"
     ]
    },
    {
     "name": "stderr",
     "output_type": "stream",
     "text": [
      "Обработка catalogid:  61%|██████    | 292/478 [21:26<02:07,  1.45it/s]"
     ]
    },
    {
     "name": "stdout",
     "output_type": "stream",
     "text": [
      "Обрабатываем catalogid: 32728\n",
      "Обрабатываем небольшой catalogid: 32728 (размер: 6953)\n"
     ]
    },
    {
     "name": "stderr",
     "output_type": "stream",
     "text": [
      "Обработка catalogid:  61%|██████▏   | 293/478 [21:28<02:42,  1.14it/s]"
     ]
    },
    {
     "name": "stdout",
     "output_type": "stream",
     "text": [
      "Обрабатываем catalogid: 32812\n",
      "Обрабатываем небольшой catalogid: 32812 (размер: 20997)\n"
     ]
    },
    {
     "name": "stderr",
     "output_type": "stream",
     "text": [
      "Обработка catalogid:  62%|██████▏   | 294/478 [21:33<05:39,  1.85s/it]"
     ]
    },
    {
     "name": "stdout",
     "output_type": "stream",
     "text": [
      "Обрабатываем catalogid: 32818\n",
      "Обрабатываем небольшой catalogid: 32818 (размер: 22396)\n"
     ]
    },
    {
     "name": "stderr",
     "output_type": "stream",
     "text": [
      "Обработка catalogid:  62%|██████▏   | 295/478 [21:37<07:58,  2.62s/it]"
     ]
    },
    {
     "name": "stdout",
     "output_type": "stream",
     "text": [
      "Обрабатываем catalogid: 32922\n",
      "Обрабатываем небольшой catalogid: 32922 (размер: 5156)\n"
     ]
    },
    {
     "name": "stderr",
     "output_type": "stream",
     "text": [
      "Обработка catalogid:  62%|██████▏   | 296/478 [21:38<06:47,  2.24s/it]"
     ]
    },
    {
     "name": "stdout",
     "output_type": "stream",
     "text": [
      "Обрабатываем catalogid: 32933\n",
      "Обрабатываем небольшой catalogid: 32933 (размер: 2557)\n"
     ]
    },
    {
     "name": "stderr",
     "output_type": "stream",
     "text": [
      "Обработка catalogid:  62%|██████▏   | 297/478 [21:39<05:13,  1.73s/it]"
     ]
    },
    {
     "name": "stdout",
     "output_type": "stream",
     "text": [
      "Обрабатываем catalogid: 32949\n",
      "Обрабатываем небольшой catalogid: 32949 (размер: 624)\n"
     ]
    },
    {
     "name": "stderr",
     "output_type": "stream",
     "text": [
      "Обработка catalogid:  62%|██████▏   | 298/478 [21:39<03:55,  1.31s/it]"
     ]
    },
    {
     "name": "stdout",
     "output_type": "stream",
     "text": [
      "Обрабатываем catalogid: 32955\n",
      "Обрабатываем небольшой catalogid: 32955 (размер: 5)\n",
      "Обрабатываем catalogid: 32981\n",
      "Обрабатываем небольшой catalogid: 32981 (размер: 6655)\n"
     ]
    },
    {
     "name": "stderr",
     "output_type": "stream",
     "text": [
      "Обработка catalogid:  63%|██████▎   | 300/478 [21:40<02:58,  1.00s/it]"
     ]
    },
    {
     "name": "stdout",
     "output_type": "stream",
     "text": [
      "Обрабатываем catalogid: 32982\n",
      "Обрабатываем небольшой catalogid: 32982 (размер: 3609)\n"
     ]
    },
    {
     "name": "stderr",
     "output_type": "stream",
     "text": [
      "Обработка catalogid:  63%|██████▎   | 302/478 [21:41<02:11,  1.34it/s]"
     ]
    },
    {
     "name": "stdout",
     "output_type": "stream",
     "text": [
      "Обрабатываем catalogid: 32988\n",
      "Обрабатываем небольшой catalogid: 32988 (размер: 283)\n",
      "Обрабатываем catalogid: 32990\n",
      "Обрабатываем небольшой catalogid: 32990 (размер: 288)\n"
     ]
    },
    {
     "name": "stderr",
     "output_type": "stream",
     "text": [
      "Обработка catalogid:  63%|██████▎   | 303/478 [21:42<01:50,  1.59it/s]"
     ]
    },
    {
     "name": "stdout",
     "output_type": "stream",
     "text": [
      "Обрабатываем catalogid: 32992\n",
      "Обрабатываем небольшой catalogid: 32992 (размер: 1565)\n"
     ]
    },
    {
     "name": "stderr",
     "output_type": "stream",
     "text": [
      "Обработка catalogid:  64%|██████▎   | 304/478 [21:42<01:40,  1.73it/s]"
     ]
    },
    {
     "name": "stdout",
     "output_type": "stream",
     "text": [
      "Обрабатываем catalogid: 32993\n",
      "Обрабатываем небольшой catalogid: 32993 (размер: 2132)\n"
     ]
    },
    {
     "name": "stderr",
     "output_type": "stream",
     "text": [
      "Обработка catalogid:  64%|██████▍   | 306/478 [21:43<01:19,  2.17it/s]"
     ]
    },
    {
     "name": "stdout",
     "output_type": "stream",
     "text": [
      "Обрабатываем catalogid: 32995\n",
      "Обрабатываем небольшой catalogid: 32995 (размер: 193)\n",
      "Обрабатываем catalogid: 32996\n",
      "Обрабатываем небольшой catalogid: 32996 (размер: 14308)\n"
     ]
    },
    {
     "name": "stderr",
     "output_type": "stream",
     "text": [
      "Обработка catalogid:  64%|██████▍   | 307/478 [21:46<03:26,  1.21s/it]"
     ]
    },
    {
     "name": "stdout",
     "output_type": "stream",
     "text": [
      "Обрабатываем catalogid: 32997\n",
      "Обрабатываем небольшой catalogid: 32997 (размер: 7900)\n"
     ]
    },
    {
     "name": "stderr",
     "output_type": "stream",
     "text": [
      "Обработка catalogid:  64%|██████▍   | 308/478 [21:47<03:34,  1.26s/it]"
     ]
    },
    {
     "name": "stdout",
     "output_type": "stream",
     "text": [
      "Обрабатываем catalogid: 33004\n",
      "Обрабатываем небольшой catalogid: 33004 (размер: 3456)\n"
     ]
    },
    {
     "name": "stderr",
     "output_type": "stream",
     "text": [
      "Обработка catalogid:  65%|██████▍   | 309/478 [21:48<03:18,  1.18s/it]"
     ]
    },
    {
     "name": "stdout",
     "output_type": "stream",
     "text": [
      "Обрабатываем catalogid: 33020\n",
      "Обрабатываем небольшой catalogid: 33020 (размер: 5563)\n"
     ]
    },
    {
     "name": "stderr",
     "output_type": "stream",
     "text": [
      "Обработка catalogid:  65%|██████▌   | 311/478 [21:50<02:28,  1.13it/s]"
     ]
    },
    {
     "name": "stdout",
     "output_type": "stream",
     "text": [
      "Обрабатываем catalogid: 33045\n",
      "Обрабатываем небольшой catalogid: 33045 (размер: 366)\n",
      "Обрабатываем catalogid: 33071\n",
      "Обрабатываем небольшой catalogid: 33071 (размер: 601)\n"
     ]
    },
    {
     "name": "stderr",
     "output_type": "stream",
     "text": [
      "Обработка catalogid:  65%|██████▌   | 313/478 [21:50<01:28,  1.87it/s]"
     ]
    },
    {
     "name": "stdout",
     "output_type": "stream",
     "text": [
      "Обрабатываем catalogid: 33119\n",
      "Обрабатываем небольшой catalogid: 33119 (размер: 182)\n",
      "Обрабатываем catalogid: 33246\n",
      "Обрабатываем небольшой catalogid: 33246 (размер: 3653)\n"
     ]
    },
    {
     "name": "stderr",
     "output_type": "stream",
     "text": [
      "Обработка catalogid:  66%|██████▌   | 315/478 [21:51<01:31,  1.79it/s]"
     ]
    },
    {
     "name": "stdout",
     "output_type": "stream",
     "text": [
      "Обрабатываем catalogid: 33696\n",
      "Обрабатываем небольшой catalogid: 33696 (размер: 500)\n",
      "Обрабатываем catalogid: 33698\n",
      "Обрабатываем небольшой catalogid: 33698 (размер: 87)\n"
     ]
    },
    {
     "name": "stderr",
     "output_type": "stream",
     "text": [
      "Обработка catalogid:  66%|██████▋   | 317/478 [21:52<00:53,  2.99it/s]"
     ]
    },
    {
     "name": "stdout",
     "output_type": "stream",
     "text": [
      "Обрабатываем catalogid: 33773\n",
      "Обрабатываем небольшой catalogid: 33773 (размер: 201)\n",
      "Обрабатываем catalogid: 33794\n",
      "Обрабатываем небольшой catalogid: 33794 (размер: 3209)\n"
     ]
    },
    {
     "name": "stderr",
     "output_type": "stream",
     "text": [
      "Обработка catalogid:  67%|██████▋   | 318/478 [21:52<01:13,  2.18it/s]"
     ]
    },
    {
     "name": "stdout",
     "output_type": "stream",
     "text": [
      "Обрабатываем catalogid: 33796\n",
      "Обрабатываем небольшой catalogid: 33796 (размер: 1873)\n"
     ]
    },
    {
     "name": "stderr",
     "output_type": "stream",
     "text": [
      "Обработка catalogid:  67%|██████▋   | 319/478 [21:53<01:16,  2.08it/s]"
     ]
    },
    {
     "name": "stdout",
     "output_type": "stream",
     "text": [
      "Обрабатываем catalogid: 33824\n",
      "Обрабатываем небольшой catalogid: 33824 (размер: 595)\n"
     ]
    },
    {
     "name": "stderr",
     "output_type": "stream",
     "text": [
      "Обработка catalogid:  67%|██████▋   | 320/478 [21:53<01:04,  2.44it/s]"
     ]
    },
    {
     "name": "stdout",
     "output_type": "stream",
     "text": [
      "Обрабатываем catalogid: 33825\n",
      "Обрабатываем небольшой catalogid: 33825 (размер: 516)\n"
     ]
    },
    {
     "name": "stderr",
     "output_type": "stream",
     "text": [
      "Обработка catalogid:  67%|██████▋   | 321/478 [21:54<01:25,  1.83it/s]"
     ]
    },
    {
     "name": "stdout",
     "output_type": "stream",
     "text": [
      "Обрабатываем catalogid: 34238\n",
      "Обрабатываем небольшой catalogid: 34238 (размер: 1133)\n"
     ]
    },
    {
     "name": "stderr",
     "output_type": "stream",
     "text": [
      "Обработка catalogid:  67%|██████▋   | 322/478 [21:55<01:54,  1.36it/s]"
     ]
    },
    {
     "name": "stdout",
     "output_type": "stream",
     "text": [
      "Обрабатываем catalogid: 34319\n",
      "Обрабатываем небольшой catalogid: 34319 (размер: 836)\n"
     ]
    },
    {
     "name": "stderr",
     "output_type": "stream",
     "text": [
      "Обработка catalogid:  68%|██████▊   | 323/478 [21:56<01:53,  1.36it/s]"
     ]
    },
    {
     "name": "stdout",
     "output_type": "stream",
     "text": [
      "Обрабатываем catalogid: 34518\n",
      "Обрабатываем небольшой catalogid: 34518 (размер: 1713)\n"
     ]
    },
    {
     "name": "stderr",
     "output_type": "stream",
     "text": [
      "Обработка catalogid:  68%|██████▊   | 324/478 [21:56<01:38,  1.56it/s]"
     ]
    },
    {
     "name": "stdout",
     "output_type": "stream",
     "text": [
      "Обрабатываем catalogid: 34590\n",
      "Обрабатываем небольшой catalogid: 34590 (размер: 1247)\n"
     ]
    },
    {
     "name": "stderr",
     "output_type": "stream",
     "text": [
      "Обработка catalogid:  68%|██████▊   | 325/478 [21:58<02:03,  1.24it/s]"
     ]
    },
    {
     "name": "stdout",
     "output_type": "stream",
     "text": [
      "Обрабатываем catalogid: 34602\n",
      "Обрабатываем небольшой catalogid: 34602 (размер: 1411)\n"
     ]
    },
    {
     "name": "stderr",
     "output_type": "stream",
     "text": [
      "Обработка catalogid:  68%|██████▊   | 327/478 [21:58<01:17,  1.94it/s]"
     ]
    },
    {
     "name": "stdout",
     "output_type": "stream",
     "text": [
      "Обрабатываем catalogid: 34988\n",
      "Обрабатываем небольшой catalogid: 34988 (размер: 268)\n",
      "Обрабатываем catalogid: 34989\n",
      "Обрабатываем небольшой catalogid: 34989 (размер: 3898)\n"
     ]
    },
    {
     "name": "stderr",
     "output_type": "stream",
     "text": [
      "Обработка catalogid:  69%|██████▊   | 328/478 [21:59<01:30,  1.65it/s]"
     ]
    },
    {
     "name": "stdout",
     "output_type": "stream",
     "text": [
      "Обрабатываем catalogid: 35119\n",
      "Обрабатываем небольшой catalogid: 35119 (размер: 1)\n",
      "Предупреждение: name_vec имеет недостаточно признаков для SVD\n",
      "Предупреждение: desc_vec имеет недостаточно признаков для SVD\n",
      "Предупреждение: эмбеддинги имеют недостаточно признаков для PCA\n",
      "Обрабатываем catalogid: 35126\n",
      "Обрабатываем небольшой catalogid: 35126 (размер: 54)\n",
      "Обрабатываем catalogid: 35278\n",
      "Обрабатываем небольшой catalogid: 35278 (размер: 368)\n"
     ]
    },
    {
     "name": "stderr",
     "output_type": "stream",
     "text": [
      "Обработка catalogid:  69%|██████▉   | 331/478 [21:59<00:48,  3.05it/s]"
     ]
    },
    {
     "name": "stdout",
     "output_type": "stream",
     "text": [
      "Обрабатываем catalogid: 35308\n",
      "Обрабатываем небольшой catalogid: 35308 (размер: 2301)\n"
     ]
    },
    {
     "name": "stderr",
     "output_type": "stream",
     "text": [
      "Обработка catalogid:  69%|██████▉   | 332/478 [22:00<00:55,  2.61it/s]"
     ]
    },
    {
     "name": "stdout",
     "output_type": "stream",
     "text": [
      "Обрабатываем catalogid: 35643\n",
      "Обрабатываем небольшой catalogid: 35643 (размер: 5330)\n"
     ]
    },
    {
     "name": "stderr",
     "output_type": "stream",
     "text": [
      "Обработка catalogid:  70%|██████▉   | 333/478 [22:01<01:17,  1.88it/s]"
     ]
    },
    {
     "name": "stdout",
     "output_type": "stream",
     "text": [
      "Обрабатываем catalogid: 35910\n",
      "Обрабатываем небольшой catalogid: 35910 (размер: 805)\n"
     ]
    },
    {
     "name": "stderr",
     "output_type": "stream",
     "text": [
      "Обработка catalogid:  70%|██████▉   | 334/478 [22:01<01:06,  2.17it/s]"
     ]
    },
    {
     "name": "stdout",
     "output_type": "stream",
     "text": [
      "Обрабатываем catalogid: 36089\n",
      "Обрабатываем небольшой catalogid: 36089 (размер: 368)\n"
     ]
    },
    {
     "name": "stderr",
     "output_type": "stream",
     "text": [
      "Обработка catalogid:  70%|███████   | 335/478 [22:01<00:57,  2.51it/s]"
     ]
    },
    {
     "name": "stdout",
     "output_type": "stream",
     "text": [
      "Обрабатываем catalogid: 36096\n",
      "Обрабатываем небольшой catalogid: 36096 (размер: 9718)\n"
     ]
    },
    {
     "name": "stderr",
     "output_type": "stream",
     "text": [
      "Обработка catalogid:  70%|███████   | 336/478 [22:03<01:51,  1.28it/s]"
     ]
    },
    {
     "name": "stdout",
     "output_type": "stream",
     "text": [
      "Обрабатываем catalogid: 36120\n",
      "Обрабатываем небольшой catalogid: 36120 (размер: 4818)\n"
     ]
    },
    {
     "name": "stderr",
     "output_type": "stream",
     "text": [
      "Обработка catalogid:  71%|███████   | 337/478 [22:04<01:53,  1.25it/s]"
     ]
    },
    {
     "name": "stdout",
     "output_type": "stream",
     "text": [
      "Обрабатываем catalogid: 36142\n",
      "Обрабатываем небольшой catalogid: 36142 (размер: 39909)\n"
     ]
    },
    {
     "name": "stderr",
     "output_type": "stream",
     "text": [
      "Обработка catalogid:  71%|███████   | 338/478 [22:12<06:25,  2.75s/it]"
     ]
    },
    {
     "name": "stdout",
     "output_type": "stream",
     "text": [
      "Обрабатываем catalogid: 36145\n",
      "Обрабатываем небольшой catalogid: 36145 (размер: 9647)\n"
     ]
    },
    {
     "name": "stderr",
     "output_type": "stream",
     "text": [
      "Обработка catalogid:  71%|███████   | 339/478 [22:14<06:01,  2.60s/it]"
     ]
    },
    {
     "name": "stdout",
     "output_type": "stream",
     "text": [
      "Обрабатываем catalogid: 36147\n",
      "Обрабатываем небольшой catalogid: 36147 (размер: 3314)\n"
     ]
    },
    {
     "name": "stderr",
     "output_type": "stream",
     "text": [
      "Обработка catalogid:  71%|███████▏  | 341/478 [22:15<03:20,  1.46s/it]"
     ]
    },
    {
     "name": "stdout",
     "output_type": "stream",
     "text": [
      "Обрабатываем catalogid: 36179\n",
      "Обрабатываем небольшой catalogid: 36179 (размер: 177)\n",
      "Обрабатываем catalogid: 36306\n",
      "Обрабатываем небольшой catalogid: 36306 (размер: 13130)\n"
     ]
    },
    {
     "name": "stderr",
     "output_type": "stream",
     "text": [
      "Обработка catalogid:  72%|███████▏  | 342/478 [22:17<03:56,  1.74s/it]"
     ]
    },
    {
     "name": "stdout",
     "output_type": "stream",
     "text": [
      "Обрабатываем catalogid: 36407\n",
      "Обрабатываем небольшой catalogid: 36407 (размер: 39038)\n"
     ]
    },
    {
     "name": "stderr",
     "output_type": "stream",
     "text": [
      "Обработка catalogid:  72%|███████▏  | 343/478 [22:26<08:41,  3.86s/it]"
     ]
    },
    {
     "name": "stdout",
     "output_type": "stream",
     "text": [
      "Обрабатываем catalogid: 36462\n",
      "Обрабатываем небольшой catalogid: 36462 (размер: 3773)\n"
     ]
    },
    {
     "name": "stderr",
     "output_type": "stream",
     "text": [
      "Обработка catalogid:  72%|███████▏  | 344/478 [22:27<06:50,  3.06s/it]"
     ]
    },
    {
     "name": "stdout",
     "output_type": "stream",
     "text": [
      "Обрабатываем catalogid: 36470\n",
      "Обрабатываем небольшой catalogid: 36470 (размер: 14166)\n"
     ]
    },
    {
     "name": "stderr",
     "output_type": "stream",
     "text": [
      "Обработка catalogid:  72%|███████▏  | 345/478 [22:29<06:12,  2.80s/it]"
     ]
    },
    {
     "name": "stdout",
     "output_type": "stream",
     "text": [
      "Обрабатываем catalogid: 36471\n",
      "Обрабатываем небольшой catalogid: 36471 (размер: 30733)\n"
     ]
    },
    {
     "name": "stderr",
     "output_type": "stream",
     "text": [
      "Обработка catalogid:  72%|███████▏  | 346/478 [22:36<08:43,  3.97s/it]"
     ]
    },
    {
     "name": "stdout",
     "output_type": "stream",
     "text": [
      "Обрабатываем catalogid: 36472\n",
      "Обрабатываем небольшой catalogid: 36472 (размер: 8253)\n"
     ]
    },
    {
     "name": "stderr",
     "output_type": "stream",
     "text": [
      "Обработка catalogid:  73%|███████▎  | 347/478 [22:38<07:09,  3.28s/it]"
     ]
    },
    {
     "name": "stdout",
     "output_type": "stream",
     "text": [
      "Обрабатываем catalogid: 36484\n",
      "Обрабатываем большой catalogid: 36484 (размер: 225336)\n",
      "Сбор статистики для обучения преобразователей...\n",
      "Обучение преобразователей...\n",
      "Определение размерности финальных векторов...\n",
      "Размерность финальных векторов: 2942\n",
      "Первый проход: вычисление статистики для нормализации...\n"
     ]
    },
    {
     "name": "stderr",
     "output_type": "stream",
     "text": [
      "Сбор статистики: 100%|██████████| 46/46 [00:17<00:00,  2.67it/s]\n"
     ]
    },
    {
     "name": "stdout",
     "output_type": "stream",
     "text": [
      "Второй проход: нормализация и сохранение...\n"
     ]
    },
    {
     "name": "stderr",
     "output_type": "stream",
     "text": [
      "Нормализация и сохранение: 100%|██████████| 46/46 [00:22<00:00,  2.03it/s]\n",
      "Обработка catalogid:  73%|███████▎  | 348/478 [23:31<39:56, 18.43s/it]"
     ]
    },
    {
     "name": "stdout",
     "output_type": "stream",
     "text": [
      "Обработка с нормализацией завершена. Векторы сохранены в: ./result_vectors/36484_vectors.npy\n",
      "Обрабатываем catalogid: 36497\n",
      "Обрабатываем небольшой catalogid: 36497 (размер: 8746)\n"
     ]
    },
    {
     "name": "stderr",
     "output_type": "stream",
     "text": [
      "Обработка catalogid:  73%|███████▎  | 349/478 [23:33<28:39, 13.33s/it]"
     ]
    },
    {
     "name": "stdout",
     "output_type": "stream",
     "text": [
      "Обрабатываем catalogid: 36499\n",
      "Обрабатываем небольшой catalogid: 36499 (размер: 3692)\n"
     ]
    },
    {
     "name": "stderr",
     "output_type": "stream",
     "text": [
      "Обработка catalogid:  73%|███████▎  | 350/478 [23:34<20:26,  9.58s/it]"
     ]
    },
    {
     "name": "stdout",
     "output_type": "stream",
     "text": [
      "Обрабатываем catalogid: 36509\n",
      "Обрабатываем небольшой catalogid: 36509 (размер: 2125)\n"
     ]
    },
    {
     "name": "stderr",
     "output_type": "stream",
     "text": [
      "Обработка catalogid:  74%|███████▎  | 352/478 [23:34<10:11,  4.86s/it]"
     ]
    },
    {
     "name": "stdout",
     "output_type": "stream",
     "text": [
      "Обрабатываем catalogid: 36510\n",
      "Обрабатываем небольшой catalogid: 36510 (размер: 191)\n",
      "Обрабатываем catalogid: 36513\n",
      "Обрабатываем небольшой catalogid: 36513 (размер: 26416)\n"
     ]
    },
    {
     "name": "stderr",
     "output_type": "stream",
     "text": [
      "Обработка catalogid:  74%|███████▍  | 353/478 [23:41<11:18,  5.43s/it]"
     ]
    },
    {
     "name": "stdout",
     "output_type": "stream",
     "text": [
      "Обрабатываем catalogid: 36514\n",
      "Обрабатываем небольшой catalogid: 36514 (размер: 11304)\n"
     ]
    },
    {
     "name": "stderr",
     "output_type": "stream",
     "text": [
      "Обработка catalogid:  74%|███████▍  | 354/478 [23:43<09:05,  4.40s/it]"
     ]
    },
    {
     "name": "stdout",
     "output_type": "stream",
     "text": [
      "Обрабатываем catalogid: 36517\n",
      "Обрабатываем небольшой catalogid: 36517 (размер: 12100)\n"
     ]
    },
    {
     "name": "stderr",
     "output_type": "stream",
     "text": [
      "Обработка catalogid:  74%|███████▍  | 355/478 [23:45<07:29,  3.65s/it]"
     ]
    },
    {
     "name": "stdout",
     "output_type": "stream",
     "text": [
      "Обрабатываем catalogid: 36522\n",
      "Обрабатываем небольшой catalogid: 36522 (размер: 980)\n"
     ]
    },
    {
     "name": "stderr",
     "output_type": "stream",
     "text": [
      "Обработка catalogid:  75%|███████▍  | 357/478 [23:46<03:50,  1.91s/it]"
     ]
    },
    {
     "name": "stdout",
     "output_type": "stream",
     "text": [
      "Обрабатываем catalogid: 36526\n",
      "Обрабатываем небольшой catalogid: 36526 (размер: 787)\n",
      "Обрабатываем catalogid: 36530\n",
      "Обрабатываем небольшой catalogid: 36530 (размер: 3779)\n"
     ]
    },
    {
     "name": "stderr",
     "output_type": "stream",
     "text": [
      "Обработка catalogid:  75%|███████▍  | 358/478 [23:46<03:03,  1.53s/it]"
     ]
    },
    {
     "name": "stdout",
     "output_type": "stream",
     "text": [
      "Обрабатываем catalogid: 36536\n",
      "Обрабатываем небольшой catalogid: 36536 (размер: 11109)\n"
     ]
    },
    {
     "name": "stderr",
     "output_type": "stream",
     "text": [
      "Обработка catalogid:  75%|███████▌  | 359/478 [23:48<03:24,  1.72s/it]"
     ]
    },
    {
     "name": "stdout",
     "output_type": "stream",
     "text": [
      "Обрабатываем catalogid: 36546\n",
      "Обрабатываем небольшой catalogid: 36546 (размер: 8173)\n"
     ]
    },
    {
     "name": "stderr",
     "output_type": "stream",
     "text": [
      "Обработка catalogid:  75%|███████▌  | 360/478 [23:50<03:15,  1.66s/it]"
     ]
    },
    {
     "name": "stdout",
     "output_type": "stream",
     "text": [
      "Обрабатываем catalogid: 36557\n",
      "Обрабатываем небольшой catalogid: 36557 (размер: 7823)\n"
     ]
    },
    {
     "name": "stderr",
     "output_type": "stream",
     "text": [
      "Обработка catalogid:  76%|███████▌  | 361/478 [23:51<03:06,  1.59s/it]"
     ]
    },
    {
     "name": "stdout",
     "output_type": "stream",
     "text": [
      "Обрабатываем catalogid: 36559\n",
      "Обрабатываем небольшой catalogid: 36559 (размер: 808)\n"
     ]
    },
    {
     "name": "stderr",
     "output_type": "stream",
     "text": [
      "Обработка catalogid:  76%|███████▌  | 362/478 [23:52<02:17,  1.18s/it]"
     ]
    },
    {
     "name": "stdout",
     "output_type": "stream",
     "text": [
      "Обрабатываем catalogid: 36560\n",
      "Обрабатываем небольшой catalogid: 36560 (размер: 154)\n",
      "Обрабатываем catalogid: 36563\n",
      "Обрабатываем небольшой catalogid: 36563 (размер: 26363)\n"
     ]
    },
    {
     "name": "stderr",
     "output_type": "stream",
     "text": [
      "Обработка catalogid:  76%|███████▌  | 364/478 [23:57<03:39,  1.92s/it]"
     ]
    },
    {
     "name": "stdout",
     "output_type": "stream",
     "text": [
      "Обрабатываем catalogid: 36578\n",
      "Обрабатываем небольшой catalogid: 36578 (размер: 11921)\n"
     ]
    },
    {
     "name": "stderr",
     "output_type": "stream",
     "text": [
      "Обработка catalogid:  76%|███████▋  | 365/478 [24:00<03:52,  2.06s/it]"
     ]
    },
    {
     "name": "stdout",
     "output_type": "stream",
     "text": [
      "Обрабатываем catalogid: 36594\n",
      "Обрабатываем небольшой catalogid: 36594 (размер: 5641)\n"
     ]
    },
    {
     "name": "stderr",
     "output_type": "stream",
     "text": [
      "Обработка catalogid:  77%|███████▋  | 366/478 [24:01<03:17,  1.76s/it]"
     ]
    },
    {
     "name": "stdout",
     "output_type": "stream",
     "text": [
      "Обрабатываем catalogid: 36597\n",
      "Обрабатываем большой catalogid: 36597 (размер: 58872)\n",
      "Сбор статистики для обучения преобразователей...\n",
      "Обучение преобразователей...\n",
      "Определение размерности финальных векторов...\n",
      "Размерность финальных векторов: 1919\n",
      "Первый проход: вычисление статистики для нормализации...\n"
     ]
    },
    {
     "name": "stderr",
     "output_type": "stream",
     "text": [
      "Сбор статистики: 100%|██████████| 12/12 [00:04<00:00,  2.50it/s]\n"
     ]
    },
    {
     "name": "stdout",
     "output_type": "stream",
     "text": [
      "Второй проход: нормализация и сохранение...\n"
     ]
    },
    {
     "name": "stderr",
     "output_type": "stream",
     "text": [
      "Нормализация и сохранение: 100%|██████████| 12/12 [00:05<00:00,  2.17it/s]\n",
      "Обработка catalogid:  77%|███████▋  | 367/478 [24:16<09:58,  5.39s/it]"
     ]
    },
    {
     "name": "stdout",
     "output_type": "stream",
     "text": [
      "Обработка с нормализацией завершена. Векторы сохранены в: ./result_vectors/36597_vectors.npy\n",
      "Обрабатываем catalogid: 36608\n",
      "Обрабатываем небольшой catalogid: 36608 (размер: 16979)\n"
     ]
    },
    {
     "name": "stderr",
     "output_type": "stream",
     "text": [
      "Обработка catalogid:  77%|███████▋  | 368/478 [24:19<08:47,  4.79s/it]"
     ]
    },
    {
     "name": "stdout",
     "output_type": "stream",
     "text": [
      "Обрабатываем catalogid: 36617\n",
      "Обрабатываем небольшой catalogid: 36617 (размер: 41783)\n"
     ]
    },
    {
     "name": "stderr",
     "output_type": "stream",
     "text": [
      "Обработка catalogid:  77%|███████▋  | 369/478 [24:27<10:40,  5.88s/it]"
     ]
    },
    {
     "name": "stdout",
     "output_type": "stream",
     "text": [
      "Обрабатываем catalogid: 36620\n",
      "Обрабатываем небольшой catalogid: 36620 (размер: 11655)\n"
     ]
    },
    {
     "name": "stderr",
     "output_type": "stream",
     "text": [
      "Обработка catalogid:  77%|███████▋  | 370/478 [24:30<08:56,  4.97s/it]"
     ]
    },
    {
     "name": "stdout",
     "output_type": "stream",
     "text": [
      "Обрабатываем catalogid: 36624\n",
      "Обрабатываем большой catalogid: 36624 (размер: 55967)\n",
      "Сбор статистики для обучения преобразователей...\n",
      "Обучение преобразователей...\n",
      "Определение размерности финальных векторов...\n",
      "Размерность финальных векторов: 1917\n",
      "Первый проход: вычисление статистики для нормализации...\n"
     ]
    },
    {
     "name": "stderr",
     "output_type": "stream",
     "text": [
      "Сбор статистики: 100%|██████████| 12/12 [00:04<00:00,  2.65it/s]\n"
     ]
    },
    {
     "name": "stdout",
     "output_type": "stream",
     "text": [
      "Второй проход: нормализация и сохранение...\n"
     ]
    },
    {
     "name": "stderr",
     "output_type": "stream",
     "text": [
      "Нормализация и сохранение: 100%|██████████| 12/12 [00:05<00:00,  2.10it/s]\n",
      "Обработка catalogid:  78%|███████▊  | 371/478 [24:45<14:01,  7.86s/it]"
     ]
    },
    {
     "name": "stdout",
     "output_type": "stream",
     "text": [
      "Обработка с нормализацией завершена. Векторы сохранены в: ./result_vectors/36624_vectors.npy\n",
      "Обрабатываем catalogid: 36641\n",
      "Обрабатываем небольшой catalogid: 36641 (размер: 9410)\n"
     ]
    },
    {
     "name": "stderr",
     "output_type": "stream",
     "text": [
      "Обработка catalogid:  78%|███████▊  | 372/478 [24:47<10:33,  5.98s/it]"
     ]
    },
    {
     "name": "stdout",
     "output_type": "stream",
     "text": [
      "Обрабатываем catalogid: 36644\n",
      "Обрабатываем небольшой catalogid: 36644 (размер: 2739)\n"
     ]
    },
    {
     "name": "stderr",
     "output_type": "stream",
     "text": [
      "Обработка catalogid:  78%|███████▊  | 373/478 [24:47<07:38,  4.37s/it]"
     ]
    },
    {
     "name": "stdout",
     "output_type": "stream",
     "text": [
      "Обрабатываем catalogid: 36645\n",
      "Обрабатываем небольшой catalogid: 36645 (размер: 689)\n"
     ]
    },
    {
     "name": "stderr",
     "output_type": "stream",
     "text": [
      "Обработка catalogid:  78%|███████▊  | 374/478 [24:47<05:26,  3.14s/it]"
     ]
    },
    {
     "name": "stdout",
     "output_type": "stream",
     "text": [
      "Обрабатываем catalogid: 36646\n",
      "Обрабатываем небольшой catalogid: 36646 (размер: 995)\n"
     ]
    },
    {
     "name": "stderr",
     "output_type": "stream",
     "text": [
      "Обработка catalogid:  78%|███████▊  | 375/478 [24:48<03:55,  2.29s/it]"
     ]
    },
    {
     "name": "stdout",
     "output_type": "stream",
     "text": [
      "Обрабатываем catalogid: 36647\n",
      "Обрабатываем небольшой catalogid: 36647 (размер: 4666)\n"
     ]
    },
    {
     "name": "stderr",
     "output_type": "stream",
     "text": [
      "Обработка catalogid:  79%|███████▉  | 377/478 [24:49<02:22,  1.41s/it]"
     ]
    },
    {
     "name": "stdout",
     "output_type": "stream",
     "text": [
      "Обрабатываем catalogid: 36648\n",
      "Обрабатываем небольшой catalogid: 36648 (размер: 433)\n",
      "Обрабатываем catalogid: 36649\n",
      "Обрабатываем небольшой catalogid: 36649 (размер: 4119)\n"
     ]
    },
    {
     "name": "stderr",
     "output_type": "stream",
     "text": [
      "Обработка catalogid:  79%|███████▉  | 378/478 [24:50<02:06,  1.27s/it]"
     ]
    },
    {
     "name": "stdout",
     "output_type": "stream",
     "text": [
      "Обрабатываем catalogid: 36665\n",
      "Обрабатываем небольшой catalogid: 36665 (размер: 11670)\n"
     ]
    },
    {
     "name": "stderr",
     "output_type": "stream",
     "text": [
      "Обработка catalogid:  79%|███████▉  | 379/478 [24:52<02:31,  1.53s/it]"
     ]
    },
    {
     "name": "stdout",
     "output_type": "stream",
     "text": [
      "Обрабатываем catalogid: 36672\n",
      "Обрабатываем небольшой catalogid: 36672 (размер: 1883)\n"
     ]
    },
    {
     "name": "stderr",
     "output_type": "stream",
     "text": [
      "Обработка catalogid:  79%|███████▉  | 380/478 [24:52<01:59,  1.22s/it]"
     ]
    },
    {
     "name": "stdout",
     "output_type": "stream",
     "text": [
      "Обрабатываем catalogid: 36673\n",
      "Обрабатываем небольшой catalogid: 36673 (размер: 1714)\n"
     ]
    },
    {
     "name": "stderr",
     "output_type": "stream",
     "text": [
      "Обработка catalogid:  80%|███████▉  | 381/478 [24:53<01:33,  1.04it/s]"
     ]
    },
    {
     "name": "stdout",
     "output_type": "stream",
     "text": [
      "Обрабатываем catalogid: 36692\n",
      "Обрабатываем небольшой catalogid: 36692 (размер: 5640)\n"
     ]
    },
    {
     "name": "stderr",
     "output_type": "stream",
     "text": [
      "Обработка catalogid:  80%|███████▉  | 382/478 [24:54<01:33,  1.02it/s]"
     ]
    },
    {
     "name": "stdout",
     "output_type": "stream",
     "text": [
      "Обрабатываем catalogid: 36693\n",
      "Обрабатываем небольшой catalogid: 36693 (размер: 3520)\n"
     ]
    },
    {
     "name": "stderr",
     "output_type": "stream",
     "text": [
      "Обработка catalogid:  80%|████████  | 383/478 [24:55<01:27,  1.08it/s]"
     ]
    },
    {
     "name": "stdout",
     "output_type": "stream",
     "text": [
      "Обрабатываем catalogid: 36706\n",
      "Обрабатываем небольшой catalogid: 36706 (размер: 7893)\n"
     ]
    },
    {
     "name": "stderr",
     "output_type": "stream",
     "text": [
      "Обработка catalogid:  80%|████████  | 384/478 [24:56<01:46,  1.14s/it]"
     ]
    },
    {
     "name": "stdout",
     "output_type": "stream",
     "text": [
      "Обрабатываем catalogid: 36707\n",
      "Обрабатываем небольшой catalogid: 36707 (размер: 6899)\n"
     ]
    },
    {
     "name": "stderr",
     "output_type": "stream",
     "text": [
      "Обработка catalogid:  81%|████████  | 385/478 [24:58<01:54,  1.23s/it]"
     ]
    },
    {
     "name": "stdout",
     "output_type": "stream",
     "text": [
      "Обрабатываем catalogid: 36710\n",
      "Обрабатываем небольшой catalogid: 36710 (размер: 2093)\n"
     ]
    },
    {
     "name": "stderr",
     "output_type": "stream",
     "text": [
      "Обработка catalogid:  81%|████████  | 386/478 [24:58<01:36,  1.05s/it]"
     ]
    },
    {
     "name": "stdout",
     "output_type": "stream",
     "text": [
      "Обрабатываем catalogid: 36712\n",
      "Обрабатываем небольшой catalogid: 36712 (размер: 2064)\n"
     ]
    },
    {
     "name": "stderr",
     "output_type": "stream",
     "text": [
      "Обработка catalogid:  81%|████████  | 387/478 [24:59<01:22,  1.10it/s]"
     ]
    },
    {
     "name": "stdout",
     "output_type": "stream",
     "text": [
      "Обрабатываем catalogid: 36713\n",
      "Обрабатываем небольшой catalogid: 36713 (размер: 5721)\n"
     ]
    },
    {
     "name": "stderr",
     "output_type": "stream",
     "text": [
      "Обработка catalogid:  81%|████████  | 388/478 [25:00<01:29,  1.01it/s]"
     ]
    },
    {
     "name": "stdout",
     "output_type": "stream",
     "text": [
      "Обрабатываем catalogid: 36717\n",
      "Обрабатываем небольшой catalogid: 36717 (размер: 6773)\n"
     ]
    },
    {
     "name": "stderr",
     "output_type": "stream",
     "text": [
      "Обработка catalogid:  81%|████████▏ | 389/478 [25:01<01:37,  1.09s/it]"
     ]
    },
    {
     "name": "stdout",
     "output_type": "stream",
     "text": [
      "Обрабатываем catalogid: 36718\n",
      "Обрабатываем небольшой catalogid: 36718 (размер: 7126)\n"
     ]
    },
    {
     "name": "stderr",
     "output_type": "stream",
     "text": [
      "Обработка catalogid:  82%|████████▏ | 390/478 [25:03<01:47,  1.22s/it]"
     ]
    },
    {
     "name": "stdout",
     "output_type": "stream",
     "text": [
      "Обрабатываем catalogid: 36719\n",
      "Обрабатываем небольшой catalogid: 36719 (размер: 3788)\n"
     ]
    },
    {
     "name": "stderr",
     "output_type": "stream",
     "text": [
      "Обработка catalogid:  82%|████████▏ | 391/478 [25:04<01:48,  1.25s/it]"
     ]
    },
    {
     "name": "stdout",
     "output_type": "stream",
     "text": [
      "Обрабатываем catalogid: 36723\n",
      "Обрабатываем большой catalogid: 36723 (размер: 57944)\n",
      "Сбор статистики для обучения преобразователей...\n",
      "Обучение преобразователей...\n",
      "Определение размерности финальных векторов...\n",
      "Размерность финальных векторов: 2544\n",
      "Первый проход: вычисление статистики для нормализации...\n"
     ]
    },
    {
     "name": "stderr",
     "output_type": "stream",
     "text": [
      "Сбор статистики: 100%|██████████| 12/12 [00:04<00:00,  2.41it/s]\n"
     ]
    },
    {
     "name": "stdout",
     "output_type": "stream",
     "text": [
      "Второй проход: нормализация и сохранение...\n"
     ]
    },
    {
     "name": "stderr",
     "output_type": "stream",
     "text": [
      "Нормализация и сохранение: 100%|██████████| 12/12 [00:05<00:00,  2.09it/s]\n",
      "Обработка catalogid:  82%|████████▏ | 392/478 [25:20<08:07,  5.67s/it]"
     ]
    },
    {
     "name": "stdout",
     "output_type": "stream",
     "text": [
      "Обработка с нормализацией завершена. Векторы сохранены в: ./result_vectors/36723_vectors.npy\n",
      "Обрабатываем catalogid: 36727\n",
      "Обрабатываем небольшой catalogid: 36727 (размер: 2607)\n"
     ]
    },
    {
     "name": "stderr",
     "output_type": "stream",
     "text": [
      "Обработка catalogid:  82%|████████▏ | 393/478 [25:21<05:52,  4.15s/it]"
     ]
    },
    {
     "name": "stdout",
     "output_type": "stream",
     "text": [
      "Обрабатываем catalogid: 36729\n",
      "Обрабатываем небольшой catalogid: 36729 (размер: 20634)\n"
     ]
    },
    {
     "name": "stderr",
     "output_type": "stream",
     "text": [
      "Обработка catalogid:  82%|████████▏ | 394/478 [25:25<05:52,  4.20s/it]"
     ]
    },
    {
     "name": "stdout",
     "output_type": "stream",
     "text": [
      "Обрабатываем catalogid: 36730\n",
      "Обрабатываем небольшой catalogid: 36730 (размер: 22562)\n"
     ]
    },
    {
     "name": "stderr",
     "output_type": "stream",
     "text": [
      "Обработка catalogid:  83%|████████▎ | 395/478 [25:31<06:18,  4.55s/it]"
     ]
    },
    {
     "name": "stdout",
     "output_type": "stream",
     "text": [
      "Обрабатываем catalogid: 36731\n",
      "Обрабатываем небольшой catalogid: 36731 (размер: 17435)\n"
     ]
    },
    {
     "name": "stderr",
     "output_type": "stream",
     "text": [
      "Обработка catalogid:  83%|████████▎ | 396/478 [25:35<06:01,  4.41s/it]"
     ]
    },
    {
     "name": "stdout",
     "output_type": "stream",
     "text": [
      "Обрабатываем catalogid: 36734\n",
      "Обрабатываем небольшой catalogid: 36734 (размер: 25115)\n"
     ]
    },
    {
     "name": "stderr",
     "output_type": "stream",
     "text": [
      "Обработка catalogid:  83%|████████▎ | 397/478 [25:41<06:35,  4.88s/it]"
     ]
    },
    {
     "name": "stdout",
     "output_type": "stream",
     "text": [
      "Обрабатываем catalogid: 36735\n",
      "Обрабатываем небольшой catalogid: 36735 (размер: 6053)\n"
     ]
    },
    {
     "name": "stderr",
     "output_type": "stream",
     "text": [
      "Обработка catalogid:  83%|████████▎ | 398/478 [25:43<05:28,  4.10s/it]"
     ]
    },
    {
     "name": "stdout",
     "output_type": "stream",
     "text": [
      "Обрабатываем catalogid: 36736\n",
      "Обрабатываем небольшой catalogid: 36736 (размер: 9086)\n"
     ]
    },
    {
     "name": "stderr",
     "output_type": "stream",
     "text": [
      "Обработка catalogid:  83%|████████▎ | 399/478 [25:45<04:41,  3.56s/it]"
     ]
    },
    {
     "name": "stdout",
     "output_type": "stream",
     "text": [
      "Обрабатываем catalogid: 36737\n",
      "Обрабатываем небольшой catalogid: 36737 (размер: 1227)\n"
     ]
    },
    {
     "name": "stderr",
     "output_type": "stream",
     "text": [
      "Обработка catalogid:  84%|████████▎ | 400/478 [25:46<03:23,  2.61s/it]"
     ]
    },
    {
     "name": "stdout",
     "output_type": "stream",
     "text": [
      "Обрабатываем catalogid: 36738\n",
      "Обрабатываем небольшой catalogid: 36738 (размер: 12102)\n"
     ]
    },
    {
     "name": "stderr",
     "output_type": "stream",
     "text": [
      "Обработка catalogid:  84%|████████▍ | 401/478 [25:48<03:21,  2.61s/it]"
     ]
    },
    {
     "name": "stdout",
     "output_type": "stream",
     "text": [
      "Обрабатываем catalogid: 36739\n",
      "Обрабатываем небольшой catalogid: 36739 (размер: 29486)\n"
     ]
    },
    {
     "name": "stderr",
     "output_type": "stream",
     "text": [
      "Обработка catalogid:  84%|████████▍ | 402/478 [25:55<04:43,  3.72s/it]"
     ]
    },
    {
     "name": "stdout",
     "output_type": "stream",
     "text": [
      "Обрабатываем catalogid: 36741\n",
      "Обрабатываем небольшой catalogid: 36741 (размер: 33429)\n"
     ]
    },
    {
     "name": "stderr",
     "output_type": "stream",
     "text": [
      "Обработка catalogid:  84%|████████▍ | 403/478 [26:03<06:32,  5.23s/it]"
     ]
    },
    {
     "name": "stdout",
     "output_type": "stream",
     "text": [
      "Обрабатываем catalogid: 36742\n",
      "Обрабатываем небольшой catalogid: 36742 (размер: 17724)\n"
     ]
    },
    {
     "name": "stderr",
     "output_type": "stream",
     "text": [
      "Обработка catalogid:  85%|████████▍ | 404/478 [26:08<06:14,  5.06s/it]"
     ]
    },
    {
     "name": "stdout",
     "output_type": "stream",
     "text": [
      "Обрабатываем catalogid: 36745\n",
      "Обрабатываем большой catalogid: 36745 (размер: 80570)\n",
      "Сбор статистики для обучения преобразователей...\n",
      "Обучение преобразователей...\n",
      "Определение размерности финальных векторов...\n",
      "Размерность финальных векторов: 3402\n",
      "Первый проход: вычисление статистики для нормализации...\n"
     ]
    },
    {
     "name": "stderr",
     "output_type": "stream",
     "text": [
      "Сбор статистики: 100%|██████████| 17/17 [00:08<00:00,  2.02it/s]\n"
     ]
    },
    {
     "name": "stdout",
     "output_type": "stream",
     "text": [
      "Второй проход: нормализация и сохранение...\n"
     ]
    },
    {
     "name": "stderr",
     "output_type": "stream",
     "text": [
      "Нормализация и сохранение: 100%|██████████| 17/17 [00:10<00:00,  1.62it/s]\n",
      "Обработка catalogid:  85%|████████▍ | 405/478 [26:34<13:57, 11.48s/it]"
     ]
    },
    {
     "name": "stdout",
     "output_type": "stream",
     "text": [
      "Обработка с нормализацией завершена. Векторы сохранены в: ./result_vectors/36745_vectors.npy\n",
      "Обрабатываем catalogid: 36748\n",
      "Обрабатываем небольшой catalogid: 36748 (размер: 1818)\n"
     ]
    },
    {
     "name": "stderr",
     "output_type": "stream",
     "text": [
      "Обработка catalogid:  85%|████████▍ | 406/478 [26:35<09:47,  8.16s/it]"
     ]
    },
    {
     "name": "stdout",
     "output_type": "stream",
     "text": [
      "Обрабатываем catalogid: 36749\n",
      "Обрабатываем небольшой catalogid: 36749 (размер: 2388)\n"
     ]
    },
    {
     "name": "stderr",
     "output_type": "stream",
     "text": [
      "Обработка catalogid:  85%|████████▌ | 407/478 [26:35<06:57,  5.88s/it]"
     ]
    },
    {
     "name": "stdout",
     "output_type": "stream",
     "text": [
      "Обрабатываем catalogid: 36750\n",
      "Обрабатываем небольшой catalogid: 36750 (размер: 6529)\n"
     ]
    },
    {
     "name": "stderr",
     "output_type": "stream",
     "text": [
      "Обработка catalogid:  85%|████████▌ | 408/478 [26:37<05:17,  4.54s/it]"
     ]
    },
    {
     "name": "stdout",
     "output_type": "stream",
     "text": [
      "Обрабатываем catalogid: 36755\n",
      "Обрабатываем небольшой catalogid: 36755 (размер: 30396)\n"
     ]
    },
    {
     "name": "stderr",
     "output_type": "stream",
     "text": [
      "Обработка catalogid:  86%|████████▌ | 410/478 [26:43<03:55,  3.46s/it]"
     ]
    },
    {
     "name": "stdout",
     "output_type": "stream",
     "text": [
      "Обрабатываем catalogid: 36811\n",
      "Обрабатываем небольшой catalogid: 36811 (размер: 125)\n",
      "Обрабатываем catalogid: 36941\n",
      "Обрабатываем небольшой catalogid: 36941 (размер: 2681)\n"
     ]
    },
    {
     "name": "stderr",
     "output_type": "stream",
     "text": [
      "Обработка catalogid:  86%|████████▌ | 412/478 [26:43<02:03,  1.87s/it]"
     ]
    },
    {
     "name": "stdout",
     "output_type": "stream",
     "text": [
      "Обрабатываем catalogid: 36942\n",
      "Обрабатываем небольшой catalogid: 36942 (размер: 547)\n",
      "Обрабатываем catalogid: 37052\n",
      "Обрабатываем небольшой catalogid: 37052 (размер: 4933)\n"
     ]
    },
    {
     "name": "stderr",
     "output_type": "stream",
     "text": [
      "Обработка catalogid:  86%|████████▋ | 413/478 [26:44<01:42,  1.58s/it]"
     ]
    },
    {
     "name": "stdout",
     "output_type": "stream",
     "text": [
      "Обрабатываем catalogid: 37053\n",
      "Обрабатываем небольшой catalogid: 37053 (размер: 4698)\n"
     ]
    },
    {
     "name": "stderr",
     "output_type": "stream",
     "text": [
      "Обработка catalogid:  87%|████████▋ | 414/478 [26:45<01:26,  1.35s/it]"
     ]
    },
    {
     "name": "stdout",
     "output_type": "stream",
     "text": [
      "Обрабатываем catalogid: 37073\n",
      "Обрабатываем небольшой catalogid: 37073 (размер: 16)\n",
      "Обрабатываем catalogid: 37074\n",
      "Обрабатываем небольшой catalogid: 37074 (размер: 13)\n",
      "Обрабатываем catalogid: 37350\n",
      "Обрабатываем небольшой catalogid: 37350 (размер: 2189)\n"
     ]
    },
    {
     "name": "stderr",
     "output_type": "stream",
     "text": [
      "Обработка catalogid:  87%|████████▋ | 417/478 [26:46<00:42,  1.42it/s]"
     ]
    },
    {
     "name": "stdout",
     "output_type": "stream",
     "text": [
      "Обрабатываем catalogid: 37414\n",
      "Обрабатываем небольшой catalogid: 37414 (размер: 811)\n"
     ]
    },
    {
     "name": "stderr",
     "output_type": "stream",
     "text": [
      "Обработка catalogid:  87%|████████▋ | 418/478 [26:46<00:36,  1.65it/s]"
     ]
    },
    {
     "name": "stdout",
     "output_type": "stream",
     "text": [
      "Обрабатываем catalogid: 37571\n",
      "Обрабатываем небольшой catalogid: 37571 (размер: 8)\n",
      "Обрабатываем catalogid: 37733\n",
      "Обрабатываем небольшой catalogid: 37733 (размер: 995)\n"
     ]
    },
    {
     "name": "stderr",
     "output_type": "stream",
     "text": [
      "Обработка catalogid:  88%|████████▊ | 420/478 [26:46<00:25,  2.30it/s]"
     ]
    },
    {
     "name": "stdout",
     "output_type": "stream",
     "text": [
      "Обрабатываем catalogid: 37946\n",
      "Обрабатываем небольшой catalogid: 37946 (размер: 869)\n"
     ]
    },
    {
     "name": "stderr",
     "output_type": "stream",
     "text": [
      "Обработка catalogid:  88%|████████▊ | 421/478 [26:47<00:23,  2.39it/s]"
     ]
    },
    {
     "name": "stdout",
     "output_type": "stream",
     "text": [
      "Обрабатываем catalogid: 38006\n",
      "Обрабатываем небольшой catalogid: 38006 (размер: 924)\n"
     ]
    },
    {
     "name": "stderr",
     "output_type": "stream",
     "text": [
      "Обработка catalogid:  88%|████████▊ | 422/478 [26:47<00:20,  2.68it/s]"
     ]
    },
    {
     "name": "stdout",
     "output_type": "stream",
     "text": [
      "Обрабатываем catalogid: 38027\n",
      "Обрабатываем небольшой catalogid: 38027 (размер: 46)\n",
      "Обрабатываем catalogid: 38107\n",
      "Обрабатываем небольшой catalogid: 38107 (размер: 23576)\n"
     ]
    },
    {
     "name": "stderr",
     "output_type": "stream",
     "text": [
      "Обработка catalogid:  89%|████████▊ | 424/478 [26:51<01:00,  1.12s/it]"
     ]
    },
    {
     "name": "stdout",
     "output_type": "stream",
     "text": [
      "Обрабатываем catalogid: 38157\n",
      "Обрабатываем небольшой catalogid: 38157 (размер: 13748)\n"
     ]
    },
    {
     "name": "stderr",
     "output_type": "stream",
     "text": [
      "Обработка catalogid:  89%|████████▉ | 425/478 [26:55<01:26,  1.64s/it]"
     ]
    },
    {
     "name": "stdout",
     "output_type": "stream",
     "text": [
      "Обрабатываем catalogid: 38210\n",
      "Обрабатываем небольшой catalogid: 38210 (размер: 28554)\n"
     ]
    },
    {
     "name": "stderr",
     "output_type": "stream",
     "text": [
      "Обработка catalogid:  89%|████████▉ | 426/478 [27:00<02:16,  2.62s/it]"
     ]
    },
    {
     "name": "stdout",
     "output_type": "stream",
     "text": [
      "Обрабатываем catalogid: 38294\n",
      "Обрабатываем небольшой catalogid: 38294 (размер: 2)\n",
      "Обрабатываем catalogid: 38309\n",
      "Обрабатываем небольшой catalogid: 38309 (размер: 456)\n"
     ]
    },
    {
     "name": "stderr",
     "output_type": "stream",
     "text": [
      "Обработка catalogid:  90%|████████▉ | 428/478 [27:01<01:22,  1.64s/it]"
     ]
    },
    {
     "name": "stdout",
     "output_type": "stream",
     "text": [
      "Обрабатываем catalogid: 38711\n",
      "Обрабатываем небольшой catalogid: 38711 (размер: 1)\n",
      "Предупреждение: name_vec имеет недостаточно признаков для SVD\n",
      "Предупреждение: desc_vec имеет недостаточно признаков для SVD\n",
      "Предупреждение: эмбеддинги имеют недостаточно признаков для PCA\n",
      "Обрабатываем catalogid: 39417\n",
      "Обрабатываем небольшой catalogid: 39417 (размер: 7032)\n"
     ]
    },
    {
     "name": "stderr",
     "output_type": "stream",
     "text": [
      "Обработка catalogid:  90%|████████▉ | 430/478 [27:02<01:02,  1.31s/it]"
     ]
    },
    {
     "name": "stdout",
     "output_type": "stream",
     "text": [
      "Обрабатываем catalogid: 39418\n",
      "Обрабатываем небольшой catalogid: 39418 (размер: 3462)\n"
     ]
    },
    {
     "name": "stderr",
     "output_type": "stream",
     "text": [
      "Обработка catalogid:  90%|█████████ | 431/478 [27:03<00:56,  1.21s/it]"
     ]
    },
    {
     "name": "stdout",
     "output_type": "stream",
     "text": [
      "Обрабатываем catalogid: 39420\n",
      "Обрабатываем небольшой catalogid: 39420 (размер: 1313)\n"
     ]
    },
    {
     "name": "stderr",
     "output_type": "stream",
     "text": [
      "Обработка catalogid:  90%|█████████ | 432/478 [27:04<00:46,  1.02s/it]"
     ]
    },
    {
     "name": "stdout",
     "output_type": "stream",
     "text": [
      "Обрабатываем catalogid: 39423\n",
      "Обрабатываем небольшой catalogid: 39423 (размер: 617)\n"
     ]
    },
    {
     "name": "stderr",
     "output_type": "stream",
     "text": [
      "Обработка catalogid:  91%|█████████ | 434/478 [27:04<00:29,  1.47it/s]"
     ]
    },
    {
     "name": "stdout",
     "output_type": "stream",
     "text": [
      "Обрабатываем catalogid: 39885\n",
      "Обрабатываем небольшой catalogid: 39885 (размер: 241)\n",
      "Обрабатываем catalogid: 39920\n",
      "Обрабатываем небольшой catalogid: 39920 (размер: 1402)\n"
     ]
    },
    {
     "name": "stderr",
     "output_type": "stream",
     "text": [
      "Обработка catalogid:  91%|█████████ | 435/478 [27:04<00:25,  1.67it/s]"
     ]
    },
    {
     "name": "stdout",
     "output_type": "stream",
     "text": [
      "Обрабатываем catalogid: 39924\n",
      "Обрабатываем небольшой catalogid: 39924 (размер: 1428)\n"
     ]
    },
    {
     "name": "stderr",
     "output_type": "stream",
     "text": [
      "Обработка catalogid:  91%|█████████ | 436/478 [27:05<00:23,  1.80it/s]"
     ]
    },
    {
     "name": "stdout",
     "output_type": "stream",
     "text": [
      "Обрабатываем catalogid: 39925\n",
      "Обрабатываем небольшой catalogid: 39925 (размер: 7396)\n"
     ]
    },
    {
     "name": "stderr",
     "output_type": "stream",
     "text": [
      "Обработка catalogid:  91%|█████████▏| 437/478 [27:06<00:32,  1.25it/s]"
     ]
    },
    {
     "name": "stdout",
     "output_type": "stream",
     "text": [
      "Обрабатываем catalogid: 6307000\n",
      "Обрабатываем небольшой catalogid: 6307000 (размер: 10)\n",
      "Обрабатываем catalogid: 6629000\n",
      "Обрабатываем небольшой catalogid: 6629000 (размер: 9)\n",
      "Обрабатываем catalogid: 6631000\n",
      "Обрабатываем небольшой catalogid: 6631000 (размер: 3)\n",
      "Обрабатываем catalogid: 7512000\n",
      "Обрабатываем небольшой catalogid: 7512000 (размер: 8784)\n"
     ]
    },
    {
     "name": "stderr",
     "output_type": "stream",
     "text": [
      "Обработка catalogid:  92%|█████████▏| 441/478 [27:08<00:22,  1.63it/s]"
     ]
    },
    {
     "name": "stdout",
     "output_type": "stream",
     "text": [
      "Обрабатываем catalogid: 7538000\n",
      "Обрабатываем небольшой catalogid: 7538000 (размер: 140)\n",
      "Обрабатываем catalogid: 7557000\n",
      "Обрабатываем небольшой catalogid: 7557000 (размер: 38815)\n"
     ]
    },
    {
     "name": "stderr",
     "output_type": "stream",
     "text": [
      "Обработка catalogid:  93%|█████████▎| 443/478 [27:18<01:08,  1.96s/it]"
     ]
    },
    {
     "name": "stdout",
     "output_type": "stream",
     "text": [
      "Обрабатываем catalogid: 7579000\n",
      "Обрабатываем небольшой catalogid: 7579000 (размер: 89)\n"
     ]
    },
    {
     "name": "stderr",
     "output_type": "stream",
     "text": [
      "Обработка catalogid:  94%|█████████▎| 448/478 [27:19<00:24,  1.20it/s]"
     ]
    },
    {
     "name": "stdout",
     "output_type": "stream",
     "text": [
      "Обрабатываем catalogid: 7641000\n",
      "Обрабатываем небольшой catalogid: 7641000 (размер: 16)\n",
      "Обрабатываем catalogid: 7646000\n",
      "Обрабатываем небольшой catalogid: 7646000 (размер: 1)\n",
      "Предупреждение: name_vec имеет недостаточно признаков для SVD\n",
      "Предупреждение: desc_vec имеет недостаточно признаков для SVD\n",
      "Предупреждение: эмбеддинги имеют недостаточно признаков для PCA\n",
      "Обрабатываем catalogid: 7666000\n",
      "Обрабатываем небольшой catalogid: 7666000 (размер: 11)\n",
      "Обрабатываем catalogid: 7667000\n",
      "Обрабатываем небольшой catalogid: 7667000 (размер: 19)\n",
      "Обрабатываем catalogid: 7697000\n",
      "Обрабатываем небольшой catalogid: 7697000 (размер: 326)\n"
     ]
    },
    {
     "name": "stderr",
     "output_type": "stream",
     "text": [
      "Обработка catalogid:  94%|█████████▍| 450/478 [27:19<00:19,  1.44it/s]"
     ]
    },
    {
     "name": "stdout",
     "output_type": "stream",
     "text": [
      "Обрабатываем catalogid: 7709000\n",
      "Обрабатываем небольшой catalogid: 7709000 (размер: 67)\n",
      "Обрабатываем catalogid: 15097000\n",
      "Обрабатываем небольшой catalogid: 15097000 (размер: 42)\n"
     ]
    },
    {
     "name": "stderr",
     "output_type": "stream",
     "text": [
      "Обработка catalogid:  95%|█████████▍| 454/478 [27:20<00:09,  2.60it/s]"
     ]
    },
    {
     "name": "stdout",
     "output_type": "stream",
     "text": [
      "Обрабатываем catalogid: 30613000\n",
      "Обрабатываем небольшой catalogid: 30613000 (размер: 43)\n",
      "Обрабатываем catalogid: 31311000\n",
      "Обрабатываем небольшой catalogid: 31311000 (размер: 4)\n",
      "Обрабатываем catalogid: 31577000\n",
      "Обрабатываем небольшой catalogid: 31577000 (размер: 42)\n",
      "Обрабатываем catalogid: 33331000\n",
      "Обрабатываем небольшой catalogid: 33331000 (размер: 24)\n",
      "Обрабатываем catalogid: 36410000\n",
      "Обрабатываем небольшой catalogid: 36410000 (размер: 30)\n"
     ]
    },
    {
     "name": "stderr",
     "output_type": "stream",
     "text": [
      "Обработка catalogid:  96%|█████████▌| 458/478 [27:20<01:11,  3.58s/it]\n"
     ]
    },
    {
     "name": "stdout",
     "output_type": "stream",
     "text": [
      "Обрабатываем catalogid: 36471000\n",
      "Обрабатываем небольшой catalogid: 36471000 (размер: 21)\n",
      "Обрабатываем catalogid: 36683000\n",
      "Обрабатываем небольшой catalogid: 36683000 (размер: 31)\n",
      "Обрабатываем catalogid: 36697000\n",
      "Обрабатываем небольшой catalogid: 36697000 (размер: 1)\n"
     ]
    },
    {
     "ename": "ValueError",
     "evalue": "empty vocabulary; perhaps the documents only contain stop words",
     "output_type": "error",
     "traceback": [
      "\u001b[1;31m---------------------------------------------------------------------------\u001b[0m",
      "\u001b[1;31mValueError\u001b[0m                                Traceback (most recent call last)",
      "Cell \u001b[1;32mIn[32], line 8\u001b[0m\n\u001b[0;32m      6\u001b[0m \u001b[38;5;28mprint\u001b[39m(\u001b[38;5;124m\"\u001b[39m\u001b[38;5;124mНачинаем обработку каждого catalogid...\u001b[39m\u001b[38;5;124m\"\u001b[39m)\n\u001b[0;32m      7\u001b[0m \u001b[38;5;28;01mfor\u001b[39;00m catalog_id \u001b[38;5;129;01min\u001b[39;00m tqdm(KNOWN_CATALOG_IDS, desc\u001b[38;5;241m=\u001b[39m\u001b[38;5;124m\"\u001b[39m\u001b[38;5;124mОбработка catalogid\u001b[39m\u001b[38;5;124m\"\u001b[39m):\n\u001b[1;32m----> 8\u001b[0m     \u001b[43mprocess_catalog\u001b[49m\u001b[43m(\u001b[49m\u001b[43mcatalog_id\u001b[49m\u001b[43m)\u001b[49m\n\u001b[0;32m     10\u001b[0m \u001b[38;5;28mprint\u001b[39m(\u001b[38;5;124m\"\u001b[39m\u001b[38;5;124mОбработка завершена!\u001b[39m\u001b[38;5;124m\"\u001b[39m)\n",
      "Cell \u001b[1;32mIn[31], line 323\u001b[0m, in \u001b[0;36mprocess_catalog\u001b[1;34m(catalog_id)\u001b[0m\n\u001b[0;32m    321\u001b[0m     process_large_catalog(catalog_id, df)\n\u001b[0;32m    322\u001b[0m \u001b[38;5;28;01melse\u001b[39;00m:\n\u001b[1;32m--> 323\u001b[0m     \u001b[43mprocess_small_catalog\u001b[49m\u001b[43m(\u001b[49m\u001b[43mcatalog_id\u001b[49m\u001b[43m,\u001b[49m\u001b[43m \u001b[49m\u001b[43mdf\u001b[49m\u001b[43m)\u001b[49m\n",
      "Cell \u001b[1;32mIn[31], line 17\u001b[0m, in \u001b[0;36mprocess_small_catalog\u001b[1;34m(catalog_id, df)\u001b[0m\n\u001b[0;32m     15\u001b[0m \u001b[38;5;66;03m# Текстовые признаки\u001b[39;00m\n\u001b[0;32m     16\u001b[0m name_vec \u001b[38;5;241m=\u001b[39m text_vectorizer\u001b[38;5;241m.\u001b[39mfit_transform(df[\u001b[38;5;124m'\u001b[39m\u001b[38;5;124mitemname\u001b[39m\u001b[38;5;124m'\u001b[39m]\u001b[38;5;241m.\u001b[39mfillna(\u001b[38;5;124m'\u001b[39m\u001b[38;5;124m'\u001b[39m))\n\u001b[1;32m---> 17\u001b[0m desc_vec \u001b[38;5;241m=\u001b[39m \u001b[43mtext_vectorizer\u001b[49m\u001b[38;5;241;43m.\u001b[39;49m\u001b[43mfit_transform\u001b[49m\u001b[43m(\u001b[49m\u001b[43mdf\u001b[49m\u001b[43m[\u001b[49m\u001b[38;5;124;43m'\u001b[39;49m\u001b[38;5;124;43mannotation\u001b[39;49m\u001b[38;5;124;43m'\u001b[39;49m\u001b[43m]\u001b[49m\u001b[38;5;241;43m.\u001b[39;49m\u001b[43mfillna\u001b[49m\u001b[43m(\u001b[49m\u001b[38;5;124;43m'\u001b[39;49m\u001b[38;5;124;43m'\u001b[39;49m\u001b[43m)\u001b[49m\u001b[43m)\u001b[49m\n\u001b[0;32m     19\u001b[0m \u001b[38;5;66;03m# Уменьшение размерности текстов с проверкой\u001b[39;00m\n\u001b[0;32m     20\u001b[0m \u001b[38;5;66;03m# Для name_vec\u001b[39;00m\n\u001b[0;32m     21\u001b[0m n_components_name \u001b[38;5;241m=\u001b[39m \u001b[38;5;28mmin\u001b[39m(TEXT_DIM_REDUCTION, name_vec\u001b[38;5;241m.\u001b[39mshape[\u001b[38;5;241m1\u001b[39m], name_vec\u001b[38;5;241m.\u001b[39mshape[\u001b[38;5;241m0\u001b[39m]\u001b[38;5;241m-\u001b[39m\u001b[38;5;241m1\u001b[39m)\n",
      "File \u001b[1;32mc:\\Users\\UseR\\AppData\\Local\\Programs\\Python\\Python313\\Lib\\site-packages\\sklearn\\feature_extraction\\text.py:2104\u001b[0m, in \u001b[0;36mTfidfVectorizer.fit_transform\u001b[1;34m(self, raw_documents, y)\u001b[0m\n\u001b[0;32m   2097\u001b[0m \u001b[38;5;28mself\u001b[39m\u001b[38;5;241m.\u001b[39m_check_params()\n\u001b[0;32m   2098\u001b[0m \u001b[38;5;28mself\u001b[39m\u001b[38;5;241m.\u001b[39m_tfidf \u001b[38;5;241m=\u001b[39m TfidfTransformer(\n\u001b[0;32m   2099\u001b[0m     norm\u001b[38;5;241m=\u001b[39m\u001b[38;5;28mself\u001b[39m\u001b[38;5;241m.\u001b[39mnorm,\n\u001b[0;32m   2100\u001b[0m     use_idf\u001b[38;5;241m=\u001b[39m\u001b[38;5;28mself\u001b[39m\u001b[38;5;241m.\u001b[39muse_idf,\n\u001b[0;32m   2101\u001b[0m     smooth_idf\u001b[38;5;241m=\u001b[39m\u001b[38;5;28mself\u001b[39m\u001b[38;5;241m.\u001b[39msmooth_idf,\n\u001b[0;32m   2102\u001b[0m     sublinear_tf\u001b[38;5;241m=\u001b[39m\u001b[38;5;28mself\u001b[39m\u001b[38;5;241m.\u001b[39msublinear_tf,\n\u001b[0;32m   2103\u001b[0m )\n\u001b[1;32m-> 2104\u001b[0m X \u001b[38;5;241m=\u001b[39m \u001b[38;5;28;43msuper\u001b[39;49m\u001b[43m(\u001b[49m\u001b[43m)\u001b[49m\u001b[38;5;241;43m.\u001b[39;49m\u001b[43mfit_transform\u001b[49m\u001b[43m(\u001b[49m\u001b[43mraw_documents\u001b[49m\u001b[43m)\u001b[49m\n\u001b[0;32m   2105\u001b[0m \u001b[38;5;28mself\u001b[39m\u001b[38;5;241m.\u001b[39m_tfidf\u001b[38;5;241m.\u001b[39mfit(X)\n\u001b[0;32m   2106\u001b[0m \u001b[38;5;66;03m# X is already a transformed view of raw_documents so\u001b[39;00m\n\u001b[0;32m   2107\u001b[0m \u001b[38;5;66;03m# we set copy to False\u001b[39;00m\n",
      "File \u001b[1;32mc:\\Users\\UseR\\AppData\\Local\\Programs\\Python\\Python313\\Lib\\site-packages\\sklearn\\base.py:1389\u001b[0m, in \u001b[0;36m_fit_context.<locals>.decorator.<locals>.wrapper\u001b[1;34m(estimator, *args, **kwargs)\u001b[0m\n\u001b[0;32m   1382\u001b[0m     estimator\u001b[38;5;241m.\u001b[39m_validate_params()\n\u001b[0;32m   1384\u001b[0m \u001b[38;5;28;01mwith\u001b[39;00m config_context(\n\u001b[0;32m   1385\u001b[0m     skip_parameter_validation\u001b[38;5;241m=\u001b[39m(\n\u001b[0;32m   1386\u001b[0m         prefer_skip_nested_validation \u001b[38;5;129;01mor\u001b[39;00m global_skip_validation\n\u001b[0;32m   1387\u001b[0m     )\n\u001b[0;32m   1388\u001b[0m ):\n\u001b[1;32m-> 1389\u001b[0m     \u001b[38;5;28;01mreturn\u001b[39;00m \u001b[43mfit_method\u001b[49m\u001b[43m(\u001b[49m\u001b[43mestimator\u001b[49m\u001b[43m,\u001b[49m\u001b[43m \u001b[49m\u001b[38;5;241;43m*\u001b[39;49m\u001b[43margs\u001b[49m\u001b[43m,\u001b[49m\u001b[43m \u001b[49m\u001b[38;5;241;43m*\u001b[39;49m\u001b[38;5;241;43m*\u001b[39;49m\u001b[43mkwargs\u001b[49m\u001b[43m)\u001b[49m\n",
      "File \u001b[1;32mc:\\Users\\UseR\\AppData\\Local\\Programs\\Python\\Python313\\Lib\\site-packages\\sklearn\\feature_extraction\\text.py:1376\u001b[0m, in \u001b[0;36mCountVectorizer.fit_transform\u001b[1;34m(self, raw_documents, y)\u001b[0m\n\u001b[0;32m   1368\u001b[0m             warnings\u001b[38;5;241m.\u001b[39mwarn(\n\u001b[0;32m   1369\u001b[0m                 \u001b[38;5;124m\"\u001b[39m\u001b[38;5;124mUpper case characters found in\u001b[39m\u001b[38;5;124m\"\u001b[39m\n\u001b[0;32m   1370\u001b[0m                 \u001b[38;5;124m\"\u001b[39m\u001b[38;5;124m vocabulary while \u001b[39m\u001b[38;5;124m'\u001b[39m\u001b[38;5;124mlowercase\u001b[39m\u001b[38;5;124m'\u001b[39m\u001b[38;5;124m\"\u001b[39m\n\u001b[0;32m   1371\u001b[0m                 \u001b[38;5;124m\"\u001b[39m\u001b[38;5;124m is True. These entries will not\u001b[39m\u001b[38;5;124m\"\u001b[39m\n\u001b[0;32m   1372\u001b[0m                 \u001b[38;5;124m\"\u001b[39m\u001b[38;5;124m be matched with any documents\u001b[39m\u001b[38;5;124m\"\u001b[39m\n\u001b[0;32m   1373\u001b[0m             )\n\u001b[0;32m   1374\u001b[0m             \u001b[38;5;28;01mbreak\u001b[39;00m\n\u001b[1;32m-> 1376\u001b[0m vocabulary, X \u001b[38;5;241m=\u001b[39m \u001b[38;5;28;43mself\u001b[39;49m\u001b[38;5;241;43m.\u001b[39;49m\u001b[43m_count_vocab\u001b[49m\u001b[43m(\u001b[49m\u001b[43mraw_documents\u001b[49m\u001b[43m,\u001b[49m\u001b[43m \u001b[49m\u001b[38;5;28;43mself\u001b[39;49m\u001b[38;5;241;43m.\u001b[39;49m\u001b[43mfixed_vocabulary_\u001b[49m\u001b[43m)\u001b[49m\n\u001b[0;32m   1378\u001b[0m \u001b[38;5;28;01mif\u001b[39;00m \u001b[38;5;28mself\u001b[39m\u001b[38;5;241m.\u001b[39mbinary:\n\u001b[0;32m   1379\u001b[0m     X\u001b[38;5;241m.\u001b[39mdata\u001b[38;5;241m.\u001b[39mfill(\u001b[38;5;241m1\u001b[39m)\n",
      "File \u001b[1;32mc:\\Users\\UseR\\AppData\\Local\\Programs\\Python\\Python313\\Lib\\site-packages\\sklearn\\feature_extraction\\text.py:1282\u001b[0m, in \u001b[0;36mCountVectorizer._count_vocab\u001b[1;34m(self, raw_documents, fixed_vocab)\u001b[0m\n\u001b[0;32m   1280\u001b[0m     vocabulary \u001b[38;5;241m=\u001b[39m \u001b[38;5;28mdict\u001b[39m(vocabulary)\n\u001b[0;32m   1281\u001b[0m     \u001b[38;5;28;01mif\u001b[39;00m \u001b[38;5;129;01mnot\u001b[39;00m vocabulary:\n\u001b[1;32m-> 1282\u001b[0m         \u001b[38;5;28;01mraise\u001b[39;00m \u001b[38;5;167;01mValueError\u001b[39;00m(\n\u001b[0;32m   1283\u001b[0m             \u001b[38;5;124m\"\u001b[39m\u001b[38;5;124mempty vocabulary; perhaps the documents only contain stop words\u001b[39m\u001b[38;5;124m\"\u001b[39m\n\u001b[0;32m   1284\u001b[0m         )\n\u001b[0;32m   1286\u001b[0m \u001b[38;5;28;01mif\u001b[39;00m indptr[\u001b[38;5;241m-\u001b[39m\u001b[38;5;241m1\u001b[39m] \u001b[38;5;241m>\u001b[39m np\u001b[38;5;241m.\u001b[39miinfo(np\u001b[38;5;241m.\u001b[39mint32)\u001b[38;5;241m.\u001b[39mmax:  \u001b[38;5;66;03m# = 2**31 - 1\u001b[39;00m\n\u001b[0;32m   1287\u001b[0m     \u001b[38;5;28;01mif\u001b[39;00m _IS_32BIT:\n",
      "\u001b[1;31mValueError\u001b[0m: empty vocabulary; perhaps the documents only contain stop words"
     ]
    }
   ],
   "source": [
    "# Этап 1: Предобработка и распределение по catalogid\n",
    "print(\"Начинаем предобработку и распределение данных...\")\n",
    "# preprocess_and_distribute()\n",
    "\n",
    "# Этап 2: Обработка каждого catalogid\n",
    "print(\"Начинаем обработку каждого catalogid...\")\n",
    "for catalog_id in tqdm(KNOWN_CATALOG_IDS, desc=\"Обработка catalogid\"):\n",
    "    process_catalog(catalog_id)\n",
    "\n",
    "print(\"Обработка завершена!\")"
   ]
  },
  {
   "cell_type": "markdown",
   "id": "83cada36",
   "metadata": {},
   "source": [
    "#### Открываем npz от items по подкатегориям"
   ]
  },
  {
   "cell_type": "markdown",
   "id": "c277d17a",
   "metadata": {},
   "source": [
    "#### Функции записи ближайших соседей item_ids"
   ]
  },
  {
   "cell_type": "code",
   "execution_count": 2,
   "id": "d19949cd",
   "metadata": {},
   "outputs": [],
   "source": [
    "OUTPUT_DIR = './result_vectors/1'\n",
    "NEIGHBORS_DIR = './nearest_neighbors'\n",
    "TOP_K = 50\n",
    "\n",
    "# Создаем директории\n",
    "os.makedirs(NEIGHBORS_DIR, exist_ok=True)\n",
    "\n",
    "class NumpyEncoder(json.JSONEncoder):\n",
    "    \"\"\"Кастомный JSON encoder для обработки numpy типов\"\"\"\n",
    "    def default(self, obj):\n",
    "        if isinstance(obj, (np.integer, np.int32, np.int64)):\n",
    "            return int(obj)\n",
    "        elif isinstance(obj, (np.floating, np.float32, np.float64)):\n",
    "            return float(obj)\n",
    "        elif isinstance(obj, np.ndarray):\n",
    "            return obj.tolist()\n",
    "        elif isinstance(obj, np.bool_):\n",
    "            return bool(obj)\n",
    "        return super().default(obj)\n",
    "\n",
    "def load_vectors(catalog_id):\n",
    "    \"\"\"Загружает векторы для catalogid\"\"\"\n",
    "    vectors_path = f\"{OUTPUT_DIR}/{catalog_id}_vectors.npy\"\n",
    "    item_ids_path = f\"{OUTPUT_DIR}/{catalog_id}_item_ids.npy\"\n",
    "    metadata_path = f\"{OUTPUT_DIR}/{catalog_id}_metadata.json\"\n",
    "    \n",
    "    if os.path.exists(vectors_path) and os.path.exists(item_ids_path):\n",
    "        with open(metadata_path, 'r') as f:\n",
    "            metadata = json.load(f)\n",
    "        \n",
    "        vectors = np.memmap(vectors_path, dtype=metadata['dtype'], mode='r',\n",
    "                           shape=(metadata['n_samples'], metadata['n_features']))\n",
    "        item_ids = np.memmap(item_ids_path, dtype='int64', mode='r',\n",
    "                            shape=(metadata['n_samples'],))\n",
    "        \n",
    "        # Конвертируем в обычные numpy arrays для обработки в памяти\n",
    "        vectors = np.array(vectors)\n",
    "        item_ids = np.array(item_ids)\n",
    "        \n",
    "        return vectors, item_ids\n",
    "    \n",
    "    parquet_path = f\"{OUTPUT_DIR}/{catalog_id}_vectors.parquet\"\n",
    "    if os.path.exists(parquet_path):\n",
    "        df = pd.read_parquet(parquet_path)\n",
    "        vectors = np.vstack(df['vector'].values)\n",
    "        item_ids = df['item_id'].values\n",
    "        return vectors, item_ids\n",
    "    \n",
    "    raise FileNotFoundError(f\"Векторы для catalogid {catalog_id} не найдены\")\n",
    "\n",
    "def split_data(vectors, item_ids):\n",
    "    \"\"\"Разделяет данные пополам\"\"\"\n",
    "    n_samples = len(vectors)\n",
    "    mid = n_samples // 2\n",
    "    \n",
    "    vectors_1, item_ids_1 = vectors[:mid], item_ids[:mid]\n",
    "    vectors_2, item_ids_2 = vectors[mid:], item_ids[mid:]\n",
    "    \n",
    "    return vectors_1, item_ids_1, vectors_2, item_ids_2\n",
    "\n",
    "def clean_vectors(vectors, item_ids):\n",
    "    \"\"\"Очищает векторы от NaN значений и фильтрует валидные данные\"\"\"\n",
    "    # Проверяем на NaN значения\n",
    "    valid_mask = ~np.isnan(vectors).any(axis=1)\n",
    "    \n",
    "    if not np.any(valid_mask):\n",
    "        print(\"Все векторы содержат NaN значения\")\n",
    "        return None, None\n",
    "    \n",
    "    if np.sum(~valid_mask) > 0:\n",
    "        print(f\"Удалено {np.sum(~valid_mask)} векторов с NaN значениями\")\n",
    "    \n",
    "    clean_vectors = vectors[valid_mask]\n",
    "    clean_item_ids = item_ids[valid_mask]\n",
    "    \n",
    "    return clean_vectors, clean_item_ids\n",
    "\n",
    "def find_nearest_neighbors(catalog_id, vectors, item_ids):\n",
    "    \"\"\"Находит ближайших соседей по косинусной близости\"\"\"\n",
    "    print(f\"Поиск ближайших соседей для catalogid: {catalog_id} (размер: {len(vectors)})\")\n",
    "    \n",
    "    # Очищаем векторы от NaN\n",
    "    vectors_clean, item_ids_clean = clean_vectors(vectors, item_ids)\n",
    "    \n",
    "    if vectors_clean is None or len(vectors_clean) == 0:\n",
    "        print(f\"Нет валидных векторов для catalogid {catalog_id}\")\n",
    "        return {}\n",
    "    \n",
    "    if len(vectors_clean) <= TOP_K + 1:\n",
    "        print(f\"Маленький catalogid {catalog_id}, используем попарное сравнение\")\n",
    "        return find_neighbors_small_catalog(vectors_clean, item_ids_clean, catalog_id)\n",
    "    \n",
    "    # Нормализуем векторы для косинусного сходства\n",
    "    norms = np.linalg.norm(vectors_clean, axis=1, keepdims=True)\n",
    "    norms[norms == 0] = 1  # Избегаем деления на ноль\n",
    "    vectors_normalized = vectors_clean / norms\n",
    "    \n",
    "    # Используем NearestNeighbors для эффективного поиска\n",
    "    n_neighbors = min(TOP_K + 1, len(vectors_clean))\n",
    "    nbrs = NearestNeighbors(n_neighbors=n_neighbors, metric='cosine', algorithm='brute')\n",
    "    nbrs.fit(vectors_normalized)\n",
    "    \n",
    "    # Находим ближайших соседей\n",
    "    distances, indices = nbrs.kneighbors(vectors_normalized)\n",
    "    \n",
    "    # Создаем словарь с результатами\n",
    "    neighbors_dict = {}\n",
    "    \n",
    "    for i in tqdm(range(len(vectors_clean)), desc=f\"Обработка товаров {catalog_id}\"):\n",
    "        # Пропускаем самого себя (первый элемент - сам товар)\n",
    "        neighbor_indices = indices[i][1:n_neighbors]\n",
    "        neighbor_distances = 1 - distances[i][1:n_neighbors]  # cosine distance -> similarity\n",
    "        \n",
    "        neighbor_item_ids = item_ids_clean[neighbor_indices]\n",
    "        \n",
    "        # Конвертируем numpy типы в стандартные Python типы\n",
    "        item_id_key = str(int(item_ids_clean[i]))  # Гарантируем, что ключ - строка\n",
    "        neighbors_dict[item_id_key] = {\n",
    "            'neighbors': [int(x) for x in neighbor_item_ids],  # Конвертируем в int\n",
    "            'similarities': [float(x) for x in neighbor_distances],  # Конвертируем в float\n",
    "            'catalog_id': catalog_id\n",
    "        }\n",
    "    \n",
    "    return neighbors_dict\n",
    "\n",
    "def find_neighbors_small_catalog(vectors, item_ids, catalog_id):\n",
    "    \"\"\"Поиск соседей для маленьких catalogid через попарное сравнение\"\"\"\n",
    "    print(f\"Попарное сравнение для маленького catalogid {catalog_id}\")\n",
    "    \n",
    "    if len(vectors) == 1:\n",
    "        # Если только один вектор, возвращаем пустой список соседей\n",
    "        return {str(int(item_ids[0])): {\n",
    "            'neighbors': [],\n",
    "            'similarities': [],\n",
    "            'catalog_id': catalog_id\n",
    "        }}\n",
    "    \n",
    "    # Вычисляем попарные косинусные схожести\n",
    "    similarities = cosine_similarity(vectors)\n",
    "    np.fill_diagonal(similarities, -1)  # Исключаем самосравнение\n",
    "    \n",
    "    neighbors_dict = {}\n",
    "    \n",
    "    for i in range(len(vectors)):\n",
    "        # Получаем индексы TOP_K самых похожих товаров\n",
    "        n_neighbors = min(TOP_K, len(vectors) - 1)  # Не больше чем доступно соседей\n",
    "        top_indices = np.argsort(similarities[i])[-n_neighbors:][::-1]\n",
    "        top_similarities = similarities[i][top_indices]\n",
    "        top_item_ids = item_ids[top_indices]\n",
    "        \n",
    "        item_id_key = str(int(item_ids[i]))  # Гарантируем, что ключ - строка\n",
    "        neighbors_dict[item_id_key] = {\n",
    "            'neighbors': [int(x) for x in top_item_ids],  # Конвертируем в int\n",
    "            'similarities': [float(x) for x in top_similarities],  # Конвертируем в float\n",
    "            'catalog_id': catalog_id\n",
    "        }\n",
    "    \n",
    "    return neighbors_dict\n",
    "\n",
    "def save_neighbors(catalog_id, neighbors_dict):\n",
    "    \"\"\"Сохраняет результаты поиска соседей\"\"\"\n",
    "    if not neighbors_dict:\n",
    "        print(f\"Нет данных для сохранения catalogid {catalog_id}\")\n",
    "        return\n",
    "    \n",
    "    # Сохраняем в JSON с кастомным encoder'ом\n",
    "    output_path = f\"{NEIGHBORS_DIR}/{catalog_id}_neighbors.json\"\n",
    "    \n",
    "    with open(output_path, 'w') as f:\n",
    "        json.dump(neighbors_dict, f, cls=NumpyEncoder, indent=2)\n",
    "    \n",
    "    # Также сохраняем в parquet для аналитики\n",
    "    parquet_data = []\n",
    "    for item_id_str, data in neighbors_dict.items():\n",
    "        item_id = int(item_id_str)\n",
    "        for i, (neighbor_id, similarity) in enumerate(zip(data['neighbors'], data['similarities'])):\n",
    "            parquet_data.append({\n",
    "                'catalog_id': catalog_id,\n",
    "                'item_id': item_id,\n",
    "                'neighbor_item_id': neighbor_id,\n",
    "                'similarity_score': similarity,\n",
    "                'rank': i + 1\n",
    "            })\n",
    "    \n",
    "    if parquet_data:\n",
    "        df = pd.DataFrame(parquet_data)\n",
    "        df.to_parquet(f\"{NEIGHBORS_DIR}/{catalog_id}_neighbors.parquet\", index=False)\n",
    "    \n",
    "    print(f\"Сохранено {len(neighbors_dict)} записей для catalogid {catalog_id}\")\n",
    "\n",
    "def process_catalog_neighbors(catalog_id):\n",
    "    \"\"\"Обрабатывает поиск соседей для одного catalogid\"\"\"\n",
    "    try:\n",
    "        print(f\"Обрабатываем catalogid: {catalog_id}\")\n",
    "        \n",
    "        # Загружаем векторы\n",
    "        vectors, item_ids = load_vectors(catalog_id)\n",
    "        vectors_1, item_ids_1, vectors_2, item_ids_2 = split_data(vectors, item_ids)\n",
    "        # if len(vectors) == 0:\n",
    "        #     print(f\"Пустой catalogid: {catalog_id}\")\n",
    "        #     return False\n",
    "        \n",
    "        # Находим ближайших соседей\n",
    "        neighbors_dict_1 = find_nearest_neighbors(catalog_id, vectors_1, item_ids_1)\n",
    "        \n",
    "        # Сохраняем результаты\n",
    "        save_neighbors(catalog_id, neighbors_dict_1)\n",
    "        neighbors_dict_2 = find_nearest_neighbors(catalog_id, vectors_2, item_ids_2)\n",
    "        catalog_id = catalog_id + '_2'\n",
    "        save_neighbors(catalog_id, neighbors_dict_2)\n",
    "        \n",
    "        return True\n",
    "        \n",
    "    except Exception as e:\n",
    "        print(f\"Ошибка при обработке catalogid {catalog_id}: {e}\")\n",
    "        import traceback\n",
    "        traceback.print_exc()\n",
    "        return False\n",
    "\n",
    "def create_index_files():\n",
    "    \"\"\"Создает индексные файлы для быстрого доступа\"\"\"\n",
    "    print(\"Создание индексных файлов...\")\n",
    "    \n",
    "    index_data = {}\n",
    "    \n",
    "    for filename in os.listdir(NEIGHBORS_DIR):\n",
    "        if filename.endswith('_neighbors.json'):\n",
    "            catalog_id = filename.replace('_neighbors.json', '')\n",
    "            file_path = f\"{NEIGHBORS_DIR}/{filename}\"\n",
    "            \n",
    "            try:\n",
    "                # Получаем статистику файла\n",
    "                file_size = os.path.getsize(file_path)\n",
    "                with open(file_path, 'r') as f:\n",
    "                    data = json.load(f)\n",
    "                    item_count = len(data)\n",
    "                \n",
    "                index_data[catalog_id] = {\n",
    "                    'neighbors_file': filename,\n",
    "                    'parquet_file': filename.replace('.json', '.parquet'),\n",
    "                    'file_size_mb': round(file_size / (1024 * 1024), 2),\n",
    "                    'item_count': item_count\n",
    "                }\n",
    "            except Exception as e:\n",
    "                print(f\"Ошибка при обработке файла {filename}: {e}\")\n",
    "                continue\n",
    "    \n",
    "    # Сохраняем индекс\n",
    "    with open(f\"{NEIGHBORS_DIR}/index.json\", 'w') as f:\n",
    "        json.dump(index_data, f, indent=2)\n",
    "    \n",
    "    print(\"Индексные файлы созданы\")\n",
    "\n",
    "def get_neighbors(catalog_id, item_id):\n",
    "    \"\"\"Функция для получения ближайших соседей по запросу\"\"\"\n",
    "    neighbors_file = f\"{NEIGHBORS_DIR}/{catalog_id}_neighbors.json\"\n",
    "    \n",
    "    if not os.path.exists(neighbors_file):\n",
    "        return None\n",
    "    \n",
    "    try:\n",
    "        with open(neighbors_file, 'r') as f:\n",
    "            neighbors_data = json.load(f)\n",
    "        \n",
    "        item_id_str = str(item_id)\n",
    "        return neighbors_data.get(item_id_str)\n",
    "    \n",
    "    except json.JSONDecodeError as e:\n",
    "        print(f\"Ошибка чтения JSON файла {neighbors_file}: {e}\")\n",
    "        return None\n",
    "    except Exception as e:\n",
    "        print(f\"Ошибка при чтении файла: {e}\")\n",
    "        return None\n",
    "\n",
    "# Дополнительные утилиты\n",
    "def analyze_catalog(catalog_id):\n",
    "    \"\"\"Анализирует catalogid и показывает статистику\"\"\"\n",
    "    vectors, item_ids = load_vectors(catalog_id)\n",
    "    print(f\"Catalog {catalog_id}: {len(vectors)} векторов\")\n",
    "    \n",
    "    if len(vectors) > 0:\n",
    "        # Проверяем на NaN\n",
    "        nan_count = np.isnan(vectors).any(axis=1).sum()\n",
    "        print(f\"Векторов с NaN: {nan_count}\")\n",
    "        \n",
    "        # Проверяем на нулевые векторы\n",
    "        zero_count = np.all(vectors == 0, axis=1).sum()\n",
    "        print(f\"Нулевых векторов: {zero_count}\")\n"
   ]
  },
  {
   "cell_type": "code",
   "execution_count": null,
   "id": "577ee512",
   "metadata": {},
   "outputs": [
    {
     "name": "stdout",
     "output_type": "stream",
     "text": [
      "Найдено 1 catalogid для обработки\n"
     ]
    },
    {
     "name": "stderr",
     "output_type": "stream",
     "text": [
      "Поиск ближайших соседей:   0%|          | 0/1 [00:00<?, ?it/s]"
     ]
    },
    {
     "name": "stdout",
     "output_type": "stream",
     "text": [
      "Обрабатываем catalogid: 7559\n",
      "Поиск ближайших соседей для catalogid: 7559 (размер: 206818)\n"
     ]
    },
    {
     "name": "stderr",
     "output_type": "stream",
     "text": [
      "Обработка товаров 7559: 100%|██████████| 206818/206818 [00:03<00:00, 64206.47it/s]\n"
     ]
    },
    {
     "name": "stdout",
     "output_type": "stream",
     "text": [
      "Сохранено 197546 записей для catalogid 7559\n",
      "Поиск ближайших соседей для catalogid: 7559 (размер: 206819)\n"
     ]
    },
    {
     "name": "stderr",
     "output_type": "stream",
     "text": [
      "Обработка товаров 7559: 100%|██████████| 206819/206819 [00:06<00:00, 32821.14it/s]\n"
     ]
    },
    {
     "name": "stdout",
     "output_type": "stream",
     "text": [
      "Сохранено 197537 записей для catalogid 7559_2\n"
     ]
    },
    {
     "name": "stderr",
     "output_type": "stream",
     "text": [
      "Поиск ближайших соседей: 100%|██████████| 1/1 [1:43:20<00:00, 6200.68s/it]\n"
     ]
    },
    {
     "name": "stdout",
     "output_type": "stream",
     "text": [
      "Создание индексных файлов...\n"
     ]
    },
    {
     "name": "stderr",
     "output_type": "stream",
     "text": [
      "Exception ignored in: <bound method IPythonKernel._clean_thread_parent_frames of <ipykernel.ipkernel.IPythonKernel object at 0x0000021998E89BE0>>\n",
      "Traceback (most recent call last):\n",
      "  File \"c:\\Users\\UseR\\AppData\\Local\\Programs\\Python\\Python313\\Lib\\site-packages\\ipykernel\\ipkernel.py\", line 790, in _clean_thread_parent_frames\n",
      "    active_threads = {thread.ident for thread in threading.enumerate()}\n",
      "  File \"c:\\Users\\UseR\\AppData\\Local\\Programs\\Python\\Python313\\Lib\\threading.py\", line 1477, in enumerate\n",
      "    def enumerate():\n",
      "KeyboardInterrupt: \n"
     ]
    }
   ],
   "source": [
    "processed_catalogs = []\n",
    "for filename in os.listdir(OUTPUT_DIR):\n",
    "    if filename.endswith('_vectors.parquet') or filename.endswith('_vectors.npy'):\n",
    "        catalog_id = filename.replace('_vectors.parquet', '').replace('_vectors.npy', '')\n",
    "        if catalog_id not in processed_catalogs:\n",
    "            processed_catalogs.append(catalog_id)\n",
    "\n",
    "print(f\"Найдено {len(processed_catalogs)} catalogid для обработки\")\n",
    "\n",
    "# Обрабатываем каждый catalogid\n",
    "success_count = 0\n",
    "for catalog_id in tqdm(processed_catalogs, desc=\"Поиск ближайших соседей\"):\n",
    "    if process_catalog_neighbors(catalog_id):\n",
    "        success_count += 1\n",
    "\n",
    "# Создаем индексные файлы\n",
    "create_index_files()\n",
    "\n",
    "print(f\"Обработка завершена. Успешно обработано: {success_count}/{len(processed_catalogs)} catalogid\")"
   ]
  },
  {
   "cell_type": "code",
   "execution_count": 21,
   "id": "36f136a9",
   "metadata": {},
   "outputs": [
    {
     "data": {
      "application/vnd.microsoft.datawrangler.viewer.v0+json": {
       "columns": [
        {
         "name": "index",
         "rawType": "int64",
         "type": "integer"
        },
        {
         "name": "item_id",
         "rawType": "int32",
         "type": "integer"
        },
        {
         "name": "itemname",
         "rawType": "object",
         "type": "string"
        },
        {
         "name": "attributes",
         "rawType": "object",
         "type": "unknown"
        },
        {
         "name": "fclip_embed",
         "rawType": "object",
         "type": "unknown"
        },
        {
         "name": "catalogid",
         "rawType": "int64",
         "type": "integer"
        },
        {
         "name": "variant_id",
         "rawType": "int32",
         "type": "integer"
        },
        {
         "name": "model_id",
         "rawType": "int32",
         "type": "integer"
        }
       ],
       "ref": "e7242539-2dd1-4839-abdb-c8f4eab66ae0",
       "rows": [
        [
         "47453",
         "314869015",
         "Формодержатели для обуви, подпружиненные, две плоскости, Колодки, Формы для обуви КЕДР, р.42/43",
         "[{'attribute_name': 'Type', 'attribute_value': 'Колодки для обуви', 'attribute_isaspect': False, 'attribute_showascharacteristic': False}\n {'attribute_name': 'Brand', 'attribute_value': 'SALRUS', 'attribute_isaspect': False, 'attribute_showascharacteristic': True}\n {'attribute_name': 'Annotation', 'attribute_value': 'Распорки-формодержатели из кедра для сохранения формы обуви.<br/><br/>Колодки представляют собой деревянные подпружиненные формы, которые держат форму обуви по длине и ширине. Удерживают задник обуви. Прекрасно поддерживают форму обуви и сохраняют её внешний вид: разглаживаются мелкие морщинки и заломы на коже, при хранении предотвращается деформация обуви. Колодки не покрыты лаком, это позволяет им хорошо впитывать влагу, что способствует бережному уходу и более быстрой сушке обуви. Использование колодок облегчает ежедневный уход за обувью.<br/><br/>Способ применения: перед влажной чисткой шампунями, чистящими пенами вставить колодки в обувь, провести чистку и оставить до полного высыхания обуви. После высыхания обувь обработать водоотталкивающей пропиткой, а затем бальзамом или кремом. Для длительного хранения обуви вставить колодки-формодержатели в предварительно очищенную и обработанную обувь.<br/><br/>Длина в разжатом состоянии 29,2 см., в сжатом состоянии 28 см.', 'attribute_isaspect': False, 'attribute_showascharacteristic': True}\n {'attribute_name': 'ColorBase', 'attribute_value': 'бежевый', 'attribute_isaspect': True, 'attribute_showascharacteristic': True}\n {'attribute_name': 'ColorName', 'attribute_value': '42/43', 'attribute_isaspect': True, 'attribute_showascharacteristic': True}\n {'attribute_name': 'AgeO', 'attribute_value': 'Взрослая', 'attribute_isaspect': False, 'attribute_showascharacteristic': False}\n {'attribute_name': 'Material', 'attribute_value': 'Дерево', 'attribute_isaspect': False, 'attribute_showascharacteristic': True}\n {'attribute_name': 'NumItemsDcml', 'attribute_value': '2', 'attribute_isaspect': False, 'attribute_showascharacteristic': True}\n {'attribute_name': 'Name', 'attribute_value': 'Формодержатели для обуви, подпружиненные, две плоскости, Колодки, Формы для обуви КЕДР, р.42/43', 'attribute_isaspect': False, 'attribute_showascharacteristic': False}\n {'attribute_name': 'SexMaster', 'attribute_value': 'Мужской', 'attribute_isaspect': False, 'attribute_showascharacteristic': False}\n {'attribute_name': 'SexMaster', 'attribute_value': 'Женский', 'attribute_isaspect': False, 'attribute_showascharacteristic': False}\n {'attribute_name': 'ColorBase_Forfilter', 'attribute_value': 'Бежевый', 'attribute_isaspect': False, 'attribute_showascharacteristic': False}]",
         "[-0.20060442 -0.22965711 -0.13158977  0.6714531  -0.4125185   0.5667385\n  0.6231397  -0.0195479   0.45166895  0.47893685  0.01138222 -0.07130073\n -0.24268912 -0.2533252  -0.04288921  0.16576514 -0.6549667   0.08184217\n -0.26402885 -0.6710265  -0.33265364  0.12457889 -0.3532458  -0.19046935\n  0.5627081  -0.616937    0.2940908   0.27022195 -0.63615656 -0.6048177\n -0.61964065  0.13500373 -0.3718641  -0.23825431 -0.02728538  0.28023377\n -0.36889634  0.21924445 -0.41791984 -0.5185954  -0.3903449   0.07632676\n  0.08806202 -0.27565295 -0.02733031  0.33563918 -0.29298824  0.4804567\n  0.2640832  -0.00307065  0.49562058  0.36263677 -0.12207779 -0.42465252\n -0.0790057   0.14415994 -0.26129812  0.73417914 -0.09612497  0.3023623\n  0.10686179 -0.17044044  0.30003366 -0.03555407 -0.06785136  0.1547668\n  0.6045081   0.09162389 -0.09791817  0.04093426 -0.61618036  0.15715604\n  0.15667915  0.3367797   0.39545816 -0.5707708   0.49403015  0.51586086\n  0.26654005 -0.0919327   0.01095091 -0.4389267  -0.22547467 -0.16382962\n  0.3838402   0.3378638  -0.26692486  0.45387337  1.0524578   0.4424965\n -0.4799776  -0.25503984  0.38873565 -0.44857225 -0.13538422 -0.19274394\n -0.04884539  0.84892416 -0.02633564  0.27125943  0.06038274  0.6338394\n  0.00936495  0.2045928  -0.11991808  0.23162845  0.07790774 -1.0669602\n -0.3211459  -0.09320337 -1.0225228   0.39204583  0.45629153 -0.03172133\n  0.19199702 -0.79435134  1.1125989   0.13402343 -0.14014007  0.17422637\n -0.44863522 -0.52203274 -0.10266435 -0.3218502   0.03169064  0.5622976\n -0.31649747 -0.02101925 -0.74530864  0.3445476  -0.01858502 -0.548946\n  0.3708779  -0.1220884  -0.05132817  0.19174325  0.39973676  0.23199694\n  0.28401875  0.7871169   0.24894749 -0.04198971  0.31581676  0.8141949\n -0.356201    0.14767079 -0.30727872 -0.22342491  0.06600001  0.16365656\n -0.00569481  0.22510204  2.8121912  -0.21701376 -0.06767937 -0.29505616\n  0.23951551 -0.21525094  0.56860936  0.25062725 -0.24114454 -0.43173093\n -0.21932764 -0.05932979  0.4491992  -0.90048134 -0.09754179 -0.37729445\n  0.05414031  0.2525004   0.7396421  -0.04165553  0.04358988  0.42407387\n  0.5252853  -1.1377746   0.00480565  0.4594504   0.33737624 -0.3376473\n -0.9479321   0.11678635 -0.4753938   0.4168561  -0.32090008  0.14143267\n -0.16952156 -0.21428785  0.39447182 -0.28672686 -0.11134803 -0.54015464\n  0.6548073  -0.01632376 -0.1751534  -0.23966986 -0.26804638 -0.45236883\n -0.4075035   0.28039446  0.97822845 -0.48473656 -0.04206632  0.22161815\n  0.05860532 -0.23144138  0.47056007  0.09575202  0.35465196  0.80978024\n  0.22147217 -0.51653606 -0.0748018   0.3018455   0.10614212  0.2879163\n -0.05732682 -0.30363455  0.30812663  1.2863756  -0.089598    0.04337695\n -0.06265256  0.37098804  0.153398    0.5328884  -0.32889527  0.01048774\n -0.46183804  0.46627215 -0.082219   -0.33331782  0.07609946  0.30383205\n  0.17329364  1.018512    0.3979022  -0.2576361  -0.0636057  -0.09139475\n -0.162336    0.10283113  0.01325199 -0.5943637   0.1255523   0.27654248\n  0.35598478  0.48906183 -0.41541165  0.5723405   0.85556614  0.04328936\n  0.29853216 -0.6163625  -0.6118613   0.19879311  0.16592848  0.14877443\n -0.4753797   0.21496704  0.5755693  -0.01359449 -0.3659079   0.13281748\n  0.17563835 -0.2443382  -0.25393322 -0.36450428 -0.05779769 -0.48881906\n -0.67591393 -0.4657362   0.02459009  0.3512276   0.08789608  0.2310722\n -0.14883895  0.71374315  0.4795434   0.36849377 -0.42113274  0.22196728\n -0.59746    -0.91641915  0.38245785 -0.12214205 -0.09644729 -0.30594707\n -0.503848   -0.41729662  0.08298693  0.5019456   0.03839898  0.12489486\n -0.19989866  0.27496895 -0.01886266 -0.38092738  0.31191224 -0.09889294\n -0.09922856 -0.2330321   0.24922761 -0.10204536 -0.44409928 -0.15045756\n  0.6690805  -2.806479   -0.4991926   0.2584945  -0.0491453   0.95731974\n -0.08416142 -0.27550125  0.4347672   1.1845881  -0.943519    0.07391487\n  0.22850701 -0.16773084  0.09924269  0.11261348  0.06792009  0.6656705\n -0.65770036 -0.4904433   0.9636781   0.14759329  0.4113648  -0.48639053\n -0.14021912  0.32109255  0.8357631  -0.01719086  0.5734966   0.37264344\n  0.7599209  -0.23260328  0.27546597  0.00366813 -0.13435124 -0.17489699\n  0.51097393  0.05802745 -0.73174167 -0.8924091  -0.18052182  0.61689985\n -1.9622045   0.57204556  1.1471035   0.01293601 -0.11713544  0.07843402\n -0.29457295 -0.00609744 -0.08407128 -0.15227558 -0.08935745  0.10644948\n  0.01931682  0.6023781  -0.20271042 -0.6791905  -0.36773962 -0.615916\n  0.24199717 -0.22791182  0.07586917  0.0894428   0.50319064 -0.20768157\n -0.13497317 -0.22840431 -0.2350817   0.24498153  0.11251903 -0.08375174\n  0.46530858  0.38528377  0.2924952   0.1680356   0.3529013   0.2746601\n  0.4009495   1.0196118   0.12177113  0.02450354 -0.18073265 -0.12629181\n  0.42414537  0.17947862 -0.08836043  0.5133006  -0.2645906  -0.2959364\n  0.10465704 -0.81052506 -0.06566697  0.14433628  0.22813389 -0.34117186\n -0.5139855   0.00649738  0.10533793 -0.15091479 -0.52061754  0.18198949\n -0.4319002   0.08022578 -0.18542604  0.6558595   1.6736659   0.24382338\n  0.27680084 -0.05784708  0.09094197 -0.4506315   0.05699904 -0.43969077\n -0.44777447  0.15683323 -0.96715957  0.34219176  0.41638952  0.15389338\n -0.08068228  0.44095802 -0.26665953  0.04186952  0.20891091  0.5118884\n -0.09757015 -0.34749845  0.43999636  0.2268845   0.0864736   0.00641306\n -0.09067664 -0.25957724 -0.49350908  0.18048239  0.18358423 -0.16904262\n  0.16331945 -0.08264256 -0.21028224  0.2788948  -0.19326782  0.19223297\n -0.07008906 -0.21100807 -0.09358513 -0.02954344 -0.52419555 -1.1714689\n -0.47255766  0.2366145   0.2696645  -0.58628064 -0.00424476  0.3416155\n -0.415869    0.2208195  -0.15169638 -0.5699924  -0.198519   -0.24246803\n  0.66648865  0.19713606  0.5823994  -0.13608095  0.08846292  0.4007947\n -0.02347204  1.4033734  -0.0668637  -0.15179087  0.09030434  0.46590072\n  0.3387412   0.47827634 -0.2890634  -0.12685844 -0.0970526  -0.7708997\n -0.06375729  0.3667406  -0.40260136 -0.23046139 -1.4606111  -0.4244729\n  0.74743974  0.19199285  0.29201064  0.542007    0.07540677 -0.25582027\n -0.12640007  0.11063005  0.15465027 -0.44845045 -0.17168297 -0.2087366\n -0.6469972   0.02551022 -0.10980076 -0.06831999  0.01684624 -0.09724823\n  0.3652254  -0.45007503]",
         "7777",
         "266358188",
         "33300984"
        ],
        [
         "66829",
         "335138445",
         "Колодки для обуви 2 шт",
         "[{'attribute_name': 'Type', 'attribute_value': 'Колодки для обуви', 'attribute_isaspect': False, 'attribute_showascharacteristic': False}\n {'attribute_name': 'Brand', 'attribute_value': 'Нет бренда', 'attribute_isaspect': False, 'attribute_showascharacteristic': True}\n {'attribute_name': 'Annotation', 'attribute_value': 'Регулируемые колодки-формодержатель из натурального кедра для обуви с широкой и жесткой пяткой позволяют сохранить обувь в первоначальном виде. Предотвращают деформацию обуви, а также препятствуют образованию заломов и морщин на ней. Колодки-формодержатели изготовлены из натурального кедра, что позволяет им прекрасно впитывать влагу, дезодорировать обувь и служить обязательным аксессуаром. Срок службы обуви увеличивается в несколько раз при регулярном использовании колодок. Подпружинивающие двойные штоки направлены по длине и ширине обуви для эффективного заполнения формы.Красивые продуктыS888', 'attribute_isaspect': False, 'attribute_showascharacteristic': True}\n {'attribute_name': 'ColorBase', 'attribute_value': 'коричневый', 'attribute_isaspect': True, 'attribute_showascharacteristic': True}\n {'attribute_name': 'ColorName', 'attribute_value': '42-43р. Красивый цвет F593', 'attribute_isaspect': True, 'attribute_showascharacteristic': True}\n {'attribute_name': 'AgeO', 'attribute_value': 'Взрослая', 'attribute_isaspect': False, 'attribute_showascharacteristic': False}\n {'attribute_name': 'NumItemsDcml', 'attribute_value': '2', 'attribute_isaspect': False, 'attribute_showascharacteristic': True}\n {'attribute_name': 'Name', 'attribute_value': 'Колодки для обуви', 'attribute_isaspect': False, 'attribute_showascharacteristic': False}\n {'attribute_name': 'ColorBase_Forfilter', 'attribute_value': 'Коричневый', 'attribute_isaspect': False, 'attribute_showascharacteristic': False}]",
         "[ 5.44182539e-01 -9.70653653e-01 -4.45155472e-01  4.74349678e-01\n  9.29362923e-02 -4.20083344e-01  4.41994399e-01 -1.05437152e-01\n  4.15098608e-01  1.85970768e-01 -1.30123451e-01  8.55048522e-02\n -2.33859032e-01 -6.09937251e-01 -3.83949935e-01 -1.11760177e-01\n -2.87226677e-01  6.94773495e-02 -1.37351498e-01 -7.39216149e-01\n -4.98440266e-02  7.20614046e-02 -3.74884069e-01  6.78475201e-03\n  7.94689536e-01 -1.26986250e-01  1.87435716e-01 -3.39682549e-01\n -5.13195813e-01  6.98068589e-02 -7.02020049e-01  2.20369369e-01\n -1.03829429e-01  2.04527423e-01  1.95350200e-01  2.08052903e-01\n  7.92594701e-02  2.62847006e-01 -4.09765631e-01  2.02514052e-01\n -5.72900549e-02  8.19455683e-02  8.34260464e-01  1.30380839e-02\n  3.18342984e-01 -2.73395330e-01 -9.41122174e-02  5.28858185e-01\n  3.04412544e-01  2.22512513e-01  6.40763819e-01  1.33888662e-01\n -8.60043466e-02  2.61437356e-01 -2.89085567e-01 -2.10246891e-01\n -1.36653885e-01  3.26571047e-01 -8.15120190e-02 -9.97026116e-02\n  1.38549432e-01 -2.27528945e-01  4.18778032e-01  8.14157128e-02\n -3.49195033e-01  2.94631869e-01  3.30400020e-01  4.93588984e-01\n  3.77867147e-02 -5.00189900e-01 -7.62946844e-01  4.36209887e-01\n  2.09702671e-01 -1.64849907e-01  4.81705904e-01 -2.64886230e-01\n  3.15067410e-01  1.41545117e-01  8.20957661e-01  1.79847091e-01\n  4.06021625e-03 -1.01221651e-01 -9.68702376e-01  6.64174616e-01\n  5.08725822e-01  1.65804774e-02  4.63530421e-04  8.24179173e-01\n  8.70330989e-01  1.95380166e-01 -2.31517196e-01  1.13949627e-01\n  5.29124916e-01 -3.92383486e-02  1.45273596e-01  2.00668693e-01\n  1.89491272e-01  8.30492854e-01  2.95909464e-01 -8.78559798e-02\n -7.31801093e-02  3.80084395e-01  5.28729618e-01 -3.24912399e-01\n  1.88179553e-01  4.28845644e-01 -6.45547390e-01 -1.10320425e+00\n -2.67377555e-01 -2.12306917e-01 -6.41181350e-01  1.12007841e-01\n  1.42133340e-01  5.74710190e-01  5.27586758e-01 -3.28357399e-01\n  1.00265205e+00  6.32750019e-02 -5.30580223e-01 -3.73725265e-01\n -4.12570596e-01  1.64279982e-01  5.58561623e-01 -1.16715401e-01\n -5.45691013e-01  7.79453993e-01 -4.90617096e-01  2.40450099e-01\n -4.79569435e-01  7.09191799e-01 -1.83479071e-01  4.08073068e-02\n  4.99937624e-01 -5.24197042e-01 -1.30667448e-01 -9.65604186e-02\n  3.77380311e-01  6.55192882e-03 -2.39754841e-03  8.16421568e-01\n -5.57807565e-01 -3.10406476e-01 -6.81109130e-02  7.97163248e-01\n -8.35949779e-02 -1.22532368e-01 -6.20945513e-01 -1.34192109e-01\n -2.50259429e-01 -3.42602611e-01  1.39865518e-01  3.09507459e-01\n  3.09597397e+00 -1.39760733e-01 -4.22500335e-02  8.32282752e-02\n  1.31058514e-01  1.62486210e-01  1.99755892e-01 -2.22400323e-01\n -9.07746911e-01 -5.20484924e-01  4.13006902e-01  9.44944918e-01\n  5.71677744e-01 -4.90350962e-01  6.74675778e-02  8.95404220e-02\n -4.40504476e-02  3.83960605e-02  6.62610412e-01  9.24742818e-02\n  2.01799914e-01 -1.06326789e-01 -5.42547882e-01  5.24935424e-02\n -2.59416401e-02  1.15515277e-01 -1.18018591e+00 -1.30495414e-01\n -3.52719098e-01  2.78588623e-01 -2.34593689e-01  3.95313174e-01\n -2.54531562e-01 -4.53874394e-02  1.12965107e-01 -1.11051008e-01\n  7.10873961e-01 -5.02206534e-02 -1.56165838e-01  8.03678483e-03\n  2.88576931e-01  1.05057508e-02  2.30270594e-01 -5.49732924e-01\n -5.89400768e-01  1.16165608e-01 -4.06284511e-01  4.71153706e-01\n  5.14901876e-01 -1.01420105e-01 -3.27629149e-02  3.15677524e-01\n  4.84943360e-01  2.90471345e-01 -2.86908209e-01  2.11459473e-01\n  2.60944963e-01  1.72748417e-01 -4.18112636e-01 -2.61819661e-01\n -1.66495442e-02 -1.31571144e-01 -1.79775566e-01  1.58073068e-01\n -5.55093706e-01  4.38001603e-02 -3.21105301e-01  1.15143275e+00\n -3.01880836e-01 -5.47233224e-03  1.56360850e-01 -4.02430534e-01\n  4.66754735e-01  4.46267128e-01 -1.37760431e-01  4.18735296e-03\n -4.63164151e-01  3.08592021e-02 -2.40078360e-01  3.46524656e-01\n -1.55093342e-01  2.28133872e-01  4.71229255e-01  6.43262982e-01\n -1.86772287e-01  9.76301730e-02 -1.58887222e-01 -3.50310504e-01\n -2.83343107e-01 -4.57446247e-01 -2.22072572e-01 -1.02744973e+00\n  5.14280125e-02  6.18324727e-02  1.74579725e-01  8.16801906e-01\n -1.68084726e-01  3.62852156e-01  6.21469498e-01  2.04361916e-01\n  7.59919584e-02 -7.63116658e-01 -4.90444511e-01  4.20037657e-04\n -3.77415568e-01 -3.01276624e-01 -2.14788139e-01 -2.49487713e-01\n  1.87314868e-01 -2.32068479e-01 -4.13075566e-01 -1.39536113e-01\n  8.00214782e-02 -2.74929166e-01 -5.42222559e-01 -1.36932746e-01\n -3.18553060e-01  8.21676627e-02 -9.38739479e-02  4.72564459e-01\n -1.89405195e-02  3.43066812e-01  7.68376887e-02 -8.31747055e-03\n -1.20591581e-01 -1.20785832e-02  4.42479938e-01  6.70077622e-01\n -1.70808390e-01  5.13136744e-01 -8.52649510e-02 -3.24354023e-02\n -7.33926892e-04 -1.95179582e-02  3.95192444e-01 -8.67882892e-02\n -3.69605273e-01 -7.71673381e-01  2.75057465e-01  1.66732952e-01\n -6.92592040e-02  1.96825057e-01 -3.76364082e-01  4.82301563e-02\n  1.45022586e-01 -2.42578968e-01 -2.58887589e-01  7.83914626e-02\n  1.66936859e-01  1.20949596e-01  4.76448953e-01 -4.02572364e-01\n -7.57735252e-01 -8.86893496e-02  1.66328251e-02 -3.10151410e+00\n -2.80324399e-01 -2.34493747e-01  3.49875838e-02  9.77982879e-01\n -2.86293864e-01 -1.38463378e-01  4.56728876e-01  6.23631656e-01\n -2.44865701e-01  2.66574562e-01 -1.18391648e-01 -2.80666590e-01\n -4.18585271e-01  8.29007328e-02 -7.99082160e-01  5.10596156e-01\n -2.68087387e-01  1.84427202e-03  9.57901597e-01 -1.15396805e-01\n -3.51737022e-01 -2.70554304e-01 -1.95144117e-01  1.48649842e-01\n  8.46226752e-01  2.07965732e-01  1.79722920e-01  3.77459764e-01\n  6.83984160e-01 -1.50559247e-01  2.71525413e-01  5.05743325e-01\n  2.32429698e-01  2.15049773e-01  7.30186999e-02  8.95462930e-04\n -3.80967885e-01  3.81819636e-01 -1.16174228e-01  9.60038424e-01\n -2.22727132e+00  5.22202134e-01  5.71034193e-01  1.57140195e-02\n -1.39455706e-01 -2.04232872e-01 -6.64379239e-01  2.64001906e-01\n -5.74931502e-03 -5.14993370e-02 -1.20796368e-01  2.51379132e-01\n -4.26287830e-01  2.52086729e-01  3.25887859e-01 -2.24253699e-01\n -5.56186140e-02  1.37447625e-01 -1.68477073e-01  4.02196169e-01\n -8.53148103e-01 -1.22079410e-01 -9.34936404e-02  2.55799592e-01\n -5.62453866e-01 -2.84389108e-01 -1.41770557e-01 -1.72348619e-02\n -1.15446374e-02  5.26937008e-01  2.75767744e-01  5.29243827e-01\n -1.91437230e-01  2.80066192e-01  5.23257971e-01  3.70334506e-01\n  1.41876355e-01  1.27542353e+00 -8.45995545e-03  1.31682158e-01\n -7.74201602e-02  2.37503618e-01  2.43114114e-01 -2.35230833e-01\n -3.48201156e-01  3.62417936e-01 -9.21181142e-02  4.54466864e-02\n  3.35770488e-01 -2.99654365e-01  2.62792185e-02  3.20930630e-02\n -1.82021916e-01  2.43013665e-01  9.18639749e-02  4.50823486e-01\n  6.29877746e-01 -8.05333927e-02 -3.36981714e-01 -1.06628761e-02\n  8.14481378e-02  4.63866532e-01 -1.62720382e-01 -2.15369850e-01\n  8.13752115e-01  4.60622936e-01 -1.09519392e-01  2.05752328e-01\n -1.56037644e-01 -7.47809768e-01 -5.63561916e-01 -2.29840815e-01\n -6.17592573e-01 -3.04075480e-01 -5.03230929e-01  2.60110140e-01\n  3.44929457e-01  2.74985403e-01 -4.35537457e-01 -3.06483656e-02\n  1.33710802e-01 -6.12602532e-02 -8.98091495e-02  8.64214659e-01\n -3.43635529e-02  8.69196504e-02  1.98352903e-01  6.29278421e-02\n -2.34428510e-01  1.34969413e-01 -7.65924379e-02  1.39331743e-01\n -3.11743587e-01 -1.37988180e-02 -7.64444470e-02  3.95600379e-01\n  6.33743644e-01 -1.05759814e-01 -2.27006018e-01  3.23300064e-01\n -2.06205249e-01  4.42831010e-01 -5.60604215e-01 -4.32559222e-01\n -3.63908559e-02 -5.58759272e-03 -1.82700306e-01 -1.28932095e+00\n -3.58950406e-01 -2.62413025e-02  3.79753783e-02 -4.84786391e-01\n  3.35773766e-01  4.87968862e-01 -6.30295873e-01  2.71836668e-01\n -1.26352906e-03  4.27063927e-02  5.91136515e-02 -1.51373714e-01\n  7.60872602e-01  8.04213881e-02  2.45343909e-01  8.89668763e-02\n  2.74142772e-01  6.43262640e-02  2.44248584e-01  9.91213977e-01\n -2.53450722e-01  8.06875303e-02  5.86174011e-01  3.94227326e-01\n -2.27178723e-01 -3.14477384e-01 -2.91771829e-01  2.56601036e-01\n -2.83159137e-01 -3.36229444e-01  4.45716381e-01  3.61083299e-01\n -6.25038624e-01 -7.41022408e-01  1.46455884e-01 -2.26483643e-01\n  4.77880388e-01  3.50658566e-01  3.37386400e-01  2.09620029e-01\n  2.06162468e-01 -4.55488682e-01 -2.96379268e-01  1.81633845e-01\n  5.62790155e-01  1.73046350e-01 -3.30537409e-01  3.35137546e-02\n -1.09412149e-01 -2.18121111e-01 -5.48606366e-02 -7.30654240e-01\n -3.04274380e-01 -8.64986777e-02  1.24000207e-01 -1.55438572e-01]",
         "7777",
         "161703987",
         "365171"
        ],
        [
         "81054",
         "28764690",
         "44-45р. Колодки для обуви деревянные",
         "[{'attribute_name': 'Type', 'attribute_value': 'Колодки для обуви', 'attribute_isaspect': False, 'attribute_showascharacteristic': False}\n {'attribute_name': 'Brand', 'attribute_value': 'Soda Pique', 'attribute_isaspect': False, 'attribute_showascharacteristic': True}\n {'attribute_name': 'Annotation', 'attribute_value': 'Регулируемые колодки-формодержатель из натурального кедра для обуви с широкой и жесткой пяткой позволяют сохранить обувь в первоначальном виде. Предотвращают деформацию обуви, а также препятствуют образованию заломов и морщин на ней. Колодки-формодержатели изготовлены из натурального кедра, что позволяет им прекрасно впитывать влагу, дезодорировать обувь и служить обязательным аксессуаром. Срок службы обуви увеличивается в несколько раз при регулярном использовании колодок. Подпружинивающие двойные штоки направлены по длине и ширине обуви для эффективного заполнения формы.', 'attribute_isaspect': False, 'attribute_showascharacteristic': True}\n {'attribute_name': 'ColorBase', 'attribute_value': 'коричневый', 'attribute_isaspect': True, 'attribute_showascharacteristic': True}\n {'attribute_name': 'ColorBase', 'attribute_value': 'темно-коричневый', 'attribute_isaspect': True, 'attribute_showascharacteristic': True}\n {'attribute_name': 'ColorName', 'attribute_value': '44-45р.', 'attribute_isaspect': True, 'attribute_showascharacteristic': True}\n {'attribute_name': 'AgeO', 'attribute_value': 'Взрослая', 'attribute_isaspect': False, 'attribute_showascharacteristic': False}\n {'attribute_name': 'SexMaster', 'attribute_value': 'Женский', 'attribute_isaspect': False, 'attribute_showascharacteristic': False}\n {'attribute_name': 'SexMaster', 'attribute_value': 'Мужской', 'attribute_isaspect': False, 'attribute_showascharacteristic': False}\n {'attribute_name': 'Material', 'attribute_value': 'Кедр', 'attribute_isaspect': False, 'attribute_showascharacteristic': True}\n {'attribute_name': 'NumItemsDcml', 'attribute_value': '2', 'attribute_isaspect': False, 'attribute_showascharacteristic': True}\n {'attribute_name': 'Name', 'attribute_value': '44-45р. Колодки для обуви деревянные', 'attribute_isaspect': False, 'attribute_showascharacteristic': False}\n {'attribute_name': 'ColorBase_Forfilter', 'attribute_value': 'Коричневый', 'attribute_isaspect': False, 'attribute_showascharacteristic': False}]",
         "[ 5.39547920e-01 -1.06220782e+00 -4.80821133e-01  4.07468408e-01\n  1.22204795e-01 -3.76277536e-01  3.56722087e-01 -6.82328939e-02\n  3.85310233e-01  1.37969255e-01 -1.19532190e-01  9.92421210e-02\n -3.12483698e-01 -5.82930326e-01 -3.57806802e-01 -1.24596998e-01\n -3.88260484e-01  8.02950412e-02 -1.72841460e-01 -6.98531330e-01\n -3.37258577e-02  6.53743818e-02 -4.07559901e-01 -2.45918930e-02\n  7.29517221e-01 -9.70249176e-02  2.04165474e-01 -3.40911776e-01\n -4.84789848e-01  8.36270750e-02 -6.59243941e-01  2.49902844e-01\n -1.55996054e-01  2.20541820e-01  1.69580698e-01  2.40738630e-01\n  8.37212801e-02  3.36128414e-01 -4.32287276e-01  1.70947790e-01\n -2.25043818e-02  3.89984846e-02  8.73532534e-01  4.19972166e-02\n  2.83487082e-01 -2.80207574e-01 -1.22018456e-02  4.59353358e-01\n  2.70825058e-01  2.70867109e-01  6.36911631e-01  1.65726274e-01\n -7.80661404e-02  2.74600506e-01 -2.90571809e-01 -1.78456560e-01\n -6.08251840e-02  3.59297752e-01 -7.40357488e-02 -6.40674159e-02\n  1.24732152e-01 -2.45145574e-01  4.00346518e-01  8.04004669e-02\n -4.37771559e-01  3.06024015e-01  2.62008578e-01  5.46077073e-01\n  1.42435208e-02 -4.64120775e-01 -7.35881269e-01  4.22613442e-01\n  1.58068001e-01 -2.23839015e-01  4.60815936e-01 -2.36609101e-01\n  3.59035015e-01  1.60042018e-01  8.74162436e-01  1.41961813e-01\n -3.89063656e-02 -2.91045457e-02 -9.13810253e-01  6.72870457e-01\n  5.18102646e-01 -1.02324635e-02  5.72389364e-03  8.30589354e-01\n  8.81563902e-01  1.28547892e-01 -2.91486412e-01  1.30432039e-01\n  4.86194879e-01  1.48991421e-02  1.25511229e-01  2.02103317e-01\n  1.79803967e-01  8.69397283e-01  2.79096305e-01 -1.32879615e-03\n -8.46893042e-02  4.15890217e-01  5.07755935e-01 -3.09924424e-01\n  2.18516648e-01  3.94371450e-01 -6.43814504e-01 -1.12614989e+00\n -2.32739329e-01 -2.24721313e-01 -6.35924518e-01  9.13177505e-02\n  1.89357877e-01  5.81167698e-01  5.52075326e-01 -3.71882379e-01\n  1.00365639e+00  1.39429748e-01 -4.79480267e-01 -4.26334381e-01\n -4.59482223e-01  2.06629023e-01  6.74415588e-01 -5.91898859e-02\n -5.58203816e-01  7.96772361e-01 -4.09188032e-01  2.63974875e-01\n -4.00010854e-01  7.16642857e-01 -2.23032758e-01  7.60371387e-02\n  5.31566501e-01 -5.44997394e-01 -1.01318277e-01 -1.79612443e-01\n  4.11268622e-01  4.49016839e-02  1.36699006e-02  8.71417642e-01\n -5.38007200e-01 -3.40737134e-01 -6.42397702e-02  7.99652696e-01\n -1.01611137e-01 -1.34658337e-01 -6.40431523e-01 -1.55501395e-01\n -1.54851794e-01 -3.85058492e-01  1.63929030e-01  2.24164039e-01\n  3.01205587e+00 -1.24975041e-01 -1.08384982e-01 -1.22688562e-02\n  6.29929155e-02  1.51951209e-01  1.46955281e-01 -2.06519499e-01\n -8.25815678e-01 -5.82113385e-01  4.68046129e-01  9.34040785e-01\n  6.29627585e-01 -4.54273283e-01  8.97829980e-02  1.14938825e-01\n -2.57882327e-02  4.09873426e-02  6.40418410e-01  2.96601579e-02\n  1.78596735e-01 -4.80104685e-02 -5.18709123e-01  2.46424079e-02\n -2.26338804e-02  1.18516028e-01 -1.23808634e+00 -9.76181179e-02\n -2.96213925e-01  2.25659713e-01 -2.04729870e-01  3.58913928e-01\n -2.72545904e-01 -4.82660085e-02  1.42308116e-01 -8.82071033e-02\n  7.10582197e-01  8.83969665e-03 -1.43850684e-01 -1.83197856e-03\n  3.50791842e-01 -6.62903786e-02  2.45668948e-01 -4.60589647e-01\n -5.97752094e-01  1.04663238e-01 -4.45073277e-01  4.81141478e-01\n  4.63070154e-01 -1.24506056e-01 -7.01940805e-02  3.06385040e-01\n  4.87682790e-01  3.16620678e-01 -3.03426772e-01  2.41135880e-01\n  2.46187657e-01  2.03497618e-01 -4.20402855e-01 -2.71615893e-01\n  1.98139995e-02 -1.56505913e-01 -2.55211532e-01  1.53393045e-01\n -4.95122135e-01  4.09715772e-02 -2.84464389e-01  1.24052942e+00\n -2.91530877e-01  3.70306671e-02  8.88205916e-02 -4.02848780e-01\n  4.66192871e-01  4.18246448e-01 -1.26661494e-01  5.21946475e-02\n -5.02288222e-01  4.23323214e-02 -2.21943468e-01  3.19811612e-01\n -1.76223993e-01  2.23449379e-01  5.03432333e-01  5.60424924e-01\n -2.52823651e-01  1.01189494e-01 -7.45464265e-02 -3.60605121e-01\n -2.17199922e-01 -3.41138244e-01 -2.63381422e-01 -1.04405987e+00\n  5.81791140e-02  4.66501117e-02  1.35722041e-01  7.79382706e-01\n -1.17964670e-01  4.23339546e-01  5.86598873e-01  1.88153416e-01\n  3.89668643e-02 -7.36061215e-01 -4.38008338e-01 -5.09872325e-02\n -4.23294932e-01 -2.89282739e-01 -1.56532973e-01 -1.94346815e-01\n  2.00224578e-01 -2.32600272e-01 -4.39174443e-01 -1.78208560e-01\n  1.52907312e-01 -2.14746401e-01 -5.04989028e-01 -1.00066409e-01\n -3.28983158e-01  8.76737833e-02 -4.26869765e-02  4.41660553e-01\n -9.24501717e-02  3.35116029e-01  1.13292970e-01 -1.34408250e-02\n -1.65698230e-01 -4.57758009e-02  4.58690494e-01  6.92798257e-01\n -1.67102024e-01  4.82782900e-01 -3.50181758e-02  5.90275228e-03\n  2.80869082e-02 -9.08586383e-03  3.38136584e-01 -5.26069254e-02\n -3.71411264e-01 -7.31940448e-01  2.69709349e-01  8.80708992e-02\n -1.06197581e-01  1.68065995e-01 -3.97822261e-01  1.18244052e-01\n  1.55981064e-01 -2.37682700e-01 -2.23397925e-01  1.43318117e-01\n  2.01153472e-01  1.82040930e-01  4.40546960e-01 -3.82949948e-01\n -7.56497860e-01 -9.09174457e-02 -1.80979371e-02 -3.01811409e+00\n -2.85405427e-01 -2.70757020e-01  2.72183716e-02  1.04978442e+00\n -2.12135091e-01 -1.07715487e-01  4.44442332e-01  5.85868239e-01\n -2.80108064e-01  1.97336465e-01 -1.53772742e-01 -2.09109992e-01\n -4.28965092e-01  1.02278739e-01 -8.44686031e-01  4.89338189e-01\n -2.68818974e-01  3.89600545e-03  9.62319732e-01 -1.59915432e-01\n -3.46310437e-01 -3.42126995e-01 -2.64925659e-01  1.62424564e-01\n  7.49031544e-01  1.60555601e-01  1.93387955e-01  3.96805495e-01\n  7.10231900e-01 -2.30681062e-01  2.49794036e-01  5.23169458e-01\n  2.42953718e-01  2.08096460e-01  1.53975517e-01 -1.74407065e-02\n -3.90445322e-01  4.19212282e-01 -1.70061126e-01  9.66832876e-01\n -2.12160254e+00  5.07988930e-01  5.82713783e-01  5.11604249e-02\n -1.25563741e-01 -1.71634585e-01 -6.58683777e-01  1.84020936e-01\n -3.87606323e-02 -9.90683660e-02 -8.10317546e-02  1.86114356e-01\n -4.38639402e-01  2.29217842e-01  3.73954147e-01 -1.21796161e-01\n -6.63167387e-02  2.05966637e-01 -2.09221333e-01  4.62711990e-01\n -8.64612222e-01 -1.94187790e-01 -7.20006227e-02  2.09226504e-01\n -5.77842832e-01 -2.64280379e-01 -2.30749562e-01 -1.71020627e-03\n -6.53769448e-03  4.99757767e-01  2.55585283e-01  5.22394538e-01\n -2.00097442e-01  2.36968488e-01  5.54133654e-01  3.31531525e-01\n  2.23629609e-01  1.27234769e+00 -3.85541618e-02  9.18194428e-02\n -4.87891845e-02  1.81188971e-01  2.37491235e-01 -2.91782081e-01\n -4.26258743e-01  3.35355252e-01 -7.02207237e-02 -5.77776730e-02\n  3.17735553e-01 -2.42822111e-01  1.04079694e-01  1.43979043e-02\n -1.74865589e-01  3.20984900e-01  1.06117956e-01  4.57869172e-01\n  5.93765140e-01 -8.15288275e-02 -2.66106218e-01  2.50783116e-02\n  7.20816851e-02  4.56948847e-01 -1.61168694e-01 -2.09292233e-01\n  8.87699127e-01  4.65552628e-01 -1.68105990e-01  1.71553522e-01\n -1.29275560e-01 -7.73658097e-01 -6.04820311e-01 -2.26129040e-01\n -5.36033988e-01 -4.03549701e-01 -4.01647657e-01  2.18821079e-01\n  3.47114652e-01  2.59246886e-01 -4.47744310e-01 -7.07723200e-04\n  1.81480765e-01 -6.26038536e-02 -1.37854710e-01  8.21107566e-01\n  1.71521455e-02  1.61163002e-01  1.87794790e-01  9.33074877e-02\n -2.78434336e-01  1.87342227e-01 -7.86708295e-03  1.04425386e-01\n -3.53606939e-01  1.00732148e-02 -1.02753952e-01  3.89392078e-01\n  6.44090295e-01 -1.46648496e-01 -2.69708931e-01  3.21778983e-01\n -2.06964970e-01  3.48842680e-01 -5.26377201e-01 -5.43245316e-01\n -9.73809659e-02  2.24137306e-02 -1.89353719e-01 -1.21942616e+00\n -3.67296964e-01 -3.65642905e-02 -2.09152699e-04 -4.84322488e-01\n  3.68883491e-01  6.01343751e-01 -6.38187587e-01  3.27789694e-01\n  1.62156224e-02  4.65793088e-02  8.38534236e-02 -1.80353314e-01\n  8.19615841e-01  8.15718174e-02  3.17865759e-01  1.12024643e-01\n  2.12307200e-01  8.99875760e-02  2.43054643e-01  9.74738955e-01\n -2.15814427e-01 -2.36128643e-02  6.39011979e-01  3.73866498e-01\n -2.20471919e-01 -3.35992396e-01 -3.24189246e-01  2.26229176e-01\n -2.65782416e-01 -3.72624695e-01  4.62739468e-01  3.46653610e-01\n -7.39660561e-01 -7.86901951e-01  5.71442842e-02 -2.91176498e-01\n  4.39274669e-01  3.77423137e-01  3.15637290e-01  1.54609904e-01\n  1.83516011e-01 -4.69043016e-01 -3.29513550e-01  1.63415834e-01\n  5.48369050e-01  1.18390322e-01 -3.40369254e-01  4.29350436e-02\n -1.93911791e-03 -2.11822242e-01 -1.50176018e-01 -6.52950644e-01\n -3.04510295e-01 -1.16227150e-01  1.36100531e-01 -1.46527782e-01]",
         "7777",
         "248376406",
         "43171685"
        ],
        [
         "97225",
         "250119073",
         "Колодки из красного кедра, р. 41/42, формодержатели для обуви, раздвоенная носовая часть, регулируемые, 1 пара",
         "[{'attribute_name': 'Type', 'attribute_value': 'Колодки для обуви', 'attribute_isaspect': False, 'attribute_showascharacteristic': False}\n {'attribute_name': 'Brand', 'attribute_value': 'ordego', 'attribute_isaspect': False, 'attribute_showascharacteristic': True}\n {'attribute_name': 'Annotation', 'attribute_value': 'Формодержатели или колодки для обуви из 100% натурального красного кедра эффективно поглощают неприятные запахи, придавая обуви свежий аромат кедра. Колодки из дерева не покрыты лаком, что позволяет им впитывают влагу, предотвращая повреждения обуви и защищая от появления бактерий, грибка и вредоносных насекомых. Регулярное использование формодержателей для обуви продлевает срок службы мужской и женской обуви, способствует сохранению первоначального внешнего вида и формы ботинок, сапог, туфель и кроссовок, предотвращает появление складок, заломов и деформаций. Особенно рекомендуются для хранения и сушки кожаной обуви, а также обуви с меховой или шерстяной подкладкой или стелькой. Средняя высота подъёма кедровых деревянных колодок обеспечивает универсальность и позволяет использовать деревянные формодержатели для различных видов обуви. Гравировка LEFT/RIGHT для Вашего максимального удобства. Формодержатели деревянные предназначены как для ежедневного использования, так и для межсезонного хранения обуви. Отличный подарок на день рождения, юбилей, новый год, Рождество, 8 марта, 23 февраля. Колодки для обуви из кедра удобны в использовании. Подберите нужный Вам размер, после снятия обуви расположите формодержатели сперва в носовой части обуви, затем сожмите пружину и вставьте в пяточную часть обуви. Пружинный механизм будет обеспечивать деликатное натяжение для сохранения формы обуви. Вынимать формодержатели из натурального кедра в обратном порядке. Формодержатели из дерева не растягивают обувь. В сочетании с другими средствами по уходу за обувью, например, как крем для обуви, щётка для обуви, краска для обуви, водоотталкивающий спрей для обуви, салфетки для обуви, сохранят идеальный вид на несколько сезонов. Качество кедровых формодержателей для обуви приятно Вас удивит. Колодки для обуви из натурального красного кедра - необходимый аксессуар и отличный подарок для Вашей и не только Вашей обуви.', 'attribute_isaspect': False, 'attribute_showascharacteristic': True}\n {'attribute_name': 'ColorName', 'attribute_value': 'размер M (41-42)', 'attribute_isaspect': True, 'attribute_showascharacteristic': True}\n {'attribute_name': 'AgeO', 'attribute_value': 'Взрослая', 'attribute_isaspect': False, 'attribute_showascharacteristic': False}\n {'attribute_name': 'Material', 'attribute_value': 'Кедр', 'attribute_isaspect': False, 'attribute_showascharacteristic': True}\n {'attribute_name': 'Material', 'attribute_value': 'Металл', 'attribute_isaspect': False, 'attribute_showascharacteristic': True}\n {'attribute_name': 'NumItemsDcml', 'attribute_value': '2', 'attribute_isaspect': False, 'attribute_showascharacteristic': True}\n {'attribute_name': 'Name', 'attribute_value': 'Колодки из красного кедра, р. 41/42, формодержатели для обуви, раздвоенная носовая часть, регулируемые, 1 пара', 'attribute_isaspect': False, 'attribute_showascharacteristic': False}\n {'attribute_name': 'SexMaster', 'attribute_value': 'Женский', 'attribute_isaspect': False, 'attribute_showascharacteristic': False}\n {'attribute_name': 'SexMaster', 'attribute_value': 'Мужской', 'attribute_isaspect': False, 'attribute_showascharacteristic': False}]",
         "[ 4.40911859e-01 -6.55992627e-02 -2.80664027e-01  1.14266977e-01\n  3.04364830e-01 -3.13939065e-01  3.09492469e-01  2.45493874e-02\n -4.51022536e-02 -8.82618487e-01  1.56780288e-01  7.85283297e-02\n -2.62369812e-01 -5.76882005e-01 -1.25195682e-01 -1.10864028e-01\n -4.89657551e-01 -4.44792151e-01 -4.66230780e-01 -7.29367018e-01\n -2.47649103e-01  7.69635439e-02 -6.25030696e-01 -2.30925769e-01\n  3.22202921e-01 -6.63846910e-01  4.90510494e-01  4.46059406e-01\n  1.64418817e-02 -1.17160603e-01 -3.12718153e-01  8.44559073e-02\n -2.64799327e-01  2.10082591e-01  7.21113563e-01  4.75652441e-02\n  1.44634724e-01  3.88189256e-02  9.50495154e-03 -1.10270560e-01\n  2.80999362e-01  1.61255375e-01  3.41845661e-01  4.19957697e-01\n -7.78151602e-02  2.14351326e-01 -1.98604107e-01  4.96761918e-01\n -2.31966302e-01  2.07685798e-01  5.43876529e-01  1.39899656e-01\n -1.53288990e-03 -2.18242735e-01 -5.51568985e-01 -8.91385823e-02\n -3.60129178e-02  3.18740547e-01 -2.24274099e-01  3.30089122e-01\n -9.02701318e-02  3.85403484e-01  3.12724113e-01  9.77995694e-01\n -4.07903284e-01 -1.41237989e-01  2.64779806e-01  8.25781643e-01\n  3.12421650e-01  1.51151121e-01 -8.51449609e-01  2.73939759e-01\n  1.11620463e-01  2.98433781e-01  5.31682491e-01 -6.41344488e-01\n  4.38112319e-02  2.11909503e-01  6.12898350e-01  3.30110222e-01\n -1.32344484e-01 -2.55506814e-01 -8.88818204e-01 -4.04188693e-01\n  4.88383770e-01 -1.08258590e-01  6.27887100e-02  4.55841243e-01\n  1.38117647e+00  2.68566668e-01 -2.38802299e-01  1.59483105e-02\n  5.26115775e-01  4.40817982e-01 -5.33738732e-03 -1.79169551e-01\n  1.47028923e-01  3.25045705e-01  4.49220538e-01  2.24043801e-02\n  6.04862645e-02  3.75266492e-01  4.43987280e-01 -4.31042492e-01\n  7.19428658e-01  4.67919946e-01 -6.41007304e-01 -1.95048285e+00\n -2.51530886e-01  4.54826891e-01 -8.92413139e-01 -4.67626214e-01\n  1.19124278e-01  3.18479389e-02 -3.08034480e-01 -6.86619878e-01\n  1.24533713e+00  2.04702765e-01 -3.16223532e-01  3.36835563e-01\n  3.00655514e-02  2.05177337e-01  5.61634958e-01 -5.61939478e-02\n -7.13928491e-02  4.70152289e-01 -4.77267385e-01  4.41610634e-01\n  1.61889583e-01  3.79463345e-01 -3.14897597e-01 -9.66062546e-02\n -1.44769281e-01 -4.39567596e-01  2.33153582e-01  8.05496350e-02\n  4.61831689e-02  2.93112427e-01  5.42416424e-02  3.37350130e-01\n -1.84129089e-01  7.67309591e-02  1.04427911e-01  7.22395420e-01\n  5.11518657e-01  2.64078379e-02 -3.57881427e-01 -2.74910271e-01\n  5.97249091e-01 -4.90693092e-01  1.84781253e-01 -3.01811218e-01\n  2.73374152e+00 -1.73078343e-01  2.40489542e-01 -8.90547782e-03\n  1.70575052e-01 -4.03817147e-02  2.89534181e-01 -6.33215904e-03\n -5.18598557e-01 -4.49898839e-01  1.53968364e-01  5.40526152e-01\n -5.13934791e-01 -4.29259837e-01  6.38631284e-02  9.99858677e-02\n  3.86017263e-01  7.36388206e-01  5.12497783e-01  3.17341864e-01\n  6.22708946e-02 -1.52086318e-02  1.31337970e-01 -1.67686343e-01\n  3.41182113e-01  3.93235832e-01 -2.27417445e+00 -1.42105937e-01\n  1.01046413e-01  4.91019011e-01 -4.24702942e-01  1.22647882e-01\n -2.86290646e-01 -1.87651649e-01  1.30615354e-01  4.82940078e-01\n  4.86108273e-01 -2.19105273e-01  1.80152953e-02 -4.60454747e-02\n  4.65722144e-01 -2.04545319e-01  3.18552613e-01 -2.09099278e-01\n -2.83520162e-01 -1.83260307e-01 -3.59990954e-01  8.65488648e-02\n  8.85880291e-01 -2.35336214e-01 -1.08986109e-01  1.80923522e-01\n  1.67936131e-01  3.00815284e-01  5.14342785e-02 -1.39221847e-01\n -1.56658262e-01  5.37853718e-01  2.17428267e-01  1.27931163e-01\n -3.04377198e-01  9.36349332e-02 -7.50711918e-01  4.82232541e-01\n -5.04334450e-01  3.24748337e-01  1.81755871e-02  1.92634153e+00\n -3.51180732e-02  2.84646928e-01  4.94736761e-01 -9.29005146e-01\n -2.45422438e-01  5.16274571e-03  2.25023821e-01  3.94980431e-01\n  3.97570506e-02 -7.54944384e-02  3.34840775e-01  2.60998130e-01\n -1.90653801e-02  3.83677423e-01  3.82947206e-01  5.43760180e-01\n -9.03930068e-02  1.35178402e-01  4.84602392e-01 -5.68377912e-01\n -2.97842622e-01 -3.79642189e-01 -1.30323678e-01 -9.15005922e-01\n -4.42675292e-01  1.40087754e-01 -3.63245308e-02  4.76544857e-01\n  3.48313004e-01 -2.46882915e-01  7.08623454e-02  8.79668593e-02\n  5.00244498e-01 -8.51432085e-01 -3.84364545e-01  3.41563761e-01\n -5.21379232e-01  1.66838169e-02  4.84538317e-01  2.24973321e-01\n  1.95000857e-01 -2.84024715e-01 -8.08244765e-01 -1.05445683e-02\n  4.42326307e-01 -2.67611444e-02 -3.26560944e-01  4.50177193e-01\n -6.88899875e-01 -5.64359128e-03 -1.19231701e-01  1.48742303e-01\n -1.38513714e-01  3.03160250e-02  3.23217213e-01 -4.59246874e-01\n  2.26599038e-01  1.85715228e-01 -4.74147946e-02  4.42237645e-01\n  3.21890295e-01  4.72647190e-01 -4.89354134e-05 -6.20341659e-01\n  4.29322839e-01 -3.87595445e-02  2.42280290e-01  4.26725298e-02\n  2.45707318e-01 -5.37844419e-01  4.72521603e-01  3.46765339e-01\n -3.03112656e-01  2.62749612e-01 -7.93530047e-03  2.14410335e-01\n -2.24945545e-02 -4.29366261e-01  5.43953061e-01 -3.19820553e-01\n  3.08248252e-01 -3.11170906e-01 -1.07426234e-01 -3.91130507e-01\n -2.63689429e-01  5.14586419e-02  1.47205472e-01 -2.73859334e+00\n -2.57128328e-02 -1.39454901e-01 -5.47971651e-02  4.04553413e-01\n -3.95631284e-01  3.10802191e-01  6.65355861e-01  1.43191683e+00\n -1.05412446e-01  4.03138071e-01 -4.69706506e-01 -3.69694710e-01\n -1.77673832e-01 -1.95886195e-03 -1.74403757e-01  6.11024141e-01\n -2.11609989e-01  2.14788914e-02  6.60882890e-01 -5.45875669e-01\n -1.85971767e-01  9.60770249e-02 -5.64835906e-01  2.42861047e-01\n  2.18257606e-01 -1.22450382e-01  2.84660459e-01 -4.04090703e-01\n  7.33332634e-01 -5.54036915e-01 -1.30202085e-01  4.19300616e-01\n  1.80055186e-01  3.72636691e-02  3.20587605e-01  1.03168063e-01\n -2.52546668e-01  8.15926492e-03 -2.09347039e-01  7.33157277e-01\n -2.21204090e+00  5.04331112e-01  7.64398217e-01 -1.83949918e-02\n -2.09749311e-01 -2.85050869e-01 -9.13673520e-01 -2.99730748e-02\n -2.86076635e-01 -1.42072320e-01  3.49129140e-01  8.70907754e-02\n  3.39323282e-02  1.00615345e-01  2.41330266e-03 -5.31668305e-01\n -1.95989907e-02 -1.08515576e-01  9.62502658e-02  1.00031421e-01\n -1.12474656e+00  6.05494738e-01  1.26112089e-01  2.56124556e-01\n -1.90506846e-01  2.60752648e-01  9.60763618e-02  1.01842904e+00\n  1.16249755e-01 -1.87058210e-01  5.53217232e-02  5.71009636e-01\n  1.48072541e-01  1.58018664e-01  1.04085493e+00  2.54325122e-01\n  3.21249932e-01  1.47206903e+00 -1.53879076e-01 -2.48019889e-01\n -3.38269204e-01 -7.16372132e-02  2.57331938e-01 -1.99491039e-01\n -3.60412151e-01  2.03391805e-01 -5.70621133e-01 -1.62029818e-01\n  6.61570847e-01 -5.13779782e-02 -6.15281016e-02 -1.19815379e-01\n  4.35527980e-01 -1.02185853e-01 -6.00449815e-02  5.47540486e-02\n  2.25016728e-01  3.46418828e-01  2.47630477e-01  9.15729105e-02\n -1.52571693e-01 -1.20010749e-01  2.53985047e-01  1.46092772e-01\n  7.52688229e-01  2.40663618e-01  3.36007118e-01  7.27140382e-02\n  6.65339828e-03 -2.07897544e-01 -5.97433805e-01  1.14231780e-02\n -1.49230063e-01  1.28546864e-01 -2.95274854e-01  3.99077535e-01\n  9.19723988e-01 -2.92388022e-01 -1.57020256e-01 -3.22632998e-01\n -2.46642530e-01  1.47786438e-02 -5.01691028e-02  7.65863657e-01\n -2.93898195e-01 -2.08666205e-01 -2.12439373e-01 -2.29483262e-01\n -3.01725924e-01  3.72471064e-01 -5.09636819e-01 -2.04770029e-01\n  1.94657415e-01 -9.35367346e-02 -9.43563938e-01  2.94984132e-02\n  5.33616900e-01 -5.78267872e-02 -6.24944866e-02  4.01140958e-01\n  2.75359601e-01 -1.88174576e-01 -4.38075602e-01  3.39868665e-02\n  1.32133931e-01  2.03133389e-01 -2.88191646e-01 -5.91061234e-01\n -1.86934978e-01 -5.64277023e-02  3.29567611e-01 -2.87197322e-01\n  3.47481310e-01  1.40629709e-01 -5.59690118e-01  6.75726235e-01\n -1.91943556e-01 -4.72392589e-02 -1.81143671e-01 -2.99702764e-01\n  7.34978616e-01 -8.81764591e-02 -1.34865671e-01  5.42214274e-01\n -4.58034649e-02  9.72938091e-02  1.20771468e-01  1.41809046e+00\n -4.88706529e-02 -2.38938317e-01  6.60132170e-01  3.84378135e-01\n  2.52318084e-02 -4.54328865e-01  3.80301297e-01  2.94583797e-01\n -3.93362194e-01 -7.26876140e-01 -5.97621500e-03 -3.31015289e-02\n -8.55923235e-01 -4.81177032e-01 -1.20609581e+00  7.85458237e-02\n  6.92194700e-01  4.77217168e-01  2.71521240e-01 -2.82265693e-02\n  1.67906627e-01 -5.09372592e-01 -3.62041891e-02  3.99876416e-01\n -2.33162463e-01  4.28441912e-02  2.10728869e-02 -2.07161963e-01\n -1.80812657e-01  1.17546529e-01 -1.91769570e-01 -2.93906450e-01\n -4.25804615e-01  8.71747285e-02 -3.06026936e-01  2.53858745e-01]",
         "7777",
         "241501565",
         "37644112"
        ],
        [
         "152312",
         "162115015",
         "Мягкие формодержатели для обуви / Антизаломы из EVA/ Универсальные вставки от заломов, антизаломы",
         "[{'attribute_name': 'Type', 'attribute_value': 'Колодки для обуви', 'attribute_isaspect': False, 'attribute_showascharacteristic': False}\n {'attribute_name': 'Brand', 'attribute_value': 'Нет бренда', 'attribute_isaspect': False, 'attribute_showascharacteristic': True}\n {'attribute_name': 'Annotation', 'attribute_value': 'Формодержатели для обуви из EVA – идеальная защита от заломов.<br/><br/>Наши колодки для обуви из EVA – это новое поколение антизаломов, которые обеспечивают идеальную форму вашей обуви. Вставки в обувь не ощущаются при носке и не натирают, в отличие от пластиковых аналогов. Эти формодержатели подходят для всех типов обуви, включая кроссовки, туфли, ботинки и кеды, защищая их от заломов и деформаций.<br/><br/>Наши аксессуары для обуви доступны в двух размерах: S (35–40) и L (41–46). Они легкие, удобные и обеспечивают защиту без лишнего дискомфорта, поддерживая форму обуви и продлевая её срок службы.<br/><br/>Выберите наши формодержатели для обуви и подарите своей обуви заботу, которую она заслуживает.', 'attribute_isaspect': False, 'attribute_showascharacteristic': True}\n {'attribute_name': 'ColorBase', 'attribute_value': 'черный', 'attribute_isaspect': True, 'attribute_showascharacteristic': True}\n {'attribute_name': 'ColorName', 'attribute_value': 'черный - последнее поколение', 'attribute_isaspect': True, 'attribute_showascharacteristic': True}\n {'attribute_name': 'AgeO', 'attribute_value': 'Взрослая', 'attribute_isaspect': False, 'attribute_showascharacteristic': False}\n {'attribute_name': 'Material', 'attribute_value': 'EVA', 'attribute_isaspect': False, 'attribute_showascharacteristic': True}\n {'attribute_name': 'NumItemsDcml', 'attribute_value': '1', 'attribute_isaspect': False, 'attribute_showascharacteristic': True}\n {'attribute_name': 'Name', 'attribute_value': 'Мягкие формодержатели для обуви / Антизаломы из EVA/ Универсальные вставки от заломов, антизаломы', 'attribute_isaspect': False, 'attribute_showascharacteristic': False}\n {'attribute_name': 'SexMaster', 'attribute_value': 'Девочки', 'attribute_isaspect': False, 'attribute_showascharacteristic': False}\n {'attribute_name': 'SexMaster', 'attribute_value': 'Женский', 'attribute_isaspect': False, 'attribute_showascharacteristic': False}\n {'attribute_name': 'SexMaster', 'attribute_value': 'Мальчики', 'attribute_isaspect': False, 'attribute_showascharacteristic': False}\n {'attribute_name': 'SexMaster', 'attribute_value': 'Мужской', 'attribute_isaspect': False, 'attribute_showascharacteristic': False}\n {'attribute_name': 'ColorBase_Forfilter', 'attribute_value': 'Черный', 'attribute_isaspect': False, 'attribute_showascharacteristic': False}]",
         "[ 6.21040821e-01 -1.02826548e+00 -8.35756302e-01  1.65710926e-01\n  1.62712425e-01 -1.82923466e-01  2.23707169e-01  9.18249786e-02\n  4.50441867e-01  3.03555161e-01  1.92795530e-01  7.89205432e-02\n -3.41271907e-01 -5.00895739e-01 -5.28495371e-01  2.09415495e-01\n -6.87729359e-01 -1.15262508e-01  1.03659004e-01 -8.99062693e-01\n -1.54224008e-01  2.99117714e-02 -7.39771724e-02  2.02733144e-01\n  1.31546661e-01 -5.08049846e-01  1.52634993e-01 -5.99836111e-01\n -6.29947364e-01  6.72735274e-03 -7.15686738e-01  2.21012920e-01\n -6.42298639e-01  2.50920236e-01  1.08490825e-01 -1.11065395e-01\n  4.00855243e-01  5.30181408e-01 -2.02316061e-01 -3.78591835e-01\n -1.42721355e-01 -2.96671242e-02  2.40752995e-01  1.38055712e-01\n  7.33285964e-01  9.84198898e-02  2.86471665e-01  2.02981144e-01\n  6.22202754e-01  2.93227494e-01  7.76531935e-01  4.03038472e-01\n -2.58821607e-01 -5.45559108e-01 -3.89095157e-01 -4.54761446e-01\n -1.38009220e-01 -1.80230588e-02  6.00974709e-02  1.37027860e-01\n -8.54162201e-02 -1.81621522e-01  4.47540045e-01 -1.97102517e-01\n -4.91085738e-01  2.53997445e-01  1.06278896e-01  2.49058262e-01\n -1.55201316e-01 -2.62116969e-01 -7.29637027e-01  3.02510351e-01\n -1.19910792e-01 -1.36650354e-01  4.88271654e-01 -3.46572638e-01\n  6.03183329e-01  1.94000274e-01  5.62202692e-01  1.05634362e-01\n  5.54149672e-02 -1.02569222e-01 -6.69034302e-01  4.48116124e-01\n  6.52750552e-01  2.13556141e-02 -4.60161358e-01  5.78017354e-01\n  8.88475627e-02 -3.41523796e-01 -6.21533245e-02  4.19261485e-01\n -1.91427529e-01 -7.33212009e-02 -2.74908423e-01  2.50053793e-01\n -1.02585830e-01  6.70464694e-01  1.11859173e-01 -2.31539100e-01\n -8.08565319e-02  7.28075027e-01 -1.30500644e-02 -1.17477447e-01\n  3.52003217e-01  3.78844589e-01 -6.26980066e-01 -8.85212839e-01\n -5.68177104e-02  4.94471565e-02 -5.87451279e-01  1.36989042e-01\n  5.59977174e-01  5.26302397e-01  6.95402622e-01 -6.09755635e-01\n  6.60238445e-01  2.75550410e-02 -2.49650195e-01  6.15479201e-02\n -2.24621907e-01  1.74324021e-01  4.16830659e-01  8.36475790e-02\n -1.40895009e-01  1.18190706e+00 -8.45884800e-01  2.83604562e-01\n  1.08921297e-01  1.15296185e-01  4.43211854e-01  2.15292931e-01\n -8.22899044e-02 -3.96368146e-01  3.12968671e-01  1.01140104e-01\n -9.57829356e-02  7.37993062e-01 -2.10536540e-01  1.00542462e+00\n  3.37761045e-02 -7.70439565e-01 -4.09761995e-01 -1.39796257e-01\n -1.83591962e-01  2.22488046e-02 -4.01552260e-01 -5.60263038e-01\n -5.64449951e-02 -1.66486874e-01 -1.88788474e-01  4.80892241e-01\n  2.40912342e+00 -3.95281762e-02 -3.92730951e-01  1.16122097e-01\n -2.91907668e-01  2.92693555e-01  4.41572309e-01 -2.32988596e-02\n -3.27709258e-01 -2.77954400e-01  1.96440399e-01  6.40769839e-01\n  6.60075694e-02 -6.68499097e-02  1.81469679e-01 -3.20807010e-01\n -1.39617205e-01  3.69405329e-01  3.91069323e-01  5.78791201e-02\n  2.13514537e-01 -7.77528435e-02 -3.02649140e-01 -2.26430207e-01\n  1.82243973e-01  5.92932880e-01 -4.21310425e-01 -3.53322893e-01\n -8.45034346e-02  5.32187343e-01  2.25856602e-01 -2.23329797e-01\n -4.99879569e-03 -2.67519057e-01  1.45412132e-01  3.42994392e-01\n  9.73871946e-01  1.20227188e-01 -2.39754021e-02  4.19714212e-01\n  3.83538783e-01 -2.48469904e-01  1.07790768e-01 -9.68244970e-02\n -3.63316864e-01  9.76549387e-02 -6.51422441e-01  6.08328462e-01\n  1.33008137e-02  8.49110782e-02 -2.79795021e-01  4.33418930e-01\n  9.68742222e-02  1.75849631e-01 -7.93300644e-02  7.09756613e-02\n  4.45006371e-01  9.05662775e-04 -4.01936471e-01 -2.87669003e-01\n  2.59273738e-01  2.16846168e-02 -3.69284213e-01  3.47647369e-01\n -4.55905348e-01 -1.17719799e-01 -2.68769056e-01  1.43101168e+00\n -4.78781164e-01 -2.54943401e-01 -2.65871823e-01  3.15109044e-01\n  2.91543812e-01  6.15416288e-01 -2.53968000e-01  1.49568945e-01\n -5.63400537e-02 -1.57660246e-03 -8.85389745e-02  9.08043385e-02\n -4.34577376e-01  3.16516131e-01  9.22556877e-01  1.10956717e+00\n -4.22206402e-01  2.55736351e-01  3.89054298e-01 -4.17157352e-01\n -6.11337364e-01 -2.66003191e-01 -3.83641124e-01 -1.02205348e+00\n  1.57894522e-01  1.87501043e-01  3.04377079e-03  2.70356983e-01\n -1.14344805e-03  5.00140071e-01 -4.26524013e-01  5.67366183e-02\n -2.11912990e-02 -7.29206741e-01  2.48281091e-01 -4.15331244e-01\n -8.66067350e-01 -3.90383571e-01  4.81843352e-02 -2.84580767e-01\n -2.09454060e-01 -7.71999121e-01 -3.99339586e-01  3.34938884e-01\n  2.81509966e-01 -3.75537902e-01 -2.25025147e-01 -3.92137319e-02\n -4.42547709e-01 -2.58504391e-01 -9.23031092e-01  9.66666639e-02\n -8.25543404e-02  2.46326953e-01 -2.32093006e-01 -2.93668240e-01\n -3.73179615e-02 -2.07674459e-01  1.11919045e-02 -2.55912542e-01\n -2.61581182e-01  1.96233124e-01 -1.98646605e-01 -4.71161574e-01\n -1.92703784e-01  1.52105212e-01  3.40266317e-01 -1.62752286e-01\n -1.30092606e-01 -3.46972823e-01  3.40595692e-01 -5.51312715e-02\n -2.95946211e-01  1.33576959e-01 -4.63668078e-01  4.01489258e-01\n  3.47747505e-01 -3.84340227e-01 -5.53528845e-01  1.82336584e-01\n -4.50076759e-01  4.41703498e-02 -2.29620785e-01 -2.86437750e-01\n -8.08274746e-01  3.77799958e-01 -2.01088786e-02 -2.42055154e+00\n  1.29155576e-01 -4.57264274e-01  1.79222405e-01  1.24615908e+00\n -1.61054954e-01  3.25950012e-02  1.55279979e-01  4.99800026e-01\n -6.57790005e-02  1.70838267e-01  4.94227141e-01 -3.75562608e-01\n -1.83883190e-01  2.42460728e-01 -2.95425594e-01  1.84755594e-01\n -4.69337523e-01  4.26356718e-02  3.34108502e-01 -1.24365836e-02\n -2.42521375e-01  1.66347861e-01  1.70174211e-01  2.78136134e-01\n  7.57056713e-01  2.37346634e-01  2.34259456e-01 -2.66265005e-01\n  2.76830822e-01 -1.44881099e-01  1.28744900e-01  4.66530919e-02\n -3.15576494e-02  3.45001787e-01  2.33134836e-01 -2.22007290e-01\n -1.92320094e-01  1.80012971e-01 -3.82685304e-01  1.06228054e+00\n -2.36616683e+00 -1.81543142e-01  7.77691007e-01  2.12583691e-01\n -2.92948812e-01 -2.98770547e-01 -4.69101012e-01  4.07291353e-01\n -3.10346395e-01 -1.95724875e-01 -2.25910231e-01  4.76338595e-01\n -9.23625082e-02  1.73010379e-01  1.76936984e-02 -1.76638499e-01\n -1.11187465e-01  3.61944377e-01  3.41340810e-01  3.15017939e-01\n -6.95528507e-01  7.82884955e-02  1.09177411e-01  2.72728682e-01\n -5.03870964e-01 -1.79722339e-01 -4.16948259e-01  2.58075118e-01\n -1.71193749e-01  4.44256037e-01  3.86372417e-01 -6.51493520e-02\n -1.69790700e-01  4.53369617e-01  3.33700776e-01  1.34951621e-01\n  5.29131472e-01  1.58500028e+00  2.45884359e-02 -1.18680716e-01\n  4.51488346e-01 -2.09629685e-02  1.90974981e-01 -3.48488986e-01\n -1.62233949e-01  3.55460763e-01  1.62721246e-01  5.01822710e-01\n  6.39796972e-01 -5.81061184e-01 -6.09795749e-03 -4.14618254e-01\n -3.68745863e-01  1.70051545e-01 -5.35978526e-02  1.38752162e-02\n  4.17649299e-01  1.45434320e-01 -6.32343367e-02 -7.09069744e-02\n -3.17306548e-01  2.41024017e-01 -2.16361552e-01 -4.38357666e-02\n  2.04041630e-01  5.91984868e-01 -5.15946269e-01  4.58637238e-01\n  1.92540944e-01 -8.51640344e-01 -5.69270134e-01 -2.69343972e-01\n -9.35603380e-02 -8.76714706e-01 -3.49132061e-01  2.11611599e-01\n  1.89751387e-01  1.72533870e-01 -1.48049593e-01  1.31510973e-01\n  4.89673689e-02  1.10728957e-01 -3.79646719e-01  9.86524165e-01\n -1.27309740e-01 -8.40189308e-03  2.38827169e-01  2.33536676e-01\n -6.84458017e-02  1.82299763e-01  1.86036319e-01 -6.08762264e-01\n -4.40251619e-01 -5.43190986e-02 -3.68928611e-01  9.67981815e-02\n  6.37722254e-01  9.00898725e-02 -4.11418021e-01 -2.05935031e-01\n -1.64905488e-02  2.01262489e-01 -6.52351558e-01 -4.55779642e-01\n -5.07124841e-01  5.58398142e-02 -1.02714747e-01 -1.44286871e+00\n -7.33820140e-01 -3.84902954e-02 -2.18960851e-01 -9.34270024e-01\n  6.75964475e-01  5.31156778e-01 -4.95435476e-01  1.74841464e-01\n -8.11596513e-02  1.52081043e-01  1.79526836e-01 -3.66891980e-01\n  8.03478718e-01 -1.42254293e-01 -1.62796468e-01  3.95765960e-01\n  3.37767482e-01 -2.66201794e-01  1.04588121e-01  1.50404572e+00\n  1.34294391e-01 -1.68664798e-01  3.16254020e-01 -3.48894149e-02\n -5.03700078e-01  9.40147936e-02 -6.76816344e-01 -1.21255219e-03\n  1.32501408e-01 -3.15879732e-01  2.36596107e-01  8.18951428e-02\n -5.14787853e-01 -1.90286249e-01 -2.61809945e-01 -1.65889397e-01\n  6.89494371e-01  3.97291660e-01  5.74109674e-01 -1.23410203e-01\n  5.24742365e-01 -5.43140650e-01 -2.75910735e-01  2.69268572e-01\n -7.27726221e-02 -1.31692350e-01 -3.14714789e-01  3.30175906e-01\n -1.39915511e-01 -1.32110715e-02 -2.93525398e-01 -2.22243816e-01\n -1.18568406e-01  9.91353393e-02 -1.04024023e-01 -1.61472410e-01]",
         "7777",
         "195395764",
         "17950766"
        ],
        [
         "165143",
         "148289801",
         "Колодки для обуви 1 шт",
         "[{'attribute_name': 'Type', 'attribute_value': 'Колодки для обуви', 'attribute_isaspect': False, 'attribute_showascharacteristic': False}\n {'attribute_name': 'Brand', 'attribute_value': 'Нет бренда', 'attribute_isaspect': False, 'attribute_showascharacteristic': True}\n {'attribute_name': 'Annotation', 'attribute_value': '<p><b>Kasafun Характеристики:</b></p><ul><li>1. Эффективно облегчить боль в ногах, боль в арке, боль в пятке, боль в лодыжке, расслабьтесь ногой.</li><li>2. Хорошо для восстановления подошвенного фасциита, правильного арочного провисания и чрезмерного процесса.</li><li>3. Сделано из качественного материала, мягкого и удобного для кожи, удобно носить.</li><li>4. обеспечивает дополнительную подушку и стабильность для ваших ног, улучшения состояния ног и правильной осанки.</li><li>5. Может быть вырезан, чтобы соответствовать вашей обуви, эффективно поддерживать вашу ногу, практичную для использования.</li></ul><p><br></p><p><b>Спецификация:</b></p><ul><li>Состояние: 100% совершенно новый</li><li>Item Type: Стелька</li><li>Материал: Ева+Нейлон</li><li>Цвет: красное дно+черная поверхность</li><li>Размер: S: 35-40: ок. 25 x 9 см (L x w) / 9,8 x 3,5 дюйма</li><li>L: 41-46: ок. 28 x 8,7 см (L x w) / 11,0 x 3,4 дюйма</li></ul><p><br></p><p><b>Список пакетов:</b></p><ul><li>1 x Pair of Orthotic Стелькаs</li></ul>', 'attribute_isaspect': False, 'attribute_showascharacteristic': True}\n {'attribute_name': 'ColorBase', 'attribute_value': 'черный', 'attribute_isaspect': True, 'attribute_showascharacteristic': True}\n {'attribute_name': 'NumItemsDcml', 'attribute_value': '1', 'attribute_isaspect': False, 'attribute_showascharacteristic': True}\n {'attribute_name': 'Name', 'attribute_value': 'Ортотические стельки, мягкие, для коррекции плоскостопия, для всех', 'attribute_isaspect': False, 'attribute_showascharacteristic': False}\n {'attribute_name': 'ColorBase_Forfilter', 'attribute_value': 'Черный', 'attribute_isaspect': False, 'attribute_showascharacteristic': False}]",
         "[ 3.09789121e-01 -9.23685730e-01 -5.80025852e-01  1.88936621e-01\n -1.57768607e-01  7.73689076e-02  6.85131997e-02  7.07391560e-01\n  7.01048434e-01 -9.63463664e-01 -2.33377874e-01  3.18155378e-01\n -3.04628044e-01  2.65646577e-01 -1.97759986e-01 -4.03997898e-01\n  1.82378292e-01  2.32709780e-01  3.31988513e-01 -1.11075187e+00\n  2.14555025e-01 -4.16283280e-01  1.63873821e-01 -1.96145386e-01\n -3.48897502e-02  1.43550321e-01  2.02764682e-02 -3.74333054e-01\n -1.29921436e-01  3.26074719e-01 -1.05233467e+00  3.78375977e-01\n -2.76151359e-01 -2.37575948e-01 -1.23090588e-01  3.33506465e-02\n -5.80298975e-02 -2.41925359e-01  9.92750973e-02  9.59310830e-02\n  4.40018892e-01 -4.17646915e-01  4.05047953e-01 -6.88581109e-01\n  2.31491685e-01 -4.02102530e-01  3.44289571e-01 -1.07573889e-01\n -3.49244952e-01 -1.03872046e-01  7.37002194e-01  5.41530997e-02\n -2.15216756e-01 -8.22031200e-02 -4.22973126e-01  1.00971147e-01\n -1.42268509e-01  2.55795121e-01  2.15448454e-01  2.14321047e-01\n  1.09486246e+00 -2.33157143e-01 -1.53347179e-02 -6.09379709e-02\n  6.35962188e-02 -2.23201558e-01 -4.81612086e-02 -1.23900068e+00\n -3.97968709e-01  3.91047359e-01 -5.25097489e-01 -2.54586399e-01\n  1.95233375e-02  1.71050698e-01  4.53614593e-01 -1.55623347e-01\n  1.55104160e-01 -3.09006363e-01 -2.37630174e-01  2.01188862e-01\n  2.44512036e-02  2.90428519e-01 -4.86613870e-01  7.88794756e-02\n  5.96479475e-02 -2.07224965e-01 -7.11657554e-02  2.64337599e-01\n  7.65458345e-01 -1.00791529e-01 -2.22707972e-01 -4.75909144e-01\n  1.35158509e-01 -1.26249105e-01 -1.48972154e-01  2.26410717e-01\n  3.52197289e-01 -7.11133182e-02 -6.23164028e-02 -1.54904038e-01\n  2.68869817e-01  9.39653456e-01 -4.66532469e-01  5.80822527e-02\n  3.21911544e-01  2.83701196e-02  1.13830030e-01 -1.35968435e+00\n -9.03360695e-02 -4.27394807e-01 -1.11761427e+00  3.73149067e-02\n  2.81032860e-01  5.70745543e-02  4.01450753e-01  2.66722172e-01\n -1.93630338e-01  1.33786321e-01  8.67958218e-02  4.04463500e-01\n -2.62984991e-01  4.84690011e-01 -1.89760059e-01  4.56214666e-01\n  1.82326332e-01  1.39653981e-02  1.67218804e-01 -2.36537278e-01\n -4.83857393e-02  5.75656891e-01  2.35143289e-01 -1.01587027e-02\n  5.43697596e-01  5.05868122e-02 -2.39867464e-01  4.23893511e-01\n  4.21783388e-01  2.31205359e-01 -1.91270709e-02  1.80197120e-01\n  4.77294862e-01 -5.24912775e-02  1.63832426e-01  3.29212919e-02\n -4.06413227e-01 -1.97334558e-01 -3.81857216e-01  2.10219353e-01\n -1.07826553e-01 -2.91816086e-01 -2.59523481e-01  6.58487558e-01\n  4.68208790e+00  2.10308880e-02  2.02555493e-01  2.86616206e-01\n  9.56923664e-02 -2.22409129e-01  6.28902540e-02  8.20860863e-02\n -1.59328535e-01 -8.35742578e-02  9.38341618e-02  2.38835275e-01\n  3.40064108e-01 -1.09478605e+00 -2.01775581e-01 -2.29612902e-01\n -2.41097122e-01  2.45823145e-01  7.53521979e-01  4.49495912e-01\n  2.68590450e-03  1.51963159e-01  1.62860632e-01  7.42438257e-01\n  9.76382345e-02 -1.94807798e-02 -4.86502552e+00  8.78819078e-03\n  3.40077937e-01  5.20695448e-02 -5.55426776e-01  2.93116391e-01\n  1.70574218e-01 -3.70503962e-02  3.23230475e-01  2.38991231e-01\n  8.08791518e-01 -2.43942499e-01  9.32068825e-02 -8.44619811e-01\n  5.09084105e-01 -9.37799662e-02  4.71982718e-01  4.03895050e-01\n -1.99523449e-01  8.56257975e-02  1.14763573e-01 -1.46487042e-01\n -5.93688130e-01  1.30063272e+00  2.87560135e-01 -5.88137656e-02\n  1.48467705e-01  2.03715414e-01  5.81913471e-01 -4.37751293e-01\n  3.37294757e-01 -1.11474961e-01 -1.92359537e-02  1.54375345e-01\n  2.20437020e-01  4.57867116e-01 -5.46915054e-01  3.51143152e-01\n  2.25305706e-02 -3.05084944e-01 -8.50116611e-02  4.01686341e-01\n  1.81260854e-01 -1.26170218e-01 -5.95620990e-01  2.11077332e-01\n  2.81883359e-01  4.87257421e-01  1.78146690e-01 -2.68630028e-01\n  2.36710072e-01  4.91558105e-01 -4.37353551e-01  2.72836506e-01\n -1.19555891e-02  1.60555467e-01  6.60384893e-01  9.08971608e-01\n  3.28358024e-01 -2.07524180e-01  3.90202284e-01 -1.94844067e-01\n  1.16368461e+00  1.65707022e-01 -1.10584423e-01  2.22174883e-01\n -1.88139811e-01  4.18793187e-02  5.04500091e-01  2.27727324e-01\n -5.81759393e-01 -4.13781941e-01 -3.79559726e-01 -2.33828187e-01\n -4.05887127e-01 -5.25174141e-01 -5.88743389e-03  8.96469355e-02\n -2.28634357e-01 -3.62184227e-01  3.27720433e-01  2.82881886e-01\n -2.21932620e-01 -7.69759953e-01 -2.54618138e-01  1.79570928e-01\n -2.29585335e-01  6.39406562e-01 -3.79302025e-01 -1.09902889e-01\n  2.52791524e-01 -2.01168239e-01 -9.76414442e-01  2.20873505e-01\n  2.20568046e-01  2.93134600e-01  1.75868422e-01 -5.49635410e-01\n -2.76417881e-01 -4.51223016e-01 -2.42716953e-01 -5.42706698e-02\n -1.97753042e-01  3.44191253e-01 -2.39116311e-01 -4.61585701e-01\n -2.42232889e-01  4.83430505e-01 -1.64977133e-01 -2.81901479e-01\n  2.79366404e-01 -4.57090795e-01  6.02053881e-01  1.93552449e-01\n -8.56474042e-04 -3.84486765e-02  2.23023653e-01  2.00761527e-01\n -1.13588616e-01 -6.05968416e-01 -3.77693683e-01  2.58695632e-01\n -7.30892837e-01  4.99781609e-01  2.57766575e-01 -2.74623364e-01\n -9.90532041e-02 -2.14389145e-01  3.65040183e-01 -4.69582176e+00\n  3.81584585e-01 -1.22640625e-01 -2.93747067e-01  8.77678394e-01\n -1.69324756e-01 -3.74834895e-01  1.00751624e-01  9.10104990e-01\n -1.05943888e-01 -2.63474047e-01  4.77856398e-02 -6.82122648e-01\n -4.31211650e-01  1.51332580e-02 -1.88748538e-01  5.89133024e-01\n  5.76923132e-01 -1.49121866e-01  1.52903542e-01  1.58400238e-01\n -4.03065860e-01 -6.12339318e-01 -9.79680717e-02 -1.28818780e-01\n  4.69002157e-01 -3.29919666e-01  4.50429171e-01  7.18638301e-01\n  3.18418801e-01  5.41359067e-01  5.03888130e-01 -3.78802001e-01\n -6.04353845e-02 -8.55362788e-03 -3.51429343e-01  3.16042721e-01\n -6.12591326e-01  1.54275432e-01  1.47116691e-01  2.39665106e-01\n -1.14937711e+00 -5.46488166e-01 -2.68433094e-01  9.14473236e-02\n -2.66638398e-01  1.32668048e-01  4.35685873e-01 -4.59966153e-01\n  1.56525671e-01 -5.11769652e-02 -1.70734197e-01  2.50166953e-01\n -5.06447077e-01  4.40858275e-01 -5.29961705e-01 -4.45456743e-01\n -4.32968974e-01 -2.30917171e-01  3.19590747e-01  2.46737637e-02\n -2.43332356e-01  7.68955827e-01  5.74194908e-01  2.45423436e-01\n -3.34105700e-01  5.65488696e-01 -1.02303505e-01  1.06072521e+00\n -1.69838041e-01  1.26242518e-01  3.61314595e-01  8.26027542e-02\n -4.74883318e-02  9.97444034e-01  3.17807466e-01  2.10562766e-01\n  4.50299680e-02  1.02318907e+00  1.15055144e-01 -3.43650967e-01\n  3.05672079e-01  3.51112992e-01 -2.94867754e-02 -4.46712114e-02\n -2.61261314e-01  4.54325140e-01  1.09659716e-01  1.37526721e-01\n  3.60499203e-01 -4.54352617e-01  2.51702636e-01  8.16667318e-01\n  5.82134128e-02  5.58810592e-01 -4.04663831e-01 -3.83563221e-01\n  6.62339568e-01  5.96724689e-01  1.03105932e-01 -3.31703037e-01\n  2.39967108e-02  1.35226935e-01  2.03546733e-01  2.28211001e-01\n  1.01761663e+00  4.56019163e-01 -4.18884397e-01  1.78889006e-01\n  1.11625805e-01  2.07568377e-01 -1.24732226e-01 -1.69695288e-01\n -4.74649966e-01  1.55475527e-01  2.70867646e-01  1.48480788e-01\n  1.33779347e-02  2.70228297e-01 -3.44295412e-01  2.69453436e-01\n  6.53591990e-01 -6.46306872e-02 -4.35487181e-01  1.40673351e+00\n  1.49676293e-01 -2.21309811e-02  5.32406092e-01 -4.00846601e-02\n  7.77772814e-03 -4.39708233e-01 -1.19374216e-01 -2.15787977e-01\n  9.47689116e-02  1.77940011e-01 -7.12944806e-01 -9.59662497e-02\n -1.83629453e-01  1.14223450e-01 -1.25801042e-01 -1.28662169e-01\n -1.46615267e-01  3.57279271e-01 -1.92908853e-01 -7.54005387e-02\n -2.31892630e-01 -1.09029755e-01  7.55511671e-02 -1.33982718e-01\n -4.72485200e-02  4.03414041e-01  4.43939626e-01 -4.06435668e-01\n  2.99194038e-01 -8.66603851e-02 -1.11968786e-01 -4.65536356e-01\n -3.21058482e-02 -2.51725972e-01  2.50888169e-02  5.31319320e-01\n  1.86040312e-01  1.86387897e-02  3.30228686e-01 -7.10183978e-02\n -4.58810151e-01 -5.94726562e-01 -2.93221474e-02  9.36155856e-01\n  1.10534355e-02 -2.65913725e-01 -9.79737341e-02 -3.01808387e-01\n -1.39024764e-01 -5.15300751e-01  1.08547658e-01  4.65817958e-01\n  1.18486807e-01 -7.23645866e-01  8.30296278e-01 -3.58023942e-02\n  1.88777745e-02  2.16024384e-01  1.67131901e+00  1.28033161e-01\n  3.35607797e-01  6.14387810e-01 -2.66788363e-01  2.22910583e-01\n  5.19841239e-02 -1.80629879e-01 -5.23058295e-01  8.45638439e-02\n -3.20134461e-01 -3.24963540e-01  2.85717607e-01 -6.45769596e-01\n  5.68206191e-01  7.39318579e-02 -1.08652160e-01 -8.38178575e-01\n  3.31585765e-01  2.55501688e-01  3.67879480e-01 -5.97787917e-01]",
         "7777",
         "153866471",
         "9048513"
        ],
        [
         "174299",
         "177241601",
         "Колодки для обуви 1 шт",
         "[{'attribute_name': 'Type', 'attribute_value': 'Колодки для обуви', 'attribute_isaspect': False, 'attribute_showascharacteristic': False}\n {'attribute_name': 'Brand', 'attribute_value': 'Нет бренда', 'attribute_isaspect': False, 'attribute_showascharacteristic': True}\n {'attribute_name': 'Annotation', 'attribute_value': 'Размер:<br><br>ЕС 35-36 (США 4,5-5)<br><br>ЕС 37-38 (США 5,5-6)<br><br>ЕС 39-40 (США 6,5-7)<br><br>ЕС 41-42 (США 8-9)<br><br>ЕС 43-44 (США 9,5-10,5)<br><br>ЕС 45-46 (США 11-12)<br><br>Спецификация:<br><br>Раздельный носок с регулируемой шириной и ползунковой пластиной для идеальной посадки по ширине<br><br>Можно регулировать по ширине<br><br>Полностью очерченный каблук удобно заполняет обувь и обеспечивает плотную посадку<br><br>Поддерживает идеальную форму обуви, предотвращает появление складок и морщин<br><br>Цвет: желтый<br><br>Подрамники для обуви используются для растягивания обуви на низком каблуке по ширине и длине', 'attribute_isaspect': False, 'attribute_showascharacteristic': True}\n {'attribute_name': 'ColorBase', 'attribute_value': 'желто-оранжевый', 'attribute_isaspect': True, 'attribute_showascharacteristic': True}\n {'attribute_name': 'ColorName', 'attribute_value': 'EU35-EU41（1PC）  K9D', 'attribute_isaspect': True, 'attribute_showascharacteristic': True}\n {'attribute_name': 'AgeO', 'attribute_value': 'Взрослая', 'attribute_isaspect': False, 'attribute_showascharacteristic': False}\n {'attribute_name': 'Material', 'attribute_value': 'ABS пластик', 'attribute_isaspect': False, 'attribute_showascharacteristic': True}\n {'attribute_name': 'Material', 'attribute_value': 'Сталь', 'attribute_isaspect': False, 'attribute_showascharacteristic': True}\n {'attribute_name': 'NumItemsDcml', 'attribute_value': '1', 'attribute_isaspect': False, 'attribute_showascharacteristic': True}\n {'attribute_name': 'Name', 'attribute_value': 'колодки для растяжки обуви Формодержатели пластмасса,Размер 35/41,1PC', 'attribute_isaspect': False, 'attribute_showascharacteristic': False}\n {'attribute_name': 'ColorBase_Forfilter', 'attribute_value': 'Оранжевый', 'attribute_isaspect': False, 'attribute_showascharacteristic': False}]",
         "[ 6.72557950e-03 -1.37632120e+00 -6.82842612e-01 -1.69327632e-02\n -1.85172275e-01 -1.09564185e-01  5.98597646e-01  2.70280242e-01\n -1.06045261e-01 -5.68255246e-01 -1.61492527e-02  1.10323802e-01\n -4.67917919e-01 -6.34531856e-01  1.16066992e-01 -7.67070353e-02\n -4.82345402e-01  1.95144504e-01  1.93159431e-01 -2.70094365e-01\n  2.09453806e-01  8.34006071e-02  2.74724737e-02 -1.43710300e-02\n  2.18901098e-01 -5.37139833e-01 -1.49899259e-01  9.92055088e-02\n -8.20152909e-02  5.31832695e-01 -1.04290903e-01  7.29588270e-02\n -3.16252947e-01  1.43662989e-02 -3.41038227e-01 -6.64167881e-01\n  3.35489899e-01 -1.67538971e-01  6.14529192e-01 -2.54439026e-01\n  1.88616306e-01 -3.18684787e-01  1.22805052e-01 -4.61627126e-01\n  2.49641046e-01 -4.62359190e-01  2.84601450e-01  2.52627164e-01\n -4.56820548e-01 -1.40626341e-01  2.34188229e-01  5.07139415e-02\n  8.81773680e-02  2.73360014e-01 -1.18875468e+00  1.13251925e-01\n  1.53147414e-01 -2.65087783e-01 -1.36192739e-02 -1.09989092e-01\n  7.90178359e-01 -3.96154493e-01  2.39950120e-02 -1.99901938e-01\n -8.94615054e-02 -9.05924514e-02  3.62273365e-01 -8.28647792e-01\n -2.68382013e-01  1.87274754e-01 -6.36846066e-01 -3.70649964e-01\n  2.08958730e-01 -4.45944518e-01  1.82505086e-01 -6.19412422e-01\n  3.78993452e-01 -9.52084184e-01  5.77410400e-01  4.58063096e-01\n  2.99329460e-01 -2.00549662e-02 -4.40769792e-01  1.81405246e-01\n  1.60253197e-01  2.63666034e-01 -3.32032591e-02 -1.38559937e-01\n  5.33374965e-01  3.12950015e-02  3.68924320e-01  8.72837827e-02\n  8.28345060e-01  1.96109012e-01 -1.98670864e-01  1.22240186e-03\n  5.03809154e-01  1.92338377e-02 -3.29212308e-01 -2.32136384e-01\n -6.61283612e-01  4.10471082e-01 -3.54105145e-01  2.75705755e-03\n -1.38329268e-02  3.80368978e-01 -3.32020700e-01 -3.05229425e-03\n  1.28507316e-02 -3.91134322e-01 -5.00471830e-01  7.26148486e-03\n  2.63581514e-01 -4.34750989e-02 -2.58484751e-01  1.84700429e-01\n  1.22800417e-01 -3.69338766e-02  3.47541362e-01  5.68155944e-01\n  3.87375057e-03 -1.62473470e-01  2.24639088e-01 -1.45559654e-01\n  1.02252930e-01 -1.55840516e-01  5.28954744e-01 -2.20165923e-01\n  2.66807318e-01  1.87670141e-01 -1.48186922e-01 -9.34382603e-02\n  2.58554667e-02 -9.14846063e-02  7.17643499e-02 -6.97554648e-01\n -4.84395832e-01  4.74454254e-01  6.46096051e-01  5.97066641e-01\n  6.50180697e-01 -5.42238951e-02  9.91716459e-02  4.43499804e-01\n  4.63420153e-03 -1.99802160e-01 -3.32687110e-01  1.56983614e-01\n  5.46875119e-01  7.02176988e-03 -3.35396290e-01  3.17576826e-02\n  3.02901077e+00  3.36493775e-02  8.40301961e-02 -5.74608520e-02\n  1.76193789e-01 -2.61313468e-02  5.11603236e-01  1.15758479e-02\n -3.79526988e-02 -1.85911909e-01  2.96316922e-01 -2.95914292e-01\n  6.55519783e-01 -1.04127765e+00 -9.78975222e-02 -1.92347556e-01\n -7.88310021e-02  4.82128412e-02 -3.05351585e-01  2.92431861e-01\n  4.19106513e-01  1.13056749e-02  2.96549767e-01  1.41672921e+00\n  2.32580334e-01 -9.78101492e-02 -2.51273084e+00 -4.30635631e-01\n -8.81911397e-01  3.04721862e-01 -5.39858878e-01  2.32573450e-02\n  2.75866508e-01  2.09189653e-01  3.91229153e-01  1.55343980e-01\n  9.77246583e-01 -1.19570561e-01 -6.48960352e-01 -2.53252745e-01\n -2.72668391e-01  3.61259192e-01  1.59228206e-01  2.31173784e-01\n -7.61160478e-02  2.44238168e-01 -1.53158605e-02  3.90937418e-01\n -1.52855456e-01 -3.48760575e-01  4.98692334e-01 -2.63124019e-01\n -4.78774756e-01 -4.40267861e-01  1.66802108e-03  1.85585469e-01\n  1.93403333e-01 -1.16815053e-01  3.49474698e-02 -1.17027569e+00\n  4.46319878e-01  2.44911343e-01 -2.86734998e-01  2.49708891e-02\n  8.52963388e-01 -2.69668698e-02  5.22331148e-02  1.16297436e+00\n  2.37950683e-03  8.42345282e-02 -4.35628146e-02 -5.05942464e-01\n -1.31864816e-01 -6.60222918e-02  3.14255446e-01 -4.98238176e-01\n  1.30202204e-01  5.45501649e-01  1.17543742e-01  7.39753097e-02\n  3.63198698e-01  4.99698520e-01  4.10910308e-01  3.30465347e-01\n -5.07255681e-02  1.90104336e-01  2.08339095e-02 -1.60625711e-01\n  5.76176822e-01  3.55532244e-02 -1.44572124e-01 -1.44235194e-01\n -1.89559400e-01 -3.48843813e-01  2.54747897e-01 -1.53247154e+00\n -3.59529287e-01 -4.87159073e-01  1.07007289e+00 -1.60844326e-01\n -3.61526072e-01 -6.36786342e-01  5.76794207e-01 -4.72307503e-02\n  6.19533062e-02  1.68991536e-01 -8.47987354e-01 -1.33523703e-01\n -4.64277446e-01 -3.12246382e-03 -3.36710364e-02  3.75628471e-03\n  9.14866030e-02 -2.53731072e-01  2.17775643e-01  2.54044086e-01\n -1.68174490e-01 -1.62640616e-01 -1.96164715e+00  1.74962193e-01\n  3.61774862e-02 -1.82357311e-01  2.33254358e-01 -9.36493278e-02\n  9.83451605e-02 -4.49941680e-03  2.65614808e-01 -2.32798070e-01\n  3.08827072e-01  2.77202934e-01  1.99815214e-01 -6.40639186e-01\n  8.88002366e-02  4.75473136e-01 -1.79241896e-01 -5.30515611e-03\n  1.73510313e-02 -3.76211077e-01  4.94497150e-01  1.21152148e-01\n -1.47463188e-01 -2.98237264e-01 -2.13496402e-01 -1.67274386e-01\n  3.85826617e-01 -6.97314620e-01 -3.04400951e-01  2.03844249e-01\n -8.35854411e-02  3.42746079e-03 -1.59995347e-01 -6.92717433e-02\n -7.28759050e-01 -2.61944026e-01  6.25649333e-01 -3.02598238e+00\n  5.26078939e-02  3.53915930e-01 -2.18471885e-01  1.53978729e+00\n  5.77286541e-01  2.72767484e-01  4.07163560e-01  7.09983706e-01\n  2.63442010e-01 -1.92558676e-01 -1.13279849e-01 -2.17345983e-01\n -4.86603320e-01  2.86001712e-03  4.86720502e-01  4.32641715e-01\n -1.36013627e-02 -4.63661551e-01  6.86332047e-01 -1.15779497e-01\n -2.46917844e-01  1.62392035e-01 -2.10253865e-01 -1.43443897e-01\n  2.08969355e-01 -4.41001773e-01 -5.26774786e-02  7.68861413e-01\n  3.41363817e-01  6.96465224e-02 -1.40182599e-01 -7.73966014e-02\n  6.20574094e-02  2.23842561e-02  9.46782529e-03 -1.62326232e-01\n -8.10828686e-01  4.09133583e-01  1.54420108e-01  8.06455687e-02\n -4.89428639e-04 -4.12196040e-01  1.23857826e-01 -1.30531251e-01\n -7.13748336e-01 -1.72345906e-01 -4.01494205e-01 -9.73885506e-02\n -1.87068522e-01 -5.33004880e-01  2.06565559e-01  4.01708037e-02\n -3.02665979e-02  2.36783773e-01 -3.90348196e-01 -5.95245600e-01\n -5.30958712e-01 -7.07736015e-02 -8.68934155e-01  4.67956007e-01\n -1.04732180e+00 -4.73785132e-01 -2.12927490e-01 -2.68965065e-01\n -2.48472333e-01 -4.75129932e-02  3.00467044e-01 -2.47352377e-01\n  6.36581481e-01 -8.78128707e-02  5.51433086e-01  4.06849682e-02\n  4.80228961e-02 -1.37169823e-01  2.97358990e-01 -2.35393539e-01\n  6.70492351e-02  1.58185852e+00  2.54752368e-01 -9.12562013e-02\n  1.48494259e-01 -1.74810603e-01 -1.08743593e-01 -2.12770373e-01\n  8.73642713e-02 -1.59325898e-02 -5.93650818e-01  4.65810299e-01\n  8.34439278e-01 -4.05757010e-01  4.41290975e-01  3.27471048e-02\n -3.59137923e-01  2.36745670e-01 -6.26859903e-01 -3.40354085e-01\n  3.45649123e-01 -2.92390943e-01  4.73249316e-01 -5.14279127e-01\n -3.35084945e-01  5.80062494e-02  1.47265524e-01  4.22772050e-01\n  7.20900714e-01  4.04567689e-01 -2.76278794e-01  3.41745347e-01\n -2.07746610e-01  2.25762412e-01 -1.45844206e-01 -7.42721111e-02\n -6.38687387e-02 -4.47715670e-01 -8.76443535e-02  3.84352803e-02\n  3.22714537e-01 -1.62529916e-01 -1.73097849e-01  4.53744829e-01\n  4.46911991e-01 -5.45305610e-01 -9.38752830e-01  1.49297023e+00\n -1.48092896e-01  3.57354581e-02  2.24183425e-02  7.74297342e-02\n  4.74624485e-01  4.81882334e-01  3.18557024e-01 -4.29366529e-01\n -4.79669303e-01 -1.57265335e-01 -8.34373057e-01  1.01249054e-01\n  7.17682093e-02  4.80749846e-01  4.05655622e-01 -5.24474382e-02\n  2.70549715e-01  3.06103170e-01  1.80374071e-01 -4.20365602e-01\n -5.03959060e-01  2.42817998e-01  2.17491716e-01  1.02235198e-01\n  9.45143402e-05 -1.08879387e-01  3.63814831e-01  2.23351881e-01\n  2.80305266e-01  2.89622664e-01 -3.37819271e-02  3.64776611e-01\n  1.47378892e-01  3.91784906e-01  8.96428749e-02  1.11280955e-01\n  1.84695601e-01 -2.46210694e-01  2.19636604e-01 -8.38873327e-01\n -5.83492815e-01  4.21662837e-01 -7.64364749e-02  3.28820050e-02\n -1.60862967e-01 -5.45779228e-01  4.46049094e-01  7.27000713e-01\n  6.82282805e-01  1.96775794e-03 -5.85492074e-01  7.50207543e-01\n -3.06243896e-01 -7.26905286e-01  1.66545227e-01 -2.23157272e-01\n -5.77117503e-01  3.95246327e-01 -4.09531951e-01  1.56339884e-01\n -8.91353935e-03  4.45480764e-01 -6.87201679e-01  7.11315036e-01\n  6.69818670e-02 -4.39525127e-01 -2.97021329e-01 -3.18031907e-01\n -2.28898644e-01  2.68154085e-01 -4.56369400e-01 -7.94235885e-01\n  1.63975954e-01  5.36880344e-02 -1.76772729e-01 -2.13805169e-01\n  3.56833756e-01 -2.91954815e-01 -2.17592403e-01  1.27241254e-01]",
         "7777",
         "212554308",
         "28986473"
        ],
        [
         "185290",
         "12590245",
         "Растяжитель для обуви, винтовой, Колодки, Растяжка для обуви женской, VALVI, бук, р.37/39, 1шт.",
         "[{'attribute_name': 'Type', 'attribute_value': 'Колодки для обуви', 'attribute_isaspect': False, 'attribute_showascharacteristic': False}\n {'attribute_name': 'Brand', 'attribute_value': 'VALVI', 'attribute_isaspect': False, 'attribute_showascharacteristic': True}\n {'attribute_name': 'Annotation', 'attribute_value': 'Растяжитель винтовой для женских ботинок.<br/><br/>Растяжитель для обуви, Колодки для обуви, Растяжка для обуви, Растяжитель обувной, Растяжитель винтовой для женской обуви, VALVI, бук, р.37/39, (1шт.)', 'attribute_isaspect': False, 'attribute_showascharacteristic': True}\n {'attribute_name': 'ColorBase', 'attribute_value': 'бежевый', 'attribute_isaspect': True, 'attribute_showascharacteristic': True}\n {'attribute_name': 'ColorName', 'attribute_value': '37,39', 'attribute_isaspect': True, 'attribute_showascharacteristic': True}\n {'attribute_name': 'AgeO', 'attribute_value': 'Взрослая', 'attribute_isaspect': False, 'attribute_showascharacteristic': False}\n {'attribute_name': 'Material', 'attribute_value': 'Бук', 'attribute_isaspect': False, 'attribute_showascharacteristic': True}\n {'attribute_name': 'NumItemsDcml', 'attribute_value': '1', 'attribute_isaspect': False, 'attribute_showascharacteristic': True}\n {'attribute_name': 'Name', 'attribute_value': 'Растяжитель для обуви, винтовой, Колодки, Растяжка для обуви женской, VALVI, бук, р.37/39, 1шт.', 'attribute_isaspect': False, 'attribute_showascharacteristic': False}\n {'attribute_name': 'SexMaster', 'attribute_value': 'Мужской', 'attribute_isaspect': False, 'attribute_showascharacteristic': False}\n {'attribute_name': 'SexMaster', 'attribute_value': 'Женский', 'attribute_isaspect': False, 'attribute_showascharacteristic': False}\n {'attribute_name': 'SexMaster', 'attribute_value': 'Мальчики', 'attribute_isaspect': False, 'attribute_showascharacteristic': False}\n {'attribute_name': 'SexMaster', 'attribute_value': 'Девочки', 'attribute_isaspect': False, 'attribute_showascharacteristic': False}\n {'attribute_name': 'ColorBase_Forfilter', 'attribute_value': 'Бежевый', 'attribute_isaspect': False, 'attribute_showascharacteristic': False}]",
         "[ 1.27497718e-01 -7.58486569e-01 -4.36699331e-01 -3.77728045e-02\n  3.64366293e-01 -3.01745504e-01  5.78503847e-01  3.88782084e-01\n -1.27913475e-01 -7.54952490e-01  3.54571998e-01  2.63603866e-01\n -3.45707655e-01 -7.14043856e-01 -8.93566832e-02  2.32718080e-01\n -2.09638178e-01 -2.65736997e-01 -2.61274219e-01 -3.32361460e-02\n  1.06302127e-01  8.90767425e-02  1.35201514e-02 -8.31852257e-02\n  5.78162074e-01 -5.36601067e-01  6.62377477e-02  2.76699483e-01\n -3.60845923e-02  2.69089639e-01 -4.97383773e-01  1.75996125e-01\n -5.67659438e-02  4.71554756e-01 -5.97072244e-01  1.54271796e-01\n -3.93160135e-02  8.08257401e-01 -2.13352293e-01 -1.62647650e-01\n  8.06489885e-02  1.76543705e-02  6.89188600e-01  4.16473001e-02\n  6.35112643e-01 -1.18798465e-01  2.28554010e-03  2.53032088e-01\n -2.24125922e-01 -5.17520010e-02 -1.55238256e-01  1.76026762e-01\n  5.04986346e-02  4.37988132e-01 -8.10349658e-02 -1.58516631e-01\n  4.41880077e-02  2.93979883e-01  6.92761764e-02  1.27859354e-01\n  2.16676489e-01 -1.55394584e-01  5.77270389e-02  6.68702662e-01\n -3.54007810e-01 -1.91540807e-01 -1.91778362e-01  5.97047985e-01\n  1.15165710e-01 -2.78006285e-01 -8.19049835e-01 -6.21223092e-01\n -3.02924216e-01 -1.25225514e-01  3.09836894e-01 -5.59490383e-01\n -2.82842219e-01 -8.69825855e-02  7.76319683e-01 -1.31311163e-01\n -3.09775472e-01  3.51654768e-01 -2.44206056e-01 -2.78544784e-01\n  3.82066220e-01  5.78837842e-02 -2.16648683e-01  8.21198702e-01\n  1.05111957e+00  3.71712357e-01 -1.56404510e-01  5.13575315e-01\n  6.09422028e-02  5.16520381e-01 -3.22912544e-01 -7.98948646e-01\n  2.36220598e-01  6.25602365e-01  6.60305858e-01  3.46742421e-01\n -3.03671271e-01  8.43936920e-01 -2.57970482e-01  8.38613510e-02\n  2.67282009e-01  5.27462177e-02 -5.65515459e-01 -9.74412084e-01\n -5.19745708e-01 -9.55314040e-02 -7.47442961e-01  2.14757934e-01\n  4.55045342e-01  5.61341166e-01  1.10225551e-01 -9.04341638e-01\n  3.85045022e-01 -3.41438890e-01  2.95936167e-02 -9.98854190e-02\n -1.65649533e-01  4.53876704e-02  9.60538983e-02  9.03500170e-02\n -1.37495250e-01 -1.46142542e-01  9.29695517e-02  9.09428537e-01\n  3.59795392e-02  1.73387617e-01 -2.17903495e-01 -2.42461324e-01\n -9.21781957e-02 -5.10418564e-02  8.74214321e-02 -1.04034089e-01\n  2.47997850e-01 -3.66985798e-03 -1.40255317e-02  5.55049658e-01\n  3.00263941e-01  1.18997701e-01  1.24747619e-01  2.72019982e-01\n  3.43912840e-03 -3.66612785e-02 -1.68228626e-01  4.52922434e-01\n  5.56379557e-01 -1.89101592e-01  3.90608668e-01 -5.34613132e-01\n  1.52331412e+00 -4.45361704e-01  3.38166207e-01  7.10742354e-01\n  1.35577619e-02  5.04901588e-01  4.77736712e-01 -2.89211750e-01\n -5.58429837e-01 -7.34930634e-01  1.09828942e-01  5.06786585e-01\n  1.92844301e-01 -2.65303701e-01  3.71676564e-01  1.03650615e-01\n  1.23681657e-01  7.52160549e-01 -1.83021486e-01  5.08048177e-01\n  3.21800530e-01 -5.31212091e-02 -2.79794276e-01  3.75762582e-01\n  3.42180729e-01  3.22529554e-01 -2.04380751e+00 -1.99826881e-01\n -2.30542287e-01  3.71582508e-01 -3.34045082e-01  3.01363841e-02\n -5.01088202e-02 -2.53992110e-01  5.36584795e-01  2.13133872e-01\n  3.59194219e-01  1.63055658e-02  4.45929438e-01 -2.60796547e-01\n -3.04911196e-01  4.40237187e-02  3.11959326e-01  1.47016048e-02\n -3.42982680e-01 -5.45604050e-01 -7.37561703e-01  1.57710508e-01\n  1.19049534e-01 -4.71308053e-01  3.47150147e-01 -2.56055325e-01\n -1.71987265e-02 -2.29052573e-01 -4.03949469e-02 -3.70956242e-01\n  1.49170965e-01 -3.56712788e-01  2.46421203e-01 -2.44480446e-02\n -2.64452249e-01 -8.53885710e-03 -2.60462128e-02  5.23570657e-01\n  5.43561757e-01 -3.27839524e-01 -3.46876800e-01  8.80732238e-01\n -9.05319154e-02 -5.94279647e-01  2.60755867e-01 -3.00437748e-01\n -2.22487032e-01 -5.30111372e-01  3.35459292e-01 -1.08314157e-02\n  9.83832181e-02 -1.64192319e-01 -5.47947288e-01 -4.67347533e-01\n -1.20335229e-01  1.49811924e-01  5.84919930e-01  2.00116515e-01\n -5.79355180e-01  1.28495798e-01  5.40039539e-01 -3.46120030e-01\n  2.04715505e-01 -7.12626457e-01  2.14470625e-02 -3.73878658e-01\n -1.74157158e-01  2.82017648e-01  6.10902309e-01  5.03268167e-02\n -1.89683795e-01  4.21637297e-01  7.22463429e-01 -2.18695492e-01\n  1.46365225e-01 -8.18699718e-01 -3.49224985e-01  4.22187507e-01\n -2.02864379e-01  1.76294804e-01  9.89156067e-02 -6.75625429e-02\n -4.50221807e-01 -9.29204449e-02 -4.75028127e-01 -5.39808631e-01\n  6.45646751e-01 -1.70286596e-02 -3.02912921e-01 -3.69830459e-01\n  2.12287605e-02 -2.50843346e-01 -9.41125929e-01  3.46383899e-02\n -5.48632219e-02 -4.68897462e-01  3.55314463e-01 -2.74133801e-01\n -5.01305312e-02  9.76719856e-02  4.04065549e-02  1.97671592e-01\n  4.38509136e-01  2.35589772e-01  1.08188018e-01  1.51668400e-01\n  1.23622157e-01 -1.56433448e-01 -5.15634179e-01  1.96831435e-01\n  2.40575373e-01  2.03107595e-02  1.77689165e-01  8.20451438e-01\n -8.21232796e-03 -1.56829551e-01  2.26016089e-01 -3.47772747e-01\n -6.36868715e-01 -3.99428487e-01 -2.20098242e-01  1.65315494e-01\n  7.61777461e-01 -2.50889838e-01  5.33805043e-02 -3.08493018e-01\n -5.82219422e-01  2.82773852e-01  6.59616768e-01 -1.52620029e+00\n  6.10821024e-02  1.21147677e-01  5.97265624e-02  6.01402581e-01\n -3.06668609e-01  2.43396938e-01  3.94339710e-01  6.06254339e-01\n -5.38414717e-01 -5.88190675e-01 -1.33978471e-01 -5.76691210e-01\n -4.33386564e-01  3.95862371e-01 -1.15271136e-01 -4.19143587e-02\n -4.82354015e-01 -1.06921658e-01  7.14513898e-01 -5.00704110e-01\n -3.84330332e-01  2.51672804e-01 -1.64145738e-01 -5.77139258e-02\n  8.30950975e-01  2.30320841e-01  2.51445770e-01  1.07446551e-01\n  5.17708302e-01 -7.70324171e-02 -4.78339314e-01 -2.02124305e-02\n -1.81958482e-01  3.89615774e-01  2.80433476e-01  4.01120931e-02\n -2.60139823e-01  3.49180251e-02 -2.28088200e-02  2.74996281e-01\n -1.33597827e+00  3.80177319e-01  4.32674795e-01 -5.33933997e-01\n  5.25810540e-01  5.85615635e-05 -5.80288112e-01  1.97855264e-01\n -2.14622587e-01 -4.12775308e-01 -4.89154160e-02  7.65534997e-01\n -5.97984046e-02  2.30305076e-01  3.63569647e-01 -3.06007057e-01\n  2.99241841e-02 -5.46270311e-02 -2.39922673e-01  1.37032047e-01\n -1.05730081e+00  2.52693743e-02 -2.89066851e-01 -7.09732115e-01\n -4.96972650e-01 -3.20182234e-01  6.62616074e-01 -5.23207635e-02\n  5.00889897e-01  7.76009858e-01  4.10939395e-01  2.99016684e-02\n  3.50588441e-01  7.80539066e-02  4.76583362e-01 -2.71333903e-01\n  6.57443762e-01  1.36574125e+00 -2.31350929e-01 -1.70754954e-01\n -6.52192533e-02 -5.84602475e-01  1.81432962e-02 -3.11031342e-01\n -1.67936534e-02 -1.63134813e-01 -3.01259726e-01  6.14962935e-01\n  5.56890517e-02 -4.40483630e-01  3.40997577e-02 -1.35919362e-01\n  1.16607621e-01  5.69754004e-01 -1.17454827e-01  4.88041818e-01\n  1.56378537e-01 -7.22515166e-01  2.92822033e-01 -6.15049958e-01\n  3.17069471e-01  1.05425477e-01  7.15649873e-02 -1.99124113e-01\n  9.37252760e-01 -2.88350344e-01 -1.84341371e-01  4.64062870e-01\n -5.17528892e-01 -3.74738693e-01 -1.05396792e-01 -3.19925010e-01\n -5.47171891e-01  5.58373749e-01 -4.90770221e-01 -2.77172863e-01\n  2.67918557e-01 -1.10364795e-01  1.27597749e-02  1.51197523e-01\n  5.12131676e-02 -2.46141374e-01 -5.17731726e-01  1.61620903e+00\n  9.84172672e-02  3.19599032e-01  4.96172696e-01  4.69385237e-02\n -1.99794382e-01  2.59332359e-01 -2.98952349e-02 -1.84762925e-01\n -6.47242367e-01  6.50566071e-02 -6.94146991e-01  2.12395191e-03\n  3.75852346e-01  2.44238973e-01 -2.38251820e-01  2.02258676e-03\n  4.09398317e-01 -1.27616599e-02  1.19315863e-01  2.42737532e-02\n  5.49895883e-01  2.45388180e-01 -2.71545947e-01 -8.75574529e-01\n -2.06414044e-01 -1.52893484e-01  3.03740710e-01  1.05444849e-01\n  6.28007829e-01  4.19487804e-02 -5.64995706e-01  7.35700577e-02\n  3.26306969e-01  6.31848693e-01  4.28919405e-01 -1.06001198e-01\n  4.64042753e-01 -3.05598915e-01  2.26396099e-01  4.67889845e-01\n  4.18267101e-01  4.05418128e-01  8.45841706e-01  4.82196540e-01\n  6.90704137e-02 -1.33322656e-01  5.92698455e-01  1.67513475e-01\n -1.87839329e-01 -6.85824275e-01 -2.36159444e-01  1.73904866e-01\n -1.41067326e-01 -8.00515831e-01  4.59076971e-01 -3.97201985e-01\n -2.71505237e-01 -2.07809612e-01 -5.73597610e-01 -3.12856257e-01\n  5.89579821e-01  3.19281816e-01 -1.33978546e-01  7.95371294e-01\n -3.23771596e-01 -3.01241100e-01 -3.61814857e-01 -4.77312505e-03\n  2.02492401e-01 -2.22766519e-01 -4.39973056e-01  7.44172633e-02\n  3.09303105e-02  2.12658748e-01  2.06144542e-01 -2.13604957e-01\n  3.17102969e-01  3.90700042e-01 -8.40402544e-02 -2.88207710e-01]",
         "7777",
         "251846990",
         "14443245"
        ]
       ],
       "shape": {
        "columns": 7,
        "rows": 8
       }
      },
      "text/html": [
       "<div>\n",
       "<style scoped>\n",
       "    .dataframe tbody tr th:only-of-type {\n",
       "        vertical-align: middle;\n",
       "    }\n",
       "\n",
       "    .dataframe tbody tr th {\n",
       "        vertical-align: top;\n",
       "    }\n",
       "\n",
       "    .dataframe thead th {\n",
       "        text-align: right;\n",
       "    }\n",
       "</style>\n",
       "<table border=\"1\" class=\"dataframe\">\n",
       "  <thead>\n",
       "    <tr style=\"text-align: right;\">\n",
       "      <th></th>\n",
       "      <th>item_id</th>\n",
       "      <th>itemname</th>\n",
       "      <th>attributes</th>\n",
       "      <th>fclip_embed</th>\n",
       "      <th>catalogid</th>\n",
       "      <th>variant_id</th>\n",
       "      <th>model_id</th>\n",
       "    </tr>\n",
       "  </thead>\n",
       "  <tbody>\n",
       "    <tr>\n",
       "      <th>47453</th>\n",
       "      <td>314869015</td>\n",
       "      <td>Формодержатели для обуви, подпружиненные, две ...</td>\n",
       "      <td>[{'attribute_name': 'Type', 'attribute_value':...</td>\n",
       "      <td>[-0.20060442, -0.22965711, -0.13158977, 0.6714...</td>\n",
       "      <td>7777</td>\n",
       "      <td>266358188</td>\n",
       "      <td>33300984</td>\n",
       "    </tr>\n",
       "    <tr>\n",
       "      <th>66829</th>\n",
       "      <td>335138445</td>\n",
       "      <td>Колодки для обуви 2 шт</td>\n",
       "      <td>[{'attribute_name': 'Type', 'attribute_value':...</td>\n",
       "      <td>[0.54418254, -0.97065365, -0.44515547, 0.47434...</td>\n",
       "      <td>7777</td>\n",
       "      <td>161703987</td>\n",
       "      <td>365171</td>\n",
       "    </tr>\n",
       "    <tr>\n",
       "      <th>81054</th>\n",
       "      <td>28764690</td>\n",
       "      <td>44-45р. Колодки для обуви деревянные</td>\n",
       "      <td>[{'attribute_name': 'Type', 'attribute_value':...</td>\n",
       "      <td>[0.5395479, -1.0622078, -0.48082113, 0.4074684...</td>\n",
       "      <td>7777</td>\n",
       "      <td>248376406</td>\n",
       "      <td>43171685</td>\n",
       "    </tr>\n",
       "    <tr>\n",
       "      <th>97225</th>\n",
       "      <td>250119073</td>\n",
       "      <td>Колодки из красного кедра, р. 41/42, формодерж...</td>\n",
       "      <td>[{'attribute_name': 'Type', 'attribute_value':...</td>\n",
       "      <td>[0.44091186, -0.06559926, -0.28066403, 0.11426...</td>\n",
       "      <td>7777</td>\n",
       "      <td>241501565</td>\n",
       "      <td>37644112</td>\n",
       "    </tr>\n",
       "    <tr>\n",
       "      <th>152312</th>\n",
       "      <td>162115015</td>\n",
       "      <td>Мягкие формодержатели для обуви / Антизаломы и...</td>\n",
       "      <td>[{'attribute_name': 'Type', 'attribute_value':...</td>\n",
       "      <td>[0.6210408, -1.0282655, -0.8357563, 0.16571093...</td>\n",
       "      <td>7777</td>\n",
       "      <td>195395764</td>\n",
       "      <td>17950766</td>\n",
       "    </tr>\n",
       "    <tr>\n",
       "      <th>165143</th>\n",
       "      <td>148289801</td>\n",
       "      <td>Колодки для обуви 1 шт</td>\n",
       "      <td>[{'attribute_name': 'Type', 'attribute_value':...</td>\n",
       "      <td>[0.30978912, -0.9236857, -0.58002585, 0.188936...</td>\n",
       "      <td>7777</td>\n",
       "      <td>153866471</td>\n",
       "      <td>9048513</td>\n",
       "    </tr>\n",
       "    <tr>\n",
       "      <th>174299</th>\n",
       "      <td>177241601</td>\n",
       "      <td>Колодки для обуви 1 шт</td>\n",
       "      <td>[{'attribute_name': 'Type', 'attribute_value':...</td>\n",
       "      <td>[0.0067255795, -1.3763212, -0.6828426, -0.0169...</td>\n",
       "      <td>7777</td>\n",
       "      <td>212554308</td>\n",
       "      <td>28986473</td>\n",
       "    </tr>\n",
       "    <tr>\n",
       "      <th>185290</th>\n",
       "      <td>12590245</td>\n",
       "      <td>Растяжитель для обуви, винтовой, Колодки, Раст...</td>\n",
       "      <td>[{'attribute_name': 'Type', 'attribute_value':...</td>\n",
       "      <td>[0.12749772, -0.75848657, -0.43669933, -0.0377...</td>\n",
       "      <td>7777</td>\n",
       "      <td>251846990</td>\n",
       "      <td>14443245</td>\n",
       "    </tr>\n",
       "  </tbody>\n",
       "</table>\n",
       "</div>"
      ],
      "text/plain": [
       "          item_id                                           itemname  \\\n",
       "47453   314869015  Формодержатели для обуви, подпружиненные, две ...   \n",
       "66829   335138445                             Колодки для обуви 2 шт   \n",
       "81054    28764690               44-45р. Колодки для обуви деревянные   \n",
       "97225   250119073  Колодки из красного кедра, р. 41/42, формодерж...   \n",
       "152312  162115015  Мягкие формодержатели для обуви / Антизаломы и...   \n",
       "165143  148289801                             Колодки для обуви 1 шт   \n",
       "174299  177241601                             Колодки для обуви 1 шт   \n",
       "185290   12590245  Растяжитель для обуви, винтовой, Колодки, Раст...   \n",
       "\n",
       "                                               attributes  \\\n",
       "47453   [{'attribute_name': 'Type', 'attribute_value':...   \n",
       "66829   [{'attribute_name': 'Type', 'attribute_value':...   \n",
       "81054   [{'attribute_name': 'Type', 'attribute_value':...   \n",
       "97225   [{'attribute_name': 'Type', 'attribute_value':...   \n",
       "152312  [{'attribute_name': 'Type', 'attribute_value':...   \n",
       "165143  [{'attribute_name': 'Type', 'attribute_value':...   \n",
       "174299  [{'attribute_name': 'Type', 'attribute_value':...   \n",
       "185290  [{'attribute_name': 'Type', 'attribute_value':...   \n",
       "\n",
       "                                              fclip_embed  catalogid  \\\n",
       "47453   [-0.20060442, -0.22965711, -0.13158977, 0.6714...       7777   \n",
       "66829   [0.54418254, -0.97065365, -0.44515547, 0.47434...       7777   \n",
       "81054   [0.5395479, -1.0622078, -0.48082113, 0.4074684...       7777   \n",
       "97225   [0.44091186, -0.06559926, -0.28066403, 0.11426...       7777   \n",
       "152312  [0.6210408, -1.0282655, -0.8357563, 0.16571093...       7777   \n",
       "165143  [0.30978912, -0.9236857, -0.58002585, 0.188936...       7777   \n",
       "174299  [0.0067255795, -1.3763212, -0.6828426, -0.0169...       7777   \n",
       "185290  [0.12749772, -0.75848657, -0.43669933, -0.0377...       7777   \n",
       "\n",
       "        variant_id  model_id  \n",
       "47453    266358188  33300984  \n",
       "66829    161703987    365171  \n",
       "81054    248376406  43171685  \n",
       "97225    241501565  37644112  \n",
       "152312   195395764  17950766  \n",
       "165143   153866471   9048513  \n",
       "174299   212554308  28986473  \n",
       "185290   251846990  14443245  "
      ]
     },
     "execution_count": 21,
     "metadata": {},
     "output_type": "execute_result"
    }
   ],
   "source": [
    "items_df[items_df['catalogid'] == 7777]"
   ]
  },
  {
   "cell_type": "code",
   "execution_count": null,
   "id": "20147315",
   "metadata": {},
   "outputs": [
    {
     "data": {
      "application/vnd.microsoft.datawrangler.viewer.v0+json": {
       "columns": [
        {
         "name": "index",
         "rawType": "int64",
         "type": "integer"
        },
        {
         "name": "item_id",
         "rawType": "int32",
         "type": "integer"
        },
        {
         "name": "itemname",
         "rawType": "object",
         "type": "string"
        },
        {
         "name": "attributes",
         "rawType": "object",
         "type": "unknown"
        },
        {
         "name": "fclip_embed",
         "rawType": "object",
         "type": "unknown"
        },
        {
         "name": "catalogid",
         "rawType": "int64",
         "type": "integer"
        },
        {
         "name": "variant_id",
         "rawType": "int32",
         "type": "integer"
        },
        {
         "name": "model_id",
         "rawType": "int32",
         "type": "integer"
        }
       ],
       "ref": "5b774e89-bed6-4071-970b-c1e7d4dad047",
       "rows": [
        [
         "0",
         "400301",
         "Очки солнцезащитные",
         "[{'attribute_name': 'Type', 'attribute_value': 'Очки солнцезащитные', 'attribute_isaspect': False, 'attribute_showascharacteristic': True}\n {'attribute_name': 'Brand', 'attribute_value': 'Нет бренда', 'attribute_isaspect': False, 'attribute_showascharacteristic': True}\n {'attribute_name': 'Annotation', 'attribute_value': 'Представляем вам эксклюзивные винтажные солнцезащитные очки в металлической оправе из 2000-х. Это не просто аксессуар, а воплощение элегантности и стиля ушедшей эпохи.  \\nМеталлическая оправа гарантирует прочность и долговечность, сохраняя утонченный внешний вид годами. Их оригинальный дизайн придаст вашему образу респектабельный вид, демонстрируя вашу любовь к классике и стильным решениям.  \\nЭти винтажные очки не только защищают глаза от ультрафиолета, но и придают вашему стилю особый шарм и эстетическую привлекательность. Носите их с достоинством – ведь это не просто аксессуар, а важная деталь вашего уникального образа.  \\n\\n(Сохранены: смысл, стиль, структура текста, ключевые характеристики товара. Изменения: небольшая стилистическая шлифовка для естественности, замена синонимов (\"железная\"→\"металлическая\", \"приверженность\"→\"любовь\"), более плавные переходы между предложениями.)', 'attribute_isaspect': False, 'attribute_showascharacteristic': True}\n {'attribute_name': 'ColorBase', 'attribute_value': 'розовый', 'attribute_isaspect': True, 'attribute_showascharacteristic': True}\n {'attribute_name': 'AgeO', 'attribute_value': 'Взрослая', 'attribute_isaspect': False, 'attribute_showascharacteristic': True}\n {'attribute_name': 'SexMaster', 'attribute_value': 'Женский', 'attribute_isaspect': False, 'attribute_showascharacteristic': True}\n {'attribute_name': 'SexMaster', 'attribute_value': 'Мужской', 'attribute_isaspect': False, 'attribute_showascharacteristic': True}\n {'attribute_name': 'Name', 'attribute_value': 'Очки солнцезащитныеsilumao', 'attribute_isaspect': False, 'attribute_showascharacteristic': False}\n {'attribute_name': 'ColorBase_Forfilter', 'attribute_value': 'Розовый', 'attribute_isaspect': False, 'attribute_showascharacteristic': False}]",
         "[ 3.20238531e-01  1.17662579e-01 -7.84551978e-01  4.16819900e-01\n -2.46105269e-01 -3.99725288e-01 -3.18207294e-01  2.17970684e-01\n -1.54594213e-01 -5.78193665e-02  2.15506256e-01 -9.53711569e-03\n  5.67308545e-01  3.31593603e-02 -5.86072922e-01  5.92324771e-02\n  2.86565751e-01 -6.87047839e-02 -1.37052238e-02  3.24038595e-01\n -5.82855463e-01  1.72889352e-01 -6.44149780e-01 -1.73944801e-01\n -4.26550120e-01 -2.67861784e-01 -8.50849897e-02 -4.33661267e-02\n  1.10332894e+00  1.05463088e-01 -1.14712417e-02  2.34745994e-01\n -8.98414925e-02 -1.33496940e-01  8.91689509e-02  2.98916936e-01\n -9.08547044e-02 -5.89969754e-01  2.67581940e-02 -1.33839160e-01\n  3.79261911e-01 -1.34231359e-01  2.38201767e-01 -3.23837370e-01\n  2.00108111e-01 -1.55514926e-01  4.44181591e-01 -3.51401865e-01\n -2.72677302e-01 -1.75051123e-01  8.46666843e-02 -7.15100646e-01\n  5.41874826e-01  2.35981703e-01 -9.23920870e-01 -3.47051799e-01\n -4.66492474e-02  3.00497621e-01 -3.35245967e-01  1.67428374e-01\n -1.21139503e+00 -1.79041997e-02  1.35287702e-01  7.43602097e-01\n -1.77465126e-01  2.11034209e-01  3.82376313e-01 -7.20731020e-01\n  7.27010548e-01 -5.48680305e-01 -8.67923617e-01  2.01744840e-01\n -1.79869980e-02  3.55003029e-02  4.18935567e-02 -9.79437679e-02\n -2.00812846e-01 -3.07957619e-01  6.87951565e-01 -1.83008835e-02\n  3.74175817e-01 -5.73989630e-01 -3.87156546e-01  2.46411487e-01\n  9.01109427e-02  2.77465582e-02 -9.49743688e-02 -1.08990803e-01\n  1.13867474e+00 -1.02467227e+00  2.82517850e-01  3.77591670e-01\n  4.61146086e-02  5.20936370e-01 -2.25860551e-01 -4.14743811e-01\n -2.66636223e-01 -7.03379512e-02  1.71847686e-01 -2.87602782e-01\n -1.53265774e-01  7.75786936e-02  2.33129814e-01 -1.54267207e-01\n  7.88042545e-01  3.72856379e-01 -5.91316342e-01 -1.44733131e-01\n -7.06515610e-02  2.64927298e-01 -1.29146028e+00 -3.60460758e-01\n -2.00012401e-01  5.40355742e-02 -1.77988231e-01 -1.42413124e-01\n  1.74383909e-01  1.09703779e-01 -1.29786342e-01  3.32935154e-01\n -2.17196047e-01  1.96895763e-01 -3.35868448e-02 -1.55463263e-01\n  5.95912710e-02 -2.76104867e-01 -4.08074915e-01  2.74682611e-01\n -5.16528189e-02  1.85032457e-01 -1.95262551e-01 -2.98475981e-01\n -5.89986891e-02  3.90681148e-01  9.94107127e-03  8.98786068e-01\n -1.90123945e-01  2.97644526e-01 -6.34599864e-01  3.63345206e-01\n  2.70654052e-01  4.65010405e-01  6.00716025e-02  3.67929161e-01\n -5.89878783e-02 -6.80084169e-01 -1.12132415e-01 -1.46757305e-01\n -4.96867865e-01 -4.82368767e-02  1.80686817e-01 -2.96006978e-01\n  3.16981530e+00  2.23347470e-01 -1.89353257e-01  7.09511340e-01\n  5.31484544e-01  1.61424518e-01  5.42931408e-02 -9.48370248e-02\n -3.94857615e-01 -1.19526029e-01 -4.30635452e-01 -3.80014181e-01\n  3.09122741e-01 -1.33604479e+00 -7.97617078e-01  5.88117242e-02\n  3.84788901e-01  3.38446796e-01 -9.80953336e-01 -5.53913593e-01\n  2.38134474e-01 -1.59970805e-01 -5.37231266e-01  3.26277792e-01\n  2.48834848e-01  4.65226442e-01 -3.88579905e-01 -4.67519403e-01\n -1.01123191e-01 -2.25852191e-01 -8.36830199e-01  8.31598714e-02\n  1.89326644e-01 -8.68073404e-02  3.81463200e-01  1.18696727e-01\n  2.56523669e-01  1.78093940e-01  1.21047735e-01  6.49551630e-01\n  1.16402090e-01  2.33560711e-01  6.08246207e-01  3.45426977e-01\n  8.65375996e-02  7.58829564e-02  3.12487543e-01 -5.02968654e-02\n  1.93849504e-01 -2.16958940e-01  5.36273122e-01 -5.15802622e-01\n  2.18463391e-01  4.32724357e-02 -2.51958132e-01  1.18546531e-01\n -2.14008987e-03 -9.02713954e-01 -2.01844171e-01 -5.96222579e-01\n  9.71239507e-02  5.15778065e-01 -5.70026040e-01  3.99104655e-02\n -4.29110914e-01 -6.19515896e-01 -1.42491221e-01  1.73519635e+00\n  3.24142128e-01 -3.57464254e-01  2.88383454e-01 -4.00385648e-01\n  2.01690793e-02  2.33972430e-01  4.16388243e-01  3.04839283e-01\n  7.90831819e-03 -9.53493342e-02 -1.74333215e-01  5.36942601e-01\n -5.14552891e-02 -9.76359546e-02  1.34633720e-01 -3.49780351e-01\n  1.14662439e-01 -9.20045525e-02  1.63237765e-01  3.26880366e-02\n  6.84078336e-02 -2.08999455e-01  9.97530222e-02 -2.37734452e-01\n -2.85037816e-01  6.11836433e-01  2.28087500e-01  7.36271977e-01\n  3.93271029e-01 -3.70164573e-01 -4.19054449e-01  2.35680252e-01\n  2.32383355e-01 -8.67380977e-01 -5.75455308e-01  3.53420675e-01\n -1.08239233e+00  1.26631868e+00 -1.54505253e-01  3.18765640e-01\n  4.86801267e-01 -1.98137462e-01  1.10353306e-01 -3.83109719e-01\n -1.96747512e-01  1.10489242e-01 -6.73800558e-02 -9.11195576e-02\n -1.71508417e-01 -3.68334740e-01  1.65840894e-01  2.27555096e-01\n -1.47778332e-01 -3.83158028e-03 -3.98549974e-01 -2.85668075e-01\n -9.02606845e-02  1.19849458e-01  1.84561461e-01 -9.31853801e-02\n  2.59938389e-01  3.49215031e-01  1.29231513e-01  2.20833808e-01\n  3.10759902e-01  2.92044431e-02  3.79133105e-01 -4.34816480e-02\n  1.08936675e-01 -3.01444590e-01  4.55078065e-01  1.63568377e-01\n  3.73431921e-01 -3.55400145e-02  9.08329040e-02 -1.90085754e-01\n  4.03597713e-01 -2.15718508e-01  5.15897572e-03 -2.30330870e-01\n -6.50930047e-01  4.48635757e-01 -4.07340348e-01  4.45318460e-01\n -1.03163433e+00 -1.51453555e-01  1.37997091e-01 -3.17338657e+00\n -3.97884130e-01  2.24493831e-01 -2.89701223e-01 -4.64798391e-01\n -3.88991177e-01 -8.15598965e-02  2.16691405e-01  8.29248786e-01\n -1.22257590e-01  2.43847951e-01  4.09463793e-03 -3.55714798e-01\n -1.55589566e-01  2.87266940e-01 -2.33673975e-01 -3.63389790e-01\n -5.25968015e-01 -5.95051646e-01 -4.99854505e-01 -4.39773023e-01\n -6.19437993e-02 -1.66659132e-01 -4.04984444e-01 -1.70837402e-01\n -3.43530327e-01  1.81165799e-01 -5.13157845e-02 -6.21848226e-01\n -3.84611309e-01  4.09418903e-02  6.78694487e-01  4.00423288e-01\n -3.65637243e-02 -5.81598163e-01  6.65029764e-01 -8.19506347e-02\n -5.53490639e-01 -2.08209783e-01  2.76163876e-01 -2.36474216e-01\n -1.31250691e+00  7.00116634e-01 -2.08603889e-02  4.89872754e-01\n -4.16822851e-01 -6.03176430e-02 -3.53826195e-01 -6.56667948e-02\n  3.34819019e-01  1.23050138e-01 -4.52522844e-01  2.71542311e-01\n  4.84742284e-01 -3.75418454e-01  1.27321199e-01 -2.93774843e-01\n -1.63421303e-01 -1.35816969e-02 -3.54838252e-01  3.60219330e-01\n -9.76544261e-01 -9.20347452e-01  5.86733818e-02  2.75195837e-01\n -9.25926790e-02  8.37836638e-02  6.42210543e-01  3.67494315e-01\n  1.46211654e-01 -9.53115076e-02 -4.26716655e-02  1.84802324e-01\n  1.94828436e-01 -8.69153500e-01 -1.04340419e-01  1.50422916e-01\n -3.95610839e-01  5.67644775e-01 -3.05994868e-01  7.23570436e-02\n -3.78435701e-01  5.49685061e-02 -1.81453973e-02  7.04703480e-02\n -1.29145190e-01  3.86476099e-01 -2.71067172e-02 -3.95609379e-01\n  1.16136813e+00 -2.20306098e-01 -5.32680750e-03  2.08047628e-01\n  2.64116883e-01  3.83619875e-01 -3.13625813e-01 -5.30376971e-01\n  1.79153681e-02  2.66964465e-01 -8.06345046e-02 -3.64948928e-01\n  5.62898666e-02 -3.78393590e-01 -2.26871818e-01  3.62868667e-01\n  5.02179861e-01  1.83685124e-01 -5.14726415e-02  6.29588217e-02\n -5.98573744e-01  4.45178747e-02 -3.82689595e-01  1.54659733e-01\n  2.44652614e-01 -1.04284137e-02 -3.22688878e-01 -4.56641763e-02\n  1.15109777e+00 -3.21113944e-01 -3.50335956e-01  2.08861977e-01\n  2.17043474e-01 -4.29007858e-01  3.86501700e-01  2.55654025e+00\n  4.00884338e-02 -6.58559263e-01 -3.22998703e-01  2.67791748e-01\n -8.21926594e-01 -1.98863953e-01 -1.02917172e-01  7.01052845e-02\n  2.15927720e-01 -6.50933161e-02 -1.01208043e+00 -2.58374006e-01\n -2.14970887e-01  3.78455222e-01 -6.37459636e-01 -7.04243481e-02\n  1.97519183e-01 -2.06406459e-01  3.88792932e-01  5.89208305e-01\n -1.26896948e-01  2.66603082e-02 -2.52084374e-01  5.35196662e-02\n -1.99319065e-01 -1.04402602e-01  4.35093641e-01  1.90496780e-02\n  1.40681326e-01 -6.94603920e-01 -3.61556590e-01  2.36415714e-02\n  2.71578193e-01 -4.84357566e-01  2.41102487e-01 -3.42907310e-01\n -8.50275040e-01 -3.44721615e-01 -3.08087260e-01  2.57356614e-02\n -2.30807692e-01 -1.00624360e-01  4.66853380e-05  9.84497488e-01\n  3.54345411e-01 -7.34767169e-02 -3.59529436e-01  4.57994610e-01\n  3.89665127e-01  1.02230179e+00  2.77833849e-01  4.73399043e-01\n -3.21796209e-01 -2.34428227e-01 -4.45335433e-02 -4.89551798e-02\n  3.75476852e-02 -1.50897250e-01 -1.58686399e+00 -1.28769875e-03\n -3.02255064e-01  3.03842634e-01 -2.36323774e-02  6.33901834e-01\n -4.03875828e-01 -3.13807666e-01 -4.88876253e-01 -3.34268659e-02\n -3.26451689e-01 -1.88692242e-01  1.69514492e-01 -2.65165091e-01\n  8.63488391e-02  3.84501994e-01 -2.90359557e-01 -1.30842865e-01\n -2.11398959e-01 -7.18369782e-02 -2.39964470e-01  3.88684422e-02]",
         "17080",
         "243954236",
         "33306429"
        ],
        [
         "1",
         "678602",
         "Футболка GOLDUSTIM Футболка женская",
         "[{'attribute_name': 'Type', 'attribute_value': 'Футболка', 'attribute_isaspect': False, 'attribute_showascharacteristic': True}\n {'attribute_name': 'Brand', 'attribute_value': 'GOLDUSTIM', 'attribute_isaspect': False, 'attribute_showascharacteristic': True}\n {'attribute_name': 'Annotation', 'attribute_value': 'Представляем вашему вниманию стильную фуксия футболку женскую оверсайз от бренда GOLDUSTIM. Эта футболка идеально подходит для повседневного гардероба и легко сочетается с любыми нарядами благодаря своему универсальному цвету и современному дизайну.\\nФуксия футболка женская оверсайз создана из качественного материала, обеспечивающего комфорт на протяжении всего дня. Свободный крой позволяет свободно двигаться и чувствовать себя уверенно в любой ситуации, будь то прогулка по городу или встреча с друзьями. Оверсайз фасон подчеркивает модные тенденции и добавляет образу свежести и актуальности.\\nЭта футболка оверсайз женская является отличным выбором для создания стильных и удобных образов. Плотный фуксия цвет подчеркивает изысканность и элегантность, а также легко сочетается с другими оттенками вашего гардероба.\\nФутболка фуксия женская оверсайз доступна в широкой размерной линейке , что делает ее идеально подходящей для тех, кто ценит комфорт и стиль. Если вы ищете футболку, которая станет основой вашего гардероба и дополнит ваш повседневный стиль, эта футболка фуксия оверсайз – именно то, что вам нужно.\\nЗдесь вы найдете футболки женские оверсайз, которые сочетают в себе высокое качество пошива и современный дизайн. фуксия футболка женская оверсайз GOLDUSTIM – это выбор уверенной в себе женщины, стремящейся к максимальному комфорту и стильному внешнему виду. Не упустите возможность пополнить свой гардероб этой модной и практичной вещью.\\nПусть эта замечательная футболка фуксия женская оверсайз станет вашим любимым элементом гардероба, который подчеркнет вашу индивидуальность и актуальность образа. Заказывайте прямо сейчас и наслаждайтесь стилем и комфортом каждый день.', 'attribute_isaspect': False, 'attribute_showascharacteristic': True}\n {'attribute_name': 'AgeO', 'attribute_value': 'Взрослая', 'attribute_isaspect': False, 'attribute_showascharacteristic': False}\n {'attribute_name': 'ColorBase', 'attribute_value': 'фуксия', 'attribute_isaspect': True, 'attribute_showascharacteristic': True}\n {'attribute_name': 'ColorBase', 'attribute_value': 'ярко-розовый', 'attribute_isaspect': True, 'attribute_showascharacteristic': True}\n {'attribute_name': 'ColorBase', 'attribute_value': 'малиново-розовый', 'attribute_isaspect': True, 'attribute_showascharacteristic': True}\n {'attribute_name': 'ColorName', 'attribute_value': 'фуксия, ярко-розовый, малиново-розовый', 'attribute_isaspect': True, 'attribute_showascharacteristic': True}\n {'attribute_name': 'RussianSizeClothes', 'attribute_value': '50', 'attribute_isaspect': True, 'attribute_showascharacteristic': True}\n {'attribute_name': 'SizeManufacturer', 'attribute_value': '50', 'attribute_isaspect': True, 'attribute_showascharacteristic': True}\n {'attribute_name': 'SizeM', 'attribute_value': '44', 'attribute_isaspect': False, 'attribute_showascharacteristic': True}\n {'attribute_name': 'SexMaster', 'attribute_value': 'Женский', 'attribute_isaspect': False, 'attribute_showascharacteristic': True}\n {'attribute_name': 'HeightM', 'attribute_value': '173 см', 'attribute_isaspect': False, 'attribute_showascharacteristic': True}\n {'attribute_name': 'SizeGrid', 'attribute_value': 'Универсальная размерная сетка: Женская одежда', 'attribute_isaspect': False, 'attribute_showascharacteristic': False}\n {'attribute_name': 'Material', 'attribute_value': 'Хлопок', 'attribute_isaspect': False, 'attribute_showascharacteristic': True}\n {'attribute_name': 'Material', 'attribute_value': 'Лайкра', 'attribute_isaspect': False, 'attribute_showascharacteristic': True}\n {'attribute_name': 'Material', 'attribute_value': 'Кулирная гладь', 'attribute_isaspect': False, 'attribute_showascharacteristic': True}\n {'attribute_name': 'Composition', 'attribute_value': '95% хлопок 5% эластан', 'attribute_isaspect': False, 'attribute_showascharacteristic': True}\n {'attribute_name': 'InnerMaterial', 'attribute_value': 'Без подклада', 'attribute_isaspect': False, 'attribute_showascharacteristic': True}\n {'attribute_name': 'StyleApparel', 'attribute_value': 'Повседневный', 'attribute_isaspect': False, 'attribute_showascharacteristic': True}\n {'attribute_name': 'Season', 'attribute_value': 'На любой сезон', 'attribute_isaspect': False, 'attribute_showascharacteristic': True}\n {'attribute_name': 'clothescut', 'attribute_value': 'оверсайз', 'attribute_isaspect': False, 'attribute_showascharacteristic': True}\n {'attribute_name': 'SleeveLength', 'attribute_value': 'Короткий', 'attribute_isaspect': False, 'attribute_showascharacteristic': True}\n {'attribute_name': 'FilterSizeINT', 'attribute_value': 'L', 'attribute_isaspect': False, 'attribute_showascharacteristic': False}\n {'attribute_name': 'FilterSizeINT', 'attribute_value': 'XL', 'attribute_isaspect': False, 'attribute_showascharacteristic': False}\n {'attribute_name': 'NumItemsDcml', 'attribute_value': '1', 'attribute_isaspect': False, 'attribute_showascharacteristic': True}\n {'attribute_name': 'Name', 'attribute_value': 'фуксия футболка женская оверсайз, 50 размер, GOLDUSTIM', 'attribute_isaspect': False, 'attribute_showascharacteristic': False}\n {'attribute_name': 'TypeSport', 'attribute_value': 'Бег', 'attribute_isaspect': False, 'attribute_showascharacteristic': False}\n {'attribute_name': 'TypeSport', 'attribute_value': 'Танцы', 'attribute_isaspect': False, 'attribute_showascharacteristic': False}\n {'attribute_name': 'TypeSport', 'attribute_value': 'Фитнес', 'attribute_isaspect': False, 'attribute_showascharacteristic': False}\n {'attribute_name': 'TypeSport', 'attribute_value': 'Йога', 'attribute_isaspect': False, 'attribute_showascharacteristic': False}\n {'attribute_name': 'TypeSport', 'attribute_value': 'Велоспорт', 'attribute_isaspect': False, 'attribute_showascharacteristic': False}\n {'attribute_name': 'TypeSport', 'attribute_value': 'Туризм', 'attribute_isaspect': False, 'attribute_showascharacteristic': False}\n {'attribute_name': 'ColorBase_Forfilter', 'attribute_value': 'Розовый', 'attribute_isaspect': False, 'attribute_showascharacteristic': False}]",
         "[ 4.36009496e-01  6.33966804e-01  2.97418535e-02  9.84763205e-02\n  1.79576144e-01 -2.00236410e-01 -4.68982965e-01  1.65305808e-01\n -1.24419570e-01 -8.08204114e-02  3.01105797e-01  3.35820109e-01\n -3.22487533e-01  2.90725470e-01 -5.54666102e-01 -8.78119618e-02\n -1.28756571e+00 -1.99961707e-01  5.86894751e-01 -2.94981897e-01\n -5.08046895e-03 -3.18137050e-01 -3.61172616e-01 -8.02019238e-03\n -4.81836140e-01 -4.51353073e-01  1.91585317e-01 -6.19129986e-02\n -1.61648244e-02 -1.46528035e-02 -4.34573084e-01  9.35227871e-02\n  1.04058340e-01 -4.46716249e-01 -9.09235030e-02 -1.96821809e-01\n -2.21059814e-01  2.36002237e-01  6.93449736e-01  1.51664063e-01\n  2.12612689e-01 -9.17967483e-02  4.54198629e-01  1.25596225e-01\n -1.41228661e-01 -1.85426027e-02 -4.77896184e-01  1.50125623e-02\n  7.21872374e-02  1.54069826e-01  9.24424231e-02  3.04820240e-02\n  3.77651900e-01 -9.13621634e-02 -6.91776395e-01 -1.15015313e-01\n -4.40191388e-01  4.70416099e-01  7.33081937e-01  9.34733987e-01\n -1.11126637e+00  1.84104845e-01  3.45568150e-01  4.33598429e-01\n  6.36817515e-03 -2.45689407e-01 -1.23545170e-01 -4.55413550e-01\n -2.38787651e-01 -5.34643173e-01 -3.91393602e-01  8.20179284e-01\n -1.65814772e-01  5.33093989e-01 -9.11729932e-02 -8.65875125e-01\n  3.60924363e-01  1.26657560e-02 -3.98037583e-03 -2.05335692e-01\n  2.02094853e-01 -1.78779930e-01 -4.42704678e-01 -8.73438418e-02\n  2.57930309e-01  9.10362303e-02  1.06072485e-01  4.10156071e-01\n  7.00773716e-01  8.21038783e-02  1.32221431e-01 -1.13804787e-02\n  3.62694621e-01 -6.71320915e-01 -3.21305037e-01  1.02889955e-01\n -8.90460387e-02 -2.54573435e-01 -2.95408726e-01  9.55440998e-02\n -5.73072135e-02  3.51508319e-01  4.10670012e-01 -3.18222344e-01\n  1.55304670e-01 -1.70071974e-01  2.73462474e-01 -5.82137823e-01\n -9.36656296e-02 -1.26499489e-01 -6.44655824e-01 -3.32823008e-01\n -5.43792427e-01  2.03186005e-01  3.02100956e-01 -3.41872275e-02\n -6.83431327e-02  7.47903347e-01  2.05959991e-01 -5.37490785e-01\n  6.89615011e-01 -1.17808148e-01  5.01738131e-01 -1.87728196e-01\n  1.62451014e-01 -6.70188785e-01 -2.78217494e-02 -1.01527154e-01\n  4.81258631e-01 -2.90713131e-01  3.01773965e-01 -1.76043943e-01\n  2.36583427e-02 -5.57754710e-02 -7.59801343e-02  2.94572830e-01\n  6.55303299e-02  1.26106009e-01  2.10635796e-01  4.82953340e-02\n  5.05025625e-01  3.89194727e-01  1.96841747e-01  4.27389681e-01\n -5.68175688e-02 -7.73493946e-02  2.73881465e-01  7.13956237e-01\n  1.52963400e-01  7.61921883e-01 -3.84467870e-01  6.20237410e-01\n  3.13428879e+00 -1.86575681e-01  3.78368199e-02  1.20162398e-01\n -1.65472597e-01  9.36555415e-02 -3.95735912e-02 -1.33093074e-01\n -7.54556134e-02  5.03421485e-01 -7.13493347e-01 -3.91985029e-02\n  1.69935524e-01  1.09402627e-01 -7.03413308e-01 -6.90274000e-01\n -4.71708238e-01 -1.58927470e-01  4.21175480e-01 -4.56263542e-01\n  2.36507267e-01 -1.83876336e-01 -2.32325748e-01  9.28238183e-02\n  3.61971855e-02  4.32578117e-01  3.84073853e-02  1.48001432e-01\n  5.02896011e-01  3.41802537e-02 -5.95014572e-01  1.00042306e-01\n -2.22809762e-01  1.19965933e-01  1.55472291e+00  1.91375613e-04\n -1.20515168e-01 -1.11172743e-01 -4.64815259e-01  7.02161610e-01\n  1.30483106e-01 -7.59247839e-02 -8.20397854e-01  3.71991903e-01\n  9.62121636e-02  3.50337029e-01  5.68861961e-02  2.20957875e-01\n  1.18177700e+00 -4.16683048e-01  1.52236998e-01 -1.60197020e-02\n  2.79241383e-01  3.75388414e-02  3.28540295e-01  1.43567473e-01\n  2.00384229e-01  1.22348316e-01 -6.49932325e-02 -5.66884875e-01\n  1.15161009e-01 -1.72686577e-02  3.42347145e-01  1.88095585e-01\n  1.91360712e-04  1.84968024e-01  1.88485965e-01  1.54456645e-02\n  9.67858881e-02  7.69351125e-02  8.33937079e-02 -3.18689048e-01\n  7.49130249e-01  3.90063137e-01 -7.83563778e-02  3.73723537e-01\n  1.28277019e-01 -9.09343213e-02  1.08403099e+00  5.29264212e-02\n -3.15820038e-01 -1.30102962e-01 -3.58361065e-01 -1.62112266e-01\n -3.15754324e-01  2.43402123e-01  1.58185422e-01  9.44138914e-02\n -3.76199216e-01  9.98306870e-01  2.76671171e-01  2.69593000e-01\n -1.96571603e-01  8.18131864e-02 -2.52213359e-01 -6.45403624e-01\n  6.66964948e-01  8.76743793e-02 -1.30723453e+00 -3.62374425e-01\n  4.09853101e-01 -3.91677648e-01 -6.87813640e-01 -4.50438619e-01\n -3.01442891e-01 -6.91995323e-02 -5.23061216e-01  8.59790623e-01\n -5.06049395e-02 -6.97201490e-03  1.42632872e-02  8.91252682e-02\n  4.15083431e-02 -3.79578590e-01 -4.33883965e-01  1.77570194e-01\n -7.84907937e-01 -4.40036863e-01 -1.08658589e-01  1.90036565e-01\n  3.48953009e-01  5.24373829e-01 -1.11329958e-01 -2.06515551e-01\n  2.33279437e-01 -1.30695671e-01  5.74114501e-01 -2.53881872e-01\n  7.72343755e-01 -7.02818334e-02  4.95191067e-02  6.87326252e-01\n -2.65891016e-01 -4.17223334e-01  4.29704115e-02  3.71571243e-01\n -5.53078651e-02  7.28430152e-02 -4.01013523e-01 -3.17983508e-01\n  2.26380304e-01 -4.51304018e-01 -1.29026175e-01  9.35197771e-02\n  1.38092861e-01 -4.41387177e-01  1.80163071e-01 -2.00833499e-01\n  7.62327909e-01 -6.53260291e-01  2.66878307e-01 -7.78716505e-02\n  1.54601559e-01 -4.08087134e-01 -7.05962539e-01 -3.13578486e+00\n -9.13398638e-02 -3.40173095e-02 -4.96221662e-01 -1.31990695e+00\n  1.97552547e-01  1.21171579e-01  3.72574836e-01  4.98183966e-01\n -8.25745165e-02 -8.81635308e-01  8.43706310e-01 -3.54727834e-01\n  8.98217782e-03  1.68424129e-01 -4.75857079e-01  1.17823386e+00\n -1.36390400e+00 -1.44959792e-01 -2.61725396e-01 -1.34710714e-01\n -1.01279581e+00 -4.32535499e-01  4.67899919e-01 -4.10287827e-03\n -2.92209059e-01 -5.50090075e-02 -7.72496164e-02 -2.50425994e-01\n  3.36806357e-01 -7.02140987e-01 -1.89569026e-01 -6.20826706e-02\n  4.50279951e-01  5.72916269e-02  1.45586520e-01 -1.02545917e-01\n  4.88513708e-01 -2.03039795e-01 -1.53583199e-01  2.34992355e-01\n -2.03950334e+00 -2.91536272e-01  9.82572079e-01 -2.14113742e-01\n -6.38880581e-02 -4.04458225e-01  1.77450478e-01  1.42948627e-01\n -2.03865513e-01  1.68782175e-01 -4.03331101e-01  3.19298625e-01\n -2.09881663e-01 -2.85474300e-01  5.78186870e-01 -1.17816627e-02\n -2.95093358e-01  1.96505725e-01 -3.15909207e-01  3.84588838e-01\n -1.20544851e-01 -1.97526395e-01  1.01463087e-01 -5.13952851e-01\n  1.02212861e-01 -2.22634420e-01 -3.60162616e-01  4.80734020e-01\n  1.29282624e-02  8.21594894e-03 -3.19196165e-01 -5.59569061e-01\n  3.86043608e-01 -4.72119659e-01 -1.22469544e-01  3.91252637e-02\n -3.84027928e-01  3.38902771e-01 -6.78585172e-02  4.78714049e-01\n -1.26927495e-01  5.06646037e-01 -3.89796972e-01 -2.72002757e-01\n  2.78011829e-01  5.35784960e-01 -1.96956694e-01  5.06962776e-01\n  2.52949297e-01 -4.08072114e-01 -3.73244166e-01 -2.05795199e-01\n -1.02405548e-02  2.27905527e-01 -8.65407526e-01  1.35163283e+00\n  4.64432329e-01  1.18731253e-01  2.09067449e-01 -4.08967853e-01\n -2.30705991e-01  4.53559607e-01 -3.34697105e-02  1.87561244e-01\n -4.39852476e-03  1.69574782e-01  2.83656865e-01  6.28561378e-01\n -7.77326152e-02  3.55183542e-01 -2.72629321e-01 -2.16699809e-01\n -1.03451639e-01 -4.77938056e-01 -2.97664464e-01 -3.00922066e-01\n  1.06507695e+00  5.91126263e-01  1.32353231e-01  1.45495623e-01\n -4.35413122e-02 -2.93605626e-02 -3.35149348e-01  1.91429591e+00\n -5.22545040e-01 -2.53287315e-01 -2.68072009e-01  1.69374645e-01\n -2.35506445e-02  4.82627004e-02  8.00526142e-03 -1.02454372e-01\n  1.23698130e-01 -2.48646274e-01  6.89626038e-02  2.61726677e-01\n -2.53112048e-01 -1.68839544e-02 -5.36331654e-01  1.50888950e-01\n -2.79798776e-01 -4.10279259e-02 -1.19183198e-01  4.62912381e-01\n  4.57693413e-02 -2.36954153e-01 -3.49358141e-01 -5.38989246e-01\n -1.05263099e-01  1.38160661e-01 -6.87266827e-01  1.39030218e-01\n  2.68665671e-01 -4.16301638e-02 -8.06903124e-01 -2.87671685e-01\n  5.11642098e-02 -1.60521120e-01  4.10538524e-01  7.57239401e-01\n -2.52095491e-01 -1.58671826e-01 -4.60707724e-01 -6.88777447e-01\n  7.07507879e-03  2.63708293e-01 -2.77517617e-01  1.99168265e+00\n  1.09045851e+00 -1.03004873e-02  2.76195556e-01 -6.94680959e-02\n  2.81456053e-01  5.06644487e-01 -2.45663315e-01  5.72133362e-02\n -2.01430604e-01 -3.76647115e-01 -5.37674904e-01 -5.66607952e-01\n -3.41933608e-01 -4.77689087e-01 -1.91380668e+00  6.74298108e-02\n -3.09781134e-01  4.57572877e-01 -3.79059076e-01  5.33013046e-01\n -1.49355948e-01  1.34603888e-01  2.84521431e-02  5.87411225e-04\n  1.68498009e-01 -1.22348696e-01  6.24418929e-02 -4.15425360e-01\n  4.98607337e-01 -1.17615290e-01  1.67400494e-01  2.87946880e-01\n  6.84104562e-02  4.91512418e-01  1.43126264e-01 -1.76413402e-01]",
         "7508",
         "8039633",
         "27057398"
        ],
        [
         "2",
         "746401",
         "Худи Patagonia",
         "[{'attribute_name': 'Type', 'attribute_value': 'Худи', 'attribute_isaspect': False, 'attribute_showascharacteristic': True}\n {'attribute_name': 'Brand', 'attribute_value': 'Patagonia', 'attribute_isaspect': False, 'attribute_showascharacteristic': True}\n {'attribute_name': 'Annotation', 'attribute_value': 'Patagonia', 'attribute_isaspect': False, 'attribute_showascharacteristic': True}\n {'attribute_name': 'ColorBase', 'attribute_value': 'серый', 'attribute_isaspect': True, 'attribute_showascharacteristic': True}\n {'attribute_name': 'RussianSizeClothes', 'attribute_value': '52', 'attribute_isaspect': True, 'attribute_showascharacteristic': True}\n {'attribute_name': 'SizeManufacturer', 'attribute_value': '3XL', 'attribute_isaspect': True, 'attribute_showascharacteristic': True}\n {'attribute_name': 'SexMaster', 'attribute_value': 'Мужской', 'attribute_isaspect': False, 'attribute_showascharacteristic': True}\n {'attribute_name': 'SexMaster', 'attribute_value': 'Женский', 'attribute_isaspect': False, 'attribute_showascharacteristic': True}\n {'attribute_name': 'SizeGrid', 'attribute_value': 'Универсальная размерная сетка: Женская одежда', 'attribute_isaspect': False, 'attribute_showascharacteristic': False}\n {'attribute_name': 'SizeGrid', 'attribute_value': 'Универсальная размерная сетка: мужская одежда', 'attribute_isaspect': False, 'attribute_showascharacteristic': False}\n {'attribute_name': 'StyleApparel', 'attribute_value': 'Повседневный', 'attribute_isaspect': False, 'attribute_showascharacteristic': True}\n {'attribute_name': 'Season', 'attribute_value': 'Еврозима', 'attribute_isaspect': False, 'attribute_showascharacteristic': True}\n {'attribute_name': 'FilterSizeINT', 'attribute_value': 'XL', 'attribute_isaspect': False, 'attribute_showascharacteristic': False}\n {'attribute_name': 'Name', 'attribute_value': 'Худи patagonia', 'attribute_isaspect': False, 'attribute_showascharacteristic': False}\n {'attribute_name': 'ColorBase_Forfilter', 'attribute_value': 'Серый', 'attribute_isaspect': False, 'attribute_showascharacteristic': False}]",
         "[ 4.74527836e-01 -4.72779691e-01 -5.19719362e-01 -8.22153389e-02\n  9.74171013e-02 -5.16386509e-01 -3.37089121e-01 -5.21000773e-02\n -3.47662687e-01 -3.18732828e-01  1.63386226e-01  2.74945110e-01\n -1.36494711e-01 -3.20902556e-01 -1.42271668e-02  4.63798761e-01\n -1.42892468e+00 -4.61231351e-01  5.92511296e-01  1.03311539e-02\n -3.47276628e-01 -4.97440130e-01  1.30948275e-01  6.32624209e-01\n  2.20306113e-01 -1.21107531e+00  2.16587901e-01 -1.23455226e-01\n -4.81077135e-01 -3.59438419e-01  4.68474627e-01  1.58703551e-01\n  2.11229920e-01  7.23583698e-02  4.93647158e-02  2.14897215e-01\n -2.97019333e-01  2.93437302e-01  3.09492052e-01 -2.15525836e-01\n -5.78047931e-02 -7.37667605e-02  5.65662503e-01 -1.11199766e-02\n -3.43803287e-01  2.34824181e-01 -1.31563604e-01  6.59409940e-01\n -1.85864523e-01  8.99576187e-01  5.03178835e-01 -7.29252040e-01\n -2.63543129e-01 -2.02919409e-01  5.19614697e-01 -2.01322615e-01\n  1.18789375e-01  1.36500552e-01 -2.68116742e-01  2.59574920e-01\n -3.02748322e-01 -2.41707563e-01  2.63201445e-01  3.24366301e-01\n  2.29511157e-01  1.70245022e-02 -2.99891233e-02 -1.09029722e+00\n  2.79298365e-01 -8.42407584e-01 -2.27371424e-01 -1.10620603e-01\n -2.15255767e-01  5.77820539e-02  1.27335668e-01 -8.43788862e-01\n  1.40589988e+00  5.02276540e-01  2.28171647e-02 -5.49097657e-02\n  3.61584574e-02 -5.34465075e-01  6.78791702e-02  1.70138493e-01\n -1.63665861e-01  3.67703706e-01  3.89256328e-02 -2.25489929e-01\n -1.15712747e-01 -1.65438503e-02  1.38649285e-01  3.20537925e-01\n -6.86583519e-01 -4.71441150e-01 -2.78095186e-01 -2.84123600e-01\n  4.36865866e-01 -2.47457936e-01 -5.10621965e-02 -8.05235505e-02\n -3.57703447e-01 -3.42301518e-01  7.87311792e-02  3.25793266e-01\n  2.63900161e-01 -5.60327530e-01  3.69762123e-01 -8.17035973e-01\n -5.81825137e-01 -1.20862156e-01 -6.89494491e-01  7.75596052e-02\n -1.62981629e-01  2.34498799e-01 -6.04023337e-01 -7.43677616e-02\n -1.81336254e-01 -8.53490829e-02  3.10926676e-01 -5.27703583e-01\n  5.44821084e-01  3.52014601e-01 -1.76102713e-01 -1.84132576e-01\n  2.33482540e-01 -6.84028506e-01 -6.57360852e-02 -5.64413071e-02\n  1.74814895e-01 -2.99141973e-01 -1.94409788e-02  1.65897638e-01\n  1.20307386e-01 -6.49168968e-01  1.79183036e-01  5.35013676e-01\n  2.99400359e-01  1.21918671e-01  3.46865386e-01 -4.33593124e-01\n -4.57726419e-02 -1.07392251e-01 -2.13151857e-01  4.77679610e-01\n -2.88638085e-01  8.51997614e-01 -4.69265074e-01 -2.82356709e-01\n -2.53946483e-01  2.17152610e-01 -2.73531526e-01  3.25803846e-01\n  2.94315338e+00 -1.80687964e-01  6.96232170e-02 -1.16692960e-01\n -3.47700268e-02  4.11203057e-01  5.27472273e-02  1.72912076e-01\n  4.35297608e-01  2.65388012e-01 -8.84700269e-02  2.31496871e-01\n  2.54902393e-01  9.76230025e-01  6.98549569e-01 -6.69615746e-01\n -1.19003363e-01  4.25523043e-01  3.21560442e-01 -5.80683127e-02\n -2.06148773e-01 -3.31444740e-02 -2.30132014e-01 -2.12728396e-01\n  5.89932323e-01 -5.43935061e-01 -1.57391262e+00  5.74095368e-01\n -6.03779614e-01 -1.14177674e-01  4.15371954e-02  5.92779160e-01\n -4.65918034e-02 -2.68787891e-02  9.93467927e-01 -3.22092831e-01\n -4.54677105e-01 -3.03662956e-01 -2.60455608e-01 -1.24280602e-01\n  1.74107641e-01 -3.90700161e-01  4.74011451e-01  1.58269107e-02\n -2.87650436e-01 -2.30204388e-01  2.48025462e-01  3.42404693e-01\n  6.58356130e-01  2.79525816e-02  2.17466623e-01  8.03069472e-02\n -9.07999426e-02  2.17756003e-01  8.35043862e-02 -3.46791148e-01\n  2.03068882e-01  3.87011588e-01 -2.00122654e-01 -9.11434054e-01\n  2.44800538e-01 -1.92672983e-01 -2.84857839e-01 -1.09304562e-01\n  1.16760030e-01  5.85592270e-01  7.45376945e-03 -5.38736701e-01\n  3.14752579e-01  3.45973372e-01  2.52483189e-02  2.80760288e-01\n  3.81115884e-01 -1.62518770e-02 -3.07725251e-01 -3.47116560e-01\n -3.23321596e-02 -1.42899305e-01  5.86262941e-01 -2.42790461e-01\n  1.99443802e-01  9.67690498e-02 -3.71879786e-02 -3.46533120e-01\n -5.60301185e-01  2.94641137e-01  3.21177334e-01 -3.85935843e-01\n -1.48348063e-01  1.11498797e+00  1.23208977e-01 -7.24023938e-01\n  4.13851947e-01 -6.22914851e-01 -3.24864835e-01 -7.51641750e-01\n  1.70539692e-01  9.54890251e-03  7.41603255e-01  2.53137171e-01\n  5.78207970e-01 -2.28037372e-01 -4.20734733e-01  3.76158774e-01\n -3.93927932e-01 -1.11718848e-02  3.10140848e-01  2.42856517e-01\n -5.39905369e-01  3.49517405e-01  2.77793437e-01 -1.37678981e-01\n  1.19171187e-01  3.69828343e-02 -9.02334452e-02  3.02108616e-01\n -1.07062139e-01  3.10973972e-02 -7.27767825e-01  3.61696064e-01\n  5.71473718e-01  4.27695625e-02  4.41175312e-01  2.18941346e-02\n -2.68695801e-02  1.77414507e-01  2.49527603e-01  5.99756598e-01\n -2.95892537e-01 -1.05792224e-01  2.19750658e-01  3.10670137e-01\n  2.20047712e-01 -1.53704464e-01  8.80177677e-01  1.94891751e-01\n -1.84845030e-02 -1.04964703e-01  3.18787873e-01 -4.73782778e-01\n -5.41498661e-02  2.19234973e-01 -4.73440260e-01  1.94172800e-01\n  2.88762227e-02 -1.72494054e-01  1.21822655e-01  3.63324404e-01\n  3.19047272e-01 -1.53262600e-01 -1.85685799e-01  1.48650557e-01\n -1.04113364e+00  1.15855336e-01 -3.93427789e-01 -2.94194102e+00\n -4.88978699e-02  3.44299749e-02 -6.42929733e-01 -5.67479253e-01\n -1.43234923e-01  3.04321766e-01  3.05470586e-01 -1.19178832e-01\n  1.80518299e-01 -5.02789915e-01  5.14182210e-01 -4.40942585e-01\n  1.80006832e-01 -7.80471027e-01 -5.07913232e-01 -2.05618143e-01\n -5.98720789e-01 -3.06618661e-01  1.71021089e-01 -5.52659154e-01\n -3.24354768e-01 -6.84339225e-01 -1.59070760e-01 -1.66815013e-01\n -6.35113955e-01 -2.90880740e-01 -6.39929712e-01  4.82412279e-02\n -2.53682643e-01 -5.13688445e-01 -7.01029539e-01  2.82716811e-01\n -8.16694647e-02 -1.66735768e-01  3.72696370e-02 -9.90280360e-02\n -5.86386919e-01 -4.84568477e-01 -5.12483656e-01  2.42184356e-01\n -1.26139164e+00 -1.18621039e+00  6.68401837e-01 -2.66159475e-02\n -5.95038235e-02 -2.22852290e-01 -7.23788679e-01  3.18004638e-01\n  9.39801335e-02 -4.43611071e-02 -1.00385904e-01  2.42501855e-01\n -4.13849950e-02 -3.58100384e-01  2.62365133e-01  3.10961366e-01\n -4.03460324e-01  1.69135720e-01 -1.92104995e-01  3.53144646e-01\n  1.37453899e-01 -3.40118676e-01  1.89448297e-02 -2.51165450e-01\n -2.21472889e-01 -2.18952775e-01 -6.98470473e-02 -7.00737715e-01\n  5.53736836e-02 -4.45481718e-01  3.56947541e-01 -4.94730175e-01\n  5.57346269e-02 -9.72095728e-02 -5.46776950e-02 -2.74046212e-01\n -1.10995077e-01  8.79866034e-02  4.66654152e-02 -2.98297703e-01\n  1.18119046e-01 -1.98377162e-01  2.99736440e-01 -8.45969439e-01\n  1.87641278e-01  7.62397051e-02 -8.15825462e-01  4.26722974e-01\n -4.48255062e-01 -8.30151141e-03 -2.75109798e-01 -1.19898111e-01\n  2.25988895e-01  2.28372991e-01 -1.14723280e-01  8.21667075e-01\n  1.95369720e-01  7.75085837e-02 -3.73766929e-01 -1.24589771e-01\n  3.07145298e-01 -1.58383772e-02  3.08540583e-01 -9.65848565e-02\n  9.27218437e-01 -3.01995128e-01  4.31104034e-01  3.06920767e-01\n -7.42422462e-01 -9.91728455e-02 -2.78519124e-01  1.54592365e-01\n  1.57997340e-01  7.33870149e-01 -2.50116885e-02 -2.24126875e-01\n  7.92618990e-01 -1.82618380e-01 -1.63471743e-01  2.09044129e-01\n  3.33612531e-01 -4.29740369e-01  4.40064937e-01  1.87442434e+00\n -4.34098363e-01  6.42778650e-02  2.35596150e-01  3.69932652e-01\n  5.70765674e-01  3.64406854e-01 -3.75846386e-01  1.88153177e-01\n -3.13851237e-02 -5.46185315e-01  5.26051819e-01 -5.96801579e-01\n  3.04398358e-01  2.39722431e-02 -5.08109689e-01  3.28321755e-01\n  2.98698127e-01  2.72544950e-01 -3.23013484e-01  3.63397270e-01\n  3.23050320e-02  1.57049745e-01 -1.32324994e-02 -1.30039394e-01\n -3.25793266e-01 -3.22732538e-01 -6.48104668e-01 -7.66106367e-01\n  7.54456595e-02 -6.44450605e-01  2.25540876e-01 -1.46200553e-01\n  1.87317431e-02 -4.74602699e-01  2.35302210e-01  9.37602594e-02\n -3.64046574e-01  1.26016259e-01  2.30659440e-01 -6.41884565e-01\n -9.40516517e-02  7.73128122e-02 -3.95512223e-01  1.66225076e-01\n  3.98633897e-01 -2.54732743e-02  3.33333671e-01  1.20900109e-01\n  4.63032663e-01  1.38878107e-01 -3.42428505e-01 -3.58616859e-02\n -1.52345955e-01  2.00727955e-03  4.30664644e-02  1.63749784e-01\n -4.89977121e-01 -5.16752005e-01 -1.36234951e+00  3.88581157e-01\n  9.62245166e-02  4.20749933e-01 -4.72159296e-01  1.87099606e-01\n -3.42224956e-01  5.49614429e-04 -3.78618449e-01  3.53990257e-01\n -3.26494843e-01  2.88037777e-01  4.17775512e-02 -6.92677021e-01\n -1.28119469e-01 -3.58639896e-01  6.21054173e-01 -4.60829675e-01\n -2.20648482e-01  1.98979482e-01 -5.07764041e-01  5.53976893e-01]",
         "7555",
         "120078071",
         "11645051"
        ],
        [
         "3",
         "872829",
         "Комплект носков adidas 3S C Spw Mid 3P, 3 пары",
         "[{'attribute_name': 'Type', 'attribute_value': 'Комплект носков', 'attribute_isaspect': False, 'attribute_showascharacteristic': True}\n {'attribute_name': 'Brand', 'attribute_value': 'adidas', 'attribute_isaspect': False, 'attribute_showascharacteristic': True}\n {'attribute_name': 'Annotation', 'attribute_value': 'В этих носках adidas ты найдешь баланс между прохладой и защищенностью лодыжек. Изготовленные из смеси хлопка и полиэстера, они имеют проклеенные швы на носке для гладкости и разработаны с целью обеспечения комфорта в течение всего дня.\\n\\nИзделие минимум на 50% состоит из смеси переработанных и возобновляемых материалов.', 'attribute_isaspect': False, 'attribute_showascharacteristic': True}\n {'attribute_name': 'AgeO', 'attribute_value': 'Взрослая', 'attribute_isaspect': False, 'attribute_showascharacteristic': False}\n {'attribute_name': 'ColorBase', 'attribute_value': 'белый', 'attribute_isaspect': True, 'attribute_showascharacteristic': True}\n {'attribute_name': 'ColorBase', 'attribute_value': 'черный', 'attribute_isaspect': True, 'attribute_showascharacteristic': True}\n {'attribute_name': 'ColorBase', 'attribute_value': 'серый', 'attribute_isaspect': True, 'attribute_showascharacteristic': True}\n {'attribute_name': 'ColorName', 'attribute_value': 'mgreyh / white / black', 'attribute_isaspect': True, 'attribute_showascharacteristic': True}\n {'attribute_name': 'RussianSizeClothes', 'attribute_value': '43', 'attribute_isaspect': True, 'attribute_showascharacteristic': True}\n {'attribute_name': 'RussianSizeClothes', 'attribute_value': '45', 'attribute_isaspect': True, 'attribute_showascharacteristic': True}\n {'attribute_name': 'SizeManufacturer', 'attribute_value': 'L', 'attribute_isaspect': True, 'attribute_showascharacteristic': True}\n {'attribute_name': 'SexMaster', 'attribute_value': 'Мужской', 'attribute_isaspect': False, 'attribute_showascharacteristic': True}\n {'attribute_name': 'SizeGrid', 'attribute_value': 'Универсальная размерная сетка: носки взрослые', 'attribute_isaspect': False, 'attribute_showascharacteristic': False}\n {'attribute_name': 'Material', 'attribute_value': 'Хлопок', 'attribute_isaspect': False, 'attribute_showascharacteristic': True}\n {'attribute_name': 'Material', 'attribute_value': 'Полиэстер', 'attribute_isaspect': False, 'attribute_showascharacteristic': True}\n {'attribute_name': 'Material', 'attribute_value': 'Эластан', 'attribute_isaspect': False, 'attribute_showascharacteristic': True}\n {'attribute_name': 'Material', 'attribute_value': 'Полиамид', 'attribute_isaspect': False, 'attribute_showascharacteristic': True}\n {'attribute_name': 'Composition', 'attribute_value': 'хлопок 59%,полиэстер 38%,эластан 2%,полиамид 1%', 'attribute_isaspect': False, 'attribute_showascharacteristic': True}\n {'attribute_name': 'StyleApparel', 'attribute_value': 'Спортивный', 'attribute_isaspect': False, 'attribute_showascharacteristic': True}\n {'attribute_name': 'Season', 'attribute_value': 'На любой сезон', 'attribute_isaspect': False, 'attribute_showascharacteristic': True}\n {'attribute_name': 'NumItemsPair', 'attribute_value': '3 пары', 'attribute_isaspect': True, 'attribute_showascharacteristic': True}\n {'attribute_name': 'Name', 'attribute_value': 'Комплект носков мужской adidas 3S C Spw Mid 3P, цвет: mgreyh / white / black (черный, серый, белый), 3 пары. IC1318. Размер L (43/45)', 'attribute_isaspect': False, 'attribute_showascharacteristic': False}\n {'attribute_name': 'SizeM', 'attribute_value': '38-40', 'attribute_isaspect': False, 'attribute_showascharacteristic': False}\n {'attribute_name': 'ColorBase_Forfilter', 'attribute_value': 'Черный', 'attribute_isaspect': False, 'attribute_showascharacteristic': False}\n {'attribute_name': 'ColorBase_Forfilter', 'attribute_value': 'Серый', 'attribute_isaspect': False, 'attribute_showascharacteristic': False}\n {'attribute_name': 'ColorBase_Forfilter', 'attribute_value': 'Белый', 'attribute_isaspect': False, 'attribute_showascharacteristic': False}]",
         "[-6.98718578e-02 -2.28028321e+00 -5.82907081e-01 -3.36745977e-01\n  3.47535610e-01  2.04724953e-01  2.33352900e-01 -9.49767232e-02\n -6.10154569e-02  2.19411165e-01 -4.64841545e-01  1.33670956e-01\n -2.59698033e-01  4.55635339e-01 -4.09763902e-02 -2.80375928e-01\n -1.23488235e+00  1.60634115e-01 -4.06342745e-01  2.93925017e-01\n  9.84061480e-01 -7.85796642e-01 -1.63216069e-01  2.92783201e-01\n -3.34370136e-02 -1.50765419e+00 -1.09324805e-01  5.51185966e-01\n -3.75309557e-01 -1.87814102e-01 -4.49916482e-01 -2.02623159e-01\n -6.97919369e-01 -2.56911576e-01 -4.41641867e-01 -1.84005052e-01\n -6.98056221e-02  4.95765030e-01 -2.33132511e-01 -1.17199272e-01\n -1.82256579e-01 -4.20019329e-02  6.48203343e-02  2.59961843e-01\n -1.91224694e-01  5.69610059e-01 -5.57690263e-02 -3.17889720e-01\n  4.73097384e-01 -3.06912392e-01  4.09511596e-01 -2.48610049e-01\n -1.92586482e-01 -2.80940533e-02 -9.14387479e-02 -1.16903231e-01\n  4.86715734e-02  1.38748437e-01 -4.75925028e-01  1.45695955e-01\n -7.61330545e-01 -6.82768583e-01  4.31615889e-01 -2.42632329e-01\n  4.15241718e-03 -6.41467944e-02  1.89503983e-01 -1.15594901e-01\n -1.67484522e-01 -3.37326616e-01 -1.85980573e-01 -5.07467985e-03\n  7.80136362e-02 -3.08711141e-01 -2.44617611e-01 -5.50048947e-01\n  2.62207896e-01 -4.81697679e-01 -4.02508080e-01 -3.03515851e-01\n  2.17410505e-01  1.05074927e-01  3.29443440e-02 -2.84220010e-01\n -9.80835706e-02  5.86173594e-01 -4.57817540e-02 -1.13929808e-02\n -5.15689373e-01 -2.46819571e-01 -3.51504177e-01  2.01352954e-01\n  2.20965281e-01 -1.27941698e-01  2.13312685e-01 -5.60555100e-01\n -4.52347398e-01  4.66758132e-01 -5.58291137e-01 -2.68818438e-01\n -3.36387098e-01 -2.46463194e-01 -1.21970803e-01  6.16860390e-03\n  3.53791893e-01 -2.44306624e-02  3.23459804e-01 -1.75693616e-01\n  1.01043239e-01  5.21294028e-02 -1.10519338e+00 -8.25956821e-01\n  2.61741787e-01 -5.14065385e-01  1.49431333e-01  4.48581517e-01\n -6.43475503e-02 -3.59782696e-01 -2.33729780e-01 -3.15626681e-01\n  7.79751539e-02 -6.72572404e-02 -2.18467206e-01 -3.65842700e-01\n  4.09590751e-02  8.48945379e-02 -5.43814525e-02  4.12499726e-01\n -2.37578005e-01  1.91099584e-01  1.61813200e-01  1.92721561e-03\n  4.23577130e-01 -3.83517206e-01 -9.16760340e-02 -2.05314010e-01\n  4.33540761e-01 -2.99351931e-01  9.11653191e-02  5.06146371e-01\n  2.80643880e-01 -2.59630173e-01 -3.34496617e-01  7.91669339e-02\n  1.39548764e-01  6.38614297e-01 -1.88683838e-01 -8.17570567e-01\n -2.95246020e-03 -1.06134824e-01 -4.06688303e-01 -1.45152211e-02\n  3.03843832e+00 -1.71961665e-01 -4.00492311e-01 -3.69734392e-02\n -5.73202193e-01  7.78250769e-03  2.66728908e-01  1.93870351e-01\n -2.04383820e-01 -6.93170428e-02  2.89248586e-01  4.95875776e-02\n  6.52773559e-01  5.37986934e-01 -2.38925502e-01 -6.94814324e-02\n -4.40757930e-01  1.93478405e-01  8.63547206e-01  4.16921288e-01\n -6.64514303e-01  5.36455631e-01  4.75459963e-01  1.03364021e-01\n  2.61138171e-01  1.92652494e-01 -8.13283503e-01  6.08709931e-01\n -3.64435196e-01  4.62411463e-01 -6.64276481e-02 -2.70692110e-01\n  3.00104693e-02  6.04426116e-02  7.22947478e-01 -5.43543212e-02\n  5.24160624e-01 -4.37834352e-01 -7.15523481e-01  8.29597950e-01\n  2.58537889e-01 -7.72730410e-02 -1.29183456e-02  6.35063767e-01\n -5.32533228e-01  3.78953367e-01  1.53830439e-01  5.77084571e-02\n  1.43526480e-01  7.21716642e-01 -5.76566905e-02  4.57100749e-01\n -7.95573443e-02 -1.40065402e-01  5.48216462e-01 -6.34493470e-01\n  5.06763220e-01 -1.45682782e-01 -3.41783166e-02  7.23823905e-03\n  3.42183352e-01  6.09393269e-02 -4.45736438e-01  4.06151146e-01\n  3.88930477e-02 -3.44351172e-01 -3.12956393e-01 -6.44852877e-01\n  1.97452635e-01 -4.24958736e-01 -2.56696463e-01  1.71279907e-02\n -5.51472485e-01  5.06823897e-01 -3.77696961e-01 -1.70248345e-01\n -4.04855996e-01  5.01439452e-01  2.58187443e-01  3.05042893e-01\n  1.90499276e-02  5.72436824e-02 -3.44202667e-01  6.93729222e-01\n -3.07653248e-01  6.63276613e-01  2.52791017e-01  1.71266645e-01\n  2.18425430e-02  1.81571186e+00 -3.86363804e-01  1.54482409e-01\n -2.96980441e-01 -5.81157327e-01  4.62519884e-01 -7.76784837e-01\n  7.39019930e-01 -3.27637345e-01  3.00872236e-01  1.26309291e-01\n  3.31583470e-02 -1.86362147e-01 -3.74652654e-01 -2.06076086e-01\n -1.91542119e-01 -7.73381114e-01  4.98526305e-01 -2.12261140e-01\n  1.15447789e-01  1.78111598e-01 -1.74597204e-01  2.14414701e-01\n -4.79162559e-02 -4.20164824e-01  1.98809788e-01 -2.82950908e-01\n  2.62754232e-01 -6.64389551e-01 -1.28882134e+00 -8.60904455e-01\n  2.19240293e-01 -3.18123817e-01  8.09177756e-04 -5.41932642e-01\n -3.15400124e-01  1.99645758e-01 -1.09625496e-02  3.06087494e-01\n  2.77030945e-01  4.67778116e-01 -3.17239195e-01  1.91220254e-01\n  3.62006694e-01  3.12660217e-01  2.02451095e-01  2.29091913e-01\n  3.21255624e-01 -1.28390715e-02  5.89454293e-01 -4.33391094e-01\n -7.77116716e-02  1.87151581e-01  3.15734535e-01  2.09320113e-01\n -4.72728908e-01 -4.51901615e-01 -1.15245745e-01 -4.66004431e-01\n -4.16566372e-01 -1.63031220e-01  3.55910689e-01 -5.35869241e-01\n -9.17490304e-01  1.18072987e-01 -4.14786339e-01 -3.03471875e+00\n -1.74708948e-01 -1.07300982e-01  6.31115615e-01  7.23152220e-01\n  2.18280733e-01  2.99881279e-01  5.00933111e-01 -1.00714326e-01\n -1.47472411e-01 -5.68271577e-02 -2.22510085e-01 -6.53992772e-01\n -6.98000193e-02 -2.44448230e-01 -5.33857644e-01  9.10243690e-01\n -4.52133238e-01 -4.01458740e-01 -5.26605487e-01  9.62328464e-02\n -1.89298674e-01 -2.86503464e-01 -3.71599644e-02 -1.60403162e-01\n  2.58055031e-01 -3.83764505e-04  3.86449039e-01  1.97630122e-01\n  5.30570626e-01 -1.12651043e-01 -6.84711933e-02 -2.48493969e-01\n  2.05546796e-01 -1.94221377e-01  1.16260275e-02  2.17662871e-01\n  1.44800097e-01 -2.39972726e-01  2.28087425e-01 -8.51232857e-02\n -1.22596586e+00 -4.02221859e-01  4.94459897e-01  1.66777492e-01\n -2.77080745e-01  6.46812916e-02 -2.57490844e-01 -2.39481032e-02\n -4.38798547e-01  3.30291212e-01 -6.95169419e-02 -2.60193110e-01\n -5.46058267e-02  1.19286589e-01  1.09236777e-01 -7.16633677e-01\n -3.33471775e-01 -1.21705025e-01  4.21687782e-01 -2.51195610e-01\n  3.56872708e-01  2.39378586e-01  2.81205386e-01  1.76820263e-01\n  2.53634512e-01 -1.28733411e-01 -3.73451859e-01  4.27883089e-01\n  9.33417231e-02 -3.87603045e-01  4.07449335e-01  1.23424217e-01\n  1.46685556e-01  1.93967432e-01 -7.02671885e-01 -2.97045469e-01\n  6.85150504e-01 -2.76635647e-01  3.99419963e-02 -1.88248038e-01\n  3.54665220e-01 -1.30798340e-01  2.88620144e-02 -4.99762535e-01\n  6.79378510e-01  1.67916819e-01  8.10233504e-02  5.16748309e-01\n  1.44037172e-01 -2.10713536e-01 -4.04963136e-01 -2.50009924e-01\n  6.17468357e-02 -1.69197768e-02  2.45844096e-01  5.43629825e-02\n  8.59931648e-01  3.43311429e-01  5.54359555e-01 -2.92218149e-01\n  2.90800273e-01  3.46483171e-01  2.98441231e-01 -2.97997087e-01\n -4.88714278e-02 -9.80792046e-02  2.56354570e-01 -2.38431111e-01\n -2.77699977e-01  1.31024003e-01 -3.85678023e-01 -4.41332757e-01\n  1.29158542e-01 -1.53240368e-01 -3.09990913e-01 -7.63721466e-01\n  6.13487184e-01 -9.24498588e-02  1.39828518e-01  1.13986641e-01\n  1.98384002e-01 -2.99802542e-01  1.66924953e-01  1.40109348e+00\n -1.30412847e-01  1.33798778e-01  3.48696232e-01  1.70493513e-01\n  5.07353425e-01  2.75905609e-01 -2.13971138e-01 -6.34056404e-02\n  2.98090070e-01  8.87279212e-02 -4.81087029e-01 -7.35737383e-02\n  4.25690949e-01  3.62912148e-01  1.42712891e-01  1.35222524e-01\n  1.20383537e+00  9.55015421e-03 -1.61233693e-02 -1.20954543e-01\n  4.86652195e-01 -1.29379913e-01 -1.42699003e-01 -2.42520586e-01\n  2.39493370e-01  8.03428888e-02 -3.28930676e-01 -1.13854617e-01\n -2.73537636e-01 -2.13539898e-01 -2.05686107e-01  1.30362973e-01\n  4.07945514e-01  1.44606262e-01 -3.19185406e-02  4.73908246e-01\n  4.96120930e-01  5.51584899e-01  1.85782284e-01  4.61469620e-01\n  5.19604981e-03  2.89903343e-01  3.22037578e-01  2.68209964e-01\n  1.97436571e-01 -1.58065230e-01  8.53565514e-01 -2.91742295e-01\n  9.43746120e-02 -5.93312442e-01  5.38395107e-01 -1.04553439e-01\n  1.83589563e-01  4.82637882e-02 -1.96041822e-01 -2.61564016e-01\n  5.32967925e-01  1.63109183e-01 -1.60063148e+00 -1.65844530e-01\n  7.08136916e-01  6.52109921e-01  8.05769116e-02  5.15615582e-01\n -2.71074623e-01  2.37191856e-01  7.33154178e-01  3.96043509e-02\n  1.77816153e-01 -3.37521851e-01 -2.79945791e-01  1.46442324e-01\n -2.49580994e-01 -7.06396997e-04 -5.57106733e-03  5.58785081e-01\n  1.84167594e-01 -1.59618974e-01  1.10041931e-01  1.99489713e-01]",
         "36563",
         "247120069",
         "38088455"
        ],
        [
         "4",
         "893255",
         "Жилет Buy & Style жилеты",
         "[{'attribute_name': 'Type', 'attribute_value': 'Жилет', 'attribute_isaspect': False, 'attribute_showascharacteristic': True}\n {'attribute_name': 'Brand', 'attribute_value': 'Buy & Style', 'attribute_isaspect': False, 'attribute_showascharacteristic': True}\n {'attribute_name': 'Annotation', 'attribute_value': 'Элегантный жилет женский вязаный на пуговицах станет универсальным дополнением к вашему гардеробу. Эта жилетка женская весенняя оверсайз прекрасно подходит для создания стильных образов. Данный жилет вязаный женский не сковывает движения. Жилетка женская вязаная на пуговицах идеально смотрится с различными элементами гардероба. Благодаря своему дизайну, жилет на пуговицах женский вязаный может стать основным акцентом весеннего наряда или стильным слоем в осеннем комплекте. Безрукавка женская вязаная отличается продуманным кроем, что делает этот жилет женский идеальным для носки в межсезонье. Легкая безрукавка женская весенняя позволит вам оставаться стильной даже в прохладные дни. Жилетка женская вязаная является незаменимым элементом для тех, кто ценит комфорт и стиль. Жилетка женская оверсайз создаст неповторимый образ. Жилет с v образным вырезом смотрится очень актуально и модно.', 'attribute_isaspect': False, 'attribute_showascharacteristic': True}\n {'attribute_name': 'ColorBase', 'attribute_value': 'черный графит', 'attribute_isaspect': True, 'attribute_showascharacteristic': True}\n {'attribute_name': 'ColorBase', 'attribute_value': 'мягкий белый', 'attribute_isaspect': True, 'attribute_showascharacteristic': True}\n {'attribute_name': 'ColorName', 'attribute_value': 'бело-черный', 'attribute_isaspect': True, 'attribute_showascharacteristic': True}\n {'attribute_name': 'RussianSizeClothes', 'attribute_value': '40', 'attribute_isaspect': True, 'attribute_showascharacteristic': True}\n {'attribute_name': 'RussianSizeClothes', 'attribute_value': '42', 'attribute_isaspect': True, 'attribute_showascharacteristic': True}\n {'attribute_name': 'RussianSizeClothes', 'attribute_value': '44', 'attribute_isaspect': True, 'attribute_showascharacteristic': True}\n {'attribute_name': 'RussianSizeClothes', 'attribute_value': '46', 'attribute_isaspect': True, 'attribute_showascharacteristic': True}\n {'attribute_name': 'SizeManufacturer', 'attribute_value': 'one size', 'attribute_isaspect': True, 'attribute_showascharacteristic': True}\n {'attribute_name': 'SizeM', 'attribute_value': '40-44', 'attribute_isaspect': False, 'attribute_showascharacteristic': True}\n {'attribute_name': 'SexMaster', 'attribute_value': 'Женский', 'attribute_isaspect': False, 'attribute_showascharacteristic': True}\n {'attribute_name': 'HeightM', 'attribute_value': '170 см', 'attribute_isaspect': False, 'attribute_showascharacteristic': True}\n {'attribute_name': 'SizeGrid', 'attribute_value': 'Универсальная размерная сетка: Женская одежда', 'attribute_isaspect': False, 'attribute_showascharacteristic': False}\n {'attribute_name': 'Material', 'attribute_value': 'Акрил', 'attribute_isaspect': False, 'attribute_showascharacteristic': True}\n {'attribute_name': 'Material', 'attribute_value': 'Хлопок', 'attribute_isaspect': False, 'attribute_showascharacteristic': True}\n {'attribute_name': 'Composition', 'attribute_value': '50% хлопок; 50% акрил', 'attribute_isaspect': False, 'attribute_showascharacteristic': True}\n {'attribute_name': 'InnerMaterial', 'attribute_value': 'Без подклада', 'attribute_isaspect': False, 'attribute_showascharacteristic': True}\n {'attribute_name': 'StyleApparel', 'attribute_value': 'Повседневный', 'attribute_isaspect': False, 'attribute_showascharacteristic': True}\n {'attribute_name': 'Season', 'attribute_value': 'Демисезон', 'attribute_isaspect': False, 'attribute_showascharacteristic': True}\n {'attribute_name': 'clothescut', 'attribute_value': 'оверсайз', 'attribute_isaspect': False, 'attribute_showascharacteristic': True}\n {'attribute_name': 'FilterSizeINT', 'attribute_value': 'S', 'attribute_isaspect': False, 'attribute_showascharacteristic': False}\n {'attribute_name': 'FilterSizeINT', 'attribute_value': 'M', 'attribute_isaspect': False, 'attribute_showascharacteristic': False}\n {'attribute_name': 'FilterSizeINT', 'attribute_value': 'XS', 'attribute_isaspect': False, 'attribute_showascharacteristic': False}\n {'attribute_name': 'DressLength', 'attribute_value': 'до талии', 'attribute_isaspect': False, 'attribute_showascharacteristic': True}\n {'attribute_name': 'Name', 'attribute_value': 'Жилет женский вязаный на пуговицах', 'attribute_isaspect': False, 'attribute_showascharacteristic': False}\n {'attribute_name': 'ColorBase_Forfilter', 'attribute_value': 'Белый', 'attribute_isaspect': False, 'attribute_showascharacteristic': False}\n {'attribute_name': 'ColorBase_Forfilter', 'attribute_value': 'Черный', 'attribute_isaspect': False, 'attribute_showascharacteristic': False}]",
         "[ 1.24887630e-01  5.46629310e-01  2.90310025e-01  2.14999616e-01\n -3.52082968e-01 -1.67543054e-01  4.01333347e-02 -4.27894294e-01\n -1.78856626e-02  5.05749226e-01 -2.16259867e-01 -2.49503717e-01\n -4.87492740e-01  7.78298795e-01  1.95957720e-01  7.83140957e-02\n -4.83941674e-01 -3.52082223e-01  3.26658279e-01  1.09278336e-01\n -5.13031602e-01  7.87895620e-02 -9.69763100e-03 -1.08338594e-02\n -9.99397635e-02 -1.63990080e-01 -1.32545829e-01  4.46254045e-01\n -8.82420421e-01 -1.97127461e-03 -5.85299909e-01 -2.35121697e-03\n -2.60545671e-01 -2.52153158e-01 -1.66758746e-01 -1.65879913e-03\n -1.35128200e-03  9.13624108e-01  1.74665645e-01 -6.74063116e-02\n  8.15567255e-01  5.22827953e-02  4.62742075e-02  6.26455471e-02\n -6.07518673e-01 -2.63772190e-01 -2.25759223e-01  6.14306331e-02\n  3.54264259e-01  9.97141004e-02  6.62634492e-01  5.00522926e-02\n  2.56457388e-01  3.37292224e-01 -5.68149209e-01 -4.01976049e-01\n -4.57110047e-01  2.85612851e-01  2.19311178e-01  9.63055491e-02\n -2.38889590e-01  4.08701777e-01 -2.42688507e-03  7.31747210e-01\n -2.92154223e-01  2.18294770e-01  5.94173908e-01 -6.83243811e-01\n -9.05582681e-02 -2.85639018e-02 -7.66924202e-01  5.66430464e-02\n  1.83397055e-01  7.56878018e-01  5.33764362e-01 -8.86762142e-02\n -1.14165270e+00  5.34030020e-01 -7.40609020e-02 -2.29939401e-01\n -6.03309125e-02  3.57465893e-02 -3.89159173e-02 -6.88478574e-02\n  1.51455879e-01  6.02636635e-02  3.59597206e-01  3.79880250e-01\n  7.40000725e-01  3.24143618e-01  6.25660866e-02  2.69544661e-01\n  2.76449651e-01 -1.61052451e-01  2.85870194e-01  6.50679410e-01\n -2.24666893e-02 -1.21563613e-01  4.21748400e-01  2.11768612e-01\n -4.78573442e-01  1.95727140e-01 -4.18927372e-02  4.13323760e-01\n  4.85539317e-01 -1.91898882e-01  9.86952037e-02 -4.20543551e-01\n -1.09944507e-01 -9.37648490e-02 -1.40500319e+00 -2.66585052e-01\n  8.10364261e-02 -2.34800339e-01  4.48699474e-01  6.39654160e-01\n -3.04073393e-01  8.44812542e-02 -6.18690997e-02  5.48902154e-02\n  6.79720640e-02  2.94150054e-01 -9.32441801e-02 -4.68835235e-02\n  4.73791957e-01 -1.14248350e-01  4.19402748e-01  1.18094742e-01\n  3.55461329e-01  2.32878268e-01 -1.55338526e-01 -6.72332883e-01\n  2.44192734e-01  4.20250446e-01 -2.39666075e-01 -6.61216021e-01\n -1.47397175e-01  4.70695525e-01 -4.99613523e-01  7.91536272e-03\n -4.27579522e-01  5.84406406e-03  4.98312563e-01 -4.06332821e-01\n  6.34739578e-01  6.33527756e-01  4.75415647e-01  4.01371241e-01\n -2.14852154e-01 -3.55939865e-02  4.36645240e-01 -2.58859634e-01\n  3.15619445e+00 -4.06175405e-01 -1.89109638e-01  5.02194941e-01\n  2.39496142e-01  1.96924374e-01 -5.97790033e-02  1.46785110e-01\n  2.01271385e-01 -3.15011084e-01 -2.77283043e-03  1.27061158e-01\n -1.52196839e-01 -1.24744523e+00  1.52016670e-01  8.48931372e-02\n  2.86574513e-01 -5.66045344e-02  2.25029260e-01  1.19586438e-01\n  1.74188465e-01  5.16168058e-01  1.71603277e-01 -2.23769045e+00\n -1.14731580e-01  1.48497522e-01 -5.50025940e-01 -3.72875035e-01\n -2.10052431e-01 -1.07611239e-01  7.08204091e-01  1.21308863e-03\n -8.69045258e-01  2.32963026e-01  8.11856151e-01  3.69432598e-01\n -2.41913885e-01 -1.33003354e-01 -7.76446760e-02  1.40376925e+00\n  5.00396013e-01  1.42313421e-01 -2.07999498e-01 -1.36705667e-01\n -4.81064856e-01  1.49757147e-01 -6.95749819e-01  3.53669524e-01\n  6.82264924e-01  2.80424476e-01  2.19607070e-01 -6.20253384e-02\n -6.74456805e-02  4.12451386e-01 -1.53627679e-01 -3.18896472e-01\n -9.11759734e-02 -3.86136025e-02 -3.47551137e-01  1.36476368e-01\n -8.34640861e-02  5.81578493e-01 -5.55280089e-01  8.53792280e-02\n -2.05099002e-01 -1.84401393e-01 -1.84851289e-01 -1.72155559e-01\n  1.36599854e-01 -3.40553105e-01 -3.39448571e-01 -3.71955574e-01\n -1.96190417e-01  9.32984948e-02 -1.02699876e-01  2.91227102e-01\n -1.31052822e-01  1.74731612e-01  2.25913346e-01  4.12394047e-01\n -3.00002635e-01 -9.41619277e-04  4.92824465e-01 -5.31548738e-01\n -5.08651510e-02  9.29812044e-02  5.81071615e-01  2.20453739e-02\n -1.47600055e-01 -6.23125076e-01  9.33786035e-01 -2.33086050e-01\n  3.13010067e-02  2.11148515e-01 -2.48478115e-01 -6.94417775e-01\n -1.45241082e-01  8.87055814e-01 -2.26829499e-02  2.05580115e-01\n  6.37612224e-01 -7.66767502e-01 -3.42678547e-01  8.34118053e-02\n -4.14675653e-01  1.65953547e-01 -6.51245177e-01 -5.92602789e-02\n -1.36838049e-01 -5.94818354e-01  1.32375956e-02 -1.23011045e-01\n -2.50729680e-01 -2.23412186e-01  4.42563072e-02  1.31589442e-01\n -6.37502432e-01  1.56089321e-01 -2.86025822e-01  4.00827751e-02\n  6.61233515e-02  1.12324923e-01 -1.27822950e-01 -1.44265786e-01\n  1.80155516e-01  2.60868967e-01 -2.54271299e-01 -2.74476171e-01\n  6.39678985e-02  1.21479464e+00 -2.35403404e-01  2.24559113e-01\n -3.09189230e-01  2.07106501e-01  3.05244446e-01 -4.80810761e-01\n -2.17846781e-01 -2.50357628e-01  1.83505684e-01  8.68529156e-02\n -1.31412685e-01 -5.71883261e-01 -2.19593078e-01  1.00473464e-01\n -6.08327627e-01  4.88457441e-01 -3.75447571e-02 -2.32213721e-01\n -1.15222335e-01 -3.30737501e-01 -2.15053663e-01 -4.72049057e-01\n  1.48974884e+00  1.83494955e-01 -7.87110746e-01 -3.14593124e+00\n  1.60275534e-01 -4.11001414e-01 -7.54550457e-01 -4.32267338e-01\n  2.64587432e-01 -7.61103392e-01  8.35093260e-01 -7.00984716e-01\n -2.78362989e-01  2.23764747e-01 -1.08660325e-01  3.32956195e-01\n  1.39334992e-01 -2.35446543e-02  5.31034917e-02  4.39918995e-01\n -2.34520078e-01  5.80148995e-02 -2.55597293e-01 -5.57578266e-01\n -8.11769128e-01  2.69296050e-01 -2.30743274e-01  3.64997923e-01\n  1.26332149e-01  5.03861427e-01 -1.30407557e-01 -2.63697445e-01\n  4.01717186e-01 -2.12742448e-01  3.58637422e-02  4.17205691e-02\n  3.35445762e-01  1.38786450e-01  7.61753321e-02  5.01532614e-01\n  1.28803968e-01 -1.05151638e-01 -1.46941125e-01  2.22791314e-01\n -1.18830132e+00 -3.76817644e-01  6.99510455e-01  1.46465302e-02\n  1.88974604e-01  2.10880160e-01 -5.27399480e-01  4.03621942e-02\n -1.15598880e-01 -1.04704797e-01  6.50352716e-01  2.91807950e-02\n -1.42189562e-01  2.74579644e-01 -4.05181050e-01 -6.53718710e-02\n -3.23596001e-01  6.50705636e-01 -1.41865194e-01  1.26295567e-01\n -8.04080248e-01 -3.44226658e-02 -6.98045194e-02 -1.76972032e-01\n  1.85883507e-01  1.71410769e-01 -1.27958983e-01  1.19307685e+00\n  1.75340325e-01 -5.82224011e-01  1.41659856e-01  6.92907572e-02\n  7.77670145e-01 -2.90763140e-01 -3.12110186e-01 -1.39788985e-01\n -1.67641774e-01  7.91905105e-01 -2.93153942e-01 -2.21619487e-01\n  1.84243873e-01 -6.61255419e-01  1.58091411e-01  1.55864060e-01\n  5.06229937e-01  8.55770648e-01  1.42026567e+00 -7.13555738e-02\n  5.42342782e-01 -8.47856998e-02  1.64676696e-01 -2.75161266e-01\n -1.36780456e-01  3.95717442e-01 -5.01890481e-02  7.72152424e-01\n  9.09121037e-02  1.35604620e-01 -3.34896058e-01 -1.10956669e+00\n -9.02179629e-02  1.64624825e-02 -2.10912526e-01  2.38258228e-01\n  7.59945661e-02 -4.66246784e-01  3.89065593e-01 -7.26635158e-02\n  3.50024283e-01 -3.89683664e-01 -3.90646160e-02 -1.59863204e-01\n  7.06534684e-01 -2.54284203e-01  1.00657618e+00 -5.42472839e-01\n  1.83940381e-01 -4.37618226e-01  3.26380193e-01 -9.87779856e-01\n -1.65736213e-01  1.20940313e-01 -1.23104453e-03  1.91686726e+00\n  4.13874015e-02 -1.54148102e-01 -2.62794137e-01 -3.69813919e-01\n -1.71767876e-01  3.23097795e-01  7.25368142e-01 -1.66924879e-01\n  4.58903432e-01 -2.41840869e-01 -1.31136775e-01 -3.00364614e-01\n  5.28253734e-01 -5.29976189e-01 -4.38419878e-01 -5.90138674e-01\n -2.02810317e-01  1.48554578e-01  3.78765106e-01 -1.84626728e-01\n -1.88090637e-01 -2.92869747e-01 -1.56759039e-01 -1.25394964e+00\n  2.66157210e-01 -6.84463680e-02 -1.51602775e-01 -1.22215629e-01\n  4.91096020e-01 -7.60602057e-02 -3.92522126e-01  1.62986666e-01\n -5.21583706e-02  3.64445671e-02  3.28496933e-01  6.20433807e-01\n  1.43574104e-02  7.28660047e-01 -3.51505518e-01 -2.71539390e-02\n -3.45927477e-02  5.11580706e-01  7.75564015e-02 -1.77485913e-01\n  8.45604599e-01  2.90505230e-01  7.38370478e-01  3.88705850e-01\n -1.38447940e-01  3.23505223e-01  5.58687329e-01  5.08999586e-01\n  2.32962817e-02  4.67012636e-02 -2.80042261e-01 -3.20595205e-01\n  2.79243410e-01  1.68065190e-01 -2.35302067e+00 -2.62607127e-01\n  4.72331703e-01  4.64848280e-01  2.85137355e-01  1.11784711e-02\n  2.22206220e-01  4.08938557e-01 -2.61730403e-02  3.86689603e-02\n -1.66377664e-01 -2.63544619e-01  1.68032646e-02 -1.26726556e+00\n -7.92317271e-01  9.06269625e-02  2.24103570e-01 -2.28036880e-01\n -2.91389287e-01 -8.73183608e-02  3.45896423e-01  1.08914271e-01]",
         "7535",
         "327822613",
         "19339929"
        ],
        [
         "5",
         "1127352",
         "Босоножки MARISETTA",
         "[{'attribute_name': 'Name', 'attribute_value': 'Женские бежевые туфли босоножки с ремешками, Marisetta 245-31WK-909SS', 'attribute_isaspect': False, 'attribute_showascharacteristic': False}\n {'attribute_name': 'Type', 'attribute_value': 'Босоножки', 'attribute_isaspect': False, 'attribute_showascharacteristic': False}\n {'attribute_name': 'Brand', 'attribute_value': 'MARISETTA', 'attribute_isaspect': False, 'attribute_showascharacteristic': True}\n {'attribute_name': 'Annotation', 'attribute_value': 'Женские бежевые сандалии станут идеальными спутниками для летних прогулок. Их нежный бежевый цвет гармонично сочетается с любым нарядом, добавляя образу легкости и изящества. Эти сандалии идеально подойдут для теплого времени года, когда хочется чувствовать комфорт и свободу в каждое мгновение. Независимо от того, отправляетесь ли вы на пляж или просто гуляете по парку, они обеспечат вам стиль и уверенность в каждом движении.<br><br>Открытые женские сандалии — это воплощение удобства и легкости, которые так необходимы в жаркий летний сезон. Их свободный, дышащий дизайн обеспечивает максимальный комфорт в течение всего дня, а анатомическая подошва и мягкие ремешки поддерживают стопу без лишнего давления. Это обувь, которая позволяет наслаждаться летом в движении, не жертвуя стилем и удобством.<br><br>Сандалии отличаются простотой в уходе и чистке, устойчивостью к износу и повреждениям и прослужат вам не один сезон. Подошва отличается гибкостью и упругостью, что делает модель комфортной для длительного ношения.<br><br>Модель входит в коллекцию повседневной обуви, продуманную нашими дизайнерами специально для украшения любого современного гардероба, органично сочетаясь практически с любым вашим нарядом и помогая создавать яркие образы в casual стиле, продолжающем держаться на вершине трендов. Качественные материалы и яркий уникальный дизайн - все это создано для того, чтобы покупка стала для вас незабываемой.<br><br>Сандалии представлены в широкой размерной сетке, выберите подходящий вам размер по таблице в галерее изображений.', 'attribute_isaspect': False, 'attribute_showascharacteristic': True}\n {'attribute_name': 'ColorBase', 'attribute_value': 'бежевый', 'attribute_isaspect': True, 'attribute_showascharacteristic': True}\n {'attribute_name': 'ColorName', 'attribute_value': 'Бежевый', 'attribute_isaspect': True, 'attribute_showascharacteristic': True}\n {'attribute_name': 'RussianSizeShoes', 'attribute_value': '39', 'attribute_isaspect': True, 'attribute_showascharacteristic': True}\n {'attribute_name': 'SizeManufacturer', 'attribute_value': '39', 'attribute_isaspect': True, 'attribute_showascharacteristic': True}\n {'attribute_name': 'SexMaster', 'attribute_value': 'Женский', 'attribute_isaspect': False, 'attribute_showascharacteristic': True}\n {'attribute_name': 'Material', 'attribute_value': 'Искусственная кожа', 'attribute_isaspect': False, 'attribute_showascharacteristic': True}\n {'attribute_name': 'MainShoesMaterial', 'attribute_value': 'Искусственная кожа', 'attribute_isaspect': False, 'attribute_showascharacteristic': True}\n {'attribute_name': 'InnerMaterial', 'attribute_value': 'Искусственная кожа', 'attribute_isaspect': False, 'attribute_showascharacteristic': True}\n {'attribute_name': 'SoleMaterial', 'attribute_value': 'Полиуретан', 'attribute_isaspect': False, 'attribute_showascharacteristic': True}\n {'attribute_name': 'StyleApparel', 'attribute_value': 'Повседневный', 'attribute_isaspect': False, 'attribute_showascharacteristic': False}\n {'attribute_name': 'Season', 'attribute_value': 'Лето', 'attribute_isaspect': False, 'attribute_showascharacteristic': True}\n {'attribute_name': 'ShoeFastening', 'attribute_value': 'Липучки', 'attribute_isaspect': False, 'attribute_showascharacteristic': True}\n {'attribute_name': 'ShoeFit', 'attribute_value': 'Нормальная', 'attribute_isaspect': False, 'attribute_showascharacteristic': True}\n {'attribute_name': 'SizeGrid', 'attribute_value': 'Универсальная размерная сетка: женская обувь', 'attribute_isaspect': False, 'attribute_showascharacteristic': False}\n {'attribute_name': 'SizeGrid', 'attribute_value': 'Универсальная размерная сетка: полнота женской обуви', 'attribute_isaspect': False, 'attribute_showascharacteristic': False}\n {'attribute_name': 'BrandCountry', 'attribute_value': 'Россия', 'attribute_isaspect': False, 'attribute_showascharacteristic': True}\n {'attribute_name': 'AgeO', 'attribute_value': 'Взрослая', 'attribute_isaspect': False, 'attribute_showascharacteristic': True}\n {'attribute_name': 'ColorBase_Forfilter', 'attribute_value': 'Бежевый', 'attribute_isaspect': False, 'attribute_showascharacteristic': False}]",
         "[-1.75210714e-01  4.20491099e-01 -8.65487099e-01  3.21419656e-01\n -2.36249357e-01 -1.35269672e-01  4.34504509e-01  2.02433422e-01\n  2.79908866e-01 -1.79130614e-01 -2.87530541e-01 -1.12856761e-01\n  2.48442352e-01  9.07763392e-02 -2.71271616e-01  2.04450965e-01\n -8.87799382e-01 -1.26593307e-01  9.90149379e-02  1.76087499e-01\n  6.00318491e-01  2.90427923e-01 -1.89017624e-01  2.15419933e-01\n  2.64031321e-01  1.76919520e-01  1.78683847e-02 -3.91828418e-01\n -2.21532181e-01 -2.91442543e-01 -5.29110372e-01  1.92359418e-01\n  1.30827546e-01  5.87181270e-01 -6.37468100e-01 -1.46512203e-02\n  1.19043678e-01  3.50020260e-01  2.09359378e-01  4.13405359e-01\n  3.65923643e-01 -6.06812984e-02  5.43327034e-01 -3.14687669e-01\n  7.39489675e-01  7.59222209e-02 -3.72051328e-01  5.89656651e-01\n  5.22884369e-01  1.25671700e-01  8.73594582e-02 -2.41425127e-01\n  4.53039229e-01 -5.30210137e-03 -6.72695637e-01 -3.24831605e-01\n  1.95648953e-01 -1.65154040e-01  3.49424571e-01  3.59162867e-01\n  6.07416332e-02 -6.80045784e-01  4.68608558e-01 -4.49885279e-02\n -7.89458603e-02 -1.56832173e-01  5.61236441e-02  5.56782007e-01\n  5.32047674e-02  2.39123240e-01 -3.51017356e-01 -2.34344184e-01\n  1.23603910e-01 -1.29953265e-01  1.81532711e-01 -1.07058239e+00\n -1.31984562e-01 -2.52516158e-02 -3.47496420e-01 -5.81075072e-01\n  6.86497092e-02 -4.26080346e-01 -3.43520284e-01  2.74096757e-01\n  6.40657961e-01 -3.34049016e-01 -9.25598025e-01 -8.26732993e-01\n  1.06556022e+00 -3.11023623e-01 -3.79049838e-01 -1.62589177e-01\n  1.14164196e-01 -2.55238891e-01  8.24315250e-02  2.37998322e-01\n -6.19872510e-02  6.95223138e-02  1.46434605e-01  7.41416335e-01\n  1.54592007e-01  6.40366793e-01 -1.52456880e-01 -4.47917461e-01\n -1.47265315e-01  8.73681903e-02 -2.44027182e-01 -1.05025351e-01\n -4.24648821e-01 -1.68801516e-01 -3.24434549e-01  2.66547054e-02\n -2.25423887e-01  2.28087008e-01  4.29027975e-01 -4.06426609e-01\n  5.42678833e-01  1.13387138e-01 -1.30081445e-01  3.32269892e-02\n  2.77013570e-01 -2.11456627e-01  5.71185112e-01 -1.84308551e-02\n -3.39404792e-01  3.19032311e-01 -1.97661459e-01 -1.37666970e-01\n -1.18946172e-01  5.09698391e-01  2.06444442e-01 -1.28318191e-01\n  7.31772184e-01 -3.87392730e-01 -2.18049943e-01  1.81029916e-01\n  5.33966124e-01  1.00653395e-01 -1.61807775e-01  2.84209698e-01\n -4.24730927e-02  3.10178876e-01 -5.41350007e-01 -1.03857733e-01\n -1.23056762e-01  7.77124882e-01 -4.13793921e-01  4.35879529e-02\n -5.46655953e-02  6.99542761e-02 -3.66669655e-01  2.44491518e-01\n  3.14501429e+00 -2.63291448e-01  5.85346818e-01  1.96617305e-01\n -3.53483528e-01  4.84504640e-01  1.07921116e-01 -4.80443120e-01\n  3.94974172e-01 -5.41565180e-01 -1.06266215e-01  6.29027605e-01\n  5.47875047e-01  2.48925462e-01 -1.74364984e-01  9.41378951e-01\n  2.29478866e-01 -2.41771430e-01  3.79382432e-01  5.13949871e-01\n  4.08258066e-02 -2.11708948e-01 -1.98674381e-01 -3.37874055e-01\n  2.99351752e-01  2.32789084e-01 -3.02854681e+00 -9.53702986e-01\n  5.81380844e-01 -1.71560675e-01 -3.26317132e-01  1.62162036e-01\n -2.09222406e-01 -1.12505250e-01  8.07477713e-01 -2.40311548e-01\n  9.53387097e-02 -7.29583055e-02 -3.31608653e-02  5.52880049e-01\n  4.65767205e-01 -3.07897598e-01 -4.66156960e-01 -1.22379176e-01\n -9.32461977e-01  2.75225967e-01 -2.54571766e-01 -7.82495737e-02\n  5.87659478e-01 -3.16418409e-01 -2.26870030e-01 -4.46912199e-02\n -6.63845018e-02  3.16582620e-01  6.71623826e-01  6.31082058e-03\n  1.97107494e-01 -2.33306438e-02 -4.17535156e-01 -2.23413795e-01\n  7.64970183e-01 -9.63539630e-02 -3.67350876e-03  4.33154136e-01\n  5.39247990e-01  4.91236538e-01  9.61667717e-01  7.41352439e-02\n  1.42293364e-01  2.46990621e-01 -2.38826632e-01 -3.52333486e-01\n -2.53786087e-01  2.67866611e-01 -3.89556020e-01 -1.51100531e-01\n  2.65594959e-01  6.31009638e-01 -3.27764452e-01  2.61734903e-01\n  1.18092418e-01  7.24330604e-01 -5.18609524e-01  7.08175004e-02\n -1.03197530e-01  3.07761073e-01 -4.10418004e-01  6.23589039e-01\n  3.00954193e-01  4.72595453e-01  7.70707503e-02 -4.47526813e-01\n  1.45949468e-01  3.84094387e-01 -5.78946471e-02 -3.28626633e-01\n  3.95589054e-01 -4.15341347e-01  5.61308563e-01 -3.55959162e-02\n -1.52423009e-02 -3.51283640e-01 -6.17371947e-02 -5.99842787e-01\n  2.23145522e-02  9.97188091e-02 -6.92441344e-01 -3.16048235e-01\n  1.43643394e-01 -3.97880018e-01 -6.96361959e-02  2.50452429e-01\n  1.48510620e-01 -5.25958240e-01  2.16391429e-01 -1.43855065e-01\n -2.73523986e-01 -7.27631375e-02 -2.88281888e-01  4.28252876e-01\n  7.43564725e-01  3.79599810e-01 -2.88034439e-01 -1.28611222e-01\n  1.66551366e-01 -1.57829300e-01  3.71160299e-01  5.13270855e-01\n -4.16939259e-02  4.69081581e-01  4.66719866e-02  4.19990867e-02\n  2.30530843e-01  9.15924460e-02  2.26133257e-01  5.91350913e-01\n -2.47216821e-01 -3.39296073e-01  5.46417952e-01  3.48609313e-02\n  2.14652076e-01  4.92019564e-01 -2.92739719e-01  1.50594711e-01\n -2.87757277e-01 -2.75899082e-01 -1.83459193e-01  1.24523208e-01\n  9.75179911e-01 -1.93645895e-01  1.33903623e-01  1.44812435e-01\n  4.72645789e-01 -2.40804285e-01 -9.16489661e-02 -3.13635159e+00\n -7.00154483e-01 -1.19866908e-01 -8.14870596e-02  8.37705135e-02\n -7.69269824e-01  7.46800303e-01  2.43821740e-01  1.45901173e-01\n  8.93992111e-02 -1.50317192e-01  6.05310559e-01 -3.18685442e-01\n -4.72638249e-01 -3.16752344e-02 -4.39451933e-01  1.16879988e+00\n -9.22088027e-01 -4.15657282e-01  9.22840238e-02  4.54217434e-01\n -4.09648716e-01  3.03134203e-01  7.27499783e-01 -8.32135677e-02\n  2.88244247e-01 -8.76353681e-03 -1.67438015e-01  4.54572260e-01\n  1.43332407e-01 -3.61822128e-01  3.56380641e-03  5.72298244e-02\n -1.81462556e-01 -9.42235470e-01 -6.40683323e-02 -4.63380575e-01\n -5.27065575e-01  6.13854453e-02  1.83834165e-01  7.53827766e-02\n -1.67679501e+00  3.76717150e-02  1.04160404e+00 -1.04168683e-01\n -4.51085985e-01  1.37764603e-01 -8.84768069e-01 -4.07505393e-01\n  1.48469806e-02 -1.69282064e-01 -2.41430521e-01 -6.77170098e-01\n  7.47542381e-02 -1.23323381e-01  2.96584666e-01 -3.29473406e-01\n -8.96137297e-01 -1.64467812e-01 -3.95547226e-02  5.13390563e-02\n -1.10692687e-01 -1.42718405e-01  3.29176426e-01 -3.24849725e-01\n  1.06978714e-02 -8.74470234e-01  1.67974502e-01  7.26586878e-01\n  4.86601964e-02 -2.47472018e-01  4.45380241e-01 -1.66982546e-01\n  1.63588524e-02 -1.67714655e-02  3.11382085e-01 -3.26665074e-01\n  1.07582711e-01  7.27465212e-01  1.68442503e-01 -4.22437966e-01\n  1.02270126e-01 -2.45044634e-01 -6.82168603e-02 -4.66194808e-01\n  2.18001753e-01 -1.19740464e-01 -6.63703680e-02  1.04912922e-01\n  3.26372325e-01 -6.71088576e-01  1.40239298e-01 -2.31858492e-02\n -4.07847643e-01 -1.04843602e-02  3.35713089e-01  8.79528344e-01\n  4.40766156e-01 -1.14253625e-01 -3.21641564e-03  8.59621167e-02\n  7.96198845e-02  8.09523314e-02 -2.06097364e-01  6.33992016e-01\n  1.91523641e-01 -1.78534061e-01 -4.32619095e-01 -3.24036211e-01\n  5.76425046e-02 -7.56018043e-01  2.44018883e-01 -2.47778431e-01\n -2.62165844e-01  1.46092385e-01  2.27622330e-01  1.33249223e-01\n  9.28407907e-02 -1.89197302e-01  4.52010632e-02  6.51541114e-01\n  2.61916727e-01  3.70625317e-01 -9.63467509e-02  7.26961136e-01\n  1.84556693e-01 -4.67333108e-01  6.80834055e-02  1.66259259e-01\n  9.37932909e-01  3.33465517e-01  4.24695551e-01  2.94877291e-01\n -3.20352644e-01 -1.54083312e-01 -1.23851724e-01 -1.43050388e-01\n  6.51327431e-01 -1.14175409e-01 -9.44972217e-01 -6.11281276e-01\n -5.44835329e-01  7.81936646e-02  2.09091812e-01  1.04987621e-02\n  1.53996348e-01  2.99613655e-01  4.68521118e-02  1.93705648e-01\n -8.85846198e-01  6.03280030e-02  7.37118065e-01 -2.20127240e-01\n  5.84445357e-01  2.41570324e-02 -3.65591884e-01 -3.91422570e-01\n  6.06727481e-01  5.12521565e-01 -2.17478037e-01  2.75977463e-01\n -2.37053216e-01  2.11904630e-01  1.35472357e-01 -1.31656855e-01\n  3.12512890e-02 -3.77892554e-01 -2.22994387e-01 -6.62113577e-02\n -3.72497737e-01 -3.82045209e-02  3.18104595e-01  4.57647860e-01\n -4.00938213e-01 -6.11977398e-01 -1.72576308e-03  1.77708268e-01\n  2.51813591e-01 -7.62658179e-01  3.49705696e-01 -4.80700582e-02\n  3.56465638e-01 -4.72051829e-01 -1.17707527e+00 -8.94088745e-02\n  4.68679667e-01  5.82884490e-01 -9.05811548e-01  6.76475704e-01\n  2.87874907e-01  2.03097180e-01 -1.49097353e-01 -1.64824665e-01\n  6.90875292e-01 -3.68957311e-01  2.71869123e-01 -1.05681825e+00\n  4.87635493e-01 -2.10230976e-01  6.35525584e-01  4.34762239e-01\n  4.04132456e-02  4.64177072e-01 -2.24528000e-01  1.59884289e-01]",
         "7645",
         "243337571",
         "8257357"
        ],
        [
         "6",
         "1220135",
         "Юбка Apparelica",
         "[{'attribute_name': 'Type', 'attribute_value': 'Юбка', 'attribute_isaspect': False, 'attribute_showascharacteristic': True}\n {'attribute_name': 'Brand', 'attribute_value': 'Apparelica', 'attribute_isaspect': False, 'attribute_showascharacteristic': True}\n {'attribute_name': 'Annotation', 'attribute_value': '<p>Юбка шелковая атласная миди летняя с разрезом - это идеальный выбор для тех, кто хочет выглядеть элегантно и стильно на любом мероприятии. Эта юбка изготовлена \\u200b\\u200bиз искусственного шелка, который обеспечивает комфорт и долговечность. Она имеет прямой покрой, что делает ее универсальной для любого типа фигуры. Особенностью этой юбки является наличие разреза, который придает ей современный вид и позволяет свободно двигаться. </p><p></p><p>Юбка шелковая атласная миди летняя с разрезом - это женская одежда на праздник, которая будет подходить для любых случаев. Она может быть использована как вечернее платье или для повседневной носки. Эта юбка станет отличным дополнением к вашему гардеробу и поможет вам чувствовать себя уверенно и стильно.</p>', 'attribute_isaspect': False, 'attribute_showascharacteristic': True}\n {'attribute_name': 'ColorBase', 'attribute_value': 'красный', 'attribute_isaspect': True, 'attribute_showascharacteristic': True}\n {'attribute_name': 'ColorName', 'attribute_value': 'красный', 'attribute_isaspect': True, 'attribute_showascharacteristic': True}\n {'attribute_name': 'RussianSizeClothes', 'attribute_value': '46', 'attribute_isaspect': True, 'attribute_showascharacteristic': True}\n {'attribute_name': 'SizeManufacturer', 'attribute_value': 'L', 'attribute_isaspect': True, 'attribute_showascharacteristic': True}\n {'attribute_name': 'SizeM', 'attribute_value': 'S', 'attribute_isaspect': False, 'attribute_showascharacteristic': True}\n {'attribute_name': 'SexMaster', 'attribute_value': 'Женский', 'attribute_isaspect': False, 'attribute_showascharacteristic': True}\n {'attribute_name': 'HeightM', 'attribute_value': '171 см', 'attribute_isaspect': False, 'attribute_showascharacteristic': True}\n {'attribute_name': 'SizeGrid', 'attribute_value': 'Универсальная размерная сетка: Женская одежда', 'attribute_isaspect': False, 'attribute_showascharacteristic': False}\n {'attribute_name': 'Material', 'attribute_value': 'Искусственный шелк', 'attribute_isaspect': False, 'attribute_showascharacteristic': True}\n {'attribute_name': 'Composition', 'attribute_value': 'японский шелк', 'attribute_isaspect': False, 'attribute_showascharacteristic': True}\n {'attribute_name': 'InnerMaterial', 'attribute_value': 'Без подклада', 'attribute_isaspect': False, 'attribute_showascharacteristic': True}\n {'attribute_name': 'StyleApparel', 'attribute_value': 'Вечерний/праздничный', 'attribute_isaspect': False, 'attribute_showascharacteristic': True}\n {'attribute_name': 'Season', 'attribute_value': 'На любой сезон', 'attribute_isaspect': False, 'attribute_showascharacteristic': True}\n {'attribute_name': 'clothescut', 'attribute_value': 'А-силуэт', 'attribute_isaspect': False, 'attribute_showascharacteristic': True}\n {'attribute_name': 'DetailsClothes', 'attribute_value': 'Разрезы', 'attribute_isaspect': False, 'attribute_showascharacteristic': True}\n {'attribute_name': 'FilterSizeINT', 'attribute_value': 'M', 'attribute_isaspect': False, 'attribute_showascharacteristic': False}\n {'attribute_name': 'NumItemsDcml', 'attribute_value': '1', 'attribute_isaspect': False, 'attribute_showascharacteristic': True}\n {'attribute_name': 'Name', 'attribute_value': 'Юбка шелковая атласная миди летняя с разрезом', 'attribute_isaspect': False, 'attribute_showascharacteristic': False}\n {'attribute_name': 'ColorBase_Forfilter', 'attribute_value': 'Красный', 'attribute_isaspect': False, 'attribute_showascharacteristic': False}]",
         "[-2.48087838e-01  6.89458847e-01  4.19844329e-01  1.01411462e-01\n -2.83076525e-01 -6.43803120e-01  1.68422401e-01  2.82553434e-01\n -6.60263121e-01  1.47427276e-01  4.00755972e-01 -6.29521012e-02\n -2.31876999e-01  3.96977603e-01 -5.56614161e-01  2.99851485e-02\n -5.28541923e-01  6.06662035e-03  3.71625543e-01 -6.76603019e-01\n -9.03635025e-02 -6.19326532e-03 -5.51019907e-01 -1.87988639e-01\n  8.22909102e-02 -4.82331723e-01  9.54573974e-02  3.71771306e-02\n  1.50965586e-01 -2.61418104e-01 -7.67039359e-01  3.03928554e-03\n -3.29513311e-01 -2.62700915e-01 -6.07144475e-01  2.32164130e-01\n -2.03601286e-01  3.42237115e-01  2.92490184e-01  1.14871308e-01\n -3.37456852e-01 -2.42096752e-01  1.06717813e+00 -2.53816694e-01\n  2.38874689e-01  1.95735842e-02  9.79028642e-02  2.31415302e-01\n  1.80745184e-01  2.13789374e-01  1.05701007e-01  7.71487653e-01\n -6.10575080e-02 -3.56271744e-01 -6.06504440e-01  4.13965702e-01\n -2.10462570e-01  3.26056778e-01  1.00611854e+00 -1.66413784e-01\n -2.06580222e-01 -7.05057681e-02  8.85150313e-01  3.59163761e-01\n  1.78357825e-01  4.60635900e-01 -1.64047867e-01  5.74345112e-01\n -3.27593923e-01 -5.56847572e-01 -5.34586728e-01  5.62815070e-01\n  5.81775248e-01  3.01177055e-01  5.44803798e-01 -5.96664429e-01\n  7.69859672e-01  6.23985678e-02 -7.02855408e-01  1.37913465e-01\n -5.24721265e-01 -4.37942863e-01 -2.90069968e-01 -4.65297014e-01\n  3.82046074e-01  1.72309190e-01 -3.74960899e-02 -3.48912954e-01\n  4.96589810e-01  7.00744987e-02  3.35727781e-01 -1.45727098e-01\n -3.99256349e-01  2.06121504e-01 -1.12141818e-01  5.08112550e-01\n  3.36628795e-01  4.67798650e-01  2.89060831e-01  1.35349661e-01\n -2.30636820e-01  1.84059441e-02 -2.00553894e-01 -1.39511779e-01\n  3.72803628e-01 -9.89327580e-02  2.55229741e-01 -1.16472888e+00\n  1.01032719e-01  4.72883523e-01 -8.77216101e-01 -1.21749498e-01\n -1.21103346e-01  2.07987040e-01  4.50244546e-02 -6.93144679e-01\n  2.15112835e-01  4.61247385e-01 -1.03936374e-01 -5.86163998e-02\n  2.19554722e-01  3.62514526e-01 -3.73688012e-01  5.01935184e-02\n -4.15750831e-01  4.01394546e-01  4.56505045e-02 -1.33285984e-01\n -2.89942086e-01 -2.78498650e-01  1.75844967e-01 -4.09096986e-01\n -1.96249664e-01  1.60698116e-01 -8.23802829e-01 -1.75753295e-01\n  4.11229610e-01 -9.54761505e-02 -5.83300889e-01  6.69187784e-01\n -1.18080884e-01  1.85185850e-01  2.55773574e-01 -1.60484344e-01\n -5.76713324e-01  6.52872562e-01 -8.74881670e-02  6.19934559e-01\n -2.99965777e-02  5.49004495e-01 -7.33571798e-02  1.52590469e-01\n  3.67706203e+00  2.29961008e-01 -4.79474694e-01  9.61839110e-02\n -9.58600879e-01 -5.85448205e-01  1.58714145e-01  4.05204177e-01\n  4.01945740e-01  6.51797652e-02  2.15703696e-01  3.26436386e-03\n -2.14609608e-01 -2.31825083e-01  1.09368071e-01 -7.96632588e-01\n -1.92150250e-01 -1.88318446e-01  4.39881027e-01 -3.29199523e-01\n -2.69551516e-01  1.86988145e-01  1.15249306e-01 -8.80824208e-01\n  3.62401009e-01  2.27981895e-01  5.33480942e-01 -6.71131611e-01\n  1.97946131e-02 -1.95348963e-01  2.65909970e-01  1.23437196e-01\n -4.22396958e-02 -2.70180881e-01  6.83677137e-01  1.88627690e-01\n  2.05595165e-01  1.27892479e-01  4.16750491e-01  8.17604184e-01\n  8.01322609e-02 -5.80776572e-01  5.65092713e-02  4.99614835e-01\n  6.38295293e-01  1.52475327e-01 -3.82985383e-01  8.75918567e-02\n  8.83388758e-01 -8.56419921e-01  5.18595338e-01  3.01329136e-01\n -2.70261258e-01 -2.96533167e-01  4.62661028e-01 -9.27998066e-01\n  5.38183808e-01  1.47744924e-01 -3.25515032e-01 -1.00077868e+00\n  4.85809028e-01  1.20939463e-01  6.55147910e-01 -1.58406869e-01\n  2.45303035e-01  8.01070854e-02 -6.57313466e-02  6.89431071e-01\n  4.37600672e-01  6.42570853e-02 -1.06805146e-01  1.36206448e-02\n  3.07318866e-01 -1.29832700e-02 -1.22550957e-01 -5.22597283e-02\n -6.16865039e-01  9.16021690e-03  6.13554120e-01 -3.44628125e-01\n -1.38368174e-01  1.78742945e-01  1.63293481e-02 -2.87124664e-01\n -1.71267256e-01  7.90435076e-03  3.78683954e-01  1.34437352e-01\n  3.53507370e-01 -1.12693340e-01  5.54869652e-01  1.63649321e-02\n  1.25560105e-01 -5.05428553e-01 -3.43282342e-01 -1.89033359e-01\n -2.00367644e-01  7.70269871e-01 -4.44442630e-01 -1.69714332e-01\n  2.72572070e-01 -5.34631193e-01 -3.30733895e-01 -2.25275308e-01\n -3.36040407e-01 -2.42832154e-02 -1.25090206e+00  5.30412123e-02\n -1.75795496e-01 -3.78944814e-01  1.41989589e-01  1.12946332e-01\n  5.27685136e-02 -2.21668273e-01 -2.62790650e-01  2.45045424e-02\n -3.20906937e-01 -9.69123989e-02 -6.18867338e-01  4.07528996e-01\n  1.32866710e-01 -2.95222402e-01  1.53171495e-02 -3.20522845e-01\n  1.11093402e-01  3.21816057e-02  8.41757357e-02  7.70345151e-01\n  1.32044718e-01  4.54143763e-01 -1.92883998e-01  1.42157286e-01\n -1.38336331e-01  1.81400478e-01  5.74092448e-01  1.45778179e-01\n  2.52501935e-01 -6.50481164e-01  5.20391911e-02 -3.79921943e-01\n  2.01553062e-01  3.58509004e-01 -5.96614063e-01  3.27257514e-01\n -3.76097113e-03 -9.50242579e-02  9.21062082e-02 -4.58164215e-01\n  1.05293369e+00 -7.42911473e-02 -3.69167387e-01  3.75971138e-01\n  8.87911677e-01 -6.07704744e-02  2.73866266e-01 -3.67149472e+00\n -2.86358446e-01  2.45748401e-01 -3.74108613e-01  5.06806374e-02\n  3.81920040e-02  1.24881454e-01  3.46644163e-01  4.93216097e-01\n -1.10863924e-01  3.43463421e-02  4.63381767e-01 -2.88538307e-01\n -2.10971996e-01 -2.04400808e-01 -5.75672388e-01  1.89070106e-02\n -1.21315825e+00 -3.52555335e-01  3.49824578e-01 -1.43806756e-01\n -5.00778079e-01 -2.24263281e-01  1.97693497e-01  5.90025306e-01\n  2.51919329e-02  5.56174517e-02  8.37155879e-02  1.78444594e-01\n -1.64601505e-02  1.79132119e-01 -4.21930313e-01  1.56188086e-02\n  2.65395820e-01  2.80270398e-01 -1.12760216e-01  3.61460775e-01\n -3.05057317e-01  2.01507807e-02  8.43413949e-01  4.22221094e-01\n -1.90939784e+00 -2.60890216e-01  1.23472738e+00 -2.74847448e-01\n -6.00175411e-02  8.26341212e-02  6.91650212e-02  2.55995959e-01\n -9.77611393e-02 -2.41873711e-02 -5.56816339e-01  1.19020142e-01\n -5.75363398e-01  6.28472865e-03 -7.06187636e-03 -4.63585258e-02\n -2.39084363e-01  9.11121592e-02 -1.63641632e-01  2.65588820e-01\n -3.31896484e-01 -5.06271958e-01 -4.32087243e-01  3.62495482e-01\n -3.98233593e-01 -3.23427469e-01 -6.21752441e-02  7.66921043e-01\n -5.79381108e-01 -1.33625567e-01 -7.97373205e-02  8.00584108e-02\n  3.27100009e-02  9.24887359e-02 -3.43051255e-01  6.53437376e-02\n -3.70088279e-01  8.20690572e-01 -3.91344726e-01 -2.02506229e-01\n  4.44897652e-01  4.49918598e-01  4.27984834e-01 -5.02926946e-01\n  4.88087296e-01  3.46959591e-01 -4.29939926e-02  5.86678505e-01\n -1.74123615e-01  3.96260768e-02 -2.69448221e-01 -2.55716830e-01\n -8.69011432e-02 -3.03396344e-01 -6.10337853e-01  1.08619377e-01\n  8.88408124e-02 -8.51610601e-02  1.92628801e-01 -1.94383770e-01\n  1.75523639e-01  1.18617952e-01  1.45277590e-01 -1.26652010e-02\n -1.09050870e-02  6.39190823e-02 -2.26721376e-01  5.03555387e-02\n -4.05783772e-01 -2.88270921e-01  1.42273262e-01 -6.74204588e-01\n  2.57980824e-03 -4.75667477e-01 -6.70006275e-01  2.83095129e-02\n -6.52010560e-01  2.98550367e-01 -1.21383607e-01  2.88806498e-01\n  2.70778716e-01 -4.73195791e-01 -8.37029219e-02  9.83642042e-01\n -4.33164954e-01 -1.07248612e-01 -2.37364903e-01 -4.68869358e-02\n  3.09657931e-01  9.36683118e-02  7.72869736e-02 -3.09573531e-01\n -1.75136775e-01  1.50623471e-01  1.81672156e-01  5.91215938e-02\n -5.52306294e-01 -1.84010431e-01 -3.73637199e-01 -1.68601468e-01\n  8.15798759e-01  1.94462240e-01  1.39920458e-01  4.21000689e-01\n  9.81020108e-02  4.81932223e-01 -8.84020984e-01 -1.47362494e+00\n -3.37699741e-01 -1.34751886e-01 -1.50770441e-01  1.64268970e-01\n -1.73512533e-01 -5.57278432e-02 -7.86699653e-01 -3.22188944e-01\n  1.17612161e-01 -2.71570981e-01  2.97423095e-01  4.08078969e-01\n -2.41286635e-01 -3.53461415e-01  1.30194873e-01 -1.12931085e+00\n  2.69300453e-02  4.18760419e-01 -3.78781378e-01  2.12235975e+00\n  1.56687677e-01  2.81143695e-01 -1.94060445e-01 -3.33440930e-01\n  4.55938399e-01  6.51549160e-01 -3.59047055e-02  4.55016911e-01\n -3.17558140e-01  1.09538876e-01  1.11129358e-02  1.28235608e-01\n -4.78286892e-02  3.10089290e-02 -1.98082805e+00  4.62905318e-01\n  2.28860810e-01  6.18670106e-01 -9.93995368e-02  4.87099946e-01\n -3.05349678e-02  1.54103100e-01 -7.16750383e-01  6.09017968e-01\n  3.77951741e-01 -2.25845635e-01  2.38139793e-01 -1.31535244e+00\n -4.98927772e-01 -5.49907446e-01  5.60633242e-01  6.91789985e-01\n -2.51923323e-01 -2.72872210e-01 -3.65331650e-01  1.43817022e-01]",
         "7504",
         "106239535",
         "4310753"
        ],
        [
         "7",
         "1676700",
         "Кроссовки Nike Аир Макс 90",
         "[{'attribute_name': 'Name', 'attribute_value': 'Кроссовки лето', 'attribute_isaspect': False, 'attribute_showascharacteristic': False}\n {'attribute_name': 'Type', 'attribute_value': 'Кроссовки', 'attribute_isaspect': False, 'attribute_showascharacteristic': False}\n {'attribute_name': 'Brand', 'attribute_value': 'Nike', 'attribute_isaspect': False, 'attribute_showascharacteristic': True}\n {'attribute_name': 'Annotation', 'attribute_value': '0', 'attribute_isaspect': False, 'attribute_showascharacteristic': True}\n {'attribute_name': 'ColorBase', 'attribute_value': 'черно-синий', 'attribute_isaspect': True, 'attribute_showascharacteristic': True}\n {'attribute_name': 'ColorName', 'attribute_value': 'черно-синий', 'attribute_isaspect': True, 'attribute_showascharacteristic': True}\n {'attribute_name': 'RussianSizeShoes', 'attribute_value': '39', 'attribute_isaspect': True, 'attribute_showascharacteristic': True}\n {'attribute_name': 'SizeManufacturer', 'attribute_value': '40', 'attribute_isaspect': True, 'attribute_showascharacteristic': True}\n {'attribute_name': 'SexMaster', 'attribute_value': 'Мужской', 'attribute_isaspect': False, 'attribute_showascharacteristic': True}\n {'attribute_name': 'SexMaster', 'attribute_value': 'Женский', 'attribute_isaspect': False, 'attribute_showascharacteristic': True}\n {'attribute_name': 'Material', 'attribute_value': 'Натуральная кожа', 'attribute_isaspect': False, 'attribute_showascharacteristic': True}\n {'attribute_name': 'MainShoesMaterial', 'attribute_value': 'Натуральная кожа', 'attribute_isaspect': False, 'attribute_showascharacteristic': True}\n {'attribute_name': 'InnerMaterial', 'attribute_value': 'Текстиль', 'attribute_isaspect': False, 'attribute_showascharacteristic': True}\n {'attribute_name': 'SoleMaterial', 'attribute_value': 'Каучук', 'attribute_isaspect': False, 'attribute_showascharacteristic': True}\n {'attribute_name': 'StyleApparel', 'attribute_value': 'Спортивный', 'attribute_isaspect': False, 'attribute_showascharacteristic': False}\n {'attribute_name': 'Season', 'attribute_value': 'На любой сезон', 'attribute_isaspect': False, 'attribute_showascharacteristic': True}\n {'attribute_name': 'ShoeFastening', 'attribute_value': 'Шнурки', 'attribute_isaspect': False, 'attribute_showascharacteristic': True}\n {'attribute_name': 'ShoeFit', 'attribute_value': 'Нормальная', 'attribute_isaspect': False, 'attribute_showascharacteristic': True}\n {'attribute_name': 'SizeGrid', 'attribute_value': 'Бренд: Nike Женская обувь', 'attribute_isaspect': False, 'attribute_showascharacteristic': False}\n {'attribute_name': 'SizeGrid', 'attribute_value': 'Бренд: Nike Мужская обувь', 'attribute_isaspect': False, 'attribute_showascharacteristic': False}\n {'attribute_name': 'TypeSport', 'attribute_value': 'Бег', 'attribute_isaspect': False, 'attribute_showascharacteristic': True}\n {'attribute_name': 'TypeSport', 'attribute_value': 'Легкая атлетика', 'attribute_isaspect': False, 'attribute_showascharacteristic': True}\n {'attribute_name': 'AgeO', 'attribute_value': 'Взрослая', 'attribute_isaspect': False, 'attribute_showascharacteristic': True}\n {'attribute_name': 'ColorBase_Forfilter', 'attribute_value': 'Синий', 'attribute_isaspect': False, 'attribute_showascharacteristic': False}]",
         "[ 2.78411120e-01 -2.33218789e+00 -8.98206174e-01 -1.68251619e-02\n -7.75436521e-01 -3.19254637e-01  2.35283822e-01  8.30084011e-02\n -2.09264755e-01  4.05171692e-01 -1.41846210e-01 -1.41549021e-01\n  8.28889087e-02  7.98188090e-01  6.88026965e-01  2.94831932e-01\n -1.03388524e+00  5.89006662e-01 -7.14885354e-01  3.36667895e-01\n  5.50795674e-01  6.24964416e-01  3.62845749e-01  1.15570813e-01\n -9.82232571e-01 -1.58446148e-01  2.23715663e-01 -6.95896029e-01\n -8.70868683e-01  1.47918463e-01 -1.73789561e-01 -8.70101601e-02\n  1.02854080e-01  1.89570114e-01  1.95270374e-01  1.69016600e-01\n -9.97160822e-02 -3.18980694e-01  4.80223477e-01  1.85529649e-01\n -7.43505538e-01 -3.71332765e-02 -2.08526924e-01 -2.25119039e-01\n -8.87898430e-02 -2.12803885e-01  1.77248135e-01  3.83526802e-01\n  2.81834096e-01 -9.36035439e-02 -1.39814019e-01  3.33875448e-01\n -3.57509926e-02  5.86574674e-01  2.55461335e-01 -4.78324711e-01\n  3.08264196e-02  9.00048018e-03 -9.96211767e-02  4.24504638e-01\n  2.69810826e-01 -1.00567710e+00  2.77499467e-01  8.92758146e-02\n -2.85659879e-01  1.52005777e-01 -3.50737602e-01 -1.31687772e+00\n -3.07007849e-01 -1.79276019e-02 -3.32560599e-01  6.99719116e-02\n  5.05093455e-01 -4.95361835e-01  3.02376032e-01 -1.10542393e+00\n  1.64294854e-01 -1.84517547e-01 -7.66229272e-01 -3.94577980e-01\n -2.63766855e-01  8.57108161e-02 -4.63095069e-01 -3.34722877e-01\n -3.05951923e-01  3.71054173e-01 -2.59990931e-01  3.83839384e-03\n  2.50825256e-01 -1.26210660e-01  1.90213025e-01  6.95494413e-02\n -2.04793543e-01 -1.06695488e-01  2.18293518e-02 -7.09623098e-04\n -9.52616706e-03  2.88816452e-01  6.62523329e-01 -3.82588446e-01\n -1.41628921e-01  7.76271343e-01  2.22169504e-01  6.85582995e-01\n -6.20017797e-02  1.29842669e-01  1.27667561e-02  5.69540709e-02\n -6.40864819e-02 -3.65100950e-01 -1.66664124e-02  3.06923032e-01\n -1.62665501e-01  7.55644798e-01  2.62000084e-01  7.61973143e-01\n -1.49977371e-01  1.98201865e-01  5.15404165e-01 -1.01674700e+00\n -1.52558565e-01 -6.00043535e-02 -8.12301040e-03  5.92625916e-01\n -1.13172345e-01 -4.08930108e-02 -4.42223877e-01 -2.50062078e-01\n  2.58523941e-01  9.30879831e-01  8.04276645e-01 -3.89346480e-02\n  1.50271639e-01 -5.89305103e-01 -3.69877368e-02  4.03137386e-01\n  3.72726142e-01 -4.32294250e-01  3.72754157e-01  1.13573819e-01\n -6.26140237e-02  1.25568658e-02  5.92797399e-01  1.45945609e-01\n -6.14543557e-01  2.14569300e-01  4.93714333e-01  2.39568487e-01\n  4.13819492e-01  9.57044065e-02 -2.54722774e-01  7.63992667e-02\n  3.07891560e+00  2.64232576e-01  5.98336160e-01 -5.02620935e-01\n -1.63405105e-01 -3.10382307e-01  1.93863943e-01 -3.59161720e-02\n  5.35776675e-01 -5.28988838e-01  1.81426406e-02 -7.36882836e-02\n -6.34785071e-02  3.87046933e-01  7.77425408e-01 -6.83848739e-01\n  5.28518856e-03 -4.77419555e-01 -6.01107121e-01  2.69077778e-01\n -5.88485301e-02  1.98859662e-01  3.84194672e-01 -8.04732442e-01\n  1.20136887e-01  2.23260209e-01  1.88669831e-01  2.80505776e-01\n -9.04201508e-01  2.77054846e-01 -3.06449026e-01  8.43606710e-01\n  4.43093404e-02  8.37557614e-02  1.79372728e-01  2.03221470e-01\n  1.82136342e-01 -4.06472355e-01  3.78628671e-01 -7.61836767e-03\n -1.23821706e-01 -6.64185286e-02  7.66089201e-01  1.62037164e-01\n -6.60086334e-01  8.55899751e-02  1.52282998e-01  3.72471482e-01\n -1.99070916e-01  1.57228351e-01  5.27863979e-01 -1.65185660e-01\n -4.21346799e-02  8.14575627e-02  5.53159595e-01 -9.01009589e-02\n -2.71022320e-01 -1.02480769e-01 -2.81183660e-01 -7.08565474e-01\n  1.29112855e-01  2.34545887e-01 -1.38962910e-01 -3.80154431e-01\n  4.60338652e-01 -3.46914977e-01  8.96567032e-02 -4.63712752e-01\n  4.03809428e-01 -4.79846269e-01 -7.30292737e-01 -4.76317346e-01\n -5.27383611e-02  8.42832923e-02  1.74243882e-01  2.52328038e-01\n  2.94155627e-01  7.81731129e-01  8.40980053e-01  5.92031956e-01\n  4.02048826e-02  4.95835721e-01 -6.46402955e-01  3.51322621e-01\n -8.11363935e-01 -3.03544462e-01 -1.93027705e-01 -2.18480319e-01\n  7.03241527e-02  1.07661724e+00  3.92116308e-02  4.64723468e-01\n  4.53575462e-01 -2.12711245e-01  2.15418398e-01 -5.91230690e-01\n -8.36070776e-02 -4.50762480e-01  8.54348660e-01 -2.19608814e-01\n  4.29112315e-01 -3.32723171e-01 -1.64289385e-01  1.05949827e-02\n -3.31802428e-01 -9.62973833e-02  2.03322917e-02 -3.54430526e-01\n  5.70445508e-03 -3.11135292e-01  3.97798181e-01 -2.80441612e-01\n  2.02025041e-01 -3.14348221e-01  4.45644438e-01  2.30270207e-01\n  1.69121504e-01  3.91691923e-03 -1.32576838e-01  2.69196868e-01\n  1.61588967e-01 -2.63914973e-01 -9.84205753e-02  4.78045344e-01\n  2.71993816e-01  1.73700213e-01  4.34339195e-01  1.95935696e-01\n -7.23565757e-01  4.64151353e-01  2.36036733e-01 -7.65993670e-02\n  4.02309209e-01 -4.95252877e-01 -5.28839946e-01 -1.84311137e-01\n -2.61935830e-01 -6.27570271e-01  1.16849318e-02  3.02833855e-01\n  1.02537483e-01  8.56267512e-02  6.95199370e-02  1.98620126e-01\n -8.52579325e-02 -3.44543785e-01  1.64295971e-01  4.54989076e-03\n -1.51724100e-01 -1.56609938e-01 -4.05130684e-01  3.77220094e-01\n -9.36237574e-01  5.53566694e-01 -2.03807592e-01 -3.06543732e+00\n  1.81050241e-01 -4.51638937e-01 -1.76475316e-01 -5.69906116e-01\n -4.27548289e-01 -6.46941185e-01  2.25499630e-01 -1.75309166e-01\n -6.11702442e-01 -6.58116341e-01 -3.15662064e-02 -6.12316430e-01\n -1.98119670e-01  2.35668227e-01 -1.24895655e-01  3.53634030e-01\n -1.72142237e-01 -6.26242399e-01  2.42357656e-01 -5.90468049e-01\n  9.74686220e-02 -2.23798752e-01  1.23524725e-01 -4.07139659e-02\n  7.63880759e-02 -9.26541537e-03  2.03599408e-01 -4.27500248e-01\n -3.26981246e-02  7.66491368e-02  7.61024505e-02 -1.15879759e-01\n  2.18192384e-01  2.44484350e-01 -1.04696423e-01 -4.99041110e-01\n  2.64517367e-01 -8.55183303e-02  8.67984891e-02  2.59902596e-01\n -1.67716551e+00 -7.54397392e-01 -3.09290141e-01  7.50528872e-02\n -8.48385245e-02  1.39205426e-01 -1.78140730e-01  7.29329288e-02\n  1.83450043e-01  4.49390739e-01 -8.78514946e-02  8.19737315e-01\n -3.73480737e-01 -4.98034418e-01  5.95033169e-01  1.14804789e-01\n  2.48806164e-01 -4.33059812e-01 -4.49539125e-01 -2.02505305e-01\n -2.06308886e-01 -4.55955744e-01  4.97141778e-01 -1.66653425e-01\n -1.62622258e-01 -1.01609088e-01 -5.93572378e-01 -2.98855126e-01\n -2.45223582e-01  4.45727229e-01  3.59010965e-01  5.99348843e-02\n -2.85568953e-01  2.52324313e-01  1.43353716e-01  5.92947528e-02\n -5.14198244e-02  2.93523490e-01 -1.17192782e-01 -8.59813511e-01\n  3.54892373e-01 -6.82460666e-01  1.62075102e-01  3.82170454e-02\n -4.09358665e-02  5.32267809e-01 -1.97775602e-01  1.52153410e-02\n -8.86298597e-01 -3.27246606e-01  2.19166785e-01 -3.77509028e-01\n  4.17231262e-01 -9.23545361e-01 -4.41052794e-01 -8.17357898e-02\n  3.93872797e-01  1.35394469e-01  1.32853121e-01 -3.65839720e-01\n  1.35101348e-01 -4.65877056e-02 -2.34648615e-01  1.94200635e-01\n  1.13459301e+00 -6.59358621e-01  1.74796522e-01  1.86468035e-01\n -4.93432134e-01 -4.00848776e-01  1.30792737e-01  2.00977355e-01\n  4.09789383e-03 -3.76825392e-01 -3.12727034e-01 -4.76246208e-01\n  3.30778182e-01  3.33804786e-01 -2.74574101e-01 -4.46607471e-02\n -4.27816033e-01  1.10150725e-02  2.57481456e-01  1.20718038e+00\n -1.29506737e-01 -1.45518780e-01  5.26450947e-02 -4.93418053e-03\n  5.91815710e-01  2.31115729e-01  1.04731269e-01  6.37737513e-02\n  2.90629655e-01 -1.51948333e-01  5.93917787e-01 -5.66887915e-01\n  1.79673836e-01  2.75293738e-03 -3.45953226e-01  2.23435611e-01\n -2.65853822e-01 -3.52948725e-01  3.00989866e-01  6.84046268e-01\n  1.55301139e-01 -6.21178597e-02 -7.21443072e-02  3.79574299e-01\n -4.80151117e-01  1.84097260e-01  2.14611739e-03 -6.53164983e-02\n  3.99157017e-01  2.50704646e-01 -3.32557440e-01 -8.67570192e-02\n  2.54707366e-01 -5.33083379e-02 -5.44000387e-01 -4.64894354e-01\n  7.60956585e-01 -4.87821490e-01 -6.11919582e-01  5.17122030e-01\n -1.73966542e-01  9.91386324e-02  1.15863569e-01 -1.15629315e-01\n  1.48462713e-01  2.57273555e-01  3.76090407e-03  1.06064022e-01\n -3.37161720e-01 -1.09202474e-01  7.19289422e-01  1.57459378e-01\n  2.34363750e-02 -2.27274299e-01  5.15413404e-01  1.47919506e-01\n -2.86780417e-01 -3.24479580e-01 -1.77969241e+00 -3.52591783e-01\n -1.43264234e-02  3.74675602e-01 -5.97332418e-02 -3.47487181e-02\n -8.33322033e-02 -2.64039576e-01 -3.66723746e-01 -2.96131343e-01\n  2.29394630e-01 -7.62258708e-01  1.02532730e-01 -3.26199383e-01\n  2.87890136e-02  3.91198605e-01  6.86727911e-02 -5.45398355e-01\n -2.23097607e-01 -1.23504527e-01  4.43438202e-01  1.15261376e-02]",
         "36484",
         "271195627",
         "3496933"
        ],
        [
         "8",
         "1841732",
         "Сумка женская через плечо кросс боди маленькая кожаная серая",
         "[{'attribute_name': 'Type', 'attribute_value': 'Сумка на плечо', 'attribute_isaspect': False, 'attribute_showascharacteristic': True}\n {'attribute_name': 'Brand', 'attribute_value': 'Нет бренда', 'attribute_isaspect': False, 'attribute_showascharacteristic': True}\n {'attribute_name': 'Annotation', 'attribute_value': 'Представляем вам сумки женские, идеальное решение для современных девушек, ценящих комфорт и элегантность. Эта сумка женская выполнена из качественной премиум экокожи, не уступающей по качеству сумка женская натуральная кожа,  что гарантирует долговечность и износостойкость. Сумка кросс боди женская выполнена из мягкой кожи, что делаеет ее не только практичной, но и приятной в носке.\\nСумка женская через плечо имеет следующие ключевые особенности:\\n- Удобный кросс-боди дизайн: Позволяет носить ее как сумка на плечо или через тело, освобождая руки для активной жизни. Сумочка женская имеет ремешок, который регулируется в длину.\\n- Элегантный внешний вид сумка кросс-боди: Современный стиль и лаконичные линии делают эти сумки женские распродажа универсальным аксессуаром для любого наряда — от повседневного до вечернего.\\n- Практичность: Сумка кросс боди женская имеет вместительное основное отделение с карманами для мелочей, что позволит вам удобно организовать все необходимые вещи.\\n- Разнообразие цветов: Сумка кожаная женская натуральная кожа представлена в двух оттенках: черная и серая, чтобы подчеркнуть свой индивидуальный стиль.\\n\\nЭта сумка женская маленькая станет вашим надежным спутником в любых ситуациях — будь то прогулка по городу или встреча с друзьями. Не упустите возможность добавить сумку в свою коллекцию!', 'attribute_isaspect': False, 'attribute_showascharacteristic': True}\n {'attribute_name': 'ColorBase', 'attribute_value': 'серый', 'attribute_isaspect': True, 'attribute_showascharacteristic': True}\n {'attribute_name': 'ColorName', 'attribute_value': 'серый', 'attribute_isaspect': True, 'attribute_showascharacteristic': True}\n {'attribute_name': 'AgeO', 'attribute_value': 'Взрослая', 'attribute_isaspect': False, 'attribute_showascharacteristic': True}\n {'attribute_name': 'SexMaster', 'attribute_value': 'Женский', 'attribute_isaspect': False, 'attribute_showascharacteristic': True}\n {'attribute_name': 'Material', 'attribute_value': 'Экокожа', 'attribute_isaspect': False, 'attribute_showascharacteristic': True}\n {'attribute_name': 'StyleApparel', 'attribute_value': 'Повседневный', 'attribute_isaspect': False, 'attribute_showascharacteristic': True}\n {'attribute_name': 'Name', 'attribute_value': 'Сумка женская через плечо кросс боди маленькая кожаная серая', 'attribute_isaspect': False, 'attribute_showascharacteristic': False}\n {'attribute_name': 'ColorBase_Forfilter', 'attribute_value': 'Серый', 'attribute_isaspect': False, 'attribute_showascharacteristic': False}]",
         "[ 8.45031977e-01 -1.25556183e+00 -1.57469511e-01  2.96685010e-01\n -3.77339840e-01  3.76809388e-02  2.94996291e-01 -7.61269331e-02\n  1.79166317e-01 -8.31878930e-02 -3.24052095e-01 -1.20316029e-01\n  4.23385650e-02 -5.43865561e-01 -3.81711990e-01  9.93276685e-02\n -2.30767041e-01 -1.93749636e-01  2.49915808e-01  3.73478979e-02\n -7.15158701e-01 -7.65874013e-02 -6.83461130e-02 -1.18867189e-01\n  4.67918634e-01  6.43410683e-02 -1.88957810e-01  3.20076942e-03\n -9.46316123e-02 -8.20949972e-02 -3.92333627e-01  1.85839295e-01\n  4.54277694e-01 -1.01550981e-01  4.82398979e-02  4.73740458e-01\n -4.01578844e-01  8.22395384e-01 -1.78065747e-02 -3.64495099e-01\n -4.87991273e-01  8.06181133e-02  2.34299660e-01  1.12093836e-02\n  2.27061868e-01 -1.25023589e-01  2.04634607e-01  6.81826115e-01\n  3.52641463e-01 -2.88741231e-01  5.92453599e-01  8.69508207e-01\n -4.75840807e-01 -2.65776396e-01 -4.42181289e-01 -4.62587416e-01\n -3.45736623e-01  7.65053272e-01 -2.89646924e-01 -1.27726674e-01\n  1.61730736e-01 -2.76212871e-01 -5.23075342e-01 -7.07104802e-04\n -6.08822346e-01 -3.52836132e-01  1.66613877e-01 -4.24335778e-01\n -2.15533346e-01 -2.70422757e-01 -7.20494807e-01  1.26242310e-01\n -7.74965212e-02  1.49139985e-01  4.94848818e-01 -8.44841599e-01\n -9.23896879e-02  2.34830007e-01  8.33713591e-01  3.50083411e-02\n  2.73320496e-01 -2.43218422e-01 -4.31650728e-01  4.34731543e-01\n  5.43047190e-01 -1.79325432e-01  4.49516296e-01  8.01307410e-02\n  8.02094340e-01 -6.70215368e-01 -3.99956316e-01  1.38157174e-01\n  3.51970613e-01  3.42175364e-01  2.61110425e-01  2.55267948e-01\n -2.88278580e-01  3.59290913e-02  5.19976854e-01  4.90854084e-01\n  2.92364806e-02  2.95307398e-01  2.06320316e-01  2.46356428e-01\n  4.05604005e-01  1.98872611e-02 -4.98247921e-01 -6.28048658e-01\n  1.00966200e-01 -1.69129580e-01 -1.12615061e+00 -8.11452866e-02\n  3.35882306e-01  2.05777541e-01  1.56494960e-01  2.62371033e-01\n  3.96469414e-01 -1.21715993e-01  2.03937292e-03  1.90620184e-01\n -1.00892209e-01 -3.44469845e-02  3.59044075e-01 -5.25562942e-01\n  5.08886278e-01  2.73192972e-01 -1.09730852e+00 -6.16067946e-02\n -4.65661168e-01 -2.65768409e-01 -1.58049762e-02 -2.21911624e-01\n  2.09193051e-01  3.02555144e-01 -5.71024418e-01  3.20899487e-03\n -8.47493112e-03  7.49685466e-01  3.78789425e-01 -3.11764598e-01\n  5.56228161e-01 -9.06091183e-02 -8.95994902e-02  1.92546323e-01\n -4.19891268e-01  2.50865489e-01 -4.19102073e-01 -5.74481189e-01\n -5.95758557e-02 -1.51970983e-02  7.57402033e-02  5.50024033e-01\n  2.25061178e+00 -4.34393317e-01 -3.35538566e-01  1.47551522e-01\n -2.65970945e-01 -6.61449134e-02 -1.44952223e-01 -3.70402455e-01\n -1.84138283e-01  1.30178213e-01 -1.75478458e-02 -1.70052320e-01\n  3.46709073e-01  4.85234916e-01 -1.60157382e-01 -2.46218473e-01\n -3.72961849e-01 -2.17974544e-01  5.91275573e-01 -4.13557231e-01\n  9.67696458e-02 -1.21824130e-01 -1.40373796e-01 -3.83264542e-01\n -2.68908411e-01  3.06591064e-01  1.27092004e-01  8.10956359e-02\n -2.09135845e-01  5.62392920e-02 -1.81760758e-01 -5.52073866e-02\n -1.26624614e-01  5.70511818e-02 -8.71524215e-03  1.88836262e-01\n  1.12845145e-01 -6.44420385e-02  2.75108933e-01  3.91375124e-01\n  5.25500417e-01  2.57535577e-02 -3.99880528e-01 -4.07967567e-01\n  1.11008644e-01 -2.01624036e-01 -6.04830906e-02  1.02824628e-01\n  3.06433916e-01  3.17730606e-01  6.29903615e-01  1.62069678e-01\n  3.79000902e-01  1.83624402e-02  4.36760575e-01  5.34184694e-01\n  7.00923502e-02  1.37928575e-01 -4.56519067e-01 -8.41915250e-01\n  3.68757248e-02 -2.31869489e-01 -6.48658395e-01 -4.49621677e-03\n -2.19033211e-01  1.25668824e-01  1.77049607e-01  7.31061280e-01\n  4.29539233e-02  3.11919823e-02 -1.19902611e-01 -8.03336501e-02\n -2.50491500e-03  1.03432328e-01 -2.72703581e-02  8.00905079e-02\n -7.69801736e-02 -3.69092107e-01 -5.52462637e-01 -7.75078833e-02\n  1.51877895e-01  8.17062259e-01  2.86136925e-01  1.30469948e-01\n  1.63320415e-02 -4.08007503e-01  5.89166582e-01  3.61088932e-01\n -7.51277804e-03  5.65832928e-02  1.52504995e-01 -5.05122900e-01\n -1.21088743e-01 -3.03349078e-01 -4.48272705e-01  7.07275271e-02\n  4.22654152e-01  3.95980120e-01  1.66667342e-01  6.03165627e-01\n -5.62683046e-02 -7.20588923e-01 -7.20100999e-01  8.52564871e-02\n -6.34650946e-01  3.93413901e-01 -4.82965171e-01 -7.11529106e-02\n  2.44900972e-01 -7.35139370e-01 -7.56674767e-01 -7.42436349e-02\n  8.90158117e-04 -4.57098544e-01  1.54339090e-01 -6.00948632e-02\n -1.42879516e-01 -8.52012113e-02 -2.90808201e-01  7.42251277e-01\n -5.57964027e-01  3.98651421e-01  1.72007382e-01  6.20247424e-01\n  6.14426315e-01 -2.54882812e-01  4.45067883e-04 -4.71296787e-01\n  2.99046934e-01  2.40678981e-01 -3.01435560e-01 -9.88582790e-01\n -1.52069554e-01  3.19238037e-01  9.58432317e-01 -3.99380744e-01\n -7.26717174e-01 -4.08062547e-01 -3.13164145e-01 -2.00147435e-01\n  4.64747012e-01 -4.52217042e-01 -2.49465555e-01  4.10904706e-01\n  6.65101349e-01 -9.53332186e-02 -5.88750541e-01 -3.02195787e-01\n  8.49843621e-02 -2.96219110e-01 -4.53925580e-02 -3.35140526e-02\n -9.43471551e-01  4.49295431e-01  2.76915133e-01 -2.24958682e+00\n  3.52805704e-01 -9.39607322e-02 -1.32167220e-01  5.84912181e-01\n -1.83519378e-01  8.99891183e-02  2.49167711e-01 -7.45193958e-01\n -4.48844641e-01  1.69969335e-01 -5.01749992e-01  4.15388122e-02\n -2.81415612e-01  5.71982324e-01 -4.92064834e-01  6.27104163e-01\n -7.69195616e-01 -6.01421118e-01 -6.72224641e-01 -2.94135302e-01\n -1.88047409e-01 -2.88163722e-02  5.74709401e-02  1.79173231e-01\n  5.58860302e-01  9.07835811e-02  2.68643498e-02 -4.95174944e-01\n  6.58176184e-01 -2.31884375e-01 -8.43444318e-02  3.38329792e-01\n -1.65421069e-01  2.39663124e-02  7.43971467e-01 -3.78017664e-01\n -5.95161259e-01 -9.28263664e-02 -7.84503967e-02 -4.75849211e-03\n -1.96546698e+00  2.12214321e-01  9.17893291e-01 -1.52382076e-01\n -3.57320368e-01 -1.68656856e-02 -3.48704606e-01  1.40473828e-01\n -2.86898427e-02  7.98420608e-02 -8.56659561e-02 -9.43957716e-02\n -1.62710398e-01 -4.21789229e-01 -5.60919166e-01 -8.71445537e-02\n -2.59837419e-01  2.42541298e-01 -6.47790432e-02 -2.65490383e-01\n -5.12465000e-01 -3.29374135e-01 -8.20430815e-02  6.78447127e-01\n -8.06389689e-01  1.29262432e-01  3.23637992e-01  9.24935192e-02\n -1.01758391e-02  8.03512335e-02  2.40220547e-01  4.90071625e-01\n -6.87172562e-02 -5.42542458e-01 -4.20322269e-02 -5.31513453e-01\n -3.64742815e-01  6.18046224e-01  3.11769247e-02  2.12964088e-01\n -1.38917834e-01 -6.66695058e-01  7.03790009e-01 -4.84961122e-02\n -3.01930726e-01 -3.35007250e-01 -4.94520694e-01 -2.03919888e-01\n -2.38109648e-01 -4.21807319e-02 -5.83606288e-02 -3.16099703e-01\n -5.54393172e-01  2.99691379e-01 -2.95799561e-02  1.40565440e-01\n -1.91644430e-01 -3.47228885e-01  1.92513973e-01 -2.26357192e-01\n -5.29923320e-01 -4.08301540e-02  1.92470714e-01 -6.66429922e-02\n  9.25892353e-01  8.33385348e-01 -3.49941492e-01 -2.32351452e-01\n  9.64054167e-02 -4.00213063e-01 -1.63978010e-01  6.42904162e-01\n -5.45998216e-01 -1.96618527e-01 -7.25249529e-01  4.49408799e-01\n  1.80425763e-01  5.23850143e-01 -1.44577459e-01  1.28112257e-01\n -2.78377496e-02  3.41686338e-01  6.33682489e-01  1.03173530e+00\n  3.02350521e-03 -5.51859856e-01 -7.91711509e-02  2.53355354e-01\n -7.61560351e-03  8.21292281e-01  3.20675880e-01  1.04627162e-01\n -2.95042098e-02 -2.54271090e-01 -1.24214306e-01  4.01605099e-01\n  2.10945785e-01  5.53831220e-01 -9.65115547e-01 -1.01816714e-01\n -4.53982830e-01  5.93639851e-01  3.76458943e-01 -3.15229818e-02\n  8.64292681e-03  3.11699450e-01 -9.07309055e-02 -1.23565412e+00\n -6.84711695e-01 -1.27731875e-01  7.99694240e-01 -4.58163500e-01\n  1.96481839e-01 -6.82160631e-02  2.01862320e-01 -6.51834011e-01\n  2.45159447e-01 -8.66055787e-02  7.15633810e-01 -1.31993175e-01\n  5.57699978e-01  6.08747244e-01  1.94672123e-01 -1.41368449e-01\n  7.34834969e-02  2.06755102e-01  3.24033499e-02  3.15461427e-01\n  9.31500867e-02  3.31146240e-01  1.28300041e-01  2.25036278e-01\n  1.10104787e+00  2.18319491e-01 -1.71174332e-01  5.17188191e-01\n  8.78238156e-02  5.98078728e-01 -6.62272096e-01  2.05345094e-01\n -2.53361702e-01 -1.97827816e-04 -1.91799021e+00 -6.22113347e-01\n -2.26098895e-02  6.99644208e-01  6.27278686e-02  1.17300975e+00\n  1.25641346e-01 -8.23219180e-01 -2.26361826e-01  1.94626570e-01\n -1.51322588e-01 -3.06049764e-01 -4.96368647e-01 -1.63953692e-01\n  2.07914814e-01  1.23116404e-01 -2.65963435e-01  6.20494306e-01\n  1.56621009e-01 -2.04573885e-01 -3.96601588e-01  1.49848267e-01]",
         "17002",
         "273455755",
         "12361995"
        ],
        [
         "9",
         "2040735",
         "Шорты для плавания Supreme Grip, 1 шт",
         "[{'attribute_name': 'Type', 'attribute_value': 'Шорты для плавания', 'attribute_isaspect': False, 'attribute_showascharacteristic': True}\n {'attribute_name': 'Brand', 'attribute_value': 'Supreme Grip', 'attribute_isaspect': False, 'attribute_showascharacteristic': True}\n {'attribute_name': 'Annotation', 'attribute_value': 'Откройте для себя идеальное сочетание комфорта и стиля с плавательными шортами Supreme Grip, созданными специально для современного мужчины. <br/><br/>Эти шорты не просто эстетически привлекательны, они изготовлены из 100% полиэстера, что обеспечивает их высочайшую прочность и быстрое высыхание. Полиэстер является высокопрочным, приятным на ощупь, синтетическим волокном, которое не деформируется. Эта ткань отличается устойчивостью к солнечному свету.<br/><br/>Шорты Supreme Grip - это лучшее сочетание комфорта и стиля для летнего отдыха на природе или дома.', 'attribute_isaspect': False, 'attribute_showascharacteristic': True}\n {'attribute_name': 'AgeO', 'attribute_value': 'Взрослая', 'attribute_isaspect': False, 'attribute_showascharacteristic': False}\n {'attribute_name': 'ColorBase', 'attribute_value': 'черный', 'attribute_isaspect': True, 'attribute_showascharacteristic': True}\n {'attribute_name': 'ColorName', 'attribute_value': 'black / red', 'attribute_isaspect': True, 'attribute_showascharacteristic': True}\n {'attribute_name': 'RussianSizeClothes', 'attribute_value': '48', 'attribute_isaspect': True, 'attribute_showascharacteristic': True}\n {'attribute_name': 'SizeManufacturer', 'attribute_value': 'M', 'attribute_isaspect': True, 'attribute_showascharacteristic': True}\n {'attribute_name': 'SizeM', 'attribute_value': '48', 'attribute_isaspect': False, 'attribute_showascharacteristic': True}\n {'attribute_name': 'SexMaster', 'attribute_value': 'Мужской', 'attribute_isaspect': False, 'attribute_showascharacteristic': True}\n {'attribute_name': 'SizeGrid', 'attribute_value': 'Бренд Supreme: мужская одежда', 'attribute_isaspect': False, 'attribute_showascharacteristic': False}\n {'attribute_name': 'Material', 'attribute_value': 'Полиэстер', 'attribute_isaspect': False, 'attribute_showascharacteristic': True}\n {'attribute_name': 'Composition', 'attribute_value': '100% полистер', 'attribute_isaspect': False, 'attribute_showascharacteristic': True}\n {'attribute_name': 'StyleApparel', 'attribute_value': 'Повседневный', 'attribute_isaspect': False, 'attribute_showascharacteristic': True}\n {'attribute_name': 'FilterSizeINT', 'attribute_value': 'L', 'attribute_isaspect': False, 'attribute_showascharacteristic': False}\n {'attribute_name': 'NumItemsDcml', 'attribute_value': '1', 'attribute_isaspect': True, 'attribute_showascharacteristic': True}\n {'attribute_name': 'Name', 'attribute_value': 'Шорты для плавания мужские Supreme Grip, цвет: black / red (черный). CM30101BSPR_BLACK_RED. Размер M (48)', 'attribute_isaspect': False, 'attribute_showascharacteristic': False}\n {'attribute_name': 'Season', 'attribute_value': 'На любой сезон', 'attribute_isaspect': False, 'attribute_showascharacteristic': False}\n {'attribute_name': 'ColorBase_Forfilter', 'attribute_value': 'Черный', 'attribute_isaspect': False, 'attribute_showascharacteristic': False}]",
         "[ 2.70460784e-01 -1.18796754e+00 -9.31145370e-01  1.30126551e-02\n -4.78160739e-01 -1.10246256e-01 -3.90066177e-01  1.74832076e-01\n  2.77149886e-01  3.06360424e-02  1.49606496e-01 -8.70882571e-02\n  2.47408599e-01  6.87723398e-01 -4.27023053e-01  1.36499494e-01\n -1.01064205e+00 -2.28901178e-01  4.27046239e-01 -1.52168721e-01\n  4.47030127e-01 -1.08757727e-01 -2.45372519e-01  2.40928888e-01\n  3.17597538e-02 -7.74824619e-01  2.98146456e-01  5.09169281e-01\n -6.00765705e-01 -3.07652652e-02  1.10329062e-01  3.58410835e-01\n -5.47796845e-01  2.25249618e-01 -1.42757699e-01  6.59905970e-01\n -2.64399052e-01 -3.46445054e-01 -1.07544877e-01  7.35487223e-01\n -1.20945662e-01 -4.08666342e-01  1.91423297e-01 -1.77773342e-01\n  9.03335929e-01 -6.07106090e-03 -6.93559051e-01 -2.86798418e-01\n  2.74319261e-01 -1.60589218e-01  2.05775753e-01 -5.58983088e-02\n  2.45589882e-01 -1.52245849e-01 -8.49114180e-01  3.02785605e-01\n -1.11070894e-01  4.47697341e-01  4.53359574e-01 -3.72389555e-01\n -9.81605053e-01 -7.24931777e-01  2.76783705e-01  7.50390738e-02\n  4.39447105e-01  1.48609579e-01 -3.18297744e-03 -1.31229675e+00\n  2.54748583e-01 -1.24611780e-01 -2.31204480e-01 -9.21141803e-02\n  6.73681200e-02  1.42102107e-01  1.28885165e-01  1.93377882e-02\n  6.29401147e-01 -2.69473314e-01  2.19914764e-01  2.61937916e-01\n  4.04212117e-01 -4.87317532e-01  5.92657998e-02  5.35237253e-01\n  3.82902980e-01  5.39641619e-01 -4.18474406e-01 -3.71179640e-01\n -2.19193563e-01 -1.06100917e+00 -7.77365640e-02  1.07272156e-01\n -5.74751318e-01  1.80541262e-01 -2.97267437e-02 -1.06180981e-02\n  2.79183984e-01 -2.56459296e-01 -7.88402855e-02  7.22138882e-02\n -3.21287513e-01 -2.07430780e-01  2.83125043e-01  4.11393881e-01\n  4.01922822e-01 -4.52289432e-01  2.01961473e-01 -3.00048172e-01\n  3.98806930e-01  2.18590260e-01 -7.49884188e-01 -3.36387753e-01\n -3.88140917e-01 -2.25813717e-01  4.83280987e-01 -6.47522271e-01\n  9.66496021e-02  1.84895843e-02  4.46485758e-01 -5.16021132e-01\n  2.94334352e-01  3.16030502e-01 -3.46626788e-01 -3.65839064e-01\n -3.40926498e-02 -1.93119049e-02  8.90367746e-01  2.20721990e-01\n  1.31233037e-01  1.35935485e-01 -1.10556439e-01  3.24323565e-01\n  3.69298637e-01  2.16284856e-01 -8.02942157e-01  9.41131771e-01\n  1.38692468e-01 -2.42099613e-02 -1.04282029e-01 -1.43213332e-01\n  2.76576757e-01 -2.52063632e-01  3.43166351e-01 -8.91081318e-02\n  6.07719660e-01 -2.42500484e-01 -2.04175979e-01  8.63084376e-01\n  4.45967615e-01  2.50821114e-02 -2.58480102e-01 -1.07016456e+00\n  2.80845213e+00  4.89657283e-01 -7.88413286e-02  3.97723496e-01\n  1.68463409e-01 -1.55352587e-02  2.42205277e-01  4.43559349e-01\n  3.80713642e-01  2.99033999e-01 -7.14741573e-02 -1.60643086e-01\n -1.22569785e-01 -1.70985833e-02  7.62979746e-01 -4.24998641e-01\n  2.51051337e-02  8.65626186e-02 -1.16645686e-01 -3.04752588e-01\n  2.97337323e-02 -5.04570365e-01  5.67698598e-01 -1.64340392e-01\n  4.96428490e-01  4.30084586e-01 -9.48064268e-01  2.08489582e-01\n -2.70720452e-01 -2.78770953e-01  2.01881379e-02 -2.42096126e-01\n  5.55412114e-01 -2.68826902e-01  9.63505447e-01 -3.56902540e-01\n -1.65392488e-01  2.53367305e-01 -1.82509363e-01 -6.48392797e-01\n  1.10929176e-01  6.55631348e-03 -1.91052392e-01 -5.20302355e-01\n -4.34249789e-01 -2.87418664e-02 -2.06646025e-02  2.05529004e-01\n -3.41557920e-01 -1.29238904e-01  7.30627060e-01 -7.90641904e-01\n -2.90189594e-01 -1.49663344e-01  2.19368249e-01 -1.11619487e-01\n  5.89436740e-02 -1.09372318e-01  1.44098811e-02 -1.05316305e+00\n -2.64351994e-01 -1.78945959e-02 -2.44388461e-01 -2.01749206e-01\n -2.00707451e-01  4.46796060e-01  2.18106836e-01  5.23318648e-02\n  2.54704654e-01 -2.95574099e-01 -7.34737694e-01  7.48305082e-01\n  5.92138588e-01  5.37378252e-01 -3.87482166e-01 -5.65247774e-01\n -7.43013322e-02  1.25951692e-02  6.18025422e-01  1.98899418e-01\n -4.75983918e-01 -3.33378673e-01  5.72686642e-03 -4.24816459e-02\n -4.37711596e-01  3.37759852e-01  5.53157568e-01 -4.93786186e-02\n -1.01129067e+00  1.04022253e+00  7.07205176e-01 -6.97535753e-01\n -1.05333835e-01 -1.33391559e-01 -1.69674650e-01 -6.61556125e-01\n  2.12080628e-02 -9.25414145e-01 -1.93475097e-01  3.13393801e-01\n -1.85231224e-01 -2.31550425e-01 -5.30792594e-01 -5.40745139e-01\n -6.92165256e-01  8.94697309e-02  7.35308111e-01 -6.78267479e-01\n  1.51369989e-01  1.17668465e-01  4.22289252e-01  4.85103637e-01\n -4.42000151e-01 -3.62005159e-02  1.11599818e-01 -4.82426763e-01\n  7.74228036e-01 -4.53876257e-01 -7.27906466e-01 -2.53521264e-01\n  3.66708100e-01 -2.82605886e-01 -5.95396817e-01  2.95495272e-01\n -4.61846590e-04 -2.13755950e-01 -6.12695515e-02  5.23254633e-01\n  6.26875907e-02  4.01540250e-01  2.70640135e-01 -2.32463315e-01\n -3.73283625e-02  2.94975877e-01  4.95572761e-02  2.98085511e-01\n -1.91797018e-02 -7.12503076e-01 -2.89801896e-01 -5.26507795e-01\n  3.98471475e-01  4.45501924e-01  7.76689649e-02  5.22519052e-01\n  4.43193913e-02  6.60365224e-02 -1.50930583e-02 -4.51546550e-01\n  7.70655215e-01  2.72362143e-01 -4.67322856e-01  2.05251008e-01\n -1.11685827e-01 -4.66839522e-02 -3.32678854e-01 -2.80200362e+00\n -1.32375747e-01 -2.95720041e-01  8.63280743e-02  3.33532780e-01\n -3.67108881e-01  2.54715532e-01  4.94123489e-01 -3.01143169e-01\n  2.87791118e-02 -5.89603543e-01  2.54878640e-01 -3.76209058e-02\n  9.11380351e-03  3.95526707e-01 -3.07653844e-02  9.41998661e-01\n -2.14304715e-01  1.18451416e-01 -6.30377531e-01  4.79171962e-01\n  2.70280182e-01 -3.24988157e-01 -2.93919444e-02 -1.26887262e-01\n -6.93351775e-02  2.27448389e-01  3.74674588e-01 -1.47117838e-01\n  4.35308397e-01 -4.86888736e-02 -5.63090503e-01 -1.42067313e-01\n  4.98449653e-02  3.38709146e-01  3.33736777e-01  5.87064028e-03\n -2.44596452e-02 -4.68624830e-01 -2.94250280e-01  2.30794579e-01\n -2.51017618e+00 -9.57001448e-01 -3.14025879e-01 -3.45165074e-01\n  4.87980872e-01 -1.71079755e-01 -4.89451170e-01 -6.30274341e-02\n  6.98294044e-02  6.98764622e-02 -5.63042104e-01 -1.60795242e-01\n  2.78388917e-01  6.39125556e-02  2.42108867e-01 -2.47792184e-01\n -5.40417731e-01 -2.09543854e-01  2.24277273e-01  5.50054193e-01\n  1.94404423e-01  4.26280141e-01  5.99270582e-01 -4.71134335e-01\n  4.35278475e-01 -4.13486183e-01 -1.00240268e-01  5.38062930e-01\n  1.57804266e-02 -3.15914452e-01 -2.30192706e-01 -2.04349086e-01\n  3.59888494e-01  2.64542878e-01  1.09363399e-01 -1.44716352e-02\n -4.14538682e-01  3.22949439e-02 -5.06527483e-01  1.15080185e-01\n  7.44079709e-01  4.51118760e-02  2.15010926e-01 -5.77518761e-01\n -1.89551950e-01  5.36878765e-01 -3.35933030e-01 -1.34742677e-01\n  5.22735059e-01 -9.29970980e-01 -3.23409259e-01  2.56478310e-01\n  3.64214778e-01  2.29999602e-01 -5.64504027e-01  3.40207845e-01\n  3.30731094e-01 -3.32048573e-02 -3.31542492e-01  1.21757895e-01\n -6.21917129e-01 -2.26844445e-01  3.44234735e-01 -5.59435606e-01\n  1.13398600e+00 -1.80293068e-01 -5.58801532e-01  1.70675814e-01\n -5.65021038e-01 -4.14902568e-01 -2.30685115e-01  7.93532133e-02\n  4.16945517e-01 -3.12269926e-01  3.86631489e-02 -1.23560183e-01\n  8.82503241e-02  2.61090726e-01 -2.21813858e-01  5.43864965e-01\n  2.11350426e-01 -6.39109731e-01 -3.14389378e-01  1.00246084e+00\n  8.49831998e-02  2.64482170e-01  6.96230769e-01  4.02126223e-01\n -1.68178469e-01  2.01613545e-01  7.19609112e-02 -4.32966292e-01\n -1.27839595e-02  4.55593020e-02  3.19303751e-01 -2.01160088e-01\n  1.41366675e-01 -3.36538464e-01 -5.06644845e-01 -3.49084996e-02\n -5.50045371e-02 -3.68204981e-01  2.25958630e-01  1.98222131e-01\n -1.35209531e-01  5.46962261e-01 -4.15579945e-01  1.18258059e-01\n -5.11060536e-01  2.75832474e-01 -5.34905009e-02 -3.52789104e-01\n  4.29914922e-01 -5.15759706e-01 -1.60104707e-01 -1.43275648e-01\n  1.26351833e-01 -1.16821878e-01 -8.02088916e-01 -1.08871154e-01\n -4.28467989e-04  2.82112896e-01  1.05047226e-01  9.80545208e-02\n -4.10939634e-01  3.06041449e-01  1.74146295e-01  5.91159642e-01\n -5.89593053e-02  3.92320603e-01  8.13150629e-02 -6.44793749e-01\n  3.17015201e-02 -1.91851512e-01  1.09003365e-01 -5.42588830e-01\n -5.98946095e-01  1.07698895e-01  3.84902358e-02 -1.81895532e-02\n -6.18343055e-01 -9.49094892e-02 -1.55736542e+00  2.45180398e-01\n -2.72910208e-01  3.98303658e-01 -2.12956965e-03  8.27081203e-01\n  6.59362674e-02  2.00545162e-01 -5.06547570e-01  3.90019476e-01\n -1.19236231e-01 -8.20946544e-02  4.99102294e-01 -2.54490137e-01\n  5.17566502e-01 -9.29885581e-02  3.36063266e-01  8.10790241e-01\n -4.37631786e-01  3.37063640e-01 -2.53052503e-01 -9.43847895e-02]",
         "36665",
         "236245944",
         "32119508"
        ],
        [
         "10",
         "2095808",
         "Футболка Tom Tailor",
         "[{'attribute_name': 'Type', 'attribute_value': 'Футболка', 'attribute_isaspect': False, 'attribute_showascharacteristic': True}\n {'attribute_name': 'Brand', 'attribute_value': 'Tom Tailor', 'attribute_isaspect': False, 'attribute_showascharacteristic': True}\n {'attribute_name': 'Annotation', 'attribute_value': 'Прямая футболка с фирменной эмблемой от Tom Tailor — выбор тех, кто ценит комфорт, качество и осознанный подход к моде. Выполненная из приятного к телу трикотажа джерси на основе экологичного хлопка BCI (Better Cotton Initiative), эта модель создана в рамках устойчивого проекта BE PART, направленного на защиту окружающей среды и поддержку ответственного производства. Универсальный прямой крой, круглый вырез горловины и короткие рукава делают футболку базовой частью повседневного гардероба. Эмблема Tom Tailor в виде стильного принта на груди придаёт образу характер и подчёркивает принадлежность к бренду с европейской историей и высоким качеством. Модель легко сочетается с джинсами, брюками или шортами, оставаясь уместной как в городском ритме, так и в повседневной обстановке. Натуральный материал обеспечивает комфорт даже в жаркие дни. Tom Tailor — это мода для тех, кто живёт в ритме природы. Сделайте выбор в пользу качества, стиля и устойчивого будущего.', 'attribute_isaspect': False, 'attribute_showascharacteristic': True}\n {'attribute_name': 'ColorBase', 'attribute_value': 'красный', 'attribute_isaspect': True, 'attribute_showascharacteristic': True}\n {'attribute_name': 'RussianSizeClothes', 'attribute_value': '56', 'attribute_isaspect': True, 'attribute_showascharacteristic': True}\n {'attribute_name': 'SizeManufacturer', 'attribute_value': 'XXXL', 'attribute_isaspect': True, 'attribute_showascharacteristic': True}\n {'attribute_name': 'SizeM', 'attribute_value': 'L', 'attribute_isaspect': False, 'attribute_showascharacteristic': True}\n {'attribute_name': 'SexMaster', 'attribute_value': 'Мужской', 'attribute_isaspect': False, 'attribute_showascharacteristic': True}\n {'attribute_name': 'HeightM', 'attribute_value': '189 см', 'attribute_isaspect': False, 'attribute_showascharacteristic': True}\n {'attribute_name': 'SizeGrid', 'attribute_value': 'Бренд Tom Tailor: Мужские футболки, толстовки, джемперы', 'attribute_isaspect': False, 'attribute_showascharacteristic': False}\n {'attribute_name': 'Material', 'attribute_value': 'Хлопок', 'attribute_isaspect': False, 'attribute_showascharacteristic': True}\n {'attribute_name': 'Composition', 'attribute_value': '100 % Хлопок', 'attribute_isaspect': False, 'attribute_showascharacteristic': True}\n {'attribute_name': 'Season', 'attribute_value': 'На любой сезон', 'attribute_isaspect': False, 'attribute_showascharacteristic': True}\n {'attribute_name': 'FilterSizeINT', 'attribute_value': '3XL', 'attribute_isaspect': False, 'attribute_showascharacteristic': False}\n {'attribute_name': 'NumItemsDcml', 'attribute_value': '1', 'attribute_isaspect': False, 'attribute_showascharacteristic': True}\n {'attribute_name': 'Name', 'attribute_value': 'Футболка с принтом-эмблемой', 'attribute_isaspect': False, 'attribute_showascharacteristic': False}\n {'attribute_name': 'ColorBase_Forfilter', 'attribute_value': 'Красный', 'attribute_isaspect': False, 'attribute_showascharacteristic': False}]",
         "[ 3.27731445e-02 -7.52857745e-01 -3.08531702e-01  1.91551447e-03\n  4.49400663e-01 -2.06172615e-02 -7.06876457e-01  4.90874052e-03\n -3.20754230e-01 -3.31886590e-01  1.71658009e-01  3.47333580e-01\n -2.28217766e-02  1.89863577e-01  6.02916479e-02  4.45373058e-02\n -1.20248234e+00 -1.08590275e-01  1.48030877e-01 -2.14445457e-01\n -2.24611014e-02 -2.46122465e-01  6.00452721e-02  1.28701776e-01\n -3.37897480e-01 -2.88444757e-01  9.11660075e-01 -1.53843090e-02\n -2.19063178e-01  3.36203575e-01 -5.24911821e-01  4.24148887e-02\n  6.15361094e-01 -4.04463671e-02 -1.76407889e-01 -6.55716434e-02\n -6.52534008e-01 -1.13139220e-01  3.39277685e-01  2.26395816e-01\n  1.73436314e-01  9.59360152e-02  7.37819910e-01 -1.30000770e-01\n -1.57488674e-01 -3.31217110e-01 -8.79266739e-01  1.54747471e-01\n  1.52569413e-01 -4.05802786e-01  2.82138467e-01  2.97485143e-01\n  3.98603290e-01 -2.26185590e-01 -5.36076427e-01  9.82362702e-02\n -1.29629046e-01  2.25940585e-01  6.40929043e-01  1.74949959e-01\n -3.05513442e-01 -2.96861768e-01  3.39026362e-01  2.97260165e-01\n -3.05124372e-01  1.58987194e-01 -3.35730463e-01 -5.79219699e-01\n  1.38795733e-01 -2.86489785e-01 -3.92101884e-01  5.81096947e-01\n -1.57145411e-01 -3.03680271e-01  4.99431342e-02 -1.01812690e-01\n  4.01558429e-01  2.04903454e-01  1.34242266e-01 -2.47337669e-01\n  6.54029608e-01 -1.92450672e-01 -5.19416094e-01  8.87011141e-02\n  7.20074177e-01 -1.41589656e-01 -2.64982760e-01  5.45887411e-01\n -3.35333943e-01 -3.56678098e-01 -5.24959505e-01 -4.28193152e-01\n -6.37295723e-01 -3.18323970e-01 -3.62844765e-01  2.69156277e-01\n  3.34690779e-01 -7.70440698e-03  3.31539631e-01  1.65496796e-01\n -2.32430577e-01 -2.70012408e-01 -4.26093817e-01 -4.13563550e-02\n  4.84866738e-01  2.76960045e-01  8.40442836e-01 -8.15323889e-01\n -4.00355577e-01 -3.17339748e-02 -3.10096920e-01 -1.48562610e-01\n -7.46770024e-01 -8.49574089e-01  1.12712216e+00 -6.00379765e-01\n -1.53558165e-01  4.07226413e-01  4.82898802e-02 -9.13343608e-01\n  4.56749290e-01  2.03840211e-02  3.43497783e-01 -3.20046902e-01\n  4.56835568e-01 -4.06242013e-01 -2.00127974e-01  1.45171404e-01\n  2.15679795e-01 -4.31115091e-01  9.10935700e-02 -2.04448402e-03\n -3.28012407e-02 -1.88277259e-01 -1.06218494e-02  1.08870542e+00\n -1.55200601e-01  2.34745249e-01  1.13477856e-01  3.72884870e-01\n -7.60069713e-02  4.00151163e-01  3.10208052e-02  1.84576526e-01\n  7.78265417e-01 -3.69858205e-01  2.59729534e-01  6.23762608e-05\n  4.83079642e-01  6.10515594e-01 -2.51067489e-01 -2.99897522e-01\n  2.93857098e+00  2.33951136e-01  5.29653952e-02  1.06386423e-01\n -3.67365092e-01 -8.47470015e-02  2.68139243e-01 -1.04758358e+00\n  4.20045346e-01 -3.92217338e-02 -6.78075552e-02 -3.42718542e-01\n  6.09042525e-01 -2.64436424e-01  2.23827437e-01 -1.04170489e+00\n -5.53582609e-03 -1.68546349e-01  9.37718153e-03  1.17013961e-01\n  1.44548893e-01  2.33178020e-01 -7.91046143e-01 -7.83231616e-01\n  8.28235209e-01 -1.66297168e-01  3.77260268e-01  4.53243442e-02\n -2.33328089e-01 -5.28575897e-01  3.49402845e-01  3.39798629e-04\n  2.00020641e-01 -3.25054646e-01  1.53306603e+00 -9.29788575e-02\n -9.25718397e-02 -1.68447271e-02 -2.63552070e-01  1.90043747e-02\n -2.10399240e-01 -3.63686800e-01 -2.38400251e-01  2.36714736e-01\n -4.21126723e-01 -1.47313565e-01  3.35352600e-01 -3.18624556e-01\n  3.47570330e-01 -8.26323569e-01 -1.11170053e-01 -7.79128432e-01\n -2.45704293e-01 -1.25959426e-01 -5.20278066e-02  7.99051672e-02\n -2.02354804e-01  1.83645174e-01  5.31617552e-02  1.62782237e-01\n  8.33289772e-02  3.76689672e-01  1.86056808e-01  1.63897350e-01\n  2.41045430e-02  3.18266749e-01  2.93740511e-01  3.13421488e-02\n -2.03225315e-02 -2.34301567e-01  5.10409474e-03  5.33324718e-01\n -6.90176636e-02  1.78563356e-01 -3.07441771e-01  2.85899460e-01\n -3.39728296e-02  1.83574647e-01  3.56423616e-01 -8.19555223e-02\n  3.11069191e-01 -3.42295885e-01 -6.80191219e-01 -4.61231768e-01\n  2.72771418e-02 -2.42763758e-02 -1.02863386e-02  7.63382316e-01\n -5.25363505e-01  3.11033070e-01 -4.00037527e-01 -1.81832731e-01\n -3.27620208e-02  1.40487343e-01 -3.12984347e-01  1.97984725e-01\n -5.66122532e-02 -6.74738407e-01 -3.94589543e-01  1.01671264e-01\n  3.24174881e-01 -3.91915560e-01 -4.78084058e-01 -3.37871671e-01\n -2.56064415e-01 -3.63824427e-01  8.46020699e-01  8.34537446e-02\n -2.47684270e-01  5.48427165e-01  3.51150453e-01 -3.22703212e-01\n -4.39118505e-01 -2.81017572e-01 -1.98318630e-01  1.36975497e-02\n -6.34128153e-02  2.38862067e-01 -1.39779758e+00  3.59545708e-01\n  7.98361778e-01  3.44786942e-01  2.44440466e-01 -1.18357450e-01\n  2.77457297e-01  3.53827119e-01  3.46109360e-01  5.00324845e-01\n  4.76545751e-01  4.74929929e-01  1.13183841e-01  4.37200069e-01\n -7.58343861e-02  7.53021687e-02  6.35321379e-01  7.16718554e-01\n  1.36094585e-01 -2.51277953e-01 -6.12982869e-01  1.90012693e-01\n  3.52387816e-01 -5.58480978e-01 -3.85042369e-01  2.91904986e-01\n -8.40154067e-02 -1.49506062e-01  1.19913720e-01  1.42925814e-01\n  7.82329440e-01 -7.99745142e-01  2.15198547e-01 -1.74695194e-01\n -1.41810387e-01 -5.65233827e-01 -3.60627770e-02 -2.94138122e+00\n -9.25121456e-02  3.11622858e-01  6.71841204e-03 -7.56909370e-01\n -7.14936078e-01  5.91990352e-02  3.35919142e-01 -1.83257505e-01\n -3.16260427e-01 -5.37621260e-01  2.67573535e-01 -3.70570093e-01\n  3.84866893e-01 -3.81045550e-01 -2.47141391e-01  6.95274591e-01\n -1.07790494e+00  1.52225003e-01  4.02733803e-01 -1.80984139e-01\n -1.13390350e+00 -4.65394795e-01 -1.14560276e-02 -1.80088624e-01\n -1.37833923e-01  2.00528055e-01 -6.60561323e-02  3.37617368e-01\n  3.39850008e-01 -1.88480482e-01  3.63905430e-02 -2.56157160e-01\n  2.40977943e-01  1.43185571e-01  5.76566339e-01 -5.93960762e-01\n -8.41632038e-02 -3.82576197e-01 -1.42713189e-01  1.86915278e-01\n -1.44259024e+00 -5.24106205e-01 -1.73865408e-02  1.64095417e-01\n  1.41722381e-01 -5.96448958e-01 -3.67544919e-01  3.77902120e-01\n  1.50804535e-01 -2.27118790e-01 -2.65811414e-01  3.30560744e-01\n  2.21459970e-01 -1.17940322e-01  3.19859207e-01 -2.12266073e-01\n -4.01514053e-01 -1.52450874e-02  1.77812129e-02  1.50343984e-01\n -1.33838952e-02 -2.78518200e-02  3.84363770e-01 -2.60547698e-01\n -1.59192830e-01  3.07563096e-02 -1.30669564e-01 -6.12077951e-01\n  5.16825676e-01 -1.89752847e-01 -4.21107262e-02 -2.16617614e-01\n -3.95101100e-01  4.83699948e-01 -2.11401060e-01  5.31822294e-02\n -8.16515088e-03  1.09852910e+00 -2.63710171e-01 -2.15110391e-01\n  4.23098624e-01  7.87754655e-01 -2.36422375e-01 -2.50484645e-01\n  7.26475120e-01  3.61813635e-01 -4.30909753e-01  1.48366094e-01\n  3.80786180e-01 -1.29232287e-01  6.73417822e-02 -4.93145257e-01\n -1.29852071e-01  7.50600100e-02 -3.12356651e-01  1.31883478e+00\n  1.29247636e-01 -4.92252469e-01  4.47954267e-01 -1.91304296e-01\n -2.02665001e-01  1.99219912e-01 -3.35711837e-01  3.19795191e-01\n  1.01798046e+00 -2.11615115e-01  5.91521561e-01  2.12799624e-01\n  2.12707236e-01 -2.01874971e-03 -4.59576994e-01  1.83477312e-01\n  8.40180218e-02 -4.58073348e-01 -5.74388206e-01 -2.94665754e-01\n  4.66282427e-01  5.66694438e-01  8.06127638e-02 -4.48398054e-01\n -3.23749900e-01 -5.51198795e-02  2.15845227e-01  2.12445438e-01\n -3.28829914e-01  3.43653828e-01 -6.79402173e-01  6.29218876e-01\n  1.82924256e-01  3.43887568e-01 -2.67361104e-01 -8.14601779e-02\n  3.30142677e-01 -3.56877387e-01  3.84920806e-01 -1.96827590e-01\n -3.55668664e-01  3.73789445e-02  6.68111742e-02 -2.01082513e-01\n -4.62767899e-01 -1.74622238e-01  4.78957742e-01  8.44205976e-01\n -2.18070030e-01 -1.96408913e-01 -6.11392975e-01  2.01066881e-01\n -3.58285159e-01 -2.30829477e-01  2.73226611e-02  1.24792039e-01\n -1.23416543e-01  2.62809366e-01 -3.77152383e-01 -5.97114086e-01\n -1.85886919e-01  8.46640915e-02  5.86705625e-01  7.52253711e-01\n -2.84295559e-01  3.40833992e-01 -2.99814224e-01 -2.90084064e-01\n -1.42023861e-01 -3.45841385e-02  5.33844531e-03  7.74803996e-01\n  6.86294913e-01  4.86711264e-01 -2.43349314e-01 -2.53968030e-01\n  9.47645307e-03 -1.86143816e-03 -3.36447060e-01 -2.65510499e-01\n -2.02257946e-01 -3.34715426e-01 -5.92538476e-01 -6.23361468e-01\n -2.84155071e-01  9.30817425e-02 -2.02994585e+00  1.69390947e-01\n  6.46023452e-03  9.04616863e-02 -2.05103576e-01  1.28714871e+00\n -8.30947906e-02 -6.46737039e-01  4.93227243e-01 -2.06856340e-01\n  5.49615026e-01  4.11586225e-01  4.27937359e-02  1.28756672e-01\n  5.65441608e-01 -2.58590519e-01  6.03235185e-01  4.11124676e-01\n  2.99569130e-01 -7.09837377e-02  4.53557186e-02 -1.91979438e-01]",
         "7559",
         "289182638",
         "21889175"
        ],
        [
         "11",
         "2141800",
         "Футболка",
         "[{'attribute_name': 'Type', 'attribute_value': 'Футболка', 'attribute_isaspect': False, 'attribute_showascharacteristic': True}\n {'attribute_name': 'Brand', 'attribute_value': 'Нет бренда', 'attribute_isaspect': False, 'attribute_showascharacteristic': True}\n {'attribute_name': 'Annotation', 'attribute_value': 'Футболка унисекс (мужская и женская) белая фильмы Лицехват (Чужой, Alien, Ностальгия, 90-ые, horror, Гигер) - 38219\\n\\nФутболка - это неотъемлемая часть гардероба: универсальная, практичная, стильная, сочетается с любой вещью.<br>\\nКлассический силуэт одновременно удобен в движении, так как достаточно свободен, но в то же время нигде ничего не топорщится и футболка смотрится аккуратно.<br>\\nТрикотаж футболки изготовлен из полиэфирной пряжи по структуре и свойствам максимально похожей на хлопок, что позволяет коже дышать и делает ткань приятной к телу. При этом материал очень быстро сохнет и не мнется - что делает футболку универсальной для повседневной носки и спорта.<br>\\nПечать принта осуществляется методом сублимации (прямой перенос краски на ткань), что делает принт долговечным.<br>\\n<br>\\nУход:<br>\\nСтирать при температуре не выше 40 градусов.<br>\\nГладить при температуре не выше 110 градусов.<br>\\nНе использовать отбеливатель<br>\\n<br>\\nДетали:<br>\\nФутболка имеет круглый вырез горловины, длина до линии бедер<br>\\n<br>\\nТип нанесения:<br>\\nСублимация на ткани<br>', 'attribute_isaspect': False, 'attribute_showascharacteristic': True}\n {'attribute_name': 'ColorBase', 'attribute_value': 'белый', 'attribute_isaspect': True, 'attribute_showascharacteristic': True}\n {'attribute_name': 'ColorName', 'attribute_value': 'Футболка унисекс (мужская и женская) белая фильмы Лицехват (Чужой, Alien, Ностальгия, 90-ые, horror, Гигер) - 38219', 'attribute_isaspect': True, 'attribute_showascharacteristic': True}\n {'attribute_name': 'RussianSizeClothes', 'attribute_value': '54', 'attribute_isaspect': True, 'attribute_showascharacteristic': True}\n {'attribute_name': 'SizeManufacturer', 'attribute_value': '2XL', 'attribute_isaspect': True, 'attribute_showascharacteristic': True}\n {'attribute_name': 'SexMaster', 'attribute_value': 'Мужской', 'attribute_isaspect': False, 'attribute_showascharacteristic': True}\n {'attribute_name': 'SizeGrid', 'attribute_value': 'Универсальная размерная сетка: мужская одежда', 'attribute_isaspect': False, 'attribute_showascharacteristic': False}\n {'attribute_name': 'Material', 'attribute_value': 'Полиэстер', 'attribute_isaspect': False, 'attribute_showascharacteristic': True}\n {'attribute_name': 'Material', 'attribute_value': 'Хлопок', 'attribute_isaspect': False, 'attribute_showascharacteristic': True}\n {'attribute_name': 'Composition', 'attribute_value': '50% Хлопок;50% Полиэстер', 'attribute_isaspect': False, 'attribute_showascharacteristic': True}\n {'attribute_name': 'Season', 'attribute_value': 'На любой сезон', 'attribute_isaspect': False, 'attribute_showascharacteristic': True}\n {'attribute_name': 'FilterSizeINT', 'attribute_value': 'XXL', 'attribute_isaspect': False, 'attribute_showascharacteristic': False}\n {'attribute_name': 'Name', 'attribute_value': 'Футболка унисекс (мужская и женская) белая фильмы Лицехват (Чужой, Alien, Ностальгия, 90-ые, horror, Гигер) - 38219', 'attribute_isaspect': False, 'attribute_showascharacteristic': False}\n {'attribute_name': 'ColorBase_Forfilter', 'attribute_value': 'Белый', 'attribute_isaspect': False, 'attribute_showascharacteristic': False}]",
         "[ 2.38435730e-01 -7.73998022e-01 -1.08754253e+00 -4.10325944e-01\n  6.80678964e-01 -4.75633979e-01 -5.04419684e-01  1.07240677e-03\n  9.14221779e-02 -3.47753912e-01  8.00127536e-02  3.20240259e-01\n -2.97499686e-01  1.03009194e-02  1.46542549e-01  3.58026087e-01\n -4.52686250e-01  1.84652209e-03 -5.61906338e-01 -1.78150415e-01\n -1.10038094e-01 -4.39164042e-01  1.94280595e-01 -1.13913745e-01\n -6.14466071e-01 -6.68428957e-01  4.65430260e-01 -2.20155567e-02\n -4.53325212e-01  1.15742385e-02 -6.76710606e-01  5.32515466e-01\n  2.91194052e-01  4.11122680e-01 -1.67737186e-01  4.18778956e-02\n  6.70300722e-01  5.25297999e-01  7.95321316e-02 -1.73814580e-01\n  1.93072245e-01 -5.49399853e-01  4.62178349e-01  3.76519769e-01\n  1.20605975e-02 -1.73078030e-01 -4.66543585e-01 -8.62060711e-02\n -5.49453497e-02 -7.50521421e-02  5.00696123e-01 -1.74959809e-01\n  2.64935941e-03  2.29342982e-01 -2.59993136e-01 -3.73374522e-01\n -1.33952707e-01  3.02506745e-01  7.12055922e-01  8.20168778e-02\n -1.92938834e-01  3.15976799e-01 -5.80654740e-01 -5.45215607e-03\n  3.73031557e-01  8.45386162e-02  3.40728611e-01 -7.64456749e-01\n  2.39379987e-01 -4.37326849e-01 -5.05137324e-01 -2.95591503e-02\n -3.22010845e-01 -4.19049442e-01  1.66347861e-01  8.00481886e-02\n -3.33717585e-01  3.85490030e-01 -3.89393508e-01  2.68521011e-01\n  7.10426331e-01  2.71713793e-01 -2.54673958e-02  5.09706080e-01\n -3.54826748e-01 -3.58755529e-01 -2.13743746e-03  5.67790031e-01\n  6.02949262e-02 -6.68455809e-02  2.61475384e-01 -4.78906155e-01\n -3.79461944e-01 -3.34050804e-01 -7.81755596e-02  4.15629804e-01\n  2.56875455e-01 -4.09631252e-01  5.93416750e-01  2.61322349e-01\n  1.38949752e-02  5.33839583e-01 -5.87726459e-02  2.22242519e-01\n  5.53920865e-04 -4.01539803e-01  1.76245749e-01 -8.36392641e-01\n  2.73443222e-01 -5.81819952e-01 -7.34287262e-01  5.40927410e-01\n -7.47205853e-01  6.45648539e-02  1.10664058e+00 -6.45491004e-01\n -4.54839885e-01  2.17802137e-01 -3.73473316e-01  1.64117783e-01\n  7.54263878e-01  1.74621835e-01  6.91499710e-01  4.36094552e-02\n -2.93834865e-01  1.49232194e-01  3.17160964e-01 -2.11513966e-01\n  5.67292511e-01 -3.59888732e-01  7.80601799e-02 -2.91631669e-01\n -2.08207682e-01 -2.54707709e-02  6.18601680e-01  4.68894601e-01\n -1.64387584e-01  1.46309048e-01  1.57127380e-01 -4.58481535e-02\n  1.18360639e-01  1.92902267e-01  5.30836806e-02  8.70405138e-03\n  3.17821175e-01  1.21643841e-02 -2.56303132e-01  4.28495824e-01\n  4.21904325e-02  5.72373092e-01  1.77956462e-01 -3.95192727e-02\n  2.54114628e+00 -3.03419441e-01  2.29482979e-01 -7.44532496e-02\n -7.55253136e-01  2.89521277e-01  4.11334932e-02 -8.67574438e-02\n -1.41166523e-01  8.54730546e-01 -7.99396113e-02 -5.57199001e-01\n -1.69960856e-02  3.96033287e-01 -6.23123050e-02 -3.08687240e-01\n -3.06878686e-01 -1.14577122e-01 -5.29254153e-02  2.73835063e-01\n  4.12403524e-01  5.36869094e-02  1.54270053e-01  1.07282448e+00\n -1.47261888e-01 -3.74728143e-02  3.52284312e-03  1.02233328e-01\n -8.91853869e-02 -7.46556640e-01 -8.61633867e-02  4.07751799e-02\n  1.36570811e-01 -1.56534046e-01  4.68479574e-01  2.11769223e-01\n  6.51007891e-03 -4.57610071e-01 -1.67184889e-01 -1.33690923e-01\n  3.34604859e-01 -6.39589429e-02  3.70443761e-02 -1.68452933e-02\n  2.77728081e-01 -9.03461874e-02  2.06734538e-01  1.25406682e-01\n  5.03354192e-01 -7.59522021e-02 -9.33226824e-01  4.37171310e-02\n -3.40296328e-01  2.89980441e-01 -1.28130391e-01 -2.21207321e-01\n -4.35252935e-02 -8.47813487e-03  4.69386578e-01 -2.33962119e-01\n  3.81698847e-01  1.97156504e-01 -4.77602154e-01  4.22289342e-01\n -3.47547531e-01 -1.15329027e-02 -4.64289784e-02 -2.14441836e-01\n -2.59264469e-01 -1.22289911e-01  1.45352960e-01  6.39046073e-01\n -3.25743407e-01  2.42729485e-01 -6.10251546e-01  2.77473152e-01\n -5.28511286e-01  3.34255040e-01  3.63668621e-01  2.09156394e-01\n  2.78530240e-01  3.26140136e-01 -1.04073822e-01 -1.83164001e-01\n -2.99637556e-01  1.34779364e-01 -8.48051310e-02  4.00407940e-01\n -2.91814923e-01 -3.09201404e-02  2.39595979e-01 -6.07089758e-01\n -1.79726094e-01 -1.84984118e-01  6.98375031e-02 -4.05106097e-02\n  1.96551070e-01 -5.00069439e-01  4.88602459e-01  1.41821608e-01\n  2.37892747e-01 -5.06001472e-01 -5.76976120e-01  5.66922128e-04\n  4.74166870e-03  3.01355720e-01  1.45924699e+00  4.96044874e-01\n -8.50833952e-02 -7.16661692e-01  4.13798928e-01 -1.78461432e-01\n -2.51087934e-01 -2.25893021e-01 -6.26046181e-01  4.09822315e-02\n -3.75194013e-01  7.84448504e-01 -8.55801702e-01 -1.92708045e-01\n  9.34152231e-02 -5.14920875e-02 -3.07416797e-01  1.00440904e-01\n  2.20609680e-02 -4.22427833e-01  1.43658072e-01  5.60500503e-01\n  5.99192142e-01  1.99919939e-03 -3.04811805e-01  7.24682435e-02\n  3.69030565e-01  4.71436024e-01 -3.85771722e-01  1.38991624e-01\n -5.40255070e-01  4.04911280e-01 -3.81199181e-01  2.09036708e-01\n  2.06808135e-01 -2.51085877e-01  2.92262614e-01  8.78601223e-02\n  7.81431913e-01 -1.56029612e-01 -4.89972919e-01 -3.41283798e-01\n  3.69696021e-01 -2.35061198e-01  4.75147188e-01 -4.30004060e-01\n -1.40326071e+00  2.56219774e-01  3.01195621e-01 -2.54777527e+00\n -2.49115556e-01  1.73830926e-01 -6.57862186e-01 -5.46300471e-01\n -1.30099535e-01  5.98846912e-01  2.36859232e-01 -7.81700611e-01\n  2.98708618e-01 -3.12307179e-02  1.97449207e-01 -6.17992401e-01\n  4.66093980e-03  2.30300203e-02 -4.06367064e-01 -9.33231235e-01\n  3.84026825e-01 -4.47660863e-01 -2.39959314e-01  4.24242839e-02\n -7.09307849e-01 -5.42308748e-01  6.66959882e-01 -3.78343850e-01\n  8.85700583e-02 -4.33238149e-02 -8.56290683e-02 -1.98353767e-01\n -1.02422500e+00 -5.63060045e-01  8.10725629e-01  3.68269980e-01\n -1.24279812e-01 -2.82899320e-01  9.08095956e-01 -2.91198015e-01\n -1.51109070e-01  8.76991630e-01  2.04137623e-01  3.04216444e-01\n -1.23690152e+00 -4.33463633e-01  2.46774510e-01 -2.68867612e-02\n  1.21065348e-01 -8.76286328e-02 -1.48597491e+00  2.07672715e-02\n  3.60503197e-02 -5.05723417e-01 -4.55907106e-01  2.05896422e-02\n  4.34647352e-01  3.49518448e-01  3.08036208e-01 -3.09117585e-01\n  3.37466449e-01  2.20863968e-02 -3.82224202e-01 -8.96325335e-02\n  4.37319368e-01 -6.90490127e-01  2.10567623e-01  2.26289779e-01\n  9.43260789e-02 -3.01393062e-01 -3.87577236e-01 -5.88086963e-01\n  6.10749662e-01  3.33947957e-01 -5.48292041e-01 -1.94443092e-01\n  1.41453773e-01 -2.39965856e-01  1.44073442e-01 -9.02386159e-02\n -6.72790647e-01  8.93341780e-01  8.96812379e-02 -3.43034744e-01\n  1.61085352e-01 -1.40592828e-01  9.51843187e-02 -7.53988624e-01\n  3.28010082e-01 -1.11776471e-01  1.37312233e-01 -2.02537745e-01\n  1.76450461e-01 -1.42662525e-01 -1.67558193e-02 -4.42465991e-01\n  1.91893578e-01  1.02342568e-01 -4.56822962e-02 -3.24901938e-01\n  1.86967239e-01 -5.25838360e-02 -1.79241210e-01 -6.82048053e-02\n -7.59869814e-01 -1.16304979e-01  2.60825474e-02  5.49947023e-01\n  5.11118531e-01 -3.21805030e-02  3.62528503e-01  3.02243412e-01\n -4.16224778e-01 -4.57558930e-01  2.67596513e-01  1.39575213e-01\n -4.55360889e-01 -3.36997628e-01 -1.70880973e-01 -6.87307358e-01\n  2.65166044e-01  8.10669512e-02 -4.94434774e-01 -2.18971923e-01\n  2.31527641e-01  5.25377393e-01  5.44126406e-02  9.85983729e-01\n -2.57245362e-01  3.84841532e-01 -1.30464941e-01 -2.15178341e-01\n  1.80284232e-02  6.07366383e-01 -6.77037239e-03  6.68540597e-02\n  2.07899511e-01 -6.02385879e-01  7.88081437e-03  1.21424742e-01\n -1.74424678e-01  1.62386760e-01 -1.68968350e-01  3.29777002e-02\n  7.11913466e-01  5.06136835e-01 -2.79960126e-01  3.78042936e-01\n  1.93538681e-01 -2.05842078e-01 -1.04509020e+00 -1.66049853e-01\n -3.05737674e-01  5.06913126e-01 -2.05627859e-01 -3.61299932e-01\n  2.41732508e-01 -8.06059688e-02  1.34280801e-01 -2.82839030e-01\n -8.27971697e-02  9.62806791e-02  6.10395193e-01  7.08382130e-01\n -2.57635981e-01  4.87880886e-01 -1.25509590e-01  1.72361583e-01\n  4.47618037e-01 -1.31307214e-01  8.36575329e-02  4.08919096e-01\n  1.94837138e-01  5.47639012e-01  3.01796943e-02  2.94621617e-01\n -6.14161015e-01 -5.21283031e-01  1.72181398e-01 -3.83201540e-01\n  1.13160245e-01  4.51648176e-01 -4.05597746e-01 -4.00006652e-01\n -2.77255177e-02 -2.60986298e-01 -2.04398346e+00 -1.27269164e-01\n  1.37797296e-02  1.73773631e-01  1.31633684e-01  1.13960743e+00\n -6.30167127e-01 -3.13690126e-01 -6.40297890e-01  1.41916007e-01\n  1.75796092e-01  9.74152446e-01  6.82292134e-02  2.61365980e-01\n  4.81475592e-02  4.35171068e-01  4.55656707e-01  7.40278482e-01\n -2.67520070e-01  3.17796290e-01  3.84448409e-01 -6.26421213e-01]",
         "7559",
         "238432973",
         "15795237"
        ],
        [
         "12",
         "2234202",
         "Платье Toku Tino платье в горошек женское",
         "[{'attribute_name': 'Type', 'attribute_value': 'Платье', 'attribute_isaspect': False, 'attribute_showascharacteristic': True}\n {'attribute_name': 'Brand', 'attribute_value': 'Toku Tino', 'attribute_isaspect': False, 'attribute_showascharacteristic': True}\n {'attribute_name': 'Annotation', 'attribute_value': ' Платье женское. Платье в горох женское. Платье. Платья. Платье в горох. Платье в горошек. Платье весна женское. Платье летнее женское. Платье женское офисное. Платье офисное. Платье офисное женское. Платье миди. Платье в пол. Платье женское праздничное вечернее. Платье женское праздничное. Платье в горошек. Платье в горошек женское. Платье в горошек женское. Платье горох женское. Платье горох. Платье черное в горошек. Платье женское вечернее. Платье нарядное женское. Платье вечернее. Платье женское больших размеров. Летнее платье женское. Платья женские праздничные. Платье женское офисное больших размеров. Платья нарядные женские. Платье женское повседневное. Платье в горошек женское праздничное. Платья больших размеров. Платье летнее женское легкое. Платье вечернее праздничное. Платье вечернее праздничное. Платье женское праздничное нарядное. Платье горошек женское нарядное. Платья в горошек женские. Платье горох женское. Платье в горох женское. Платье в горох. Платье в горошек женское летнее. Платье деловое. Офисные платья женские. Платье женское деловое. Платье деловое. Платье классическое женское. Платье футляр. Платье классика. Платье с длинным рукавом. Платье в пол. Платье на резинке. Платье для беременных. Платье на свадьбу. Платье классическое. Платье женское.', 'attribute_isaspect': False, 'attribute_showascharacteristic': True}\n {'attribute_name': 'ColorBase', 'attribute_value': 'бордовый', 'attribute_isaspect': True, 'attribute_showascharacteristic': True}\n {'attribute_name': 'ColorBase', 'attribute_value': 'белый', 'attribute_isaspect': True, 'attribute_showascharacteristic': True}\n {'attribute_name': 'ColorBase', 'attribute_value': 'винно-красный', 'attribute_isaspect': True, 'attribute_showascharacteristic': True}\n {'attribute_name': 'ColorName', 'attribute_value': 'бордовый, винный, белый, в горошек, в горох', 'attribute_isaspect': True, 'attribute_showascharacteristic': True}\n {'attribute_name': 'RussianSizeClothes', 'attribute_value': '54', 'attribute_isaspect': True, 'attribute_showascharacteristic': True}\n {'attribute_name': 'SizeManufacturer', 'attribute_value': '54', 'attribute_isaspect': True, 'attribute_showascharacteristic': True}\n {'attribute_name': 'SizeM', 'attribute_value': '44', 'attribute_isaspect': False, 'attribute_showascharacteristic': True}\n {'attribute_name': 'SexMaster', 'attribute_value': 'Женский', 'attribute_isaspect': False, 'attribute_showascharacteristic': True}\n {'attribute_name': 'HeightM', 'attribute_value': '173 см', 'attribute_isaspect': False, 'attribute_showascharacteristic': True}\n {'attribute_name': 'Material', 'attribute_value': 'Вискоза', 'attribute_isaspect': False, 'attribute_showascharacteristic': True}\n {'attribute_name': 'Composition', 'attribute_value': '65% вискоза, 30%полиэстер, 5%эластан', 'attribute_isaspect': False, 'attribute_showascharacteristic': True}\n {'attribute_name': 'StyleApparel', 'attribute_value': 'Повседневный', 'attribute_isaspect': False, 'attribute_showascharacteristic': True}\n {'attribute_name': 'Season', 'attribute_value': 'На любой сезон', 'attribute_isaspect': False, 'attribute_showascharacteristic': True}\n {'attribute_name': 'clothescut', 'attribute_value': 'приталенный', 'attribute_isaspect': False, 'attribute_showascharacteristic': True}\n {'attribute_name': 'SleeveLength', 'attribute_value': 'Длинный', 'attribute_isaspect': False, 'attribute_showascharacteristic': True}\n {'attribute_name': 'FilterSizeINT', 'attribute_value': 'XXL', 'attribute_isaspect': False, 'attribute_showascharacteristic': False}\n {'attribute_name': 'NumItemsDcml', 'attribute_value': '1', 'attribute_isaspect': False, 'attribute_showascharacteristic': True}\n {'attribute_name': 'Name', 'attribute_value': 'платье Катрин', 'attribute_isaspect': False, 'attribute_showascharacteristic': False}\n {'attribute_name': 'ColorBase_Forfilter', 'attribute_value': 'Бордовый', 'attribute_isaspect': False, 'attribute_showascharacteristic': False}\n {'attribute_name': 'ColorBase_Forfilter', 'attribute_value': 'Белый', 'attribute_isaspect': False, 'attribute_showascharacteristic': False}\n {'attribute_name': 'ColorBase_Forfilter', 'attribute_value': 'Красный', 'attribute_isaspect': False, 'attribute_showascharacteristic': False}]",
         "[ 4.83031839e-01 -6.03673458e-01 -6.59955442e-02  3.23861778e-01\n -3.56461644e-01 -2.01480329e-01 -2.07579374e-01 -3.36764574e-01\n  1.11979544e-01  1.59731954e-01 -1.68303922e-01 -3.85051668e-01\n -1.13829948e-01  5.35712361e-01 -1.40359223e-01  1.91159844e-02\n -2.09428012e-01 -1.67371795e-01 -3.46823573e-01 -8.67270708e-01\n  3.37316513e-01 -3.23251873e-01 -1.18767858e-01  2.06123561e-01\n  4.72604692e-01 -2.47443467e-02  3.57469589e-01 -1.13357306e-01\n -3.37452501e-01  4.66385543e-01 -2.91401774e-01  1.41814858e-01\n  5.20717025e-01 -3.62735093e-01  2.01512247e-01 -4.82929572e-02\n -6.48527741e-01  7.52862811e-01 -1.41624600e-01 -8.89720470e-02\n -2.13207126e-01 -1.86397463e-01  2.77807832e-01  3.80948037e-02\n -2.53840864e-01 -2.61528641e-02 -4.65345681e-01  5.85346341e-01\n  4.91992384e-01 -1.47042379e-01  7.73350477e-01  1.41835713e+00\n -4.06810284e-01 -5.47768712e-01 -5.53016901e-01 -4.20293808e-01\n -7.19940066e-01  5.93766123e-02  1.81547433e-01 -5.83450459e-02\n  7.32759774e-01 -7.66124204e-02  5.06210804e-01 -1.82900026e-01\n  6.59056008e-03 -3.91541094e-01  1.09157875e-01 -1.22182220e-01\n  6.52083308e-02  3.45456481e-01 -7.39580572e-01  3.08174372e-01\n  6.83239341e-01 -1.80756599e-01  5.58163404e-01 -6.52928352e-01\n -7.39321947e-01  3.53027046e-01  4.08741206e-01  4.46058810e-01\n  2.23328695e-01  1.50777906e-01 -5.84624052e-01  1.56537116e-01\n -4.65083867e-03  8.57486725e-02 -3.15406144e-01  4.15750444e-01\n  4.35222328e-01  2.29805082e-01  3.07040542e-01 -8.60783607e-02\n  9.62754041e-02 -7.05981970e-01  6.02785200e-02  3.95597458e-01\n  8.31524581e-02 -8.38790834e-03 -3.60323250e-01  3.44553173e-01\n -2.67089844e-01 -2.94312745e-01  1.31046027e-01 -5.71919084e-02\n  8.82429183e-01 -1.18220896e-01  2.15441883e-01 -9.44423020e-01\n -9.94360745e-02 -1.69643372e-01 -6.80993915e-01 -2.83158839e-01\n  1.51895225e-01 -3.28744978e-01 -3.41306686e-01 -3.07353795e-01\n -6.04656339e-03 -8.06413054e-01  3.42082500e-01  2.13135600e-01\n -1.37401998e-01  5.40285408e-01 -9.14291143e-02 -2.48756379e-01\n  1.60044923e-01 -2.36631662e-01  3.13570678e-01  2.23479345e-01\n -2.52956450e-01  2.91686475e-01  6.01883888e-01 -2.35128611e-01\n  3.66409034e-01 -1.71237752e-01  1.24694407e-01  8.27646673e-01\n  1.53107762e-01 -2.13413134e-01 -8.14163983e-02  3.75584185e-01\n -4.65868026e-01 -7.15611577e-02  2.12286085e-01  3.88662964e-01\n -9.35816765e-02 -1.46543413e-01  4.52842981e-01 -3.26834142e-01\n  2.22281933e-01  2.59269804e-01  3.61346677e-02  3.31079870e-01\n  1.37442243e+00 -1.70973971e-01 -1.08456574e-01 -3.57897937e-01\n -5.08031070e-01  5.76764226e-01  4.70879406e-01  7.69684017e-02\n  1.90326601e-01  6.26089931e-01  2.31422424e-01 -4.97349739e-01\n -1.40650049e-01 -4.11242723e-01 -2.23467618e-01 -2.00712338e-01\n  1.38636246e-01  3.59818578e-01  7.35659003e-01 -3.15874636e-01\n  5.57689428e-01 -1.00604147e-01 -8.83757234e-01 -6.39555097e-01\n  7.65282989e-01  5.65521419e-01 -1.08483505e+00 -1.03903361e-01\n -1.03838801e+00 -1.83411241e-02  3.88125181e-01 -5.29360175e-02\n -7.83160806e-01  9.83764380e-02 -3.00819725e-02  1.62165076e-01\n  3.24329197e-01  2.22147331e-01  6.15880847e-01  1.20411134e+00\n  4.62653428e-01  3.79022434e-02  1.70511797e-01 -4.07917976e-01\n  3.67029309e-02  5.84036484e-03 -7.21858919e-01  8.33244026e-02\n  5.24822950e-01 -3.61687779e-01 -8.50944638e-01  2.90808827e-01\n  4.04789627e-01  3.18090856e-01  6.16747439e-01 -2.18408585e-01\n -1.42122254e-01  2.05623001e-01  1.22755483e-01  7.96913147e-01\n  1.94094583e-01  9.15059298e-02  5.12323439e-01  9.77740735e-02\n  1.24424279e-01 -3.38267386e-02  9.58714485e-01  8.62357497e-01\n  2.10106820e-01  1.89370856e-01  1.92749247e-01  2.48874560e-01\n  3.97023529e-01  4.73103136e-01 -1.50226757e-01  2.69104660e-01\n -6.41023368e-02 -1.96963236e-01 -9.92127359e-02 -1.80604756e-02\n -5.76867536e-02  3.77277315e-01  6.03586137e-01 -1.01113588e-01\n -1.50017142e-01  6.11337900e-01  1.26245648e-01  2.22587377e-01\n -5.77039361e-01 -2.66718447e-01  9.85679567e-01 -2.92900592e-01\n  3.44495565e-01 -4.60061848e-01 -5.60862601e-01  3.03142458e-01\n -4.75546062e-01 -3.88786376e-01  1.61192670e-01  1.40862226e-01\n -2.99983919e-02 -7.39360273e-01  1.03656292e-01 -3.60496014e-01\n -7.47569263e-01 -2.18379498e-02 -4.20113802e-01  6.87524021e-01\n  9.16838646e-02 -1.36748269e-01 -1.04227245e-01 -5.82843602e-01\n -1.34259894e-01 -5.25652945e-01 -2.21682549e-01 -3.66815060e-01\n -7.17385173e-01  5.08403897e-01 -4.96675134e-01  7.19815493e-03\n -3.22372317e-02  4.36323404e-01  7.71269351e-02  3.19764733e-01\n  4.54648435e-02 -7.46813864e-02  1.71810567e-01  4.47524458e-01\n  1.08585879e-01  3.83651495e-01  1.25475377e-01 -2.56306142e-01\n -2.50688910e-01 -4.49835420e-01  1.55659750e-01  2.38130614e-02\n  1.41614437e-01 -7.98350096e-01  4.59414601e-01 -1.19689412e-01\n  6.48121715e-01 -1.27326727e-01 -7.09851503e-01 -3.91966462e-01\n -3.04825455e-01 -2.77014464e-01 -1.38626799e-01 -1.25662193e-01\n -7.92371333e-02 -1.53496832e-01 -1.59119084e-01 -1.18655428e-01\n -1.55176610e-01  2.45306492e-01  4.26367193e-01 -1.38160205e+00\n  8.76813531e-02  2.06873864e-01  7.38276914e-02 -2.77932227e-01\n -3.72958124e-01  7.11059988e-01  2.02467948e-01 -1.35518134e-01\n -1.00076675e-01  2.02837199e-01  4.20875162e-01 -5.82465768e-01\n  1.59281403e-01  6.33129597e-01  9.89230573e-02 -5.42459965e-01\n -7.37218559e-02  6.99144453e-02 -4.52180833e-01 -6.79725483e-02\n -1.49003744e-01 -1.61589503e-01 -2.88383245e-01  3.96788120e-01\n -4.46069509e-01  2.67079651e-01  6.55494332e-02  7.53550708e-01\n -1.27084687e-01  1.87754869e-01 -1.55469194e-01  3.70898753e-01\n  4.25733566e-01  6.83511943e-02  1.38737559e-01  1.43164635e-01\n -9.02128071e-02  6.37637228e-02  2.26536244e-02 -2.91420579e-01\n -1.72779262e+00  3.86927933e-01  6.92117333e-01 -2.40481481e-01\n -4.42549661e-02 -2.62564182e-01  4.35404390e-01  1.34766400e-01\n  5.96034862e-02  1.99902549e-01 -1.97794691e-01  4.57048744e-01\n -2.11466476e-01 -5.71403205e-01 -4.97990400e-01 -6.37449801e-01\n -4.89123940e-01  1.78182542e-01 -5.65408707e-01  4.08481181e-01\n -4.48706836e-01 -1.43931180e-01 -2.47287780e-01  4.57126498e-01\n -1.72863573e-01 -3.16810787e-01  3.73137057e-01  7.79973567e-01\n -5.25276840e-01  1.39901102e-01  1.28513962e-01  1.78749502e-01\n -3.35152224e-02  4.57840621e-01 -1.39496088e-01 -1.95879310e-01\n  2.95439363e-02  4.46400166e-01 -1.18874744e-01 -1.02688700e-01\n -3.93258601e-01  3.25659096e-01  2.52141356e-01 -1.03515625e+00\n  2.58809835e-01 -1.14380389e-01  3.37916851e-01 -1.46386072e-01\n -3.20096701e-01  3.67150784e-01 -7.77781159e-02 -9.67542678e-02\n -2.55598903e-01 -5.63247681e-01 -3.00293341e-02  1.83964223e-01\n  1.17323413e-01  3.70984077e-01  3.90399694e-02 -4.54723209e-01\n -2.29456015e-02  4.48853672e-02 -3.24012518e-01 -6.32926822e-02\n  2.86077529e-01 -1.13837272e-02  1.81780815e-01  2.11042970e-01\n  1.19726092e-01 -1.22478940e-01 -5.46775460e-02  4.82551157e-01\n -4.58648831e-01  2.13912249e-01 -2.08056509e-01 -4.57062602e-01\n  7.38644063e-01  5.94559610e-02  1.66904479e-01 -3.86074871e-01\n -2.28141993e-02 -8.21543574e-01  4.71558720e-01  4.34701413e-01\n -8.35185647e-01 -6.52999520e-01  1.19973585e-01 -1.13200188e-01\n  1.51540339e-03  1.02566212e-01 -1.85839415e-01  3.75541985e-01\n  1.89128324e-01  3.75507891e-01 -2.10357070e-01  1.55938685e-01\n -2.98061281e-01  2.36429572e-02 -1.73013002e-01 -1.96427241e-01\n  5.29687047e-01  2.40169838e-02  2.95491666e-02 -3.11253041e-01\n -2.80512959e-01  4.48621660e-01 -6.43741250e-01 -1.51123273e+00\n -9.75513816e-01  1.88663393e-01  1.71611309e-01 -1.21882558e-03\n  3.35857093e-01  6.16923869e-01 -2.22278982e-01 -4.24277931e-02\n  3.52324069e-01 -1.53987035e-02 -1.03520311e-01  6.37289286e-01\n  4.34258580e-01 -3.76177013e-01  5.76701760e-03 -5.95928356e-02\n -2.71018445e-02  6.02070212e-01  5.79287171e-01  1.27685070e+00\n -3.16812918e-02  1.02613270e-02 -2.45649695e-01 -2.66415775e-01\n -5.76682389e-01  5.35160422e-01 -1.92172736e-01  2.46449813e-01\n  9.59037393e-02 -6.88933432e-02 -7.31773853e-01  1.40335053e-01\n -1.06784180e-01  5.10388672e-01 -1.77810121e+00 -3.23978156e-01\n -3.08660954e-01 -3.11337709e-02  6.99381232e-02  9.12320971e-01\n  1.48291647e-01 -2.09615648e-01 -6.08049557e-02  3.19328934e-01\n -4.61679280e-01 -3.72876972e-02 -3.09182703e-01 -9.84412432e-01\n -1.47287905e-01 -1.22855961e-01  2.02809617e-01  3.75632286e-01\n -3.66854906e-01  3.83379877e-01  1.91709697e-01  3.09815168e-01]",
         "36741",
         "278535689",
         "31228493"
        ],
        [
         "13",
         "2402272",
         "Куртка fadjo",
         "[{'attribute_name': 'Type', 'attribute_value': 'Куртка', 'attribute_isaspect': False, 'attribute_showascharacteristic': True}\n {'attribute_name': 'Brand', 'attribute_value': 'fadjo', 'attribute_isaspect': False, 'attribute_showascharacteristic': True}\n {'attribute_name': 'Annotation', 'attribute_value': 'Верхняя женская одежда бренда FADJO. Куртка женская демисезонная Куртка женская молодежная, куртка женская весенняя, куртка женская осенняя. межсезонье. Куртка женская стеганная утепленная на синтепоне для любого повода: офис , кино , прогулка по городу , на дачу , поход, туризм , лыжи , коньки , свидание , встреча с друзьями , день рождения , новый год , новинка 2022 , фитнес , спорт , велосипед . Маленькие и большие размеры 42 ... Цвета :Куртка девочки девушки женщины . Купить куртку для девушки свободного кроя. Куртка для девочки модная. Куртка для высоких, для невысоких, для среднего роста. Куртка теплая оверсайз (oversize) подходит для беременных и будущих мам. Куртки женские имеют ветро и влагозащитные свойства ткани. Рекомендуемый температурный режим от +15 до -5 градусов.', 'attribute_isaspect': False, 'attribute_showascharacteristic': True}\n {'attribute_name': 'AgeO', 'attribute_value': 'Взрослая', 'attribute_isaspect': False, 'attribute_showascharacteristic': False}\n {'attribute_name': 'ColorBase', 'attribute_value': 'зеленый', 'attribute_isaspect': True, 'attribute_showascharacteristic': True}\n {'attribute_name': 'ColorName', 'attribute_value': 'ментол', 'attribute_isaspect': True, 'attribute_showascharacteristic': True}\n {'attribute_name': 'RussianSizeClothes', 'attribute_value': '46', 'attribute_isaspect': True, 'attribute_showascharacteristic': True}\n {'attribute_name': 'SizeManufacturer', 'attribute_value': '46', 'attribute_isaspect': True, 'attribute_showascharacteristic': True}\n {'attribute_name': 'SizeM', 'attribute_value': '42', 'attribute_isaspect': False, 'attribute_showascharacteristic': True}\n {'attribute_name': 'SexMaster', 'attribute_value': 'Женский', 'attribute_isaspect': False, 'attribute_showascharacteristic': True}\n {'attribute_name': 'HeightM', 'attribute_value': '165 см', 'attribute_isaspect': False, 'attribute_showascharacteristic': True}\n {'attribute_name': 'SizeGrid', 'attribute_value': 'Универсальная размерная сетка: Женская одежда', 'attribute_isaspect': False, 'attribute_showascharacteristic': False}\n {'attribute_name': 'Material', 'attribute_value': 'Полиэстер', 'attribute_isaspect': False, 'attribute_showascharacteristic': True}\n {'attribute_name': 'Composition', 'attribute_value': 'полиэстер 100%', 'attribute_isaspect': False, 'attribute_showascharacteristic': True}\n {'attribute_name': 'InnerMaterial', 'attribute_value': 'Полиэстер', 'attribute_isaspect': False, 'attribute_showascharacteristic': True}\n {'attribute_name': 'StyleApparel', 'attribute_value': 'Повседневный', 'attribute_isaspect': False, 'attribute_showascharacteristic': True}\n {'attribute_name': 'Season', 'attribute_value': 'Демисезон', 'attribute_isaspect': False, 'attribute_showascharacteristic': True}\n {'attribute_name': 'DetailsClothes', 'attribute_value': 'Карманы', 'attribute_isaspect': False, 'attribute_showascharacteristic': True}\n {'attribute_name': 'SleeveLength', 'attribute_value': 'Длинный', 'attribute_isaspect': False, 'attribute_showascharacteristic': True}\n {'attribute_name': 'FilterSizeINT', 'attribute_value': 'M', 'attribute_isaspect': False, 'attribute_showascharacteristic': False}\n {'attribute_name': 'DressLength', 'attribute_value': 'до талии', 'attribute_isaspect': False, 'attribute_showascharacteristic': True}\n {'attribute_name': 'Name', 'attribute_value': 'Fadjo Куртка женская демисезон стеганая с воротником-стойка, утепленная укороченная осенняя, весенняя, демисезонная на осень.', 'attribute_isaspect': False, 'attribute_showascharacteristic': False}\n {'attribute_name': 'NumItemsDcml', 'attribute_value': '1', 'attribute_isaspect': False, 'attribute_showascharacteristic': False}\n {'attribute_name': 'ColorBase_Forfilter', 'attribute_value': 'Зеленый', 'attribute_isaspect': False, 'attribute_showascharacteristic': False}]",
         "[-6.15117908e-01  9.66421664e-01  8.21460187e-02  3.98744911e-01\n -5.77464029e-02 -6.62258387e-01  5.37832260e-01  6.02340400e-02\n  1.60127968e-01 -8.43934417e-02 -1.67942330e-01  7.56454319e-02\n -2.89066553e-01  5.88973880e-01 -3.53466153e-01  3.86176199e-01\n -1.00299847e+00 -2.98035860e-01  8.25658143e-02  6.35646433e-02\n -3.94042939e-01  7.04970583e-03 -2.55997896e-01  3.81784260e-01\n -1.35981143e-01 -1.23749226e-02  5.24469465e-02 -6.73359156e-01\n -2.79573232e-01 -2.49264985e-02 -4.15777862e-02  6.94654942e-01\n -1.93970188e-01  4.40004803e-02  1.25975862e-01  4.45581615e-01\n -2.48025388e-01  4.91735101e-01 -1.30543545e-01  1.23060822e-01\n -4.00574714e-01  4.00129259e-01  3.22888792e-01 -1.13751560e-01\n  3.79131705e-01 -1.32291123e-01  3.09976518e-01  3.33373070e-01\n -2.69976228e-01 -1.25780135e-01 -6.77341223e-03  4.19218838e-03\n  3.96561265e-01  7.37753034e-01 -6.88039511e-02  5.16344547e-01\n  1.41867831e-01 -4.32790279e-01 -1.27485856e-01 -1.42119706e-01\n -2.42258579e-01  5.22262417e-02  1.03892371e-01  1.71738923e-01\n -1.10295117e-02 -2.70408481e-01 -8.94785747e-02  5.55286527e-01\n  3.51956755e-01  4.17548805e-01 -3.67957115e-01  8.32193270e-02\n  5.50106525e-01  8.25599059e-02  3.47721934e-01 -4.75307763e-01\n  2.18900681e-01  5.31138182e-01  3.23201329e-01 -5.56935966e-02\n -4.51928377e-01 -4.58366990e-01 -5.41406870e-01  1.19759932e-01\n  3.56009007e-02 -5.00969946e-01 -2.06724703e-02  7.80610517e-02\n -4.70209062e-01 -5.27391732e-01  8.20621848e-02  9.01747793e-02\n -3.22981834e-01  2.14664370e-01  2.54110515e-01  3.03692818e-01\n  5.44421017e-01 -7.18816295e-02  8.74548018e-01 -3.51561487e-01\n -5.14916182e-02  1.54447824e-01  4.14618820e-01  1.40983462e-01\n  4.21768427e-02 -3.47490162e-01  2.67830968e-01  7.73077905e-01\n -2.14746594e-03  7.62212574e-02 -8.93512845e-01 -2.15724036e-01\n -7.07425773e-02  3.00719142e-02  2.86909342e-02 -7.51591265e-01\n  4.16689754e-01 -8.99628401e-02  1.67933136e-01  3.02496254e-02\n -1.42395258e-01  3.17429125e-01 -4.20402288e-02 -2.54865259e-01\n  7.11580515e-02  3.16284239e-01 -5.09525239e-01 -5.81955016e-02\n  4.08407688e-01  5.68791479e-02  6.84307218e-01  2.96424448e-01\n  5.05356312e-01  3.29216033e-01 -7.26759791e-01 -4.25425529e-01\n  3.50459695e-01  3.69972646e-01 -2.04469860e-02  1.55555218e-01\n -7.05056071e-01 -7.07786918e-01  3.23441625e-01  2.25017905e-01\n  6.84624016e-02  7.83861995e-01 -5.33250809e-01  2.96402484e-01\n -2.23921761e-02 -1.20974779e-02  5.91144860e-02 -4.44194078e-02\n  3.27631474e+00 -2.65726417e-01 -5.28741181e-02  3.53141129e-01\n -3.69540304e-01 -1.32874578e-01 -6.28761947e-03 -1.67894304e-01\n  9.55801383e-02 -4.48670655e-01  1.81137741e-01  3.01414013e-01\n -2.71119833e-01  6.68033600e-01 -3.53968173e-01 -4.46707070e-01\n -6.11747026e-01  1.12438947e-02  8.95493329e-01  5.46628594e-01\n  8.44052136e-02 -6.55328631e-02 -2.34115034e-01 -6.95414722e-01\n  3.93331677e-01  1.27581656e-02 -7.05342650e-01 -6.41784072e-01\n -9.43514645e-01 -1.22165310e+00 -5.09397760e-02 -2.21796274e-01\n -3.16981912e-01 -3.80323112e-01 -1.30095810e-01  2.88649529e-01\n -4.50241536e-01 -5.82857549e-01 -1.02532312e-01  1.11027813e+00\n  3.33537459e-02 -1.86200589e-02  9.70640779e-03  5.47595099e-02\n  3.01818132e-01  5.08474410e-02 -2.08256155e-01 -5.60154200e-01\n  1.05148435e+00 -1.20010364e+00  4.11283046e-01 -3.76191109e-01\n  9.42281187e-02  2.50237107e-01  2.56589472e-01  1.06062144e-01\n  4.75662649e-02  8.03537592e-02 -4.25767481e-01 -4.73794132e-01\n  1.54675767e-02  3.89144450e-01 -5.50652593e-02 -3.38545442e-02\n -2.53388047e-01  4.06931043e-01  9.93168056e-02  3.65859061e-01\n -1.92896128e-02 -2.10615665e-01 -2.83871293e-01  3.03990543e-01\n -7.48459920e-02  9.10976529e-03 -4.42110956e-01 -2.03981698e-01\n  4.77027833e-01  3.94746065e-01  4.36280459e-01 -2.82403886e-01\n  9.03611660e-01  2.63722956e-01 -6.36043131e-01 -1.36320516e-01\n  9.30033326e-02  3.96109968e-01  6.30451143e-01  2.13577271e-01\n  1.47796959e-01 -5.09328246e-02 -2.21638978e-02  3.97337317e-01\n -1.27538234e-01  9.26313028e-02  9.75905210e-02 -4.13142383e-01\n -6.68533891e-02  8.44595492e-01  1.08702302e+00  2.49125525e-01\n  6.87843204e-01 -3.68720621e-01 -1.23977214e-01  1.09637976e-01\n -5.66369116e-01  4.39837575e-01  4.92972657e-02 -3.60027134e-01\n  3.05379540e-01 -1.38406664e-01  9.76040065e-02 -2.74374098e-01\n  1.00131273e-01 -7.67372549e-02 -4.30651233e-02  3.72367203e-01\n  7.56309479e-02 -1.28890887e-01  7.89473116e-01 -3.06329012e-01\n -3.75325501e-01 -3.85507047e-02 -8.62613246e-02 -1.71087563e-01\n  2.96119809e-01  1.26883507e-01 -3.44799273e-02  1.04915798e+00\n  6.57440722e-02  2.49066874e-01 -1.53465301e-01 -1.48063987e-01\n -2.35452816e-01 -5.26611805e-01  2.18478441e-01  5.28075278e-01\n -1.42216548e-01 -4.89249736e-01  5.97030520e-02  5.15530527e-01\n  1.17186971e-01  1.87601045e-01 -3.37412983e-01  5.05657196e-01\n  8.21673423e-02 -1.10736728e+00  1.92233980e-01 -4.97255862e-01\n  1.55576241e+00 -8.28080177e-02 -2.44475633e-01  6.31177425e-03\n  7.75434315e-01  2.88768351e-01 -3.75909269e-01 -3.25661945e+00\n -7.81358033e-02 -6.18185699e-02 -5.38130462e-01 -1.06159496e+00\n  4.06123400e-01 -2.33627409e-02  3.06578398e-01 -7.81962276e-03\n -1.28957182e-01  1.88759938e-01 -1.09201357e-01  2.11684883e-01\n -2.62171537e-01  1.82998687e-01  2.14690074e-01  5.89456677e-01\n -1.02477336e+00 -5.18822744e-02  3.63344699e-03  1.61863193e-01\n  1.80028558e-01  2.06162632e-02  2.38900244e-01 -2.27679849e-01\n -3.02428484e-01  8.32000673e-01 -1.71498239e-01  2.18132794e-01\n  3.94109339e-01  1.27432734e-01 -1.94887578e-01 -2.02995688e-01\n  1.50778949e-01  3.51044387e-02 -4.28635478e-01  4.33966726e-01\n -5.11939406e-01  4.01080430e-01 -2.00259700e-01  2.53425717e-01\n -1.19507980e+00 -9.49017406e-01  1.81854427e-01 -5.05338192e-01\n  6.01120591e-01 -5.95738143e-02 -9.59901437e-02 -1.66530728e-01\n -5.90689063e-01  1.32989645e-01 -1.97158396e-01 -1.34380758e-01\n  4.51019168e-01 -7.32571334e-02  3.68641824e-01 -1.64059699e-01\n -2.53809571e-01 -2.32908085e-01 -3.92058045e-01 -5.61937690e-01\n -1.53680950e-01  9.54555571e-02  2.32954428e-01  2.52139628e-01\n  3.26208711e-01 -4.39718753e-01 -4.97536182e-01  5.94192863e-01\n -5.41005492e-01 -3.50086033e-01  1.67247698e-01  1.50296301e-01\n -1.33087665e-01 -2.31277347e-02  1.28283024e-01 -3.69874150e-01\n -1.41511649e-01  6.00983977e-01 -5.53240776e-02 -4.85778928e-01\n  6.35939479e-01  6.35402352e-02 -2.45649785e-01  1.98298678e-01\n  5.50012626e-02 -1.74044758e-01  5.98038793e-01 -2.61758089e-01\n -9.69394684e-01 -2.84794629e-01  1.11275926e-01 -1.86048225e-01\n  3.56132269e-01  1.82391763e-01 -3.77544522e-01  8.69723380e-01\n  1.69302046e-01  1.38103992e-01  6.13813162e-01  7.06263632e-02\n  6.27434254e-02  4.60093096e-03 -1.76703855e-01 -4.33285534e-01\n  1.22717559e-01 -1.35410190e-01  4.29134339e-01 -2.10901469e-01\n -4.66543555e-01  6.20093167e-01 -2.83330202e-01  1.41638517e-03\n -3.38911563e-01 -4.89299804e-01 -2.62262642e-01 -2.76661813e-01\n  7.03274667e-01 -2.45053217e-01  1.71766311e-01  1.17215753e-01\n  7.60683119e-02 -5.30392528e-01  8.85552317e-02  1.47101569e+00\n  3.34605575e-04  3.36090565e-01  3.56291682e-01 -9.10370201e-02\n -1.34586871e-01  2.79048473e-01  3.79771501e-01 -6.82380646e-02\n -7.22281635e-04  6.41929924e-01  2.76189178e-01 -2.31457666e-01\n -2.23103479e-01  6.31553680e-02 -8.38202477e-01  4.50359792e-01\n  4.79677320e-02  3.27209204e-01  3.34664404e-01  1.33466005e-01\n  2.07875401e-01  3.48492414e-02 -6.36058301e-02 -2.27892542e+00\n -2.40473717e-01  5.34688950e-01 -1.07887253e-01  1.80454850e-01\n -3.81929398e-01  4.27427888e-01 -4.91585612e-01  8.48016024e-01\n -2.69584268e-01  2.71665752e-01  9.88984704e-02  4.41177249e-01\n -5.24549901e-01  3.81685048e-01 -1.50050521e-01 -2.80408919e-01\n  4.30952758e-02  3.99249852e-01  2.62676358e-01  9.01387215e-01\n  5.22306085e-01 -3.11886519e-02 -5.18947244e-01 -2.54047155e-01\n  5.46180531e-02 -1.71713129e-01 -3.20909739e-01 -6.42566442e-01\n  2.67843157e-01 -2.07186699e-01 -5.39505817e-02 -2.47267380e-01\n -7.73758292e-01  4.23249513e-01 -2.21345663e+00  4.27840173e-01\n  3.92648429e-02  1.15994811e-01 -2.30347723e-01  8.25255275e-01\n -1.42383233e-01 -1.23928487e-03 -3.60795617e-01  4.32192683e-01\n  5.27708232e-02  3.24255824e-02  7.25031734e-01 -9.00685489e-01\n  2.67782450e-01  4.22840059e-01 -1.56057417e-01 -6.74491450e-02\n  2.91572064e-02 -5.32280624e-01  6.30966246e-01 -1.18826777e-01]",
         "7530",
         "150512503",
         "16541757"
        ],
        [
         "14",
         "2446687",
         "Худи EA7 Train Shiny Girl Hoodie",
         "[{'attribute_name': 'Type', 'attribute_value': 'Худи', 'attribute_isaspect': False, 'attribute_showascharacteristic': True}\n {'attribute_name': 'Brand', 'attribute_value': 'EA7', 'attribute_isaspect': False, 'attribute_showascharacteristic': True}\n {'attribute_name': 'Annotation', 'attribute_value': 'Худи с логотипом бренда EA7 и капюшоном - стильный и удобный выбор для маленьких модниц. Изготовленное из качественного хлопка с добавлением эластана, это худи обеспечивает комфорт и свободу движений вашей дочери. <br/><br/>Уникальный дизайн с логотипом бренда EA7 делает эту модель ярким и запоминающимся элементом гардероба девочек. Капюшон добавляет уют и защиту от ветра, что делает это худи идеальным выбором для прохладных дней. <br/><br/>Подарите вашей малышке стиль и комфорт с этим модным худи от EA7, которое станет любимой вещью в ее гардеробе.', 'attribute_isaspect': False, 'attribute_showascharacteristic': True}\n {'attribute_name': 'ColorBase', 'attribute_value': 'лиловый', 'attribute_isaspect': True, 'attribute_showascharacteristic': True}\n {'attribute_name': 'ColorName', 'attribute_value': 'toadstool', 'attribute_isaspect': True, 'attribute_showascharacteristic': True}\n {'attribute_name': 'RussianSizeClothes', 'attribute_value': '140', 'attribute_isaspect': True, 'attribute_showascharacteristic': True}\n {'attribute_name': 'SizeManufacturer', 'attribute_value': '10A', 'attribute_isaspect': True, 'attribute_showascharacteristic': True}\n {'attribute_name': 'SexMaster', 'attribute_value': 'Девочки', 'attribute_isaspect': False, 'attribute_showascharacteristic': True}\n {'attribute_name': 'SizeGrid', 'attribute_value': 'Бренд EA7: Детская одежда', 'attribute_isaspect': False, 'attribute_showascharacteristic': False}\n {'attribute_name': 'Material', 'attribute_value': 'Хлопок', 'attribute_isaspect': False, 'attribute_showascharacteristic': True}\n {'attribute_name': 'Material', 'attribute_value': 'Эластан', 'attribute_isaspect': False, 'attribute_showascharacteristic': True}\n {'attribute_name': 'Composition', 'attribute_value': '95% хлопок;5% эластан', 'attribute_isaspect': False, 'attribute_showascharacteristic': True}\n {'attribute_name': 'StyleApparel', 'attribute_value': 'Повседневный', 'attribute_isaspect': False, 'attribute_showascharacteristic': True}\n {'attribute_name': 'Season', 'attribute_value': 'На любой сезон', 'attribute_isaspect': False, 'attribute_showascharacteristic': True}\n {'attribute_name': 'Name', 'attribute_value': 'Худи для девочки EA7 Train Shiny Girl Hoodie, цвет: toadstool (лиловый). 8NFM01 FJTXZ 1341. Размер 10A (140)', 'attribute_isaspect': False, 'attribute_showascharacteristic': False}\n {'attribute_name': 'NumItemsDcml', 'attribute_value': '1', 'attribute_isaspect': False, 'attribute_showascharacteristic': False}\n {'attribute_name': 'ColorBase_Forfilter', 'attribute_value': 'Фиолетовый', 'attribute_isaspect': False, 'attribute_showascharacteristic': False}]",
         "[-4.03730452e-01 -3.31301630e-01  4.41732764e-01  5.99586487e-01\n  8.00657049e-02 -7.38075018e-01 -2.47323319e-01  2.82652825e-01\n -2.85482198e-01  4.61263835e-01  2.40990356e-01 -3.43769252e-01\n -2.43774608e-01 -4.79081199e-02  8.41668606e-01  5.97048342e-01\n -1.61791742e+00 -2.16759831e-01  1.41280085e-01 -4.32062596e-02\n  1.91694587e-01 -4.11718398e-01  1.43047273e-01  3.62060368e-01\n -1.03987515e-01 -6.65698826e-01  5.78307271e-01  3.01535308e-01\n -6.60087347e-01 -3.50337982e-01 -2.49358535e-01  2.66388148e-01\n -5.00128269e-02  5.66669047e-01 -2.63223648e-01  5.00940561e-01\n -1.81189179e-03  6.39273763e-01 -4.25672591e-01  7.05564469e-02\n -3.68967116e-01 -4.38081473e-02  1.86096311e-01 -2.31347978e-01\n  2.37800032e-02 -2.75023878e-02 -6.93515539e-01  1.86611295e-01\n -3.84494454e-01 -7.05769539e-01 -1.52641773e-01 -8.32358062e-01\n -3.37342590e-01  5.59140593e-02  3.68376076e-02  4.31739271e-01\n -1.31780282e-01  7.61826336e-02 -4.74854201e-01  5.36354840e-01\n -1.58257484e-01 -9.80643034e-02 -1.71446621e-01  5.84163070e-01\n -3.13474834e-02  3.56078923e-01  4.54734296e-01  2.24308312e-01\n -1.93893537e-02 -5.30864835e-01 -3.91823620e-01 -2.25247547e-01\n  1.71842307e-01 -2.05608666e-01  2.05858022e-01 -5.01351178e-01\n  3.82330418e-01  5.33423543e-01  1.30522385e-01  9.09489691e-02\n -2.42379978e-01 -1.78545907e-01  9.63445604e-02 -2.55923659e-01\n -5.32472059e-02  5.67913204e-02 -3.40885282e-01  1.76512957e-01\n  1.23534545e-01  6.43476993e-02 -2.36405134e-02  2.67689377e-02\n -5.77714682e-01 -1.79749623e-01 -2.93242753e-01  1.73067272e-01\n  4.38378364e-01  1.45979837e-01 -1.49045840e-01  2.75418013e-01\n -4.06475753e-01 -4.66768026e-01  3.20348650e-01 -6.80626929e-02\n  5.44857621e-01 -7.01220512e-01  2.92878568e-01 -4.44850087e-01\n -7.54749477e-02 -6.21046185e-01 -6.06656373e-01 -1.05074477e+00\n  4.76427972e-02  1.83881134e-01 -4.04536366e-01 -6.82434022e-01\n -2.09055200e-01  1.43412262e-01 -4.70909476e-03 -2.94993222e-01\n -2.50153303e-01  2.87603885e-01  1.24855608e-01 -1.80068612e-01\n -1.49534196e-02 -3.53446960e-01 -7.90510923e-02  1.54986709e-01\n -5.21799922e-01  3.11847568e-01  3.76424551e-01 -1.22380033e-01\n -1.91628575e-01  9.56344530e-02 -3.56964886e-01  9.14791048e-01\n  2.89611578e-01  3.00933659e-01  5.05019665e-01  1.36477262e-01\n  2.82445192e-01 -3.57082427e-01 -3.69180143e-02  5.01131535e-01\n  1.11186552e+00  9.65024352e-01 -1.51070386e-01  2.89946437e-01\n  3.04989666e-01  3.76719832e-01 -2.29079038e-01 -5.87303787e-02\n  1.47312796e+00  1.12392284e-01  4.07644451e-01 -2.62332588e-01\n -4.85229492e-02  3.21907908e-01  2.26862073e-01  1.82705462e-01\n  4.86903846e-01  2.08548099e-01 -6.31761670e-01 -6.85738325e-02\n -1.65593624e-01  1.32964969e-01  3.64616185e-01  4.59841669e-01\n -4.26457912e-01  1.02971804e+00  1.45738959e-01  2.57537782e-01\n -3.32316905e-01 -1.99404925e-01 -1.12973750e-01 -4.32080328e-01\n  6.06229424e-01 -1.90965205e-01 -7.54989862e-01  5.35437703e-01\n  7.44952559e-01 -5.02879620e-01 -2.30686367e-02  5.96390247e-01\n  2.48487413e-01 -2.90288329e-01  5.85838079e-01  1.41124859e-01\n -6.15837395e-01 -2.33759493e-01 -6.69118643e-01  1.03641796e+00\n -3.09060782e-01 -2.64006943e-01 -1.00516424e-01  4.46177870e-02\n -1.10068440e-01 -5.60723722e-01  1.35516971e-01 -1.83513567e-01\n  1.48699689e+00 -1.17590761e+00  6.98566586e-02 -1.29314065e-01\n  3.80615115e-01  3.19995970e-01  2.61893630e-01 -4.28611487e-02\n -9.43668783e-02 -1.37282714e-01  3.62475306e-01 -7.20528424e-01\n  2.29258105e-01  2.33106330e-01 -1.60602272e-01  4.44786280e-01\n -1.24612451e-01 -2.42255837e-01 -1.04513481e-01  7.13449478e-01\n  3.72622907e-01  2.90655196e-01  2.27482945e-01 -9.81184244e-02\n  5.62320888e-01  5.83213568e-03  1.97700381e-01 -1.62285283e-01\n -8.54242206e-01 -1.04211986e-01  1.12358689e-01  2.65623361e-01\n -2.22091168e-01 -1.07627720e-01  2.20955446e-01  1.15396976e-01\n -5.68838418e-03  3.35453212e-01 -3.12251270e-01 -1.47166848e-02\n  6.63006186e-01  5.65272868e-01 -3.54214460e-02 -1.07780978e-01\n  4.12414595e-02 -1.42638311e-01 -5.63257515e-01 -2.45871991e-01\n  1.92898482e-01 -3.07968944e-01  6.19557500e-01 -4.55556959e-01\n  8.10358346e-01 -3.92081857e-01 -1.30680561e+00  2.08517551e-01\n  1.50583863e-01 -1.73973620e-01  8.33273947e-01  5.51639318e-01\n  3.86681378e-01  2.91694164e-01  7.46869445e-02 -1.55532330e-01\n -3.10121089e-01 -2.02404261e-02 -4.80899215e-01  2.26205915e-01\n -2.23044693e-01 -4.12451267e-01 -3.34472656e-01 -6.04278594e-03\n  6.75837338e-01 -1.78773835e-01 -2.68111140e-01 -4.37168956e-01\n  6.68241262e-01  2.67456383e-01  2.22920179e-01  2.41995886e-01\n -1.71765581e-01 -2.18362093e-01  1.51489913e-01  7.97273040e-01\n  4.87596691e-01  3.13175857e-01  4.22295451e-01  5.06243646e-01\n -3.81737709e-01 -5.57594150e-02 -2.79129744e-01  1.02587074e-01\n  2.81938195e-01  1.09361231e-01 -2.15035200e-01 -1.82656586e-01\n -3.49926263e-01 -9.76369500e-01  3.10007453e-01 -3.73107970e-01\n -1.30921543e-01 -2.72401273e-01  7.67974854e-01 -3.31015348e-01\n -3.12598199e-01  3.55113328e-01  2.23626614e-01 -1.46472979e+00\n -4.16955575e-02 -1.57875165e-01 -2.16296077e-01  2.98088193e-02\n  4.86293137e-02  2.84847319e-02  4.67063397e-01  1.10609388e+00\n -3.30023557e-01 -7.68664598e-01  4.16515946e-01 -2.74028093e-01\n  2.70408094e-01 -6.65000856e-01 -2.81762481e-01  2.07397491e-01\n -1.11470509e+00  2.59059966e-01 -4.23620611e-01 -2.95942247e-01\n  5.57662845e-02 -5.61054230e-01 -2.38698930e-01  3.49217474e-01\n -3.96410376e-01  9.03201699e-02 -2.77078778e-01 -7.67598510e-01\n -2.30066195e-01 -2.75548309e-01 -3.33177328e-01 -2.53762864e-02\n  4.92961735e-01  9.38993394e-02  5.68383455e-01 -2.30069309e-01\n -8.15464407e-02 -4.28610474e-01  2.68751383e-01  1.01803705e-01\n -1.82640803e+00 -7.80770004e-01  5.69873154e-01 -2.80197918e-01\n -3.08286548e-02  2.47077942e-02 -6.62467659e-01  1.67952269e-01\n -4.41641182e-01  2.85855889e-01  1.47416234e-01 -5.07570803e-02\n  4.89860445e-01 -2.81436861e-01  5.87841928e-01 -2.65470684e-01\n -3.21016550e-01 -2.03164935e-01  9.13999975e-03  2.84768701e-01\n  6.57863736e-01 -2.62288749e-03  4.78949845e-01  6.92510307e-02\n -1.08749285e-01 -5.19107655e-02 -3.79922152e-01  8.22650671e-01\n -3.50978673e-02 -7.83541799e-02  3.73548031e-01  1.56992406e-01\n  1.04404688e-02  4.89038110e-01 -2.34169185e-01 -1.12058438e-01\n  2.27342144e-01  3.75236988e-01  5.90806007e-02  4.08236623e-01\n  6.42463088e-01  4.03128415e-02 -2.95739025e-02 -1.70723334e-01\n  2.75730789e-01 -7.01903477e-02 -5.36970139e-01  1.48125976e-01\n -4.89997566e-02  2.37964973e-01  1.20727479e-01  6.93738163e-02\n  6.88778281e-01 -1.05468333e-02 -1.69141948e-01 -2.15595037e-01\n  1.66220427e-01 -1.28570005e-01  2.27804735e-01  8.10291544e-02\n  8.77062976e-02  5.42794943e-01 -2.49561548e-01 -1.72937661e-02\n  7.97861218e-02 -1.09645769e-01  7.89446533e-02 -3.51452351e-01\n -2.91171730e-01  1.43555671e-01 -2.56095797e-01  4.46782291e-01\n -3.94919366e-01  3.11485022e-01 -2.81516105e-01 -2.63369024e-01\n  1.36849904e+00 -8.03621113e-03  6.20059192e-01  4.60757464e-02\n  4.99729216e-01  1.35278627e-01  3.38771582e-01  1.50005901e+00\n -3.95961940e-01  7.47436643e-01 -2.15879828e-02  3.85335296e-01\n  1.16807103e-01  1.78664714e-01 -1.18955195e-01  4.25702780e-01\n -5.62647581e-02 -5.35695672e-01 -2.92259008e-02 -2.05132663e-02\n -6.17595255e-01  1.23240724e-01 -5.75272322e-01  2.08415121e-01\n -2.85739191e-02  8.20782483e-02 -2.25289479e-01  5.34729287e-02\n  6.67235196e-01 -1.96909353e-01 -1.67081594e-01 -6.65786445e-01\n  2.18758211e-01 -2.85222620e-01 -3.77945006e-01  3.86200011e-01\n -1.02234930e-02 -5.01486599e-01 -6.29311621e-01  2.26609141e-01\n  3.11834157e-01  4.03992981e-02  1.83143154e-01  2.46556997e-01\n  1.59664780e-01  1.87811285e-01 -4.30179834e-02 -3.06381166e-01\n -1.04102418e-02 -1.91518098e-01 -2.57820338e-01  4.70167756e-01\n  1.82702243e-01  1.81769967e-01  1.62994564e-01  2.03529656e-01\n  3.44482809e-01  1.07670546e-01 -4.11254942e-01  4.40447405e-02\n -6.11582100e-02  3.39171112e-01 -4.56496656e-01  4.51778054e-01\n -6.14448845e-01 -8.91894102e-03 -1.37676358e+00 -2.32668519e-02\n -3.11566770e-01 -1.13674998e-01  2.85030842e-01  8.55248690e-01\n  1.24131411e-01 -6.31672502e-01  4.96877670e-01  5.99522471e-01\n  1.33278906e-01  1.79739445e-01  5.05806506e-01 -4.62047219e-01\n -3.91226113e-01 -4.71020103e-01  7.35760152e-01  4.16774303e-01\n -2.24305615e-02 -2.03950703e-01  4.42238182e-01 -7.06859887e-01]",
         "7601",
         "57047957",
         "17875433"
        ],
        [
         "15",
         "3909146",
         "Брошь",
         "[{'attribute_name': 'Type', 'attribute_value': 'Брошь', 'attribute_isaspect': False, 'attribute_showascharacteristic': True}\n {'attribute_name': 'Brand', 'attribute_value': 'Нет бренда', 'attribute_isaspect': False, 'attribute_showascharacteristic': True}\n {'attribute_name': 'Annotation', 'attribute_value': 'Особенности:Модный дизайн, этот милый стиль Броши и, безусловно, принести много внимания для вас.<br>Случаи для подарков: Реклама и продвижение, бизнес-подарки, праздник, новоселье, день рождения, путешествия.<br>Спецификация:<br>1) Тип товара:  Броши и булавки из сплава<br>2) Пол: Мужчины/Женщины/Дети<br>3) Стиль: Мода и случайный<br>4) Упаковка: OPP упаковка<br>5) Пакет включено: 1 x Брошь<br>Примечание:<br>1.Пожалуйста, позвольте 1 см разница из-за ручного измерения,<br>2.Пожалуйста, поймите из-за облучения света или компьютерной разницы дисплея, поэтому я не могу гарантировать фотографии и реальный цвет 100% то же самое.', 'attribute_isaspect': False, 'attribute_showascharacteristic': True}\n {'attribute_name': 'ColorBase', 'attribute_value': 'светло-золотистый', 'attribute_isaspect': True, 'attribute_showascharacteristic': True}\n {'attribute_name': 'ColorBase', 'attribute_value': 'глубокий коричневый', 'attribute_isaspect': True, 'attribute_showascharacteristic': True}\n {'attribute_name': 'AgeO', 'attribute_value': 'Взрослая', 'attribute_isaspect': False, 'attribute_showascharacteristic': True}\n {'attribute_name': 'AgeO', 'attribute_value': 'Детская', 'attribute_isaspect': False, 'attribute_showascharacteristic': True}\n {'attribute_name': 'SexMaster', 'attribute_value': 'Мужской', 'attribute_isaspect': False, 'attribute_showascharacteristic': True}\n {'attribute_name': 'SexMaster', 'attribute_value': 'Женский', 'attribute_isaspect': False, 'attribute_showascharacteristic': True}\n {'attribute_name': 'Material', 'attribute_value': 'Цинковый сплав', 'attribute_isaspect': False, 'attribute_showascharacteristic': True}\n {'attribute_name': 'NumItemsDcml', 'attribute_value': '1', 'attribute_isaspect': False, 'attribute_showascharacteristic': True}\n {'attribute_name': 'Name', 'attribute_value': 'Классическая брошь-стетоскоп, мультяшный значок для врача и медсестры, подарки для друзей', 'attribute_isaspect': False, 'attribute_showascharacteristic': False}\n {'attribute_name': 'ColorBase_Forfilter', 'attribute_value': 'Золотой', 'attribute_isaspect': False, 'attribute_showascharacteristic': False}\n {'attribute_name': 'ColorBase_Forfilter', 'attribute_value': 'Коричневый', 'attribute_isaspect': False, 'attribute_showascharacteristic': False}]",
         "[-3.05422068e-01  9.09050286e-01 -3.76067609e-01  3.06380123e-01\n  4.82351869e-01  7.10257664e-02  2.36652642e-02 -7.44650513e-02\n  6.38423264e-02 -1.70031339e-01 -1.89819723e-01 -3.04920673e-01\n  4.45852518e-01 -2.72496104e-01  5.22042394e-01  4.16109860e-01\n -3.32779765e-01  8.98949653e-02  6.62317395e-01 -5.51790595e-01\n -4.66002464e-01  1.47963047e-01  4.46501821e-02 -4.24866617e-01\n -2.12069303e-01 -5.02075911e-01 -2.24628314e-01  1.93376824e-01\n -2.45649680e-01  8.15077901e-01 -7.40885139e-01  2.82812178e-01\n -1.48333937e-01 -3.70990306e-01 -3.06781650e-01 -5.56998253e-02\n -4.02800798e-01 -1.50053769e-01 -1.35286242e-01 -4.04928416e-01\n  3.16598356e-01 -2.56155014e-01  6.90530837e-02 -2.84939826e-01\n -3.29249173e-01  1.54151678e-01  2.58171707e-01 -6.93044484e-01\n -3.30228269e-01  3.04415822e-01 -8.54469091e-02 -6.60286486e-01\n -4.65216815e-01  1.40650764e-01 -2.27076992e-01 -5.00719965e-01\n  6.09170645e-02  3.45878184e-01 -3.46096337e-01 -7.25515664e-01\n -2.79266119e-01  9.38787460e-02  5.76743841e-01  6.61678731e-01\n -3.67092550e-01  6.32108897e-02 -7.48778880e-02 -4.48274910e-02\n -1.98886201e-01 -1.25279218e-01 -5.65770388e-01  1.80324093e-02\n -1.24560721e-01  9.10027742e-01  2.08038092e-03 -2.80183643e-01\n  7.48013496e-01  5.60941547e-02 -1.27241939e-01 -1.15251854e-01\n  4.06064570e-01 -6.25146806e-01 -5.99937379e-01 -1.63646132e-01\n -5.77124357e-02  3.51695001e-01  3.74462157e-01  1.59582615e-01\n  1.11404061e+00 -4.26259369e-01 -8.58674347e-02  1.54483333e-01\n -2.45854214e-01 -2.81943560e-01 -3.58774841e-01 -1.21194378e-01\n -3.86042930e-02 -2.66444296e-01 -3.38634431e-01  1.19721845e-01\n  7.24389911e-01 -3.76181006e-02  4.31147277e-01 -2.28730202e-01\n -2.03569502e-01  6.96841896e-01 -4.93651897e-01 -8.00681710e-01\n  4.66019869e-01 -3.39972913e-01 -5.00863910e-01 -8.35023820e-02\n -1.40561819e-01 -4.17775214e-02  1.07349247e-01  7.07485378e-02\n  8.24090838e-02  7.02641457e-02  2.03253135e-01 -1.42137378e-01\n  9.49391276e-02  1.74434468e-01  5.32558486e-02  6.33739710e-01\n  1.63814798e-01 -1.56688988e-01  1.33450985e-01  4.37427312e-03\n -2.16708839e-01 -1.72730953e-01  1.71462178e-01 -4.84789163e-02\n  4.26274151e-01  3.12559068e-01 -2.11728960e-02 -1.08101416e+00\n -4.68570888e-02 -3.96729290e-01  1.79199263e-01  5.39867043e-01\n  1.24907777e-01 -9.45720077e-03 -5.33221960e-01  6.46983862e-01\n -1.09071746e-01 -1.29694343e-02 -1.72321796e-01  6.50486946e-02\n -3.91252488e-02  3.02987665e-01  2.19708495e-02  8.25509906e-01\n  3.69219923e+00  6.29380420e-02  6.59781337e-01 -1.38579130e-01\n  1.22931406e-01  2.50361502e-01 -1.70593083e-01 -4.62123364e-01\n -1.15811080e-02 -3.40788126e-01 -3.08610499e-02  5.86627960e-01\n -1.36353984e-01 -2.12839556e+00  2.90568322e-01  6.01509452e-01\n  1.80959105e-01 -2.31710449e-01 -7.33434558e-02  1.19121403e-01\n  1.06078856e-01 -3.58062565e-01  4.44062918e-01 -4.09872055e-01\n  1.22338638e-01  2.65168726e-01 -2.17105198e+00  1.02019265e-01\n -1.35275766e-01 -2.80612111e-01  2.41640031e-01  9.08699483e-02\n -4.00060475e-01  4.76699591e-01  1.12711763e+00 -6.18177652e-01\n  1.21626735e-01 -4.64951396e-02 -2.93301910e-01  5.56794524e-01\n -1.74616814e-01 -2.27087051e-01 -1.49860114e-01 -3.37723047e-01\n  3.74976575e-01  2.59038419e-01  1.31168380e-01  3.59287918e-01\n  7.26563156e-01 -4.43465054e-01 -7.44692981e-02  9.16830376e-02\n -4.55550551e-02 -1.76150203e-02 -1.93779305e-01  5.68384528e-01\n  2.05042899e-01  4.99001667e-02 -1.59224942e-01 -9.02890205e-01\n  1.15186647e-01 -3.95538270e-01 -3.88264567e-01 -2.05060586e-01\n -3.19713086e-01  1.70123219e-01 -2.18304515e-01 -1.93910420e-01\n  1.90239057e-01  6.53669953e-01 -6.30184859e-02 -1.69524141e-02\n  2.07554787e-01  6.70701265e-03 -3.37698877e-01 -1.61005646e-01\n  3.16331446e-01 -4.93971676e-01 -8.48786831e-02  5.79922616e-01\n  1.35090649e-02  9.32647586e-02  3.69596332e-01  1.64059132e-01\n  2.02945352e-01  5.00020623e-01  2.59610653e-01  1.32104173e-01\n -6.44882023e-01 -4.38809842e-01  1.09430194e-01 -5.54127097e-01\n  2.68942058e-01  6.42054677e-01 -4.01189923e-03 -3.21778148e-01\n  2.84379244e-01 -3.24190587e-01  1.14412045e+00  1.04587182e-01\n  1.04428723e-01 -5.65744638e-01 -2.80829906e-01 -2.85459548e-01\n -3.15595031e-01 -4.68137860e-01 -9.74812031e-01  3.07724446e-01\n  3.54522169e-02 -3.47444952e-01 -1.14174888e-01 -1.91230759e-01\n  3.94846290e-01  9.57467854e-02  2.79121757e-01  1.87086955e-01\n -5.87972879e-01 -8.90970156e-02 -5.78157783e-01  4.52152073e-01\n -2.19795406e-01 -1.34547830e-01 -3.98843110e-01 -5.76544046e-01\n  4.49373454e-01  6.86621666e-01 -1.06827982e-01  5.42185605e-01\n -9.05930400e-02 -1.47385329e-01 -1.98074132e-02  5.92329323e-01\n -6.54026568e-02  3.71932864e-01  8.26093495e-01  1.50010526e-01\n  1.05956808e-01  2.47941762e-01 -4.44891393e-01  5.06417215e-01\n -2.78189719e-01 -8.47324580e-02 -8.99551362e-02  1.58832535e-01\n -9.92620945e-01 -4.90271807e-01 -1.93735525e-01 -7.28795767e-01\n -3.95296156e-01  3.01755846e-01 -2.02005103e-01  2.07778886e-01\n  9.57072228e-02  6.06197119e-03 -6.41167164e-02 -3.69354343e+00\n -9.48294103e-02  1.41096622e-01 -9.14408088e-01  7.45005846e-01\n  2.57128835e-01 -4.70618397e-01  1.10655740e-01  1.14264369e+00\n  4.67343852e-02 -4.79149044e-01 -3.81179541e-01  3.91548127e-02\n -2.45057777e-01  1.25664383e-01  4.73917246e-01 -5.87000072e-01\n -9.91815209e-01 -2.01325953e-01 -2.20898241e-01 -1.85916170e-01\n  3.63280952e-01  3.12284768e-01 -4.02492166e-01  1.58953905e-01\n  4.67722178e-01  1.30761713e-01 -2.76906908e-01  5.14233112e-03\n -6.14339113e-02 -1.30278543e-01 -2.79895961e-01  3.39345813e-01\n  6.82568908e-01 -5.07546663e-01  3.40505868e-01 -4.24316168e-01\n -7.51712918e-01 -2.76679218e-01  1.94294631e-01  5.58728874e-01\n -1.81595278e+00 -2.18445212e-01 -9.48437452e-01 -5.71517706e-01\n -3.39883924e-01 -1.13295078e-01  2.38137469e-01  1.32201791e-01\n -3.28381002e-01 -8.62105787e-02  3.84814858e-01  2.43500888e-01\n  1.24130391e-01  1.54411688e-01  3.43574211e-02 -2.91027844e-01\n -6.17299974e-01  6.51394248e-01 -6.95424855e-01  3.39715123e-01\n -5.06965816e-01 -6.72011226e-02  3.83998424e-01 -6.90119386e-01\n  2.01846659e-01  2.12637186e-02  1.94247738e-01 -1.35913789e-01\n  6.66294813e-01 -3.02280039e-01  1.99378431e-02  1.31198704e-01\n  7.87376940e-01 -1.84759349e-01  6.72898069e-02 -1.14204502e+00\n -2.18257368e-01  8.21548700e-01 -3.10864508e-01 -4.81272310e-01\n -3.12485605e-01 -5.85790455e-01  3.24141204e-01 -2.77072549e-01\n  3.30075920e-01  5.94167709e-02 -3.64365876e-01  3.56938660e-01\n  1.00214696e+00  7.01133013e-02 -5.14349103e-01  1.70476973e-01\n  8.67854953e-02  1.97575077e-01  1.20196715e-01 -2.28113204e-01\n  1.12602994e-01  3.52941811e-01  1.31455705e-01  4.37455624e-01\n  2.88258314e-01 -5.26579022e-02  6.33223951e-02  7.48662502e-02\n  3.66603434e-01  1.91582203e-01 -2.62958109e-01  6.86911225e-01\n -3.07130545e-01  6.98114485e-02 -1.76966041e-01  2.63641089e-01\n -5.95232427e-01 -6.57995939e-02 -2.19706476e-01  3.40125442e-01\n  1.83121905e-01  6.28868192e-02  2.84239501e-02  2.30167910e-01\n  4.88552153e-02 -2.26875260e-01 -3.58119935e-01  2.26482940e+00\n  3.74140501e-01 -5.29832393e-02  5.16950727e-01  4.50201482e-02\n  2.06777871e-01  3.33951652e-01  4.56166983e-01 -3.26218784e-01\n  1.30743921e-01 -1.70559973e-01 -1.07753301e+00 -2.25542188e-01\n  2.21208632e-01 -1.06453598e-02 -1.19612023e-01 -7.93878734e-02\n  2.55348057e-01  7.75938332e-02 -5.53288311e-03 -2.75291443e-01\n -4.00237948e-01 -3.33750367e-01 -1.39738232e-01 -4.54523861e-01\n -4.28692073e-01 -4.68354344e-01 -4.13737059e-01 -1.66541994e-01\n  3.58549505e-02 -2.29599148e-01  6.91393912e-01  6.10869586e-01\n  2.78313577e-01  1.36955604e-01 -8.14328641e-02  1.51703313e-01\n -3.58402908e-01  1.97873980e-01  1.35607719e-01 -1.24934562e-01\n  3.44251513e-01  2.78458111e-02 -5.06163180e-01  1.51814687e+00\n  2.98458397e-01  4.07327324e-01 -1.11619699e+00  6.37926459e-01\n -1.62000909e-01  5.78114152e-01  4.36809510e-02 -5.01176566e-02\n -1.32611483e-01 -3.11841488e-01 -8.87191594e-02 -2.38083392e-01\n -5.59575379e-01  4.61522460e-01 -2.23989582e+00  1.25558376e-02\n -2.82631636e-01  6.30158067e-01 -2.80207992e-01  2.81253457e-03\n  4.36982870e-01 -5.09807408e-01 -4.61435497e-01  1.78633809e-01\n  4.64044660e-02 -2.76587814e-01  4.39715207e-01 -9.29240227e-01\n  1.79901972e-01 -4.08132970e-01  1.05562769e-01 -4.27362502e-01\n  1.72703475e-01  9.36764255e-02  2.50979334e-01  9.73054320e-02]",
         "17034",
         "173264492",
         "18270051"
        ],
        [
         "16",
         "4071899",
         "Слипоны adidas Sportswear Cloudfoam Go Sock",
         "[{'attribute_name': 'Name', 'attribute_value': 'Слипоны мужские adidas Sportswear Cloudfoam Go Sock, цвет: grethr / luclem / gretwo (серый, белый, зеленый). ID4034. Размер 11 (44,5)', 'attribute_isaspect': False, 'attribute_showascharacteristic': False}\n {'attribute_name': 'Type', 'attribute_value': 'Слипоны', 'attribute_isaspect': False, 'attribute_showascharacteristic': False}\n {'attribute_name': 'Brand', 'attribute_value': 'adidas Sportswear', 'attribute_isaspect': False, 'attribute_showascharacteristic': True}\n {'attribute_name': 'Annotation', 'attribute_value': 'Слипоны мужские adidas Sportswear Cloudfoam Go Sock - это уникальный и стильный спортивный аксессуар, который подойдет для любого сезона. Бренд adidas Sportswear известен своим качеством и комфортом, и эти слипоны не являются исключением.\\nМатериал текстиль и синтетика обеспечивают высокую прочность и долговечность обуви, а также удобство ношения. Текстильный верх и подкладка обеспечивают комфортное ощущение при ходьбе, а полимерная подошва обеспечивает отличную адгезию на любых поверхностях.\\nОсобенностью этих слипонов является закрытый нос, который предотвращает проникновение пыли и грязи внутрь обуви. Это очень удобно для активного образа жизни и позволяет сохранять чистоту и свежесть обуви надолго.\\nОни подходят для любых погодных условий. Они могут быть использованы в качестве повседневной обуви или спортивного аксессуара при занятиях физическими упражнениями.', 'attribute_isaspect': False, 'attribute_showascharacteristic': True}\n {'attribute_name': 'ColorBase', 'attribute_value': 'серый', 'attribute_isaspect': True, 'attribute_showascharacteristic': True}\n {'attribute_name': 'ColorBase', 'attribute_value': 'белый', 'attribute_isaspect': True, 'attribute_showascharacteristic': True}\n {'attribute_name': 'ColorBase', 'attribute_value': 'зеленый', 'attribute_isaspect': True, 'attribute_showascharacteristic': True}\n {'attribute_name': 'ColorName', 'attribute_value': 'grethr / luclem / gretwo', 'attribute_isaspect': True, 'attribute_showascharacteristic': True}\n {'attribute_name': 'RussianSizeShoes', 'attribute_value': '44,5', 'attribute_isaspect': True, 'attribute_showascharacteristic': True}\n {'attribute_name': 'SizeManufacturer', 'attribute_value': 'UK 11', 'attribute_isaspect': True, 'attribute_showascharacteristic': True}\n {'attribute_name': 'SexMaster', 'attribute_value': 'Мужской', 'attribute_isaspect': False, 'attribute_showascharacteristic': True}\n {'attribute_name': 'Material', 'attribute_value': 'Текстиль', 'attribute_isaspect': False, 'attribute_showascharacteristic': True}\n {'attribute_name': 'Material', 'attribute_value': 'Синтетика', 'attribute_isaspect': False, 'attribute_showascharacteristic': True}\n {'attribute_name': 'MainShoesMaterial', 'attribute_value': 'Текстиль', 'attribute_isaspect': False, 'attribute_showascharacteristic': True}\n {'attribute_name': 'InnerMaterial', 'attribute_value': 'Текстиль', 'attribute_isaspect': False, 'attribute_showascharacteristic': True}\n {'attribute_name': 'SoleMaterial', 'attribute_value': 'Полимерный материал', 'attribute_isaspect': False, 'attribute_showascharacteristic': True}\n {'attribute_name': 'StyleApparel', 'attribute_value': 'Спортивный', 'attribute_isaspect': False, 'attribute_showascharacteristic': False}\n {'attribute_name': 'Season', 'attribute_value': 'На любой сезон', 'attribute_isaspect': False, 'attribute_showascharacteristic': True}\n {'attribute_name': 'ShoeFastening', 'attribute_value': 'Без застёжки', 'attribute_isaspect': False, 'attribute_showascharacteristic': True}\n {'attribute_name': 'SizeGrid', 'attribute_value': 'Бренд adidas: Мужская обувь', 'attribute_isaspect': False, 'attribute_showascharacteristic': False}\n {'attribute_name': 'ColorBase_Forfilter', 'attribute_value': 'Серый', 'attribute_isaspect': False, 'attribute_showascharacteristic': False}\n {'attribute_name': 'ColorBase_Forfilter', 'attribute_value': 'Зеленый', 'attribute_isaspect': False, 'attribute_showascharacteristic': False}\n {'attribute_name': 'ColorBase_Forfilter', 'attribute_value': 'Белый', 'attribute_isaspect': False, 'attribute_showascharacteristic': False}]",
         "[ 2.37183809e-01 -8.51934969e-01 -2.46067673e-01 -2.98110634e-01\n -3.22679102e-01 -1.66280434e-01 -8.11748654e-02  2.43560687e-01\n  1.96172491e-01  1.34742811e-01 -3.71866584e-01 -5.20062685e-01\n -3.69544804e-01  5.57208300e-01  6.61499798e-03 -1.55375779e-01\n -1.76685500e+00  1.90152347e-01 -1.90727770e-01  1.72861546e-01\n  2.14997679e-03 -2.67109245e-01 -1.56965822e-01  2.35736519e-01\n -3.13114166e-01 -8.38655114e-01  1.33805692e-01  6.74609303e-01\n -5.35186470e-01 -5.05062044e-01  5.94081245e-02  1.00850120e-01\n -1.28200603e+00  4.71651167e-01 -1.85714811e-02 -7.69731253e-02\n -4.44130361e-01  1.07799955e-01  1.04900055e-01  5.38905144e-01\n -6.26655996e-01  2.66542882e-01 -3.84336650e-01 -5.22128403e-01\n  1.80312425e-01  1.97007447e-01  3.44844103e-01  1.58406138e-01\n  1.18284091e-01 -4.64694232e-01  2.68749595e-02  1.62774533e-01\n -1.16581798e-01  5.02514005e-01  2.83894181e-01 -6.32028341e-01\n -6.07878119e-02 -2.66922891e-01 -6.71673656e-01  7.84510493e-01\n -6.89482570e-01 -2.98363298e-01  3.33229482e-01 -9.52517986e-03\n  1.52938798e-01  4.67022806e-01  8.86237770e-02  3.19451630e-01\n -1.76949799e-01 -1.86487392e-01 -3.89485747e-01  1.25290170e-01\n  5.93700707e-01 -2.26781532e-01  2.96017230e-01 -9.07791376e-01\n  6.71091735e-01 -2.29556113e-01 -4.29524451e-01 -9.28348124e-01\n  2.48044193e-01 -1.12325025e+00 -2.39136502e-01  1.29089952e-02\n  3.36773366e-01  3.09959918e-01 -1.53725296e-01  9.79043841e-02\n  7.08884746e-02 -5.17810583e-01 -1.86388597e-01 -1.26240075e-01\n -1.61095470e-01  4.08228219e-01 -5.97588420e-01 -4.86629248e-01\n  7.69879937e-01  6.23372436e-01 -8.31771642e-02 -1.39992118e-01\n -1.39949173e-01 -1.65854812e-01  1.86897963e-01  3.00749242e-01\n  6.04175478e-02 -2.90165901e-01  9.22249407e-02 -5.78422844e-03\n -1.06808335e-01 -9.68966410e-02 -9.44281578e-01  1.12051368e-02\n  5.40420115e-01  6.76662996e-02 -6.00526929e-02  1.43102318e-01\n -4.40457642e-01  4.43890691e-04  1.34030432e-02  2.54428595e-01\n -1.75316647e-01  5.88011295e-02 -7.02932477e-03 -9.62410122e-02\n -1.90922201e-01  1.20548725e-01 -3.61994386e-01 -3.87290448e-01\n -2.78337896e-02  5.30824900e-01 -1.67344332e-01 -6.70538247e-01\n  1.56637847e-01 -1.27703026e-01 -3.68822962e-01  3.20728958e-01\n  7.14152157e-01  6.51617467e-01  2.71517754e-01  9.55500305e-01\n -4.90554243e-01 -5.69044352e-02  2.28968143e-01  1.85934305e-01\n  8.69619101e-02  9.02498960e-02 -9.68849957e-02 -4.11934853e-02\n  3.81127119e-01  7.06819445e-03  2.15530545e-01 -4.29430455e-01\n  1.23453629e+00 -3.53507876e-01  3.03580314e-01  1.74549967e-01\n  2.96195269e-01  1.89920366e-01  4.00032341e-01 -3.04022044e-01\n -3.83238703e-01 -2.56914198e-02  6.10487610e-02 -3.12289327e-01\n -1.27915606e-01  2.77348101e-01  4.24084626e-02 -7.26023257e-01\n -6.73428297e-01 -1.24328882e-01  2.96394467e-01  1.92931622e-01\n  1.56411529e-02  2.24432856e-01  4.80609685e-01 -7.77340829e-02\n -1.37288541e-01  5.85232854e-01 -5.37194848e-01  2.73226291e-01\n  8.54101479e-02 -6.86268508e-02  3.04031014e-01  2.23639756e-01\n -1.20792672e-01  1.17990166e-01  6.23381138e-01 -1.39120653e-01\n -1.00179911e-02  3.21888179e-01 -3.33526343e-01  3.48106623e-02\n  9.52897891e-02 -1.73579395e-01  7.47279972e-02  1.64273888e-01\n -3.19638848e-03 -3.74483824e-01  5.09598613e-01 -3.42763990e-01\n  4.97248709e-01 -2.02002659e-01  3.88858438e-01  9.95702595e-02\n -5.26599288e-01 -5.89015126e-01  1.49392262e-01 -6.09175205e-01\n -1.76377594e-01  1.48011297e-02 -8.72114301e-01 -3.30639780e-01\n  6.07429862e-01  5.71537018e-01 -4.18398380e-02  9.05041337e-01\n  2.20446259e-01 -3.24440360e-01 -2.46245638e-02 -4.03204501e-01\n  3.27062607e-03 -2.03613564e-01  1.70672387e-01 -1.48791701e-01\n -7.76617974e-02  1.84490144e-01 -1.13206156e-01  3.62150639e-01\n  1.87260836e-01  2.04412743e-01  3.96620214e-01  1.41651854e-02\n  1.90812260e-01  9.97349173e-02 -6.88118041e-01  5.27612567e-01\n -7.96883255e-02  9.96427238e-03  2.87927389e-02  2.39832908e-01\n  7.53304064e-01  1.08384764e+00 -4.02019918e-02  3.21970731e-02\n -9.14819241e-02 -4.03842568e-01  2.38772392e-01 -1.08343458e+00\n  6.53667569e-01  3.02458741e-02 -1.95975676e-02 -5.46935737e-01\n  1.90960422e-01 -3.89440387e-01 -2.74384260e-01 -1.60488009e-01\n  7.38642663e-02 -5.17824233e-01  1.56664670e-01 -3.04859489e-01\n  2.15286404e-01 -1.61878288e-01  3.93551648e-01 -6.46355212e-01\n -3.22538733e-01 -5.17787874e-01  3.30059826e-02 -1.09013021e-01\n  4.13323641e-02 -8.65140706e-02 -5.34386814e-01 -1.06523678e-01\n  8.53290111e-02 -4.17359360e-02 -2.04969376e-01 -2.82886267e-01\n  1.04166329e-01 -3.22684646e-01  1.89852983e-01  3.47643197e-02\n -5.05643964e-01  2.77078599e-01 -9.10511911e-02  1.46021247e-02\n  2.57767260e-01  3.17484915e-01  8.82821232e-02  1.86670810e-01\n  5.89671969e-01 -9.07667041e-01  5.26342630e-01  2.57521510e-01\n  6.02182209e-01  1.98635131e-01 -3.53542194e-02 -5.06275058e-01\n  1.14760518e-01 -4.36212867e-01 -1.04679972e-01  3.67211401e-02\n -8.15941811e-01  4.87379581e-02  1.61163926e-01 -9.17032361e-04\n -1.05292904e+00 -1.14104979e-01 -8.25238228e-01 -1.22494352e+00\n  8.32671821e-02 -1.01444006e-01 -8.54781270e-02  4.55655158e-02\n -2.26012066e-01  5.17877877e-01  6.05957270e-01 -1.88798562e-01\n -9.02482644e-02 -4.90871608e-01  5.62712312e-01 -3.13505530e-01\n  4.87101018e-01  2.61478037e-01  4.10786629e-01  4.34847802e-01\n -5.02895534e-01 -5.14718294e-01 -8.59589815e-01 -3.86319995e-01\n -2.88034827e-01 -3.63475412e-01 -2.36232549e-01  2.74501801e-01\n  5.61357200e-01  7.43704140e-02  5.92997015e-01  1.70123935e-01\n  5.06016910e-01  2.18499228e-01  3.72198135e-01  2.05849156e-01\n  2.68065393e-01  2.24808559e-01  3.60349625e-01  1.73540711e-01\n -5.12844324e-02 -2.98254073e-01  2.50050783e-01  2.29728669e-01\n -9.87193823e-01 -7.94360712e-02  4.23286766e-01  3.54878128e-01\n  1.93357617e-01  5.55116653e-01 -7.99614012e-01  4.15997565e-01\n  3.92373323e-01 -4.81992960e-04  4.89273608e-01  6.18191421e-01\n -2.26448834e-01 -3.08057696e-01 -3.34074467e-01 -6.29009426e-01\n -1.95578501e-01 -3.43456537e-01  5.47134757e-01  1.47293836e-01\n -1.47602290e-01 -8.34453702e-02 -2.54523456e-02 -4.32319939e-03\n -3.35401386e-01 -2.63486147e-01 -1.77837342e-01  1.00388922e-01\n -5.22692382e-01 -1.28690928e-01  5.06329358e-01 -8.43306482e-02\n -3.44984949e-01 -5.56874573e-02  1.18555471e-01 -2.79360592e-01\n  2.58065820e-01  3.89976740e-01 -3.68921459e-01 -4.98252869e-01\n -3.15792650e-01  1.04895487e-01 -2.82460153e-01 -2.61902809e-01\n  3.71925384e-01  3.09893847e-01 -1.72263831e-01  3.51163477e-01\n  5.51430404e-01 -6.00692809e-01 -9.04071033e-02 -3.41683924e-02\n  5.45958161e-01 -2.18969285e-02 -1.66104436e-01  5.16350567e-01\n  3.76944333e-01 -1.90708727e-01  9.05422330e-01 -3.34209919e-01\n -5.62495351e-01  1.17624700e-02  5.30047268e-02 -4.44978237e-01\n  3.87297064e-01  4.24246728e-01 -2.75745422e-01  3.00134420e-01\n -4.56528306e-01 -8.00847173e-01  9.32257771e-02  3.89326721e-01\n  7.13427067e-02 -2.63305902e-01  3.91404092e-01 -4.16755974e-01\n  6.71591461e-01 -7.23618329e-01  2.91755885e-01  5.07591546e-01\n -3.60578239e-01  4.58919853e-01  4.87417758e-01  1.12563550e+00\n -5.26127517e-02 -3.47865403e-01  4.38274324e-01 -1.55889630e-01\n  3.84230793e-01  1.47396132e-01  6.35069549e-01 -2.93387651e-01\n  3.04909021e-01 -1.53317302e-02  1.60451859e-01  1.42890632e-01\n -1.24156870e-01  2.00175479e-01  3.06018025e-01 -2.33087912e-02\n  8.91339704e-02 -4.44544017e-01 -7.83385038e-02 -1.18399747e-01\n  3.78366560e-01  1.32491291e-02  1.69012517e-01 -1.34279877e-02\n -8.14698100e-01  5.46770036e-01  2.37590730e-01 -1.96914852e-01\n  1.65175647e-01 -4.60666597e-01  1.82636768e-01 -1.84504643e-01\n  5.86909950e-01  1.23628378e-02  2.08693951e-01  3.78032416e-01\n  9.34709132e-01  1.88215941e-01 -2.15145156e-01  2.71882176e-01\n  4.71875429e-01  1.49465322e-01  2.56229877e-01 -1.50749922e-01\n  1.64574116e-01  4.81930852e-01  1.18455634e-01 -3.59383941e-01\n  1.03435427e-01  1.04762107e-01  4.97574151e-01  2.82069087e-01\n -3.27072978e-01 -1.09473512e-01  3.97888660e-01 -4.17949229e-01\n  3.47710252e-02 -5.35921752e-01 -4.75012124e-01  7.66358227e-02\n  9.49643612e-01  2.01386586e-02  2.74008214e-01  3.17924917e-01\n -1.88586533e-01  5.01780629e-01  4.23662543e-01  4.62497473e-02\n -2.70233572e-01 -5.62871933e-01 -6.76124096e-01 -2.52322763e-01\n -2.23076582e-01  4.25851494e-02  5.68935156e-01  2.32529759e-01\n  4.33194995e-01  6.52158260e-02  5.98534197e-02  1.64909363e-01]",
         "7660",
         "57516189",
         "997509"
        ],
        [
         "17",
         "4604813",
         "Костюм классический Bentog",
         "[{'attribute_name': 'Type', 'attribute_value': 'Костюм классический', 'attribute_isaspect': False, 'attribute_showascharacteristic': True}\n {'attribute_name': 'Brand', 'attribute_value': 'Bentog', 'attribute_isaspect': False, 'attribute_showascharacteristic': True}\n {'attribute_name': 'Annotation', 'attribute_value': 'Спортивный костюм женский станет стильным и любимым образом на разные случаи жизни. Он идеально подойдет для бега, занятий фитнессом, прогулок и домашнего отдыха. Костюм женский с шортами изготовлен из качественного хлопка. Ткань дышащая, приятная к телу, также простая в уходе и после множества стирок не потеряет свой первоначальный вид и цвет. Костюм состоит из футболки и леггинсов. Футболка женская оверсайз, удлиненная. Леггинсы (велосипедки, лосины) длиной до колен, с удобным эластичным поясом. Костюм спортивный женский с лосинами представлен в нескольких красивых расцветках. Данное изделие станет хорошим подарком для себя или близких. Изделия от российского производителя отличаются качеством и стилем.', 'attribute_isaspect': False, 'attribute_showascharacteristic': True}\n {'attribute_name': 'ColorBase', 'attribute_value': 'лиловый', 'attribute_isaspect': True, 'attribute_showascharacteristic': True}\n {'attribute_name': 'ColorName', 'attribute_value': 'Лиловый', 'attribute_isaspect': True, 'attribute_showascharacteristic': True}\n {'attribute_name': 'RussianSizeClothes', 'attribute_value': '46', 'attribute_isaspect': True, 'attribute_showascharacteristic': True}\n {'attribute_name': 'SizeManufacturer', 'attribute_value': '46', 'attribute_isaspect': True, 'attribute_showascharacteristic': True}\n {'attribute_name': 'SizeM', 'attribute_value': '44', 'attribute_isaspect': False, 'attribute_showascharacteristic': True}\n {'attribute_name': 'SexMaster', 'attribute_value': 'Женский', 'attribute_isaspect': False, 'attribute_showascharacteristic': True}\n {'attribute_name': 'HeightM', 'attribute_value': '165 см', 'attribute_isaspect': False, 'attribute_showascharacteristic': True}\n {'attribute_name': 'SizeGrid', 'attribute_value': 'Универсальная размерная сетка: Женская одежда', 'attribute_isaspect': False, 'attribute_showascharacteristic': False}\n {'attribute_name': 'Material', 'attribute_value': 'Кулирная гладь', 'attribute_isaspect': False, 'attribute_showascharacteristic': True}\n {'attribute_name': 'Composition', 'attribute_value': 'Хлопок 95%, лайкра 5%', 'attribute_isaspect': False, 'attribute_showascharacteristic': True}\n {'attribute_name': 'StyleApparel', 'attribute_value': 'Домашний', 'attribute_isaspect': False, 'attribute_showascharacteristic': True}\n {'attribute_name': 'Season', 'attribute_value': 'На любой сезон', 'attribute_isaspect': False, 'attribute_showascharacteristic': True}\n {'attribute_name': 'clothescut', 'attribute_value': 'оверсайз', 'attribute_isaspect': False, 'attribute_showascharacteristic': True}\n {'attribute_name': 'SleeveLength', 'attribute_value': 'Средний', 'attribute_isaspect': False, 'attribute_showascharacteristic': True}\n {'attribute_name': 'FilterSizeINT', 'attribute_value': 'M', 'attribute_isaspect': False, 'attribute_showascharacteristic': False}\n {'attribute_name': 'NumItemsDcml', 'attribute_value': '1', 'attribute_isaspect': False, 'attribute_showascharacteristic': True}\n {'attribute_name': 'Name', 'attribute_value': 'Костюм повседневный домашний футболка оверсайз велосипедки', 'attribute_isaspect': False, 'attribute_showascharacteristic': False}\n {'attribute_name': 'ColorBase_Forfilter', 'attribute_value': 'Фиолетовый', 'attribute_isaspect': False, 'attribute_showascharacteristic': False}]",
         "[ 1.04464225e-01  1.27769578e+00  1.57456920e-01  6.55672312e-01\n  2.26448298e-01 -1.45096421e-01  2.57473066e-02 -3.43167335e-02\n  2.04800069e-01 -7.94266641e-01 -4.10604358e-01  3.25440049e-01\n -2.33345017e-01 -2.16124803e-01 -2.94722855e-01 -3.16148609e-01\n -1.22970915e+00 -2.55118340e-01  6.67531133e-01 -6.85341239e-01\n -1.15465663e-01  4.84560370e-01  4.85272259e-01  4.98829246e-01\n  4.77117002e-01  2.27377310e-01  4.14426386e-01  2.49447525e-02\n -7.71020651e-01  2.55471200e-01 -2.29094058e-01 -2.42939696e-01\n  1.10681117e-01  1.03244424e-01 -1.11828580e-01  2.89417386e-01\n -5.05462766e-01  3.64522099e-01  2.00806394e-01  4.00053442e-01\n  4.08672363e-01 -2.71532476e-01 -1.89470157e-01 -7.27891251e-02\n -1.05482548e-01 -4.44769114e-01 -3.07104439e-01  6.87171966e-02\n  5.63556969e-01 -8.41325521e-03 -5.09486198e-02  5.00811100e-01\n  4.18212235e-01  1.36766776e-01 -1.29408336e+00  5.18494770e-02\n  1.65460497e-01  6.44840598e-02 -3.73436511e-02  5.67990839e-02\n -4.17944670e-01 -2.91392267e-01  7.12794960e-02 -2.73003131e-02\n -4.19497132e-01  5.92693239e-02  4.54400450e-01 -4.78536576e-01\n -3.72276127e-01 -5.70595264e-01 -3.58601213e-01 -1.76968500e-01\n -2.47665569e-02  5.14483571e-01  1.13846138e-01 -1.22031760e+00\n  6.08574092e-01  8.41719866e-01 -4.60208952e-03 -3.24001670e-01\n  5.85295111e-02  5.59386253e-01 -1.20761260e-01 -3.18692833e-01\n  2.79272020e-01 -1.76195055e-02 -1.75715595e-01  9.15903598e-04\n  6.41649127e-01 -5.10880053e-02  1.00876242e-01 -3.20180714e-01\n  1.39756918e-01 -4.07012254e-01  2.06256241e-01 -6.11830056e-02\n -4.14092839e-01  1.72871917e-01  3.29226971e-01 -2.74320722e-01\n -2.57336259e-01  2.48683423e-01  7.19095990e-02  2.33322680e-02\n  5.36847055e-01 -3.42101663e-01  4.30412412e-01 -9.43937182e-01\n  3.05841193e-02 -6.27425313e-02 -3.35487187e-01  2.17362046e-02\n  4.03020501e-01 -2.10787520e-01 -1.44392893e-01 -3.71001780e-01\n -8.22897553e-02 -2.63170153e-01  1.85951993e-01 -4.71993625e-01\n -2.43097544e-03  7.18648285e-02  5.11997879e-01  4.15228009e-01\n  7.32007325e-02 -6.79410458e-01  1.14598043e-01  1.55956984e-01\n -1.93303764e-01  2.06650376e-01 -7.01340735e-02  2.40797743e-01\n  1.97506547e-01  3.50165963e-01 -7.68215954e-01 -8.34311187e-01\n  1.31521583e-01  1.71847135e-01 -1.59838051e-01 -3.76629353e-01\n  3.34421694e-01  1.50791675e-01  2.08706528e-01  2.82633066e-01\n  4.07512307e-01  1.60049945e-01  6.14575863e-01  3.34229529e-01\n -2.90642023e-01  4.61277366e-03 -1.38439208e-01  9.14713293e-02\n  3.12054873e+00 -6.63246512e-01  2.09824741e-01  8.76564533e-02\n -2.74332583e-01  8.67422223e-02 -2.42450029e-01  2.86610723e-01\n  1.02265334e+00  4.93810833e-01 -1.86381549e-01  1.00415796e-01\n -3.99136990e-01 -5.07220328e-01 -3.64105880e-01 -1.53991163e-01\n  8.97575989e-02 -1.18365332e-01  9.40287054e-01  1.29130378e-01\n -7.27449059e-01  3.66553575e-01  6.23811603e-01  1.74572334e-01\n  8.14066768e-01  1.60735399e-01 -2.83304620e+00  2.67385423e-01\n -2.18733490e-01 -6.92860126e-01  4.31490064e-01 -1.74966931e-01\n  2.87845582e-02  2.83047974e-01  8.19081664e-01  4.81528640e-01\n -2.56169170e-01 -1.96817309e-01 -1.58548743e-01  5.00666261e-01\n -3.88392091e-01 -1.75847858e-02 -3.28132391e-01 -1.12188205e-01\n -2.84846365e-01  3.28008771e-01 -4.38518584e-01 -3.47275496e-01\n  1.21565807e+00 -5.03544927e-01  2.17452213e-01 -3.20969611e-01\n -5.17202690e-02  4.99341071e-01  2.04918146e-01 -2.47272968e-01\n -9.91799235e-02 -8.40699822e-02 -2.47175857e-01  2.55186051e-01\n  4.02877182e-01  1.97301090e-01 -8.47977474e-02  3.55335593e-01\n -6.86592698e-01  3.04355383e-01 -1.80557638e-01  3.94073009e-01\n -1.69034272e-01 -9.97112691e-02 -4.68084216e-01 -5.05532503e-01\n  8.37863326e-01  3.70725036e-01 -2.00459957e-02  1.84839725e-01\n -7.74811983e-01 -2.12734237e-01  2.82160819e-01 -3.22622329e-01\n  1.74931854e-01 -1.01205520e-01  2.45117813e-01 -2.44656295e-01\n -4.31580305e-01 -5.48739210e-02  2.44816676e-01  7.15013742e-01\n  4.27786142e-01  3.76235723e-01  2.84729868e-01 -3.15106392e-01\n  1.82644337e-01 -2.31482208e-01 -1.09106645e-01 -2.52836317e-01\n -8.98887962e-02  5.63453436e-01  7.89331555e-01  4.53370064e-01\n  1.37373433e-02 -3.59270215e-01 -4.25862312e-01 -3.94650310e-01\n -8.32896173e-01  2.96622366e-02 -2.60931179e-02  9.06397820e-01\n -2.97254145e-01 -1.19479045e-01  4.08255816e-01 -4.59811985e-01\n -1.54656529e-01 -4.06006336e-01 -1.49317652e-01  7.38252997e-01\n  2.10459724e-01 -1.01297006e-01  2.43995771e-01 -2.33105883e-01\n  1.59038395e-01 -1.36065602e-01 -1.39227256e-01 -5.29035926e-01\n -6.71081245e-02  2.83344984e-02  1.65951774e-01 -1.76363856e-01\n  2.30685472e-02 -4.45504189e-01 -1.78707689e-01  2.91819304e-01\n -1.75960049e-01 -2.43660480e-01  5.49435392e-02 -1.15237266e-01\n -1.13375798e-01  4.07976806e-02 -2.68044472e-01 -5.87740242e-02\n  5.87319136e-02  1.53539598e-01 -2.50842690e-01  2.78478861e-01\n -2.94440776e-01 -3.10729772e-01  4.43160176e-01 -3.35559011e-01\n -1.92173779e-01  2.15536281e-01  5.53943217e-01 -4.33175743e-01\n  1.10964656e+00  8.98254514e-02 -1.30102348e+00 -3.10619879e+00\n  1.53322369e-01 -5.16924322e-01 -9.40962672e-01 -5.09151280e-01\n  4.86796886e-01 -2.01991439e-01  3.13422114e-01  2.02769279e-01\n  1.28027201e-02 -8.44202995e-01  4.83873010e-01 -3.25246096e-01\n -9.43307132e-02 -2.83094615e-01 -3.38903487e-01  1.28050041e+00\n  2.10646898e-01  1.83281600e-02 -9.08316970e-01 -1.98348880e-01\n -2.45426759e-01 -4.91637170e-01 -9.27043557e-02  1.94334805e-01\n -2.69766212e-01  1.20016277e-01 -2.01838501e-02  4.34101790e-01\n -3.67097586e-01 -1.65144950e-02 -6.35923088e-01 -2.87496507e-01\n  4.75764692e-01 -3.77653837e-01 -4.13593978e-01  2.95608461e-01\n  2.79076189e-01  3.01721305e-01 -1.73829198e-01 -1.05030641e-01\n -1.41228759e+00  1.03264391e-01  2.73486376e-01 -2.95938849e-01\n  4.53038514e-03 -3.47737163e-01 -6.03570700e-01  2.33252883e-01\n -7.09594250e-01 -4.32465896e-02  3.14707994e-01  3.20073783e-01\n -1.10534087e-01 -2.68938184e-01  2.90009528e-01 -2.67055213e-01\n -7.29738116e-01  4.08563226e-01 -2.55358040e-01  3.66769612e-01\n -2.65249729e-01  3.67918283e-01 -1.52623862e-01  6.25972748e-01\n -6.15669638e-02 -4.27281857e-01 -5.72133958e-02  1.28909779e+00\n -1.67913377e-01 -2.29105860e-01  6.98850304e-02 -2.41985947e-01\n  3.68877798e-01 -2.29729995e-01 -3.02175164e-01 -2.64744967e-01\n  2.13160723e-01  3.66277933e-01  2.04124123e-01  5.05310595e-02\n -7.20324218e-02  6.69453144e-02  9.67383087e-02 -5.32603502e-01\n  1.11224428e-01  2.95689762e-01  5.92461586e-01 -5.34248948e-02\n  2.95411766e-01 -1.69915006e-01  1.08223170e-01  5.24139106e-01\n -9.45535898e-02  7.13217258e-01 -6.14726096e-02  1.24265766e+00\n  5.22649884e-01  8.19164991e-01 -3.39240551e-01 -2.33968616e-01\n -2.98755586e-01  7.34640360e-02  1.62672997e-02  3.62907857e-01\n  3.78438830e-03 -9.82750654e-02  1.61106080e-01  2.51715600e-01\n -7.05016434e-01 -4.15443778e-01 -2.43935362e-01 -1.61953121e-02\n -1.09008849e-01 -4.33568090e-01  1.08774137e+00 -6.24804854e-01\n -2.18179226e-02 -2.22174451e-01  7.14318082e-02 -7.06305027e-01\n  1.75190777e-01  1.86875820e-01 -3.94032300e-01  2.28238893e+00\n -1.77286267e-01  3.20371151e-01  5.78129411e-01 -3.79230022e-01\n -1.81436390e-01 -2.97444224e-01 -5.69479913e-02  2.56280929e-01\n -1.50961310e-01 -3.75672758e-01  1.17087737e-01  6.69564903e-02\n  8.25259686e-02 -3.63180876e-01 -4.42959338e-01 -2.93076038e-01\n -3.62970412e-01  4.38431025e-01  4.07544792e-01 -1.95703819e-01\n -1.94657177e-01  3.40708375e-01 -1.06941923e-01 -6.43052697e-01\n  1.89945363e-02 -6.45103902e-02 -4.88632917e-03  2.98514962e-03\n  2.46750325e-01 -4.86987799e-01 -2.55570441e-01 -7.81780481e-03\n  5.09613514e-01  1.18041337e-01  3.89534593e-01  5.67209899e-01\n  1.82627589e-01  2.99994826e-01  3.34116489e-01  9.14848223e-02\n  2.68352389e-01 -4.63194191e-01  3.31679046e-01  9.72779989e-01\n  4.31142509e-01  5.82514524e-01 -6.72720075e-02 -1.48211062e-01\n  3.24818850e-01  3.87118340e-01  3.44319969e-01 -1.47235855e-01\n -5.51691532e-01  4.41120923e-01 -4.88200247e-01 -1.15289420e-01\n -6.61510974e-02  3.26982200e-01 -1.54612565e+00  6.30435348e-02\n  1.94520354e-01 -6.51580036e-01 -3.57434958e-01  2.44218320e-01\n  3.77089858e-01 -1.99749604e-01 -3.34497124e-01  5.84616780e-01\n  5.45154810e-01 -4.37566757e-01  5.67055643e-01 -1.09432399e+00\n  1.52843058e-01  3.95383835e-01  2.15915054e-01 -4.43589389e-01\n  3.28126073e-01 -1.09096050e-01  3.73595238e-01  1.94507241e-01]",
         "7536",
         "154147646",
         "12400233"
        ],
        [
         "18",
         "4779268",
         "Шлепанцы proFIZIKI",
         "[{'attribute_name': 'Name', 'attribute_value': 'Шлепанцы proFIZIKI бежевые мужские женские', 'attribute_isaspect': False, 'attribute_showascharacteristic': False}\n {'attribute_name': 'Type', 'attribute_value': 'Шлепанцы', 'attribute_isaspect': False, 'attribute_showascharacteristic': False}\n {'attribute_name': 'Brand', 'attribute_value': 'proFIZIKI', 'attribute_isaspect': False, 'attribute_showascharacteristic': True}\n {'attribute_name': 'Annotation', 'attribute_value': 'Летние шлепанцы изики - легкая и стильная обувь для активного отдыха на пляже, прогулок или занятий спортом. Тапочки резиновые изготовлены из качественного эва материала, что делает их комфортными и удобными для повседневного использования. \\n\\nБлагодаря мягкой нескользящей подошве и амортизации, эти аквасоки защитят от кораллов и от камней во время плавания. Аквашузы для гальки и моря выполнены из водонепроницаемого прочного материала, что позволяет использовать их в бассейне без опасений за сохранность обуви.\\n\\nНаши закрытые сланцы быстро сохнут и легко моются – то, что надо для сада и огорода, на даче. Эти сабо подойдут для работы медицинским работникам, парикмахерам, поварам и врачам. Молодежный дизайн и унисекс форма делают эти yeezy шлепки идеальным выбором для подростков.\\n\\nОбратите внимание, что изи маломерят на размер. С большим ассортиментом ярких расцветок тапок каждый сможет создать свой неповторимый стиль!', 'attribute_isaspect': False, 'attribute_showascharacteristic': True}\n {'attribute_name': 'ColorBase', 'attribute_value': 'бежевый', 'attribute_isaspect': True, 'attribute_showascharacteristic': True}\n {'attribute_name': 'ColorName', 'attribute_value': 'бежевый', 'attribute_isaspect': True, 'attribute_showascharacteristic': True}\n {'attribute_name': 'RussianSizeShoes', 'attribute_value': '44', 'attribute_isaspect': True, 'attribute_showascharacteristic': True}\n {'attribute_name': 'SizeManufacturer', 'attribute_value': '44', 'attribute_isaspect': True, 'attribute_showascharacteristic': True}\n {'attribute_name': 'SexMaster', 'attribute_value': 'Мужской', 'attribute_isaspect': False, 'attribute_showascharacteristic': True}\n {'attribute_name': 'Material', 'attribute_value': 'EVA', 'attribute_isaspect': False, 'attribute_showascharacteristic': True}\n {'attribute_name': 'MainShoesMaterial', 'attribute_value': 'Резина', 'attribute_isaspect': False, 'attribute_showascharacteristic': True}\n {'attribute_name': 'InnerMaterial', 'attribute_value': 'EVA', 'attribute_isaspect': False, 'attribute_showascharacteristic': True}\n {'attribute_name': 'SoleMaterial', 'attribute_value': 'EVA', 'attribute_isaspect': False, 'attribute_showascharacteristic': True}\n {'attribute_name': 'StyleApparel', 'attribute_value': 'Повседневный', 'attribute_isaspect': False, 'attribute_showascharacteristic': False}\n {'attribute_name': 'Season', 'attribute_value': 'На любой сезон', 'attribute_isaspect': False, 'attribute_showascharacteristic': True}\n {'attribute_name': 'ShoeFit', 'attribute_value': 'Нормальная', 'attribute_isaspect': False, 'attribute_showascharacteristic': True}\n {'attribute_name': 'SizeGrid', 'attribute_value': 'Универсальная размерная сетка: мужская обувь', 'attribute_isaspect': False, 'attribute_showascharacteristic': False}\n {'attribute_name': 'SizeGrid', 'attribute_value': 'Универсальная размерная сетка: полнота мужской обуви', 'attribute_isaspect': False, 'attribute_showascharacteristic': False}\n {'attribute_name': 'BrandCountry', 'attribute_value': 'Россия', 'attribute_isaspect': False, 'attribute_showascharacteristic': True}\n {'attribute_name': 'AgeO', 'attribute_value': 'Взрослая', 'attribute_isaspect': False, 'attribute_showascharacteristic': True}\n {'attribute_name': 'TypeSport', 'attribute_value': 'Бег', 'attribute_isaspect': False, 'attribute_showascharacteristic': False}\n {'attribute_name': 'TypeSport', 'attribute_value': 'Плавание', 'attribute_isaspect': False, 'attribute_showascharacteristic': False}\n {'attribute_name': 'ColorBase_Forfilter', 'attribute_value': 'Бежевый', 'attribute_isaspect': False, 'attribute_showascharacteristic': False}]",
         "[-1.04020834e-02 -1.73612857e+00 -1.01807487e+00  3.61125767e-01\n  5.31910136e-02 -8.16083252e-02  3.83562744e-01  3.22654307e-01\n  3.78281355e-01  1.30983770e-01 -4.32794482e-01 -1.72726110e-01\n -1.44873559e-03 -1.51474655e-01 -2.64252186e-01 -2.43489742e-01\n -6.99911952e-01  2.78269619e-01 -2.89467812e-01 -7.90642798e-01\n -1.58374831e-01 -4.11561221e-01 -7.05267727e-01 -3.08178604e-01\n  1.63554326e-01 -6.25267625e-01  3.08637172e-02 -2.48148710e-01\n -5.09232223e-01  4.30367529e-01 -6.26252055e-01 -3.62812936e-01\n -4.82586682e-01  2.62305021e-01  2.28185251e-01  5.14732778e-01\n  1.62002653e-01  4.04113024e-01 -8.52736086e-02 -5.30757070e-01\n  1.19766086e-01  3.39010447e-01  5.15287161e-01  9.15399343e-02\n  4.54538763e-01 -5.81669807e-03  1.20564550e-01  2.24893451e-01\n  5.63264608e-01  5.93344569e-01  5.86991906e-01 -7.79446304e-01\n -3.90322804e-01 -2.25544542e-01 -5.12199700e-01 -2.87141204e-01\n -3.67063917e-02  2.24831656e-01  2.12835580e-01  5.88538289e-01\n -6.72374785e-01  7.21782148e-02  1.03790700e-01  4.45930958e-02\n -4.83406246e-01 -3.04138124e-01 -2.32392550e-02  4.78355855e-01\n  2.79159725e-01 -5.20819247e-01 -6.42432690e-01  1.60728395e-03\n  4.80796099e-01 -1.35514468e-01  6.61656186e-02 -3.51635814e-01\n  6.07057452e-01  3.53989482e-01  4.13699806e-01 -5.92540085e-01\n  4.02472198e-01  1.06220186e-01 -5.97169638e-01  8.16477686e-02\n  2.27104127e-01  1.21820256e-01  4.14511681e-01  1.97544694e-02\n  4.09360915e-01 -1.62901118e-01 -1.15819246e-01 -2.04207167e-01\n  1.72342569e-01 -2.16811210e-01 -9.69178379e-02  8.62876177e-02\n  6.87375963e-02  8.64077926e-01  1.81145325e-01 -3.03850174e-02\n -5.42601824e-01  8.98558021e-01  5.72328120e-02  2.69462109e-01\n -1.47057772e-02  6.01852417e-01 -4.11913246e-01 -1.33523476e+00\n -1.10437796e-01 -3.95102352e-02 -5.60287833e-01  2.71026552e-01\n  2.68035263e-01  5.92785835e-01  5.94622314e-01 -6.06545568e-01\n  4.15937304e-01 -1.42798021e-01 -1.93430305e-01 -4.35311019e-01\n -1.76402301e-01 -9.39779282e-02  4.15462375e-01  2.01017618e-01\n -2.51323581e-01  4.18127954e-01 -7.15532422e-01 -2.55270898e-02\n -3.24326187e-01 -4.05507833e-02 -4.41550314e-02 -4.43392843e-01\n  2.92735279e-01 -8.53043318e-01 -2.72507906e-01 -6.11624345e-02\n  5.78915775e-02  3.86289001e-01 -3.40900958e-01  4.19132710e-01\n -3.78384963e-02 -4.83435750e-01  1.22341067e-01 -5.84691048e-01\n -2.46616051e-01  1.19996279e-01  7.35592693e-02 -4.12514865e-01\n  2.89875746e-01  3.47539634e-01  4.25968885e-01  2.01786235e-01\n  2.05478430e+00  1.60624653e-01  2.77792007e-01  1.97649866e-01\n -4.53742981e-01  4.95980561e-01  3.79987359e-02 -1.29170418e-02\n -4.31140691e-01 -7.60371208e-01  1.54286444e-01  6.76017106e-01\n  4.83685106e-01  3.92152146e-02 -7.84639046e-02  1.78057507e-01\n -7.68934190e-02 -1.26024708e-02  8.57096672e-01  1.95141807e-01\n  8.84889483e-01  4.22261298e-01  6.03133067e-03  6.87271774e-01\n  1.17234588e-02  3.58754724e-01 -1.14621794e+00 -5.85245080e-02\n -1.56777605e-01 -3.14453185e-01 -1.82148427e-01 -1.29269063e-01\n  6.25808299e-01  1.95696801e-01  4.95711744e-01  2.63978690e-01\n  8.85846138e-01 -1.79473758e-02  8.60784799e-02 -3.31151545e-01\n  1.46361798e-01  1.09846652e-01  3.29044551e-01  1.01320185e-01\n -1.48883924e-01  1.25800759e-01 -4.29429144e-01  2.92796820e-01\n  9.08950269e-01 -2.66059369e-01  2.01754272e-01  2.89855748e-01\n  3.51340055e-01  2.48754054e-01  2.51322329e-01 -5.65912485e-01\n  6.10907316e-01  5.76827228e-01 -2.27282941e-02 -9.62020755e-01\n  8.43153074e-02  3.52455020e-01 -1.04417354e-02  2.83096820e-01\n -6.53368458e-02 -1.59317225e-01 -3.00269485e-01  1.42148817e+00\n -3.28439176e-01 -3.36227566e-02 -1.34302348e-01 -4.53185618e-01\n  5.43281436e-01  2.67887115e-01 -2.85594642e-01 -2.28034168e-01\n -2.72711724e-01  3.52042586e-01  1.60665900e-01 -2.15696663e-01\n  4.15179998e-01  5.42278767e-01  3.25447619e-01  8.23567808e-01\n -1.09235454e+00 -9.61869955e-03  1.21759668e-01 -5.51377356e-01\n  8.38597834e-01 -8.22465420e-02 -1.58888295e-01 -9.63590622e-01\n -3.90436649e-01  2.19193369e-01  1.87400460e-01  1.95497528e-01\n -3.55406404e-01  3.96713346e-01  2.07692087e-01 -9.62457955e-02\n  1.43813163e-01 -6.42203629e-01  5.13641387e-02  1.68101251e-01\n -3.22331309e-01  2.65901864e-01  7.61463046e-01 -7.39199221e-01\n -4.04520482e-01 -1.96694061e-01  2.42496476e-01  2.82539070e-01\n  6.53009593e-01 -1.52088195e-01  3.29953372e-01 -3.04035038e-01\n -1.16895154e-01  2.44713128e-02 -7.88017139e-02  5.42742908e-01\n -3.13459218e-01  3.05990160e-01  7.63267428e-02 -4.02547717e-02\n -3.88009310e-01 -5.42781353e-01  2.13764012e-02  6.55408025e-01\n -2.61923075e-01  5.04260778e-01 -5.76795042e-01 -3.79205942e-02\n  1.39286369e-01 -4.31874305e-01  2.02446759e-01 -2.55576491e-01\n  7.59965926e-02 -8.70840073e-01  7.60020241e-02  1.36796907e-01\n  1.59173459e-03 -4.43151593e-03 -5.12300134e-01  4.08516109e-01\n -2.92356685e-02  1.84925392e-01 -4.46551323e-01  1.70191422e-01\n -3.29712391e-01 -3.59708548e-01 -7.10475892e-02 -4.82067585e-01\n -3.51547360e-01  6.59690648e-02  4.23048168e-01 -2.06030369e+00\n -1.86248004e-01 -3.87523353e-01  2.09660441e-01 -1.10298097e-01\n -3.03995371e-01 -1.00804567e-02  8.10472488e-01 -2.61272341e-02\n  3.11341017e-01 -6.82101965e-01 -2.10444197e-01 -4.13663954e-01\n -2.77099729e-01  3.58041197e-01 -5.39824545e-01  3.57145846e-01\n  1.93559468e-01 -5.14945090e-01 -1.16434753e-01 -1.86852515e-02\n  2.01340050e-01 -5.15754282e-01  5.77747464e-01  5.82290888e-02\n  1.38228580e-01 -1.56290680e-01  1.38255581e-01  1.55826658e-01\n  4.73494977e-01 -3.55873585e-01  5.65941393e-01  1.66920766e-01\n  1.09605208e-01  1.49858505e-01  1.63904667e-01 -3.34703147e-01\n -1.00926816e-01 -5.07141575e-02  3.68546218e-01  6.71452880e-01\n -1.60953474e+00 -5.40889680e-01  5.78388035e-01 -2.01720223e-01\n  6.00455701e-03  3.78160253e-02 -9.22239304e-01  5.50882339e-01\n  1.80031836e-01 -3.86826396e-01 -2.60399878e-02  9.70595405e-02\n  4.92027625e-02 -2.48516887e-01  4.08774644e-01 -5.21541595e-01\n -7.10203052e-02  3.70600790e-01  2.24107206e-02  1.89564601e-01\n -7.60713398e-01  6.11622632e-02  3.22998494e-01  4.56279457e-01\n -7.66155958e-01 -2.31821552e-01 -3.80317569e-02  1.49353981e-01\n -3.28389943e-01  6.88446999e-01  3.49226117e-01  3.21825951e-01\n  6.17839545e-02 -1.16876006e-01  1.13947481e-01  1.35542184e-01\n  6.94098949e-01  1.55249798e+00 -2.92570651e-01  5.38902208e-02\n -3.90024692e-01 -1.28326640e-01  6.74536645e-01 -3.86020809e-01\n -1.27807736e-01  4.50466990e-01 -2.59012252e-01  3.40879589e-01\n  7.49289572e-01 -5.11200845e-01  1.08256891e-01  1.03129238e-01\n  3.92625779e-02 -4.52492535e-02 -8.50136727e-02 -9.10138786e-02\n  4.55517471e-01 -5.24010360e-02  6.69753551e-01 -1.21427163e-01\n -2.30656788e-01  9.91465524e-02 -4.15003628e-01 -3.08208376e-01\n  2.94877321e-01  1.15035546e+00 -3.01698089e-01  4.27875817e-01\n -5.34754157e-01 -3.00409794e-01 -5.92180133e-01  1.06906630e-02\n  3.13034892e-01 -7.10919857e-01 -1.35478824e-01  1.16077140e-01\n  1.77851856e-01  4.48992848e-02 -6.55457139e-01 -3.33559811e-02\n  5.86973310e-01 -1.49447806e-02  2.11948648e-01  8.69577229e-01\n -1.59755886e-01 -2.72269398e-02  5.87685585e-01  8.41755092e-01\n -7.58615136e-03  3.45721841e-02  3.91408324e-01 -1.96060508e-01\n -1.28114730e-01 -3.63603324e-01 -3.05669636e-01 -8.63107294e-02\n  8.04611802e-01  1.74059808e-01 -6.12487972e-01 -2.23858714e-01\n -1.08203694e-01  5.79736233e-02 -3.78772736e-01 -7.04962969e-01\n -7.90715441e-02  4.07234192e-01 -9.90806967e-02 -8.38642240e-01\n -2.78997391e-01  3.40497047e-01 -2.61594623e-01 -3.52898121e-01\n  5.71433365e-01  2.32188597e-01  5.50952330e-02 -1.18059196e-01\n  4.64517057e-01 -2.17950642e-01  2.77274638e-01 -2.96826214e-01\n  5.38299203e-01  1.22551590e-01  8.18281472e-02  4.73855317e-01\n  3.24173719e-01  6.67116165e-01  3.80860567e-01  9.11695957e-01\n  3.49500984e-01  1.78397477e-01 -8.34467188e-02  3.68609428e-01\n -7.73122683e-02 -8.81359354e-02 -4.09099385e-02  6.23932481e-03\n  2.25352049e-01 -9.65347141e-02  4.43066895e-01 -7.98826516e-02\n -8.29984307e-01 -7.31941700e-01 -6.47617161e-01  3.73276323e-03\n  9.91336048e-01  3.98580819e-01  7.86442459e-02  2.04842731e-01\n -2.17073679e-01 -5.05839229e-01 -3.06804478e-01  3.13187167e-02\n  3.97658259e-01 -2.09700406e-01 -3.13682199e-01 -9.06396508e-02\n  1.65428743e-01  2.85826832e-01 -6.69011474e-03 -5.61790764e-01\n  1.79935068e-01  3.58665884e-01  3.77766907e-01  1.40534788e-01]",
         "7666",
         "276039564",
         "31264969"
        ],
        [
         "19",
         "4873781",
         "Комплект трусов слипы HYYD Комфорт, 5 шт",
         "[{'attribute_name': 'Type', 'attribute_value': 'Комплект трусов', 'attribute_isaspect': False, 'attribute_showascharacteristic': True}\n {'attribute_name': 'Brand', 'attribute_value': 'HYYD', 'attribute_isaspect': False, 'attribute_showascharacteristic': True}\n {'attribute_name': 'Annotation', 'attribute_value': 'Очень комфортные трусы хлопок.  Хлопковые женские трусики набор из 5 штук, яркие расцветки.  Удобные и приятные к телу Женские трусы набор, детский набор  из 5 штук. Нижнее белье женское необходимая вещь для повседневной жизни, трусы подходят как беременным и кормящим мамам, так и для девочки. Трусы детские для девочек идеальны, так как из натурального хлопка. Трусы для девочки  набор подойдут под разные майки для девочек. Женские трусы это как и трусики детские так и  трусы для девочки подростка. Мягкая и дышащая ткань позволит Вам чувствовать себя весь день комфортно и спокойно. Не стринги, а слипы из хлопка, с очень удобными не давящими швами. Нижнее белье с удобной резинкой. Белье женское, нижнее белье  Трусики женские подойдут всем. Трусы женские хлопок могут стать отличным подарком для девочек дочерей, сестры, мамы, подруги, жены.  Слипы женские подарок на день рождения, юбилей, рождение ребенка, новый год, так как трусы набор. Набор женских трусов мягко прилегают к телу, оставаясь незаметными под одеждой и очень комфортные для сна. Трусы женские набор хлопок с добавлением лайкры (5%) - легкие, удобные, комфортные в носке. Набор трусов женских в нежно-пастельных тонах. Трусы хлопок женские голубого, персикового, нежно-розового идеальны для девочек. Сексуальное белье имеет и базовые цвета: синие, белые, черные. Трусы набор женские – это одежда и белье. Женское белье нижнее с идеальной посадкой. Женское нижнее белье незаменимый аксессуар. Набор трусов слипы – трусы для беременных, секс белье, трусы для менструации, хлопковые трусы, белье для секса. Слип как белье очень необходимы в повседневной жизни. Набор трусов из 5 штук это комплект трусов женские трусы хлопок.  Женское белье, комплект трусов женских – это женская одежда. Женские трусы набор очень удобны в приобретении. Трусы слипы женские – это секси белье и надолго сохраняют свой первоначальный вид. Трусы женские набор слипы, детские трусы для девочек из 5 штук.', 'attribute_isaspect': False, 'attribute_showascharacteristic': True}\n {'attribute_name': 'AgeO', 'attribute_value': 'Взрослая', 'attribute_isaspect': False, 'attribute_showascharacteristic': False}\n {'attribute_name': 'ColorBase', 'attribute_value': 'белый', 'attribute_isaspect': True, 'attribute_showascharacteristic': True}\n {'attribute_name': 'ColorBase', 'attribute_value': 'голубой', 'attribute_isaspect': True, 'attribute_showascharacteristic': True}\n {'attribute_name': 'ColorName', 'attribute_value': 'Бело-голубая клетка', 'attribute_isaspect': True, 'attribute_showascharacteristic': True}\n {'attribute_name': 'RussianSizeClothes', 'attribute_value': '44', 'attribute_isaspect': True, 'attribute_showascharacteristic': True}\n {'attribute_name': 'SizeManufacturer', 'attribute_value': 'L', 'attribute_isaspect': True, 'attribute_showascharacteristic': True}\n {'attribute_name': 'SizeM', 'attribute_value': '42', 'attribute_isaspect': False, 'attribute_showascharacteristic': True}\n {'attribute_name': 'SexMaster', 'attribute_value': 'Женский', 'attribute_isaspect': False, 'attribute_showascharacteristic': True}\n {'attribute_name': 'HeightM', 'attribute_value': '170 см', 'attribute_isaspect': False, 'attribute_showascharacteristic': True}\n {'attribute_name': 'SizeGrid', 'attribute_value': 'Универсальная размерная сетка: Женская одежда', 'attribute_isaspect': False, 'attribute_showascharacteristic': False}\n {'attribute_name': 'Material', 'attribute_value': 'Хлопок', 'attribute_isaspect': False, 'attribute_showascharacteristic': True}\n {'attribute_name': 'Composition', 'attribute_value': '100% хлопок', 'attribute_isaspect': False, 'attribute_showascharacteristic': True}\n {'attribute_name': 'InnerMaterial', 'attribute_value': 'Хлопок', 'attribute_isaspect': False, 'attribute_showascharacteristic': True}\n {'attribute_name': 'StyleApparel', 'attribute_value': 'Повседневный', 'attribute_isaspect': False, 'attribute_showascharacteristic': True}\n {'attribute_name': 'StyleApparel', 'attribute_value': 'Домашний', 'attribute_isaspect': False, 'attribute_showascharacteristic': True}\n {'attribute_name': 'DetailsClothes', 'attribute_value': 'Бант', 'attribute_isaspect': False, 'attribute_showascharacteristic': True}\n {'attribute_name': 'FilterSizeINT', 'attribute_value': 'S', 'attribute_isaspect': False, 'attribute_showascharacteristic': False}\n {'attribute_name': 'FilterSizeINT', 'attribute_value': 'M', 'attribute_isaspect': False, 'attribute_showascharacteristic': False}\n {'attribute_name': 'NumItemsDcml', 'attribute_value': '5', 'attribute_isaspect': True, 'attribute_showascharacteristic': True}\n {'attribute_name': 'Name', 'attribute_value': 'Трусы женские набор 5 шт., слипы женские', 'attribute_isaspect': False, 'attribute_showascharacteristic': False}\n {'attribute_name': 'Season', 'attribute_value': 'На любой сезон', 'attribute_isaspect': False, 'attribute_showascharacteristic': False}\n {'attribute_name': 'TypeSport', 'attribute_value': 'Бег', 'attribute_isaspect': False, 'attribute_showascharacteristic': False}\n {'attribute_name': 'TypeSport', 'attribute_value': 'Баскетбол', 'attribute_isaspect': False, 'attribute_showascharacteristic': False}\n {'attribute_name': 'TypeSport', 'attribute_value': 'Альпинизм', 'attribute_isaspect': False, 'attribute_showascharacteristic': False}\n {'attribute_name': 'TypeSport', 'attribute_value': 'Велоспорт', 'attribute_isaspect': False, 'attribute_showascharacteristic': False}\n {'attribute_name': 'ColorBase_Forfilter', 'attribute_value': 'Голубой', 'attribute_isaspect': False, 'attribute_showascharacteristic': False}\n {'attribute_name': 'ColorBase_Forfilter', 'attribute_value': 'Белый', 'attribute_isaspect': False, 'attribute_showascharacteristic': False}]",
         "[ 2.77756751e-01 -2.57373452e-02 -1.15349185e+00  3.24446350e-01\n  1.21985562e-01  1.71112105e-01  1.52173564e-01  4.39935744e-01\n  7.11710334e-01  5.07052302e-01 -4.80431378e-01 -4.21210006e-02\n -3.90291333e-01 -2.02638164e-01  6.69232786e-01 -4.23703790e-02\n -8.68157506e-01  6.37155026e-02 -3.81552458e-01 -4.11396384e-01\n  3.83564830e-03 -6.15091994e-02 -1.96585596e-01 -4.83299345e-02\n  3.08304548e-01 -7.83145487e-01  3.23906571e-01  1.90786466e-01\n -6.12380683e-01  2.06892103e-01 -1.44568717e+00 -2.76956260e-01\n -5.27288020e-03 -4.56879362e-02 -4.31139767e-03  3.64940971e-01\n  1.94900170e-01  8.61457586e-02 -1.53052837e-01 -3.99059772e-01\n  9.98579338e-02 -7.20377564e-02  7.38780618e-01  6.21720374e-01\n  4.29030657e-02 -2.03344911e-01  5.67286730e-01  6.08761430e-01\n  4.77268428e-01  1.03469819e-01  4.92370605e-01  2.05458790e-01\n  6.59680292e-02 -1.99605435e-01  3.69433671e-01  3.41928512e-01\n -7.25372553e-01  4.30341601e-01 -1.83465004e-01 -3.93914133e-02\n -2.87325799e-01  5.77603877e-02  3.13571155e-01  2.77342796e-02\n -4.08841491e-01 -2.40697563e-02  5.15300810e-01  9.83458281e-01\n -3.04258838e-02  1.61208481e-01 -7.09576905e-01 -1.59420460e-01\n  1.41171485e-01 -6.09825999e-02  6.39458656e-01 -1.78087205e-01\n  1.84658095e-01  7.73755312e-02  4.04285491e-01  1.98004484e-01\n  1.42552465e-01 -3.10756385e-01 -3.44920129e-01 -1.12467989e-01\n  3.06873441e-01  4.50380981e-01  2.47920200e-01  2.57953137e-01\n -1.67420954e-02 -2.98177570e-01  3.72126281e-01  4.91773993e-01\n  2.61883169e-01 -3.14064056e-01  8.91352519e-02  1.65259048e-01\n -2.17703849e-01  2.41960123e-01  7.66853631e-01 -2.61356652e-01\n -4.83187586e-01  1.38898239e-01 -2.40126312e-01  4.81238663e-02\n  4.71095502e-01  3.32335830e-01 -4.64906424e-01 -1.17322415e-01\n  9.95303094e-02  2.39082336e-01 -2.91220248e-01 -6.99558854e-02\n  4.10099149e-01 -1.03676073e-01  1.21837027e-01 -5.77188134e-01\n  2.48921722e-01  7.53166974e-02 -1.71622261e-01 -5.79520762e-02\n  4.61564362e-01  3.65329355e-01  5.26390910e-01 -3.00648600e-01\n -3.08319688e-01  2.43336007e-01 -3.94399822e-01  2.33378440e-01\n  2.76003033e-01  2.16020763e-01  5.31022847e-02  8.14380124e-02\n  3.83378565e-01 -4.01714474e-01 -4.10367548e-01 -1.06754556e-01\n -2.10868359e-01  3.32825482e-02 -4.27949041e-01  6.30560100e-01\n  1.56504631e-01 -2.68686622e-01 -1.24905109e-01 -2.07114339e-01\n -1.08197927e-02  8.49188417e-02 -2.09305480e-01 -2.01915443e-01\n  2.03126982e-01 -1.77171648e-01  1.29874945e-02 -7.24295303e-02\n  1.75643957e+00 -7.52620459e-01 -3.04738075e-01  1.43296883e-01\n -2.44650960e-01  1.19925402e-02  8.60401690e-02  1.08523794e-01\n -3.43960464e-01 -5.22593260e-01  7.07407892e-02  9.17501211e-01\n  3.01907599e-01  6.48396373e-01 -1.59376115e-02  4.46289450e-01\n  4.66054350e-01  3.82839620e-01  2.10149065e-01  2.23000169e-01\n -6.15193844e-02 -2.01733112e-02 -3.56444955e-01  3.27665210e-01\n  2.60752439e-03  1.59773082e-01 -1.41169167e+00  3.71942133e-01\n -1.53411448e-01 -5.30810952e-01 -3.47259134e-01 -3.89711082e-01\n -2.22887352e-01  2.16562837e-01 -3.97102207e-01  1.57748938e-01\n  9.39746439e-01 -1.57658637e-01  2.00841188e-01  8.13702345e-01\n -2.07857281e-01 -2.51093119e-01  3.58812988e-01 -3.71669233e-01\n -5.49995542e-01 -4.47355136e-02 -7.82963276e-01 -1.27677396e-01\n  1.90553159e-01  7.36640930e-01 -5.75113297e-01 -9.63243544e-02\n  4.11868244e-01  6.85003817e-01  3.86367977e-01 -2.95584500e-01\n  4.68292683e-01  3.56685996e-01  6.96945935e-04  2.62661666e-01\n -1.89989656e-01  4.76411939e-01 -3.23691666e-01  3.02365720e-01\n -3.87745827e-01 -2.46115565e-01 -6.84476495e-02  2.85960823e-01\n  2.19054237e-01  1.06186017e-01 -2.54724175e-04 -7.01928556e-01\n -1.28031150e-01  4.75736529e-01  1.84957206e-01  2.08116561e-01\n -1.44587860e-01  2.02262551e-01  4.37813103e-02  4.89011705e-02\n  2.07971692e-01  2.33385742e-01  6.83673680e-01  8.11272144e-01\n -4.14858937e-01 -8.05342644e-02  7.95568705e-01 -1.91069350e-01\n -2.15560645e-01  2.33737454e-02  1.31907642e-01 -1.13358462e+00\n -3.90536517e-01 -2.29430377e-01 -2.81395376e-01  6.33279324e-01\n -4.23156053e-01 -3.72438580e-01  5.82295656e-01  1.04397595e-01\n  2.42561102e-03 -7.09744453e-01 -1.44012237e+00  3.49545509e-01\n -6.49754226e-01  3.26309502e-02  7.78602660e-01 -3.44358891e-01\n -7.61604980e-02 -6.42578959e-01 -4.92936000e-02 -1.72789186e-01\n  2.95723647e-01 -3.91670108e-01 -1.75041273e-01 -3.20456207e-01\n -1.80318981e-01  3.17845717e-02  1.04774117e-01 -6.95217729e-01\n -9.75555629e-02  4.33032691e-01 -1.51902795e-01  5.13768017e-01\n  8.98744166e-02 -1.05665192e-01 -1.44994587e-01  4.84197795e-01\n  5.68489373e-01  3.32414359e-01  4.27171439e-02 -3.35918725e-01\n -6.51576400e-01 -4.73119020e-01  1.07908368e-01  2.60951638e-01\n -9.27107185e-02 -4.68304485e-01 -1.28194571e-01  1.06574565e-01\n  1.29769936e-01 -3.15762669e-01 -4.68915462e-01  7.46886611e-01\n  2.39865780e-02  4.43157196e-01 -4.46379006e-01 -2.13232651e-01\n -4.71182287e-01 -2.79384494e-01  1.78668350e-01 -2.84060001e-01\n -1.17877173e+00  4.81606483e-01  6.27629459e-03 -1.77463126e+00\n  3.08700502e-01 -2.78515100e-01  7.91268051e-03  7.03391075e-01\n -5.87710515e-02  4.49388057e-01  4.40514922e-01  3.27417433e-01\n -1.58002675e-01 -1.89549237e-01 -6.18188381e-01 -3.40323031e-01\n -5.58660179e-03 -1.39732674e-01 -3.52599949e-01  9.77190137e-02\n  3.27931821e-01 -1.52455240e-01 -1.85235322e-01  2.11242661e-01\n -5.68929315e-03 -4.30899560e-01 -1.61791101e-01  3.90548944e-01\n  6.78393006e-01  1.76337659e-01  1.41852617e-01 -2.12898672e-01\n  1.84898242e-01 -3.69363755e-01  7.66320676e-02  1.53487802e-01\n  2.95191258e-03 -1.99310392e-01  7.83084929e-01 -1.53448179e-01\n  9.11536813e-02 -5.57346046e-01  1.89521730e-01  9.81179595e-01\n -1.80591726e+00 -2.32459575e-01  5.81663191e-01 -1.20174348e-01\n -5.88908315e-01 -1.21701121e-01 -1.77389592e-01  1.55839041e-01\n -1.48527861e-01  1.82306170e-02  1.48587868e-01 -2.94972450e-01\n  1.76496431e-01 -2.49984175e-01  2.19730824e-01 -2.13102311e-01\n -6.37142658e-01  7.74750859e-02  5.71904659e-01  4.38860089e-01\n -3.93191695e-01 -4.33278382e-01  3.89841348e-01  4.23012912e-01\n -2.26769030e-01  5.19202054e-02 -2.14458048e-01  3.79196465e-01\n  6.77951396e-01  7.25342393e-01  2.14472055e-01  3.24521840e-01\n  1.64006948e-01 -3.59114468e-01 -1.97324798e-01 -2.62317717e-01\n  6.54083014e-01  1.25460601e+00 -3.75170588e-01 -3.88098031e-01\n  4.75054502e-01  9.50577781e-02  5.18511057e-01 -7.03715563e-01\n -8.66166353e-01 -7.02365041e-02  7.47433066e-01  5.53535700e-01\n -3.96768987e-01  2.09395513e-01  2.60509372e-01 -6.24041557e-02\n  1.08599022e-01  1.81618348e-01  3.59721303e-01  3.20665240e-02\n  1.80133641e-01  3.60411257e-02 -1.62607849e-01 -6.17807031e-01\n -5.40917218e-01  3.86163175e-01 -1.69752687e-01 -2.85731822e-01\n  1.25077891e+00  3.24077487e-01 -4.63168800e-01  3.56687278e-01\n -4.40014899e-01 -7.19448805e-01 -5.30819237e-01 -3.10876399e-01\n -4.48107213e-01 -8.53309274e-01 -5.01607060e-01  1.75848991e-01\n -1.38627201e-01  1.30351081e-01  9.44299027e-02 -1.02082863e-01\n  6.74651980e-01  1.27159029e-01 -1.52882449e-02  7.80811608e-01\n  1.25626341e-01  9.41606835e-02  5.45810997e-01 -1.65068477e-01\n -4.81617302e-02  5.40058851e-01  1.30668968e-01 -2.16607392e-01\n -1.08511135e-01 -9.68098193e-02 -5.50676823e-01  2.14610010e-01\n -1.13622852e-01 -1.71512678e-01 -4.63451892e-02 -2.65024304e-02\n  5.93366504e-01  1.94500521e-01  1.75287008e-01 -6.64647222e-01\n -2.41841361e-01  5.17750323e-01 -1.67844832e-01 -1.00202072e+00\n -1.40350819e-01  1.48404986e-01 -2.69940317e-01 -1.88061893e-01\n  5.20126343e-01  3.96424204e-01 -4.53574955e-02  2.67029926e-02\n -2.06303984e-01  7.60759413e-03  4.76742387e-02 -8.49456638e-02\n  2.46151239e-01  1.59592658e-01 -2.80471385e-01  9.00229067e-02\n -1.53625607e-02  2.21860707e-02  1.77573889e-01  1.53889441e+00\n  5.87114573e-01  5.15336573e-01  4.09598291e-01  1.84031725e-01\n -2.28728890e-01 -1.61086112e-01 -1.46850362e-01 -7.66041517e-01\n -1.81759626e-01 -1.01541549e-01 -1.64654940e-01  2.37598568e-01\n -5.21324992e-01  4.41531315e-02 -1.09095430e+00  4.28530753e-01\n  7.27704525e-01  2.50892118e-02 -3.66002709e-01  1.72164738e-01\n -1.03082515e-01  2.27899119e-01 -4.91147935e-02  5.68806052e-01\n -6.97021633e-02 -3.97488177e-01 -5.39089084e-01 -5.77376336e-02\n -6.65806115e-01  2.64003515e-01 -2.85321504e-01  5.07121921e-01\n  2.33503640e-01  1.19529322e-01 -1.32770568e-01  2.34939545e-01]",
         "31306",
         "208472748",
         "36901157"
        ],
        [
         "20",
         "5204898",
         "Джинсы Feimailis",
         "[{'attribute_name': 'Type', 'attribute_value': 'Джинсы', 'attribute_isaspect': False, 'attribute_showascharacteristic': True}\n {'attribute_name': 'Brand', 'attribute_value': 'Feimailis', 'attribute_isaspect': False, 'attribute_showascharacteristic': True}\n {'attribute_name': 'Annotation', 'attribute_value': 'Женские джинсы бананы и момы с высокой посадкой - удобная, базовая, повседневная модель на каждый день, которая будет сочетаться с любым стилем. Джинсы mom, в том числе больших размеров (plus size) подходят для любого типа фигуры, а также для крупных и полных. Среди разнообразия моделей можно найти женские джинсы с высокой посадкой, которые прекрасно подчеркнут фигуру и придадут изящность. Если нужны джинсы больших размеров, не проблема, ведь в нашем каталоге предлагается широкий выбор для каждой комплекции. Джинсы серые женские - этот классический цвет всегда выглядит элегантно и стильно. Для тех, кто предпочитает свободу и комфорт, отличным вариантом станут джинсы бананы. Эта модель джинсов имеет свободный крой, зауженные к низу и создадут свободу и комфорт в движении. Но это еще не все. Джинсы бананы стильные и прекрасно сидят на фигуре. Независимо от вашего стиля или предпочтений, среди разнообразия моделей вы обязательно найдете идеальную пару для себя. Они будут отличным дополнением к вашему гардеробу и помогут создать стильный и модный образ. Модные и стильные - они являются отличным выбором для любой женщины, независимо от возраста и стиля жизни.<br/><br/>\\xa0', 'attribute_isaspect': False, 'attribute_showascharacteristic': True}\n {'attribute_name': 'ColorBase', 'attribute_value': 'серый', 'attribute_isaspect': True, 'attribute_showascharacteristic': True}\n {'attribute_name': 'RussianSizeClothes', 'attribute_value': '64', 'attribute_isaspect': True, 'attribute_showascharacteristic': True}\n {'attribute_name': 'SizeManufacturer', 'attribute_value': '40', 'attribute_isaspect': True, 'attribute_showascharacteristic': True}\n {'attribute_name': 'SizeM', 'attribute_value': '40', 'attribute_isaspect': False, 'attribute_showascharacteristic': True}\n {'attribute_name': 'SexMaster', 'attribute_value': 'Женский', 'attribute_isaspect': False, 'attribute_showascharacteristic': True}\n {'attribute_name': 'SizeGrid', 'attribute_value': 'Универсальная размерная сетка: джинсы', 'attribute_isaspect': False, 'attribute_showascharacteristic': False}\n {'attribute_name': 'Material', 'attribute_value': 'Джинс', 'attribute_isaspect': False, 'attribute_showascharacteristic': True}\n {'attribute_name': 'Material', 'attribute_value': 'Деним', 'attribute_isaspect': False, 'attribute_showascharacteristic': True}\n {'attribute_name': 'Composition', 'attribute_value': ' хлопок 55% полиэфир 41% и 4% эластан', 'attribute_isaspect': False, 'attribute_showascharacteristic': True}\n {'attribute_name': 'StyleApparel', 'attribute_value': 'Повседневный', 'attribute_isaspect': False, 'attribute_showascharacteristic': True}\n {'attribute_name': 'Season', 'attribute_value': 'На любой сезон', 'attribute_isaspect': False, 'attribute_showascharacteristic': True}\n {'attribute_name': 'clothescut', 'attribute_value': 'свободный', 'attribute_isaspect': False, 'attribute_showascharacteristic': True}\n {'attribute_name': 'DetailsClothes', 'attribute_value': 'Карманы', 'attribute_isaspect': False, 'attribute_showascharacteristic': True}\n {'attribute_name': 'FilterSizeINT', 'attribute_value': '5XL', 'attribute_isaspect': False, 'attribute_showascharacteristic': False}\n {'attribute_name': 'Name', 'attribute_value': 'Feimailis Джинсы женские с высокой посадкой больших размеров, бананы', 'attribute_isaspect': False, 'attribute_showascharacteristic': False}\n {'attribute_name': 'ColorBase_Forfilter', 'attribute_value': 'Серый', 'attribute_isaspect': False, 'attribute_showascharacteristic': False}]",
         "[-2.57454574e-01 -6.15715981e-05  3.27141762e-01  6.44847035e-01\n -4.82643545e-01 -8.15846920e-02 -5.92126548e-02 -2.41755247e-01\n  1.37190133e-01 -5.77852309e-01 -1.09438822e-01  6.28075242e-01\n -4.24775362e-01 -2.93429434e-01 -1.58987135e-01  5.68584263e-01\n -4.98070359e-01  1.06268823e-02  1.59343183e-02 -2.22556908e-02\n  1.18905231e-01 -5.16405255e-02  2.35069051e-01 -2.86243498e-01\n -2.75538564e-02 -2.84817725e-01  3.50896925e-01 -1.76516846e-02\n -5.16305566e-01  1.17151365e-01 -3.62230331e-01  8.48033607e-01\n -2.60289371e-01 -1.05008781e-02 -1.71592712e-01 -3.21484171e-03\n  6.11371398e-02 -2.67220885e-02  1.75938666e-01  7.39269733e-01\n  3.47848594e-01 -6.78184271e-01 -2.30569676e-01 -3.42821121e-01\n  2.21932769e-01 -3.66421133e-01  2.29700655e-02  1.35852695e-02\n -2.09271118e-01 -1.65170640e-01  1.80457652e-01  5.18175006e-01\n  2.62643322e-02 -4.02609646e-01  1.86703801e-02  7.06276238e-01\n  2.50155210e-01  1.99585855e-01  8.64548981e-03 -2.92958528e-01\n  1.58530474e-01 -5.37856817e-01  8.00323069e-01  3.36967766e-01\n -6.21916726e-02  3.22649807e-01  3.02189261e-01 -7.41805673e-01\n -7.66283274e-02 -2.04088688e-01 -3.73136282e-01  5.92293799e-01\n  7.02911973e-01  5.39933562e-01 -1.16788343e-01 -2.42204890e-01\n  7.50380456e-01 -2.21294314e-01  6.71192184e-02 -1.42589942e-01\n  1.00120544e-01 -1.30141541e-01  1.16774924e-02 -2.14153200e-01\n  8.65560472e-02  2.69012488e-02 -7.87150264e-02  2.38617569e-01\n -2.04635769e-01 -7.66343951e-01  1.64623484e-01  4.64681983e-02\n -5.10250151e-01 -7.63282627e-02 -2.60037631e-01  9.79100168e-02\n  1.71184659e-01  2.93340474e-01  2.94252992e-01 -2.31942832e-01\n  3.38882208e-01  1.17674053e-01  1.19294003e-02  4.20120567e-01\n -1.18893385e-03 -3.70281518e-01  1.72201961e-01 -7.49796689e-01\n -3.71112078e-01 -7.66089559e-02 -5.05191565e-01  1.05761006e-01\n -6.19512200e-02 -1.73639998e-01  1.46403462e-01 -3.70784611e-01\n  1.99829280e-01  1.41192079e-02  3.76369059e-01  3.41995090e-01\n  1.81604505e-01  9.49028879e-04 -2.72896022e-01 -5.20940661e-01\n -3.36494446e-01  1.59384906e-01  2.96518594e-01  2.33527169e-01\n  6.84573352e-02  4.49032187e-01  2.17363611e-01 -5.71243167e-01\n  4.82825823e-02 -2.20243901e-01 -8.36332142e-01  6.87625706e-02\n  7.23906636e-01  2.41598085e-01 -8.07661489e-02  5.35198271e-01\n  7.72616982e-01  1.65985584e-01  1.34625658e-01 -4.31210846e-02\n  3.30442011e-01 -7.75279403e-02 -2.25152731e-01  1.48928791e-01\n  1.02737248e-01  2.62430966e-01 -4.62334871e-01  1.25135094e-01\n  3.72615218e+00  2.45249420e-02 -7.00040936e-01  3.52398872e-01\n  6.60539195e-02  3.27452809e-01  8.88388395e-01  2.50218630e-01\n  9.52380300e-02  6.15645289e-01  1.79863602e-01  1.49675012e-01\n -2.68433660e-01  1.05941653e+00  3.54564935e-01 -4.14990067e-01\n  2.53606170e-01 -1.73900515e-01 -5.72288334e-02 -4.45057154e-01\n -2.54880458e-01 -9.06971693e-02 -7.63401389e-04 -1.42201853e+00\n  9.15435195e-01 -1.71302304e-01 -1.05889559e+00 -2.52592266e-02\n -4.38521266e-01 -7.89677620e-01 -4.06987131e-01 -3.94477308e-01\n -7.47214794e-01  2.12605819e-01  9.57333863e-01  1.35541081e-01\n -3.62595141e-01 -8.05257782e-02  3.58772039e-01  6.98813260e-01\n  4.07593131e-01 -2.96158433e-01 -5.26850671e-03  1.81360722e-01\n -5.58285296e-01 -2.74471939e-04 -2.12242350e-01  6.36728168e-01\n  7.25177944e-01 -1.22153401e-01 -8.29778016e-02  3.72065485e-01\n -2.93226361e-01  3.75888437e-01  5.84082305e-01 -3.26953232e-02\n  5.89768171e-01 -4.31423426e-01 -5.86642981e-01 -9.34125364e-01\n  1.40361756e-01  9.54759568e-02  4.97498989e-01 -4.17520665e-02\n  8.97154361e-02  5.56361318e-01  1.11089826e-01  2.81016380e-01\n -2.57441849e-02 -1.21312112e-01 -7.20911026e-02  3.96767288e-01\n  2.47099832e-01  8.21531117e-02  1.95556015e-01  2.38968641e-01\n -4.88188714e-01 -3.02939445e-01 -1.53910369e-02 -3.04845303e-01\n -9.38933939e-02  2.62167156e-02  1.01951055e-01  1.38662308e-01\n  1.13677874e-01  1.09608069e-01  4.54770446e-01  1.90984994e-01\n  7.87669718e-01 -3.08803022e-02  5.39221466e-01  7.65744746e-02\n -6.06474757e-01 -5.96046299e-02 -2.43863001e-01 -6.98141694e-01\n  1.78259909e-01  9.01097119e-01  5.23341060e-01  1.29750028e-01\n  1.31008536e-01 -3.73596102e-01 -3.15117687e-01 -5.09811938e-01\n  4.46797520e-01 -2.65341043e-01 -2.50278294e-01 -7.36935377e-01\n  2.62477517e-01 -1.22752793e-01  3.42103630e-01 -4.37255561e-01\n -8.13160181e-01 -6.13191426e-02 -1.38443202e-01  4.75755066e-01\n -2.33298868e-01 -3.41620564e-01 -8.90589952e-01 -3.56806397e-01\n  2.16607198e-01  3.36720109e-01  1.96548402e-01 -3.06676447e-01\n  2.26855740e-01 -4.03923213e-01  7.43382424e-02  5.36382318e-01\n  3.18970680e-01  5.37571490e-01 -4.00424689e-01  7.64222145e-01\n -9.44928676e-02  1.58670709e-01  2.42745951e-02  9.31334645e-02\n  1.76439285e-01 -1.89396679e-01  1.55600712e-01 -8.32197517e-02\n  1.17196903e-01  1.37685001e-01  4.02966142e-03  6.84392869e-01\n  8.09017539e-01 -4.23981309e-01  1.25179440e-02 -1.16789594e-01\n  1.49151123e+00 -1.25814199e-01  6.29325509e-02 -2.71362334e-01\n  9.25135732e-01 -1.09434798e-02 -2.92876959e-02 -3.70995045e+00\n -6.95529431e-02 -3.14039513e-02 -1.03235626e+00 -4.58805889e-01\n -9.47807878e-02 -1.44795045e-01  5.04314482e-01  1.51095986e-02\n  2.83889532e-01  8.19883794e-02  2.78571576e-01 -5.65701306e-01\n  9.97193083e-02 -1.15232229e-01 -5.34065515e-02  4.26664293e-01\n -8.78111362e-01 -4.32463348e-01 -1.56146303e-01  9.85812843e-02\n  2.42611334e-01  1.56548351e-01 -3.48147780e-01  8.46611857e-02\n  7.52483249e-01 -2.01652139e-01  4.42502618e-01 -7.32634664e-02\n -1.11445405e-01 -1.53660983e-01  2.46115148e-01  1.44949794e-01\n -3.45734894e-01  6.08685762e-02 -8.96892250e-02  1.05358362e-01\n -6.03003561e-01  1.85764462e-01  1.97912604e-02  1.83195040e-01\n -5.26505709e-01 -6.37110472e-01  6.13104880e-01 -3.25132310e-01\n -4.37395751e-01  2.35715449e-01 -1.83249831e-01  5.87918460e-02\n  7.49423981e-01 -4.89279628e-04 -2.65893996e-01 -5.30925930e-01\n -3.79335880e-02  1.27634093e-01 -1.90317005e-01  6.87101603e-01\n  4.27436054e-01  1.21486917e-01 -4.56890792e-01  2.83088207e-01\n -6.84783161e-02 -3.03351462e-01  2.07530767e-01 -6.67829275e-01\n  2.28016302e-01 -1.46488741e-01 -5.98447025e-01  1.24906826e+00\n -4.39264953e-01  2.46309623e-01 -5.14026284e-02  2.77112663e-01\n  5.84527254e-01  9.35520232e-01  9.86686796e-02  1.43032715e-01\n  4.70592678e-01  7.11465836e-01  2.84233809e-01 -1.74478590e-01\n  4.04685587e-01 -3.80714297e-01  2.34630570e-01  4.08246994e-01\n  3.38667095e-01  2.67440557e-01  3.91104430e-01 -4.42696214e-02\n  2.98753321e-01 -9.59844589e-02  7.49083161e-01  1.32202506e-01\n  6.80668093e-03 -6.38412774e-01  2.45791212e-01 -1.12469494e-02\n -4.31472063e-03  2.42827907e-01 -4.31326747e-01 -2.26276323e-01\n -5.69033027e-01  2.75641322e-01 -2.59271771e-01  3.22880924e-01\n  8.86434734e-01  4.97781038e-01 -1.28318295e-02  2.45328128e-01\n -9.53535140e-02 -3.41637015e-01  4.58091497e-02 -2.41282865e-01\n -6.70548007e-02 -3.89774978e-01  8.58426094e-03 -2.73792148e-01\n -1.11741602e-01  7.12419748e-01 -5.81072748e-01  7.64549375e-02\n -2.42267758e-01 -1.95417732e-01  1.73783123e-01  1.24565613e+00\n -2.99355149e-01  4.62489873e-02  1.64063156e-01  5.04739285e-01\n  2.28318065e-01 -2.33106613e-01  8.45202059e-02 -1.42806008e-01\n  2.12049007e-01  2.70314395e-01  7.51387060e-01 -1.83925182e-01\n -5.74141026e-01 -3.94527406e-01 -2.47501254e-01  4.93448526e-01\n -2.11119816e-01 -1.63607255e-01 -7.60886818e-02 -6.59136772e-02\n  3.78505439e-01  6.51546270e-02  2.96305090e-01 -1.38591754e+00\n -2.18734086e-01 -4.35853302e-01 -9.54139113e-01  3.96119922e-01\n -2.51519740e-01 -7.17365742e-01 -4.39237595e-01  1.91285536e-01\n  2.82228112e-01 -4.68604088e-01 -9.89008769e-02  1.88891798e-01\n -1.48069888e-01 -1.31581023e-01 -5.24177432e-01 -5.31853795e-01\n -7.50983059e-02 -1.70366839e-01 -1.91262245e-01 -1.56537443e-02\n  2.75406480e-01 -5.23030698e-01  2.75640279e-01 -9.81015861e-02\n  1.57395527e-01 -1.07376769e-01 -1.47071600e-01  3.31857443e-01\n  1.78876311e-01 -3.43309760e-01 -5.65962419e-02 -9.94176865e-02\n  1.48752347e-01  1.25931501e-02 -1.99863291e+00  2.23077506e-01\n -5.29159755e-02  6.84208751e-01  2.71324851e-02  6.96609735e-01\n -1.60760164e-01  1.85817227e-01 -5.46431899e-01  3.30293149e-01\n  5.68638027e-01 -3.00611258e-01  6.79062247e-01 -1.08226299e+00\n -1.51511371e-01  2.22328961e-01  6.50680840e-01  1.63044006e-01\n  2.12879002e-01 -1.53221503e-01 -5.65961152e-02  7.52575696e-02]",
         "7503",
         "87532683",
         "27301548"
        ],
        [
         "21",
         "5264590",
         "Туфли Кумир нарядные",
         "[{'attribute_name': 'Name', 'attribute_value': 'Туфли нарядные для девочки', 'attribute_isaspect': False, 'attribute_showascharacteristic': False}\n {'attribute_name': 'Type', 'attribute_value': 'Туфли', 'attribute_isaspect': False, 'attribute_showascharacteristic': False}\n {'attribute_name': 'Brand', 'attribute_value': 'Кумир', 'attribute_isaspect': False, 'attribute_showascharacteristic': True}\n {'attribute_name': 'Annotation', 'attribute_value': 'Длина стелек:\\xa0\\xa0 р. 25- 17.1 см,\\xa0\\xa0 р. 26-17,6 см,\\xa0\\xa0\\xa0 р. 27-18,1 см,\\xa0\\xa0 \\xa0р. 28-18,6 см,\\xa0\\xa0 \\xa0р. 29-19,1 см,\\xa0\\xa0 \\xa0р. 30-19,6 см,<br/><br/>р. 31-20,1 см, \\xa0\\xa0\\xa0р. 32-20,6 см<br/><br/>\\xa0Нарядные туфли для девочки «КУМИР» превосходный вариант для новогодних праздников, торжественных мероприятий, детских утренников и выпускных вечеров для детей. Материал верха и подкладка выполнены \\xa0из искусственной кожи, которая обладает теми же свойствами, что и натуральная. Анатомическая \\xa0стелька из натуральной кожи обеспечивает комфорт стопе и создают оптимальный микроклимат в течение длительного времени. Удобная застежка на липучках позволяет отрегулировать полноту по собственным параметрам и надежно зафиксировать обувь на стопе. Подошва из термопластичной резины модная и \\xa0легкая. Модели праздничных туфель представлены на изящном каблучке и с круглым носом.\\xa0 Для маленьких модниц на\\xa0 выбор \\xa0туфли\\xa0 со стразами, с бантом, с бабочкой, блестящие, белые, серебристые или \\xa0розовые.', 'attribute_isaspect': False, 'attribute_showascharacteristic': True}\n {'attribute_name': 'ColorBase', 'attribute_value': 'белый', 'attribute_isaspect': True, 'attribute_showascharacteristic': True}\n {'attribute_name': 'ColorName', 'attribute_value': 'белый жемчужный', 'attribute_isaspect': True, 'attribute_showascharacteristic': True}\n {'attribute_name': 'RussianSizeShoes', 'attribute_value': '27', 'attribute_isaspect': True, 'attribute_showascharacteristic': True}\n {'attribute_name': 'SexMaster', 'attribute_value': 'Девочки', 'attribute_isaspect': False, 'attribute_showascharacteristic': True}\n {'attribute_name': 'Material', 'attribute_value': 'Искусственная кожа', 'attribute_isaspect': False, 'attribute_showascharacteristic': True}\n {'attribute_name': 'MainShoesMaterial', 'attribute_value': 'Искусственная кожа', 'attribute_isaspect': False, 'attribute_showascharacteristic': True}\n {'attribute_name': 'InnerMaterial', 'attribute_value': 'Искусственная кожа', 'attribute_isaspect': False, 'attribute_showascharacteristic': True}\n {'attribute_name': 'SoleMaterial', 'attribute_value': 'Термопластичная резина (ТПР)', 'attribute_isaspect': False, 'attribute_showascharacteristic': True}\n {'attribute_name': 'StyleApparel', 'attribute_value': 'Вечерний/праздничный', 'attribute_isaspect': False, 'attribute_showascharacteristic': False}\n {'attribute_name': 'Season', 'attribute_value': 'На любой сезон', 'attribute_isaspect': False, 'attribute_showascharacteristic': True}\n {'attribute_name': 'ShoeFastening', 'attribute_value': 'Липучки', 'attribute_isaspect': False, 'attribute_showascharacteristic': True}\n {'attribute_name': 'DetailsClothes', 'attribute_value': 'Броши', 'attribute_isaspect': False, 'attribute_showascharacteristic': True}\n {'attribute_name': 'ShoeFit', 'attribute_value': 'Нормальная', 'attribute_isaspect': False, 'attribute_showascharacteristic': True}\n {'attribute_name': 'SizeGrid', 'attribute_value': 'Универсальная размерная сетка: детская обувь', 'attribute_isaspect': False, 'attribute_showascharacteristic': False}\n {'attribute_name': 'AgeO', 'attribute_value': 'Детская', 'attribute_isaspect': False, 'attribute_showascharacteristic': True}\n {'attribute_name': 'ColorBase_Forfilter', 'attribute_value': 'Белый', 'attribute_isaspect': False, 'attribute_showascharacteristic': False}]",
         "[ 3.76147598e-01  2.89072275e-01 -7.34099030e-01  5.83154202e-01\n -3.27153131e-02 -1.78164348e-01  3.06647092e-01  5.01189351e-01\n  7.31954694e-01  5.37489712e-01 -1.87730074e-01 -1.98775172e-01\n -1.96414828e-01 -1.98111191e-01  5.40105522e-01  2.27783322e-02\n -9.35803235e-01  2.98651308e-01  6.03389442e-02  5.35070121e-01\n  7.18687326e-02 -2.40449771e-01 -7.65466690e-03 -5.42614877e-01\n -3.58836025e-01 -9.16547179e-01  5.30543387e-01 -1.56405523e-01\n -5.20075560e-01  8.65920067e-01 -1.86225116e-01  1.35020465e-01\n -5.36852479e-01  1.93786502e-01 -1.30126745e-01  7.32546329e-01\n  7.48592854e-01  5.10171115e-01  4.28773820e-01 -1.05180383e-01\n -4.42691535e-01 -3.78433466e-02  1.56477198e-01  2.55688965e-01\n  1.54301971e-01 -2.31756084e-03 -1.78503752e-01  3.15335631e-01\n  4.75799263e-01  2.30927736e-01  1.40223861e-01  1.43074527e-01\n  2.67891943e-01  2.79311419e-01 -1.06882119e+00  8.27266574e-02\n -2.18004003e-01  3.63273263e-01 -5.68998754e-01 -2.81485498e-01\n  7.71112025e-01  2.93810815e-01  1.06096357e-01  5.44029057e-01\n -6.96923852e-01 -1.69107065e-01 -3.16833615e-01  1.35458958e+00\n -4.12812263e-01  1.72917247e-02 -6.63497388e-01  4.82975930e-01\n  8.50241631e-02  1.38229281e-02  6.05299354e-01  1.19888172e-01\n -4.10447091e-01  2.84084648e-01  7.60659218e-01  2.99678653e-01\n -2.47963935e-01 -5.24781048e-02 -7.23801732e-01  4.41260695e-01\n  2.31290996e-01  3.28383058e-01 -3.16339284e-02  3.33430409e-01\n  6.07686877e-01  2.37601399e-01  4.85072434e-02  3.17003369e-01\n  2.01804802e-01  3.87467027e-01  2.58939713e-01 -6.39142096e-02\n  3.01552713e-01  3.35266739e-01  3.24252367e-01 -3.96757901e-01\n -3.70786041e-01  7.08165109e-01 -8.85760710e-02  4.81505126e-01\n  2.85030723e-01  4.08294439e-01 -5.06756723e-01  1.48079216e-01\n -6.88159466e-03  1.94294304e-01 -1.96404070e-01  2.10405812e-02\n  1.41688153e-01  1.20751485e-01  5.72674274e-01 -3.32142770e-01\n -9.42923874e-03  1.94604844e-02 -1.76752269e-01 -1.94434851e-01\n  5.41032553e-02 -5.79052195e-02 -1.87621504e-01 -1.32776827e-01\n -2.39665031e-01  5.80989718e-01  1.69910818e-01 -1.91423565e-01\n -4.69268739e-01  4.07686561e-01  4.67082560e-02 -1.48872241e-01\n  5.21369994e-01 -9.86760497e-01  3.13829780e-01 -2.66206861e-02\n -2.41310596e-01  3.49382311e-01  2.36262992e-01  8.39382470e-01\n -3.05972159e-01 -4.44814682e-01  2.81383336e-01 -3.71245265e-01\n  1.34945452e-01  8.30844790e-02 -3.41311991e-01  3.22238475e-01\n  7.14357972e-01  1.90563083e-01  4.21890557e-01 -2.73402095e-01\n  2.79711866e+00 -2.26849839e-02 -4.37803805e-01  3.51494014e-01\n  2.12586373e-02  3.41296226e-01 -6.50049821e-02  6.23537242e-01\n  2.87846625e-02  3.94738168e-02  8.95338356e-02  7.92283565e-03\n  2.77064145e-02  3.37455660e-01 -1.52530670e-01  1.46647596e+00\n  1.88603014e-01  3.81212592e-01  4.01870877e-01 -1.72621965e-01\n  3.89489353e-01  3.81693006e-01 -3.71705770e-01  3.85177165e-01\n -1.84869573e-01  3.63853127e-01 -1.04165530e+00  3.27761322e-01\n -5.21557778e-02 -1.83599055e-01 -7.50528052e-02 -6.20805621e-02\n  2.30013818e-01  1.27873212e-01  1.39441729e-01  1.91165462e-01\n  4.46201354e-01  2.60532618e-01  1.02794468e-02  1.92986393e+00\n -4.23901975e-02 -6.15350008e-01  3.65493745e-01  1.67391837e-01\n -3.42861712e-01  3.61607850e-01 -2.43945092e-01  3.31293434e-01\n  2.28437334e-02 -2.55927145e-02  6.98373914e-02  2.15152398e-01\n -1.13545567e-01  2.98585773e-01  9.80016112e-01  2.88612783e-01\n  1.60997197e-01  1.70361057e-01 -2.08167210e-01 -1.93096831e-01\n  1.37276739e-01  1.28461942e-02 -2.27632672e-01  1.04723960e-01\n  1.19411841e-01 -1.10157803e-01  5.33957705e-02  4.28779960e-01\n -1.52586490e-01  1.99630201e-01 -4.12779361e-01 -2.69839823e-01\n -5.40831327e-01  2.38027513e-01  7.56360292e-01 -1.36349186e-01\n -3.84733915e-01  6.26180708e-01  4.27521020e-02 -2.53025591e-01\n  2.09964767e-01  6.11301064e-01  3.95848066e-01  4.49730068e-01\n  3.31442446e-01  8.65193605e-02  3.91098469e-01 -2.28956655e-01\n -3.86819959e-01 -1.46330088e-01  2.37600565e-01 -8.94522786e-01\n -1.00942552e-01 -4.90364164e-01  3.88270080e-01  9.78020668e-01\n -8.86720717e-02 -5.36641598e-01  1.35828480e-01  2.02225253e-01\n -4.51468229e-02 -6.63547456e-01 -9.89416718e-01  4.00753096e-02\n -5.63416064e-01 -2.67258346e-01  2.82831073e-01  1.67087540e-01\n -8.10303837e-02 -2.98798412e-01  2.58012652e-01  1.31900102e-01\n  2.31484815e-01 -4.97624695e-01 -1.63255706e-01  5.82700446e-02\n -4.41588908e-01 -1.09428674e-01  9.60296765e-02  2.45689228e-01\n -2.26934880e-01  5.20854443e-02  7.70838261e-02 -2.06433088e-01\n  1.68942511e-01 -6.62031770e-01  2.84126937e-01  6.51605308e-01\n -5.68339899e-02 -4.21871513e-01 -1.72560483e-01 -5.18919706e-01\n  8.85360390e-02 -1.66214108e-01  4.76920784e-01 -1.86372757e-01\n -1.01552047e-02 -3.55140790e-02  2.73361206e-01  4.67466176e-01\n  2.51968473e-01 -5.54274738e-01 -7.59242177e-02  3.84887725e-01\n  2.99449652e-01  4.34642106e-01 -2.54483372e-01 -4.90582958e-02\n -7.00705111e-01  2.32476324e-01  1.63237870e-01 -2.81450093e-01\n -1.45123571e-01  4.01845127e-01 -4.75471407e-01 -2.80969834e+00\n -1.30190745e-01  4.95819092e-01 -1.37243122e-01  1.58262268e-01\n -5.47367215e-01 -3.37734520e-01  9.70022455e-02  5.64733520e-02\n -2.99781710e-01  3.83857936e-01  4.63915728e-02 -3.67377639e-01\n  5.10675088e-02  2.03913078e-01 -1.60852417e-01  6.75398111e-02\n  1.26398540e+00  1.22179538e-02 -4.22520936e-01 -2.30548605e-02\n -2.66428739e-02 -7.54937887e-01  6.48821533e-01  2.65692025e-02\n  2.99080133e-01  3.39445859e-01  1.31470889e-01 -3.12598705e-01\n  8.06598186e-01 -4.02448893e-01  1.94081143e-01 -1.24220990e-01\n -3.69066298e-01 -1.79503724e-01  3.66243362e-01 -6.43269777e-01\n -1.72330469e-01 -2.83955663e-01 -9.17944610e-02  4.30966944e-01\n -1.77589500e+00 -4.90122020e-01  1.12130523e+00 -2.98104018e-01\n  3.72719616e-02 -6.90549687e-02 -5.84733248e-01  3.83893907e-01\n  3.43848944e-01 -2.96640933e-01 -2.63492584e-01  3.07844728e-01\n  1.22026496e-01  1.67338699e-01  2.27586031e-01 -4.78220403e-01\n  7.76332170e-02  3.13836545e-01  7.36614525e-01  2.19368279e-01\n  1.72703683e-01  4.47397053e-01  2.73186475e-01  7.19397306e-01\n -1.63934857e-01 -6.89749494e-02 -6.76835924e-02  1.19260538e+00\n  1.40318021e-01  3.75261486e-01  2.99363971e-01  2.51881063e-01\n -6.21839762e-01  1.89012751e-01 -4.95398641e-02 -2.61175424e-01\n  1.25937656e-01  1.62646818e+00  6.95490837e-01  4.05547440e-01\n -6.96667433e-02  2.98781544e-02  6.86565712e-02 -4.75029975e-01\n -4.16599691e-01  1.19727349e+00  4.73654628e-01 -6.31996915e-02\n -7.46015668e-01  6.92208529e-01  2.62429088e-01  3.23848665e-01\n -4.00524378e-01  9.82695967e-02  3.36205900e-01 -6.63014889e-01\n -3.07621807e-02 -2.59543061e-01 -1.33290142e-01 -7.04642162e-02\n -5.15256286e-01  3.83557826e-01  1.14755660e-01  3.75450730e-01\n  7.81421542e-01  1.76551551e-01 -2.69219041e-01 -8.27865377e-02\n -2.30839893e-01 -9.01438296e-01 -5.64630032e-02 -3.19644779e-01\n  1.82433501e-01 -5.50703049e-01  5.09116948e-01 -1.29079551e-01\n  3.64055395e-01  2.77592719e-01 -1.87554345e-01 -1.92460507e-01\n  1.01323217e-01  5.74100137e-01  1.28420353e-01  1.50118828e+00\n -1.49247617e-01 -1.93183124e-01 -3.87219489e-01 -1.49805605e-01\n  1.76281750e-01  2.52945065e-01 -2.64169216e-01  1.56807035e-01\n -4.10274267e-01  2.03389496e-01 -1.84530497e-01 -7.64602795e-02\n -4.70463112e-02  9.48778987e-02  3.44484411e-02 -3.17490548e-01\n  5.68621814e-01  5.73626637e-01 -3.46136004e-01  1.21712938e-01\n  2.72669911e-01  5.96841276e-02  1.61117405e-01 -9.73035753e-01\n -7.14293480e-01 -2.37466246e-01  6.11056536e-02 -3.39922994e-01\n -1.90669864e-01  6.57749414e-01 -3.28570545e-01  2.58832946e-02\n  4.14639086e-01 -3.05197120e-01  2.08261132e-01  8.02308738e-01\n  8.77341628e-01  5.55043817e-01 -3.90347987e-02  3.30292135e-01\n -2.75915325e-01 -2.75061011e-01 -1.86180800e-01  1.62017691e+00\n  9.14288610e-02  2.54943818e-01  5.81944823e-01  3.07837784e-01\n -4.56054807e-02  1.51018649e-02 -4.64321107e-01  2.80278623e-01\n -5.37635922e-01  1.56040981e-01 -3.44717503e-02  2.98791349e-01\n -1.93888992e-01 -8.07471991e-01 -1.70577681e+00 -3.76388431e-02\n  6.58989966e-01 -7.31809139e-02 -6.46639168e-02 -3.84032279e-02\n  1.88793659e-01 -3.46739829e-01 -4.35819030e-01 -2.32793435e-01\n  3.06171834e-01 -2.92198300e-01 -2.06170082e-02 -1.45248592e-01\n -5.18481791e-01 -8.58410969e-02  8.02386850e-02  3.30209613e-01\n  3.64955604e-01  1.65083587e-01 -1.88187927e-01 -6.69929534e-02]",
         "36517",
         "51227569",
         "35655498"
        ],
        [
         "22",
         "5467066",
         "Куртка ЛАСТОЧКА",
         "[{'attribute_name': 'Type', 'attribute_value': 'Куртка', 'attribute_isaspect': False, 'attribute_showascharacteristic': True}\n {'attribute_name': 'Brand', 'attribute_value': 'ЛАСТОЧКА', 'attribute_isaspect': False, 'attribute_showascharacteristic': True}\n {'attribute_name': 'Annotation', 'attribute_value': 'Женская демисезонная куртка модели 2023 года - идеальный выбор для стильных и модных образов в переходный сезон. Эта куртка сочетает в себе высокое качество и функциональность. Она обеспечивает комфорт и защиту благодаря утеплителю, который сохраняет тепло даже в прохладную погоду. Куртка легкая и практичная, идеально подходит для повседневного использования. У нее есть удобные карманы, где можно хранить мелочи. Стильный дизайн и трендовая модель позволяют выразить свою индивидуальность. Эта женская демисезонная куртка является надежным и стильным выбором для создания уникальных образов в переходный сезон.Капюшон  отстегивается, верх 2 кармана, внутри 1 карман. </br></br>Параметры размеров</br></br>Размер  58 RU / 60:  Длина по спине 96 см, ширина плеч 47 см, длина рукава 64 см, о/груди 124 см, о/талии 124 см, о/бедер 134 см.</br>Размер  60 RU / 62:  Длина по спине 97 см, ширина плеч 48 см, длина рукава 65 см, о/груди 128 см, о/талии 128 см, о/бедер 138 см.</br>Размер  62 RU / 64:  Длина по спине 98 см, ширина плеч 48 см, длина рукава 65 см, о/груди 132 см, о/талии 132 см, о/бедер 142 см.</br>Размер  64 RU / 66:  Длина по спине 99 см, ширина плеч 49 см, длина рукава 66 см, о/груди 136 см, о/талии 136 см, о/бедер 146 см.</br>Размер  66 RU / 68:  Длина по спине 100 см, ширина плеч 49 см, длина рукава 66 см, о/груди 140 см, о/талии 140 см, о/бедер 150 см.</br>Размер  68 RU / 70:  Длина по спине 101 см, ширина плеч 50 см, длина рукава 67 см, о/груди 144 см, о/талии 144 см, о/бедер 154 см.</br>', 'attribute_isaspect': False, 'attribute_showascharacteristic': True}\n {'attribute_name': 'AgeO', 'attribute_value': 'Взрослая', 'attribute_isaspect': False, 'attribute_showascharacteristic': False}\n {'attribute_name': 'ColorBase', 'attribute_value': 'синий', 'attribute_isaspect': True, 'attribute_showascharacteristic': True}\n {'attribute_name': 'ColorBase', 'attribute_value': 'серый', 'attribute_isaspect': True, 'attribute_showascharacteristic': True}\n {'attribute_name': 'RussianSizeClothes', 'attribute_value': '62', 'attribute_isaspect': True, 'attribute_showascharacteristic': True}\n {'attribute_name': 'SizeManufacturer', 'attribute_value': '64', 'attribute_isaspect': True, 'attribute_showascharacteristic': True}\n {'attribute_name': 'SizeM', 'attribute_value': '60', 'attribute_isaspect': False, 'attribute_showascharacteristic': True}\n {'attribute_name': 'SexMaster', 'attribute_value': 'Женский', 'attribute_isaspect': False, 'attribute_showascharacteristic': True}\n {'attribute_name': 'HeightM', 'attribute_value': '165 см', 'attribute_isaspect': False, 'attribute_showascharacteristic': True}\n {'attribute_name': 'SizeGrid', 'attribute_value': 'Универсальная размерная сетка: Женская одежда', 'attribute_isaspect': False, 'attribute_showascharacteristic': False}\n {'attribute_name': 'Material', 'attribute_value': 'Полиэстер', 'attribute_isaspect': False, 'attribute_showascharacteristic': True}\n {'attribute_name': 'Composition', 'attribute_value': 'Полиэстер 100%', 'attribute_isaspect': False, 'attribute_showascharacteristic': True}\n {'attribute_name': 'InnerMaterial', 'attribute_value': 'Полиэстер', 'attribute_isaspect': False, 'attribute_showascharacteristic': True}\n {'attribute_name': 'StyleApparel', 'attribute_value': 'Повседневный', 'attribute_isaspect': False, 'attribute_showascharacteristic': True}\n {'attribute_name': 'StyleApparel', 'attribute_value': 'Офисный/школьный', 'attribute_isaspect': False, 'attribute_showascharacteristic': True}\n {'attribute_name': 'Season', 'attribute_value': 'Демисезон', 'attribute_isaspect': False, 'attribute_showascharacteristic': True}\n {'attribute_name': 'clothescut', 'attribute_value': 'прямой', 'attribute_isaspect': False, 'attribute_showascharacteristic': True}\n {'attribute_name': 'DetailsClothes', 'attribute_value': 'Капюшон', 'attribute_isaspect': False, 'attribute_showascharacteristic': True}\n {'attribute_name': 'DetailsClothes', 'attribute_value': 'Карманы', 'attribute_isaspect': False, 'attribute_showascharacteristic': True}\n {'attribute_name': 'SleeveLength', 'attribute_value': 'Длинный', 'attribute_isaspect': False, 'attribute_showascharacteristic': True}\n {'attribute_name': 'FilterSizeINT', 'attribute_value': '4XL', 'attribute_isaspect': False, 'attribute_showascharacteristic': False}\n {'attribute_name': 'DressLength', 'attribute_value': 'до колена', 'attribute_isaspect': False, 'attribute_showascharacteristic': True}\n {'attribute_name': 'Name', 'attribute_value': 'Куртка женская / женская демисезонная куртка', 'attribute_isaspect': False, 'attribute_showascharacteristic': False}\n {'attribute_name': 'NumItemsDcml', 'attribute_value': '1', 'attribute_isaspect': False, 'attribute_showascharacteristic': False}\n {'attribute_name': 'ColorBase_Forfilter', 'attribute_value': 'Синий', 'attribute_isaspect': False, 'attribute_showascharacteristic': False}\n {'attribute_name': 'ColorBase_Forfilter', 'attribute_value': 'Серый', 'attribute_isaspect': False, 'attribute_showascharacteristic': False}]",
         "[ 1.59178779e-01 -5.33289075e-01  5.60030937e-01  2.34767452e-01\n -2.88366735e-01 -4.53887165e-01  3.94619584e-01 -2.23646194e-01\n  2.30818734e-01  1.19033918e-01 -3.40718389e-01  1.87510774e-01\n -9.17575508e-02 -3.20724010e-01 -6.51617721e-02 -2.93358743e-01\n -1.07602763e+00 -6.99943662e-01 -1.48177326e-01 -6.09187245e-01\n -2.06601731e-02  1.75858885e-02 -1.30986065e-01  1.08034983e-01\n  1.79104403e-01 -3.63716632e-01 -3.11684817e-01 -6.90571427e-01\n -1.81447610e-01  3.09343398e-01  2.43715391e-01  4.32221889e-01\n -3.33978683e-01  5.06772995e-02  3.39789927e-01  5.38572311e-01\n -1.74531132e-01  4.67798650e-01 -2.41257966e-01  4.25297618e-02\n  1.80685163e-01  6.33662820e-01  2.62770474e-01  3.07797998e-01\n  3.30867410e-01  5.15834808e-01 -3.85591030e-01  6.40573621e-01\n  8.28286260e-03  1.53815627e-01  1.69696227e-01 -3.83076251e-01\n  6.44994229e-02  2.23706275e-01  8.24824274e-01  3.11034024e-01\n -3.01900893e-01 -1.85159534e-01 -5.13624728e-01  4.58356254e-02\n  2.63894171e-01  2.02035502e-01  1.56109512e-01  1.36750042e-01\n -4.91403252e-01 -1.61482692e-01  1.55088529e-01  3.83234978e-01\n -5.87065667e-02  2.77207077e-01 -6.26076937e-01  5.57339311e-01\n  2.62530327e-01 -4.52448219e-01  2.88506150e-01 -5.87877512e-01\n  1.04839824e-01  5.24868906e-01  3.12892407e-01  2.37420946e-02\n -2.65082181e-01 -4.88578737e-01 -5.84132075e-01 -7.31425211e-02\n  6.94341540e-01  1.39782690e-02  3.82233888e-01  2.18595147e-01\n -5.71052015e-01 -4.42208707e-01  7.36986101e-02 -1.59585744e-01\n  1.55449331e-01  2.95980543e-01  1.33162975e-01 -3.37707043e-01\n  3.58427823e-01  2.94649661e-01  4.16991204e-01 -6.35845810e-02\n -4.38296765e-01  2.65442014e-01  7.83395410e-01  1.14190817e-01\n  5.70281625e-01 -1.83396891e-01 -2.27678686e-01 -8.01766634e-01\n -4.58592325e-01  1.35284960e-02 -9.27698851e-01 -2.88702488e-01\n  2.00288296e-02  3.84685218e-01  2.63628066e-01  3.60436440e-02\n  7.66718745e-01 -3.61768842e-01  2.05707297e-01  4.82716024e-01\n -4.12589163e-01  1.21919513e-02  6.82344317e-01  4.27117884e-01\n -1.46130711e-01  5.14375329e-01 -6.14461899e-01 -1.89724624e-01\n  1.35504246e-01  3.88851136e-01  1.27462506e-01  2.67991334e-01\n  5.06652176e-01 -6.57523870e-01  8.79662931e-02 -2.87049830e-01\n  3.52522373e-01 -1.69382349e-01 -4.72498000e-01  4.70877588e-01\n -5.48518658e-01 -5.17363369e-01  3.37118536e-01  3.36223722e-01\n -5.84265590e-03  6.02548957e-01 -4.83693898e-01 -3.74457300e-01\n  4.04031873e-01  2.70637780e-01  3.20750266e-01  7.37083077e-01\n  3.29009414e+00 -6.46009743e-02 -7.60590672e-01  1.20194435e-01\n  1.86736107e-01 -3.98155987e-01  1.53581679e-01  3.66359085e-01\n -4.54026371e-01 -2.78656602e-01  9.67919677e-02  1.00915539e+00\n -1.10277690e-01  6.58531547e-01 -1.11408651e-01 -4.68904018e-01\n  2.32648104e-01  2.69486725e-01  1.17736542e+00  5.21575660e-03\n  5.62126100e-01  8.49525779e-02 -5.28182387e-01 -5.04504442e-02\n  2.77873427e-01  2.54683226e-01 -2.10085416e+00 -6.35705143e-02\n -7.65301585e-01 -6.23594761e-01 -3.02180231e-01  7.54698813e-02\n -3.19288731e-01 -2.58720696e-01 -4.72729087e-01  2.33804807e-01\n -3.54285419e-01 -2.85044342e-01  1.61353350e-02  8.17233324e-01\n  5.64620376e-01 -1.86643839e-01  1.19919002e-01 -4.16787446e-01\n  1.87592968e-01  1.32914186e-01 -3.79010737e-01 -3.12875211e-01\n  1.14885569e+00 -6.63175941e-01 -2.11347774e-01  8.41931030e-02\n  2.31812060e-01  1.93173155e-01 -2.10275650e-02 -8.91906023e-03\n -2.18463540e-02 -7.43148550e-02 -2.08041281e-01 -7.19580576e-02\n  3.95515636e-02 -1.50175899e-01 -1.27946407e-01  3.04006398e-01\n  4.65745032e-02 -8.31001997e-02  2.72450387e-01  1.31963027e+00\n -2.95003325e-01 -6.30018190e-02 -4.04140800e-01 -9.94384885e-02\n -9.52973962e-04  1.01803675e-01  7.85123408e-02  3.63497764e-01\n -4.12843108e-01  2.50682235e-02  4.00386125e-01 -7.19638318e-02\n  6.89714849e-01  6.64421558e-01 -1.49235219e-01 -3.48581553e-01\n -4.81861711e-01  2.37675279e-01  4.58753049e-01 -2.21657753e-01\n -4.84574318e-01 -4.39432561e-01 -7.36433566e-02 -1.08654514e-01\n -3.68119955e-01 -2.65922636e-01 -2.53290713e-01 -2.03758717e-01\n -1.87598467e-02  8.78919125e-01 -1.48038492e-02 -4.98431563e-01\n  4.03484941e-01 -6.26309633e-01  6.69466928e-02  5.24779677e-01\n -1.14584434e+00  3.36859852e-01  3.54911089e-02  1.27042174e-01\n  3.18523496e-01 -4.62065041e-02 -3.88442159e-01 -5.16351521e-01\n  1.90685898e-01 -7.35266283e-02 -1.75078690e-01 -5.78235090e-02\n -3.37069899e-01 -3.12192589e-01  3.82404089e-01  1.09863147e-01\n  2.66636163e-03  6.61496297e-02 -3.45299482e-01 -1.44901708e-01\n  2.21038520e-01  8.44670460e-02 -1.75900325e-01  1.07759571e+00\n -3.74142826e-02  6.03127897e-01 -2.19578221e-01  3.59056383e-01\n -8.53876352e-01 -4.93183285e-01  1.91203773e-01  3.62594426e-01\n  1.05406657e-01 -4.33966309e-01  1.58926830e-01 -7.70554990e-02\n  2.31384218e-01  3.33696067e-01 -2.08512262e-01  2.97101140e-01\n  5.59037864e-01 -3.01191568e-01  2.03866839e-01 -2.34215468e-01\n  4.55780625e-01 -3.56070459e-01 -2.65020669e-01  5.99850416e-01\n -9.23491180e-01  4.34166014e-01 -4.09316540e-01 -3.28819323e+00\n -1.47123769e-01 -1.23086065e-01  3.76898736e-01 -5.15891612e-01\n  5.50260186e-01 -3.88954282e-02  3.41798663e-02 -4.93795156e-01\n  2.15053707e-01  3.73528987e-01 -7.34678149e-01 -2.28265524e-01\n -6.35210514e-01  4.24044251e-01 -2.38564134e-01  8.69048059e-01\n -5.42461276e-01 -1.80431455e-02  5.34436822e-01  1.86026424e-01\n -9.18787718e-03  1.84125751e-01  1.82908401e-02 -1.77172631e-01\n -1.23405702e-01  3.80547404e-01  1.11050561e-01 -6.34922534e-02\n  6.22153044e-01 -2.85621762e-01  1.01611301e-01  4.84909296e-01\n  7.30610192e-02 -6.34283572e-02 -3.91412452e-02 -2.92950302e-01\n -4.04515862e-02 -1.83018446e-02 -1.40401214e-01  7.55904913e-01\n -1.86846757e+00  4.99376744e-01 -2.15370417e-01 -6.42889917e-01\n  1.08846933e-01  2.23446667e-01 -3.68675560e-01  1.00634433e-01\n -5.13404012e-01  1.83784366e-02  1.78755105e-01 -7.74744451e-02\n  5.58207154e-01  1.24697581e-01  3.99407029e-01 -1.64709419e-01\n -4.69545484e-01 -3.99719477e-02  6.02500141e-03  2.50788480e-01\n -2.36084908e-01  4.74605978e-01  1.84490472e-01  1.23873807e-01\n -1.13660112e-01 -1.55529723e-01  1.93575025e-01  2.44183347e-01\n -3.03545296e-01 -7.57189393e-02  5.04299104e-01  4.30982172e-01\n -2.65075415e-02  9.29529741e-02  1.90502614e-01 -1.14586383e-01\n -1.33979052e-01  1.36931705e+00  1.66434363e-01  3.99861857e-02\n -2.36974061e-01  3.76883477e-01 -3.80621791e-01 -2.34721884e-01\n  1.26068026e-01  1.79837018e-01  3.61281514e-01 -4.28786576e-01\n -7.77371466e-01  3.27546179e-01 -4.60321307e-01  1.55973583e-02\n -3.11361015e-01  1.77761748e-01 -4.43694562e-01 -6.72747672e-01\n  4.72655177e-01  3.81283402e-01  5.24956465e-01  1.53270692e-01\n  4.51429188e-02  8.11758637e-03 -1.84865132e-01 -1.19804740e-01\n  1.34903848e-01  3.17622095e-01  5.09786487e-01  2.30644256e-01\n -2.89560616e-01 -1.82470009e-01 -5.16765237e-01  8.80167484e-02\n  4.07906026e-02 -1.85027853e-01 -9.52505708e-01 -3.97364050e-03\n  7.35379398e-01 -3.00668180e-01  3.34122092e-01  1.56014577e-01\n  3.00063729e-01 -6.54261231e-01 -8.96920413e-02  1.63553035e+00\n -2.52315760e-01  2.68791676e-01  1.29124343e-01  3.33889753e-01\n -2.32283920e-02  5.95105886e-02  3.09082717e-01 -3.40169966e-01\n  4.15551245e-01  3.15077454e-02  2.83759177e-01  7.08804190e-01\n -3.93707663e-01  4.27932769e-01 -3.85290682e-01  1.53852046e-01\n -2.07186282e-01 -2.14139611e-01  1.70634568e-01 -2.34992638e-01\n -7.09923208e-02 -2.06722870e-01 -1.18903905e-01 -1.91041386e+00\n -1.37724370e-01 -4.75381315e-03 -5.61434329e-02 -3.12811315e-01\n -2.06566513e-01  1.74715996e-01 -3.79805088e-01  5.07584929e-01\n -1.07622117e-01  3.79444510e-02  1.21396244e-01  5.80814481e-01\n  2.23170757e-01 -2.38538951e-01  9.77480412e-03 -4.35607910e-01\n -1.00423880e-01  5.33749759e-01  1.29928410e-01  1.37823129e+00\n  3.38039696e-01  1.54015988e-01 -7.62619972e-02  1.39523685e-01\n  3.93126249e-01 -7.44338334e-03 -7.70115554e-01 -5.09688258e-03\n  7.48301744e-02 -8.03372264e-03  2.44056284e-01  1.54875368e-01\n -1.12057185e+00  3.23173225e-01 -2.89537668e-01  4.66841549e-01\n  5.43558359e-01 -4.22971249e-02 -2.77175456e-02  1.97201446e-01\n -8.39747190e-02  2.08075568e-01 -3.39892954e-01  5.71621776e-01\n -1.77381605e-01  3.88913155e-01  3.42047244e-01 -1.86816096e-01\n -1.30060494e-01  1.37942225e-01 -2.99189866e-01 -5.11721849e-01\n -1.00185990e-01 -3.35910499e-01  2.89505154e-01 -2.72951066e-01]",
         "7530",
         "23330327",
         "12682671"
        ],
        [
         "23",
         "5503565",
         "Джемпер U.S. POLO ASSN.",
         "[{'attribute_name': 'Type', 'attribute_value': 'Джемпер', 'attribute_isaspect': False, 'attribute_showascharacteristic': True}\n {'attribute_name': 'Brand', 'attribute_value': 'U.S. POLO ASSN.', 'attribute_isaspect': False, 'attribute_showascharacteristic': True}\n {'attribute_name': 'ColorBase', 'attribute_value': 'светло-бежевый', 'attribute_isaspect': True, 'attribute_showascharacteristic': True}\n {'attribute_name': 'RussianSizeClothes', 'attribute_value': '52', 'attribute_isaspect': True, 'attribute_showascharacteristic': True}\n {'attribute_name': 'SizeManufacturer', 'attribute_value': 'XL', 'attribute_isaspect': True, 'attribute_showascharacteristic': True}\n {'attribute_name': 'SexMaster', 'attribute_value': 'Мужской', 'attribute_isaspect': False, 'attribute_showascharacteristic': True}\n {'attribute_name': 'SizeGrid', 'attribute_value': 'Универсальная размерная сетка: мужская одежда', 'attribute_isaspect': False, 'attribute_showascharacteristic': False}\n {'attribute_name': 'Material', 'attribute_value': 'Акрил', 'attribute_isaspect': False, 'attribute_showascharacteristic': True}\n {'attribute_name': 'Material', 'attribute_value': 'Хлопок', 'attribute_isaspect': False, 'attribute_showascharacteristic': True}\n {'attribute_name': 'Composition', 'attribute_value': '50% акрил, 50% хлопок', 'attribute_isaspect': False, 'attribute_showascharacteristic': True}\n {'attribute_name': 'StyleApparel', 'attribute_value': 'Повседневный', 'attribute_isaspect': False, 'attribute_showascharacteristic': True}\n {'attribute_name': 'Season', 'attribute_value': 'Демисезон', 'attribute_isaspect': False, 'attribute_showascharacteristic': True}\n {'attribute_name': 'clothescut', 'attribute_value': 'приталенный', 'attribute_isaspect': False, 'attribute_showascharacteristic': True}\n {'attribute_name': 'SleeveLength', 'attribute_value': 'Длинный', 'attribute_isaspect': False, 'attribute_showascharacteristic': True}\n {'attribute_name': 'FilterSizeINT', 'attribute_value': 'XL', 'attribute_isaspect': False, 'attribute_showascharacteristic': False}\n {'attribute_name': 'Name', 'attribute_value': 'Slim Джемпер U.S. POLO ASSN. G081SZ0TK0SASA_E', 'attribute_isaspect': False, 'attribute_showascharacteristic': False}\n {'attribute_name': 'ColorBase_Forfilter', 'attribute_value': 'Бежевый', 'attribute_isaspect': False, 'attribute_showascharacteristic': False}]",
         "[ 4.84380275e-02  2.58012950e-01 -7.14618087e-01  9.88007784e-02\n  5.36188483e-02 -6.53171480e-01 -2.84447461e-01 -5.73876202e-02\n  2.31283739e-01  6.25467777e-01  3.33964378e-01 -8.98836255e-02\n -3.54733169e-01  6.35201335e-01  2.41442159e-01 -3.93154800e-01\n -1.19512761e+00 -4.22939658e-01 -1.48882791e-01 -3.06245834e-02\n  3.17540050e-01 -9.15969789e-01 -2.58705080e-01  6.08399987e-01\n  6.82008341e-02 -4.13474888e-02  2.50655770e-01 -2.54923612e-01\n -3.97742689e-02 -5.41920424e-01 -1.52466342e-01  6.99199960e-02\n  3.88484448e-02  2.33749896e-02  5.07812649e-02 -2.79141590e-02\n  2.22672448e-02  3.69618833e-02  1.38138860e-01 -1.97108790e-01\n -2.41880491e-01 -4.36126202e-01  1.27104372e-02 -3.27881902e-01\n  1.55887812e-01  1.20312907e-01  4.99936581e-01  1.49661675e-01\n -1.02735512e-01  1.13773353e-01  5.33272922e-01  3.89848471e-01\n -1.46274239e-01  4.03880179e-02 -5.30460596e-01  6.07304215e-01\n  3.28087568e-01  1.90292686e-01  4.53738183e-01  6.98838890e-01\n -1.01590347e+00 -4.85242248e-01  3.86782825e-01 -2.06603765e-01\n  4.58791971e-01 -1.95720285e-01  2.10685924e-01  1.50810313e+00\n  1.76826224e-01  3.51232618e-01 -4.85987306e-01  1.05775070e+00\n  1.32764399e-01 -2.13367164e-01  1.91187784e-01 -1.28964752e-01\n  4.63884830e-01  3.59496176e-01  2.14198351e-01 -8.26531723e-02\n  1.61062852e-01 -1.82786763e-01 -9.28250253e-02 -5.06588221e-02\n  9.48090553e-01  1.50686860e-01 -3.32398981e-01 -2.20305547e-01\n -1.49108499e-01 -7.02735186e-01 -1.36709183e-01 -4.39021498e-01\n  3.68514776e-01 -7.77617097e-01  4.20246512e-01  8.38284567e-02\n  1.05056882e-01  4.13097858e-01  4.55241948e-02  2.70319015e-01\n  8.34399015e-02  5.23639560e-01  3.54486257e-01 -1.92522258e-02\n  3.54323655e-01 -4.71640527e-01 -2.33995542e-01 -2.13215500e-01\n  1.97277948e-01  1.55661315e-01 -8.84808898e-01 -2.20151305e-01\n -1.18147701e-01 -1.96022838e-01 -6.85797334e-02 -8.49375129e-02\n -1.48233011e-01  4.96743739e-01  2.46809170e-01  2.94266939e-02\n  3.02678734e-01  4.93007898e-03 -1.35096520e-01 -1.72544852e-01\n  4.37687218e-01 -2.07722276e-01  4.36991125e-01 -1.36626333e-01\n  9.25384685e-02  3.28238428e-01  8.33186507e-03 -3.00490290e-01\n  5.82870841e-03 -1.42271698e-01 -5.06468892e-01  8.50632191e-01\n -1.11094989e-01 -1.74782693e-01  9.41084921e-02  6.65312782e-02\n -2.71986306e-01 -2.60802895e-01  3.24765116e-01  4.75387633e-01\n -8.16366076e-02 -1.32535726e-01 -6.11134291e-01  3.86794686e-01\n -6.43447787e-02 -1.58961207e-01 -4.89602655e-01  1.13756657e-02\n  2.83759451e+00  2.72058368e-01 -7.86323309e-01  2.29308456e-02\n -3.22252601e-01  5.19704163e-01  2.15123057e-01 -2.71998346e-01\n  3.72375995e-01  6.91017985e-01  3.36133361e-01 -3.87807339e-02\n  5.42423904e-01  4.84906256e-01 -5.94492197e-01 -2.96800405e-01\n -2.26575553e-01 -3.76989216e-01  5.81888795e-01  2.12950841e-01\n  2.64840871e-01  1.90573633e-01 -2.52124786e-01 -1.18627167e+00\n  2.95610666e-01  1.42874673e-01 -1.73062658e+00  3.39539051e-02\n  5.92266679e-01 -2.04577506e-01  3.32900882e-02  5.30240163e-02\n -4.10546362e-01  2.01414928e-01  1.59391713e+00 -2.22821757e-02\n -2.32674032e-01 -2.96597749e-01 -7.13476658e-01 -2.61502773e-01\n  5.15409231e-01  3.70825171e-01 -5.42198569e-02  1.41467214e-01\n  7.86665827e-03 -1.82518870e-01 -6.33339763e-01  1.42675593e-01\n  6.23875976e-01  1.66753605e-02  4.08785105e-01  3.38737607e-01\n -1.74585283e-01 -3.12676951e-02  2.77816236e-01 -3.69366914e-01\n -1.78502053e-02 -7.28486031e-02 -1.05770275e-01  5.18930256e-01\n -4.13290635e-02  6.31312251e-01  5.80258191e-01  1.08040348e-01\n  8.73049721e-02  5.02919257e-01  2.25031242e-01 -2.36597806e-01\n  7.35390633e-02  2.46953979e-01 -4.82055247e-02  1.54803336e-01\n -4.05012459e-01  3.38458747e-01 -2.77773619e-01  3.67673814e-01\n -1.88197806e-01 -1.15109622e-01  6.40558898e-01  1.29525870e-01\n  2.20246017e-02  6.02741420e-01 -4.21651155e-01 -6.09313667e-01\n -6.27123863e-02  1.14619300e-01  3.00260901e-01  3.09248030e-01\n  1.89462751e-01  1.92883313e-01  5.89452386e-01  5.80759495e-02\n  9.80554000e-02 -3.92665625e-01 -6.61114812e-01 -9.08713043e-02\n  1.87080801e-01 -3.43785167e-01 -1.18046217e-01 -2.51354456e-01\n  3.91264617e-01 -4.86547530e-01 -1.12760532e+00 -2.24671632e-01\n -7.96769083e-01 -3.75773013e-03  8.46681118e-01  1.17647037e-01\n  1.15333959e-01  6.62301332e-02  6.42070770e-01 -2.38628700e-01\n -1.95444688e-01 -2.07689598e-01 -2.63662666e-01  1.86737254e-01\n -3.40471715e-02  3.85054260e-01 -3.38371456e-01 -4.92102265e-01\n -7.59112835e-03  2.99335837e-01  1.04531005e-01  1.88622430e-01\n  3.29352096e-02 -3.51967961e-02  3.84220272e-01  8.98176908e-01\n  6.62629902e-02 -2.88417220e-01  1.88939184e-01  7.15838730e-01\n -5.51998079e-01 -2.25239068e-01  1.79478556e-01  7.21290171e-01\n -7.64090717e-02 -9.58562791e-02  4.73482072e-01 -1.54658481e-01\n  3.54885161e-02 -7.10894167e-03 -1.01005048e-01  3.53904545e-01\n  2.23691851e-01 -4.73433435e-01  3.22119713e-01  2.85221815e-01\n  1.43204212e+00 -8.90360057e-01  2.92126119e-01 -1.41084164e-01\n  5.24963260e-01 -1.40306532e-01 -7.52235591e-01 -2.83237600e+00\n -4.33738202e-01 -4.02120531e-01 -5.41494787e-01  1.24808796e-01\n  3.59863043e-01  6.92933440e-01  2.46722490e-01  1.05392329e-01\n  1.18043296e-01 -6.42339170e-01 -1.01175070e-01 -8.68509263e-02\n  6.05397224e-01 -3.58148664e-02  2.20798910e-01  9.54277635e-01\n -8.76383662e-01  2.41348296e-01  6.22509122e-01 -1.25037655e-02\n -8.28385472e-01 -3.87975961e-01  2.33008087e-01 -2.87376344e-01\n  2.92169571e-01 -3.21494162e-01  9.74860340e-02  4.68294263e-01\n  2.60570347e-01 -3.49112958e-01 -1.95303708e-02 -1.61190808e-01\n  3.75159323e-01  6.25347018e-01 -7.98964500e-03  1.91109955e-01\n  3.56779277e-01 -3.03491771e-01  3.49999785e-01  1.39722347e-01\n -2.02707839e+00 -4.89976019e-01  1.18762493e-01 -1.51259333e-01\n  1.39452681e-01  9.21180621e-02 -6.80009723e-01  1.33160651e-02\n -6.54877961e-01 -2.98352748e-01  2.04204753e-01 -4.15761888e-01\n  8.90585184e-02 -5.04345536e-01  3.83038461e-01 -6.29721701e-01\n -7.71104455e-01 -4.08771336e-02  6.03135467e-01 -3.83799076e-02\n -2.90969312e-02 -5.45515656e-01  4.27553803e-01 -2.25242645e-01\n -1.44179612e-01  1.99768350e-01 -3.51785272e-01 -5.51206231e-01\n  2.82588333e-01 -1.12978220e-02 -1.15660027e-01 -5.39981246e-01\n  2.40521029e-01  3.07464540e-01 -5.93298376e-01  3.50230560e-02\n -3.04761082e-02  8.08778942e-01  1.08077198e-01  2.25462139e-01\n  2.63809323e-01 -2.46674642e-02  1.93982691e-01 -5.62648892e-01\n  1.81543395e-01 -8.05788711e-02  1.62001401e-02  1.24192417e-01\n -5.31695485e-01 -3.46830070e-01  2.23029345e-01 -8.25717598e-02\n -3.53143275e-01  3.45551491e-01  2.00216368e-01  1.67804956e+00\n  1.34970158e-01  1.51943952e-01 -1.91997617e-01 -1.20324120e-02\n -5.53301156e-01  3.19485605e-01 -9.26854834e-02  4.23331022e-01\n  7.13986754e-01  3.42912078e-01  3.44798654e-01  3.98000270e-01\n -1.16283037e-01  5.32855928e-01  5.06014168e-01  1.81076169e-01\n -3.13923210e-01 -2.69469798e-01 -6.11794829e-01 -3.56132627e-01\n  5.00666738e-01  3.94904792e-01  6.75433576e-02 -7.19699502e-01\n  1.06634974e-01  3.93452197e-02  5.02804518e-01  6.95530772e-01\n -6.18603118e-02  6.09207869e-01  7.55013108e-01 -4.79374468e-01\n -3.79808873e-01 -4.83992845e-02  3.76885951e-01  4.81572688e-01\n -1.93136930e-01  1.46986291e-01  4.35265481e-01 -2.32779071e-01\n  1.80082470e-01  2.00181156e-02 -8.45960379e-01  8.64060700e-01\n -4.95423168e-01  9.07833427e-02  4.19929206e-01  5.61523557e-01\n -1.44087628e-01 -1.01031631e-01  5.46205826e-02 -2.26059645e-01\n -3.53179872e-02 -1.72543466e-01 -5.66610694e-01  6.12237513e-01\n  2.11595178e-01  8.36288333e-02 -5.07119596e-01  2.05599591e-01\n  1.63546711e-01  3.34809631e-01  1.74941763e-01  3.00327629e-01\n  2.34215200e-01  5.76472282e-02 -9.68603373e-01 -5.38432002e-01\n  4.27448213e-01  1.22500271e-01  2.56807208e-01  3.79434705e-01\n  6.16143942e-01 -1.01897486e-01 -1.02441311e-01 -5.65332472e-01\n -6.32812157e-02 -4.86213267e-01 -8.34812224e-02 -2.44230032e-04\n -4.47829962e-01  5.26649356e-02 -4.13802117e-02 -7.71705806e-01\n -5.18953800e-01  7.58108854e-01 -4.47914571e-01 -1.57450080e-01\n  7.90400445e-01 -3.03040624e-01 -2.42562920e-01  8.29400420e-01\n -1.11712843e-01  2.12346315e-01 -1.85097203e-01 -4.62364405e-02\n  1.96376115e-01 -5.03854871e-01  1.34688407e-01 -2.76595831e-01\n  4.90892678e-01  5.10860801e-01  4.43389475e-01  8.85201469e-02\n  4.09024537e-01 -7.10141063e-02  5.87600023e-02 -2.25391954e-01]",
         "7554",
         "159766290",
         "19851355"
        ],
        [
         "24",
         "5780100",
         "Футболка Smail-p роман рома",
         "[{'attribute_name': 'Type', 'attribute_value': 'Футболка', 'attribute_isaspect': False, 'attribute_showascharacteristic': True}\n {'attribute_name': 'Brand', 'attribute_value': 'Smail-p', 'attribute_isaspect': False, 'attribute_showascharacteristic': True}\n {'attribute_name': 'Annotation', 'attribute_value': 'Футболка МикРоман сущ Роман который так и не вырос черная женская и мужская с принтом производится из высококачественного хлопка. Магазин Smail-p предлагает широкий выбор базовых черных и белых футболок оверсайз с разнообразными принтами, как для повседневной носки, так и для особого случая: черная футболка с именем роман рома в подарок, футболка с принтом оверсайз на день рождения, женская футболка с принтом большие размеры, мужская футболка с принтом на 23 февраля, новый год, МикРоман сущ Роман который так и не вырос большие размеры на любой праздник. Наши черные и белые базовые оверсайз футболки, выполнены из 100% хлопка. У нас Вы можете купить: мужские футболки, женские футболки, черные и белые футболки для парней и девушек, черные и белые базовые футболки унисекс. Наша базовая футболка с именем роман рома подойдет в качестве подарка для близкого человека - будь то муж, жена, сын, дочь, брат, сестра, друг или подруга. У нас также есть черные и белые футболки для подростков, МикРоман сущ Роман который так и не вырос  для мальчиков и футболка с именем роман рома  для девочек, футболки с принтом больших размеров. Наша коллекция оверсайз мужских и женских футболок включает в себя множество уникальных авторских принтов, которые позволяют вам выразить свою индивидуальность. Мы понимаем, насколько важно сохранить качество и яркость принта, поэтому используем только передовые технологии печати DTF. Это обеспечивает долговечность каждого принта, даже после многократных стирок. Подписывайтесь на наш магазин, чтобы быть в курсе новинок и акций. У нас вы найдете не только базовую мужскую или женскую футболку своей мечты, но и отличный сервис, который сделает ваш опыт покупки приятным и незабываемым.', 'attribute_isaspect': False, 'attribute_showascharacteristic': True}\n {'attribute_name': 'ColorBase', 'attribute_value': 'черный', 'attribute_isaspect': True, 'attribute_showascharacteristic': True}\n {'attribute_name': 'ColorName', 'attribute_value': 'черный', 'attribute_isaspect': True, 'attribute_showascharacteristic': True}\n {'attribute_name': 'RussianSizeClothes', 'attribute_value': '42', 'attribute_isaspect': True, 'attribute_showascharacteristic': True}\n {'attribute_name': 'SizeManufacturer', 'attribute_value': 'XXS', 'attribute_isaspect': True, 'attribute_showascharacteristic': True}\n {'attribute_name': 'SizeM', 'attribute_value': '48-50', 'attribute_isaspect': False, 'attribute_showascharacteristic': True}\n {'attribute_name': 'SexMaster', 'attribute_value': 'Женский', 'attribute_isaspect': False, 'attribute_showascharacteristic': True}\n {'attribute_name': 'SexMaster', 'attribute_value': 'Мужской', 'attribute_isaspect': False, 'attribute_showascharacteristic': True}\n {'attribute_name': 'HeightM', 'attribute_value': '170 см', 'attribute_isaspect': False, 'attribute_showascharacteristic': True}\n {'attribute_name': 'SizeGrid', 'attribute_value': 'Универсальная размерная сетка: Женская одежда', 'attribute_isaspect': False, 'attribute_showascharacteristic': False}\n {'attribute_name': 'SizeGrid', 'attribute_value': 'Универсальная размерная сетка: мужская одежда', 'attribute_isaspect': False, 'attribute_showascharacteristic': False}\n {'attribute_name': 'Material', 'attribute_value': 'Хлопок', 'attribute_isaspect': False, 'attribute_showascharacteristic': True}\n {'attribute_name': 'Composition', 'attribute_value': '100 % хлопок', 'attribute_isaspect': False, 'attribute_showascharacteristic': True}\n {'attribute_name': 'InnerMaterial', 'attribute_value': 'Без подклада', 'attribute_isaspect': False, 'attribute_showascharacteristic': True}\n {'attribute_name': 'StyleApparel', 'attribute_value': 'Повседневный', 'attribute_isaspect': False, 'attribute_showascharacteristic': True}\n {'attribute_name': 'Season', 'attribute_value': 'На любой сезон', 'attribute_isaspect': False, 'attribute_showascharacteristic': True}\n {'attribute_name': 'clothescut', 'attribute_value': 'оверсайз', 'attribute_isaspect': False, 'attribute_showascharacteristic': True}\n {'attribute_name': 'SleeveLength', 'attribute_value': 'Средний', 'attribute_isaspect': False, 'attribute_showascharacteristic': True}\n {'attribute_name': 'FilterSizeINT', 'attribute_value': 'S', 'attribute_isaspect': False, 'attribute_showascharacteristic': False}\n {'attribute_name': 'NumItemsDcml', 'attribute_value': '1', 'attribute_isaspect': False, 'attribute_showascharacteristic': True}\n {'attribute_name': 'Name', 'attribute_value': 'Футболка с именем Роман Рома', 'attribute_isaspect': False, 'attribute_showascharacteristic': False}\n {'attribute_name': 'TypeSport', 'attribute_value': 'Йога и пилатес', 'attribute_isaspect': False, 'attribute_showascharacteristic': False}\n {'attribute_name': 'TypeSport', 'attribute_value': 'Рыбалка', 'attribute_isaspect': False, 'attribute_showascharacteristic': False}\n {'attribute_name': 'TypeSport', 'attribute_value': 'Фитнес', 'attribute_isaspect': False, 'attribute_showascharacteristic': False}\n {'attribute_name': 'TypeSport', 'attribute_value': 'Туризм', 'attribute_isaspect': False, 'attribute_showascharacteristic': False}\n {'attribute_name': 'TypeSport', 'attribute_value': 'Футбол', 'attribute_isaspect': False, 'attribute_showascharacteristic': False}\n {'attribute_name': 'ColorBase_Forfilter', 'attribute_value': 'Черный', 'attribute_isaspect': False, 'attribute_showascharacteristic': False}]",
         "[ 3.33146155e-01  2.69445539e-01 -3.73028696e-01 -1.85640618e-01\n  3.88169855e-01 -2.03107417e-01  1.55562788e-01 -1.25844181e-02\n -4.57634419e-01  3.29978973e-01 -1.87670290e-02 -4.39677238e-02\n  1.34214029e-01  1.73206612e-01  1.46017775e-01  3.05396318e-02\n -5.29139519e-01 -2.64374986e-02 -1.92525730e-01 -6.61990047e-02\n -3.81081015e-01  1.64803922e-01  3.07042152e-01  7.82644823e-02\n -4.63788301e-01 -8.73681545e-01  2.15918198e-01  4.71341074e-01\n  2.76599377e-01 -3.19025517e-01 -1.73073709e-01  1.20385960e-01\n -1.68509170e-01 -3.99630368e-02  6.93781376e-01  4.86897640e-02\n -5.49391210e-01 -2.77973413e-01 -3.50471467e-01 -1.71158537e-02\n  1.34187981e-01  1.98202953e-01  3.31341028e-02  7.52232224e-02\n -3.89625192e-01  1.17743954e-01 -6.59322381e-01  1.86894774e-01\n -1.75825641e-01 -3.40398967e-01  6.35724604e-01 -2.51396418e-01\n  1.70786977e-01  5.14888167e-01 -4.41586733e-01 -6.42631650e-01\n  3.93356919e-01 -1.10929310e-02  5.86800933e-01  4.85846400e-02\n -2.69133031e-01  3.44207585e-01 -5.14801443e-02 -6.91110790e-02\n -4.07661796e-01  3.00382912e-01  2.57515788e-01 -6.15448892e-01\n  1.90735459e-01 -1.43248156e-01 -6.98332787e-01  5.41496992e-01\n -8.52689520e-02  6.73263669e-01 -6.54612035e-02 -8.23400557e-01\n  7.03455210e-01 -1.44024268e-01  9.13554490e-01 -4.77783710e-01\n  2.99140900e-01  2.96563447e-01 -2.42688030e-01  1.19511873e-01\n  2.89786518e-01 -4.91075367e-02 -2.50164956e-01  2.05508709e-01\n -1.97870821e-01  3.66006345e-01  4.66260463e-02  1.05560638e-01\n -6.55841053e-01 -5.70752263e-01  3.04915160e-01  3.92097592e-01\n  3.28456193e-01  3.47526759e-01  1.72550529e-01  4.66636896e-01\n -9.66334581e-01 -4.04960096e-01 -2.12862104e-01  1.54876620e-01\n  4.42719191e-01  1.05997890e-01 -1.02423000e+00 -9.08140659e-01\n  1.06612504e-01  2.29872778e-01 -9.27409455e-02 -1.44578278e-01\n -1.70732230e-01 -4.40920353e-01  2.09344164e-01 -4.58367169e-01\n  2.28763908e-01  2.39442840e-01 -2.91860640e-01 -2.18321830e-01\n  4.37328815e-01  3.08444202e-01 -7.40370154e-03 -1.97579622e-01\n -2.84221232e-01  1.79882199e-01  2.48064101e-03  3.03018153e-01\n -3.88202906e-01 -3.11636746e-01  6.51900023e-02  2.12897211e-01\n  2.13573366e-01 -1.21706164e+00  2.07778960e-01  1.01697326e-01\n  2.41951235e-02  1.03586018e-02 -5.89906797e-02  1.37595922e-01\n  2.55814254e-01  1.63793236e-01  2.17887700e-01  2.95955479e-01\n  4.90618885e-01 -1.56632960e-01  5.55235982e-01  7.41849720e-01\n -3.52745175e-01  3.19174081e-02 -4.27910596e-01  6.72655225e-01\n  2.36903501e+00 -4.08299834e-01 -6.82007074e-02 -4.35878247e-01\n -3.58614177e-01 -3.66047829e-01 -8.20437521e-02 -3.67605925e-01\n  1.43786401e-01  3.31351429e-01 -1.46534726e-01 -3.60462248e-01\n  2.22473681e-01  2.28524953e-03  5.01658797e-01 -6.50365829e-01\n  1.61570013e-01 -1.52847558e-01 -1.69691578e-01  4.41771656e-01\n  7.83294380e-01 -4.31311816e-01  3.61356139e-01  4.85917836e-01\n  6.29078299e-02 -2.56812513e-01  1.67894274e-01  3.57538164e-01\n -2.82841653e-01 -5.79463542e-01 -1.53721601e-01  7.18488216e-01\n  2.63296127e-01 -2.05318332e-02  8.00766587e-01  2.76278228e-01\n  1.63192317e-01 -9.53003764e-02  3.61187726e-01 -9.38297063e-02\n  8.94519210e-01 -2.82791257e-01  4.95948792e-02 -2.96023011e-01\n -3.23568642e-01 -2.31807053e-01  7.64913619e-01 -2.16181025e-01\n  8.44433725e-01  4.88435924e-01  4.53769326e-01  5.53118587e-02\n  1.16408296e-01  4.04636353e-01  9.18571949e-02  6.53407127e-02\n  3.91022146e-01  1.26831308e-01 -1.69178203e-01 -5.85309505e-01\n  2.38662601e-01  3.27209562e-01 -1.25738740e-01  6.24417365e-01\n -1.90670133e-01 -2.32174858e-01  4.70060617e-01 -2.43531704e-01\n  1.93489969e-01  1.02417290e-01  2.12657228e-01  2.27342412e-01\n  1.37432083e-01  3.13050508e-01  2.04494596e-02 -4.23408031e-01\n -2.47950554e-02 -6.73601031e-03  6.26226068e-01  3.43757570e-02\n -1.08227432e-01  4.88462865e-01  6.01534963e-01  1.26169398e-01\n  5.01991957e-02  2.01986521e-01  8.47563386e-01  6.33679748e-01\n -6.10385239e-01 -4.90051657e-02  1.35451332e-01 -1.35545090e-01\n  3.70037168e-01  3.25495124e-01 -3.51089150e-01 -3.83060932e-01\n -1.15297854e-01  2.49843270e-01  1.69109374e-01  2.52150416e-01\n  2.09808648e-01 -6.98216319e-01 -7.85140097e-01  1.94617242e-01\n -2.08450347e-01 -3.40240568e-01  6.51515961e-01 -4.44576442e-02\n -8.99476856e-02 -3.90034735e-01 -7.59661794e-02  5.63845932e-02\n  4.76724058e-01 -7.82017887e-01  2.01654702e-01 -4.09956276e-02\n -5.54566383e-01  2.88205802e-01 -6.43237829e-01  4.54347253e-01\n  6.34286404e-01  6.27986193e-01 -3.33479524e-01 -8.11752796e-01\n -4.10634696e-01 -8.55545700e-02  3.61422777e-01 -1.77773356e-01\n  2.96049118e-01 -2.15811327e-01  2.63074905e-01 -2.84207791e-01\n  3.59778881e-01 -1.12150058e-01  4.87091005e-01 -2.10727960e-01\n -9.47015584e-02  8.91810656e-03 -4.22820032e-01  6.78135037e-01\n -3.23850453e-01 -3.72542053e-01  3.36308956e-01 -3.05028200e-01\n  3.25721800e-01 -1.82526037e-01 -8.92613828e-03 -8.83766830e-01\n -1.75633505e-01 -4.38330621e-01  3.68687898e-01  1.41422749e-02\n -1.67638695e+00 -2.23205537e-01 -4.26898241e-01 -2.37372279e+00\n -3.78904790e-01 -2.44802013e-01  1.47508308e-01 -1.64838091e-01\n -3.84699881e-01  1.12875238e-01  1.22534506e-01 -7.67409682e-01\n  9.94793475e-02 -6.20322526e-01  1.94549143e-01 -4.75063473e-01\n  5.64551502e-02 -4.93548661e-01 -1.45903721e-01  7.74823725e-02\n -6.52091146e-01 -1.26545116e-01  1.07729018e-01 -3.43897998e-01\n -9.63583648e-01 -1.60910189e-02  3.96257073e-01 -3.36557209e-01\n  1.85573801e-01  8.35354626e-02 -5.55008411e-01  4.59121883e-01\n -8.10766220e-03 -2.32909620e-03  1.86052054e-01 -3.39190513e-02\n -1.80115059e-01 -4.62470204e-02  6.66545928e-02 -8.39287639e-02\n  7.15900064e-02 -1.50566101e-01 -4.43462700e-01  2.12588355e-01\n -1.49369705e+00 -2.67343819e-01  3.21676075e-01 -1.34417236e-01\n  7.69663215e-01 -3.80180597e-01 -5.32650948e-01  4.07990575e-01\n  2.08587930e-01  1.66269168e-01  1.91678241e-01  3.25106084e-03\n -2.45854944e-01 -2.47418523e-01  5.83183467e-01 -1.64583787e-01\n -3.53045106e-01  2.03932196e-01 -4.70451027e-01 -7.04575032e-02\n  4.46564496e-01  4.50984031e-01  7.07510471e-01 -1.37929097e-01\n  2.20267296e-01  1.61632627e-01  2.15136409e-01 -3.41714144e-01\n -1.74913138e-01 -7.87165880e-01  1.53764695e-01  1.83572263e-01\n  5.14733791e-01  1.81184992e-01  7.63891637e-02 -4.96983767e-01\n -3.64792943e-01  4.80788857e-01  1.62811041e-01  6.03117645e-02\n  3.47867191e-01  2.35149428e-01 -1.56542093e-01 -3.76546055e-01\n  1.78020388e-01  3.72825980e-01 -4.30629790e-01  2.50882447e-01\n  2.56872743e-01 -3.32720220e-01 -2.25830257e-01 -9.97218415e-02\n  3.68802816e-01  1.50758445e-01 -4.51876998e-01  9.37937140e-01\n -3.80353272e-01 -1.28381073e-01 -2.03631893e-01 -5.07290244e-01\n -6.40730560e-03  6.25501454e-01 -3.05967629e-01  6.55441940e-01\n  1.13769579e+00 -3.18199515e-01  8.34525824e-01 -1.82520509e-01\n -5.61667919e-01  1.18823737e-01 -2.25440592e-01 -8.27861130e-02\n  2.59443462e-01 -4.85177457e-01 -5.36762357e-01  4.00310099e-01\n  4.75133479e-01  3.85364622e-01 -9.26285312e-02 -4.02250707e-01\n  1.11474395e-02 -5.67804873e-01  3.31600755e-02  1.88299847e+00\n -7.50926077e-01 -4.00412142e-01  4.32778418e-01  2.74118483e-01\n -2.28958949e-01  7.59975389e-02 -8.75748917e-02 -3.82799029e-01\n -1.56421706e-01  3.49293053e-02  8.68096128e-02 -6.45077676e-02\n  4.07892257e-01 -3.26598763e-01  4.47541535e-01 -3.57082725e-01\n -2.09594578e-01  2.05562264e-01  1.76049143e-01  4.49826896e-01\n -2.78945386e-01 -4.33420926e-01 -8.46292734e-01 -6.00923777e-01\n -4.81254876e-01 -8.97173882e-02  8.89812708e-02 -1.73730433e-01\n -4.73568082e-01 -6.14800304e-02  3.60549480e-01 -5.74960828e-01\n -6.39743209e-01 -1.82898879e-01 -3.10725570e-01 -6.65105581e-02\n -2.13075340e-01  4.10554856e-01  4.52995241e-01 -4.93256271e-01\n -3.12949494e-02  6.68715954e-01  5.61263263e-01  4.67423677e-01\n  6.21625036e-02  3.26727927e-02  2.13834241e-01 -1.24589890e-01\n  4.25411940e-01 -1.16398290e-01 -1.64269090e-01 -3.88700962e-02\n -1.98309749e-01  4.71946478e-01 -3.03191423e-01  7.54638165e-02\n -7.47148812e-01 -2.40640327e-01 -1.10624242e+00 -1.19097345e-01\n  3.98743451e-01 -4.20959562e-01 -3.60451996e-01  1.07894778e+00\n -1.36478513e-01 -6.35132372e-01 -2.81631857e-01  1.34925872e-01\n -3.47119451e-01  4.92471576e-01 -6.75123692e-01  1.95481449e-01\n  2.46163130e-01  1.68368295e-01 -9.02757645e-02 -4.36822891e-01\n -2.48158544e-01 -2.84979820e-01 -1.90905675e-01 -4.85087752e-01]",
         "7508",
         "249529291",
         "23860184"
        ],
        [
         "25",
         "5888241",
         "Брюки спортивные CEVAT'S Комфорт",
         "[{'attribute_name': 'Type', 'attribute_value': 'Брюки спортивные', 'attribute_isaspect': False, 'attribute_showascharacteristic': True}\n {'attribute_name': 'Brand', 'attribute_value': \"CEVAT'S\", 'attribute_isaspect': False, 'attribute_showascharacteristic': True}\n {'attribute_name': 'Annotation', 'attribute_value': '\\nспортивные брюки женские широкие,\\t\\nбрюки женские спортивные хлопок,\\nспортивные брюки женские больших размеров,\\t\\nспортивные штаны женские,\\t\\nспортивные штаны женские больших размеров,\\t\\nспортивные штаны женские широкие,\\t\\nчерные спортивные штаны женские\\t,\\nштаны домашние женские,\\nджоггеры женские,\\nбрюки джоггеры женские,\\nджоггеры женские спортивные,\\nджоггеры женские больших размеров,\\nштаны женские,\\nштаны спортивные женские,\\nштаны женские спортивные,\\nженские спортивные штаны,\\nштаны домашние женские,\\nбрюки спортивные женские,\\nбрюки женские больших размеров.\\n\\t\\n', 'attribute_isaspect': False, 'attribute_showascharacteristic': True}\n {'attribute_name': 'AgeO', 'attribute_value': 'Взрослая', 'attribute_isaspect': False, 'attribute_showascharacteristic': False}\n {'attribute_name': 'ColorBase', 'attribute_value': 'черный', 'attribute_isaspect': True, 'attribute_showascharacteristic': True}\n {'attribute_name': 'ColorName', 'attribute_value': 'черный', 'attribute_isaspect': True, 'attribute_showascharacteristic': True}\n {'attribute_name': 'RussianSizeClothes', 'attribute_value': '54', 'attribute_isaspect': True, 'attribute_showascharacteristic': True}\n {'attribute_name': 'SizeManufacturer', 'attribute_value': '54', 'attribute_isaspect': True, 'attribute_showascharacteristic': True}\n {'attribute_name': 'SizeM', 'attribute_value': '50', 'attribute_isaspect': False, 'attribute_showascharacteristic': True}\n {'attribute_name': 'SexMaster', 'attribute_value': 'Женский', 'attribute_isaspect': False, 'attribute_showascharacteristic': True}\n {'attribute_name': 'HeightM', 'attribute_value': '165 см', 'attribute_isaspect': False, 'attribute_showascharacteristic': True}\n {'attribute_name': 'SizeGrid', 'attribute_value': 'Универсальная размерная сетка: Женская одежда', 'attribute_isaspect': False, 'attribute_showascharacteristic': False}\n {'attribute_name': 'Material', 'attribute_value': 'Трикотаж', 'attribute_isaspect': False, 'attribute_showascharacteristic': True}\n {'attribute_name': 'Material', 'attribute_value': 'Футер', 'attribute_isaspect': False, 'attribute_showascharacteristic': True}\n {'attribute_name': 'Composition', 'attribute_value': '80% хлопок 15% полиэстер 5% лайкра', 'attribute_isaspect': False, 'attribute_showascharacteristic': True}\n {'attribute_name': 'InnerMaterial', 'attribute_value': 'Без подклада', 'attribute_isaspect': False, 'attribute_showascharacteristic': True}\n {'attribute_name': 'Season', 'attribute_value': 'На любой сезон', 'attribute_isaspect': False, 'attribute_showascharacteristic': True}\n {'attribute_name': 'clothescut', 'attribute_value': 'свободный', 'attribute_isaspect': False, 'attribute_showascharacteristic': True}\n {'attribute_name': 'DetailsClothes', 'attribute_value': 'Карманы', 'attribute_isaspect': False, 'attribute_showascharacteristic': True}\n {'attribute_name': 'DetailsClothes', 'attribute_value': 'Шнуровка', 'attribute_isaspect': False, 'attribute_showascharacteristic': True}\n {'attribute_name': 'FilterSizeINT', 'attribute_value': 'XXL', 'attribute_isaspect': False, 'attribute_showascharacteristic': False}\n {'attribute_name': 'TypeSport', 'attribute_value': 'Бег', 'attribute_isaspect': False, 'attribute_showascharacteristic': True}\n {'attribute_name': 'TypeSport', 'attribute_value': 'Фитнес', 'attribute_isaspect': False, 'attribute_showascharacteristic': True}\n {'attribute_name': 'TypeSport', 'attribute_value': 'Туризм', 'attribute_isaspect': False, 'attribute_showascharacteristic': True}\n {'attribute_name': 'TypeSport', 'attribute_value': 'Танцы', 'attribute_isaspect': False, 'attribute_showascharacteristic': True}\n {'attribute_name': 'TypeSport', 'attribute_value': 'Велоспорт', 'attribute_isaspect': False, 'attribute_showascharacteristic': True}\n {'attribute_name': 'Name', 'attribute_value': 'Спортивные штаны женские, джоггеры', 'attribute_isaspect': False, 'attribute_showascharacteristic': False}\n {'attribute_name': 'StyleApparel', 'attribute_value': 'Повседневный', 'attribute_isaspect': False, 'attribute_showascharacteristic': False}\n {'attribute_name': 'ColorBase_Forfilter', 'attribute_value': 'Черный', 'attribute_isaspect': False, 'attribute_showascharacteristic': False}]",
         "[ 6.22632146e-01  3.92109752e-01  2.00159863e-01  8.02952051e-01\n  3.33407164e-01 -3.05309087e-01 -4.35820222e-03  1.15201250e-02\n -1.65459067e-02 -5.33136874e-02 -4.73481476e-01  1.22682273e-01\n -3.72948378e-01 -2.68650502e-02 -4.32061970e-01  3.27225238e-01\n -1.03439248e+00  1.71335518e-01 -1.90249681e-02 -8.93615246e-01\n  1.72381401e-02  2.06418276e-01 -3.92287731e-01 -2.28458509e-01\n  6.42742395e-01 -2.25306451e-01  5.54381430e-01  7.60905981e-01\n -6.00341797e-01  3.90885063e-02 -7.19591022e-01  5.37299812e-02\n -2.33672902e-01 -4.06309277e-01  2.22466439e-01  5.29875100e-01\n -3.72460574e-01  7.72585511e-01 -2.80914575e-01  3.32486033e-01\n  2.15557724e-01 -5.88381290e-02 -5.24886966e-01  1.53446272e-01\n  3.88116091e-02  3.95933241e-01 -6.51629508e-01 -2.76452303e-03\n  6.23412132e-02  3.37211549e-01  4.47758794e-01  5.33370793e-01\n  2.48951867e-01 -3.73088568e-02 -6.39391899e-01 -2.98462808e-01\n  1.78040922e-01  5.25408626e-01 -8.23614061e-01  3.53085995e-01\n  2.33638585e-01 -9.00424838e-01  3.53728563e-01  4.18979049e-01\n -6.13589287e-01  1.96520671e-01 -1.53296977e-01 -5.88003397e-01\n -1.20380595e-01 -5.75917721e-01 -5.46224773e-01  5.31710535e-02\n  5.90934455e-01 -3.43146384e-01  7.54482269e-01 -4.27275836e-01\n -2.11362690e-01  4.88347352e-01  4.50650752e-01  1.47302881e-01\n -1.38183564e-01 -1.42094493e-03 -2.47051746e-01  4.37952727e-02\n  2.26873308e-01  2.08953619e-02 -6.09287620e-01  2.28839576e-01\n  4.60391998e-01  2.49790922e-02 -3.07109118e-01 -5.31007946e-02\n -3.68849188e-02 -1.04671955e-01  1.06167614e-01 -3.01236391e-01\n  3.90594959e-01  5.93882442e-01  5.99800169e-01 -3.97481620e-02\n -1.92084804e-01  6.67248130e-01  3.58994484e-01 -2.11440027e-02\n  3.80129904e-01 -2.05630004e-01 -9.36023414e-01 -1.25910473e+00\n -3.98893863e-01 -6.62424564e-01 -8.68917108e-01 -1.20610610e-01\n  1.82883054e-01  4.42156792e-02 -4.53074574e-02 -2.25815982e-01\n -1.32365704e-01 -2.24326521e-01  7.94420391e-02  3.55955362e-02\n -1.13653362e-01  4.55144830e-02 -2.04243198e-01  7.26735592e-02\n -2.65600830e-01  2.51294583e-01 -1.35732800e-01  3.25704336e-01\n -1.12914927e-01  1.81424797e-01 -1.45315796e-01  1.80344582e-02\n  3.10110837e-01 -5.87596595e-01 -1.26487106e-01 -4.94417071e-01\n -6.38586432e-02 -1.97737306e-01 -7.12967068e-02  3.06232244e-01\n  2.32131369e-02 -1.59744918e-01  9.95038152e-02  8.16793591e-02\n -5.39402723e-01  8.97708774e-01  1.69536695e-01  7.49534741e-02\n  3.50982487e-01 -7.39726424e-02 -2.85410881e-03  1.02477208e-01\n  2.54959679e+00  1.04873799e-01 -1.79878026e-01  4.41501677e-01\n  7.27277696e-02  3.85949939e-01  5.70924282e-01  1.00922942e-01\n -2.75808573e-03 -1.10155255e-01  4.22905564e-01  2.03845859e-01\n -2.46309012e-01 -1.00913227e-01  1.15119487e-01 -3.96627247e-01\n -5.25733709e-01 -2.61062324e-01  9.58676100e-01 -1.72800928e-01\n  4.39659446e-01  1.51889086e-01 -2.69728988e-01  4.52284366e-02\n  8.78580660e-02  2.50024557e-01 -2.98856616e+00 -1.33024365e-01\n -7.17581153e-01 -4.63052094e-01  7.11196184e-01 -3.13418537e-01\n -5.00916123e-01 -1.78067178e-01  5.05328536e-01  6.08778186e-02\n  3.79670262e-01 -7.20122337e-01  1.16241097e-01  7.26271749e-01\n -2.31104344e-02 -1.53128445e-01 -1.35588020e-01  3.73771876e-01\n -4.91158396e-01  1.56576276e-01 -7.91970372e-01  2.44917378e-01\n  1.19254029e+00 -7.56102353e-02  2.04944611e-01 -1.50337547e-01\n  2.94151425e-01  7.70692587e-01 -1.82985663e-02 -2.54238427e-01\n -1.46289319e-02  3.34705412e-03 -2.91142523e-01  4.03934449e-01\n  3.89750659e-01  4.65245903e-01 -1.55339599e-01  8.24215174e-01\n -3.76898408e-01  4.84220088e-02 -1.07598230e-01  2.84588605e-01\n  3.00904751e-01 -1.45051628e-01 -4.94358391e-02 -4.07478660e-02\n  5.30191064e-01  2.22059026e-01  5.47543243e-02  5.77420592e-02\n -1.00064504e+00  7.46573135e-02  2.35312447e-01  1.13758951e-01\n  4.42032069e-02  2.25475430e-01  3.25412691e-01  1.98108345e-01\n -7.43022084e-01 -5.79647303e-01  2.00604782e-01  8.52202624e-02\n -3.11742127e-01  2.31272846e-01  4.94194269e-01 -6.13149643e-01\n  1.10133022e-01 -2.27724075e-01 -5.24343252e-01 -2.22389072e-01\n  5.38653135e-03  4.30766076e-01  8.71826410e-02 -4.11911309e-02\n  1.34366870e-01 -5.46877921e-01 -4.74415541e-01 -2.88043082e-01\n -7.16541886e-01  6.16247803e-02  1.43418163e-01  1.95317134e-01\n  1.28249779e-01 -3.93566191e-02  4.44378674e-01 -3.62647086e-01\n  1.92001402e-01 -1.57830358e-01  7.54565224e-02  1.20046347e-01\n -4.80620414e-02  2.67463535e-01 -3.03196102e-01 -3.14291865e-02\n  1.05280444e-01 -5.70034608e-02 -2.32480451e-01 -1.09369174e-01\n -1.78170174e-01 -2.56320715e-01 -4.61909249e-02  1.90103680e-01\n  1.43239319e-01  3.77278119e-01 -3.14477265e-01  3.40185612e-02\n -1.41272530e-01 -2.57053301e-02  2.49396294e-01 -3.44485193e-02\n  4.95020837e-01 -7.82942057e-01  6.20907545e-01  1.79367542e-01\n  2.81602323e-01 -4.53776121e-02 -2.33170450e-01  6.77381635e-01\n  2.51035929e-01 -1.24090441e-01 -1.05335377e-01  1.01447880e-01\n  1.70100987e-01  2.62743652e-01  3.34167153e-01 -3.83448422e-01\n -5.59838057e-01  1.18684322e-01 -9.39149201e-01 -2.54574227e+00\n  4.31280136e-01 -2.86295772e-01 -5.69180191e-01 -5.84782481e-01\n  4.82109010e-01  2.09996670e-01  3.04383636e-02 -4.22039330e-01\n  2.86674857e-01 -5.31268418e-01 -1.05614670e-01 -2.95788288e-01\n -4.66202140e-01  8.77185166e-02 -9.54558998e-02  1.22598112e+00\n  7.04366326e-01  3.58537257e-01  5.58545291e-02  2.68529534e-01\n -2.57438749e-01  1.79513603e-01 -7.19440579e-02  2.16979802e-01\n  1.54671907e-01 -2.55194277e-01  4.87726927e-03  1.07949503e-01\n  2.14268312e-01 -1.81400970e-01 -5.13682738e-02 -1.54240534e-01\n -7.67101496e-02 -1.64942518e-02  2.17683360e-01  1.55845955e-01\n  3.98865759e-01 -2.33656973e-01  3.19665879e-01  9.59692717e-01\n -2.56166840e+00  5.10353893e-02  3.66115302e-01 -1.77275166e-02\n  4.74788249e-02  2.82955289e-01 -2.86427379e-01 -7.72865936e-02\n -2.05980584e-01  1.27794370e-01  2.40687639e-01 -1.97586149e-01\n  1.83156312e-01  7.89387673e-02  1.28902256e-01 -7.92722404e-02\n  1.11014634e-01  3.44835728e-01  2.24239111e-01  7.45779395e-01\n -4.38107133e-01  9.74411905e-01  7.27431625e-02  4.36311871e-01\n -3.70782346e-01 -4.71314073e-01 -6.72839224e-01  1.12532973e+00\n -1.31777599e-01  2.32107997e-01  6.98739886e-01  2.17323989e-01\n  1.54487312e-01  6.40900433e-02 -2.05636293e-01 -6.24384642e-01\n  4.00081664e-01  8.45373154e-01 -2.53285438e-01  5.75230643e-02\n  2.39658281e-01  1.83557928e-01 -1.24144554e-02 -1.01447594e+00\n -7.69241527e-02  2.00723827e-01 -4.34736490e-01 -1.76977515e-02\n  1.98733687e-01 -2.11121246e-01  5.00543714e-01  8.22954774e-02\n  1.43746644e-01 -1.21009946e-02 -3.15298140e-02  4.55482155e-01\n  3.23193163e-01  4.36922610e-01  3.44747603e-01 -3.57357264e-01\n -5.49737155e-01  4.63365614e-01 -3.75796482e-02  4.40805703e-01\n  8.69800925e-01  1.97162926e-01  3.31042409e-02  3.60086441e-01\n -1.25517428e-01 -1.61867201e-01 -5.04565239e-03 -5.10753512e-01\n -3.27920198e-01 -3.07013363e-01  1.85128763e-01  3.35229903e-01\n  2.31464818e-01  4.78654742e-01  5.08224219e-02 -1.39026642e-02\n -2.87088871e-01  4.75769490e-02 -3.42784047e-01  1.89286828e+00\n -3.54490131e-01 -2.96198338e-01  1.10371900e+00 -2.48417109e-02\n  3.73425364e-01 -6.98522851e-02 -1.16617493e-01  5.75457931e-01\n  6.96266234e-01  1.07485384e-01  6.45639181e-01  4.48666334e-01\n  2.95088470e-01  4.01256830e-02 -3.20732445e-01 -2.13971704e-01\n  3.65126491e-01  2.77705491e-03 -2.95131207e-01 -1.30392432e-01\n -3.96047235e-02  1.20564118e-01 -5.09472847e-01 -1.69665563e+00\n -3.32462132e-01 -8.88562799e-02 -1.82994887e-01 -8.71982276e-02\n -3.45894456e-01  5.27189299e-03 -5.94112039e-01  2.73588300e-02\n  3.18653882e-01 -4.56609279e-02  1.84408337e-01  7.22878873e-01\n  7.62876272e-01 -2.95781076e-01 -3.23303699e-01  6.10148668e-01\n  2.54116952e-02  1.76864505e-01  1.42076880e-01  4.28319037e-01\n  3.74520242e-01 -2.50430763e-01  2.59564519e-01  8.35607290e-01\n -1.66604400e-01  5.45806527e-01 -1.32855296e-01 -7.50607967e-01\n -4.76947248e-01  6.10856950e-01 -5.49433231e-01  3.91313374e-01\n -5.33124268e-01  3.23633522e-01 -1.63615358e+00  4.14382547e-01\n  9.01135206e-02  4.28020686e-01  3.97934735e-01 -1.89271942e-01\n -4.81001437e-02 -5.05034745e-01 -5.49541831e-01  3.32313985e-01\n  4.75121826e-01  1.10325158e-01  1.21159285e-01 -6.94968224e-01\n -3.15164208e-01  4.46380079e-01 -4.70340103e-01 -4.46781754e-01\n -2.57088244e-02  4.63314593e-01  4.38862622e-01 -6.26171827e-02]",
         "7517",
         "37733939",
         "42062588"
        ],
        [
         "26",
         "6409001",
         "Футболка",
         "[{'attribute_name': 'Type', 'attribute_value': 'Футболка', 'attribute_isaspect': False, 'attribute_showascharacteristic': True}\n {'attribute_name': 'Brand', 'attribute_value': 'Нет бренда', 'attribute_isaspect': False, 'attribute_showascharacteristic': True}\n {'attribute_name': 'Annotation', 'attribute_value': '<p>Футболка \"если ваше счастье не в деньгах шлите их мне\" - это отличный способ выразить свою индивидуальность и чувство юмора. Она станет отличным дополнением к любому образу, будь то повседневный или спортивный стиль.</p>\\n\\n<p>Эта футболка выполнена из высококачественного хлопка, который обеспечивает комфорт и долговечность. Материал приятен на ощупь, хорошо пропускает воздух и не вызывает раздражения кожи. Благодаря этому футболка идеально подходит для повседневной носки.</p>\\n\\n<p>Особенностью этой футболки является её дизайн. На передней части футболки расположена вышивка в виде забавной надписи. Надпись выполнена яркими нитками, которые не выцветают со временем. Это делает футболку не только стильной, но и практичной. Футболка доступна в различных размерах, что позволяет подобрать идеальный вариант для любого человека.</p>\\n\\n<p>Если вы ищете оригинальный подарок для друга или близкого человека, то эта футболка станет отличным выбором. Она будет радовать своего владельца каждый день, напоминая о вас и вашем чувстве юмора.</p>\\n\\n<p>Материал футболки - 100% хлопок плотностью 190 грамм на метр квадратный. Такая плотность ткани обеспечивает изделию прочность и износостойкость, а также позволяет коже дышать. Футболка сохраняет форму после стирки и не теряет цвет.</p>\\n\\n<p>Футболка унисекс, подойдёт как мужчинам, так и женщинам. Её можно сочетать с различными стилями одежды и носить в любое время года.</p>', 'attribute_isaspect': False, 'attribute_showascharacteristic': True}\n {'attribute_name': 'ColorBase', 'attribute_value': 'черный', 'attribute_isaspect': True, 'attribute_showascharacteristic': True}\n {'attribute_name': 'ColorName', 'attribute_value': 'черный', 'attribute_isaspect': True, 'attribute_showascharacteristic': True}\n {'attribute_name': 'RussianSizeClothes', 'attribute_value': '52', 'attribute_isaspect': True, 'attribute_showascharacteristic': True}\n {'attribute_name': 'SizeManufacturer', 'attribute_value': 'XL (54)', 'attribute_isaspect': True, 'attribute_showascharacteristic': True}\n {'attribute_name': 'SexMaster', 'attribute_value': 'Мужской', 'attribute_isaspect': False, 'attribute_showascharacteristic': True}\n {'attribute_name': 'SexMaster', 'attribute_value': 'Женский', 'attribute_isaspect': False, 'attribute_showascharacteristic': True}\n {'attribute_name': 'SizeGrid', 'attribute_value': 'Универсальная размерная сетка: Женская одежда', 'attribute_isaspect': False, 'attribute_showascharacteristic': False}\n {'attribute_name': 'SizeGrid', 'attribute_value': 'Универсальная размерная сетка: мужская одежда', 'attribute_isaspect': False, 'attribute_showascharacteristic': False}\n {'attribute_name': 'Material', 'attribute_value': 'Хлопок', 'attribute_isaspect': False, 'attribute_showascharacteristic': True}\n {'attribute_name': 'Composition', 'attribute_value': '100% хлопок', 'attribute_isaspect': False, 'attribute_showascharacteristic': True}\n {'attribute_name': 'StyleApparel', 'attribute_value': 'Повседневный', 'attribute_isaspect': False, 'attribute_showascharacteristic': True}\n {'attribute_name': 'Season', 'attribute_value': 'Лето', 'attribute_isaspect': False, 'attribute_showascharacteristic': True}\n {'attribute_name': 'SleeveLength', 'attribute_value': 'Короткий', 'attribute_isaspect': False, 'attribute_showascharacteristic': True}\n {'attribute_name': 'FilterSizeINT', 'attribute_value': 'XL', 'attribute_isaspect': False, 'attribute_showascharacteristic': False}\n {'attribute_name': 'Name', 'attribute_value': 'Футболка \"если ваше счастье не в деньгах шлите их мне\"', 'attribute_isaspect': False, 'attribute_showascharacteristic': False}\n {'attribute_name': 'DetailsClothes', 'attribute_value': 'Вышивка', 'attribute_isaspect': False, 'attribute_showascharacteristic': False}\n {'attribute_name': 'ColorBase_Forfilter', 'attribute_value': 'Черный', 'attribute_isaspect': False, 'attribute_showascharacteristic': False}]",
         "[-6.41884983e-01  3.06838483e-01 -2.94858247e-01  3.00601497e-02\n  6.65025353e-01 -6.31008744e-01  5.28594375e-01 -1.34409308e-01\n -4.55334246e-01  5.24496317e-01  2.77367800e-01 -8.12461972e-02\n  7.09833860e-01  2.85196781e-01  2.38705024e-01  3.57608944e-02\n  1.84227869e-01  4.35699522e-01 -3.23550701e-01  1.83313489e-01\n -8.81281614e-01  3.67843211e-02 -2.63727069e-01  1.05669543e-01\n -1.00250304e-01 -5.16971469e-01  2.81538010e-01  2.53826231e-01\n  2.79870570e-01  5.23091674e-01 -1.67191386e-01 -8.99376422e-02\n  1.67170957e-01  1.83591008e-01  5.48690856e-02  2.36106217e-01\n  1.05067194e-01  9.43761110e-01 -3.87591243e-01  1.71876863e-01\n -8.67153704e-02 -2.11635932e-01 -3.28486860e-01  1.40383601e-01\n -1.10295862e-01  4.03528571e-01 -2.43439794e-01  1.68886423e-01\n  4.77927327e-01 -1.59685269e-01 -1.81386501e-01  2.73516029e-01\n  2.94276327e-02 -6.91523850e-02  5.45471430e-01  6.80079579e-01\n  8.57728422e-02  8.29565078e-02 -1.47878006e-01  3.43566388e-01\n  8.99591520e-02 -6.25886321e-02  7.43545890e-02  4.31126058e-01\n  1.34962469e-01  5.35781085e-01  9.86440182e-02 -1.03744340e+00\n  2.46906877e-01 -2.36004174e-01 -9.61278379e-01 -1.81966364e-01\n -2.64661938e-01 -1.80247173e-01  3.07064176e-01 -4.69303370e-01\n -1.20988026e-01 -1.82083756e-01  1.60658434e-01 -2.28221774e-01\n  7.70035237e-02 -3.38802576e-01 -4.47860956e-02  5.19958735e-02\n -9.69927162e-02  3.45910490e-02 -1.94205448e-01  2.73514628e-01\n -7.03113079e-02  2.73753583e-01 -4.05528873e-01 -3.02279294e-02\n -2.44317800e-02  2.61862129e-01  1.48458421e-01 -5.54562211e-02\n -6.01310611e-01 -3.43964607e-01  1.76560134e-01 -1.32423669e-01\n  1.57523274e-01 -3.41586024e-03 -4.32155102e-01 -2.19859630e-01\n  5.69702506e-01 -4.29349691e-01  9.37871858e-02  1.66783944e-01\n -2.16229439e-01  3.01171869e-01  3.73579800e-01  9.92428139e-02\n -1.85878843e-01  2.36968264e-01  4.77163494e-01 -1.53131932e-01\n -6.98660761e-02  3.78091991e-01 -8.58565643e-02 -1.72087252e-02\n  4.06442344e-01  1.41988039e-01 -8.97939950e-02 -3.07284355e-01\n  2.51079351e-02  1.98998436e-01 -6.07354462e-01  7.59923458e-02\n  2.23910332e-01  4.47649807e-01 -6.92811608e-02  2.59903193e-01\n -1.72682375e-01 -2.96974421e-01  3.40679824e-01 -3.05802703e-01\n -1.39407873e-01 -1.12188828e+00  6.63352847e-01 -2.43075043e-02\n  1.39832869e-01 -1.29565984e-01 -1.38633534e-01 -5.31162977e-01\n  1.29560322e-01 -3.09657231e-02  6.09465092e-02 -7.83777714e-01\n  2.80862838e-01 -2.65091717e-01 -1.70363903e-01 -4.79266822e-01\n  9.41737533e-01 -1.32894978e-01  2.77018696e-01  1.96221381e-01\n  3.49842012e-01 -3.52950990e-01  8.07099417e-02 -3.43020439e-01\n -1.89965099e-01  1.74263209e-01  4.02517170e-02 -2.62021124e-02\n  3.20118219e-01 -1.38171387e+00 -1.06963515e-03 -9.09232676e-01\n  3.66405845e-02  7.70699978e-02  3.23892713e-01 -9.45013911e-02\n  2.72076353e-02 -1.91995203e-01  3.53831172e-01 -8.54464248e-02\n  5.13110906e-02  8.03833157e-02  6.62679672e-01  1.28636360e-02\n  6.43544316e-01  1.00234091e-01  3.75031888e-01  2.05102935e-01\n -7.95039386e-02 -3.86633396e-01  2.95725793e-01 -1.30648389e-02\n -2.68995374e-01 -6.08329535e-01 -1.52046263e-01  4.70312059e-01\n -1.32241592e-01 -2.45923311e-01  5.62647402e-01  3.86670113e-01\n -9.15707231e-01  1.37756452e-01  1.90227538e-01 -6.22573234e-02\n  4.53381538e-02  3.57875228e-01  1.46680459e-01 -2.04452395e-01\n -7.03047276e-01  1.53370529e-01 -2.28405088e-01  1.15626268e-01\n -1.07719764e-01  5.21854222e-01  1.36077702e-01  5.58031052e-02\n -3.56310129e-01 -4.12760675e-01 -7.42975920e-02 -1.13552183e-01\n -2.50219703e-01 -7.46888697e-01 -3.73848885e-01  4.90647644e-01\n  3.31750035e-01 -1.04496561e-01  8.03224385e-01 -7.55578518e-01\n  6.77312464e-02 -5.07756099e-02  2.11267307e-01 -1.37488663e-01\n  4.71266031e-01  9.88724902e-02  1.01433128e-01  3.39169562e-01\n -3.68561000e-02  4.45985317e-01  7.44271576e-01 -2.58395195e-01\n  1.47852331e-01  1.09232068e-01  1.44965708e-01 -4.00686562e-02\n -4.63542283e-01 -1.05820155e+00  3.63945246e-01 -5.14473796e-01\n -7.70145729e-02 -5.50110698e-01  3.68172407e-01  9.19401765e-01\n  3.54012430e-01  1.97303683e-01 -4.34909075e-01  2.12528914e-01\n  2.45184511e-01 -9.60396767e-01 -7.44452834e-01 -2.18378708e-01\n -2.53065467e-01 -7.36666322e-01  5.15615404e-01 -2.33085141e-01\n  3.85941595e-01  5.13940863e-02  2.37342775e-01 -6.57812417e-01\n  5.74055433e-01  5.81630349e-01  7.27402866e-02  5.39902806e-01\n -2.93218374e-01 -4.91283536e-01 -7.38363445e-01  5.01787663e-02\n  7.77861714e-01  4.54404280e-02  1.63474306e-02  5.03636718e-01\n  4.84183729e-01 -5.15834838e-02  1.55246079e-01 -1.41045421e-01\n  4.41630900e-01  7.06717253e-01  2.74619579e-01  3.48403156e-01\n  6.19596839e-01  8.19082558e-02  3.70757848e-01  2.02821463e-01\n -1.87932253e-01  4.87573326e-01 -5.87996021e-02  3.66974175e-01\n  4.40731794e-02  3.76509130e-01 -2.99502283e-01  3.99074256e-01\n  7.67812252e-01 -4.52107430e-01  9.00356472e-02 -6.95781946e-01\n -1.41795084e-01 -4.92424458e-01  2.97838897e-01 -3.73720855e-01\n -1.53587961e+00 -3.96258235e-02  3.66731763e-01 -9.47327554e-01\n -1.12226903e-02  4.10800725e-01 -2.76512891e-01  4.23304319e-01\n -4.20583427e-01 -4.63471532e-01 -2.07512006e-01 -6.41665697e-01\n  2.21998945e-01 -4.49141026e-01 -1.48779079e-01 -5.50006688e-01\n -4.76362824e-01 -1.82294801e-01 -9.97786522e-02  4.68502343e-01\n -7.45424032e-01  4.32625353e-01 -5.36260486e-01 -5.15525162e-01\n -2.33411461e-01  3.94598842e-01  4.55928385e-01  1.18482254e-01\n  3.49855632e-01 -3.17143202e-01 -1.84230417e-01  4.10610318e-01\n -1.86766267e-01 -4.23941970e-01 -1.84147954e-02  1.38800383e-01\n -2.84436285e-01  8.05060267e-02  6.90048635e-02 -2.30251193e-01\n  1.01448707e-01 -9.29677844e-01  3.51429313e-01  5.72215199e-01\n -1.00290835e+00 -5.20569563e-01 -2.01537251e-01  2.51933336e-01\n  2.53642201e-01  2.88718700e-01  6.83107525e-02 -1.04590967e-01\n -4.28260386e-01  1.56869859e-01 -2.22258314e-01  1.77177340e-01\n -6.88673258e-01 -7.76381135e-01  3.36012959e-01 -3.34155709e-01\n -5.88965774e-01  2.10430309e-01  3.49263400e-02 -5.77574968e-03\n  3.29707563e-01 -4.05270845e-01  2.89958537e-01  1.68069243e-01\n -3.71551603e-01 -2.01205373e-01 -3.00610423e-01  4.07271922e-01\n  5.77795386e-01 -5.16520977e-01  2.96246290e-01  2.85948455e-01\n  2.87243098e-01  4.40188527e-01 -3.30346525e-01 -3.67778063e-01\n -3.09268624e-01  1.11108661e+00 -6.40170217e-01  2.20129251e-01\n  3.27713042e-01  1.72017515e-02 -4.70268995e-01 -2.05538958e-01\n  1.26688927e-01  7.01089650e-02 -7.15119004e-01 -9.63967517e-02\n  9.94631648e-03 -1.31465778e-01 -6.80873036e-01 -3.03347617e-01\n  9.48144719e-02 -3.72308530e-02 -2.70536959e-01  3.09319496e-02\n  3.05876493e-01  1.36021361e-01 -2.50910044e-01 -5.12466013e-01\n  5.48589706e-01  2.43306413e-01 -3.48272324e-02 -2.53700912e-02\n  3.04050028e-01 -1.91634998e-01 -1.92448467e-01  1.82591587e-01\n -9.08550978e-01 -2.71888584e-01  7.92423785e-02  2.43656307e-01\n -4.80737627e-01  2.99637586e-01  1.89861953e-01  1.52133152e-01\n  2.48012275e-01  3.51354778e-01 -2.81779379e-01 -6.60530627e-01\n  6.40471578e-02 -1.23171985e-01  1.03463650e-01  1.81383753e+00\n -3.64846200e-01  2.92869985e-01 -3.50702882e-01  7.25333169e-02\n  1.41864270e-03 -1.17343038e-01  1.02219373e-01  1.57818228e-01\n -2.18411207e-01 -1.06624410e-01 -2.79740274e-01  5.52714169e-01\n  6.95065707e-02 -4.69931066e-02  4.54079986e-01 -2.38351375e-01\n  1.50232196e-01 -3.82572800e-01  1.62872612e-01 -5.09203553e-01\n  4.85711604e-01 -1.35770440e-01 -1.27856418e-01 -8.46093416e-01\n  1.05312169e-01 -5.82235813e-01 -6.00412250e-01 -1.38686448e-01\n  1.44105569e-01  9.31037813e-02 -5.28837204e-01 -8.03320855e-02\n  3.17543864e-01 -3.45499218e-01  1.40097916e-01 -2.32866541e-01\n -8.36356878e-02  5.30218959e-01 -4.26547527e-01 -2.78689027e-01\n -2.10909486e-01 -3.78987193e-03  3.68749917e-01  3.69547307e-01\n  3.14570934e-01  6.09558821e-03  5.04781455e-02  1.19281106e-01\n  4.70400244e-01  7.38415718e-01  6.52376860e-02 -3.76004845e-01\n -3.89619768e-01  2.35067606e-01  3.76044542e-01  1.37809545e-01\n  2.60841250e-02 -3.33528340e-01 -1.75336945e+00  1.55433744e-01\n  4.45116997e-01 -2.97044218e-01 -6.42616689e-01  8.65549684e-01\n  5.27832925e-01 -5.22595823e-01  7.43043274e-02  8.46791565e-01\n  3.19096148e-02  1.45728946e-01  2.21474633e-01  3.82772088e-02\n  2.70043194e-01 -1.28822356e-01  1.45314202e-01  5.25794983e-01\n -3.46754521e-01 -5.64418614e-01  7.10202336e-01 -7.45214522e-02]",
         "7508",
         "152762756",
         "13313404"
        ],
        [
         "27",
         "6466808",
         "Куртка Shop Of Dom",
         "[{'attribute_name': 'Type', 'attribute_value': 'Куртка', 'attribute_isaspect': False, 'attribute_showascharacteristic': True}\n {'attribute_name': 'Brand', 'attribute_value': 'Shop Of Dom', 'attribute_isaspect': False, 'attribute_showascharacteristic': True}\n {'attribute_name': 'Annotation', 'attribute_value': 'Представляем вам стильную женскую короткую куртку с капюшоном от Shop Of Dom. Эта куртка станет отличным выбором для создания современных образов в прохладную погоду. Она выполнена из высококачественных материалов, что обеспечивает комфорт и тепло. Капюшон добавляет дополнительный уют и защиту от ветра, а короткая длина позволяет легко комбинировать куртку с различными элементами гардероба.<br/><br/>Данная модель отлично подходит как для повседневной носки, так и для активного отдыха. Удобный крой и вамое оnыогетеные фасоны позволяют ей подстраиваться под фигуру, а различные цвета помогут вам выбрать именно тот вариант, который подчеркнёт вашу индивидуальность.<br/><br/>Куртка прекрасно сочетает в себе стиль и функциональность. Она легко застегивается, а наличие карманов позволяет удобно хранить мелочи. Не упустите возможность обновить свой осенний или зимний гардероб этой уникальной курткой, которая станет вашим надежным спутником в любое время года.', 'attribute_isaspect': False, 'attribute_showascharacteristic': True}\n {'attribute_name': 'ColorBase', 'attribute_value': 'розовый', 'attribute_isaspect': True, 'attribute_showascharacteristic': True}\n {'attribute_name': 'ColorName', 'attribute_value': 'Розовый', 'attribute_isaspect': True, 'attribute_showascharacteristic': True}\n {'attribute_name': 'RussianSizeClothes', 'attribute_value': '44', 'attribute_isaspect': True, 'attribute_showascharacteristic': True}\n {'attribute_name': 'SizeManufacturer', 'attribute_value': '44', 'attribute_isaspect': True, 'attribute_showascharacteristic': True}\n {'attribute_name': 'SizeM', 'attribute_value': '42-44', 'attribute_isaspect': False, 'attribute_showascharacteristic': True}\n {'attribute_name': 'SexMaster', 'attribute_value': 'Женский', 'attribute_isaspect': False, 'attribute_showascharacteristic': True}\n {'attribute_name': 'HeightM', 'attribute_value': '168 см', 'attribute_isaspect': False, 'attribute_showascharacteristic': True}\n {'attribute_name': 'SizeGrid', 'attribute_value': 'Универсальная размерная сетка: Женская одежда', 'attribute_isaspect': False, 'attribute_showascharacteristic': False}\n {'attribute_name': 'Material', 'attribute_value': 'Полиэстер', 'attribute_isaspect': False, 'attribute_showascharacteristic': True}\n {'attribute_name': 'Composition', 'attribute_value': 'ПОЛИЭСТЕР', 'attribute_isaspect': False, 'attribute_showascharacteristic': True}\n {'attribute_name': 'InnerMaterial', 'attribute_value': 'Полиэстер', 'attribute_isaspect': False, 'attribute_showascharacteristic': True}\n {'attribute_name': 'StyleApparel', 'attribute_value': 'Повседневный', 'attribute_isaspect': False, 'attribute_showascharacteristic': True}\n {'attribute_name': 'Season', 'attribute_value': 'Еврозима', 'attribute_isaspect': False, 'attribute_showascharacteristic': True}\n {'attribute_name': 'clothescut', 'attribute_value': 'оверсайз', 'attribute_isaspect': False, 'attribute_showascharacteristic': True}\n {'attribute_name': 'DetailsClothes', 'attribute_value': 'Капюшон', 'attribute_isaspect': False, 'attribute_showascharacteristic': True}\n {'attribute_name': 'DetailsClothes', 'attribute_value': 'Карманы', 'attribute_isaspect': False, 'attribute_showascharacteristic': True}\n {'attribute_name': 'SleeveLength', 'attribute_value': 'Длинный', 'attribute_isaspect': False, 'attribute_showascharacteristic': True}\n {'attribute_name': 'FilterSizeINT', 'attribute_value': 'S', 'attribute_isaspect': False, 'attribute_showascharacteristic': False}\n {'attribute_name': 'FilterSizeINT', 'attribute_value': 'M', 'attribute_isaspect': False, 'attribute_showascharacteristic': False}\n {'attribute_name': 'DressLength', 'attribute_value': 'до бедра', 'attribute_isaspect': False, 'attribute_showascharacteristic': True}\n {'attribute_name': 'Name', 'attribute_value': 'Куртка женская короткая с капюшоном', 'attribute_isaspect': False, 'attribute_showascharacteristic': False}\n {'attribute_name': 'ColorBase_Forfilter', 'attribute_value': 'Розовый', 'attribute_isaspect': False, 'attribute_showascharacteristic': False}]",
         "[-1.68318301e-01  6.30905271e-01 -7.21997023e-02  9.46327209e-01\n -9.09658074e-02 -1.45868406e-01  6.24202490e-01 -9.22547877e-02\n  7.79841989e-02 -2.70827711e-02 -1.27989888e-01 -3.93655539e-01\n  4.80311215e-02  5.28276205e-01 -4.49589133e-01 -8.61456096e-02\n -1.12299085e+00 -1.60311058e-01  1.57420546e-01  7.02637807e-02\n -4.56868649e-01  5.23397148e-01 -2.69700736e-01 -4.60769162e-02\n -1.77348644e-01 -2.74163663e-01  3.37681651e-01 -2.31992617e-01\n -6.79083765e-02  2.62499809e-01  9.31835771e-01  2.25493073e-01\n -6.05157793e-01  5.80350980e-02 -1.27092078e-01  7.25066811e-02\n -1.03566028e-01  1.32570744e-01  1.81642994e-01  6.64866567e-01\n -1.49560750e-01  2.20978886e-01  1.46002084e-01  1.68746039e-01\n -4.73342240e-02 -2.16530517e-01 -5.76990247e-01 -1.77462727e-01\n  2.92333066e-02  7.37842247e-02 -1.43853098e-01 -4.43993419e-01\n  1.99882478e-01  7.93606043e-01 -7.80458272e-01  2.93027550e-01\n  1.38822600e-01 -5.33217907e-01 -8.57862234e-02  3.54121327e-01\n -1.59798592e-01  5.60174227e-01  5.23029864e-01  9.98823494e-02\n -1.87984377e-01 -3.44429277e-02 -2.78493047e-01 -8.28763485e-01\n -2.74896026e-01 -7.50243962e-02 -2.90337205e-01 -1.62154377e-01\n  1.73317164e-01  1.50580779e-01  3.03926766e-01 -7.46505618e-01\n  1.01910901e+00  2.96874583e-01  4.14806545e-01  1.72767341e-02\n -4.10086095e-01 -3.86270911e-01 -1.36145532e-01 -9.29339454e-02\n  3.27666104e-01 -5.73630989e-01 -3.12539041e-02 -5.43381989e-01\n -6.43984795e-01 -2.02549696e-01 -1.56691074e-02 -2.28664488e-01\n -3.63739550e-01 -5.91136403e-02 -2.53907561e-01  3.14131200e-01\n  4.72271830e-01 -3.34229112e-01  1.62139803e-01 -4.60910946e-01\n  4.18670624e-02  9.88515317e-02  9.91390496e-02 -2.22461417e-01\n  5.52504718e-01 -9.24895778e-02  4.26593989e-01 -4.52371985e-01\n -4.63786423e-02 -1.78884327e-01 -6.30657256e-01 -2.89205313e-01\n  3.25521231e-02  4.17161316e-01  2.19117790e-01 -6.61216557e-01\n  4.10503387e-01 -2.33214632e-01  5.65836191e-01 -1.72049299e-01\n -2.83741653e-01  1.50391430e-01  1.68135971e-01 -3.01963836e-02\n  7.84475505e-02 -5.33739105e-02 -4.36077178e-01  2.17867061e-01\n  1.01581246e-01  4.57113832e-02  2.45701477e-01  2.28579849e-01\n -3.77426893e-02  1.37618572e-01 -1.61218643e-03 -7.24519312e-01\n  4.84753430e-01 -4.00294960e-01  1.68786466e-01 -1.34958327e-02\n -6.21158123e-01 -2.98481911e-01  3.77850980e-02  4.31481183e-01\n  1.06431097e-01  1.09120679e+00 -5.81123352e-01  2.34824777e-01\n -2.61704206e-01  5.52868992e-02  4.48369607e-03  3.82494450e-01\n  2.95993304e+00 -2.30003074e-01  1.54357702e-01  2.76271760e-01\n -2.07655877e-02 -1.09015472e-01 -4.83817458e-02  2.76488423e-01\n -2.53120899e-01 -4.47514325e-01  1.08566009e-01  2.89295256e-01\n -7.51631796e-01  3.69933903e-01 -3.32253069e-01 -7.45731354e-01\n -2.12740704e-01  6.11819148e-01  4.06112075e-01  1.31645560e-01\n  2.00402081e-01  2.72401124e-02 -4.44337279e-01 -6.15044869e-02\n  1.23337880e-01  9.47374105e-03 -1.73354363e+00 -2.04905346e-02\n -1.68793559e-01 -7.34547675e-01 -5.13604045e-01  2.67475128e-01\n -3.16856205e-01 -2.97719419e-01 -1.85271919e-01  2.33974651e-01\n -6.90876186e-01 -5.28842658e-02 -3.23208809e-01  1.17950118e+00\n -7.10413158e-02 -1.22103319e-02 -1.09678015e-01 -8.27938616e-02\n  4.65146363e-01  1.43569529e-01 -2.84819722e-01 -4.72910166e-01\n  9.16405916e-01 -1.14507246e+00  5.91885448e-01  1.82803169e-01\n  1.06459133e-01 -2.24395186e-01  3.17822993e-02 -2.97597647e-01\n -5.62947616e-02  1.00438619e+00 -2.43512839e-01  4.89568412e-02\n  9.21135768e-02  1.96289226e-01 -1.79410443e-01  5.48591167e-02\n -4.09187436e-01  3.71114492e-01  2.66521364e-01  9.61893439e-01\n -3.04414421e-01  4.72357690e-01 -5.25374770e-01  2.04108283e-01\n  6.17018998e-01 -1.25032648e-01 -2.07735226e-02  3.01061034e-01\n  3.09501708e-01  1.17283285e-01  5.10315359e-01 -4.56190407e-01\n  8.38569045e-01  9.70813930e-02 -1.42148048e-01 -4.80990618e-01\n -2.74999619e-01  8.70873690e-01  4.81392860e-01 -5.22205904e-02\n -1.05115578e-01 -6.45636618e-02  3.79942447e-01 -2.74508417e-01\n -9.26986933e-02 -2.91077018e-01 -4.47917283e-02 -6.47206068e-01\n  4.35413420e-03  9.55038965e-01  8.96335781e-01 -2.24516839e-01\n  1.59470558e-01 -2.91358680e-01 -1.00055903e-01  3.03088456e-01\n -4.45783854e-01  4.81463015e-01  1.80257216e-01  4.99061823e-01\n  7.16555595e-01 -3.03374588e-01  7.62342885e-02 -1.92795336e-01\n -1.56154141e-01  2.02844605e-01 -3.54011208e-01  2.66891658e-01\n  8.97610188e-02 -3.85176063e-01  8.58145952e-02  1.89610168e-01\n -2.55060315e-01  8.93611759e-02 -3.90124440e-01 -3.43574882e-01\n  6.48785055e-01  3.94818306e-01 -1.45553961e-01  1.34532881e+00\n  3.80091965e-02 -3.78586352e-01 -2.00467691e-01  2.10537285e-01\n -9.14173782e-01 -2.40294367e-01 -1.55441657e-01  7.58378267e-01\n -2.67084613e-02 -6.31935596e-01  8.92993808e-03 -6.78816736e-02\n  1.45172060e-01  1.48106694e-01  3.23119462e-02 -4.04552609e-01\n  4.81879562e-01 -3.87640357e-01 -6.52971268e-02 -3.56621623e-01\n  8.91586185e-01 -2.58586019e-01 -1.56121165e-01 -1.58911377e-01\n  1.04956508e+00  1.78131014e-01 -8.61447275e-01 -2.94300604e+00\n -4.21359658e-01  1.43033296e-01 -1.32035524e-01 -1.07206941e+00\n  7.96873942e-02 -1.09778598e-01  2.42509291e-01 -2.16797322e-01\n -2.33841330e-01 -5.76290190e-02 -9.49595422e-02  3.39837462e-01\n -3.43091875e-01 -5.75032830e-01 -5.65115064e-02 -1.79597229e-01\n  2.11263612e-01 -7.04639316e-01  4.77336347e-02  1.59487858e-01\n -2.13972926e-02  2.09893703e-01 -1.12807512e-01 -4.02571440e-01\n -7.15025127e-01  2.76752561e-01 -9.22885984e-02  2.28634015e-01\n -2.01989591e-01 -6.88529536e-02 -3.64351869e-01 -1.72482178e-01\n  1.37565851e-01 -2.29177803e-01 -8.62709582e-02 -3.17523777e-02\n -2.64510512e-04  5.95599115e-02 -2.13861585e-01 -8.42299610e-02\n -1.93929410e+00 -6.51350975e-01  4.33227062e-01 -2.82052040e-01\n  2.72150576e-01  3.05034041e-01 -2.35196561e-01  4.89534438e-02\n -2.64246643e-01  1.59076989e-01  2.42468402e-01  4.87080067e-02\n  3.43522847e-01 -3.14823657e-01 -8.43104571e-02 -1.26161233e-01\n -2.79825360e-01  8.68363380e-02 -2.65681714e-01 -3.73873264e-01\n -5.35005778e-02 -1.65805727e-01  2.74529532e-02 -1.23232231e-01\n  1.16903827e-01 -2.07286254e-01  9.91047993e-02  8.03773224e-01\n -3.78260761e-01 -2.09206730e-01  6.51489198e-02 -2.93376863e-01\n -4.64478582e-02 -1.92529932e-01  6.32069558e-02 -3.94444168e-01\n  1.68652579e-01  6.91293120e-01  4.49495882e-01 -3.10042024e-01\n  1.74527109e-01 -6.54752553e-02 -7.14008927e-01  2.32862353e-01\n  6.68094158e-01  4.58190590e-02 -3.59595418e-02  1.90591827e-01\n -7.58115292e-01 -6.08208418e-01 -1.05973780e-01  1.45879924e-01\n  4.42945689e-01  1.08909160e-01 -3.49590033e-01  6.63229227e-01\n  2.68000484e-01  1.84273899e-01  3.96851599e-02  2.02873886e-01\n -6.94501996e-02 -5.86270392e-02  5.61666489e-02 -3.46814871e-01\n -4.76881266e-01  1.40422389e-01  4.87974972e-01  2.38996029e-01\n -2.22614020e-01  4.14290130e-01 -8.79185081e-01 -2.93956697e-01\n -6.10352337e-01 -4.61565256e-01  4.34088916e-01  1.25012398e-02\n  1.85219765e-01  6.67009801e-02  4.72584933e-01  1.99777931e-01\n  2.37571597e-02 -5.84553182e-02  1.25451192e-01  1.80826426e+00\n -8.24932814e-01  5.68428040e-01  1.53316379e-01  1.18729569e-01\n  9.00916308e-02  1.86531693e-01  2.25368708e-01 -2.70937085e-01\n  9.73446369e-02 -3.08339596e-02  1.23981148e-01  1.18918270e-01\n -2.08900213e-01  3.11949790e-01 -4.07408535e-01  2.95660108e-01\n  7.17645735e-02  3.09679627e-01 -3.16947848e-01 -1.10404924e-01\n -5.56685776e-02 -4.21163775e-02 -1.99712634e-01 -1.52534902e+00\n -5.36106467e-01  1.08578153e-01 -2.08342403e-01  2.94471979e-02\n  6.52469695e-02  3.11118245e-01 -6.09968424e-01  6.46396518e-01\n  6.71589375e-02  1.93017364e-01 -4.27255750e-01  5.44356823e-01\n -5.28591216e-01  2.16520548e-01  5.69521114e-02 -5.92057586e-01\n -6.22501522e-02  1.99073136e-01  1.52160540e-01  1.37755644e+00\n  4.67032045e-01  5.13908267e-03  4.50952947e-02 -6.19418383e-01\n  4.09090608e-01 -2.68802196e-02 -1.56891465e-01  2.51980245e-01\n  1.60417259e-02  2.41117388e-01 -3.05472195e-01 -2.75238186e-01\n -9.61331248e-01 -2.12391138e-01 -1.73587108e+00  2.41643220e-01\n  9.53071266e-02  2.69478321e-01 -1.95482731e-01  5.02340913e-01\n -3.27324808e-01 -9.78745967e-02 -7.97485113e-02  2.86277384e-01\n -1.86601281e-02  4.90916967e-02  7.74141103e-02 -9.93020475e-01\n -1.38827592e-01  1.37353897e-01 -2.12800533e-01 -2.32440963e-01\n -4.32732664e-02 -4.53690052e-01  4.33827519e-01 -3.02617818e-01]",
         "7530",
         "16774425",
         "9290958"
        ],
        [
         "28",
         "6721305",
         "Шорты SELA",
         "[{'attribute_name': 'Type', 'attribute_value': 'Шорты', 'attribute_isaspect': False, 'attribute_showascharacteristic': True}\n {'attribute_name': 'Brand', 'attribute_value': 'SELA', 'attribute_isaspect': False, 'attribute_showascharacteristic': True}\n {'attribute_name': 'Annotation', 'attribute_value': 'Мужские свободные шорты из коллекции SELA Premium. Легкая натуральная ткань из 100% льна премиум качества. Расслабленный силуэт с комфортной средней посадкой. Эластичный пояс с кулиской. Прорезные карманы по бокам. Задний карман листочка. На модели размер L. Параметры модели: 98/77/98, рост 188.', 'attribute_isaspect': False, 'attribute_showascharacteristic': True}\n {'attribute_name': 'ColorBase', 'attribute_value': 'серо-бежевый', 'attribute_isaspect': True, 'attribute_showascharacteristic': True}\n {'attribute_name': 'ColorName', 'attribute_value': 'серо-бежевый', 'attribute_isaspect': True, 'attribute_showascharacteristic': True}\n {'attribute_name': 'RussianSizeClothes', 'attribute_value': '54', 'attribute_isaspect': True, 'attribute_showascharacteristic': True}\n {'attribute_name': 'SizeManufacturer', 'attribute_value': 'XXL', 'attribute_isaspect': True, 'attribute_showascharacteristic': True}\n {'attribute_name': 'SizeM', 'attribute_value': '50', 'attribute_isaspect': False, 'attribute_showascharacteristic': True}\n {'attribute_name': 'SexMaster', 'attribute_value': 'Мужской', 'attribute_isaspect': False, 'attribute_showascharacteristic': True}\n {'attribute_name': 'SizeGrid', 'attribute_value': 'Универсальная размерная сетка: мужская одежда', 'attribute_isaspect': False, 'attribute_showascharacteristic': False}\n {'attribute_name': 'Composition', 'attribute_value': '100% Лен', 'attribute_isaspect': False, 'attribute_showascharacteristic': True}\n {'attribute_name': 'StyleApparel', 'attribute_value': 'Повседневный', 'attribute_isaspect': False, 'attribute_showascharacteristic': True}\n {'attribute_name': 'Season', 'attribute_value': 'Лето', 'attribute_isaspect': False, 'attribute_showascharacteristic': True}\n {'attribute_name': 'FilterSizeINT', 'attribute_value': 'XXL', 'attribute_isaspect': False, 'attribute_showascharacteristic': False}\n {'attribute_name': 'NumItemsDcml', 'attribute_value': '1', 'attribute_isaspect': False, 'attribute_showascharacteristic': True}\n {'attribute_name': 'Name', 'attribute_value': 'Шорты мужские sela', 'attribute_isaspect': False, 'attribute_showascharacteristic': False}\n {'attribute_name': 'ColorBase_Forfilter', 'attribute_value': 'Серый', 'attribute_isaspect': False, 'attribute_showascharacteristic': False}]",
         "[-2.47549266e-03  5.00976980e-01 -7.26769984e-01  8.46360698e-02\n  1.89471439e-01 -9.19972807e-02 -6.22012556e-01 -3.42559144e-02\n  7.20366389e-02 -3.35521996e-04  1.68761149e-01 -8.92521739e-02\n -9.59697068e-02 -3.26575637e-02 -8.03523242e-01  1.60641283e-01\n -9.35115099e-01 -2.86761284e-01  8.45238805e-01 -7.56906867e-01\n -3.38766724e-03  3.06019515e-01 -5.60292602e-01  2.66052902e-01\n  2.49654830e-01 -3.45511675e-01  2.46575102e-01 -1.78219348e-01\n  1.69318616e-01 -2.91307628e-01  2.29562059e-01  1.78941473e-01\n -1.21782370e-01 -1.45083651e-01  5.12163118e-02  2.01929107e-01\n -6.76276609e-02  5.39597511e-01 -5.80402613e-02  4.05444026e-01\n -1.16001219e-01 -1.76467881e-01  7.92074323e-01 -1.43189073e-01\n  1.74373060e-01 -3.44805717e-01 -1.50966451e-01  2.82587409e-01\n  2.44987503e-01  4.82937455e-01 -4.42735702e-02  4.99519169e-01\n -1.98282003e-01 -5.00855565e-01 -4.07731384e-01  4.48210478e-01\n  4.15842235e-03  7.23938346e-01  9.57111642e-02 -3.36591482e-01\n -1.69369197e+00 -6.17681146e-02  1.93738252e-01  2.76274607e-02\n  6.68891191e-01  1.07018836e-01  1.03243649e-01  1.73663139e+00\n -2.86290884e-01  2.52373308e-01 -5.84216237e-01  6.25376761e-01\n -1.15018763e-01 -3.53084415e-01 -2.23822147e-01 -4.73667681e-01\n -1.95370764e-02  1.89340353e-01 -2.12840140e-02 -2.35633105e-01\n -1.80569097e-01 -6.43220484e-01 -3.03121567e-01 -1.52849242e-01\n  2.20568210e-01  2.31024206e-01 -6.88796520e-01 -6.53523505e-02\n  5.61281800e-01 -5.73735118e-01  1.47247314e-02 -1.06445193e-01\n -1.31797582e-01 -5.17941594e-01  3.24908614e-01 -2.80749261e-01\n -4.04622257e-01 -2.81254619e-01  2.47754693e-01  1.34581715e-01\n -1.59991920e-01  2.20564157e-02  2.04905838e-01  7.49710202e-02\n  2.39770025e-01 -4.16498631e-01 -1.55956745e-02 -1.18904948e-01\n  4.15978730e-01 -1.18551493e-01 -6.71460569e-01 -6.75800443e-01\n -2.64866948e-02 -2.99437940e-02  3.03341895e-01 -4.99763191e-01\n  3.20337057e-01  3.78547907e-01  1.85811281e-01 -5.60456514e-01\n -2.62897491e-01  3.91079634e-01 -7.71476030e-02 -1.05598420e-02\n -6.97367117e-02 -1.48986459e-01  3.56992364e-01 -2.44533464e-01\n -4.38804686e-01  8.49714279e-02  2.97007650e-01 -1.40185118e-01\n  8.89814794e-02 -3.74998629e-01 -7.29750276e-01 -2.70608336e-01\n  1.66598856e-01  2.61124492e-01  1.85318500e-01  3.37742984e-01\n  1.92517340e-01  2.85534352e-01  2.93958932e-01  1.82164401e-01\n  6.27246499e-01  3.01946193e-01 -4.01055247e-01 -7.21303448e-02\n  4.36240643e-01  4.74306643e-01 -1.03879079e-01 -7.94851780e-02\n  2.95400524e+00  6.85771823e-01 -5.63626438e-02  9.26626772e-02\n -5.80075383e-01 -2.27415055e-01 -2.06186175e-02  5.31606078e-01\n  1.96144432e-01  5.59251830e-02 -3.33572030e-01 -6.02293611e-02\n  2.27458060e-01  7.28950083e-01  5.05862534e-01 -3.74054730e-01\n  2.27301240e-01 -3.18205878e-02  3.08648050e-01  9.89731997e-02\n -2.42400944e-01 -8.93214941e-02  3.20163995e-01 -1.12046301e+00\n  3.40031505e-01  1.77361175e-01  7.32227921e-01 -1.59949064e-01\n  7.54433870e-03 -4.38376307e-01 -7.76845962e-02  4.88915205e-01\n  2.24790812e-01 -2.08302677e-01  2.09895372e+00  2.18830556e-02\n -6.80311620e-02 -4.72218215e-01 -3.95084172e-03 -3.33726376e-01\n -8.80417973e-02 -9.51223746e-02 -3.99134964e-01  2.11579368e-01\n  7.70059675e-02  1.73672616e-01 -4.52953160e-01  2.79984623e-01\n  1.21809280e+00  1.24065116e-01  6.61907852e-01 -5.77217579e-01\n -1.40775546e-01  4.68243062e-02  6.54278636e-01  1.39038682e-01\n  2.07261220e-01  4.45499361e-01 -4.57062364e-01 -2.24530727e-01\n  2.49425381e-01 -4.04349089e-01  2.87649423e-01  3.58779848e-01\n  5.60731292e-02  2.75577456e-01 -3.07747155e-01 -7.61502624e-01\n  1.60116583e-01  2.92279333e-01 -5.22372246e-01  5.95175266e-01\n  8.35150123e-01  2.56939717e-02 -4.25525546e-01 -3.63787234e-01\n -1.53513983e-01 -2.69014657e-01  7.25776434e-01  6.35339469e-02\n  1.83523208e-01 -1.34934217e-01 -1.30737990e-01 -3.87600064e-01\n -1.41753510e-01  2.17047036e-01 -7.72263110e-02  3.28639477e-01\n  1.06767744e-01 -1.95783883e-01  3.58905613e-01  7.89981633e-02\n -7.52478838e-04 -1.46251202e-01 -2.06040859e-01 -2.37377599e-01\n  2.00531706e-01  5.54395735e-01 -3.16835940e-02 -5.33523321e-01\n -1.89511389e-01 -5.84276438e-01 -1.10915720e+00  6.43238425e-02\n -1.69245675e-01  3.49380255e-01 -1.67031169e-01 -8.95592570e-02\n -6.25923499e-02 -4.80687678e-01  6.64640784e-01  6.88322783e-01\n -2.97957845e-02 -1.48689479e-01 -1.98723748e-01  2.55267322e-01\n  3.65281880e-01 -1.29698873e-01 -2.92776227e-01 -2.35398710e-01\n  1.60938546e-01  8.24387670e-02 -3.06982040e-01 -5.81693947e-02\n  2.87767351e-01  2.43219301e-01 -8.11063051e-02  8.27436268e-01\n  4.67778146e-02  6.31486177e-01 -3.47922295e-01  9.45605993e-01\n  5.96968383e-02 -1.17104329e-01  1.94217920e-01  5.22930324e-01\n  1.87005788e-01 -2.22209275e-01  2.43939370e-01 -3.52328300e-01\n  6.78233653e-02  5.24603248e-01 -7.26209521e-01  1.33884400e-01\n -7.74772614e-02  1.65276781e-01  4.59819555e-01 -3.70737910e-03\n  1.71226037e+00 -5.61646342e-01  3.64148915e-02 -3.41099232e-01\n -1.15193501e-01  1.05066076e-01  2.21567690e-01 -2.93823862e+00\n  1.33175537e-01  9.86859426e-02  6.91770166e-02  8.68300200e-02\n  2.40685165e-01 -4.44431603e-02  6.62629247e-01  2.12278545e-01\n  1.95628271e-01 -8.03440332e-01  5.61701536e-01  5.60711741e-01\n  3.17881107e-02  1.57411993e-01  1.55752599e-02  1.36188221e+00\n -1.08596647e+00  1.29112706e-01  1.12682194e-01 -1.00021183e-01\n -6.02960408e-01 -6.91348553e-01  3.47936392e-01  8.58962238e-02\n  2.47482210e-04  6.88969254e-01  1.02300279e-01  2.31545269e-02\n  5.87528169e-01  5.11961430e-02 -3.64087999e-01  3.84283245e-01\n  2.38483697e-01 -2.14003742e-01  1.01223215e-01  1.51876509e-02\n -1.26953423e-01 -1.85525507e-01  3.40277612e-01  1.12456053e-01\n -1.83029437e+00 -4.59182024e-01  1.17160785e+00 -9.87800717e-01\n -2.07170069e-01  1.49108708e-01 -3.92960668e-01  2.56396055e-01\n -1.44991100e-01  7.77810663e-02 -5.43987602e-02 -1.67539746e-01\n -8.30656439e-02 -1.94919348e-01  4.15564656e-01 -3.71643513e-01\n -4.16021764e-01  2.67718732e-02 -7.56453574e-02  4.07949299e-01\n -3.83828104e-01  1.86124891e-02  3.36686313e-01  6.74405992e-02\n  4.31597114e-01 -1.99294209e-01 -2.04648778e-01 -1.19701385e+00\n  2.10498959e-01  3.12407464e-02  8.44134390e-03 -4.78062689e-01\n -3.56235027e-01  6.34362221e-01 -8.48659813e-01 -4.97397780e-01\n -1.12241685e-01  9.52597141e-01 -3.91773403e-01  2.37064362e-02\n  4.19544905e-01  3.68552923e-01 -9.98138860e-02 -5.84925771e-01\n -5.54632545e-02  6.87343478e-02 -2.91435003e-01  2.73547828e-01\n -7.01988339e-01  1.04704812e-01  3.71180862e-01  2.37975731e-01\n -1.89308748e-02 -1.55770257e-01 -9.51776505e-01  2.77012944e-01\n -4.72797036e-01 -3.38355929e-01  1.40748441e-01 -3.66239637e-01\n -1.68500185e-01 -6.80118203e-02 -2.30797052e-01  4.41001058e-02\n  6.62777662e-01  2.75771260e-01  2.48119831e-02  1.33067474e-01\n -4.24700171e-01  2.06809402e-01  1.56530231e-01 -4.41951871e-01\n -1.24114603e-02 -2.02699199e-01 -9.22687411e-01 -4.62192655e-01\n  2.86285996e-01  6.48733318e-01 -1.98197961e-01 -4.49887812e-01\n -6.64262027e-02 -1.82531387e-01 -1.89627796e-01  1.46541452e+00\n -4.43030894e-02 -4.31526154e-02  3.70713949e-01  5.51706910e-01\n  1.93282634e-01 -4.03983474e-01  5.25893718e-02  3.44332278e-01\n -3.78972292e-01  1.20088667e-01  2.43788987e-01 -2.92082012e-01\n -2.63820142e-01 -5.54153085e-01 -4.58053172e-01  3.70607495e-01\n  1.96432814e-01  7.33540058e-02  3.56250405e-01  2.17433020e-01\n -1.80548832e-01  2.27827474e-01 -2.50262201e-01 -9.96867120e-01\n  1.97783142e-01 -4.22882318e-01 -1.04064316e-01 -7.52323866e-03\n  6.00322187e-02 -6.69813156e-01 -6.15734875e-01  2.32901439e-01\n  1.57042027e-01 -2.32182354e-01  1.01650238e-01  7.58132577e-01\n  3.71067226e-02 -3.74151707e-01 -2.73395963e-02 -9.56980944e-01\n -1.41199812e-01  1.95543468e-02 -1.50383919e-01  5.25350928e-01\n  1.10460110e-01  5.26237071e-01 -6.35391325e-02 -3.38381171e-01\n -1.40745938e-01  4.36779022e-01  6.12885952e-02  1.45727903e-01\n -1.27292261e-01  1.82844490e-01 -4.42419171e-01 -1.86987370e-01\n -5.72558880e-01 -4.15150344e-01 -1.26178658e+00 -1.75494045e-01\n  8.96002471e-01  3.30346912e-01 -9.77563336e-02  5.08120894e-01\n -6.05542958e-02  3.17481220e-01 -3.63155067e-01  3.76382798e-01\n  2.07172632e-01 -4.91681397e-01  6.36415482e-01 -8.73977482e-01\n  1.29936546e-01 -3.15194696e-01  2.10414097e-01  9.15295899e-01\n -5.49339294e-01 -1.06969535e-01 -7.42021799e-02  1.96688727e-01]",
         "7557000",
         "66728176",
         "14621719"
        ],
        [
         "29",
         "9015800",
         "Костюм для малышей",
         "[{'attribute_name': 'Type', 'attribute_value': 'Костюм для малышей', 'attribute_isaspect': False, 'attribute_showascharacteristic': True}\n {'attribute_name': 'Brand', 'attribute_value': 'Нет бренда', 'attribute_isaspect': False, 'attribute_showascharacteristic': True}\n {'attribute_name': 'Annotation', 'attribute_value': 'Стильный алфавитный принт, удобная мягкая ткань, утолщенная блузка плюс брюки, подходящие для зимнего ношения ребенка.(Исключая очки, шляпы, обувь и другие аксессуары)', 'attribute_isaspect': False, 'attribute_showascharacteristic': True}\n {'attribute_name': 'ColorBase', 'attribute_value': 'голубой туман', 'attribute_isaspect': True, 'attribute_showascharacteristic': True}\n {'attribute_name': 'ColorName', 'attribute_value': 'Синий', 'attribute_isaspect': True, 'attribute_showascharacteristic': True}\n {'attribute_name': 'RussianSizeClothes', 'attribute_value': '104', 'attribute_isaspect': True, 'attribute_showascharacteristic': True}\n {'attribute_name': 'SizeManufacturer', 'attribute_value': '4Y', 'attribute_isaspect': True, 'attribute_showascharacteristic': True}\n {'attribute_name': 'SizeM', 'attribute_value': '80-86', 'attribute_isaspect': False, 'attribute_showascharacteristic': True}\n {'attribute_name': 'SexMaster', 'attribute_value': 'Мальчики', 'attribute_isaspect': False, 'attribute_showascharacteristic': True}\n {'attribute_name': 'HeightM', 'attribute_value': '80 см', 'attribute_isaspect': False, 'attribute_showascharacteristic': True}\n {'attribute_name': 'SizeGrid', 'attribute_value': 'Универсальная размерная сетка: детская одежда', 'attribute_isaspect': False, 'attribute_showascharacteristic': False}\n {'attribute_name': 'Material', 'attribute_value': 'Софт', 'attribute_isaspect': False, 'attribute_showascharacteristic': True}\n {'attribute_name': 'Composition', 'attribute_value': '65%хлопок 35%полиэстер', 'attribute_isaspect': False, 'attribute_showascharacteristic': True}\n {'attribute_name': 'StyleApparel', 'attribute_value': 'Домашний', 'attribute_isaspect': False, 'attribute_showascharacteristic': True}\n {'attribute_name': 'Season', 'attribute_value': 'Зима', 'attribute_isaspect': False, 'attribute_showascharacteristic': True}\n {'attribute_name': 'DetailsClothes', 'attribute_value': 'Аппликация', 'attribute_isaspect': False, 'attribute_showascharacteristic': True}\n {'attribute_name': 'NumItemsDcml', 'attribute_value': '2', 'attribute_isaspect': False, 'attribute_showascharacteristic': True}\n {'attribute_name': 'Name', 'attribute_value': 'Костюм для малышей', 'attribute_isaspect': False, 'attribute_showascharacteristic': False}\n {'attribute_name': 'ColorBase_Forfilter', 'attribute_value': 'Голубой', 'attribute_isaspect': False, 'attribute_showascharacteristic': False}]",
         "[-0.04138473  0.29779547 -1.0842412   0.2606009   0.6283234  -0.5240425\n -0.3053312   0.6269492  -0.03269669 -0.12581195  0.13145064  0.1678823\n  0.31342256  0.2544698   0.32597473  0.11921166 -1.1138679   0.36295584\n  0.22415872 -0.43228203 -0.2750255  -0.18162131  0.47145855  0.75947285\n -0.12550193 -0.8112929   1.0333731   0.20299235 -1.1843194   0.47601968\n -0.52860665  0.12737495  0.06071767 -0.21992916 -0.18556163  0.5878978\n  0.6711657   0.5779896  -0.25919527 -0.1563099  -0.29669717 -0.0490613\n  0.15744928  0.32542586 -0.33093187 -0.5436425   0.736638    0.29199147\n  0.36733162 -0.10643148  0.00301851 -0.13108085  0.03282221  0.02425785\n -0.6490753   0.9166384  -0.40008497 -0.02479498  0.01510537  0.10990021\n -0.5909537   0.18782727  0.4588259   0.54444337 -0.5465172  -0.39241996\n -0.5009192  -0.51271665  0.26463264 -0.44100457 -0.4943909  -0.37725097\n  0.17977005 -0.6479253  -0.23291507 -0.76047945  1.1472796   0.04111989\n  0.17476267  0.07460969 -0.09986213 -0.01369888 -0.25957552  0.29264823\n -0.2634035   0.6154775  -0.1066158  -0.3528266   0.30525243 -0.15987319\n  0.07393467 -0.7902846  -0.33024704  0.10182407  0.05613425  0.21990979\n -0.09569237 -0.01617135  0.2782654  -0.32651725 -0.4605076  -0.03760928\n -0.25888848  0.41465306  0.68447125  0.07012609  0.49891174  0.64810497\n -0.24132426 -0.05852754 -1.2206541   0.10061136 -0.16417986  0.04174481\n -0.00665005  0.00825071 -0.17286763 -0.54848456  0.03871088 -0.06308989\n  0.12595573  0.612314   -0.5131377  -0.4113899   0.08256745 -0.42237723\n -0.03382868 -0.28301924 -0.09331819  0.10643162 -0.3548489  -0.01793657\n  0.29491448 -0.06863881  0.11180168  0.06586304 -0.03410117 -0.47847086\n  0.02025054 -0.13920464 -0.37781602  0.11203127  0.49076477 -0.3368559\n  0.279937    0.3784036  -0.14846194 -0.01099874  0.25626957  0.09937862\n -0.0922094   0.18508792  2.54546    -0.4294397  -0.19502956  0.27270442\n -0.7448927   0.5712893  -0.15227824  0.67284065  0.6193449   0.6847954\n -0.00553714  0.24500994 -0.17285733  1.3728712   0.7189498  -0.06230718\n -0.5311077   0.53831327  0.15470342  0.32849047 -0.18841791 -0.01345677\n  0.4746626  -0.26838914  0.4963217   0.1449322  -0.48640963  0.78231245\n -0.6101731  -0.767568    0.21981007  0.3026036  -0.17547943  0.41112423\n  0.25955486 -0.18092933 -0.32786423 -0.42584497 -0.17317206  0.892728\n -0.418653   -0.11733243  0.24804989  0.07265    -0.01435157 -0.39808893\n  0.01156559 -0.11571492  0.66463006 -0.8790709   0.02629022  0.33485445\n -0.39735126  0.9017043   0.6559248   0.10481598 -0.0153361  -0.39274013\n -0.23181084 -0.6789372   0.66143423  0.55795133  0.39675713 -0.31059527\n -0.22638093 -0.16227543 -0.3781532   0.07741982  0.4425437   0.12804163\n -0.26335424 -0.50632083 -0.62098444  0.03461868  0.4961878  -0.16717438\n -0.48188937 -0.38476968  0.73355365  0.07918914  0.30875513 -0.04275472\n  0.13140833 -0.60361063 -0.18511817 -0.3965714  -0.03228253  0.15545496\n -0.06826741 -0.01556499  0.6415974  -0.59608376  0.55131066 -0.16535327\n  0.06750008 -0.62613624 -0.31781676 -0.44530725  1.293623   -0.3539518\n  0.45623806 -0.494825   -1.0483699   0.49760884 -0.27358592  0.20734096\n  0.7675722  -0.17456028  0.05078705 -0.50182915  0.50184447 -0.5183523\n -0.10166743 -0.3662523   0.07725809  0.5957808  -0.62439024 -0.4946302\n -0.98973143 -0.4405654   0.02626912  0.46498045 -0.25367987  0.3382687\n  0.10957187  0.18396834  0.04426285  0.9814452   0.31993937  0.24945143\n -0.20580703 -0.42300296 -0.6553249   0.2655194   0.17401901  0.3209269\n -0.14475355 -0.27778873 -0.01210575 -0.04863557  0.19077866 -0.06773107\n -0.3211044   0.18820974  0.15859945  0.00993551 -0.09629611 -0.46740937\n -0.8304461   0.26556975  0.84235036 -0.05331659 -0.93335235  0.06189409\n  0.33054602 -2.5330458  -0.07186487  0.09088036 -0.5957954   0.15995874\n  0.53999156 -0.12141851  0.5678555   0.04027648  0.46818054 -0.4416452\n  0.09329814 -0.621397    0.10475256 -0.6457008  -0.31410423 -0.8523249\n  0.29811305 -0.37888786 -0.20314606 -0.06864324  0.10820651 -0.38781983\n  0.00962898 -0.13521609 -0.3687681  -0.08269054 -0.5267622  -0.15527382\n  0.17452836 -0.574962    0.21464211 -0.5101449   0.16006868 -0.3392383\n  0.4179383  -0.15009898 -0.45139867  0.39805     0.4940274   0.43293294\n -0.7759993  -0.89374375 -0.24917707  0.5350017  -0.03679854 -0.3295679\n -0.8662189   0.467256    0.48901325 -0.20904687 -0.3404671   0.3359694\n  0.21754459 -0.15937525 -0.03984793 -0.08914261 -0.29152364  0.3016257\n  0.45927113  0.4737444   0.9897053  -0.31466243  0.57444674  0.41689998\n  0.17629899 -0.45046282  0.04483762 -0.5128474   0.22379735  0.10295913\n  0.25011346 -0.67353284 -0.5450104   0.19646846 -0.45289144 -0.19544077\n -0.26822627  0.9152365   0.35427397  0.32838702  0.63553774 -0.37767375\n -0.05945475 -0.6233423  -0.01100681  0.24988157  0.4185512  -0.00775033\n -0.27290812  0.54845417  0.5165112   0.27550346  0.4581395   0.01063868\n -0.03901365 -0.21260162 -0.06414831 -0.7943965  -0.26313543  0.08020996\n -0.4395959   0.6803863   0.09395078  0.18842807  0.45767277 -0.0185698\n -0.2690825   0.27903804 -0.23591429 -0.5520747  -0.16463618  0.34637368\n  0.06684163 -0.03532889 -0.465645   -0.66628146 -0.12825696 -0.02017881\n -0.08960109 -0.36550647 -0.10224812  0.17842054  0.3526165   1.2667378\n -0.05923425 -0.15128614  0.34266812 -0.13080378  0.17298016  0.04229432\n -0.19516379  0.49809003 -0.25541925 -0.02944488  0.10609807 -0.08650149\n -0.02848771 -0.12218729 -0.2108643  -0.01693237  0.52561086  0.7225571\n  0.10609746  0.37510517 -0.04908448  0.39657694 -0.6116065  -0.2039649\n  0.6830985   0.3602175   0.07962103  0.28629556 -0.2467962  -0.10661634\n -0.10892633  0.55421567  0.21136981 -0.31107295 -0.401868    0.9047988\n  0.38437432 -0.21399261  0.00949266 -0.26258534 -0.4531084  -0.06005056\n -0.35157758  1.2029235   0.7048541   0.7731018   0.5565914  -0.07816792\n  0.64284027  0.04362155  0.16592658  0.06061229  0.23653156  0.27258924\n  0.17411067  0.32411125 -0.06391    -0.10049786 -1.9103678   0.41482615\n  0.5843394  -0.2852338  -0.6665287   0.5264343  -0.07483132  0.38509086\n -0.46686912 -0.03718369  0.24881071  0.27458954  0.34651473 -0.3178287\n -0.39933747  0.07837433  0.4363162  -0.2743331  -0.00755315  0.0584639\n  0.25182402  0.43314347]",
         "7633",
         "280009971",
         "41014154"
        ],
        [
         "30",
         "9070174",
         "Дутики Mascotte",
         "[{'attribute_name': 'Name', 'attribute_value': 'Дутики Mascotte 128-321827-0216', 'attribute_isaspect': False, 'attribute_showascharacteristic': False}\n {'attribute_name': 'Type', 'attribute_value': 'Дутики', 'attribute_isaspect': False, 'attribute_showascharacteristic': False}\n {'attribute_name': 'Brand', 'attribute_value': 'Mascotte', 'attribute_isaspect': False, 'attribute_showascharacteristic': True}\n {'attribute_name': 'Annotation', 'attribute_value': 'Дутики женские Маскотт укороченные текстильные утепленные на байке демисезон. <br/><br/>Длина стопы по размерам: 36р -23,5 см, 37р -24 см, 38р -24,5 см, 39р -25 см, 40р -25,5 см, 41р -26 см. Полнота модели 7 - комфортно на среднюю и широкую стопу. При выборе размера ориентируйтесь на размерную сетку на фотографиях в карточке товара. Если вы ищете половинный размер, рекомендуем приобрести пару на размер больше.<br/><br/>Ультрамодные в этом сезоне женские укороченные дутики угги - идеальное решение на осенний период с температурой +5/-10. Текстильный верх дополнен резиновой облегченной подошвой и подкладом из мягкой байки. Низкие ботинки дутыши от бренда Mascotte натягиваются на ногу без застежек. Это очень удобные осенние полуботинки – мягкие и комфортные, прекрасно сидят по ноге и создают максимальный комфорт при ходьбе. <br/><br/>Стилизуйте такую обувь с кэжуал образами или с повседневным гардеробом. Отличное решение для девочек в школу или на работу для женщин в прохладное время года. <br/><br/>Сезон: весна, осень, теплая зима. <br/><br/>Комфортно и рекомендовано до -5 градусов.<br/><br/>Вес модели 860 гр. Ждём ваши отзывы.', 'attribute_isaspect': False, 'attribute_showascharacteristic': True}\n {'attribute_name': 'ColorBase', 'attribute_value': 'серебристый', 'attribute_isaspect': True, 'attribute_showascharacteristic': True}\n {'attribute_name': 'ColorBase', 'attribute_value': 'серебро', 'attribute_isaspect': True, 'attribute_showascharacteristic': True}\n {'attribute_name': 'RussianSizeShoes', 'attribute_value': '36', 'attribute_isaspect': True, 'attribute_showascharacteristic': True}\n {'attribute_name': 'SizeManufacturer', 'attribute_value': '36', 'attribute_isaspect': True, 'attribute_showascharacteristic': True}\n {'attribute_name': 'SexMaster', 'attribute_value': 'Женский', 'attribute_isaspect': False, 'attribute_showascharacteristic': True}\n {'attribute_name': 'Material', 'attribute_value': 'Текстиль', 'attribute_isaspect': False, 'attribute_showascharacteristic': True}\n {'attribute_name': 'MainShoesMaterial', 'attribute_value': 'Текстиль', 'attribute_isaspect': False, 'attribute_showascharacteristic': True}\n {'attribute_name': 'InnerMaterial', 'attribute_value': 'Байка', 'attribute_isaspect': False, 'attribute_showascharacteristic': True}\n {'attribute_name': 'SoleMaterial', 'attribute_value': 'Резина', 'attribute_isaspect': False, 'attribute_showascharacteristic': True}\n {'attribute_name': 'StyleApparel', 'attribute_value': 'Повседневный', 'attribute_isaspect': False, 'attribute_showascharacteristic': False}\n {'attribute_name': 'Season', 'attribute_value': 'Демисезон', 'attribute_isaspect': False, 'attribute_showascharacteristic': True}\n {'attribute_name': 'FootLength', 'attribute_value': '23.5', 'attribute_isaspect': False, 'attribute_showascharacteristic': True}\n {'attribute_name': 'ShoeFastening', 'attribute_value': 'Без застёжки', 'attribute_isaspect': False, 'attribute_showascharacteristic': True}\n {'attribute_name': 'ShoeFit', 'attribute_value': 'Свободная', 'attribute_isaspect': False, 'attribute_showascharacteristic': True}\n {'attribute_name': 'SizeGrid', 'attribute_value': 'Бренд Mascotte: Женская обувь', 'attribute_isaspect': False, 'attribute_showascharacteristic': False}\n {'attribute_name': 'BrandCountry', 'attribute_value': 'Россия', 'attribute_isaspect': False, 'attribute_showascharacteristic': True}\n {'attribute_name': 'AgeO', 'attribute_value': 'Взрослая', 'attribute_isaspect': False, 'attribute_showascharacteristic': True}\n {'attribute_name': 'ColorBase_Forfilter', 'attribute_value': 'Серебряный', 'attribute_isaspect': False, 'attribute_showascharacteristic': False}]",
         "[-1.13954775e-01 -7.60853887e-01 -4.90336001e-01  8.45322669e-01\n -2.17684671e-01 -3.01759273e-01  5.47761202e-01  1.26307905e-02\n  4.30381566e-01  8.77198815e-01  2.86474638e-02  1.56787366e-01\n -2.30908677e-01 -1.29091144e-01 -3.72986123e-02 -3.62699360e-01\n -9.82788682e-01 -5.98535016e-02  4.90621388e-01 -5.19177556e-01\n  5.89241460e-02 -5.18037118e-02  2.07414269e-01 -9.31365043e-02\n -3.34932059e-02 -7.61591434e-01  1.76777780e-01  6.51127100e-02\n -2.06041306e-01  2.94512868e-01  6.25322014e-02  8.48769486e-01\n -8.70282531e-01  3.26450169e-03 -2.32679114e-01  3.14675927e-01\n  2.86770821e-01 -4.88221049e-01  3.64007711e-01 -1.36309668e-01\n  1.25892878e-01  2.45940536e-01  6.01342954e-02 -5.54495275e-01\n  4.60283101e-01  2.85761803e-01  3.39241952e-01  5.78069210e-01\n  4.94871810e-02 -7.10245669e-02  3.52575034e-01 -5.54591298e-01\n  2.20235959e-01 -6.86027884e-01  7.24466324e-01  7.45194256e-01\n -2.73778141e-01  3.70438576e-01  1.14545874e-01  1.10900068e+00\n  6.22220695e-01 -4.38069522e-01  2.83446789e-01  3.03875864e-01\n -3.37383509e-01  3.56947631e-01 -1.64294690e-02  3.43751758e-01\n -1.89783812e-01  6.65593028e-01 -4.75522608e-01 -8.67215097e-02\n -2.08431378e-01  9.81610417e-02  8.04597199e-01 -8.79255712e-01\n  3.02348703e-01 -3.39291468e-02  2.06942633e-01  3.15068185e-01\n -6.68591559e-02 -5.49754679e-01 -4.50616390e-01  4.96903390e-01\n  3.37582648e-01 -7.81041086e-02  2.14708194e-01  2.35151350e-02\n -2.93179154e-01 -4.88070577e-01 -4.06752497e-01  3.30237836e-01\n  1.15726814e-02  1.25727952e-01  1.29595459e-01  2.23083496e-01\n  1.28190681e-01 -1.54256552e-01  4.10041809e-02 -6.89333975e-02\n -1.93364963e-01  4.50096458e-01 -1.24126181e-01 -1.05300829e-01\n -4.86469299e-01 -5.51846027e-02 -2.05897927e-01 -1.07866609e+00\n -4.53933120e-01  3.69230598e-01 -6.13789797e-01 -2.84810632e-01\n -3.65217060e-01 -2.54034907e-01  6.48575425e-01 -7.67159939e-01\n -1.24804273e-01  5.51001579e-02  1.74200177e-01  1.66564524e-01\n -1.76300570e-01  2.95198649e-01 -1.35041475e-02 -2.23607719e-02\n -1.84055090e-01  3.53319108e-01  2.34596878e-02  1.06516108e-01\n  2.32075065e-01  8.66895974e-01 -5.72337955e-02  5.94164282e-02\n  3.59786481e-01  2.35495850e-01 -9.01883006e-01  9.64809880e-02\n -9.51788276e-02  2.74326324e-01 -6.74544096e-01  4.28783894e-01\n  1.40295312e-01  2.51286507e-01  7.98300654e-03  4.13869172e-01\n  3.08813572e-01  4.19409037e-01 -7.63586164e-01 -1.17041659e+00\n -5.29926419e-02  4.97646928e-01  1.65937141e-01  5.18393636e-01\n  2.66415429e+00 -5.27386069e-02  6.85594201e-01 -2.49632746e-01\n -2.63284087e-01 -2.02681631e-01  3.70114893e-01 -1.80587530e-01\n  1.97144240e-01 -9.32594240e-02  3.52721691e-01  4.80742455e-02\n -3.73646542e-02  1.23625875e+00 -2.10603133e-01 -7.14297295e-02\n  5.30641451e-02  9.01617706e-02  5.74312568e-01  2.75628477e-01\n  1.00626576e+00 -1.43894941e-01 -7.88408637e-01 -7.19053149e-01\n  6.75009251e-01  1.53014973e-01 -5.33731341e-01 -1.18647061e-01\n  3.83038551e-01  4.70314026e-02  7.32300282e-02  8.80225301e-02\n  1.76142320e-01  1.08225435e-01  1.42356940e-02 -1.76917017e-01\n  4.19610888e-01 -5.29954195e-01 -4.05051172e-01  2.65789956e-01\n  3.21684957e-01  2.27457955e-01  1.71180606e-01  2.13844746e-01\n -7.96540260e-01 -1.77951261e-01  1.95662126e-01  1.28363222e-01\n  5.42279720e-01 -1.07558548e-01  5.04509360e-03  3.26427847e-01\n  2.46791095e-01  4.96880233e-01  1.05457544e-01  3.15394342e-01\n -3.30926716e-01  1.68657884e-01 -5.18545628e-01 -1.62633598e-01\n  2.22563460e-01  3.11829209e-01  3.81523997e-01  4.82167900e-02\n  1.70762330e-01  9.10886824e-02 -8.19480568e-02  8.47201765e-01\n  1.49711356e-01  2.49564767e-01 -1.88777074e-01  3.40873301e-01\n -4.11238492e-01 -4.52585846e-01  2.27271497e-01 -3.04729640e-01\n  4.34747964e-01  4.03325260e-01 -1.24156639e-01  7.43956715e-02\n  1.30609244e-01  3.11588228e-01 -5.85659444e-01  6.95573568e-01\n -1.09094523e-01  1.62646607e-01  2.48181164e-01 -8.21425021e-02\n  4.61261600e-01  2.43991449e-01  1.57501519e-01 -2.32752115e-02\n -1.97185278e-02  4.89143252e-01  8.93084109e-02 -3.75688821e-01\n  1.90772861e-01  9.89733934e-02  2.28869766e-02 -5.86217046e-02\n -1.94844902e-01 -4.75685477e-01 -7.75600821e-02  2.71801889e-01\n  2.62584001e-01 -4.95194197e-01  2.83804417e-01 -2.86205530e-01\n  2.98679382e-01 -5.57363987e-01 -4.63857532e-01  5.88272691e-01\n  6.43380582e-02 -4.72548664e-01 -2.64264971e-01 -1.58107638e-01\n -4.70888972e-01 -7.01793432e-01 -5.47555089e-01 -7.19144642e-02\n -1.10937968e-01  5.81103861e-01 -3.00873816e-02  1.84047550e-01\n  3.80036086e-02 -2.42086351e-02  3.89209002e-01  2.43119106e-01\n -4.89542931e-02  1.86537340e-01 -6.03640795e-01  1.02813095e-01\n  5.66344261e-01 -4.56225157e-01 -1.86686516e-02  2.34494731e-01\n -3.61692667e-01 -8.29962969e-01 -1.50935382e-01  3.85210186e-01\n  4.56457406e-01 -2.88945228e-01 -1.19273558e-01 -6.62683100e-02\n  6.16471589e-01 -4.68514442e-01  1.28646225e-01 -1.01757199e-01\n  5.46886683e-01 -1.36911154e-01  8.92461091e-02  3.30630481e-01\n -1.42142355e-01  8.34674358e-01  4.79651868e-01 -2.65956879e+00\n -6.13581717e-01 -1.10151313e-01 -7.31426924e-02 -5.58005035e-01\n -4.07754689e-01  6.69614673e-02  4.48706716e-01  2.48283148e-03\n  6.33275658e-02  5.31714410e-02  5.07070124e-01 -3.37232232e-01\n -1.60682201e-01  1.53380290e-01  5.91130666e-02 -2.17462212e-01\n -7.97432184e-01  4.22155410e-02  3.57083678e-02 -1.47065669e-02\n -4.26969528e-01 -4.26934034e-01 -1.51152894e-01 -3.30500193e-02\n  6.59689486e-01  3.62309426e-01 -1.46012306e-01  2.42739916e-01\n  9.64228809e-01 -4.81417239e-01  4.31645900e-01  1.95685238e-01\n -5.23802400e-01 -1.01113498e-01  2.23852441e-01  1.94188073e-01\n -6.08595967e-01  2.42548242e-01  1.75586000e-01  2.41775006e-01\n -2.05277824e+00 -2.27599293e-01  1.47078872e+00 -4.27233785e-01\n  1.73791140e-01  5.73822558e-02 -1.66254461e-01 -1.98913023e-01\n -3.65871608e-01  5.11362791e-01 -1.46987081e-01 -1.34771675e-01\n  9.76338983e-02  5.94705105e-01 -8.99808705e-02 -5.10170281e-01\n  5.95226064e-02 -2.29886800e-01  1.37340635e-01  2.04382598e-01\n  1.43952698e-01  1.07299685e-01  3.91061187e-01 -2.88470626e-01\n -3.56812716e-01 -3.37447554e-01 -8.88025016e-03  7.97218442e-01\n -3.21590781e-01  2.63964981e-02  5.89460075e-01  6.17126942e-01\n -6.48087919e-01 -3.72360051e-01  2.61812925e-01 -2.55356848e-01\n  6.88067317e-01  1.29474425e+00  2.85581589e-01 -3.16717744e-01\n  1.33548230e-01 -4.99765903e-01  1.00819126e-01 -3.94621551e-01\n -9.20442492e-02 -4.67283875e-02  2.48778865e-01 -3.36362183e-01\n -4.29687142e-01 -1.52164921e-01  3.44947696e-01  4.84357893e-01\n -7.73402214e-01 -1.80539310e-01  1.82389587e-01 -1.01886928e-01\n  2.01681659e-01 -9.05228853e-02  4.55151856e-01  3.98220718e-01\n  1.15791559e-02  5.48140645e-01  8.05149749e-02 -3.49630415e-01\n  3.22453558e-01  3.23698640e-01  3.87429118e-01  2.16526583e-01\n  1.23806730e-01 -6.18593454e-01  7.41652846e-02 -9.63166952e-02\n  4.52143371e-01  1.31413639e-01 -4.21682984e-01 -7.52545893e-04\n  6.11671805e-01  6.91379607e-02 -5.72132617e-02  8.72396350e-01\n -3.16533387e-01  2.48150051e-01 -4.90676194e-01  1.50295901e+00\n -1.32706523e-01  2.57930726e-01  2.43704841e-01  2.18697637e-01\n  4.68819618e-01  5.91864586e-02  2.06537217e-01 -4.16622162e-01\n -3.89303982e-01 -1.63665205e-01  1.04611754e-01  2.42520586e-01\n  1.50396228e-02 -2.85473883e-01 -3.94307852e-01 -3.13897967e-01\n -5.36531627e-01 -1.05914325e-02 -5.79408228e-01  5.89627802e-01\n  4.21373308e-01  3.91300201e-01 -1.39692754e-01 -1.19936621e+00\n -9.28276062e-01  3.32678825e-01  2.98848391e-01  4.34240192e-01\n  2.90418088e-01  1.33288592e-01  4.41615045e-01 -3.53949130e-01\n  3.00888956e-01  5.77683926e-01  3.75081182e-01  1.13789648e-01\n  9.74818766e-02  4.77278084e-01  5.04054427e-01 -3.03412646e-01\n -2.78515071e-02 -2.09171578e-01 -7.25565255e-02  4.42270607e-01\n  2.96027720e-01 -4.44840014e-01  3.79519999e-01  1.99398369e-01\n  3.19113880e-01  1.96754336e-01 -3.64109874e-02  3.41232806e-01\n  1.13374829e-01 -5.76815426e-01 -2.87398607e-01  2.65895635e-01\n -9.58399653e-01 -7.90888190e-01 -1.86667645e+00  4.54530209e-01\n  4.59220827e-01  1.70095325e-01 -7.44123161e-01  7.54636884e-01\n -9.59735587e-02 -4.66051817e-01  4.35619295e-01  6.69399381e-01\n  1.40606582e-01  1.35970592e-01  2.06357479e-01 -4.93388832e-01\n  2.62984991e-01 -1.33758172e-01  1.49663538e-02  6.85996473e-01\n -9.03372616e-02 -1.83767796e-01  2.80390114e-01 -2.28581220e-01]",
         "7653",
         "153488363",
         "35485486"
        ],
        [
         "31",
         "9251701",
         "Кроссовки",
         "[{'attribute_name': 'Name', 'attribute_value': 'Кроссовки', 'attribute_isaspect': False, 'attribute_showascharacteristic': False}\n {'attribute_name': 'Type', 'attribute_value': 'Кроссовки', 'attribute_isaspect': False, 'attribute_showascharacteristic': False}\n {'attribute_name': 'Brand', 'attribute_value': 'Нет бренда', 'attribute_isaspect': False, 'attribute_showascharacteristic': True}\n {'attribute_name': 'Annotation', 'attribute_value': 'Летние мужские кроссовки с воздухопроницаемой сеткойЛегкие, стильные и удобные для активного образа жизни!Представляем вам идеальные кроссовки для теплого сезона — летние мужские спортивные кроссовки с воздухопроницаемой сеткой. Эти кроссовки созданы для тех, кто ценит комфорт, стиль и функциональность.Ключевые особенности:Превосходная воздухопроницаемость: Благодаря специальной сетчатой ткани ваши ноги всегда будут оставаться сухими и свежими, даже в самые жаркие дни.Легкость и удобство: Идеально легкая конструкция с мягкой подошвой обеспечит комфорт даже при длительных прогулках или активных тренировках.Устойчивость к запахам: Встроенная антимикробная обработка предотвращает возникновение неприятных запахов, обеспечивая долгосрочную свежесть.Модный дизайн: Современный и стильный внешний вид идеально сочетается с любым летним образом, будь то спортивный или повседневный.Большие размеры: Эти кроссовки подходят для мужчин с любой комплекцией — мы предлагаем широкий диапазон размеров для максимального удобства.Идеальные для бега, тренировок или прогулок по городу, эти кроссовки подойдут каждому, кто ищет стиль и комфорт в одной паре обуви. Почувствуйте легкость и свободу движений с каждым шагом!', 'attribute_isaspect': False, 'attribute_showascharacteristic': True}\n {'attribute_name': 'ColorBase', 'attribute_value': 'белый', 'attribute_isaspect': True, 'attribute_showascharacteristic': True}\n {'attribute_name': 'ColorName', 'attribute_value': 'Белый', 'attribute_isaspect': True, 'attribute_showascharacteristic': True}\n {'attribute_name': 'RussianSizeShoes', 'attribute_value': '40', 'attribute_isaspect': True, 'attribute_showascharacteristic': True}\n {'attribute_name': 'SizeManufacturer', 'attribute_value': 'Eu41', 'attribute_isaspect': True, 'attribute_showascharacteristic': True}\n {'attribute_name': 'SexMaster', 'attribute_value': 'Женский', 'attribute_isaspect': False, 'attribute_showascharacteristic': True}\n {'attribute_name': 'SexMaster', 'attribute_value': 'Мужской', 'attribute_isaspect': False, 'attribute_showascharacteristic': True}\n {'attribute_name': 'Material', 'attribute_value': 'EVA', 'attribute_isaspect': False, 'attribute_showascharacteristic': True}\n {'attribute_name': 'MainShoesMaterial', 'attribute_value': 'Искусственная кожа', 'attribute_isaspect': False, 'attribute_showascharacteristic': True}\n {'attribute_name': 'SoleMaterial', 'attribute_value': 'EVA', 'attribute_isaspect': False, 'attribute_showascharacteristic': True}\n {'attribute_name': 'Season', 'attribute_value': 'На любой сезон', 'attribute_isaspect': False, 'attribute_showascharacteristic': True}\n {'attribute_name': 'ShoeFastening', 'attribute_value': 'Шнурки', 'attribute_isaspect': False, 'attribute_showascharacteristic': True}\n {'attribute_name': 'SizeGrid', 'attribute_value': 'Универсальная размерная сетка: женская обувь', 'attribute_isaspect': False, 'attribute_showascharacteristic': False}\n {'attribute_name': 'SizeGrid', 'attribute_value': 'Универсальная размерная сетка: полнота женской обуви', 'attribute_isaspect': False, 'attribute_showascharacteristic': False}\n {'attribute_name': 'SizeGrid', 'attribute_value': 'Универсальная размерная сетка: мужская обувь', 'attribute_isaspect': False, 'attribute_showascharacteristic': False}\n {'attribute_name': 'SizeGrid', 'attribute_value': 'Универсальная размерная сетка: полнота мужской обуви', 'attribute_isaspect': False, 'attribute_showascharacteristic': False}\n {'attribute_name': 'TypeSport', 'attribute_value': 'Бег', 'attribute_isaspect': False, 'attribute_showascharacteristic': True}\n {'attribute_name': 'ColorBase_Forfilter', 'attribute_value': 'Белый', 'attribute_isaspect': False, 'attribute_showascharacteristic': False}]",
         "[ 3.41155767e-01 -1.86676383e+00 -9.47276473e-01 -3.97813976e-01\n  2.52389193e-01 -2.69366086e-01  4.18482721e-01  8.96459520e-02\n  8.31458122e-02  3.94773036e-01 -1.42849386e-01  7.32515156e-02\n -2.25506589e-01 -1.08621038e-01 -3.50059986e-01  3.20168763e-01\n -1.07505906e+00 -1.19327374e-01  1.97403014e-01  6.15312874e-01\n  6.48565143e-02 -1.82651073e-01  4.43112403e-01  2.72105664e-01\n -5.25545537e-01 -1.11550987e+00  4.14280534e-01  8.92839253e-01\n -5.54273307e-01 -2.96522945e-01 -6.10242188e-02 -1.70487121e-01\n -6.67301118e-01  1.14895448e-01 -4.04676259e-01  1.19666576e-01\n -1.87490419e-01 -4.06495571e-01  3.16769779e-01  6.15462303e-01\n  1.57564312e-01 -2.95204908e-01  1.54767200e-01 -4.53195572e-02\n  2.93529779e-01 -7.62802660e-02 -1.82311758e-01  2.72868812e-01\n -1.00390002e-01  3.56531352e-01  3.18234146e-01  2.03546390e-01\n  3.23213339e-01  1.58804178e-01 -2.69688070e-02 -6.09604001e-01\n  2.26092547e-01  4.27124798e-02  2.40648910e-02  1.11344248e-01\n -4.51014936e-03 -6.50671482e-01  4.94748950e-01  4.65132684e-01\n  2.11362392e-02 -5.85060477e-01  1.77064344e-01  6.67008311e-02\n -6.68501735e-01 -6.51548743e-01 -3.07447016e-01 -2.62782037e-01\n  4.42495465e-01 -5.88709474e-01 -1.54127926e-01 -1.10062647e+00\n  5.89896679e-01 -3.00472677e-01 -3.68431658e-01 -5.54483056e-01\n  5.44128716e-01 -7.00456023e-01 -4.07844186e-01  1.91062182e-01\n  4.69055057e-01  2.50854492e-01 -2.51062363e-01  1.13704950e-02\n -3.16602916e-01 -2.13162243e-01 -4.95677441e-01  6.33151680e-02\n -2.67589092e-01  1.04971752e-02 -4.97927070e-02  4.27596837e-01\n  1.94972336e-01 -5.88518381e-02 -6.44790530e-01  2.30422407e-01\n -7.08397865e-01  1.20383941e-01 -4.74158764e-01  5.03391862e-01\n  4.32883322e-01 -5.61297655e-01  6.55697584e-01  2.18790248e-01\n -3.37734878e-01  3.63312304e-01 -7.55526662e-01 -1.68171182e-01\n  4.09396976e-01 -2.27135345e-01  4.38577324e-01  3.41599166e-01\n -3.99043709e-01 -4.66068238e-01 -4.30327430e-02 -4.93481606e-01\n  4.96982485e-02  2.37931907e-02 -2.88433522e-01 -1.21291637e-01\n  1.10059828e-01 -1.77138895e-01  6.45409450e-02  3.02973628e-01\n  3.12221467e-01  4.01631624e-01  1.65759504e-01 -3.15579444e-01\n  3.93246382e-01 -1.44705236e-01 -1.06457353e-01  1.07178330e+00\n  1.00247037e+00  2.51480579e-01  6.21983051e-01  2.89887458e-01\n  3.00331503e-01  3.16920221e-01 -1.96312994e-01 -1.47813082e-01\n -5.03090501e-01  1.03633475e+00  1.20377213e-01 -3.03756624e-01\n  4.21314657e-01 -1.67364597e-01 -2.46345103e-02 -3.06997418e-01\n  2.60788202e+00 -6.04962260e-02  3.10593963e-01  4.73638535e-01\n -5.97309291e-01 -6.04852915e-01  4.26366597e-01  2.39288300e-01\n -1.77464440e-01 -3.35159838e-01  2.96230018e-02  1.14128292e-01\n  8.20642561e-02  4.18852568e-02 -2.92096227e-01  1.59680143e-01\n -2.59430707e-01 -1.82997167e-01  6.15678549e-01  3.07816714e-01\n -2.65939653e-01  1.89872235e-02  7.76833892e-01 -4.01007801e-01\n  2.91834921e-01  2.31412858e-01 -4.03974295e-01 -1.72577918e-01\n -8.26111734e-01  3.07871819e-01  1.86084017e-01  3.02764535e-01\n -4.83326286e-01  6.35665059e-01  8.61965179e-01  3.12248886e-01\n  6.53728023e-02 -2.30955422e-01 -4.71959710e-01  4.87738580e-01\n  4.32004511e-01  1.72600538e-01  1.81779057e-01 -1.20889634e-01\n -6.00724697e-01  9.42288339e-02  5.34056664e-01  1.64183766e-01\n  4.02152598e-01 -3.92387629e-01 -1.66467130e-01 -2.60566175e-02\n -3.58439311e-02 -3.75085235e-01  2.45686069e-01  1.21075042e-01\n -1.87440619e-01 -4.39821064e-01 -5.98176360e-01 -2.12905392e-01\n  5.89570820e-01  3.46420825e-01 -1.81349680e-01  2.04173923e-01\n  4.58670080e-01 -4.78661686e-01  2.94312239e-01 -5.08753836e-01\n  5.99553466e-01 -6.57608986e-01 -4.02204126e-01 -1.17356166e-01\n  4.14113402e-02  8.50957274e-01 -9.89852995e-02  3.23104262e-02\n  4.75162596e-01  7.86871076e-01  6.35248423e-01 -1.12746708e-01\n  4.17820781e-01  2.57594407e-01 -1.82517514e-01  7.89858520e-01\n -2.86023736e-01  2.00087875e-02  7.44187653e-01  2.29670182e-02\n  4.64660227e-01  9.14776564e-01  3.93816799e-01 -4.95202333e-01\n  4.38707590e-01 -1.50957361e-01  1.63110480e-01 -1.18035182e-01\n  5.08422256e-01 -2.46502340e-01  3.52758408e-01 -4.85321343e-01\n  6.99956059e-01 -3.07071388e-01  5.24182200e-01  1.49154067e-02\n -3.86238992e-01 -8.25287640e-01  8.50754976e-03 -1.16429679e-01\n -1.72560453e-01  1.01158351e-01  1.80462971e-02  3.23000550e-03\n  2.44835377e-01 -2.88424075e-01  4.21979010e-01 -3.43219936e-02\n  1.67144313e-02 -5.01556277e-01 -9.28671777e-01 -2.77099997e-01\n  3.08788806e-01 -5.37167549e-01 -5.35111278e-02 -7.78384954e-02\n -2.69994617e-01  2.64707804e-02  1.67169020e-01  7.02421367e-01\n -2.87709862e-01  5.60883284e-01  8.30371082e-02 -5.40523976e-02\n  4.68982130e-01  1.58445641e-01  3.59308243e-01 -4.44176614e-01\n  2.04703808e-02 -7.17951715e-01  7.40010619e-01  1.04130507e-01\n -4.67038631e-01 -1.24572046e-01  3.63950104e-01  2.46961728e-01\n -3.75747144e-01 -5.44463158e-01  1.39136881e-01  4.81837168e-02\n -4.89182025e-01 -1.54372633e-01  2.12472737e-01  1.63643256e-01\n -7.82730103e-01 -1.13211364e-01 -4.32644993e-01 -2.60351419e+00\n -5.33168018e-03  3.76661897e-01  1.41571790e-01 -8.94260585e-01\n -4.25847113e-01  1.00579478e-01  1.04063308e+00 -5.83435476e-01\n  2.60236084e-01 -6.95527554e-01  5.20406723e-01 -8.99473190e-01\n -4.26436216e-02  4.23121840e-01  2.09464327e-01  4.69279975e-01\n -5.41779160e-01 -4.46935833e-01 -2.84036934e-01 -7.04594970e-01\n -3.71115357e-01 -4.33890760e-01 -4.40828085e-01  2.49387205e-01\n  6.44161105e-02  2.77955651e-01  4.66812730e-01 -8.32146853e-02\n -1.95226461e-01  1.19656652e-01  3.30638230e-01  2.38062441e-01\n -1.75369978e-02 -5.63548803e-01 -4.05415893e-04 -4.89278316e-01\n -4.10231978e-01 -7.79054880e-01  1.74107641e-01  5.41512191e-01\n -2.24463964e+00 -7.67068386e-01  5.76899201e-02  6.60901666e-02\n  1.33823156e-01  5.35933018e-01 -6.14863217e-01 -2.90797919e-01\n  5.64040542e-01  6.04471564e-03  1.42772049e-01  7.53199577e-01\n -4.54186231e-01  4.99559455e-02  6.43045828e-02 -2.24779323e-01\n -2.60855079e-01 -1.50002912e-01  2.42254123e-01 -4.09150124e-03\n  1.09934673e-01 -5.38934588e-01  7.31640100e-01 -3.85460258e-01\n -3.13433826e-01 -2.83239245e-01  4.27167788e-02 -4.79154676e-01\n -7.19973370e-02 -3.05651754e-01  6.02714121e-01  3.26408207e-01\n -1.12045377e-01 -6.09663874e-02 -1.23765036e-01 -1.50969177e-01\n -2.35027850e-01 -2.53811598e-01 -3.49441767e-02 -2.39857286e-01\n -5.60571671e-01  1.49245858e-01  3.02973390e-02  2.62155533e-01\n  1.65221006e-01 -2.74821758e-01  2.86103010e-01  4.72762525e-01\n  1.07022546e-01 -5.49082041e-01 -2.83953726e-01  4.92407642e-02\n  4.07714754e-01  2.73875892e-01  4.57504719e-01 -1.93265259e-01\n -3.69305015e-02 -4.23972547e-01  3.65694046e-01 -4.13620472e-03\n -6.11537099e-01  9.58895534e-02 -6.48573190e-02  1.80077404e-02\n  5.61664641e-01  2.66467929e-01 -1.19195230e-01  4.62082058e-01\n  3.09985615e-02 -1.06935930e+00 -3.92728746e-01 -4.06651080e-01\n  1.99882746e-01  5.64407468e-01 -2.08142400e-01 -8.64845514e-01\n  6.30678058e-01  9.90242362e-02  6.91548735e-02  2.94039518e-01\n -1.64704174e-01  1.34596616e-01  4.73567486e-01  8.10948730e-01\n -3.01952124e-01 -3.36757123e-01  1.81887001e-01  1.35746092e-01\n  7.39727497e-01  9.65204090e-02  6.09369576e-02  1.34278566e-01\n  3.10588181e-02 -2.03883514e-01  4.36772943e-01 -3.47559929e-01\n  1.35834515e-02  1.78467482e-02 -2.19820254e-02  9.81427953e-02\n  7.60081291e-01 -1.87920123e-01  2.67166972e-01 -2.62662411e-01\n -1.03420258e-01  2.77603269e-01 -4.47841942e-01  2.62362957e-02\n -8.36193979e-01  4.53866601e-01  3.71319175e-01 -1.00101203e-01\n  1.46775618e-01 -1.76496655e-02  2.13944152e-01 -3.49428326e-01\n  5.67877144e-02  1.34840816e-01 -9.17002559e-02 -5.20050526e-06\n  5.24443388e-01 -2.76933797e-02 -4.43294883e-01  4.54716057e-01\n -3.31074238e-01  4.81840491e-01  3.43611956e-01  5.27714074e-01\n  1.47395283e-01  2.38301665e-01  4.10570681e-01 -1.46596566e-01\n -7.97126532e-01 -5.44080377e-01  2.83841312e-01  2.86070704e-02\n  4.26468134e-01 -2.74539948e-01 -2.26232745e-02 -6.01167902e-02\n  2.90396750e-01 -5.46584904e-01 -1.12231624e+00 -2.96088785e-01\n  1.58694208e-01  3.34126234e-01  2.29854941e-01  3.51696968e-01\n  8.66562054e-02 -2.65783459e-01  2.86900550e-01 -2.51620352e-01\n  3.60423982e-01 -4.48516190e-01 -1.96360409e-01 -3.84190708e-01\n  6.00690842e-02  2.14105040e-01  1.42251819e-01 -6.22662485e-01\n -3.81722182e-01  3.92500699e-01 -4.27330643e-01  4.08107340e-02]",
         "7660",
         "207083619",
         "14775112"
        ],
        [
         "32",
         "9507993",
         "Ремешок для часов Casio SGW-400",
         "[{'attribute_name': 'Type', 'attribute_value': 'Ремешок для часов', 'attribute_isaspect': False, 'attribute_showascharacteristic': True}\n {'attribute_name': 'Brand', 'attribute_value': 'Нет бренда', 'attribute_isaspect': False, 'attribute_showascharacteristic': True}\n {'attribute_name': 'Annotation', 'attribute_value': 'Размер крепления к часам: 18 мм, расширение под корпус: 24 мм, ширина пряжки: 18 мм. Для часов Casio: SGW-400H-1B2V, SGW-400H-1BVH, SGW-300H-1AVH, SGW-450H-2B, AQW-100D-1AV, AQW-100-1AW, AQW-101-1A, AQW-101B-2AVW, AE-1100WD-1AV, SGW-400HD-1BV, SGW-300HD-1AV, AE-1000WD-1AV, SGW-300HB-3AV, SGW-450H-1A Длина с пряжкой: 80мм. Длина без пряжки: 130мм.Ширина со стороны часов: 18 мм. Ширина со стороны пряжки: 19 мм.  Толщина: 5,9-4,9 мм.  Пряжка из специального металла, который не вызывает аллергию и не подвержен коррозии, так называемая хирургическая сталь (Сталь 304L) ', 'attribute_isaspect': False, 'attribute_showascharacteristic': True}\n {'attribute_name': 'ColorBase', 'attribute_value': 'черный', 'attribute_isaspect': True, 'attribute_showascharacteristic': True}\n {'attribute_name': 'ColorName', 'attribute_value': 'SGW-400', 'attribute_isaspect': True, 'attribute_showascharacteristic': True}\n {'attribute_name': 'AgeO', 'attribute_value': 'Взрослая', 'attribute_isaspect': False, 'attribute_showascharacteristic': True}\n {'attribute_name': 'SexMaster', 'attribute_value': 'Мужской', 'attribute_isaspect': False, 'attribute_showascharacteristic': True}\n {'attribute_name': 'SexMaster', 'attribute_value': 'Женский', 'attribute_isaspect': False, 'attribute_showascharacteristic': True}\n {'attribute_name': 'Bracelet', 'attribute_value': 'Термопластик (TPU)', 'attribute_isaspect': False, 'attribute_showascharacteristic': True}\n {'attribute_name': 'WidthWatchband', 'attribute_value': '18', 'attribute_isaspect': True, 'attribute_showascharacteristic': True}\n {'attribute_name': 'StrapSize', 'attribute_value': '210', 'attribute_isaspect': False, 'attribute_showascharacteristic': True}\n {'attribute_name': 'Name', 'attribute_value': 'Ремешок для часов Casio SGW-400', 'attribute_isaspect': False, 'attribute_showascharacteristic': False}\n {'attribute_name': 'ColorBase_Forfilter', 'attribute_value': 'Черный', 'attribute_isaspect': False, 'attribute_showascharacteristic': False}]",
         "[ 3.01037095e-02 -2.34376025e+00  3.19147617e-01  3.39855999e-03\n -5.61024189e-01  1.14271693e-01  3.27476263e-01 -3.61867785e-01\n -6.62238896e-02 -2.36899778e-02 -3.27834755e-01 -3.09648275e-01\n  5.54162860e-02 -4.64612395e-02 -2.17556477e-01  3.53538394e-02\n -3.46197933e-01 -2.33078003e-03 -4.24760729e-01 -1.23014092e-01\n -3.77471596e-02 -1.84134766e-01  1.52110711e-01 -9.30581465e-02\n  5.57609320e-01 -6.74122155e-01 -4.01899725e-01  2.88538843e-01\n -1.70663491e-01  8.34027350e-01  6.77464604e-02  3.15129042e-01\n  3.34460020e-01  1.94780573e-01 -5.27105033e-02  3.59558225e-01\n -6.31214499e-01  3.23914349e-01  5.81500411e-01  4.05814201e-02\n -2.68575549e-01 -4.50972468e-02  2.67243534e-01  2.23198593e-01\n  1.79295197e-01  1.80694968e-01 -1.85566142e-01 -2.03789711e-01\n  1.94462568e-01  5.68747580e-01  3.27663124e-01  4.72092837e-01\n  1.45350382e-01  4.01263088e-02  3.02575827e-01 -2.60983258e-01\n -2.42267862e-01  1.74310282e-01 -2.18470201e-01  3.48597020e-01\n  1.53977796e-01 -4.38102156e-01 -4.82785478e-02  1.34812489e-01\n -7.14699924e-01 -7.69537091e-01 -2.41576999e-01 -3.05439889e-01\n -6.06992006e-01 -3.59019309e-01 -5.85307598e-01 -1.24847919e-01\n  4.92677152e-01 -5.13417363e-01  4.26079005e-01 -5.27321637e-01\n -3.29256356e-01  6.28700256e-02  2.81445295e-01  6.58127666e-01\n -3.16721022e-01  4.73811299e-01 -3.43519539e-01  2.94192702e-01\n  2.07856521e-01  5.57099208e-02 -6.13397002e-01 -8.65444243e-02\n  5.52757621e-01  7.06246138e-01 -1.56591251e-01  2.87880927e-01\n  1.72299430e-01 -1.46286398e-01 -2.07844123e-01  2.52438694e-01\n  5.42593837e-01  5.68384349e-01  6.65205196e-02  6.80729672e-02\n -1.67502239e-01 -8.38837028e-03 -1.59548819e-01  8.44795108e-02\n  7.01480687e-01  1.88011289e-01 -8.58200014e-01 -7.58543670e-01\n -2.65160710e-01 -3.58698785e-01 -4.45996374e-01 -1.02577284e-02\n  2.74327457e-01  3.99692655e-02  1.19941831e-02 -6.04855418e-01\n  2.53547460e-01  1.75223053e-01 -2.06794351e-01  2.15613380e-01\n  3.48289877e-01 -4.60564822e-01 -1.33262813e-01 -6.21743739e-01\n -1.94733232e-01  3.10806543e-01 -1.47384629e-01  7.63797089e-02\n -4.60639864e-01  2.73268700e-01  2.02114478e-01 -1.09675264e+00\n  3.93931538e-01 -4.65207219e-01  2.50614047e-01  3.58913839e-01\n  1.90805495e-02 -4.32390749e-01  4.40326333e-03 -4.40697849e-01\n -1.48850858e-01 -1.92588300e-01  3.50996941e-01  9.76331294e-01\n -2.61757821e-01  1.35501117e-01 -4.02760923e-01  1.64861500e-01\n -3.04151386e-01 -5.32810867e-01 -1.49815753e-01 -2.54654437e-01\n  2.42875099e+00 -2.50587672e-01 -6.93786889e-03 -1.69637069e-01\n  2.59004027e-01 -1.70318812e-01 -2.14828908e-01 -2.02206224e-01\n  5.48359454e-02 -1.41556427e-01 -2.78932154e-02  3.44711244e-01\n -3.37576866e-01 -3.69688034e-01 -4.64725286e-01 -3.61898094e-01\n -1.78187683e-01  5.23698330e-02  1.17586541e+00  2.33065337e-01\n  1.57667935e-01  2.07653061e-01 -2.76029617e-01 -6.12116814e-01\n  2.07073718e-01 -1.77011102e-01 -3.57131600e-01 -2.69208610e-01\n -7.06336260e-01 -7.36854970e-02  3.22292447e-01 -4.88079429e-01\n  3.09419632e-01 -2.23569736e-01  7.80314207e-02  7.74577856e-01\n  2.00431600e-01 -4.04598832e-01  2.83546865e-01 -9.62078720e-02\n  3.05859447e-01  9.32766795e-02  5.27853668e-01 -3.24605584e-01\n -5.55388451e-01 -5.65869868e-01 -6.32656634e-01 -3.45337927e-01\n  6.98010325e-02 -3.95445108e-01  8.76357406e-02  4.86179978e-01\n -2.31802911e-01 -3.91469896e-01  8.48391116e-01 -6.59452379e-02\n -8.57352316e-02  4.58739698e-02 -4.93760556e-01 -3.19880038e-01\n -4.79093194e-03 -2.14741513e-01 -2.06204683e-01 -8.72821510e-02\n -1.46835208e-01 -2.18414143e-02 -3.99530441e-01  3.61611843e-01\n -6.52756512e-01 -2.09447145e-02 -2.69191265e-01 -2.89880872e-01\n -4.62492257e-01 -9.33456272e-02 -4.00283337e-02 -7.48115554e-02\n -2.77721994e-02  4.39167559e-01  5.57370484e-01  2.23982126e-01\n -3.01671207e-01  1.06359482e-01 -5.16725704e-02  3.36097300e-01\n -7.42002666e-01  9.34321061e-02  1.54610783e-01 -3.48196208e-01\n -1.26743114e+00 -1.20007455e-01  4.87917900e-01 -3.62361312e-01\n  4.39122617e-01  2.24382073e-01 -9.32364166e-02  1.18051827e-01\n -2.37461299e-01  4.10867512e-01  3.81931812e-02 -9.57264304e-02\n -1.49739563e-01 -5.85219860e-01 -4.89363670e-01  5.29054523e-01\n -2.56910175e-01 -1.50101930e-01  4.37741429e-02 -4.07468081e-01\n  4.35789108e-01 -3.09145600e-01 -3.57413054e-01  1.74637049e-01\n  5.46918452e-01  2.79941410e-02 -1.76169604e-01 -3.46369952e-01\n  2.59450525e-01  4.51032281e-01 -4.83672559e-01  4.24291193e-02\n -2.66772270e-01  1.16267443e-01 -1.76693186e-01 -2.34950304e-01\n  9.18547213e-02 -3.21271300e-01 -1.66586488e-01  2.87476271e-01\n -9.22648162e-02  1.85534120e-01  1.20691717e-01  2.41464734e-01\n  2.18958646e-01 -8.02622661e-02  3.35419238e-01 -3.58960032e-01\n  2.47834161e-01 -2.85774827e-01 -1.50414705e-02 -1.19948015e-02\n  2.77111739e-01  4.03481871e-02 -3.28625143e-01  2.50047594e-01\n  3.46611142e-01  3.36905897e-01 -5.13265431e-01 -4.31761444e-01\n  1.04862845e+00 -3.11419368e-01 -7.24467158e-01  1.87487781e-01\n -1.88555121e+00  5.23424387e-01 -1.12145498e-01 -2.41885066e+00\n  1.56749621e-01  6.08526826e-01  3.70809883e-01  1.54360682e-02\n -1.54567733e-01  2.49030590e-01  3.00567389e-01  7.57860541e-02\n  2.13515759e-01 -1.30007461e-01 -1.00925602e-01 -3.98159117e-01\n  3.78164649e-03 -3.76765788e-01  8.49500835e-01  5.96681595e-01\n -4.25284296e-01 -7.75826097e-01  5.18360436e-01  3.93159419e-01\n -5.56538761e-01 -4.07270312e-01  2.35051572e-01  2.06460208e-01\n  7.63781548e-01 -8.08818638e-02 -8.39111060e-02 -1.55545682e-01\n  2.24698231e-01 -2.46678591e-01 -4.45774049e-02  3.56140196e-01\n -5.66133618e-01 -1.16122589e-01  1.52893394e-01 -1.58029243e-01\n  5.46224594e-01 -5.43989062e-01 -2.53451765e-02  3.27293277e-01\n -1.92132008e+00  4.60169941e-01  1.08776581e+00  2.36090422e-02\n  4.24911737e-01  1.06656551e-03  4.54526424e-01  4.83162224e-01\n -3.19462195e-02  6.71288490e-01  2.38202855e-01 -1.72779351e-01\n  1.88901946e-01 -1.96138740e-01 -2.76982248e-01 -2.96317160e-01\n -2.68357962e-01 -3.79365057e-01 -2.05490693e-01  4.14025992e-01\n -6.44515455e-01 -8.33454430e-02 -4.14296567e-01 -2.18885258e-01\n -3.36736590e-01 -2.79059231e-01  3.25046122e-01  4.63502496e-01\n -4.50814515e-02  3.02626729e-01  3.39936256e-01  5.26053980e-02\n  3.94619778e-02  3.81827891e-01  8.89623523e-01  4.50651318e-01\n  3.28794569e-02  4.60079849e-01 -1.49147511e-02 -1.05592147e-01\n  7.25061446e-02 -3.75940442e-01 -1.15244687e-01  1.90041959e-02\n -3.04440856e-01  2.46378884e-01 -6.73847914e-01 -5.02638280e-01\n  1.16672087e+00  1.65447965e-01 -8.64856303e-01  5.35073936e-01\n -7.99144208e-02 -2.08470553e-01 -1.18637219e-01 -2.32674271e-01\n  6.58043101e-02  7.87400231e-02 -1.04874894e-01 -2.57870108e-01\n -1.75262392e-01  9.19971168e-02 -5.12426317e-01 -3.68581228e-02\n  8.08979750e-01  3.43788892e-01  5.30069321e-02 -1.43875852e-01\n -2.18157828e-01 -1.97532386e-01 -1.62911922e-01 -1.26913682e-01\n -3.60741913e-02 -8.97472799e-02 -6.23489618e-01 -2.05707997e-01\n  2.99793601e-01  5.00696063e-01  6.27091408e-01  2.44730324e-01\n  2.36335829e-01 -3.10297638e-01  4.75156009e-01  1.28369975e+00\n  2.13462114e-01 -1.85427055e-01 -1.72682598e-01  2.70143420e-01\n  2.66084671e-01 -3.17358226e-01 -1.58984318e-01 -1.67156070e-01\n -1.27070218e-01 -3.44528496e-01  3.31092626e-01  8.15984607e-02\n  1.04729086e-01  4.93698329e-01 -4.08019692e-01  2.05038369e-01\n -4.87703085e-03 -3.81368399e-03  3.18216354e-01  8.89136493e-02\n -1.56922698e-01  3.97108883e-01  3.47439647e-02 -6.77300572e-01\n -2.32658908e-01 -6.26884997e-02  2.11627275e-01 -1.04885042e-01\n  3.59894633e-02  5.41827381e-02 -4.75029945e-01  1.38728887e-01\n  3.75110865e-01 -8.83940607e-02  2.16910943e-01  7.44280815e-02\n  1.20952785e-01  1.94295645e-01 -4.22666609e-01 -8.84026438e-02\n  2.23338649e-01  7.57537633e-02  2.02164471e-01  1.27196580e-01\n  7.29476362e-02 -5.69808781e-02  3.16723704e-01 -7.84365982e-02\n  3.43705207e-01  2.94596702e-01 -1.63491592e-01  1.28875136e-01\n -4.05885458e-01  8.23758692e-02  1.16626173e-02  2.83565909e-01\n -4.61594582e-01 -8.41962874e-01 -1.82466030e+00  1.77019507e-01\n  1.54318750e-01  2.72448003e-01  2.99685299e-01  8.67525935e-01\n -3.17456692e-01 -3.87813598e-02  1.79217458e-02  7.69866109e-01\n  4.49620545e-01 -2.15917289e-01 -2.26723194e-01 -1.68713495e-01\n -3.58933479e-01  5.54791391e-02  2.20429331e-01 -4.55926746e-01\n -2.37316675e-02  7.03099668e-01 -4.85252291e-02  5.64085186e-01]",
         "17037",
         "206793385",
         "34379403"
        ],
        [
         "33",
         "9628712",
         "Джинсы ТВОЕ",
         "[{'attribute_name': 'Type', 'attribute_value': 'Джинсы', 'attribute_isaspect': False, 'attribute_showascharacteristic': True}\n {'attribute_name': 'Brand', 'attribute_value': 'ТВОЕ', 'attribute_isaspect': False, 'attribute_showascharacteristic': True}\n {'attribute_name': 'Annotation', 'attribute_value': 'Мужские повседневные джинсы ТВОЕ, зауженные к низу – это стильный незаменимый элемент любого гардероба. Модель стандартной длины со средней посадкой на талии из дышащего тонкого 100% хлопка обеспечивает хороший воздухообмен, имеет классическую застежку на молнии и пуговице, прорезные и накладные карманы. Она отлично подойдет для базовых и городских образов под оверсайз худи, теплый пуловер, легкую футболку или пиджак. Зауженные к низу джинсы варенки, как бананы или слоуч, не сковывают движения во время носки, как плотно облегающие скинни, slim, дудочки. Поэтому они могут заменить собой другие популярные модели – чинос прямого кроя, карго с объемными карманами и высокой посадкой, бойфренды с заниженной талией, трубы с широким низом, расклешенные, утепленные с начесом, слоучи, короткие сигареты, бананки с завышенной талией, классику прямого покроя, клеш с разрезами внизу, джоггеры с высокой талией и манжетами на резинке внизу, узкие skinny в обтяжку с низкой талией, стрейч укороченные слим, клеш от бедра или колена, пирамиды с низкой посадкой, а также клешеные, обтягивающие и мешковатые. Вареный эффект выглядит более сдержанно, чем варианты с нашивками, мотней, вставками, разрезами по бокам, порванные с дырками на коленях, с разными штанинами, вышивкой, принтом, лампасами, потертые, дырявые, с бахромой внизу, штанинами разного цвета или рваные. Джинсы представлены в 4 цветах – голубой, темно-синий, темно-серый и черный. Страна производства – Бангладеш.', 'attribute_isaspect': False, 'attribute_showascharacteristic': True}\n {'attribute_name': 'AgeO', 'attribute_value': 'Взрослая', 'attribute_isaspect': False, 'attribute_showascharacteristic': False}\n {'attribute_name': 'ColorBase', 'attribute_value': 'темно-серый', 'attribute_isaspect': True, 'attribute_showascharacteristic': True}\n {'attribute_name': 'ColorName', 'attribute_value': 'темно-серый', 'attribute_isaspect': True, 'attribute_showascharacteristic': True}\n {'attribute_name': 'RussianSizeClothes', 'attribute_value': '48', 'attribute_isaspect': True, 'attribute_showascharacteristic': True}\n {'attribute_name': 'SizeManufacturer', 'attribute_value': 'M', 'attribute_isaspect': True, 'attribute_showascharacteristic': True}\n {'attribute_name': 'SizeM', 'attribute_value': '50', 'attribute_isaspect': False, 'attribute_showascharacteristic': True}\n {'attribute_name': 'SexMaster', 'attribute_value': 'Мужской', 'attribute_isaspect': False, 'attribute_showascharacteristic': True}\n {'attribute_name': 'HeightM', 'attribute_value': '188 см', 'attribute_isaspect': False, 'attribute_showascharacteristic': True}\n {'attribute_name': 'SizeGrid', 'attribute_value': 'Универсальная размерная сетка: джинсы', 'attribute_isaspect': False, 'attribute_showascharacteristic': False}\n {'attribute_name': 'Material', 'attribute_value': 'Хлопок', 'attribute_isaspect': False, 'attribute_showascharacteristic': True}\n {'attribute_name': 'Composition', 'attribute_value': '100% Хлопок', 'attribute_isaspect': False, 'attribute_showascharacteristic': True}\n {'attribute_name': 'InnerMaterial', 'attribute_value': 'Без подклада', 'attribute_isaspect': False, 'attribute_showascharacteristic': True}\n {'attribute_name': 'StyleApparel', 'attribute_value': 'Повседневный', 'attribute_isaspect': False, 'attribute_showascharacteristic': True}\n {'attribute_name': 'Season', 'attribute_value': 'На любой сезон', 'attribute_isaspect': False, 'attribute_showascharacteristic': True}\n {'attribute_name': 'clothescut', 'attribute_value': 'прямой', 'attribute_isaspect': False, 'attribute_showascharacteristic': True}\n {'attribute_name': 'DetailsClothes', 'attribute_value': 'Карманы', 'attribute_isaspect': False, 'attribute_showascharacteristic': True}\n {'attribute_name': 'FilterSizeINT', 'attribute_value': 'L', 'attribute_isaspect': False, 'attribute_showascharacteristic': False}\n {'attribute_name': 'Name', 'attribute_value': 'Мужские повседневные джинсы зауженные к низу ТВОЕ, цвет: темно-серый', 'attribute_isaspect': False, 'attribute_showascharacteristic': False}\n {'attribute_name': 'DressLength', 'attribute_value': 'до колена', 'attribute_isaspect': False, 'attribute_showascharacteristic': False}\n {'attribute_name': 'ColorBase_Forfilter', 'attribute_value': 'Серый', 'attribute_isaspect': False, 'attribute_showascharacteristic': False}]",
         "[ 2.60961860e-01 -3.73291403e-01 -2.65079200e-01  3.08900118e-01\n -1.04576141e-01 -5.22041619e-01 -1.24988705e-02  1.13197848e-01\n -7.87386075e-02 -9.73767489e-02 -1.94824077e-02  5.39377213e-01\n  1.31350309e-01  3.08150709e-01  4.33678925e-02  3.11539888e-01\n -9.58367825e-01  2.63179541e-02  6.70102954e-01 -2.92792886e-01\n  1.03485011e-01  2.65023351e-01 -4.00430799e-01  1.20745674e-01\n  3.89856935e-01 -2.19812229e-01 -2.49079749e-01  3.10775228e-02\n -2.76943207e-01 -1.48031116e-02 -3.44616979e-01  7.56217957e-01\n  1.03760101e-01 -3.62739742e-01 -7.32292011e-02  1.98866218e-01\n -3.40548217e-01  5.36675930e-01  5.70324659e-02  4.57179666e-01\n  3.29997718e-01 -7.29262292e-01 -2.33030170e-01 -7.45553374e-01\n  6.33040518e-02 -4.51259822e-01 -8.44982266e-02 -6.53054491e-02\n  1.49485171e-01  1.63788676e-01  4.54260781e-02  9.58486199e-02\n  2.21088558e-01 -3.74278694e-01  8.32611322e-03  4.52858627e-01\n  6.06744438e-02  4.13260937e-01  2.36167908e-01  7.36723244e-02\n -9.58817542e-01 -9.29771423e-01  7.69397914e-01  1.17378175e-01\n  6.95535541e-02 -8.95298421e-02 -8.65426511e-02 -1.10155970e-01\n  2.52948195e-01 -7.51012117e-02 -3.43122631e-01 -3.07242751e-01\n  9.35878873e-01 -1.71179861e-01 -8.14926624e-02  2.40462229e-01\n  7.57025063e-01 -3.28098163e-02  2.61230797e-01 -1.50001347e-01\n  2.12509006e-01 -2.52150804e-01 -1.35259613e-01  1.30225241e-01\n  3.80557179e-01 -1.15118921e-02 -4.50205207e-01  8.53905529e-02\n -4.96315479e-01 -1.02651680e+00 -6.32437617e-02 -1.95069492e-01\n -3.50639403e-01 -8.63078833e-02 -1.45994842e-01  4.34291214e-02\n  1.25667691e-01  3.34901392e-01  4.05370057e-01  1.45833164e-01\n  5.23537099e-02  3.93072456e-01  2.32308030e-01  1.53000355e-01\n -2.69039512e-01 -4.10157740e-02 -1.44141898e-01 -3.54750633e-01\n  7.18087107e-02 -3.59012246e-01 -3.96947384e-01 -1.14153996e-01\n -1.47897676e-01 -5.51341176e-01  3.20997238e-01 -5.83971322e-01\n -4.29557562e-01  3.51065338e-01  7.77524948e-01 -2.52456784e-01\n -2.72964627e-01 -4.28523272e-02 -4.00173932e-01 -7.43626952e-01\n  1.63536698e-01 -3.72560084e-01  3.56020838e-01  3.93798128e-02\n  4.49013352e-01  3.49140227e-01  4.56295788e-01 -1.70074701e-02\n  2.34890252e-01 -2.66136885e-01 -3.45598102e-01  8.61546457e-01\n -1.93173498e-01 -2.31024623e-03  2.40773767e-01  4.13441122e-01\n  3.27950895e-01  3.24120909e-01 -1.58988580e-01  1.78951427e-01\n  5.21983385e-01 -3.26071382e-02 -4.86439466e-01 -2.98314005e-01\n  5.09668350e-01 -3.94580156e-01 -4.54498708e-01 -2.54698187e-01\n  3.59584069e+00  2.95043647e-01 -4.01910186e-01  2.87744224e-01\n -2.69725144e-01  1.10575706e-01  1.42600223e-01 -2.52118260e-01\n  2.50609696e-01 -9.32164341e-02 -6.69175982e-02 -2.28102833e-01\n  3.61684263e-01  1.14835870e+00  4.36544895e-01 -1.07588613e+00\n  6.75634742e-02 -3.65796894e-01  2.90384628e-02  1.69868767e-02\n  3.45885962e-01  1.69158310e-01 -4.05555032e-02 -7.57895291e-01\n  1.03770089e+00 -1.59862310e-01 -1.02820718e+00  1.53932884e-01\n -2.08211556e-01 -6.22377992e-01 -1.19026110e-01  1.24663040e-02\n -1.66751564e-01 -3.73496979e-01  1.54260099e+00 -2.75281847e-01\n  1.25650540e-02 -5.41580677e-01  2.77497888e-01 -3.04390252e-01\n  3.44901621e-01 -2.34469905e-01  2.76614040e-01  1.50257632e-01\n -6.81501091e-01  2.44086087e-02 -7.17042312e-02  4.07038331e-01\n  7.84669399e-01 -8.83525610e-03  3.80666763e-01 -5.28818727e-01\n -3.16695690e-01 -6.47819936e-02  2.55649835e-01 -3.39647025e-01\n -2.05815047e-01 -6.00386024e-01 -6.52338386e-01 -9.68512893e-02\n  9.25597697e-02  3.67046088e-01 -1.06862485e-02  3.88074398e-01\n  1.32026821e-01  6.57670617e-01  1.33630753e-01 -4.64612126e-01\n  1.97909340e-01  2.30203807e-01 -4.40543056e-01 -5.55872396e-02\n  3.01166177e-01  4.91096944e-01 -3.51206124e-01  3.62836629e-01\n  2.01007620e-01 -5.47875389e-02  3.24349403e-01 -9.56449062e-02\n  2.58240461e-01  3.44984829e-02 -4.60128546e-01  7.64094740e-02\n -4.28405046e-01  9.01858509e-02  2.90731907e-01  4.71930027e-01\n -3.97363663e-01  1.19731039e-01  5.32055080e-01 -8.93965364e-04\n -2.78808475e-01  4.15559828e-01 -8.20131600e-03 -6.45127416e-01\n -3.96729410e-02  3.31852704e-01  4.85015810e-02 -1.01441890e-02\n  3.59195948e-01 -3.43824208e-01 -1.11736965e+00 -2.29751498e-01\n  4.49242651e-01 -1.60786077e-01  1.23877704e-01 -8.21817875e-01\n  5.48333228e-02  1.62433252e-01  4.03307557e-01 -3.83340955e-01\n -1.25434414e-01 -3.06161493e-02 -3.40568453e-01  3.36138695e-01\n -3.37118357e-01 -8.59021693e-02 -1.26439357e+00 -2.67979026e-01\n  3.33533645e-01 -6.18747994e-02  1.26603320e-01 -1.81302518e-01\n -1.91040605e-01  9.01560038e-02  2.91499972e-01  2.76169181e-01\n  3.43800664e-01  4.59630132e-01 -6.01538718e-02  6.50390387e-02\n -9.90540832e-02  2.40046263e-01  5.98288178e-01  3.53199542e-01\n -2.12171674e-02 -7.24196881e-02  4.05967712e-01  3.43018264e-01\n  6.26634240e-01  2.55954713e-01  1.02681756e-01  5.68957984e-01\n -6.39274716e-03 -3.87169629e-01 -5.94047904e-02 -3.18429410e-01\n  1.68511701e+00 -1.41952425e-01  7.45101869e-01  8.97356495e-02\n  1.03555307e-01 -2.25026429e-01 -4.08963442e-01 -3.59203196e+00\n -2.37820402e-01  1.77458525e-01 -5.86309016e-01 -2.22066671e-01\n  1.77555114e-01 -2.09066004e-01  6.49466991e-01  3.13294858e-01\n  1.04455292e-01 -4.45079714e-01  3.32453191e-01 -6.02281243e-02\n  3.20514172e-01  3.43338609e-01  1.76588655e-01  1.39194894e+00\n -8.79393220e-01  3.35838556e-01  2.98582643e-01 -2.31428251e-01\n -8.83052647e-02 -3.66642386e-01 -1.47577718e-01  4.03774977e-02\n  6.98856831e-01  1.57641128e-01  3.93857539e-01 -1.62087411e-01\n  5.10605812e-01 -6.98433220e-02 -3.23414087e-01 -4.26872373e-02\n  4.83113229e-01  3.62508953e-01  2.77051926e-01  4.22869831e-01\n -3.03815901e-01  2.79014185e-03  5.29535264e-02  3.34190518e-01\n -1.66569054e+00 -4.65338945e-01  9.92101312e-01 -2.91805208e-01\n -3.79016459e-01 -3.10452580e-01 -8.29511702e-01 -3.43055844e-01\n  1.04804374e-01  2.66508162e-01 -4.92390007e-01 -2.02973902e-01\n -4.36857879e-01  3.86746973e-02  6.08638406e-01  2.51219571e-02\n  2.11730868e-01  2.33509392e-01 -3.16618383e-02  5.72955757e-02\n  2.11554766e-03  1.72023997e-01  4.03763235e-01 -5.14435828e-01\n  1.16090603e-01 -7.77245983e-02 -2.08814800e-01  1.14055157e-01\n -6.98575079e-02 -3.00614804e-01  1.21395029e-01 -4.90487218e-02\n  2.26210132e-01  9.18716252e-01 -6.28671765e-01 -3.52927074e-02\n  1.04371846e-01  7.60800838e-01 -3.69751751e-01  9.43391100e-02\n  3.35151672e-01 -1.01121485e-01 -2.81962574e-01 -4.40382734e-02\n  1.57512203e-02  3.19573671e-01 -1.66831315e-01 -3.31051171e-01\n  1.34266526e-01 -3.26994240e-01  5.22436261e-01  3.12005952e-02\n  4.63776737e-02 -2.60641962e-01 -3.64091992e-01  7.37611890e-01\n  1.64964855e-01  8.31074119e-02  6.47614837e-01  1.03919327e-01\n -5.70775747e-01  2.48763680e-01 -4.92370725e-01  1.23241797e-01\n  1.14178896e+00  6.05342567e-01 -2.52420932e-01  1.69299334e-01\n -2.36360192e-01  5.00474930e-01  1.34689525e-01 -5.82981229e-01\n -5.17440289e-02 -6.40910149e-01 -7.17381775e-01 -4.28310126e-01\n  3.39095928e-02  1.06275201e+00 -5.19690931e-01 -2.42149949e-01\n -6.98296726e-01 -2.81084806e-01  4.23211455e-02  1.16781855e+00\n -3.51120234e-02 -2.23360419e-01  3.51732284e-01  5.88587165e-01\n -5.49554229e-02 -1.58718824e-01  2.96411067e-02 -1.58830419e-01\n  2.46585086e-01  3.84409130e-01  9.58559752e-01 -5.22272706e-01\n  1.48226440e-01 -4.87972617e-01 -1.21131644e-01  9.63912070e-01\n -4.01163310e-01 -3.75794023e-01 -4.14055973e-01  7.32707560e-01\n  4.72906947e-01  6.82174563e-02  5.11256084e-02 -8.98918748e-01\n -5.37759423e-01 -3.60055089e-01 -1.50514752e-01  1.27409816e-01\n -5.78529596e-01 -4.81013775e-01 -1.01586032e+00  4.83386129e-01\n  2.70442873e-01  3.48214842e-02  4.32448804e-01  6.74679697e-01\n  3.91925365e-01 -4.04636264e-01 -3.23236376e-01 -6.42261624e-01\n -3.06495368e-01  4.84008372e-01 -3.95093560e-01 -6.82756901e-02\n  3.88180733e-01 -1.36225641e-01  4.05167580e-01 -2.96083987e-01\n  1.71912953e-01 -2.19078317e-01 -1.34528190e-01 -7.42713213e-02\n -1.59350246e-01 -9.01009142e-02 -1.40787423e-01 -4.36340153e-01\n -2.41128400e-01  4.15079534e-01 -1.68855417e+00  5.17841578e-01\n  3.21145475e-01  5.21618426e-01  9.07824636e-02  8.63998771e-01\n -8.77459049e-02  2.30246723e-01 -5.22173047e-01  5.48087955e-01\n  4.08155739e-01 -3.36782247e-01  7.23777950e-01 -5.73362529e-01\n  1.37069285e-01  2.96831220e-01  2.35746861e-01  7.12225556e-01\n  3.21560532e-01  1.09125599e-01 -4.04317677e-02  1.22089952e-01]",
         "7556",
         "328346605",
         "17622269"
        ],
        [
         "34",
         "9938922",
         "Халат Serenada",
         "[{'attribute_name': 'Type', 'attribute_value': 'Халат', 'attribute_isaspect': False, 'attribute_showascharacteristic': True}\n {'attribute_name': 'Brand', 'attribute_value': 'Serenada', 'attribute_isaspect': False, 'attribute_showascharacteristic': True}\n {'attribute_name': 'Annotation', 'attribute_value': 'Представляем вашему вниманию трикотажный халат для женщин больших размеров, идеальный выбор для домашнего уюта и комфорта. Этот халат выполнен из мягкой и приятной на ощупь ткани, которая обеспечивает удобство в повседневном использовании. Модель отличается просторным кроем, что позволяет чувствовать себя свободно и комфортно, не сковывая движений.<br/><br/>Халат прекрасно подойдет для домашнего ношения и станет отличным вариантом для уютных вечеров на диване или раннего утра с чашечкой кофе. Его универсальный дизайн и привлекательный внешний вид делают его подходящим не только для спокойного времяпрепровождения, но и для встреч с друзьями или родными.<br/><br/>Благодаря своим размерам, этот халат идеально сидит на женщинах с различными фигурами, подчеркивая достоинства и обеспечивая максимальный комфорт. Также халат станет прекрасным подарком на 8 марта, который обязательно порадует вашу маму, сестру или подругу. Подарите близким уют и тепло, выбрав этот стильный и функциональный элемент домашнего гардероба.<br/><br/>Не упустите возможность сделать своей любимой женщине прекрасный подарок, который она сможет носить с радостью и комфортом каждый день.', 'attribute_isaspect': False, 'attribute_showascharacteristic': True}\n {'attribute_name': 'AgeO', 'attribute_value': 'Взрослая', 'attribute_isaspect': False, 'attribute_showascharacteristic': False}\n {'attribute_name': 'ColorBase', 'attribute_value': 'темно-синий', 'attribute_isaspect': True, 'attribute_showascharacteristic': True}\n {'attribute_name': 'ColorBase', 'attribute_value': 'красный', 'attribute_isaspect': True, 'attribute_showascharacteristic': True}\n {'attribute_name': 'ColorBase', 'attribute_value': 'белый', 'attribute_isaspect': True, 'attribute_showascharacteristic': True}\n {'attribute_name': 'ColorName', 'attribute_value': 'синяя клетка с цветами', 'attribute_isaspect': True, 'attribute_showascharacteristic': True}\n {'attribute_name': 'RussianSizeClothes', 'attribute_value': '52', 'attribute_isaspect': True, 'attribute_showascharacteristic': True}\n {'attribute_name': 'SizeManufacturer', 'attribute_value': '52', 'attribute_isaspect': True, 'attribute_showascharacteristic': True}\n {'attribute_name': 'SizeM', 'attribute_value': '44-46', 'attribute_isaspect': False, 'attribute_showascharacteristic': True}\n {'attribute_name': 'SexMaster', 'attribute_value': 'Женский', 'attribute_isaspect': False, 'attribute_showascharacteristic': True}\n {'attribute_name': 'HeightM', 'attribute_value': '167 см', 'attribute_isaspect': False, 'attribute_showascharacteristic': True}\n {'attribute_name': 'SizeGrid', 'attribute_value': 'Универсальная размерная сетка: Женская одежда', 'attribute_isaspect': False, 'attribute_showascharacteristic': False}\n {'attribute_name': 'Material', 'attribute_value': 'Кулирная гладь', 'attribute_isaspect': False, 'attribute_showascharacteristic': True}\n {'attribute_name': 'Material', 'attribute_value': 'Трикотаж', 'attribute_isaspect': False, 'attribute_showascharacteristic': True}\n {'attribute_name': 'Composition', 'attribute_value': '100% хлопок', 'attribute_isaspect': False, 'attribute_showascharacteristic': True}\n {'attribute_name': 'InnerMaterial', 'attribute_value': 'Без подклада', 'attribute_isaspect': False, 'attribute_showascharacteristic': True}\n {'attribute_name': 'StyleApparel', 'attribute_value': 'Домашний', 'attribute_isaspect': False, 'attribute_showascharacteristic': True}\n {'attribute_name': 'Season', 'attribute_value': 'На любой сезон', 'attribute_isaspect': False, 'attribute_showascharacteristic': True}\n {'attribute_name': 'clothescut', 'attribute_value': 'прямой', 'attribute_isaspect': False, 'attribute_showascharacteristic': True}\n {'attribute_name': 'DetailsClothes', 'attribute_value': 'Карманы', 'attribute_isaspect': False, 'attribute_showascharacteristic': True}\n {'attribute_name': 'DetailsClothes', 'attribute_value': 'Кокетка', 'attribute_isaspect': False, 'attribute_showascharacteristic': True}\n {'attribute_name': 'SleeveLength', 'attribute_value': 'Короткий', 'attribute_isaspect': False, 'attribute_showascharacteristic': True}\n {'attribute_name': 'FilterSizeINT', 'attribute_value': 'XL', 'attribute_isaspect': False, 'attribute_showascharacteristic': False}\n {'attribute_name': 'DressLength', 'attribute_value': 'до колена', 'attribute_isaspect': False, 'attribute_showascharacteristic': True}\n {'attribute_name': 'Name', 'attribute_value': 'Халат женский трикотажный большие размеры', 'attribute_isaspect': False, 'attribute_showascharacteristic': False}\n {'attribute_name': 'ColorBase_Forfilter', 'attribute_value': 'Синий', 'attribute_isaspect': False, 'attribute_showascharacteristic': False}\n {'attribute_name': 'ColorBase_Forfilter', 'attribute_value': 'Красный', 'attribute_isaspect': False, 'attribute_showascharacteristic': False}\n {'attribute_name': 'ColorBase_Forfilter', 'attribute_value': 'Белый', 'attribute_isaspect': False, 'attribute_showascharacteristic': False}]",
         "[-1.74034476e-01  1.26803994e+00 -4.06488255e-02 -4.14993137e-01\n -4.76692915e-01 -4.50628877e-01  4.32844400e-01  2.08169281e-01\n  5.86178452e-02  1.49980232e-01 -4.70224559e-01 -2.02475920e-01\n -2.35213012e-01  3.68041217e-01 -6.59615338e-01 -1.40228614e-01\n -9.41845357e-01 -6.05733037e-01 -1.33054927e-02 -1.80719972e-01\n  3.01102757e-01 -3.02417219e-01 -6.33400083e-01  4.82200623e-01\n -2.24524304e-01  3.48597914e-01 -4.33297381e-02  5.17082870e-01\n  3.12048197e-01 -1.35156929e-01  3.41057479e-02  5.98901063e-02\n -4.84034181e-01  6.55717999e-02 -2.55283952e-01  3.91885966e-01\n -3.36753100e-01  8.49498451e-01 -1.15240797e-01  1.62781030e-02\n -2.25147665e-01 -2.75055736e-01  4.60209370e-01 -1.08181834e-02\n -1.91218078e-01 -2.45874316e-01  2.02197671e-01 -8.05913359e-02\n  3.96985151e-02 -1.22222304e-01  7.14429617e-01  6.80224299e-01\n -3.69507186e-02 -2.73403525e-03 -4.01216120e-01  6.31430566e-01\n -5.92976511e-01 -1.54986665e-01  9.56349611e-01 -6.03878498e-02\n  5.45539260e-01  2.51787156e-01  8.34553421e-01 -1.89949036e-01\n -2.05864400e-01  1.39223099e-01 -5.01619577e-02 -7.62082338e-01\n -2.38833919e-01  4.91121471e-01 -5.67526221e-01  3.39605391e-01\n  4.59120631e-01  1.69201314e-01  2.22215489e-01  1.58237442e-02\n -2.35631049e-01  5.58680952e-01 -3.76339346e-01  3.70832756e-02\n  1.87283456e-01 -1.32930279e-02  3.77786793e-02  9.00727659e-02\n  9.95125026e-02  2.91246533e-01 -1.79803759e-01 -7.37607479e-03\n -1.11807644e-01  3.09461027e-01  4.62196246e-02 -1.68554917e-01\n -2.82552280e-02 -2.67544806e-01 -8.48097280e-02 -1.11925304e-01\n  2.51900285e-01 -1.44024059e-01  4.88533229e-02  3.84770691e-01\n -6.40780479e-02  8.67900431e-01  2.72153080e-01 -4.56585348e-01\n  2.14884385e-01  5.27264893e-01  6.06344819e-01  8.73995051e-02\n -1.44099697e-01 -3.49020958e-02 -2.76654512e-01 -2.70955145e-01\n  3.32722485e-01  1.83649287e-01  1.88099235e-01 -4.45468277e-01\n  2.44028226e-01  4.47088182e-02  3.05424303e-01  8.20275187e-01\n -1.10717677e-01  2.60835886e-01  3.40559602e-01  3.78268659e-01\n  6.80874646e-01 -4.17148769e-01  4.96114850e-01  7.01990649e-02\n  2.60202438e-02 -7.38718957e-02  2.47332275e-01  3.06738973e-01\n -1.84152007e-01 -1.44118965e-02 -8.50779772e-01  7.96838403e-02\n  4.29533243e-01  4.94139731e-01  1.18983582e-01 -7.92520940e-02\n -3.71054232e-01 -2.51359642e-02  2.31436044e-01  7.43105263e-02\n  3.62253636e-01  1.06925741e-01 -2.08112374e-02  4.48725104e-01\n -1.88554823e-03  4.75733012e-01  5.04130960e-01  2.18076110e-02\n  2.82223082e+00  3.05808663e-01 -3.21136951e-01  3.13078791e-01\n -1.93701833e-01 -5.19500226e-02 -3.89820784e-02 -1.77717626e-01\n  4.04740125e-03  7.29898095e-01 -3.83247793e-01  8.29943299e-01\n  2.51839370e-01 -5.79154968e-01 -9.18056816e-04 -6.66904986e-01\n  7.37114668e-01  3.75951260e-01 -1.82557896e-01  4.97046739e-01\n -2.51716375e-02 -2.32447237e-02 -2.27957383e-01 -5.32861769e-01\n  3.25695872e-01  4.98816431e-01 -1.54414260e+00  1.89548135e-01\n -3.46036911e-01 -7.40218580e-01 -4.75962251e-01  1.80471525e-01\n -1.05460584e+00 -4.41102594e-01  4.30156231e-01 -2.44901463e-01\n -5.08820236e-01 -1.45797387e-01  4.17495310e-01  8.65301430e-01\n  8.01217556e-01  3.48127216e-01 -5.47826648e-01 -2.06441686e-01\n -7.46957511e-02  3.23245019e-01  9.88116264e-02 -1.67684376e-01\n -2.63433903e-01 -7.30498970e-01  4.50071812e-01 -7.46515453e-01\n -1.40644267e-01 -1.77384257e-01 -1.62040330e-02 -3.61568242e-01\n -3.28361511e-01  2.03886628e-03  5.31697035e-01  5.06118953e-01\n  1.69965684e-01 -7.23401383e-02 -2.07299411e-01  7.32682943e-02\n  2.84841746e-01  4.47956741e-01  7.61083722e-01  6.84502840e-01\n  4.65067923e-01 -3.20704356e-02  2.50540078e-02  1.62013918e-01\n  6.66985214e-02 -1.38474077e-01 -2.91872993e-02  4.69183266e-01\n -2.45887920e-01  6.04192376e-01  3.07695508e-01 -1.23488121e-02\n  2.56758213e-01  6.23060167e-02 -3.32693398e-01 -4.43426728e-01\n  2.48104066e-01  8.78885567e-01  4.59182411e-02  3.37087870e-01\n -5.71191788e-01  2.72048652e-01  3.39978307e-01  7.13163495e-01\n -8.20613354e-02 -3.78692150e-03  2.06706300e-01 -1.27136603e-01\n  5.52261949e-01  1.81969494e-01  1.12615928e-01  2.61518627e-01\n  1.19448818e-01 -5.68102121e-01 -1.33635774e-01 -1.88384622e-01\n -1.33506012e+00  3.28011423e-01  2.07339078e-01  3.19224298e-02\n  3.79432350e-01  2.32656330e-01  3.82287800e-02 -3.38021636e-01\n -8.01378787e-02 -4.27034914e-01 -2.45739371e-02  2.37300575e-01\n -4.09592122e-01  1.46795630e-01  1.17979252e+00 -2.04681814e-01\n  6.59303188e-01 -1.44258067e-01 -6.93467021e-01 -2.59000480e-01\n  4.59004074e-01  1.27252430e-01  3.17261338e-01  1.07523263e+00\n  6.12539425e-02 -1.97876856e-01  3.22040468e-02  3.99833590e-01\n -1.05301447e-01 -2.87594765e-01  1.59090742e-01 -2.01855078e-01\n  2.65992105e-01 -8.58122587e-01  3.57679009e-01 -8.38157535e-03\n  2.83143103e-01 -2.00549327e-02 -2.70391285e-01  2.07032204e-01\n -7.52070606e-01 -7.79470503e-02 -1.95905939e-02 -3.87795836e-01\n  1.45810938e+00 -7.55621612e-01 -7.48722255e-02 -2.85426229e-02\n  2.53445387e-01  2.24092841e-01 -7.82727480e-01 -2.82154703e+00\n -1.60424978e-01 -1.33971110e-01 -3.44976664e-01 -8.77233207e-01\n  4.72697318e-02  2.06325412e-01  2.98700869e-01 -2.29867280e-01\n -5.26137173e-01 -3.71979475e-02  5.92471361e-02 -1.35619715e-02\n -1.84356704e-01  3.43306780e-01 -3.94235194e-01  3.81487459e-01\n  4.66809332e-01 -6.56688362e-02 -6.57292426e-01 -8.61355066e-02\n -7.53347874e-01  4.65824783e-01  5.66008747e-01 -5.93944609e-01\n  2.22964376e-01  3.06439638e-01  1.98199287e-01 -2.20050216e-02\n  4.36816335e-01 -1.41552575e-02 -4.83120203e-01  3.62071425e-01\n  1.49280846e-01  1.36247918e-01 -5.35336852e-01  1.44503057e-01\n  9.30154100e-02 -6.21174097e-01 -2.49050885e-01 -1.50931165e-01\n -2.05166101e+00 -6.30246639e-01 -4.76594210e-01 -6.48097873e-01\n -1.80401281e-02 -7.54615068e-02 -4.73605305e-01 -1.50865555e-01\n  3.95496488e-02 -2.38906890e-02  7.84774125e-02 -6.31416962e-02\n -1.33349299e-01 -1.56169757e-01 -2.08049700e-01 -1.89424813e-01\n -4.74786848e-01  6.48837328e-01  2.31318012e-01 -3.07823792e-02\n -9.25830305e-02  6.46413341e-02 -2.82943249e-03 -8.10841799e-01\n  1.16506852e-01 -3.82600725e-02  7.04230070e-02  1.77600801e+00\n -1.93324268e-01 -3.17826450e-01  4.00365382e-01 -2.82846212e-01\n  3.18104714e-01 -3.71484905e-02  1.30098447e-01  2.92613626e-01\n -7.04089642e-01  6.93882406e-01 -6.52106941e-01  1.95411250e-01\n  8.55874419e-01  3.17733049e-01 -1.54144943e-01 -4.53819036e-01\n  2.66894102e-02  7.19473362e-02  1.40285933e+00 -8.01779702e-02\n -2.18847290e-01 -3.35699469e-02  2.86810510e-02  9.88256931e-02\n -7.67161012e-01  4.80684221e-01 -6.16317630e-01 -1.04147196e-01\n  3.14459831e-01 -5.85990325e-02  2.44353503e-01 -1.92836195e-01\n -1.54340029e-01  6.67702258e-02 -4.29487936e-02  4.56888378e-01\n  1.03035498e+00  1.82473645e-01  5.50229251e-01 -2.78478861e-01\n -1.34478644e-01 -1.67505458e-01  4.32807058e-02 -9.94442403e-03\n -2.92392939e-01 -5.27005732e-01  6.14514351e-02 -2.15177193e-01\n  3.96980405e-01  3.25172424e-01  2.27562279e-01  2.71170557e-01\n  5.36330223e-01 -1.33771777e-01  3.86591554e-02  6.57868445e-01\n -2.71149158e-01  3.85670722e-01 -5.84337413e-02  2.12198079e-01\n  2.96472549e-01 -2.19983578e-01 -1.05716288e-01  6.26205131e-02\n  4.59143579e-01 -2.00707287e-01  3.09793949e-01  8.16278934e-01\n -6.19369864e-01  8.63325000e-02 -3.66849482e-01 -9.55634415e-02\n  5.29239058e-01  2.40380406e-01  4.32488799e-01 -1.75949886e-01\n  4.88473564e-01  7.85429776e-03 -1.29516229e-01 -1.77749431e+00\n  5.50492644e-01 -2.55268812e-01  3.83127719e-01  2.74982989e-01\n  4.66756523e-01  4.20322269e-02 -4.27479446e-01  4.91475224e-01\n  5.07047892e-01  6.11382425e-02  3.35320204e-01  1.34277582e-01\n -2.84388661e-03 -9.06744525e-02 -1.25163525e-01 -3.43247414e-01\n -3.19753051e-01  2.19308853e-01 -5.13587117e-01  1.11996412e+00\n -8.21339265e-02 -2.04297915e-01  6.49217010e-01 -2.23547429e-01\n -9.26601961e-02 -3.65897506e-01 -4.31941032e-01  1.36752188e-01\n  1.07870981e-01  1.31215185e-01 -3.03565562e-01 -5.05471110e-01\n -5.95363490e-02  7.18251824e-01 -9.00666356e-01  2.28797704e-01\n -4.27405387e-01  5.64879656e-01 -4.26395923e-01  1.03613806e+00\n  3.27703357e-02  1.38198733e-01 -5.22197306e-01 -2.51420707e-01\n  2.63480127e-01 -2.48041749e-01 -1.61448762e-01  4.60506201e-01\n  8.27306747e-01 -2.93904543e-03  6.02810085e-02  5.78901172e-03\n -1.66069239e-01 -3.09197381e-02  3.96234334e-01  8.56544077e-03]",
         "36734",
         "91280417",
         "2084278"
        ],
        [
         "35",
         "10058095",
         "Юбка Koton",
         "[{'attribute_name': 'Type', 'attribute_value': 'Юбка', 'attribute_isaspect': False, 'attribute_showascharacteristic': True}\n {'attribute_name': 'Brand', 'attribute_value': 'Koton', 'attribute_isaspect': False, 'attribute_showascharacteristic': True}\n {'attribute_name': 'ColorBase', 'attribute_value': 'красный', 'attribute_isaspect': True, 'attribute_showascharacteristic': True}\n {'attribute_name': 'RussianSizeClothes', 'attribute_value': '46', 'attribute_isaspect': True, 'attribute_showascharacteristic': True}\n {'attribute_name': 'SizeManufacturer', 'attribute_value': '40', 'attribute_isaspect': True, 'attribute_showascharacteristic': True}\n {'attribute_name': 'SexMaster', 'attribute_value': 'Женский', 'attribute_isaspect': False, 'attribute_showascharacteristic': True}\n {'attribute_name': 'SizeGrid', 'attribute_value': 'Универсальная размерная сетка: Женская одежда', 'attribute_isaspect': False, 'attribute_showascharacteristic': False}\n {'attribute_name': 'Composition', 'attribute_value': '%71 Полиэстер, %23 Вискоза, %6 Эластан', 'attribute_isaspect': False, 'attribute_showascharacteristic': True}\n {'attribute_name': 'StyleApparel', 'attribute_value': 'Офисный/школьный', 'attribute_isaspect': False, 'attribute_showascharacteristic': True}\n {'attribute_name': 'Season', 'attribute_value': 'Зима', 'attribute_isaspect': False, 'attribute_showascharacteristic': True}\n {'attribute_name': 'FilterSizeINT', 'attribute_value': 'M', 'attribute_isaspect': False, 'attribute_showascharacteristic': False}\n {'attribute_name': 'Name', 'attribute_value': 'Юбка женская', 'attribute_isaspect': False, 'attribute_showascharacteristic': False}\n {'attribute_name': 'ColorBase_Forfilter', 'attribute_value': 'Красный', 'attribute_isaspect': False, 'attribute_showascharacteristic': False}]",
         "[ 3.56268957e-02  3.61005723e-01  8.03150237e-04  2.84267843e-01\n  6.97776601e-02 -6.11142576e-01 -2.50444531e-01  2.31235728e-01\n -5.32011390e-01 -2.02612385e-01 -5.23169637e-02  1.36885807e-01\n -7.21483529e-01  3.80094275e-02 -8.40376377e-01 -3.65295142e-01\n -8.61114502e-01  3.78306359e-02  4.62498903e-01 -4.68518615e-01\n  8.34220573e-02 -1.36865675e-02 -4.21567470e-01  1.76755339e-01\n -1.07913002e-01 -4.38171029e-01  4.54056859e-02 -7.82454535e-02\n -3.16156298e-02 -1.34475634e-01 -4.99279439e-01  3.22627068e-01\n -1.65331177e-02  1.48621544e-01 -1.45755649e-01  2.22736835e-01\n  9.27364677e-02  8.99315029e-02 -1.94139093e-01 -3.29256773e-01\n -1.93121210e-01 -5.94337225e-01  9.32404935e-01 -3.78490686e-01\n  1.28440380e-01 -4.52643692e-01  8.67685676e-02  4.50399101e-01\n  2.22109020e-01 -2.40619719e-01  6.91755414e-01  1.07592702e+00\n -9.37693268e-02 -1.56632513e-02 -1.08124614e+00  4.42710042e-01\n -3.16054493e-01  2.88827509e-01  1.52845609e+00  4.21432912e-01\n -2.46500373e-02  5.35295159e-02  3.69349927e-01  9.16608796e-02\n  5.37995934e-01  2.41714343e-02  2.56771147e-01  1.13435137e+00\n -2.86317796e-01 -8.39259773e-02 -5.16127110e-01  9.76950645e-01\n  5.31612515e-01  5.73710978e-01  3.52304935e-01 -4.60451335e-01\n  1.62384331e-01  1.02117524e-01 -7.52800182e-02 -1.32278800e-01\n  2.71707505e-01 -3.75462562e-01 -5.58003306e-01 -2.44667903e-02\n  3.85853291e-01  2.11332306e-01 -3.93620759e-01  6.76110327e-01\n  7.11655498e-01  1.77553847e-01  4.57238853e-02  1.29741684e-01\n -3.56972814e-02 -1.88584074e-01  3.12020421e-01  2.36228377e-01\n  3.06112766e-01  1.47550970e-01  5.86368620e-01  3.05799991e-01\n -1.55297369e-01  3.28363657e-01  1.48489758e-01  1.87362820e-01\n  5.60480058e-01 -1.59453541e-01  4.04791921e-01 -5.81722617e-01\n  2.27232128e-01  2.01656774e-01 -9.90797400e-01 -5.50187111e-01\n -1.46628916e-01 -1.17592394e-01  2.16025025e-01 -2.61553884e-01\n -7.43997097e-03  6.22089148e-01  3.46185774e-01  4.93016511e-01\n -4.14403379e-01  4.08390850e-01 -1.72865599e-01  8.38645995e-02\n  2.32099265e-01 -3.84325862e-01 -2.61342525e-03  1.79719746e-01\n  7.07536638e-02  5.50623596e-01  6.44241929e-01 -4.02286910e-02\n  2.16154158e-01 -1.12561002e-01 -5.02867281e-01  7.75588304e-02\n  7.20474839e-01 -7.72650540e-03 -2.28821829e-01  1.16258955e+00\n -1.93693489e-02  6.49087787e-01  3.13645959e-01 -4.32086200e-01\n -2.14426890e-02  3.38522613e-01 -3.34079593e-01  7.45476782e-01\n  1.71454400e-02  4.64173928e-02  2.06305519e-01 -7.69629776e-02\n  3.17931628e+00  2.20028281e-01 -6.92988276e-01  3.22918832e-01\n -3.24875534e-01 -1.76050484e-01  4.95421618e-01  2.33246446e-01\n -3.53469849e-02  5.02748847e-01 -2.32822999e-01  2.04906911e-01\n  3.02238166e-02 -3.57908219e-01  2.09024027e-02 -6.57691658e-01\n  2.41314352e-01  2.10806400e-01  6.88390195e-01  4.50989753e-02\n -9.76882130e-03 -3.54967743e-01 -7.55744576e-02 -1.32761931e+00\n  5.59348017e-02  4.92945194e-01 -3.12357217e-01 -5.40720671e-02\n -2.15320349e-01 -2.43200809e-01 -2.14796841e-01 -2.09501535e-01\n -4.80560005e-01  9.37516987e-02  9.02417839e-01 -3.21826577e-01\n  5.34045577e-01  1.63125888e-01  1.31572291e-01  1.15224624e+00\n -1.53212488e-01 -9.20536444e-02 -1.37058318e-01  9.11792219e-02\n  4.98642802e-01  2.05535829e-01 -8.98993850e-01  2.26349935e-01\n  1.38958305e-01  6.19016141e-02 -1.87693834e-01 -3.71648997e-01\n -1.57888994e-01  3.68285805e-01  8.27131867e-01 -1.85538650e-01\n  4.53629494e-01  2.97367573e-03 -3.01166922e-01 -1.81383669e-01\n  3.37674320e-01 -2.53885627e-01 -3.10629606e-03  7.72092342e-02\n -1.69439033e-01  6.63319975e-03  2.45667815e-01  5.53112686e-01\n  1.60266697e-01 -1.89736828e-01 -1.67483553e-01  2.12997243e-01\n  2.22372115e-01 -2.25216702e-01 -4.48702961e-01  2.06831306e-01\n -3.73533964e-01  1.53977960e-01  3.21213633e-01  3.52176011e-01\n  4.59111631e-02 -2.80357420e-01 -1.91320226e-01 -7.39420414e-01\n -1.53389573e-03  5.17876565e-01  5.33332378e-02 -7.29630142e-03\n -5.03825098e-02  6.28886104e-01  5.64446390e-01  3.08022767e-01\n  6.94274157e-02 -3.56729776e-02 -3.58924598e-01 -3.27341944e-01\n  2.85821021e-01  1.42425120e-01 -1.12114298e+00  2.25114450e-01\n -2.16874480e-02 -5.15850306e-01 -4.54763502e-01 -7.39053547e-01\n -9.13411453e-02  3.01359773e-01 -1.11169672e+00 -2.11985737e-01\n -6.55188709e-02 -2.73879290e-01  2.28763878e-01 -5.01732230e-01\n  1.34035945e-01 -6.56590015e-02 -2.30159581e-01  3.50208253e-01\n -6.35908484e-01  2.05150932e-01 -4.66529727e-01 -5.46407819e-01\n  2.74385244e-01 -7.64899924e-02  7.64935464e-02 -3.68850619e-01\n  1.96461529e-01 -3.12838219e-02 -1.43336833e-01  2.01117873e-01\n  9.30836350e-02  3.27222645e-01 -3.04019935e-02  2.62834668e-01\n -4.48444858e-02  2.44548589e-01  1.50217116e-01  2.75881141e-02\n  5.50259709e-01 -5.04385710e-01  9.52170044e-02  3.09839919e-02\n -2.04305932e-01 -4.21747640e-02  8.63241181e-02  7.38972306e-01\n -1.99101388e-01  1.76975280e-02  5.15588343e-01 -4.26773667e-01\n  5.73014915e-01 -2.69888431e-01  1.55296624e-01  1.90316767e-01\n  8.31127405e-01  5.44367135e-02 -1.00250578e+00 -3.18013144e+00\n -1.22217357e-01 -2.45877415e-01 -3.21536124e-01 -5.72606146e-01\n -4.94843572e-02  2.85405964e-01  6.85207546e-01  4.31858897e-02\n -8.93297195e-02 -6.03097320e-01  3.03067088e-01 -1.45534843e-01\n  3.19116801e-01  4.65855122e-01 -2.09950626e-01  4.01896596e-01\n -9.90302920e-01 -5.17467707e-02  1.21637762e-01 -2.52155542e-01\n -3.12293410e-01 -6.57467693e-02  2.17980936e-01  5.37693352e-02\n  3.93556893e-01 -2.29560524e-01  4.37349603e-02  1.04106796e+00\n  3.25685143e-01 -1.34653360e-01 -2.96095908e-01  1.82979435e-01\n  4.43076372e-01  2.63668001e-01 -3.79911005e-01 -1.00334018e-01\n  3.35496962e-01 -7.95652747e-01  3.82731855e-01  1.36641771e-01\n -1.53501225e+00 -5.67200840e-01  2.36136332e-01 -5.03319442e-01\n -2.93453693e-01  3.96959707e-02 -5.57250381e-02 -9.47455168e-02\n -1.67748600e-01 -4.87708628e-01 -2.02743530e-01  1.80176347e-01\n -3.08983237e-01  3.96114796e-01  7.36509338e-02 -2.73261517e-01\n -1.65884480e-01  3.49137694e-01  2.17766106e-01  6.43658459e-01\n -3.78613859e-01  2.57823169e-01 -2.64523387e-01 -2.65164226e-01\n  2.65783489e-01 -7.08460927e-01 -2.47947246e-01  5.88683724e-01\n -7.10350275e-01 -3.99584770e-01 -2.67182559e-01  1.58869833e-01\n  2.70016521e-01  2.64657527e-01  2.63490677e-02  7.83008784e-02\n -7.69864678e-01  5.74662685e-01 -2.15302855e-01 -6.65063262e-02\n  2.89370835e-01  1.99860737e-01 -1.22610062e-01 -4.42812085e-01\n -2.10442960e-01  1.55775368e-01  4.76538599e-01  3.39337647e-01\n  5.75246215e-01  2.36629263e-01  3.83544028e-01 -2.33182311e-03\n -2.02328265e-01 -2.59011924e-01 -4.82004404e-01  2.54095435e-01\n  2.50411421e-01  1.10300004e-01  4.38660800e-01 -6.86852455e-01\n  4.85673919e-02  2.63263702e-01  1.15263559e-01  7.22130775e-01\n -3.40086043e-01  6.50028884e-02  4.22560692e-01  1.71966732e-01\n -5.19006550e-01  4.71828282e-02 -2.36918330e-02 -4.61767435e-01\n  2.72043169e-01 -2.20206171e-01  1.44263297e-01 -6.70843840e-01\n -3.32383871e-01  1.06486246e-01 -6.74392819e-01  1.07808918e-01\n -7.80856311e-02 -4.53872114e-01 -2.78001368e-01  6.79968238e-01\n -2.30557188e-01 -2.28859797e-01 -4.66876775e-02 -3.77740622e-01\n  1.31424963e-01  1.75860122e-01  1.06544457e-01  2.63357162e-03\n -2.91803062e-01  5.38138896e-02  1.52401477e-02  1.22258149e-01\n -5.45576692e-01 -4.74485785e-01 -3.57609957e-01 -1.65926665e-02\n  5.97687006e-01 -3.14923108e-01  3.26504588e-01 -2.60658383e-01\n  2.62476057e-01  1.52198911e-01  1.51411071e-01 -1.04427409e+00\n -2.96217442e-01 -6.90796971e-02 -1.82606131e-02  1.45713955e-01\n  1.85254350e-01 -5.01046538e-01 -4.05509412e-01 -3.50191772e-01\n  1.94997519e-01 -9.37818736e-02  6.21016696e-02  3.33853096e-01\n  1.45903990e-01  7.78785944e-02 -4.66438293e-01 -8.69064867e-01\n -2.80502915e-01  2.80600458e-01 -2.02658892e-01  2.06814337e+00\n  4.86907899e-01  2.56337643e-01 -2.83062488e-01 -2.95244962e-01\n -3.39854866e-01  5.16874194e-01 -3.55355084e-01  7.83350110e-01\n -3.04272175e-02 -1.60225019e-01  1.08897462e-01 -2.21143678e-01\n -7.88184553e-02 -2.47570544e-01 -1.42479932e+00  6.54758811e-02\n -3.87592077e-01  3.31948549e-02 -3.13477784e-01  5.75263023e-01\n -1.99545920e-03 -1.32440656e-01 -9.51027691e-01  6.58501267e-01\n  6.71398401e-01 -5.18153667e-01  9.81711969e-02 -9.22705531e-01\n -3.70707661e-02 -2.16884077e-01  7.03713894e-01  4.90894437e-01\n -1.12471879e-01  6.85514435e-02 -3.08809042e-01  1.59974486e-01]",
         "7504",
         "325907771",
         "7841737"
        ],
        [
         "36",
         "10243871",
         "Босоножки Baden 2025",
         "[{'attribute_name': 'Name', 'attribute_value': 'Летние босоножки на платформе из натуральной кожи Баден', 'attribute_isaspect': False, 'attribute_showascharacteristic': False}\n {'attribute_name': 'Type', 'attribute_value': 'Босоножки', 'attribute_isaspect': False, 'attribute_showascharacteristic': False}\n {'attribute_name': 'Brand', 'attribute_value': 'Baden', 'attribute_isaspect': False, 'attribute_showascharacteristic': True}\n {'attribute_name': 'Annotation', 'attribute_value': 'Кожаные босоножки бренда Baden представляют собой симбиоз стиля и комфорта для летних дней.<br/><br/>Мягкая и гладкая на ощупь натуральная кожа обеспечивает непревзойденный комфорт и позволяет вашей ноге ощущать легкость и свободу на каждом шагу.<br/><br/>Подкладка из экокожи производится из первоклассных материалов, обеспечивая превосходное качество и долговечность.  <br/><br/>Толстая подошва из полиуретана обладает хорошей гибкостью, обеспечивает хорошую амортизацию, смягчая удары при ходьбе и снижая нагрузку на суставы и позвоночник. при этом она легкая и прочная.<br/><br/>Липучки позволяют регулировать посадку обуви в зависимости от полноты стопы ( на узкую или широкую ). Такую модель быстрое и легкое надевать и снимать.<br/><br/>Удобная колодка позволит отправится на долгие пешие прогулки и путешествия. В такой модели можно пойти на пляж или па работу в офис.<br/><br/>Откройте для себя мир элегантности и стиля с этими прекрасными сандалиями из ремешков в греческом стиле.', 'attribute_isaspect': False, 'attribute_showascharacteristic': True}\n {'attribute_name': 'ColorBase', 'attribute_value': 'бежевый', 'attribute_isaspect': True, 'attribute_showascharacteristic': True}\n {'attribute_name': 'ColorBase', 'attribute_value': 'белый', 'attribute_isaspect': True, 'attribute_showascharacteristic': True}\n {'attribute_name': 'ColorName', 'attribute_value': 'бежевый', 'attribute_isaspect': True, 'attribute_showascharacteristic': True}\n {'attribute_name': 'RussianSizeShoes', 'attribute_value': '40', 'attribute_isaspect': True, 'attribute_showascharacteristic': True}\n {'attribute_name': 'SexMaster', 'attribute_value': 'Женский', 'attribute_isaspect': False, 'attribute_showascharacteristic': True}\n {'attribute_name': 'Material', 'attribute_value': 'Натуральная кожа', 'attribute_isaspect': False, 'attribute_showascharacteristic': True}\n {'attribute_name': 'MainShoesMaterial', 'attribute_value': 'Натуральная кожа', 'attribute_isaspect': False, 'attribute_showascharacteristic': True}\n {'attribute_name': 'InnerMaterial', 'attribute_value': 'Искусственная кожа', 'attribute_isaspect': False, 'attribute_showascharacteristic': True}\n {'attribute_name': 'SoleMaterial', 'attribute_value': 'Полиуретан', 'attribute_isaspect': False, 'attribute_showascharacteristic': True}\n {'attribute_name': 'StyleApparel', 'attribute_value': 'Повседневный', 'attribute_isaspect': False, 'attribute_showascharacteristic': False}\n {'attribute_name': 'ShoeFastening', 'attribute_value': 'Липучки', 'attribute_isaspect': False, 'attribute_showascharacteristic': True}\n {'attribute_name': 'SizeGrid', 'attribute_value': 'Универсальная размерная сетка: женская обувь', 'attribute_isaspect': False, 'attribute_showascharacteristic': False}\n {'attribute_name': 'SizeGrid', 'attribute_value': 'Универсальная размерная сетка: полнота женской обуви', 'attribute_isaspect': False, 'attribute_showascharacteristic': False}\n {'attribute_name': 'AgeO', 'attribute_value': 'Взрослая', 'attribute_isaspect': False, 'attribute_showascharacteristic': True}\n {'attribute_name': 'ColorBase_Forfilter', 'attribute_value': 'Бежевый', 'attribute_isaspect': False, 'attribute_showascharacteristic': False}\n {'attribute_name': 'ColorBase_Forfilter', 'attribute_value': 'Белый', 'attribute_isaspect': False, 'attribute_showascharacteristic': False}]",
         "[-7.91143477e-02 -1.28988951e-01 -9.20897871e-02  2.35932484e-01\n -3.51949573e-01  7.17904866e-02  4.62248027e-01  3.53429198e-01\n  1.55559719e-01  1.54574960e-02 -1.34878725e-01 -5.51726222e-01\n -5.14372945e-01  1.27003729e-01 -7.34964252e-01 -1.14126489e-01\n -1.95955038e-01  9.02147442e-02  3.35059553e-01  3.98742110e-02\n  4.18169126e-02 -3.17272991e-01  9.92761329e-02 -2.80492127e-01\n -5.11258245e-01 -6.08305335e-01  4.81088221e-01 -1.58587649e-01\n  6.67481795e-02  3.22800040e-01 -8.17606032e-01  1.23321041e-01\n -5.18467307e-01 -1.51973590e-03 -5.09038448e-01  4.21425134e-01\n  4.69473265e-02  3.27087402e-01  1.40965939e-01 -6.31696224e-01\n -2.88027897e-03 -4.65256572e-02  5.24432957e-01 -3.66946399e-01\n  6.68073237e-01 -3.50011885e-02  2.44651318e-01 -3.27831134e-02\n  1.50734633e-01  5.14891982e-01  6.70094848e-01  4.54149187e-01\n -7.29654655e-02 -8.57117027e-02 -6.55174494e-01 -2.14335263e-01\n -4.48803186e-01 -2.51234293e-01  3.32245409e-01  1.87677145e-01\n -7.53823996e-01 -6.91522583e-02  5.11417031e-01 -1.82390720e-01\n  9.16363671e-02 -2.15881616e-02  4.83527958e-01  2.91060731e-02\n -3.43725652e-01 -1.76433340e-01 -5.67227721e-01  2.46768296e-02\n  2.85886824e-02  6.10624909e-01 -5.82968891e-02 -9.42056239e-01\n -2.12810904e-01 -3.28232616e-01 -1.20568410e-01 -4.63793993e-01\n -1.39553457e-01 -5.25930405e-01 -9.37237293e-02  4.64578420e-02\n  1.83190554e-02 -4.18706417e-01 -5.34369171e-01 -3.20114255e-01\n -2.11569905e-01  2.52597481e-02 -1.61383688e-01 -6.70801997e-02\n  4.48592335e-01 -1.06649548e-01  2.23081112e-02  6.02719843e-01\n -7.22922310e-02  2.14680761e-01 -1.13196522e-01  3.74131888e-01\n -2.64685005e-02  8.34516048e-01  2.31637806e-03  3.81881297e-02\n -3.26593935e-01  1.20770350e-01  2.06785664e-01 -5.23220301e-02\n  1.16333969e-01 -2.38975346e-01 -9.09915626e-01  4.15100008e-01\n -8.06123763e-02 -8.61871541e-02  5.05565584e-01 -3.49086821e-02\n  6.50457144e-01  3.95199448e-01  1.83043197e-01 -4.82915044e-02\n -8.08459669e-02  5.46084344e-02  2.53759563e-01  7.57055432e-02\n  1.17517374e-01  2.28366092e-01 -3.24196726e-01 -2.75344402e-01\n -1.95038170e-01  2.00219229e-01  7.95715928e-01 -1.30072773e-01\n  5.87890267e-01  3.37850004e-02 -4.39200848e-01 -5.60140073e-01\n  7.48314738e-01  7.72282958e-01  3.92403603e-02  5.05610228e-01\n  4.38813001e-01  3.36889923e-03  2.92175084e-01  3.28525752e-02\n  5.60287833e-01 -5.30922860e-02 -9.59960967e-02  3.48211497e-01\n -2.65063077e-01 -2.16583595e-01  3.72334838e-01  3.39093804e-01\n  4.29176283e+00 -6.24631107e-01  2.39872798e-01  2.13116616e-01\n  2.76543200e-01  3.43593091e-01  5.05662784e-02  4.42532688e-01\n  3.29907537e-01 -3.94928664e-01 -1.32745788e-01  1.31634951e-01\n  2.46118471e-01 -4.30888385e-02  1.20259091e-01  6.14895403e-01\n  3.77799869e-02  9.99046266e-02  8.15099239e-01  3.57244283e-01\n  1.56045705e-01 -2.67486989e-01 -1.77205771e-01 -8.28568101e-01\n  1.82660222e-01  4.78081763e-01 -1.02031922e+00 -5.83512068e-01\n  2.61093229e-01  3.86291564e-01 -1.61740571e-01 -4.18329418e-01\n -4.13667738e-01  5.87694347e-01  1.10042393e+00 -3.51496041e-01\n  4.23094392e-01 -1.20469265e-01  2.84123003e-01  1.06722033e+00\n  1.61863655e-01  1.26685113e-01 -5.16972721e-01  3.69201541e-01\n -8.90370846e-01  4.62611020e-01 -1.55930415e-01  5.97670615e-01\n  2.04953790e-01 -1.53416783e-01  3.76139820e-01  3.92737210e-01\n -5.93509614e-01 -1.26125783e-01  2.59659410e-01  2.81354725e-01\n  6.13535196e-02 -3.65773916e-01 -2.37782314e-01 -2.56734669e-01\n  2.90235221e-01 -3.95486265e-01  2.72971332e-01  3.00168395e-01\n  2.83332169e-01  4.46282834e-01  2.38067389e-01  5.45133352e-01\n -9.59000215e-02  2.78273076e-01 -3.81118447e-01 -1.91633806e-01\n -6.25792384e-01  2.68377304e-01  2.98294663e-01 -4.07815635e-01\n -8.18446130e-02  8.23689699e-01  3.06103945e-01  2.14569718e-01\n  3.73990089e-02  4.51765209e-02  2.94375420e-02  4.04785275e-02\n  5.72592765e-02  2.45823413e-01  1.82453007e-01 -3.60524356e-02\n -1.31957054e-01 -2.76322126e-01  6.15975082e-01 -4.41910595e-01\n -2.03666344e-01 -3.22505325e-01  2.02509448e-01 -7.77501345e-01\n  9.00167227e-03  5.51776350e-01  3.05310607e-01 -5.81522107e-01\n -4.40967083e-01 -5.67242920e-01 -1.26045212e-01 -1.61170602e-01\n -3.06328356e-01 -4.75551337e-02 -5.59647679e-01 -6.37669921e-01\n  2.81652242e-01 -1.24820590e-01 -2.16141015e-01  5.67402244e-01\n  7.93812275e-02 -1.31463081e-01 -1.75888717e-01  8.65608156e-02\n -3.22518051e-01 -3.21006060e-01 -9.55327988e-01 -2.00896829e-01\n -2.14017063e-01 -1.42312527e-01  1.07189819e-01  2.09440455e-01\n  7.62433261e-02  1.06853843e-02  7.24183023e-03  1.04300690e+00\n  1.79523975e-01  1.13448060e+00 -4.11903709e-01  2.28413939e-01\n -3.27856004e-01  9.87494290e-02  1.34931743e-01  6.52236938e-02\n -5.56578159e-01 -2.54279196e-01  6.89356446e-01  1.71942249e-01\n  8.34883153e-02  2.63776541e-01 -1.12189300e-01  4.25456017e-01\n -4.72677380e-01 -3.53098601e-01 -2.27950841e-01 -1.84458077e-01\n  7.16413021e-01 -1.61430791e-01 -8.86587799e-02 -3.41038346e-01\n -1.45862997e-03  2.67569274e-02 -3.37790191e-01 -4.27276897e+00\n  8.87049586e-02  7.73553848e-02  1.42071992e-01 -4.94087249e-01\n -5.77405453e-01  1.90220624e-02  8.42051983e-01  2.99831927e-01\n -3.95998120e-01  1.26358092e-01  5.24614930e-01 -6.33133769e-01\n -6.38838410e-01  2.95801789e-01 -1.06960535e-03  6.93782806e-01\n  1.35709703e-01 -6.37987733e-01 -3.32037240e-01  1.03923157e-01\n  3.26634943e-01 -2.75930315e-02  3.10273379e-01  2.69613862e-01\n  2.86434799e-01  3.74022067e-01  1.17794394e-01  1.87790841e-02\n  7.59087056e-02  3.13961178e-01  2.29382277e-01 -1.22883022e-02\n  6.59035146e-02 -1.25596404e+00  1.41436294e-01 -1.05117247e-01\n -4.57873881e-01 -2.28659213e-01 -2.37086460e-01  3.69385689e-01\n -1.91328812e+00 -2.08161131e-01  5.21756709e-01 -8.27640295e-02\n  2.44404078e-02  3.95064473e-01 -4.97294426e-01  6.32891178e-01\n  5.44074416e-01 -4.47005004e-01  4.44903970e-03 -1.12791702e-01\n -2.63049722e-01 -2.50972927e-01 -4.83617067e-01 -2.18216032e-01\n -7.25814700e-01 -1.18321836e-01 -2.57611156e-01  7.66761154e-02\n -6.69339538e-01  1.01382852e-01  3.12587261e-01 -6.91485882e-01\n -1.14565663e-01 -5.83666027e-01 -3.95341247e-01  9.88961101e-01\n -5.40380120e-01 -4.88522828e-01  3.40305984e-01  3.39604497e-01\n -1.96404904e-01  1.90181702e-01 -1.74690872e-01  8.51595253e-02\n  4.32421923e-01  8.69082153e-01 -1.05916806e-01 -1.82658955e-01\n  2.09135324e-01  6.99272752e-02 -1.62646532e-01  1.13721788e-02\n  2.53750801e-01  2.74014682e-01  1.68347359e+00  3.42183411e-02\n  6.17124021e-01 -3.67576420e-01 -5.30545115e-02  3.53905827e-01\n  2.53936321e-01  4.81310308e-01  5.83281517e-01  2.73364842e-01\n  2.88285851e-01 -1.13233581e-01  4.57135171e-01 -9.72273231e-01\n -1.44591838e-01 -1.35080367e-02 -4.00533319e-01  3.67826194e-01\n  7.94529915e-04  5.62664032e-01 -2.89942563e-01  2.42441893e-03\n  2.87878245e-01 -5.44136882e-01 -4.22361702e-01 -8.30054164e-01\n -6.26540303e-01  1.79699242e-01 -5.33245206e-02 -6.55202210e-01\n -2.50373632e-02 -6.67984933e-02  6.69279397e-02  2.56071240e-01\n -1.86847851e-01 -2.92589962e-01  3.14487278e-01  2.44648123e+00\n -2.33903155e-01 -1.13785818e-01  3.34276617e-01  8.30212951e-01\n -2.40078196e-01 -3.44741374e-01  1.73019096e-01 -8.78456086e-02\n -3.21563721e-01  3.37005317e-01 -3.82803321e-01 -4.08344805e-01\n  4.93068904e-01 -4.04482603e-01 -4.06862229e-01 -1.46884173e-01\n  2.97163695e-01 -2.16250032e-01  6.38774037e-03 -2.36505270e-03\n  2.79483140e-01 -6.67577982e-03 -3.66384149e-01 -3.07773322e-01\n -4.11389858e-01  2.81271547e-01  3.00549507e-01 -2.39294976e-01\n  5.30012846e-02  2.94534564e-01  4.44156379e-02  3.09732139e-01\n  3.05570543e-01  1.32954314e-01 -7.08162859e-02  1.41003549e-01\n  1.77230418e-01  4.69424486e-01 -6.60563782e-02  3.30241948e-01\n -2.67034978e-01 -2.61696994e-01  6.68024495e-02 -6.24617755e-01\n -3.71277750e-01 -8.03991556e-02  4.59014565e-01  3.12986672e-02\n -3.29679459e-01  1.62538514e-02 -2.98123747e-01 -1.12750642e-01\n  6.19408607e-01  1.88322067e-02 -9.75331590e-02 -8.74949992e-02\n  5.99885821e-01 -6.89765811e-02 -2.60101748e+00  4.69357371e-02\n  5.66556513e-01  9.82179046e-01 -5.26706815e-01  8.05973530e-01\n  1.55913085e-01 -2.72512555e-01  4.14792538e-01 -5.52968346e-02\n  6.76191270e-01 -1.12720937e-01  3.20413351e-01 -5.83987892e-01\n -1.89358592e-01  2.55463600e-01  4.40654457e-02  4.37747061e-01\n  3.95700216e-01  1.59370840e-01  6.75528646e-02 -1.08825698e-01]",
         "7645",
         "312982212",
         "37547663"
        ],
        [
         "37",
         "10451453",
         "Блузка Glam Galleria",
         "[{'attribute_name': 'Type', 'attribute_value': 'Блузка', 'attribute_isaspect': False, 'attribute_showascharacteristic': True}\n {'attribute_name': 'Brand', 'attribute_value': 'Glam Galleria', 'attribute_isaspect': False, 'attribute_showascharacteristic': True}\n {'attribute_name': 'Annotation', 'attribute_value': 'Блузка женская из премиального материала. Блузка женская больших размеров представлена в размерном ряде 50-64. Блузка женская нарядная дополнена декоративными элементами. Блузка подходит для любого случая. Блуза женская доступна в различных цветах. Блузка с коротким рукавом женская обеспечивает свободу движений. Разнообразные блузки женские представлены в разных стилях.', 'attribute_isaspect': False, 'attribute_showascharacteristic': True}\n {'attribute_name': 'ColorBase', 'attribute_value': 'коричневый', 'attribute_isaspect': True, 'attribute_showascharacteristic': True}\n {'attribute_name': 'ColorBase', 'attribute_value': 'белый', 'attribute_isaspect': True, 'attribute_showascharacteristic': True}\n {'attribute_name': 'ColorName', 'attribute_value': 'коричнево-белый', 'attribute_isaspect': True, 'attribute_showascharacteristic': True}\n {'attribute_name': 'RussianSizeClothes', 'attribute_value': '50', 'attribute_isaspect': True, 'attribute_showascharacteristic': True}\n {'attribute_name': 'SizeManufacturer', 'attribute_value': '50', 'attribute_isaspect': True, 'attribute_showascharacteristic': True}\n {'attribute_name': 'SizeM', 'attribute_value': '54', 'attribute_isaspect': False, 'attribute_showascharacteristic': True}\n {'attribute_name': 'SexMaster', 'attribute_value': 'Женский', 'attribute_isaspect': False, 'attribute_showascharacteristic': True}\n {'attribute_name': 'HeightM', 'attribute_value': '167 см', 'attribute_isaspect': False, 'attribute_showascharacteristic': True}\n {'attribute_name': 'SizeGrid', 'attribute_value': 'Универсальная размерная сетка: Женская одежда', 'attribute_isaspect': False, 'attribute_showascharacteristic': False}\n {'attribute_name': 'Material', 'attribute_value': 'Вискоза', 'attribute_isaspect': False, 'attribute_showascharacteristic': True}\n {'attribute_name': 'Composition', 'attribute_value': '70% вискоза,15% лайкра,15% пэ', 'attribute_isaspect': False, 'attribute_showascharacteristic': True}\n {'attribute_name': 'InnerMaterial', 'attribute_value': 'Без подклада', 'attribute_isaspect': False, 'attribute_showascharacteristic': True}\n {'attribute_name': 'StyleApparel', 'attribute_value': 'Повседневный', 'attribute_isaspect': False, 'attribute_showascharacteristic': True}\n {'attribute_name': 'Season', 'attribute_value': 'На любой сезон', 'attribute_isaspect': False, 'attribute_showascharacteristic': True}\n {'attribute_name': 'clothescut', 'attribute_value': 'свободный', 'attribute_isaspect': False, 'attribute_showascharacteristic': True}\n {'attribute_name': 'DetailsClothes', 'attribute_value': 'Броши', 'attribute_isaspect': False, 'attribute_showascharacteristic': True}\n {'attribute_name': 'SleeveLength', 'attribute_value': 'Три четверти', 'attribute_isaspect': False, 'attribute_showascharacteristic': True}\n {'attribute_name': 'FilterSizeINT', 'attribute_value': 'L', 'attribute_isaspect': False, 'attribute_showascharacteristic': False}\n {'attribute_name': 'FilterSizeINT', 'attribute_value': 'XL', 'attribute_isaspect': False, 'attribute_showascharacteristic': False}\n {'attribute_name': 'NumItemsDcml', 'attribute_value': '1', 'attribute_isaspect': False, 'attribute_showascharacteristic': True}\n {'attribute_name': 'Name', 'attribute_value': 'Блузка женская больших размеров нарядная летняя вискоза', 'attribute_isaspect': False, 'attribute_showascharacteristic': False}\n {'attribute_name': 'ColorBase_Forfilter', 'attribute_value': 'Коричневый', 'attribute_isaspect': False, 'attribute_showascharacteristic': False}\n {'attribute_name': 'ColorBase_Forfilter', 'attribute_value': 'Белый', 'attribute_isaspect': False, 'attribute_showascharacteristic': False}]",
         "[-3.19175899e-01  1.30668676e+00  6.80955470e-01 -7.09383488e-02\n -1.47522494e-01 -3.80149603e-01  1.57441869e-01 -1.20606177e-01\n  5.20016551e-02 -1.77238226e-01 -2.00059503e-01  4.28937733e-01\n -8.41017485e-01  7.21191049e-01 -3.08495760e-01 -3.28038007e-01\n  2.15574875e-01 -3.14769298e-02  1.89641893e-01 -3.79847944e-01\n -1.35939106e-01 -8.62620950e-01 -4.15564895e-01  4.02162820e-01\n -1.20105401e-01  4.64543104e-01  6.39579952e-01 -6.06065989e-02\n  1.13476634e-01  4.77286756e-01 -1.41056132e+00  2.60614634e-01\n -4.75888699e-02 -2.24620402e-01 -2.03718007e-01  1.66121110e-01\n  3.74194801e-01  7.21902013e-01 -7.12381005e-02 -1.13360792e-01\n  4.28614199e-01 -4.57422256e-01  4.86932814e-01  5.28144956e-01\n  7.94058293e-02  4.94050682e-02 -8.67094159e-01 -2.72306919e-01\n -1.35939270e-01  1.60387903e-01  5.20730674e-01  1.09418139e-01\n  2.69813120e-01  1.43127203e-01 -2.36545831e-01  3.28053027e-01\n -7.50867128e-02  5.06200910e-01  1.15694201e+00  1.27254307e-01\n  5.11734247e-01  2.61036843e-01  2.59053893e-02 -2.02773601e-01\n  1.65618092e-01 -1.85133904e-01 -3.79993916e-02  3.47919405e-01\n -2.60777384e-01 -2.48370320e-02 -6.83131933e-01  4.44100857e-01\n  1.65258110e-01  7.05463886e-01  1.74492702e-01  2.04757512e-01\n -1.15319085e+00  6.24357402e-01  3.18026334e-01  1.07018754e-01\n -5.78062236e-03  3.67430151e-02  5.41436821e-02  3.89380753e-01\n  3.79558913e-02  4.82552141e-01  9.31967497e-02 -2.00885549e-01\n  1.02125287e-01 -3.64032328e-01  8.37571472e-02 -5.35938203e-01\n  1.30921036e-01  1.92792416e-01  1.09594822e-01  4.14560646e-01\n  5.09633601e-01  2.60681212e-01  6.02310300e-01  4.58583891e-01\n -8.43617618e-02 -4.17396128e-02  4.23357189e-01 -2.69935966e-01\n -1.49425268e-02  1.07914060e-02 -6.56311810e-01 -8.89061391e-01\n  3.23223799e-01  1.30501524e-01 -8.01445961e-01 -6.10816896e-01\n -3.75800431e-01  2.34326333e-01  2.84009933e-01  7.99352527e-02\n  3.10477346e-01  2.06972510e-01  3.53095531e-02  6.70850277e-01\n  4.28671420e-01 -1.09774396e-01 -9.40361619e-02 -2.78682888e-01\n  9.63181496e-01 -4.45240915e-01 -4.00229543e-02 -9.13377255e-02\n  2.83247948e-01  3.97480935e-01  9.83961523e-02 -1.06735170e-01\n  1.98789880e-01  1.09113008e-02 -7.28804320e-02 -1.39546245e-01\n  1.94270551e-01 -1.76271975e-01  6.29946813e-02  1.06108636e-02\n -1.02559038e-01 -4.48217571e-01  5.14487863e-01  1.90617472e-01\n -2.92583704e-02  5.86614013e-01 -3.08309644e-01 -1.42844543e-01\n  8.20519477e-02  5.82689404e-01  2.28776038e-03 -3.08149248e-01\n  4.49664307e+00 -1.91393495e-01  6.87671304e-02  1.69061318e-01\n -4.00175482e-01  1.64498597e-01 -4.18175340e-01 -3.45659912e-01\n  3.54001939e-01  1.72791108e-01 -9.80762094e-02  3.22197020e-01\n  5.54330349e-01 -7.12845325e-01 -2.48435915e-01 -1.50936648e-01\n  2.50247359e-01 -2.59137303e-01 -1.43475384e-01 -6.49529696e-03\n  8.78319666e-02 -5.50023556e-01 -1.73695266e-01 -6.10272229e-01\n  1.10207692e-01  2.66796261e-01 -1.29529655e+00 -5.86750507e-01\n  9.08479467e-02 -2.14924932e-01 -8.55883360e-02  2.10103989e-01\n -6.35110259e-01 -2.32563525e-01  1.12530756e+00  4.19851154e-01\n -2.45815009e-01 -1.08513251e-01 -2.94986904e-01  9.13345098e-01\n -9.11701024e-02 -3.27210963e-01 -3.14537883e-01  2.81036794e-02\n -1.91832095e-01 -2.47389674e-01 -5.36500335e-01 -1.23665258e-02\n  8.98012340e-01 -6.12003565e-01  6.95888519e-01 -1.71578854e-01\n  2.27380991e-01  1.65626138e-01  8.58187377e-02 -6.55637145e-01\n  1.40204147e-01  2.99801111e-01  8.35213214e-02  3.75015885e-01\n -2.59066373e-02  2.92732656e-01  4.06361014e-01  3.99169683e-01\n  1.28038079e-02  8.61081719e-01  3.64056051e-01  6.35494888e-02\n  1.86034411e-01 -1.01414561e-01 -3.65765870e-01  2.96593875e-01\n  3.31783056e-01  5.34890145e-02 -3.70091856e-01  2.01955080e-01\n -1.11572906e-01 -1.52938366e-01  7.94986188e-01  1.29505754e-01\n -4.01979685e-03  2.24684313e-01 -1.15678698e-01  1.80201977e-02\n  5.92564046e-03  8.93444791e-02  3.28104794e-02  1.13421030e-01\n  2.78957248e-01 -9.11403120e-01  6.56552315e-01  1.05945773e-01\n  5.05798012e-02  2.61237502e-01 -3.48788172e-01 -6.97459579e-01\n  6.91995919e-01 -1.29791379e-01 -1.30004913e-01 -6.13560081e-02\n  3.63158137e-01 -6.83926702e-01  1.02317959e-01 -8.65217224e-02\n -9.47017789e-01  1.62138999e-01 -2.14627683e-02 -1.88908190e-01\n  1.81622028e-01  2.04808071e-01  4.14317727e-01 -1.11308917e-01\n -1.00967057e-01  2.46811941e-01 -8.64252225e-02  6.35587335e-01\n -7.98142672e-01 -6.27988875e-02  1.10942626e+00  6.24269992e-03\n  3.60943973e-01  3.97485673e-01 -3.74832422e-01 -4.61477906e-01\n -6.11885637e-02 -1.10100061e-02 -8.52184892e-02  2.21092582e-01\n -1.04855567e-01 -1.32274091e-01  3.06949317e-01  1.80949122e-01\n -1.24111347e-01 -1.68399721e-01  7.39791274e-01  2.19839096e-01\n  2.98299789e-02 -1.44384488e-01  3.79100859e-01  1.86232537e-01\n -5.62419742e-02  1.44779757e-01 -1.71532944e-01 -4.41141605e-01\n -1.73588127e-01 -6.29526556e-01 -1.63999945e-01 -2.52963603e-01\n  1.94242513e+00 -6.22031331e-01  5.15134811e-01 -2.28433609e-01\n  2.38331169e-01  1.51419595e-01 -4.68486637e-01 -4.49927282e+00\n -5.59317946e-01  4.12587598e-02 -9.98614490e-01 -5.29335737e-01\n -5.20557821e-01 -1.85331345e-01  5.91992676e-01  2.33760029e-01\n -1.28815576e-01 -3.44029158e-01  7.38111660e-02 -6.14207312e-02\n  5.44795394e-01  2.92366773e-01 -4.09135997e-01 -6.20038092e-01\n -4.37227309e-01 -6.93328381e-02 -2.51990914e-01 -3.30881476e-01\n -4.03802872e-01  2.09771320e-01  3.82788002e-01 -2.44168743e-01\n  3.04642200e-01  1.48266315e-01  1.03110790e-01  3.44914347e-01\n  5.17321289e-01 -8.79631937e-02  5.57383895e-03  4.13071603e-01\n  3.15220654e-01  7.08943456e-02 -9.43134129e-02  1.40415788e-01\n  5.03974855e-01 -7.75078237e-02 -7.73424506e-02  2.92055905e-02\n -2.33075762e+00 -5.06474793e-01  5.61802745e-01 -4.28927749e-01\n  2.42374510e-01 -1.71978951e-01  1.40989572e-02 -2.41651386e-02\n -2.47171059e-01 -4.11553606e-02 -4.91726995e-02 -9.20280442e-02\n -3.32387865e-01  1.83292061e-01  8.21620524e-01 -9.60991234e-02\n -1.30272612e-01  1.65889919e-01 -9.86103177e-01 -1.73677504e-01\n -1.76294625e-01 -2.60636270e-01  3.22849929e-01 -5.14345765e-02\n  4.04809892e-01 -7.33251810e-01  8.25854540e-02  1.34376764e+00\n -4.23049986e-01 -2.50970840e-01  1.47755533e-01 -2.51385272e-01\n  2.24724665e-01 -2.39939779e-01 -1.09109789e-01 -2.34633595e-01\n -2.63379902e-01  7.99964964e-01  8.11695933e-01 -2.50869095e-02\n  7.70117268e-02 -2.17287377e-01  5.15746027e-02 -5.03062665e-01\n  1.86970681e-02 -5.34586549e-01 -4.99491096e-02  5.83326817e-03\n -7.52196550e-01  4.65589687e-02 -1.25158980e-01 -4.51772451e-01\n  4.11236584e-02  5.37696481e-02 -5.58921337e-01  2.51611948e-01\n  4.14425731e-01  5.43940291e-02  1.18129522e-01  3.36752594e-01\n  3.11183453e-01  1.25266030e-01  4.03275281e-01  4.18632329e-01\n  1.18601775e+00 -1.35764539e-01  4.02322948e-01 -9.36756879e-02\n -4.35708940e-01  2.32805908e-02 -3.81095409e-02  1.81415603e-01\n  1.38291955e-01  1.14005893e-01  1.78746551e-01 -1.44538179e-01\n  3.01041573e-01  1.62951767e-01  1.10803209e-01 -2.72967845e-01\n  1.25626788e-01 -2.65914351e-01 -1.08355656e-01  1.14255464e+00\n  1.28156632e-01  1.61998510e-01  5.34298182e-01  5.84103987e-02\n  3.54189515e-01  4.07242924e-01  5.04255295e-01  2.15582997e-01\n -2.33767107e-02  4.27844599e-02 -3.38009775e-01  1.15073144e-01\n  6.20086908e-01  8.58315527e-02 -8.83542836e-01 -2.82353222e-01\n  3.26418251e-01  2.72709042e-01  5.49277842e-01  4.69487846e-01\n  2.32869372e-01  1.83057100e-01 -1.49406433e-01 -1.71782100e+00\n  7.45045662e-01 -5.09963334e-02 -4.02322471e-01  5.70249081e-01\n  3.07743877e-01  1.08810872e-01 -3.65767777e-01  6.83806062e-01\n  1.74865931e-01 -1.09105036e-01  8.75911713e-02 -4.15839761e-01\n  4.62924331e-01 -1.02679282e-01 -1.31650999e-01 -1.06247775e-01\n  3.18270847e-02  6.05216511e-02  5.33946157e-02  1.35536385e+00\n  8.69603038e-01  3.22134048e-02  9.52202901e-02 -4.39983368e-01\n -3.07954103e-01  1.06642798e-01  1.78796172e-01  3.06571424e-01\n -3.45991552e-01 -4.00992244e-01 -5.58306217e-01 -7.18119264e-01\n  3.43490511e-01  1.14997923e-01 -1.45580471e+00 -2.18490764e-01\n  4.42058980e-01  1.18703157e-01  2.16044128e-01  6.38417006e-01\n -1.73384249e-02  1.45312965e-01 -8.96077633e-01 -1.72188342e-01\n  5.92300147e-02  3.26176196e-01  3.45575899e-01 -5.53078473e-01\n  4.85387146e-02  1.16254568e-01  1.23044580e-01 -9.65136439e-02\n  2.69141197e-01  2.83920169e-01  2.30878711e-01 -5.44392943e-01]",
         "7511",
         "278913773",
         "450414"
        ],
        [
         "38",
         "10981701",
         "Кроссовки Nike Nike Air Max Dn 8",
         "[{'attribute_name': 'Name', 'attribute_value': 'Кроссовки Nike Air Max Dn 8', 'attribute_isaspect': False, 'attribute_showascharacteristic': False}\n {'attribute_name': 'Type', 'attribute_value': 'Кроссовки', 'attribute_isaspect': False, 'attribute_showascharacteristic': False}\n {'attribute_name': 'Brand', 'attribute_value': 'Nike', 'attribute_isaspect': False, 'attribute_showascharacteristic': True}\n {'attribute_name': 'Annotation', 'attribute_value': 'Оптовая продажа брендовой обуви для мирового рынка – высокое качество и непревзойденные цены!<br><br>🚀 Ваш универсальный источник премиальной обуви!<br>Независимо от того, пополняете ли вы полки магазинов, запускаете интернет-магазин или ищете поставщика для своего бренда – наш каталог включает Nike, Adidas, Puma, Balenciaga, Gucci и многие другие бренды.<br><br><br>🚀Новые ботинки, отправить вместе с коробкой.🚀', 'attribute_isaspect': False, 'attribute_showascharacteristic': True}\n {'attribute_name': 'ColorBase', 'attribute_value': 'акулья кожа', 'attribute_isaspect': True, 'attribute_showascharacteristic': True}\n {'attribute_name': 'ColorName', 'attribute_value': 'HQ4681-010', 'attribute_isaspect': True, 'attribute_showascharacteristic': True}\n {'attribute_name': 'RussianSizeShoes', 'attribute_value': '39', 'attribute_isaspect': True, 'attribute_showascharacteristic': True}\n {'attribute_name': 'SizeManufacturer', 'attribute_value': 'EU40', 'attribute_isaspect': True, 'attribute_showascharacteristic': True}\n {'attribute_name': 'SexMaster', 'attribute_value': 'Мужской', 'attribute_isaspect': False, 'attribute_showascharacteristic': True}\n {'attribute_name': 'SexMaster', 'attribute_value': 'Женский', 'attribute_isaspect': False, 'attribute_showascharacteristic': True}\n {'attribute_name': 'Material', 'attribute_value': 'Синтетическая дышащая сетка', 'attribute_isaspect': False, 'attribute_showascharacteristic': True}\n {'attribute_name': 'MainShoesMaterial', 'attribute_value': 'Текстиль', 'attribute_isaspect': False, 'attribute_showascharacteristic': True}\n {'attribute_name': 'InnerMaterial', 'attribute_value': 'Байка', 'attribute_isaspect': False, 'attribute_showascharacteristic': True}\n {'attribute_name': 'SoleMaterial', 'attribute_value': 'Каучук', 'attribute_isaspect': False, 'attribute_showascharacteristic': True}\n {'attribute_name': 'StyleApparel', 'attribute_value': 'Спортивный', 'attribute_isaspect': False, 'attribute_showascharacteristic': False}\n {'attribute_name': 'Season', 'attribute_value': 'На любой сезон', 'attribute_isaspect': False, 'attribute_showascharacteristic': True}\n {'attribute_name': 'ShoeFastening', 'attribute_value': 'Шнурки', 'attribute_isaspect': False, 'attribute_showascharacteristic': True}\n {'attribute_name': 'DetailsClothes', 'attribute_value': 'Пайетки', 'attribute_isaspect': False, 'attribute_showascharacteristic': True}\n {'attribute_name': 'SizeGrid', 'attribute_value': 'Бренд: Nike Женская обувь', 'attribute_isaspect': False, 'attribute_showascharacteristic': False}\n {'attribute_name': 'SizeGrid', 'attribute_value': 'Бренд: Nike Мужская обувь', 'attribute_isaspect': False, 'attribute_showascharacteristic': False}\n {'attribute_name': 'TypeSport', 'attribute_value': 'Бег', 'attribute_isaspect': False, 'attribute_showascharacteristic': True}\n {'attribute_name': 'BrandCountry', 'attribute_value': 'США', 'attribute_isaspect': False, 'attribute_showascharacteristic': True}\n {'attribute_name': 'AgeO', 'attribute_value': 'Взрослая', 'attribute_isaspect': False, 'attribute_showascharacteristic': True}\n {'attribute_name': 'ColorBase_Forfilter', 'attribute_value': 'Серый', 'attribute_isaspect': False, 'attribute_showascharacteristic': False}]",
         "[-1.47356227e-01 -2.39572716e+00 -7.22507477e-01  2.25204796e-01\n -6.04546189e-01 -6.45586848e-02  4.58534718e-01 -1.13461390e-01\n  3.17459553e-02  1.43889546e-01  4.18120772e-02 -2.68209875e-01\n  4.20070887e-01  4.73127842e-01  2.68008918e-01  2.57189959e-01\n -1.13107777e+00  3.57492417e-01 -2.98004448e-01  1.02854475e-01\n  1.11305863e-01  4.81923074e-01  3.95992041e-01  9.21291113e-03\n -5.72450519e-01 -1.16486394e+00  4.76308852e-01  4.28054929e-01\n  1.26511186e-01  2.16898322e-01 -3.48990262e-02  5.05106039e-02\n -2.64062345e-01 -2.52946913e-02 -1.63483292e-01  3.61199558e-01\n -1.24332100e-01 -9.46712196e-01  4.45397556e-01  5.76573551e-01\n -1.62071645e-01 -5.06808162e-01  1.91382319e-01 -4.93487835e-01\n  4.40710574e-01 -1.11201108e-01  8.52691606e-02 -1.54763013e-01\n  4.82230544e-01 -5.29420376e-02 -6.38612211e-02 -1.90366074e-01\n -3.39953601e-02  1.79910868e-01 -4.55824018e-01 -1.03107381e+00\n -3.25187653e-01  2.79500306e-01 -9.88081992e-02  2.85748392e-01\n -1.31483436e+00 -3.37801754e-01 -1.53753698e-01  4.50794190e-01\n  2.05954164e-02 -6.44292653e-01 -5.00655055e-01 -9.96373773e-01\n -7.92979449e-02 -7.38056302e-01 -4.21121895e-01 -3.80510896e-01\n  4.51976061e-03 -4.18681324e-01 -1.79382056e-01 -9.89932418e-01\n  4.47367579e-01 -5.39581358e-01 -2.18130440e-01 -3.86620790e-01\n  1.60481080e-01 -1.98770329e-01 -2.04864800e-01 -2.23629877e-01\n  1.46793917e-01  4.94000435e-01 -2.20834464e-02  1.73346370e-01\n -1.09260671e-01 -5.76487482e-01  7.60376453e-03  1.15978837e-01\n  4.54623699e-02  2.38207668e-01 -1.85960442e-01 -1.89165130e-01\n  4.48490977e-02  1.88539982e-01  1.41462266e-01  1.58696815e-01\n -5.18705487e-01  8.20579052e-01 -9.36689824e-02  4.94117469e-01\n -1.17512822e-01  3.64628732e-02 -1.58859089e-01 -4.01681721e-01\n  3.38449657e-01 -2.30349541e-01 -6.31930590e-01  3.18900794e-01\n -6.12145588e-02  9.65550661e-01  4.23159778e-01  4.31076109e-01\n -3.10979366e-01  9.26933289e-02  2.92336017e-01  3.80463272e-01\n -3.12405407e-01  1.41148672e-01  1.71753496e-01 -2.31336474e-01\n -5.64736128e-03  5.81018627e-01 -1.77992329e-01  8.27274099e-02\n -2.24734396e-02  1.13039762e-01  1.09287977e+00 -8.73475969e-02\n  4.82918769e-01 -1.67578101e-01  1.58602238e-01 -2.04882920e-02\n  4.99718487e-01  3.21863711e-01 -1.62848890e-01  2.68814206e-01\n -1.67239875e-01 -2.50537544e-02  6.79982066e-01 -1.67650759e-01\n  2.44035244e-01 -2.12017223e-01  4.77837622e-02  4.26266432e-01\n  5.81585884e-01 -1.76581055e-01  4.42821175e-01  7.39976019e-02\n  3.04472661e+00  4.70157743e-01  2.31933460e-01  2.57685363e-01\n -5.54483294e-01 -3.93722951e-01 -1.74091980e-02 -3.16469103e-01\n  1.22787513e-01 -5.06641984e-01  3.12376559e-01 -7.12496936e-02\n  1.55914277e-01  2.13385731e-01  2.73503780e-01 -9.94806051e-01\n -2.34948456e-01 -5.79180270e-02  1.12373030e+00 -2.38546729e-01\n  4.40272838e-01 -1.37196869e-01  2.88433939e-01  1.85149491e-01\n  4.44704592e-01  8.24656725e-01  5.66032887e-01 -2.01017469e-01\n -5.07587194e-01 -5.90143651e-02  4.52508599e-01  5.36338568e-01\n -1.69551551e-01  2.45587707e-01  3.12900335e-01  1.74586624e-01\n  7.03305900e-01 -3.09036076e-01 -2.29329765e-02 -1.48560953e+00\n -4.16972399e-01 -2.40775272e-02  4.99543667e-01  2.80796707e-01\n -1.97511867e-01  6.38751090e-02  6.32561326e-01  2.27151722e-01\n  4.76416349e-02 -3.98848772e-01  1.62030116e-01  1.04683742e-01\n -6.55710548e-02  1.55880719e-01  3.25878739e-01 -5.82223535e-01\n -8.00624490e-03 -4.15530205e-01 -2.90006578e-01 -4.12847281e-01\n  8.48740637e-02 -3.27404648e-01 -4.87849444e-01 -3.01567465e-02\n -1.24847248e-01  7.88438618e-02  2.10423976e-01 -7.17447937e-01\n  2.24157572e-02 -2.67454892e-01 -8.67080033e-01 -1.70705438e-01\n  1.05090871e-01  3.06497157e-01 -1.53725147e-02 -1.22820482e-01\n  5.02704009e-02  7.58595824e-01  7.65542984e-01 -4.96347278e-01\n  5.14656305e-01  2.84639955e-01 -2.89934099e-01  4.86899525e-01\n -7.59612024e-02  3.32572639e-01  7.51549602e-02 -6.49298728e-03\n  1.06298089e+00  6.58044100e-01 -4.41922784e-01 -4.61854897e-02\n  1.42650008e-02  3.84815097e-01 -1.55491963e-01 -7.48983741e-01\n  6.18621856e-02 -1.37786388e-01  8.30398440e-01 -1.92772955e-01\n  1.72140405e-01 -4.20849532e-01 -1.53557107e-01 -1.66027889e-01\n -8.02322328e-01 -4.70298678e-01  7.41570950e-01 -3.34337413e-01\n  5.17459735e-02 -5.37217736e-01  1.15279770e+00 -1.54145956e-01\n  3.77184093e-01 -9.25900996e-01  9.55951214e-03 -3.15038860e-01\n  4.65032876e-01 -4.32778388e-01 -6.76666975e-01 -3.14322233e-01\n -4.11997288e-02 -2.88770974e-01  7.52239227e-02  3.85798097e-01\n -5.62938899e-02 -5.15213609e-01 -3.67393568e-02  1.44310445e-01\n -4.32169080e-01  3.72520655e-01  2.74473816e-01 -1.58795938e-01\n  4.34479773e-01  3.87228191e-01  3.47743452e-01 -8.56327236e-01\n -2.89089650e-01 -5.36568046e-01  3.73073786e-01  1.92847103e-01\n  3.86777639e-01  1.91942677e-01  1.86241239e-01 -8.77281427e-02\n -1.79201275e-01 -7.11105764e-01 -6.09640718e-01  2.10506558e-01\n -1.05993581e+00 -3.57791603e-01  3.38376194e-01 -7.20654249e-01\n -2.53233790e-01  2.75599450e-01 -2.22919643e-01 -3.02942705e+00\n  3.84868681e-03 -1.91779435e-03 -8.05500865e-01 -4.93211061e-01\n -4.24381375e-01 -2.32715905e-03  9.84130502e-01  2.03194767e-02\n -4.36395854e-01 -3.82856667e-01  3.59799206e-01 -9.36712265e-01\n  1.58194900e-02  6.56248182e-02 -6.57135546e-02 -2.52970576e-01\n  1.30482912e+00 -7.67452002e-01 -4.73422885e-01 -1.28570884e-01\n  2.27405652e-01  1.41972929e-01  5.08752763e-02  2.09246382e-01\n  2.01551288e-01 -1.66089013e-01  5.30592740e-01 -4.18647081e-02\n  6.80166125e-01  4.70474571e-01  3.98354679e-02  3.04673404e-01\n -1.92495733e-01 -5.15257865e-02  3.61239433e-01 -1.93598121e-01\n -1.39002889e-01 -2.91889071e-01 -8.83034691e-02  3.44907761e-01\n -2.14158630e+00 -6.31417632e-01  1.21286683e-01  4.59375829e-02\n -1.81696698e-01 -3.01516056e-02 -7.80381083e-01  2.28399307e-01\n  7.37222880e-02 -6.01751924e-01 -1.68779090e-01  5.20160556e-01\n -8.17824751e-02 -1.53955251e-01 -1.19148716e-01 -5.20353436e-01\n -9.33263302e-02  2.51316994e-01 -6.86045945e-01 -8.33530724e-02\n -6.11495614e-01 -5.01196563e-01 -1.91348955e-01 -2.80520022e-01\n -4.85425651e-01 -5.15437245e-01 -1.51999369e-02  9.24463496e-02\n -3.09035629e-01  1.39369935e-01  5.74584842e-01  8.30728173e-01\n -3.16244423e-01 -8.06778371e-02  4.18041110e-01  2.89966702e-01\n  2.43334845e-01  2.07394108e-01 -3.51944923e-01 -3.05406034e-01\n  8.67655575e-02  2.26948559e-02 -1.30145594e-01  1.54570475e-01\n  2.48785317e-01  6.84072495e-01 -3.40983123e-01 -3.69319260e-01\n -2.13382900e-01 -2.85317302e-01  2.08356351e-01  1.63654059e-01\n -5.01016676e-02 -5.93417585e-02 -1.86245039e-01  2.85509676e-01\n  2.89780647e-01  9.73504186e-02  8.70225310e-01 -3.01502585e-01\n  1.06999353e-01  2.38316476e-01  2.95479417e-01 -4.40178871e-01\n -1.60721421e-01  3.03426981e-01 -2.72104591e-01  4.74200919e-02\n -3.98273230e-01 -2.38101453e-01 -1.22701526e-02 -5.41630030e-01\n -2.92102695e-01 -3.88805300e-01  2.64270127e-01 -1.03452712e-01\n -6.02686405e-03 -3.90061677e-01 -1.20496690e-01 -1.17604434e-01\n  2.36059412e-01 -7.48051330e-02  2.39425600e-01  1.50509083e+00\n -3.42361301e-01 -2.28260294e-01 -3.79950345e-01  3.67909700e-01\n  1.05128571e-01 -2.67575830e-02  1.73731983e-01 -2.76990294e-01\n -9.48272049e-02 -1.18879974e-01 -7.62167394e-01 -4.75630462e-01\n -1.50700524e-01 -5.08515835e-01 -2.06794873e-01  3.12043548e-01\n  1.44754648e-02 -1.91882670e-01 -9.43708658e-01  3.27578992e-01\n  5.53109884e-01  3.35836411e-01 -1.06345713e-01 -9.88379419e-01\n -2.29658321e-01  1.68925405e-01  1.65107191e-01 -2.60367990e-01\n  2.48079717e-01  2.52189696e-01 -4.74703014e-02 -1.35941103e-01\n  5.14661431e-01 -1.93479255e-01 -1.66140825e-01 -5.67929745e-02\n  5.44112027e-01  2.62759119e-01  2.98853815e-01  5.26284277e-01\n -2.96274483e-01  9.29704905e-02  8.64503086e-02  5.15911579e-02\n  1.52402923e-01  6.12909347e-02  1.70935690e-02 -5.45101464e-01\n -2.63257697e-02 -4.83766258e-01 -8.71629566e-02 -6.43742085e-03\n  5.27872920e-01  3.72151621e-02  7.34194160e-01 -1.92691267e-01\n -3.66123050e-01 -2.11917579e-01 -1.51704597e+00  2.81168550e-01\n  5.00793934e-01  9.25942004e-01  6.22198701e-01  4.76277888e-01\n  1.46241575e-01  9.24702585e-02 -3.98059011e-01 -1.34246558e-01\n  5.08499205e-01 -5.57893336e-01 -1.34641528e-02 -7.85955489e-02\n -4.02913153e-01  1.98212266e-02 -8.69029760e-02 -3.63930672e-01\n  3.01997751e-01 -6.89025223e-03  3.36299509e-01 -1.23796381e-01]",
         "36484",
         "301549410",
         "152351"
        ],
        [
         "39",
         "11294201",
         "Куртка Columbia",
         "[{'attribute_name': 'Type', 'attribute_value': 'Куртка', 'attribute_isaspect': False, 'attribute_showascharacteristic': True}\n {'attribute_name': 'Brand', 'attribute_value': 'Columbia', 'attribute_isaspect': False, 'attribute_showascharacteristic': True}\n {'attribute_name': 'Annotation', 'attribute_value': 'ВНИМАНИЕ!!! МОДЕЛЬ МАЛОМЕРИТ НА  РАЗМЕР!!! Демисезонная куртка. Улучшенная модель. ИДЕАЛЬНЫЙ ВЫБОР ДЛЯ Весны, осени и теплых зимних дней, а так же поездок а машине. Теплая и практичная парка необходима, чтобы встретить весну с комфортом. Куртка для весны, осени-удобная модель отлично сохраняет тепло. Капюшон поможет защитить голову от ветра и дождя. ОТЛИЧНАЯ ЗАЩИТА ОТ ВЛАГИ. Мембрана — один из самых эффективных способов защититься от осадков. Водоотталкивающая пропитка. Регулируемый капюшон. Потайной внутренний карман. Нагрудный карман. Боковыекарманы. Регулируемые манжеты. Удлиненная спинка.  Надежная ветрозащита. Эта куртка очень легкая и практичная, порадуйте себя и своих близких отличной куртокой, удачны подарок на праздники и без повода. Приятных покупок!', 'attribute_isaspect': False, 'attribute_showascharacteristic': True}\n {'attribute_name': 'ColorBase', 'attribute_value': 'синий', 'attribute_isaspect': True, 'attribute_showascharacteristic': True}\n {'attribute_name': 'ColorBase', 'attribute_value': 'темно-синий', 'attribute_isaspect': True, 'attribute_showascharacteristic': True}\n {'attribute_name': 'ColorName', 'attribute_value': 'синий', 'attribute_isaspect': True, 'attribute_showascharacteristic': True}\n {'attribute_name': 'RussianSizeClothes', 'attribute_value': '66', 'attribute_isaspect': True, 'attribute_showascharacteristic': True}\n {'attribute_name': 'SizeManufacturer', 'attribute_value': '66', 'attribute_isaspect': True, 'attribute_showascharacteristic': True}\n {'attribute_name': 'SexMaster', 'attribute_value': 'Мужской', 'attribute_isaspect': False, 'attribute_showascharacteristic': True}\n {'attribute_name': 'SizeGrid', 'attribute_value': 'Бренд: Columbia Одежда мужская', 'attribute_isaspect': False, 'attribute_showascharacteristic': False}\n {'attribute_name': 'SizeGrid', 'attribute_value': 'Бренд: Columbia Одежда мужская (большие размеры)', 'attribute_isaspect': False, 'attribute_showascharacteristic': False}\n {'attribute_name': 'SizeGrid', 'attribute_value': 'Бренд: Columbia Одежда мужская (верх на высокий рост)', 'attribute_isaspect': False, 'attribute_showascharacteristic': False}\n {'attribute_name': 'Material', 'attribute_value': 'Полиэстер', 'attribute_isaspect': False, 'attribute_showascharacteristic': True}\n {'attribute_name': 'InnerMaterial', 'attribute_value': 'Полиэстер', 'attribute_isaspect': False, 'attribute_showascharacteristic': True}\n {'attribute_name': 'StyleApparel', 'attribute_value': 'Повседневный', 'attribute_isaspect': False, 'attribute_showascharacteristic': True}\n {'attribute_name': 'Season', 'attribute_value': 'Демисезон', 'attribute_isaspect': False, 'attribute_showascharacteristic': True}\n {'attribute_name': 'clothescut', 'attribute_value': 'прямой', 'attribute_isaspect': False, 'attribute_showascharacteristic': True}\n {'attribute_name': 'FilterSizeINT', 'attribute_value': '6XL', 'attribute_isaspect': False, 'attribute_showascharacteristic': False}\n {'attribute_name': 'Name', 'attribute_value': 'Куртка мужская демисезонная', 'attribute_isaspect': False, 'attribute_showascharacteristic': False}\n {'attribute_name': 'ColorBase_Forfilter', 'attribute_value': 'Синий', 'attribute_isaspect': False, 'attribute_showascharacteristic': False}]",
         "[-9.83882248e-02 -1.70828748e+00 -1.00098085e+00  3.24269176e-01\n -2.02319995e-01 -4.45760608e-01  1.53288901e-01  1.08286738e-02\n  9.72759426e-02  2.02039689e-01  2.63247341e-01  4.41237032e-01\n -3.40315342e-01 -4.26864475e-01 -5.72259188e-01  7.74641633e-02\n -1.00681329e+00 -9.38386500e-01  2.83983409e-01 -1.04202777e-02\n -7.40459561e-03  4.62246537e-02 -3.90225559e-01  5.32002568e-01\n -2.55161315e-01 -1.09200120e+00  4.09818411e-01  3.86327505e-04\n -5.78075647e-02  3.25034559e-02  9.19093728e-01  8.29118371e-01\n -2.41216451e-01 -2.84371495e-01 -4.32233691e-01  1.61663562e-01\n  1.12140909e-01  3.74899954e-02  4.12604570e-01 -1.15987234e-01\n  1.02598310e-01 -7.40486681e-02  6.08050942e-01  5.73523492e-02\n -5.83507940e-02  3.65135133e-01 -5.63831270e-01 -1.16932012e-01\n  3.08285773e-01  5.02189696e-01  3.43571901e-01 -2.29386985e-02\n  2.25608945e-02  2.32646674e-01  6.18351400e-01  5.15710235e-01\n -1.19663045e-01 -4.01132643e-01 -9.75140557e-02 -3.36055458e-01\n -9.33791757e-01 -2.39198878e-01  4.76129830e-01  9.15619358e-02\n  2.67610252e-01 -2.80575752e-02  7.04949126e-02 -1.34920329e-01\n -6.35339141e-01  4.85219091e-01 -4.35674399e-01  6.90521821e-02\n  1.76439956e-01  3.56754661e-02  3.07105839e-01 -1.24178678e-01\n  9.57277656e-01  2.12237775e-01  1.73207432e-01  4.03742492e-02\n -3.01090032e-02 -3.75604928e-01  5.48140109e-02  6.71351910e-01\n -1.16615452e-01 -2.78890282e-01 -3.33028436e-01 -6.22939587e-01\n -4.86917913e-01 -7.49515831e-01  5.05359411e-01 -1.62864983e-01\n -1.80622354e-01 -1.02514744e-01  1.24173962e-01  2.08496362e-01\n  4.61743206e-01 -9.04856473e-02 -6.12937808e-02  2.12210163e-01\n -2.34748855e-01 -2.56566226e-01 -1.07592016e-01  6.97501361e-01\n  1.83717027e-01 -7.44584262e-01 -1.21610373e-01 -2.30241135e-01\n -3.96490455e-01 -8.28316063e-02 -3.03076744e-01 -4.14653152e-01\n  3.14343780e-01  7.31310919e-02 -2.53467083e-01  4.61902320e-02\n  4.10656303e-01  3.56400013e-01  4.97137904e-01 -1.31826848e-02\n -1.47912413e-01 -5.63829988e-02  5.95329642e-01 -2.22934216e-01\n  2.64154613e-01 -1.87423825e-01 -1.67015076e-01 -1.68374076e-01\n  3.34934413e-01  3.24167132e-01 -1.02897584e-01 -7.62187764e-02\n  3.12028080e-01 -3.21778089e-01 -3.03480476e-01  2.18950078e-01\n  1.18507951e-01  1.36813819e-01 -2.21576989e-02 -2.00825587e-01\n -2.39701599e-01 -1.98280901e-01  2.51380354e-02  3.57824773e-01\n -7.40521848e-02  9.66308236e-01 -3.07848513e-01  5.79162836e-02\n  5.75494587e-01  2.57644802e-01 -5.11172295e-01 -5.60140193e-01\n  3.18980360e+00 -1.71518922e-01 -2.57652670e-01  4.27645653e-01\n -9.84125257e-01 -2.05854118e-01 -1.37526572e-01 -1.90109774e-01\n  6.08264327e-01  1.49939686e-01  3.96171838e-01  3.78939748e-01\n  1.02426484e-01  1.14966881e+00  4.17956650e-01 -9.68082190e-01\n -1.79923624e-02  1.48389578e-01  3.49953175e-01  2.75472045e-01\n  2.20445156e-01  2.92755365e-02 -7.06583261e-01 -8.44272017e-01\n  3.96106482e-01  1.22299127e-01 -8.26853752e-01 -7.30312914e-02\n -8.64047289e-01 -3.28567296e-01 -9.28862989e-02  1.15550697e-01\n -3.67822573e-02 -2.52364278e-01  3.55890691e-01  5.01896799e-01\n -2.31747359e-01  9.12594795e-02 -3.99458200e-01 -7.44681835e-01\n -3.51677209e-01 -3.71495724e-01 -7.70241916e-02 -9.97474194e-02\n -8.70103166e-02 -8.31712127e-01 -2.23746657e-01  7.13817924e-02\n -1.26810968e-02 -1.26464009e-01  4.54046428e-01 -2.98930764e-01\n  3.21684003e-01  9.37466472e-02 -3.12148362e-01 -9.32666600e-01\n  2.15261988e-02  7.02847242e-01 -1.39424250e-01 -3.82163793e-01\n -2.76235461e-01  2.16972828e-02 -1.94336504e-01  1.47376001e-01\n -1.72669291e-01  1.01747364e-02  1.91633731e-01  4.32577729e-01\n  3.65086675e-01  1.44273758e-01 -5.96201777e-01  3.73369455e-01\n  2.50838041e-01 -3.34374905e-01 -5.85495710e-01 -3.52598637e-01\n  1.31800771e-04 -5.75417206e-02  1.01681781e+00 -1.72007054e-01\n  3.30453813e-02  1.87643260e-01 -1.54771686e-01 -5.64287841e-01\n -5.15197515e-01  6.08192682e-01  7.80884862e-01  9.71257687e-04\n -2.75563717e-01 -3.04371715e-02  6.38648629e-01  1.90686718e-01\n  4.26383078e-01  3.30439538e-01 -1.03972211e-01 -9.61418033e-01\n -2.53747404e-02  3.33803028e-01  4.85055268e-01 -4.09567297e-01\n  4.29266572e-01 -4.36348945e-01 -5.07441640e-01 -1.33685097e-01\n -5.29981792e-01 -3.58310342e-03  5.97221136e-01 -2.30936930e-02\n  2.01119244e-01  2.58922249e-01  8.17780644e-02 -9.62730497e-02\n  2.69395888e-01 -1.65742561e-02  2.74517298e-01  5.45410961e-02\n  1.81341216e-01  2.32402995e-01 -5.36707163e-01  4.08645391e-01\n -6.42185658e-02  2.81363457e-01 -4.92696941e-01  7.87875950e-02\n  3.85542125e-01 -3.18283975e-01 -3.61723125e-01  1.20909894e+00\n -8.85578543e-02 -8.68045390e-02  2.26129323e-01  2.98541009e-01\n -2.19890386e-01 -2.47751251e-01  6.57245100e-01  6.66997194e-01\n -3.58308673e-01 -9.26645041e-01 -6.93239272e-03  2.60804296e-02\n  2.85461545e-01 -3.83279741e-01  1.00262247e-01  2.07010627e-01\n  1.08117741e-02 -3.00695002e-01 -3.18640411e-01 -5.25563121e-01\n  1.17196071e+00 -4.68453348e-01  3.91556695e-02 -2.17668205e-01\n -3.87750477e-01  7.55599737e-02 -6.53715491e-01 -3.19155550e+00\n -1.92598015e-01  1.89914361e-01 -3.56173217e-01 -3.73669088e-01\n  1.54446661e-02 -1.29456073e-01  6.83741093e-01 -5.06313920e-01\n  2.57251441e-01 -2.29296088e-01  1.90223753e-03  6.46776438e-01\n  1.11824006e-01 -1.18216276e-01  2.35926643e-01  4.74209368e-01\n -5.66957116e-01 -3.13296989e-02  4.29500908e-01 -6.44649744e-01\n -2.25374773e-01 -4.22276229e-01  1.62278876e-01 -4.06534612e-01\n -5.30395031e-01 -1.92610830e-01 -2.19810292e-01 -6.22337870e-02\n  4.50220793e-01 -4.88573253e-01 -6.51997626e-01  7.99919143e-02\n  2.65040308e-01 -1.51057899e-01  1.35561347e-01 -6.47161752e-02\n -2.08056003e-01 -4.52234030e-01  2.28730515e-02  4.03468609e-02\n -1.56221318e+00 -5.00253141e-01 -1.28568187e-01 -6.81164086e-01\n  1.76498681e-01  3.91537458e-01 -9.79338288e-01  4.79922116e-01\n  4.15291637e-04  7.32580066e-01 -1.27571195e-01 -2.22104460e-01\n -1.53211564e-01 -6.49062395e-01  1.56838804e-01  3.13143969e-01\n -2.59591997e-01  2.36338347e-01  2.20958903e-01 -4.62362766e-01\n -1.01481080e-02 -3.09951901e-02  3.71434510e-01  3.17993432e-01\n -1.37120575e-01 -3.09124380e-01  2.72795379e-01 -6.50918126e-01\n -4.51241314e-01 -3.04255128e-01  5.90133786e-01  1.71138942e-01\n -1.47281468e-01  3.04972529e-01 -2.55575418e-01 -2.05773354e-01\n  2.37431869e-01  4.87642020e-01  1.93327785e-01 -3.91574085e-01\n  3.23564410e-02  9.27296653e-02  5.14511406e-01 -4.15356636e-01\n  2.20291495e-01 -1.43271819e-01 -6.59990072e-01  3.61728042e-01\n -8.91126215e-01  3.74375522e-01 -2.47892469e-01 -1.54262245e-01\n  8.05022418e-02  7.74959683e-01 -3.87046337e-01  1.63078219e-01\n  3.22727561e-01  1.25615060e-01  4.85483497e-01  5.43330610e-03\n -3.41057628e-01 -1.64705381e-01 -3.91695380e-01  4.08643365e-01\n  1.21843994e+00 -2.12597772e-01 -1.86022595e-01  3.41280341e-01\n -6.49123907e-01  2.08169773e-01 -2.86739171e-01  7.02754140e-01\n  5.17159939e-01 -1.91550642e-01 -5.88299751e-01 -2.35044181e-01\n  9.18681145e-01 -4.77211177e-02  5.22016704e-01  2.70292819e-01\n  4.03171211e-01 -2.78041184e-01  2.79844880e-01  1.59449780e+00\n -2.91031338e-02  4.85000551e-01  3.89784455e-01  1.69776604e-02\n  1.58654094e-01  6.11817718e-01  1.35374248e-01  3.76314938e-01\n  1.23360649e-01 -4.65902507e-01  6.04243100e-01 -3.32844496e-01\n  2.79554099e-01  4.35700953e-01 -8.94541681e-01  4.66886848e-01\n  1.53686315e-01  3.70772839e-01  5.54939285e-02  6.38704479e-01\n -5.80336377e-02  3.17269415e-02 -9.69568491e-02 -5.48371017e-01\n -8.45931053e-01  2.37971917e-01 -4.09955025e-01  1.08476326e-01\n  3.57806623e-01 -1.65740430e-01 -7.53997564e-01  3.95494044e-01\n  1.48307741e-01 -6.54740155e-01  7.94664770e-02  4.32065427e-01\n -4.12970811e-01  1.66209638e-02  3.37660536e-02 -3.99416447e-01\n  2.56978810e-01  2.34127447e-01 -1.04436822e-01  6.11386120e-01\n  1.94586650e-01  1.12475201e-01 -1.87643230e-01 -6.21524155e-01\n  5.02397358e-01  4.90209758e-02 -3.83684039e-01 -3.19528431e-02\n -3.41227651e-01 -4.35970575e-01  2.12888658e-01 -8.79416704e-01\n -7.07380414e-01 -1.81889072e-01 -1.67257297e+00  3.15426379e-01\n -2.45517075e-01  5.11030495e-01  3.56515646e-02  5.47711015e-01\n -1.58336669e-01  6.70607388e-02 -6.92500234e-01  3.03380430e-01\n  2.74691820e-01  1.38696373e-01  3.12487185e-01 -8.52833986e-01\n  1.44281164e-01  1.06411681e-01  1.86484843e-01 -6.27104163e-01\n  3.93427581e-01 -2.80273378e-01 -5.83085716e-01 -4.63934898e-01]",
         "7545",
         "61285439",
         "35176175"
        ],
        [
         "40",
         "11314451",
         "Пижама LilMuk",
         "[{'attribute_name': 'Type', 'attribute_value': 'Пижама', 'attribute_isaspect': False, 'attribute_showascharacteristic': True}\n {'attribute_name': 'Brand', 'attribute_value': 'LilMuk', 'attribute_isaspect': False, 'attribute_showascharacteristic': True}\n {'attribute_name': 'Annotation', 'attribute_value': 'Представляем Вам превосходную детскую пижаму для девочки, идеально подходящую для сна, а также занятий спортом, повседневной домашней одежды и летних прогулок. Этот удивительно универсальный комплект позволит вашему ребенку чувствовать себя комфортно и стильно в любой ситуации. Наша пижама с шортами выполнена из высококачественного материала с эффектом велюра, сочетающего в себе мягкость и прочность. Она обеспечит удивительно нежное ощущение на коже вашего ребенка, благодаря чему в ней она будет чувствовать себя максимально комфортно во время сна и дневных активностей. Благодаря отличной воздухопроницаемости, наша пижама также станет идеальным выбором для летних прогулок, обеспечивая оптимальную температуру тела в жаркие дни. Этот модный комплект состоит из футболки с короткими рукавами и шорт. Футболка имеет стильный и яркий дизайн, который подчеркнет индивидуальность вашей девочки. Шортики выполнены в удобном и практичном стиле, обеспечивая свободу движений и комфортное прилегание. Позвольте вашей девочке ощутить роскошь удобства и моды в нашей пижаме.', 'attribute_isaspect': False, 'attribute_showascharacteristic': True}\n {'attribute_name': 'ColorBase', 'attribute_value': 'розовый', 'attribute_isaspect': True, 'attribute_showascharacteristic': True}\n {'attribute_name': 'ColorName', 'attribute_value': 'Розовый зефир', 'attribute_isaspect': True, 'attribute_showascharacteristic': True}\n {'attribute_name': 'RussianSizeClothes', 'attribute_value': '146', 'attribute_isaspect': True, 'attribute_showascharacteristic': True}\n {'attribute_name': 'SizeManufacturer', 'attribute_value': '146', 'attribute_isaspect': True, 'attribute_showascharacteristic': True}\n {'attribute_name': 'SizeM', 'attribute_value': '146', 'attribute_isaspect': False, 'attribute_showascharacteristic': True}\n {'attribute_name': 'SexMaster', 'attribute_value': 'Девочки', 'attribute_isaspect': False, 'attribute_showascharacteristic': True}\n {'attribute_name': 'HeightM', 'attribute_value': '150 см', 'attribute_isaspect': False, 'attribute_showascharacteristic': True}\n {'attribute_name': 'SizeGrid', 'attribute_value': 'Универсальная размерная сетка: детская одежда', 'attribute_isaspect': False, 'attribute_showascharacteristic': False}\n {'attribute_name': 'Material', 'attribute_value': 'Кулирная гладь', 'attribute_isaspect': False, 'attribute_showascharacteristic': True}\n {'attribute_name': 'Composition', 'attribute_value': '92%-хлопок, 8%-лайкра', 'attribute_isaspect': False, 'attribute_showascharacteristic': True}\n {'attribute_name': 'Season', 'attribute_value': 'На любой сезон', 'attribute_isaspect': False, 'attribute_showascharacteristic': True}\n {'attribute_name': 'SleeveLength', 'attribute_value': 'Короткий', 'attribute_isaspect': False, 'attribute_showascharacteristic': False}\n {'attribute_name': 'clothescut', 'attribute_value': 'свободный', 'attribute_isaspect': False, 'attribute_showascharacteristic': True}\n {'attribute_name': 'Name', 'attribute_value': 'Пижама для девочек с шортами', 'attribute_isaspect': False, 'attribute_showascharacteristic': False}\n {'attribute_name': 'ColorBase_Forfilter', 'attribute_value': 'Розовый', 'attribute_isaspect': False, 'attribute_showascharacteristic': False}]",
         "[ 6.31590337e-02  1.11927271e+00 -4.23927546e-01  1.63143069e-01\n  3.37944895e-01 -1.58120915e-02 -9.67963517e-01 -1.25863299e-01\n  8.26979876e-02 -1.98766172e-01 -1.13336027e-01 -1.29202008e-03\n -3.46235454e-01  4.97774601e-01 -2.88464218e-01 -7.85072446e-02\n -6.51293278e-01 -3.00297439e-01  3.67903054e-01  5.28346539e-01\n  3.14355493e-01  4.00820524e-02 -3.36733103e-01  4.21023786e-01\n -2.86459953e-01 -3.49405736e-01  4.79740143e-01  7.88047314e-01\n -6.21945024e-01  1.47399604e-01 -9.89128828e-01  1.51049972e-01\n -9.76976752e-02  1.31274700e-01  9.12218690e-02  8.36365104e-01\n  1.73308879e-01  7.77598202e-01 -1.68692827e-01  2.08785385e-01\n  1.05715334e-01 -3.41274381e-01  1.22046888e-01  2.94405282e-01\n  8.13657492e-02  4.89756465e-02 -1.10293329e+00 -5.35314679e-02\n -3.27641070e-02 -2.29451060e-03  2.95177341e-01  2.88606405e-01\n  4.26746726e-01  1.31313115e-01 -1.49978697e+00  4.19684410e-01\n -2.80083328e-01  6.59358382e-01  2.27104828e-01 -6.53753579e-02\n -5.23929417e-01  1.47391409e-01  4.31429446e-01  1.95160061e-01\n  4.87366319e-02  2.27433652e-01 -3.59854639e-01  5.08079052e-01\n  1.03970684e-01 -5.28733879e-02 -5.09110987e-01  1.56843081e-01\n -1.24250725e-01  4.75916028e-01 -1.00048274e-01 -6.39431834e-01\n  3.01881403e-01 -4.95443195e-02  1.69124305e-02 -3.09527099e-01\n  1.69104576e-01 -2.80728519e-01 -3.08517486e-01  5.06174088e-01\n  1.93814203e-01 -3.98210049e-01 -1.45550787e-01 -2.13494271e-01\n  5.20609200e-01  3.75045598e-01 -2.13472217e-01 -4.18481141e-01\n  9.02752057e-02 -3.32212389e-01 -2.48112723e-01  3.98947418e-01\n  2.55200624e-01 -4.13434431e-02  8.95862699e-01 -5.12250960e-01\n -2.44744956e-01  2.81778783e-01  3.72236758e-01  1.07832164e-01\n  3.32381725e-01  4.21769023e-01 -1.87070370e-02 -2.87974030e-01\n -2.25546777e-01 -2.13353992e-01 -1.08825493e+00 -4.62510049e-01\n -1.45403624e-01 -2.53617942e-01  3.50120902e-01 -1.72916323e-01\n  6.63456023e-02  2.13065118e-01  5.91059625e-02 -6.70793176e-01\n  5.07419586e-01 -8.43796283e-02  3.72852623e-01 -3.14942181e-01\n -1.51145488e-01 -7.28886127e-01  4.47283864e-01  6.32959008e-02\n  2.46183306e-01  1.08108789e-01  3.59725118e-01 -7.61623681e-03\n  7.71827698e-02  1.73134804e-01 -3.89825821e-01  9.51549187e-02\n  1.61221460e-01  2.19139352e-01  1.89820096e-01  2.64590085e-01\n  3.56375664e-01  4.05960977e-01  6.40579939e-01  2.18429655e-01\n  8.29679489e-01  4.50639725e-02  2.21906736e-01  1.07745492e+00\n -4.79229093e-02  8.75547588e-01 -1.23412699e-01 -1.13308556e-01\n  3.80895591e+00 -5.44956625e-02 -5.50612390e-01  1.37478575e-01\n -4.17822748e-01  1.84026122e-01 -2.57592797e-02  3.36735636e-01\n  2.02912897e-01  7.39896894e-01 -2.51293033e-01 -4.01007593e-01\n  2.05112994e-02  1.34531081e-01 -8.86269361e-02  1.12966943e+00\n -2.40280643e-01  3.77765596e-01  6.72259927e-01  1.47035703e-01\n -1.88451290e-01 -7.25189075e-02  4.87419367e-01  2.94420332e-01\n -1.51956558e-01  5.83328843e-01 -1.20318568e+00  5.55534899e-01\n  5.06833792e-01 -5.42022526e-01  1.23623095e-01 -1.08588278e-01\n  3.44689608e-01  2.48915255e-01  1.22185588e+00  6.19405210e-02\n -1.47004828e-01 -5.56255817e-01  1.57973841e-01  1.57252157e+00\n -4.49202299e-01 -5.03669530e-02 -7.82719135e-01 -1.83670610e-01\n -3.78614634e-01 -6.25575185e-02 -1.28181458e-01 -3.98452729e-02\n  7.26329446e-01 -2.86631376e-01  2.38046110e-01 -2.00560868e-01\n  1.89331323e-01  1.86527491e-01  3.01909089e-01  1.35644197e-01\n  6.26434445e-01  5.10346889e-03  8.13033283e-02 -2.89733887e-01\n  2.12593615e-01  3.43302637e-02 -3.86051983e-01  3.70788276e-01\n -4.14365560e-01 -7.61344582e-02 -3.54768544e-01  7.12956905e-01\n -9.82280672e-02  1.40376389e-04 -2.04610288e-01  1.68550894e-01\n  2.85099030e-01  2.17348292e-01 -3.61445695e-01  1.78336889e-01\n -4.08256710e-01 -4.48507145e-02  5.40265083e-01 -1.66284293e-01\n  9.60313752e-02 -1.07875124e-01  4.34499532e-02  2.88401961e-01\n -3.41570079e-01 -1.86744481e-02  2.37220287e-01  4.16267872e-01\n  2.67717838e-02  2.01236010e-01  5.50685644e-01 -2.27007598e-01\n  5.90902507e-01 -7.43697360e-02  8.10865760e-02 -1.06832474e-01\n  1.22367948e-01  6.02553710e-02 -2.67264605e-01 -1.04812384e-01\n  4.75627720e-01 -5.09694397e-01 -1.22117686e+00 -4.10446674e-02\n -1.14336467e+00  3.21384728e-01 -3.27318847e-01  7.33923018e-02\n -1.34318724e-01 -3.49398315e-01 -7.26190880e-02  2.22917259e-01\n  1.53957516e-01 -3.75821769e-01  1.27749920e-01  4.82335448e-01\n  3.39311510e-02 -5.95395803e-01 -5.14190435e-01 -3.88558805e-01\n  5.15088737e-01  4.82667625e-01 -9.97118950e-02 -8.79826769e-02\n -4.56876457e-02  4.83267665e-01  3.83565903e-01  1.22979388e-01\n  4.32759345e-01 -2.20419973e-01 -4.48081613e-01  2.75573462e-01\n  8.84768739e-02 -2.87854463e-01 -1.89131558e-01  2.84173787e-01\n  3.87008309e-01 -3.13398719e-01 -2.25251094e-01 -1.02240607e-01\n -4.45905626e-01 -4.02676523e-01 -5.26166260e-02  3.26248914e-01\n -8.98308158e-02 -1.45800859e-01  1.66653425e-01 -2.10540414e-01\n  7.82120109e-01  5.79677224e-02  5.03625929e-01 -3.06965411e-01\n  5.31605363e-01  2.92712212e-01 -5.66532135e-01 -3.79634666e+00\n  7.09780529e-02  6.17434680e-02 -4.41730738e-01 -4.62492853e-01\n -2.75863856e-01  5.59620261e-02 -9.47846100e-02  3.31186235e-01\n -3.88075635e-02 -5.52045941e-01  2.49399245e-01 -3.54389787e-01\n  3.10197622e-02  1.07205257e-01 -1.79823741e-01  1.56166136e+00\n -5.89792579e-02 -1.16852671e-02 -6.94562793e-01 -6.39404729e-02\n -2.97190428e-01 -6.18728340e-01  2.53256023e-01 -2.57784754e-01\n -5.52545249e-01  4.37802911e-01  2.08695382e-01 -5.73361158e-01\n  1.93818018e-01 -2.41116509e-01  1.16770476e-01 -6.57915622e-02\n  2.24700555e-01  1.21999383e-02 -1.32804066e-01  1.28725141e-01\n -2.57522881e-01  5.09740636e-02  2.49993920e-01  1.60674453e-02\n -2.08596158e+00 -1.18929780e+00  3.64968836e-01 -3.91368270e-01\n  1.73186988e-01 -2.49125808e-01  1.15157560e-01  5.28218508e-01\n -4.57546651e-01 -1.73194349e-01  2.19220012e-01 -1.00385278e-01\n  3.63485217e-01 -3.84254903e-02  2.77867079e-01 -2.75662184e-01\n  8.50219429e-02  1.26028299e-01 -3.87896895e-01  5.87903023e-01\n  4.82425541e-02 -3.64148021e-02  1.21715516e-01  3.79172206e-01\n -3.45883906e-01 -6.22264385e-01 -4.88331050e-01  1.72198105e+00\n  1.28663421e-01 -2.44714379e-01 -2.87569761e-01  5.28920144e-02\n -1.06867880e-01 -1.21916652e-01 -1.88985646e-01 -5.20512700e-01\n  1.78659633e-01  6.53167725e-01 -5.47048330e-01  3.98326635e-01\n  2.47411817e-01  2.21894532e-02 -1.94542542e-01 -2.87080109e-01\n  4.21696216e-01 -1.76225275e-01  9.16029632e-01 -2.20493555e-01\n -2.44532138e-01  8.69729519e-02 -2.37946033e-01  2.46211886e-04\n  9.99860168e-02  5.67203641e-01 -3.73401284e-01  1.03936052e+00\n -6.34651184e-02 -3.22750419e-01 -1.18583046e-01 -3.34188104e-01\n  4.15071622e-02  2.35829383e-01 -1.81771725e-01  3.03135753e-01\n  2.97924429e-01 -7.38902949e-03  2.89299011e-01  2.94463038e-02\n -6.24012411e-01 -9.00363922e-02 -3.56803983e-01 -4.18419480e-01\n -1.02046683e-01 -2.01982483e-02 -5.29616773e-02 -3.69809717e-01\n  3.70582879e-01  3.27569008e-01 -4.79655683e-01 -2.69255459e-01\n  1.63130760e-01  1.47044718e-01 -7.14546591e-02  2.52900171e+00\n -4.40798521e-01  1.16179347e-01  2.05827281e-01  3.09564769e-01\n -1.34646505e-01 -6.30801916e-03  2.90370554e-01  8.68407413e-02\n  4.09736097e-01  7.91386962e-02  3.13380301e-01  1.37308896e-01\n -1.22235276e-01 -5.03135443e-01  4.17084731e-02 -2.48631895e-01\n -6.71962917e-01  3.95305634e-01  3.06211412e-02  2.03517139e-01\n -1.82226896e-02  3.34519804e-01 -4.87501353e-01 -6.59403563e-01\n  7.95447230e-02 -3.30117285e-01  4.24103916e-01  1.84573755e-01\n  1.14176571e-01  1.51957273e-02 -3.74943972e-01  3.10411602e-02\n -1.32903874e-01  6.24898076e-02  2.18458980e-01  6.96188331e-01\n  1.48743868e-01  3.48950326e-02 -5.53564429e-01 -3.04942667e-01\n -6.47416592e-01  1.15205146e-01  8.70263278e-02  1.35884726e+00\n  2.54525721e-01  3.24471116e-01  9.56937134e-01  2.87140727e-01\n -2.06756681e-01  2.40014285e-01 -2.11703211e-01 -4.52500582e-01\n -4.07484055e-01  3.41291666e-01 -5.74336290e-01  1.13732144e-01\n -1.53334022e-01  2.32338101e-01 -2.19796562e+00  5.97459435e-01\n  3.95047665e-03  3.58492255e-01 -1.59540191e-01  3.58614594e-01\n  7.93643445e-02  2.66327977e-01 -1.34063497e-01  3.03115621e-02\n  1.57167837e-01 -1.83541477e-02  3.44765604e-01 -4.51377034e-02\n  4.32124972e-01  1.99053034e-01 -9.20655131e-02  7.64411926e-01\n -9.51244682e-02  1.07672662e-01  3.04666340e-01  1.42289609e-01]",
         "36608",
         "265801398",
         "40386761"
        ],
        [
         "41",
         "11573500",
         "Комплект одежды Это вы можете",
         "[{'attribute_name': 'Type', 'attribute_value': 'Комплект одежды', 'attribute_isaspect': False, 'attribute_showascharacteristic': True}\n {'attribute_name': 'Brand', 'attribute_value': 'Нет бренда', 'attribute_isaspect': False, 'attribute_showascharacteristic': True}\n {'attribute_name': 'Annotation', 'attribute_value': 'Узор: Градиент<br/><br/>Длина брюк<br/><br/>Популярные элементы: градиентный цвет<br/><br/>Процесс: печать<br/><br/>Доступный год/сезон: лето 2023 г.<br/><br/>Название ткани: полиэстер<br/><br/>Цвет: Синий 1, Синий 2, Синий 3, Зеленый, Желтый, Белый 1, Белый 2, Черный 1, Черный 2, Черный 3<br/><br/>Размер: M, L, XL, 2XL, 3XL<br/><br/>Тип стиля: японский и корейский повседневный<br/><br/>Стиль: повседневный стиль<br/><br/>Фасон костюма: брючный костюм<br/><br/>Тип стиля: удобный и повседневный<br/><br/>Тип рукава: без рукавов<br/><br/>Рукав: без рукавов', 'attribute_isaspect': False, 'attribute_showascharacteristic': True}\n {'attribute_name': 'ColorBase', 'attribute_value': 'голубой', 'attribute_isaspect': True, 'attribute_showascharacteristic': True}\n {'attribute_name': 'ColorName', 'attribute_value': 'стиль5-', 'attribute_isaspect': True, 'attribute_showascharacteristic': True}\n {'attribute_name': 'RussianSizeClothes', 'attribute_value': '52', 'attribute_isaspect': True, 'attribute_showascharacteristic': True}\n {'attribute_name': 'SizeManufacturer', 'attribute_value': '3XL', 'attribute_isaspect': True, 'attribute_showascharacteristic': True}\n {'attribute_name': 'SizeM', 'attribute_value': '44', 'attribute_isaspect': False, 'attribute_showascharacteristic': True}\n {'attribute_name': 'SexMaster', 'attribute_value': 'Женский', 'attribute_isaspect': False, 'attribute_showascharacteristic': True}\n {'attribute_name': 'HeightM', 'attribute_value': '175 см', 'attribute_isaspect': False, 'attribute_showascharacteristic': True}\n {'attribute_name': 'SizeGrid', 'attribute_value': 'Универсальная размерная сетка: Женская одежда', 'attribute_isaspect': False, 'attribute_showascharacteristic': False}\n {'attribute_name': 'Material', 'attribute_value': 'Полиэфир', 'attribute_isaspect': False, 'attribute_showascharacteristic': True}\n {'attribute_name': 'Composition', 'attribute_value': 'Полиэстер', 'attribute_isaspect': False, 'attribute_showascharacteristic': True}\n {'attribute_name': 'InnerMaterial', 'attribute_value': 'Cotton Peach', 'attribute_isaspect': False, 'attribute_showascharacteristic': True}\n {'attribute_name': 'Season', 'attribute_value': 'Лето', 'attribute_isaspect': False, 'attribute_showascharacteristic': True}\n {'attribute_name': 'SleeveLength', 'attribute_value': 'Без рукавов', 'attribute_isaspect': False, 'attribute_showascharacteristic': True}\n {'attribute_name': 'FilterSizeINT', 'attribute_value': 'XL', 'attribute_isaspect': False, 'attribute_showascharacteristic': False}\n {'attribute_name': 'Name', 'attribute_value': 'набор', 'attribute_isaspect': False, 'attribute_showascharacteristic': False}\n {'attribute_name': 'ColorBase_Forfilter', 'attribute_value': 'Голубой', 'attribute_isaspect': False, 'attribute_showascharacteristic': False}]",
         "[ 3.18264008e-01  1.94699073e+00 -7.54009962e-01 -2.57038593e-01\n  2.27794409e-01  1.83563262e-01 -4.04739380e-02 -6.73747435e-02\n -3.60005736e-01 -3.09978783e-01  3.72491539e-01 -3.75631005e-01\n  4.28862572e-01  1.97501928e-01 -1.92689702e-01  2.73108482e-03\n -1.21711934e+00  2.00262934e-01  5.53283729e-02 -6.43809319e-01\n -5.76364040e-01  2.62145177e-02 -5.42174280e-03 -1.82244629e-01\n  1.90348268e-01 -5.50116420e-01  1.72399193e-01 -1.80314481e-02\n  1.83049679e-01  1.65197223e-01 -5.87445796e-01 -2.57900774e-01\n  1.26249850e-01  2.45368153e-01  2.64089137e-01  8.69060308e-03\n -7.94847131e-01  5.48491538e-01 -1.57275349e-02 -6.66212440e-02\n  7.01115966e-01  2.62890995e-01  6.76408768e-01  1.02207989e-01\n -6.10314906e-01  4.57659900e-01 -5.65195441e-01 -2.15206146e-02\n  2.83199251e-01  1.18726134e-01  1.60366237e-01  7.38152623e-01\n  1.33392215e-01  4.96900678e-01 -4.53503966e-01  1.91815227e-01\n -2.57264078e-01  5.31017244e-01  8.86503935e-01  2.11961061e-01\n -4.66329336e-01 -1.03822485e-01  7.10929036e-02 -3.37486267e-02\n -1.58751756e-01 -6.72821552e-02  3.41207802e-01 -8.65955651e-01\n  4.00689721e-01  2.93641299e-01 -3.38734686e-01 -2.91023731e-01\n  2.62778699e-01 -2.71986425e-02  7.59274840e-01  7.94110447e-02\n -3.23010683e-01 -9.23169553e-02 -4.26437944e-01 -1.06854796e-01\n -6.39109090e-02 -1.43013939e-01 -9.88556445e-02 -7.22289234e-02\n  8.62747282e-02 -1.87904134e-01 -2.49673128e-01  1.96131602e-01\n -2.31463924e-01  3.80876452e-01 -1.11269444e-01  1.63280070e-01\n  7.24381208e-03 -5.31529784e-02  4.06694561e-02 -4.83120978e-01\n  1.16062291e-01 -6.47159517e-02 -2.67702162e-01 -2.67056435e-01\n  3.53197932e-01  2.42951527e-01 -2.00006589e-02 -4.67318177e-01\n -5.36098257e-02  3.74211758e-01  2.98381031e-01 -6.33935332e-01\n  3.24599504e-01 -5.90119958e-01 -4.42269951e-01  2.76342154e-01\n -2.31026709e-02  2.97905207e-01  3.00486796e-02 -1.88111216e-01\n -6.44215643e-01 -8.92724246e-02 -5.54804742e-01  5.80151200e-01\n  4.42569196e-01 -1.43477589e-01  7.07224756e-02  2.20044494e-01\n -2.33432889e-01 -1.10185117e-01  4.34854090e-01  4.76281285e-01\n -2.16848910e-01 -3.03173691e-01  3.80728543e-01  3.59637737e-01\n  2.62478650e-01 -9.73006487e-02  2.35216007e-01  6.90622479e-02\n  4.15901899e-01 -5.33945084e-01 -3.93825620e-01 -1.64345533e-01\n  9.07340199e-02 -5.48801012e-02 -4.80485439e-01  1.76237673e-01\n  4.22724754e-01  1.89160466e-01 -1.90766782e-01 -5.00121593e-01\n -5.04219532e-01  3.44715744e-01  1.12030730e-01  5.70005178e-02\n  2.53001881e+00 -7.19221681e-02  3.43441784e-01 -2.28712633e-01\n -6.24191999e-01 -2.95256317e-01  5.30107737e-01 -2.11803883e-01\n  5.31654954e-02  6.03112698e-01 -7.77182281e-02  3.99502158e-01\n -2.39529327e-01  3.27930748e-02  6.37895584e-01 -1.58601433e-01\n  1.67020202e-01 -3.46559167e-01  3.73696387e-01 -1.40482202e-01\n -6.57135248e-03  4.37501788e-01 -3.91786873e-01  3.25416625e-01\n  6.20000660e-02  8.64035666e-01 -3.84920359e+00  3.64076465e-01\n -8.27251732e-01 -3.14299136e-01  1.33687258e-03  4.33039427e-01\n -9.84631330e-02  7.88028240e-02 -4.69393730e-01  2.02292055e-01\n  1.85397774e-01  6.92345873e-02  1.65688545e-02  2.88171709e-01\n  5.48356056e-01 -5.73206186e-01  4.21011969e-02 -2.11567357e-01\n -7.70733595e-01  2.65611082e-01  8.21161419e-02  2.93486446e-01\n  8.27183545e-01 -8.33373070e-01 -1.73414171e-01 -3.26357484e-01\n -1.93006769e-01  1.63895488e-01 -3.81595083e-02 -5.51546097e-01\n -7.00038850e-01 -3.01968575e-01  1.30061045e-01 -1.47546262e-01\n  1.71472132e-02  2.77212620e-01 -2.82835156e-01  5.86716235e-01\n -2.58936882e-01 -2.13073641e-02  2.41632700e-01 -1.18535563e-01\n  1.83394611e-01  1.69272944e-01  5.53862631e-01 -6.93086982e-02\n -5.00567332e-02  5.22829443e-02 -5.40117472e-02  5.59026480e-01\n -3.33505839e-01 -2.39393860e-02  3.40832025e-02 -3.17035645e-01\n  8.35632980e-02 -3.55907142e-01  1.84494510e-01 -2.91651130e-01\n  4.48920220e-01 -6.74004495e-01 -1.00176245e-01  2.16611966e-01\n  6.78837776e-01  3.12264770e-01  2.14980498e-01  5.69964200e-02\n  2.96737581e-01 -5.52145839e-01  2.03207299e-01 -2.63345957e-01\n  3.60600740e-01 -2.54895464e-02  1.71414971e+00  2.91079253e-01\n  1.97757453e-01 -3.39064717e-01 -2.86236644e-01  4.26628917e-01\n  8.45792294e-02 -8.55858028e-02 -8.19107533e-01  2.16658413e-01\n -3.01532060e-01 -4.52835917e-01  3.11769873e-01 -4.77371037e-01\n  2.58045584e-01  1.97852731e-01  3.46527398e-01  3.69361669e-01\n -2.57764578e-01 -2.95972824e-03  1.02887070e+00  3.16965550e-01\n -1.75489947e-01  5.79152584e-01 -4.57929432e-01 -6.17045164e-01\n -3.96283239e-01  7.96078682e-01  4.33361828e-01  1.31395668e-01\n  1.16936773e-01  9.96244669e-01 -5.91453195e-01 -5.83148658e-01\n -3.94620091e-01  5.67334771e-01  6.76650584e-01 -1.46770418e-01\n -3.80427241e-01  1.17074549e-01  8.02958161e-02  2.12734833e-01\n  1.11558497e-01 -4.23932463e-01 -4.59091246e-01  3.37040573e-01\n  1.67928025e-01  2.38620326e-01 -2.61077762e-01  2.33708963e-01\n  1.79685742e-01 -9.26812053e-01  7.46781379e-03  1.90394819e-02\n  5.07678688e-02  2.10896172e-02 -5.50429225e-02 -2.52515769e+00\n  4.32315886e-01 -1.58019006e-01 -5.89441776e-01 -4.76966619e-01\n  4.91076857e-01  3.47759336e-01 -4.67137620e-02 -4.71433729e-01\n -4.38673794e-03 -1.74556926e-01 -6.87426105e-02 -2.07926154e-01\n -2.39898324e-01  1.97258979e-01 -2.12525606e-01  9.34299886e-01\n  4.23026681e-01  2.48994380e-02 -4.91261840e-01 -2.64601648e-01\n -8.26046646e-01  1.77490920e-01 -3.25712502e-01  5.27327508e-02\n  4.48675960e-01 -1.07187033e-02 -6.33643270e-01  4.53505516e-02\n  2.01530844e-01  3.41795355e-01 -7.30626211e-02 -3.14559042e-01\n -7.90072978e-03 -6.12513572e-02 -8.44031572e-02  2.75753498e-01\n -1.11104608e-01 -6.04474187e-01 -9.03701335e-02  4.44804728e-01\n -9.80526567e-01  2.74849951e-01 -9.41225052e-01 -4.30116326e-01\n  2.80468762e-02 -4.20185626e-01 -5.51196456e-01 -2.41999939e-01\n  3.31628084e-01  2.81490415e-01 -4.97274399e-02 -1.95362002e-01\n  5.09951174e-01 -1.40320897e-01  3.84485066e-01 -2.49335468e-02\n -3.77042532e-01 -2.98146605e-01 -3.78181636e-01  3.28283906e-02\n  2.42403895e-01  9.97283340e-01 -1.64106995e-01 -1.86583877e-01\n  9.08756033e-02 -3.79398584e-01 -1.08973503e-01  1.37024969e-02\n -5.24356663e-01 -5.21226287e-01 -7.64291659e-02 -4.64388072e-01\n  6.85967684e-01 -3.01659182e-02 -3.14788401e-01 -2.99615562e-01\n  3.89777005e-01  2.61065245e-01 -4.00316715e-02  1.55075878e-01\n  2.19623163e-01 -4.19881165e-01  1.26658082e-01 -3.94266546e-01\n  3.12024057e-01  4.19592738e-01  1.62770844e+00 -3.69856060e-01\n  1.04503202e+00  1.86536461e-01 -1.11636072e-01  1.95478126e-01\n -2.41085142e-02 -5.15536144e-02 -1.27476335e-01  1.71686798e-01\n  4.13405374e-02  1.47277027e-01  3.90961617e-01  6.30683303e-02\n -4.72826004e-01  3.79323840e-01  1.54655978e-01 -3.85817170e-01\n -1.20178811e-01 -9.42597091e-02 -1.60354435e-01 -1.27024919e-01\n  4.03006524e-02 -6.03228927e-01 -7.77117908e-03 -5.30806541e-01\n -4.69683290e-01 -7.99037933e-01  8.26352119e-01 -9.02992845e-01\n  6.90679550e-02 -1.25247270e-01 -9.50220376e-02 -3.84981632e-02\n -1.18922375e-01  2.35889107e-03  4.45251107e-01  2.71181911e-01\n -2.46943489e-01 -5.65484524e-01 -2.84813732e-01 -3.31648141e-01\n  1.97120011e-01  1.66531250e-01  5.17371178e-01  8.89711678e-02\n  1.92211956e-01 -1.27177045e-01 -2.57455349e-01  6.73518419e-01\n  1.41094625e-03 -1.55423373e-01 -5.42145371e-01 -4.72612381e-01\n -3.26222852e-02 -3.38628262e-01 -5.70188463e-03 -4.30100441e-01\n -6.59658462e-02  3.10930759e-02  9.01691318e-02 -1.13353252e+00\n  4.36875612e-01 -2.83665583e-02  2.72807002e-01 -6.03656828e-01\n  3.45461458e-01 -4.18827534e-01  2.28134558e-01 -3.65447700e-01\n  1.21471137e-01  2.43608773e-01  8.71986449e-02  1.99675560e-03\n  1.20858654e-01 -2.95134038e-01  2.98676878e-01 -2.08215714e-01\n -1.53919935e-01  9.18540359e-03 -2.92252570e-01 -2.20770270e-01\n -1.59578234e-01  2.27027878e-01 -4.80101556e-02  1.18131116e-01\n -2.32518792e-01 -5.17490953e-02  3.92070740e-01  1.88938633e-01\n  9.03923661e-02 -2.64263600e-01  3.46669346e-01 -1.83625519e-01\n  1.35692090e-01  6.91941500e-01 -1.85104537e+00  1.51306361e-01\n -9.85911489e-02  1.25866100e-01  2.73774743e-01  5.32837749e-01\n -2.52709210e-01  2.53373027e-01 -7.68475413e-01 -2.22214133e-01\n  5.40620685e-01 -2.01153755e-03 -2.29268804e-01 -1.44588757e+00\n  2.71353871e-01  1.54226422e-02  8.66229385e-02 -1.04935527e+00\n  4.23408449e-02  3.73566449e-02 -2.53729343e-01 -4.11434859e-01]",
         "7536",
         "258013027",
         "30040905"
        ],
        [
         "42",
         "11650980",
         "Топ AMILITA Базовая коллекция",
         "[{'attribute_name': 'Type', 'attribute_value': 'Топ', 'attribute_isaspect': False, 'attribute_showascharacteristic': True}\n {'attribute_name': 'Brand', 'attribute_value': 'AMILITA', 'attribute_isaspect': False, 'attribute_showascharacteristic': True}\n {'attribute_name': 'Annotation', 'attribute_value': 'Розовый женский топ с короткими рукавами красиво подчеркнет достоинства фигуры. Хлопковый, позволяет коже дышать и не стесняет движений. Вы можете надеть его на работу в офис или учебу в школе и институте. Офисный плотный топ будет хорошо смотреться как на девушках подростках, так и на взрослых женщинах. Модный топик красиво сидит на груди. Облегающий, он разнообразит ваш повседневный наряд. Круглый вырез спереди красиво подчеркнет шею. Стильный топик под рубашку - трендовая вещь, которая дополнит ваш гардероб на весну. Это идеальная вещь на лето, в которой можно отправиться на вечеринку, встречу с друзьями и на природу, а также подойдет для фитнеса и танцев. Красивые базовые топы из трикотажа с хлопком и лайкрой можно подарить сестре, подруге, коллеге или жене. Одежда в рубчик отлично подойдет и для дома. Домашний кроптоп из ткани лапша комфортно сидит на фигуре. Обтягивающий топ для маленькой груди с округлой горловиной красиво подчеркнет силуэт. Весенний летний трикотажный топ в обтяжку - модная вещь на каждый день для подростков. Однотонный классический топ со швами применим со многими предметами одежды, например, под джинсы или юбку. В зимнем варианте носки изделие можно использовать как первый слой одежды. Производство Турция.', 'attribute_isaspect': False, 'attribute_showascharacteristic': True}\n {'attribute_name': 'ColorBase', 'attribute_value': 'пудровый', 'attribute_isaspect': True, 'attribute_showascharacteristic': True}\n {'attribute_name': 'ColorName', 'attribute_value': 'Топ футболка розовый', 'attribute_isaspect': True, 'attribute_showascharacteristic': True}\n {'attribute_name': 'RussianSizeClothes', 'attribute_value': '40', 'attribute_isaspect': True, 'attribute_showascharacteristic': True}\n {'attribute_name': 'SizeManufacturer', 'attribute_value': 'XS', 'attribute_isaspect': True, 'attribute_showascharacteristic': True}\n {'attribute_name': 'SizeM', 'attribute_value': 'XS', 'attribute_isaspect': False, 'attribute_showascharacteristic': True}\n {'attribute_name': 'SexMaster', 'attribute_value': 'Женский', 'attribute_isaspect': False, 'attribute_showascharacteristic': True}\n {'attribute_name': 'HeightM', 'attribute_value': '162 см', 'attribute_isaspect': False, 'attribute_showascharacteristic': True}\n {'attribute_name': 'SizeGrid', 'attribute_value': 'Универсальная размерная сетка: Женская одежда', 'attribute_isaspect': False, 'attribute_showascharacteristic': False}\n {'attribute_name': 'Material', 'attribute_value': 'Хлопок', 'attribute_isaspect': False, 'attribute_showascharacteristic': True}\n {'attribute_name': 'Material', 'attribute_value': 'Лайкра', 'attribute_isaspect': False, 'attribute_showascharacteristic': True}\n {'attribute_name': 'Composition', 'attribute_value': 'Хлопок 95%, эластан 5%', 'attribute_isaspect': False, 'attribute_showascharacteristic': True}\n {'attribute_name': 'InnerMaterial', 'attribute_value': 'Без подклада', 'attribute_isaspect': False, 'attribute_showascharacteristic': True}\n {'attribute_name': 'StyleApparel', 'attribute_value': 'Повседневный', 'attribute_isaspect': False, 'attribute_showascharacteristic': True}\n {'attribute_name': 'Season', 'attribute_value': 'Лето', 'attribute_isaspect': False, 'attribute_showascharacteristic': True}\n {'attribute_name': 'clothescut', 'attribute_value': 'облегающий', 'attribute_isaspect': False, 'attribute_showascharacteristic': True}\n {'attribute_name': 'SleeveLength', 'attribute_value': 'Короткий', 'attribute_isaspect': False, 'attribute_showascharacteristic': True}\n {'attribute_name': 'FilterSizeINT', 'attribute_value': 'XS', 'attribute_isaspect': False, 'attribute_showascharacteristic': False}\n {'attribute_name': 'NumItemsDcml', 'attribute_value': '1', 'attribute_isaspect': False, 'attribute_showascharacteristic': True}\n {'attribute_name': 'Name', 'attribute_value': 'Топ кроп футболка женский летний под пиджак в рубчик XS', 'attribute_isaspect': False, 'attribute_showascharacteristic': False}\n {'attribute_name': 'ColorBase_Forfilter', 'attribute_value': 'Бежевый', 'attribute_isaspect': False, 'attribute_showascharacteristic': False}]",
         "[ 2.91428030e-01  9.44967151e-01 -3.52750063e-01  5.20304561e-01\n  2.54246116e-01  2.14785770e-01 -4.71014380e-01 -2.31050417e-01\n  1.16335452e-01 -4.83112276e-01  6.89963400e-02 -8.06741714e-02\n -5.87349355e-01  6.84919596e-01 -6.48210585e-01  3.00296783e-01\n -6.83932245e-01 -2.35495463e-01  2.21703187e-01  1.26770735e-01\n  6.05382025e-03 -3.53524268e-01 -3.61683816e-01  2.87002116e-01\n -3.83003533e-01 -3.20652217e-01  5.19565701e-01  7.13206172e-01\n -4.05553818e-01  4.94882464e-03 -1.33470750e+00  2.11082071e-01\n -1.17295235e-01  1.30719781e-01  1.88282579e-01  2.35290319e-01\n -2.27395803e-01  2.89008141e-01  6.15630820e-02  3.14492956e-02\n  7.92105347e-02 -4.07922745e-01  4.21637535e-01  1.81594893e-01\n -1.21640921e-01  2.96971828e-01 -1.16388321e+00 -1.04455143e-01\n  4.60614413e-01 -3.82175714e-01  3.54882777e-01 -6.95306659e-02\n  4.74538088e-01 -1.15521193e-01 -1.26199031e+00  6.57666326e-01\n -3.17206979e-03  2.64550686e-01  2.40239963e-01  9.14206505e-02\n -3.66673410e-01 -1.22595288e-01 -4.45914268e-03  3.97701234e-01\n  4.39759046e-02  2.19509080e-02 -1.91671059e-01 -2.09827423e-02\n -2.59607941e-01 -6.62722215e-02 -5.12896776e-01 -7.60096014e-02\n  5.72358146e-02  5.95616221e-01  3.25842798e-01 -5.24974465e-01\n  2.40872785e-01  3.92829120e-01  2.44440064e-01 -1.70933902e-02\n -8.87136161e-02  6.63836002e-02  9.84138101e-02  3.24509323e-01\n  2.37945199e-01 -2.71895647e-01  1.94047913e-01  4.29638654e-01\n  4.30260479e-01 -1.23651117e-01 -2.96174645e-01 -4.05953914e-01\n -3.50781381e-02 -7.26355195e-01 -3.43239486e-01  7.65224695e-02\n  4.05901462e-01  1.07378885e-01  5.59517443e-01 -2.85810113e-01\n -5.31988107e-02  4.64582533e-01  1.65255606e-01  7.28868097e-02\n  4.09120888e-01 -2.78782099e-02  1.20440722e-01 -5.08833468e-01\n -2.91085660e-01 -6.06028587e-02 -4.68918920e-01 -1.96956813e-01\n  2.24217772e-03  4.55739051e-02  6.71701133e-02 -6.54163897e-01\n  3.55004847e-01  4.02613342e-01  2.51301646e-01 -5.58719516e-01\n  2.24049628e-01 -3.07584435e-01  1.34542078e-01  1.03880614e-01\n  3.01030248e-01 -6.09522045e-01 -2.23037034e-01  1.50669843e-01\n  3.43497127e-01  1.52340174e-01  4.45900589e-01 -7.79471844e-02\n -7.12601990e-02  2.18156829e-01 -6.79635644e-01  4.73101646e-01\n -3.25135022e-01  2.60652602e-03  3.04130554e-01 -1.65046453e-01\n  1.46328360e-02  3.56482863e-01  5.02336979e-01  2.16753334e-01\n  2.96566665e-01 -1.95863485e-01  2.56879032e-01  8.52662742e-01\n -4.51916456e-03  3.00454855e-01 -3.70062828e-01  1.01755738e-01\n  3.67662358e+00 -3.53821397e-01 -4.50494170e-01 -1.43464506e-02\n  2.91340649e-02  1.57816857e-01  1.16799653e-01  1.01507008e-02\n  6.45211816e-01  3.38552117e-01 -1.87895045e-01 -1.95224673e-01\n -1.32036984e-01  1.81850523e-01  2.74641693e-01  8.55153441e-01\n -4.13259923e-01 -4.47908640e-02  7.46850252e-01 -4.12957370e-03\n -4.07654345e-01  3.72624993e-01  6.41115084e-02 -5.34308732e-01\n  1.23080291e-01  9.92228389e-02 -7.43362188e-01  2.07811937e-01\n  1.72966644e-01 -4.98892248e-01 -2.38953717e-02 -9.74261463e-02\n -8.01225975e-02 -2.05193102e-01  1.92776990e+00  9.51804221e-03\n -2.04492256e-01 -8.31692874e-01  2.44371295e-02  1.14345121e+00\n -1.80728093e-01  3.92141759e-01 -3.92500430e-01 -5.08919507e-02\n  1.96774989e-01  2.32079908e-01 -1.39396131e-01  1.03088453e-01\n  1.01652980e+00 -2.33789250e-01  4.89564478e-01 -2.63459742e-01\n -2.59454399e-02  5.18011868e-01  2.30412126e-01 -3.41522574e-01\n  5.49528956e-01 -1.97772473e-01  2.18145281e-01 -5.34006000e-01\n  1.94598645e-01  5.12955546e-01 -3.34427685e-01  2.08318263e-01\n -3.95811945e-01  2.15244845e-01  2.19216913e-01  5.90237319e-01\n -1.69257745e-02  2.32210308e-02 -3.19004059e-04  3.43493581e-01\n  3.98255199e-01  5.04854023e-01 -3.66785824e-01  4.88162786e-02\n -4.17063862e-01 -1.82784796e-02  1.35401875e-01  1.27641469e-01\n  2.21935570e-01  3.09133470e-01  7.44437277e-02 -1.45267040e-01\n -4.18871403e-01  9.77124274e-02  4.05647039e-01 -6.15856722e-02\n -2.77928382e-01  2.06064522e-01  1.51783779e-01  2.13942632e-01\n  1.01224929e-01 -9.48790312e-02 -1.94122002e-01  1.31191760e-02\n  4.29264337e-01 -9.12796259e-02 -3.50349545e-01  2.89247423e-01\n  5.79695225e-01 -5.13396025e-01 -9.41004872e-01 -3.53488475e-01\n -9.02007461e-01  4.45528090e-01 -5.21322370e-01  2.07323492e-01\n -9.20998156e-02  1.07669972e-01 -3.43958288e-01  4.65437919e-02\n -4.27102864e-01 -4.08687532e-01 -3.11713725e-01  3.88087451e-01\n  6.88730851e-02 -1.85990095e-01  5.14323473e-01 -4.18046385e-01\n  4.45595711e-01 -1.23583615e-01 -1.17860287e-01 -4.34004098e-01\n -2.45408699e-01 -1.11306898e-01  2.90927023e-01  3.82617116e-03\n  1.06362447e-01  8.78334045e-02 -3.10527384e-02  3.17396343e-01\n  1.53285712e-01  2.72438154e-02  1.28510684e-01 -1.40698016e-01\n  3.30501139e-01 -2.54316151e-01 -2.46099174e-01 -1.74570739e-01\n -1.47516862e-01 -3.61540556e-01  9.19055939e-02 -9.00596976e-02\n  1.35557145e-01 -4.03436601e-01  2.35216051e-01 -2.78454423e-01\n  9.77777183e-01 -2.15845242e-01  5.77099979e-01 -2.82827437e-01\n  1.00349784e+00 -1.03309840e-01 -8.53433490e-01 -3.66478825e+00\n -3.73259038e-02 -3.81381214e-02 -8.49309206e-01 -6.67894006e-01\n -2.66571529e-02 -2.62428522e-02 -1.75064877e-01  3.58551979e-01\n -1.96808279e-01 -3.78449500e-01  2.96443015e-01 -9.12269354e-02\n  1.13025069e-01 -4.71580476e-01 -4.53637958e-01  1.64986682e+00\n -6.98589385e-02 -1.16751708e-01  3.50141972e-02 -3.92029285e-02\n -6.58209205e-01 -3.78001064e-01 -1.90725416e-01 -2.92267427e-02\n -2.44414300e-01  2.46896058e-01  2.39107072e-01 -6.79484457e-02\n  2.47097746e-01  4.57474962e-02 -4.15069520e-01 -9.94746387e-03\n  3.74064654e-01 -2.22051740e-02 -2.70262539e-01 -1.99840665e-02\n -1.57648697e-01  2.47138530e-01 -3.16083223e-01  6.87815070e-01\n -1.73446977e+00 -6.97707117e-01  7.65800714e-01 -1.47834703e-01\n  3.42687786e-01 -6.00060940e-01 -3.56822312e-01 -8.49120021e-02\n -5.72211862e-01  2.55251735e-01  4.96962041e-01 -2.98776329e-01\n  1.18709385e-01 -6.48805797e-02  2.32987344e-01 -3.66387010e-01\n -2.53698230e-01 -1.16512753e-01 -5.12767315e-01  1.63654268e-01\n -1.73441932e-01  3.14456522e-02 -7.47195184e-02  2.88693786e-01\n -3.90425980e-01 -2.98862934e-01 -4.58403170e-01  1.67108428e+00\n -7.97182322e-04 -3.12025577e-01 -3.90218467e-01 -2.95509100e-01\n  8.48040730e-02  2.10860744e-02 -3.70888412e-01 -7.87825465e-01\n -2.61369377e-01  4.93442297e-01  6.74864873e-02  4.02337998e-01\n  3.37463856e-01 -1.20125204e-01  1.62129804e-01  2.39366479e-02\n  2.97484457e-01  1.15095213e-01  5.25811553e-01  1.08839780e-01\n  1.52365640e-01  2.92891473e-01  4.18973640e-02 -3.64323676e-01\n  1.06920883e-01  1.45592824e-01 -1.44409537e-01  1.36794579e+00\n -2.55723298e-02  2.09737420e-01  5.12838364e-03 -2.21462920e-02\n -9.16656852e-02  3.16780731e-02 -2.14972734e-01  4.57775295e-01\n  4.87713575e-01 -1.03035942e-01  5.52859306e-01 -3.13578278e-01\n -7.52843320e-01 -1.26940683e-01 -1.48379654e-01  4.69167531e-02\n  3.77105735e-02 -5.92336178e-01  1.33169502e-01 -1.60494357e-01\n  5.56762338e-01  2.87234075e-02 -3.12485814e-01 -2.41798788e-01\n  4.11165655e-02  8.03667158e-02 -7.40895569e-02  2.51006866e+00\n -5.45065045e-01  2.42166564e-01  1.24699742e-01  1.55108303e-01\n -5.78812510e-02 -3.43147755e-01 -1.30631000e-01  9.66732353e-02\n  4.19974983e-01  3.81269038e-01  3.48841250e-01  3.75148095e-02\n  2.21289441e-01 -3.77772003e-01 -3.53399217e-01 -2.73133993e-01\n -1.86740890e-01  7.19374493e-02  2.65007854e-01  2.63095081e-01\n -1.34708911e-01  1.38916910e-01 -4.49598670e-01 -1.07131863e+00\n -1.57540038e-01  8.73888507e-02 -4.78840023e-02  3.64845514e-01\n  3.94964874e-01  1.56597018e-01 -5.05997837e-01  4.28860635e-02\n -1.11183971e-01  3.27976763e-01  4.06236827e-01  8.08193028e-01\n  1.32244930e-01  5.00061870e-01 -1.03504205e+00 -1.15060732e-02\n -4.51508909e-02 -2.61521935e-01  1.03611439e-01  1.18115246e+00\n  4.57782805e-01  2.34618261e-02  5.30055344e-01  1.50746241e-01\n  9.86854285e-02  2.42429882e-01 -4.09285158e-01 -9.35900807e-01\n -2.54979610e-01  2.55381688e-02 -8.48773003e-01  2.54751891e-02\n  3.48601416e-02  2.90555567e-01 -1.85682464e+00  3.61739755e-01\n -2.51410544e-01 -2.42509544e-02 -5.76683700e-01  8.31658840e-01\n  6.10985160e-02 -8.67666453e-02  1.16467476e-03  2.96530277e-02\n  2.95270264e-01 -9.10945088e-02  4.82488155e-01 -8.51355791e-02\n  5.59472144e-01  3.31774205e-01  9.29690525e-02  3.70852828e-01\n  2.10364014e-01  4.25294042e-02  4.06792581e-01 -2.85474122e-01]",
         "7506",
         "35203430",
         "20346756"
        ],
        [
         "43",
         "11686991",
         "Трусы Befree",
         "[{'attribute_name': 'Type', 'attribute_value': 'Трусы', 'attribute_isaspect': False, 'attribute_showascharacteristic': True}\n {'attribute_name': 'Brand', 'attribute_value': 'Befree', 'attribute_isaspect': False, 'attribute_showascharacteristic': True}\n {'attribute_name': 'Annotation', 'attribute_value': '- Бесшовные женские трусы-слипы из мягкой, эластичной и очень приятной к телу полиамидной ткани с гладкой трикотажной фактурой\\n- Комфортная средняя посадка по талии, подчеркивающая фигуру и скрывающая недостатки\\n- Гигиеническая ластовица из 100% хлопка\\n- Без резинки и швов, сдавливающих и натирающих кожу\\n- Однотонные черные / голубые / розовые слипы со стразами\\n- Универсальные базовые трусики, которые идеально подойдут для занятий спортом, фитнесом, йогой, бегом и других активностей\\n- Суперудобные бесшовные слипы на каждый день, в которых ты будешь чувствовать себя максимально комфортно в течение всего дня\\n- Базовое нижнее белье для тех, кто не привык отказывать себе в комфорте: красивое и соблазнительное может и должно быть удобным\\n- Идеально подойдут для твоих самых горячих облегающих аутфитов с твоими любимыми джинсами, брюками, платьями или юбками\\n- Размер на модели: XS/S', 'attribute_isaspect': False, 'attribute_showascharacteristic': True}\n {'attribute_name': 'ColorBase', 'attribute_value': 'розовый', 'attribute_isaspect': True, 'attribute_showascharacteristic': True}\n {'attribute_name': 'ColorName', 'attribute_value': 'розовый', 'attribute_isaspect': True, 'attribute_showascharacteristic': True}\n {'attribute_name': 'RussianSizeClothes', 'attribute_value': '46', 'attribute_isaspect': True, 'attribute_showascharacteristic': True}\n {'attribute_name': 'SizeManufacturer', 'attribute_value': 'M/L/170', 'attribute_isaspect': True, 'attribute_showascharacteristic': True}\n {'attribute_name': 'SizeM', 'attribute_value': '44', 'attribute_isaspect': False, 'attribute_showascharacteristic': True}\n {'attribute_name': 'SexMaster', 'attribute_value': 'Женский', 'attribute_isaspect': False, 'attribute_showascharacteristic': True}\n {'attribute_name': 'HeightM', 'attribute_value': '176 см', 'attribute_isaspect': False, 'attribute_showascharacteristic': True}\n {'attribute_name': 'SizeGrid', 'attribute_value': 'Бренд Befree: Женская одежда', 'attribute_isaspect': False, 'attribute_showascharacteristic': False}\n {'attribute_name': 'Material', 'attribute_value': 'Текстиль', 'attribute_isaspect': False, 'attribute_showascharacteristic': True}\n {'attribute_name': 'Composition', 'attribute_value': 'полиамид - 92%, эластан - 8%', 'attribute_isaspect': False, 'attribute_showascharacteristic': True}\n {'attribute_name': 'InnerMaterial', 'attribute_value': 'Без подклада', 'attribute_isaspect': False, 'attribute_showascharacteristic': True}\n {'attribute_name': 'StyleApparel', 'attribute_value': 'Повседневный', 'attribute_isaspect': False, 'attribute_showascharacteristic': True}\n {'attribute_name': 'DetailsClothes', 'attribute_value': 'Блестки', 'attribute_isaspect': False, 'attribute_showascharacteristic': True}\n {'attribute_name': 'FilterSizeINT', 'attribute_value': 'M', 'attribute_isaspect': False, 'attribute_showascharacteristic': False}\n {'attribute_name': 'Name', 'attribute_value': 'Трусы-слипы бесшовные со стразами Befree 2424831106-90-M/L', 'attribute_isaspect': False, 'attribute_showascharacteristic': False}\n {'attribute_name': 'ColorBase_Forfilter', 'attribute_value': 'Розовый', 'attribute_isaspect': False, 'attribute_showascharacteristic': False}]",
         "[-1.19840503e-02  7.55355716e-01 -4.03059930e-01  1.53509915e-01\n -4.27359343e-02  1.92017525e-01 -3.52656394e-02  2.44712293e-01\n  5.13911396e-02 -6.33284569e-01 -9.23052311e-01  2.43913621e-01\n -2.97928989e-01 -2.52152979e-03 -1.53166458e-01 -5.76732874e-01\n -9.51723397e-01 -5.46619534e-01  2.38988563e-01  2.70757288e-01\n  7.18094826e-01 -4.01189268e-01  1.26489624e-01  4.32535470e-01\n  6.50495291e-03 -1.04368567e-01 -2.16958776e-01  6.81338489e-01\n -6.96351677e-02 -2.29758322e-02 -2.19188124e-01 -3.28235030e-02\n  2.37308860e-01 -5.42588472e-01  6.17474839e-02 -4.51547682e-01\n -4.11712587e-01 -2.43950576e-01  6.24477267e-02  3.72786283e-01\n  3.50577444e-01 -2.08589718e-01  1.23494923e-01 -1.60633475e-01\n  7.57847071e-01  1.45397633e-01 -1.04964197e+00 -3.37792337e-02\n  1.86474472e-02 -2.49443889e-01  2.38400847e-01 -1.00344026e+00\n -2.51610994e-01  1.74377680e-01 -5.13133764e-01  7.77680159e-01\n  5.42812645e-02  1.82789654e-01 -1.13861620e-01 -1.98459961e-02\n -5.91473401e-01 -1.46752238e-01  1.18945122e-01  1.33398294e-01\n -3.64796638e-01  3.90577137e-01  3.12299997e-01 -5.72642922e-01\n -1.91628665e-01 -3.82711291e-01 -4.51622099e-01 -3.98353130e-01\n  3.64307731e-01  3.69804353e-03  4.33125526e-01 -7.36451507e-01\n -5.77922702e-01 -4.72372293e-01  2.61869907e-01 -1.03237689e-01\n -4.13565159e-01 -2.24959910e-01 -1.69592321e-01  4.07239437e-01\n  6.07176006e-01  2.67102540e-01 -3.48497957e-01 -3.54310870e-03\n  3.96786302e-01 -5.41007638e-01 -9.54868197e-02 -2.95009315e-02\n  3.04014474e-01  7.57029653e-03 -3.67205352e-01 -2.12733015e-01\n -3.02495867e-01 -7.28402585e-02  1.27907395e-01 -4.23259467e-01\n -2.80906260e-01 -3.27548921e-01  1.22074187e-02  2.74863839e-03\n  5.91939270e-01 -8.84145617e-01 -1.11940593e-01 -4.73789632e-01\n  9.37948972e-02 -3.74638647e-01 -1.15442634e+00  7.40860403e-02\n -3.28211069e-01 -7.23625243e-01 -8.64864290e-02 -5.62362134e-01\n -1.23797528e-01 -6.25832528e-02  2.76332319e-01 -6.14353240e-01\n  5.55455148e-01 -3.14946137e-02 -3.98916304e-01 -4.61254805e-01\n -2.07741991e-01 -6.76657259e-02 -6.41712308e-01  1.62788630e-02\n -5.48268437e-01  2.06645831e-01  2.78866410e-01 -1.20796338e-01\n  8.66591930e-02  1.13584936e-01 -2.88411081e-01  6.51076317e-01\n -1.82385445e-01  2.85290658e-01 -2.53849149e-01 -1.92881271e-01\n  7.34665751e-01 -5.27645707e-01  2.48745084e-02  3.68783653e-01\n  1.41304469e+00 -5.07052839e-01  7.02359527e-02  4.67697769e-01\n  4.57336307e-01  1.03928566e-01 -5.38545012e-01 -7.86500454e-01\n  3.38640499e+00  1.57914624e-01 -2.95621157e-01  3.06595981e-01\n -1.83101177e-01 -2.19419539e-01  2.97859043e-01  4.08348888e-01\n  3.57331723e-01  4.38510627e-01  5.41247010e-01 -9.12649781e-02\n  9.89759415e-02 -2.96304226e-02  1.92752510e-01 -2.76357770e-01\n  1.68972820e-01 -6.76198244e-01  3.65889579e-01  1.03291035e-01\n -3.46564859e-01 -7.62005374e-02  4.21567202e-01 -2.58759201e-01\n  5.87867439e-01  2.18291089e-01 -5.41978538e-01  2.19426930e-01\n  5.17523646e-01 -1.39937401e-02  1.64087623e-01 -1.64907873e-02\n  7.08788931e-02 -6.89153522e-02  9.03999746e-01 -5.50594985e-01\n  2.12416083e-01 -4.38426793e-01 -8.75324905e-02  1.09397531e+00\n -7.25680768e-01 -3.34871531e-01  6.00001335e-01 -1.04696088e-01\n -5.59993029e-01  1.69046521e-02 -3.61086965e-01 -5.83270311e-01\n  8.03188801e-01 -1.02404028e-01  6.23583972e-01 -1.33854055e+00\n -6.88301682e-01  5.97144842e-01 -1.09583229e-01 -4.07491982e-01\n  3.13987792e-01 -2.93519765e-01 -2.32518822e-01 -3.76294971e-01\n -1.26902312e-01  3.67897689e-01 -4.78923947e-01  1.58858344e-01\n -7.26760924e-02 -1.57262623e-01 -5.51361442e-01  5.75277567e-01\n  2.46836513e-01  5.39623052e-02 -2.22070515e-01 -1.79123282e-01\n  1.22808538e-01  3.16223025e-01  3.34019005e-01 -1.00013763e-02\n -4.16949689e-01  2.72183627e-01 -4.17928398e-01 -2.91235775e-01\n -8.77465487e-01 -3.65088820e-01 -2.54436255e-01 -2.56816894e-02\n -2.03445375e-01 -2.63561606e-02 -2.99093723e-02  5.83782941e-02\n  5.76129913e-01  9.27859396e-02  7.16470182e-04 -4.51676071e-01\n -1.88013524e-01 -3.16651106e-01 -2.07152963e-03  5.13905108e-01\n -6.35110140e-01  5.83835959e-01 -4.33939695e-02  5.81684232e-01\n -6.55361891e-01 -4.51985329e-01 -4.57916021e-01 -3.53345960e-01\n -5.36398411e-01 -2.99761653e-01  9.07570124e-01  3.69152963e-01\n -3.84408474e-01  4.35231984e-01 -3.20710123e-01  3.86631638e-02\n -1.40778810e-01  3.51670802e-01  1.49096206e-01 -7.25928396e-02\n -9.53438282e-02 -3.56703699e-01  4.71041292e-01 -1.15296200e-01\n -1.62817016e-01  6.93541765e-03  2.29466736e-01 -4.39365208e-02\n  4.07023579e-02 -2.76478022e-01 -1.82987079e-01 -6.16757035e-01\n  5.93792737e-01  6.68856025e-01 -4.37388033e-01  1.46867692e-01\n  4.86194417e-02  1.34986103e-01  2.02974632e-01 -9.49747786e-02\n -6.19970113e-02 -3.41083705e-01 -8.17201436e-02  6.74429387e-02\n  8.55830386e-02 -2.42428511e-01  1.17692202e-01  3.11414242e-01\n  8.94155353e-02 -5.13097867e-02  2.79556662e-02  1.64159834e-01\n  1.77960813e+00  6.75430238e-01  4.33510900e-01 -4.06342372e-02\n  1.84623659e-01 -2.32513845e-01 -1.49230585e-01 -3.37992883e+00\n  1.71686336e-01 -3.10450256e-01 -6.06414080e-01 -6.08383954e-01\n  1.85191363e-01  1.47185326e-01  4.98970032e-01  6.66341901e-01\n -6.41307309e-02 -1.03909835e-01 -7.13824481e-02 -4.11270231e-01\n -2.97756910e-01 -4.79225218e-02 -1.73983335e-01  9.20523345e-01\n -1.28338635e-01 -2.28019394e-02 -2.42528513e-01  1.59016371e-01\n -1.27289295e-01  2.21654385e-01 -2.81666994e-01  2.42806777e-01\n  6.81997985e-02  3.15331221e-01  2.82405823e-01 -3.05042654e-01\n  1.50416702e-01 -2.89079040e-01 -5.11361286e-04 -2.22436190e-01\n  2.41719574e-01  2.53917947e-02  8.32024932e-01  2.48250276e-01\n  1.66977033e-01  1.88561827e-01  6.75607473e-02  3.64744842e-01\n -8.58264327e-01 -2.08967671e-01 -7.70181894e-01 -6.17101192e-01\n  4.46674973e-01 -2.56279230e-01  1.52517200e-01 -1.86986938e-01\n -1.86865665e-02  2.24323899e-01  3.10291588e-01 -1.70374155e-01\n  3.16478789e-01  2.60419130e-01  3.50070000e-01  5.46920896e-01\n  2.18385950e-01 -2.01077297e-01 -3.36374551e-01  4.68987048e-01\n  7.69093871e-01 -3.14567626e-01 -2.35527724e-01  3.69664758e-01\n -3.17492224e-02  4.79482204e-01 -5.46488285e-01  1.60336769e+00\n -1.30193263e-01  1.90313756e-02  3.17674816e-01  1.78533405e-01\n -2.69806325e-01  3.97737980e-01  2.30262950e-01 -4.99015540e-01\n  1.01489589e-01  1.42493606e+00 -7.21212924e-02 -2.35799104e-01\n  2.50616610e-01  1.08306110e-02  2.52948225e-01  1.18682906e-02\n -1.56242847e-02  6.11621439e-01  9.39639390e-01  6.27943695e-01\n  4.68499184e-01  1.06946260e-01 -1.61238074e-01  3.19308043e-02\n  3.70232701e-01  1.22477934e-01  2.88958907e-01  5.80481961e-02\n -1.18900523e-01 -8.89384598e-02 -4.32419062e-01 -3.41673195e-02\n -2.39305586e-01 -7.90688396e-03 -3.98358166e-01 -2.33035088e-02\n  2.02974945e-01  1.09853968e-01  1.11929968e-01 -2.43694842e-01\n -2.72944450e-01 -7.22033978e-02 -4.02716696e-01 -3.68094414e-01\n  5.86127996e-01  2.30907500e-02 -1.57391161e-01 -5.36728740e-01\n -3.59397024e-01  4.67040092e-01  7.79402554e-02 -4.85689521e-01\n -1.83424979e-01 -1.01041627e+00  7.59898543e-01  2.16238809e+00\n  1.30902529e-01  2.09291622e-01  3.72351557e-01  5.30456066e-01\n  1.56024903e-01  3.93980294e-02  3.39541048e-01 -1.50820181e-01\n -1.36726111e-01  2.04542220e-01 -3.19178730e-01  2.58122206e-01\n -4.70213652e-01 -4.65853900e-01  2.92695761e-02 -6.32679105e-01\n -8.47924709e-01  4.61384207e-02  1.82705671e-01  3.10943246e-01\n  7.55027160e-02  2.82541782e-01 -2.91477025e-01 -9.17754710e-01\n -3.49561512e-01 -1.38334095e-01  2.15119198e-01  2.40363851e-01\n  3.78426939e-01 -1.38589591e-01 -4.56607342e-02 -3.01930666e-01\n  1.51793599e-01  4.23861504e-01 -1.19353831e-01  3.98943573e-01\n  1.55093372e-01  8.94923806e-02 -9.50380266e-02  2.60309696e-01\n -5.98007321e-01 -3.78083646e-01 -1.06178433e-01  1.02886152e+00\n -1.05858885e-01  6.75659105e-02 -3.35173368e-01  1.55304804e-01\n  1.96410686e-01  2.43401587e-01  5.38368404e-01 -6.48202181e-01\n  1.67264417e-01  3.50786150e-02 -5.10298491e-01 -1.03141099e-01\n  8.82026106e-02  3.00397843e-01 -2.60036159e+00  8.23180079e-02\n -3.39832157e-03 -1.81120679e-01  7.45093077e-02  5.50341129e-01\n  2.61553675e-02 -1.62587553e-01 -3.93018812e-01  2.81963468e-01\n  3.15896481e-01 -7.35739991e-02  6.54175639e-01 -5.64433694e-01\n -8.34469348e-02 -2.20657438e-01  1.95245266e-01 -1.68514341e-01\n  1.03767827e-01  5.78802526e-01 -3.72092128e-01 -1.16689086e-01]",
         "31306",
         "179139263",
         "25694865"
        ],
        [
         "44",
         "11754109",
         "Футболка Magic Lady",
         "[{'attribute_name': 'Type', 'attribute_value': 'Футболка', 'attribute_isaspect': False, 'attribute_showascharacteristic': True}\n {'attribute_name': 'Brand', 'attribute_value': 'Magic Lady', 'attribute_isaspect': False, 'attribute_showascharacteristic': True}\n {'attribute_name': 'ColorBase', 'attribute_value': 'синий', 'attribute_isaspect': True, 'attribute_showascharacteristic': True}\n {'attribute_name': 'ColorBase', 'attribute_value': 'светло-синий', 'attribute_isaspect': True, 'attribute_showascharacteristic': True}\n {'attribute_name': 'ColorName', 'attribute_value': 'синий,светло-синий', 'attribute_isaspect': True, 'attribute_showascharacteristic': True}\n {'attribute_name': 'RussianSizeClothes', 'attribute_value': '50', 'attribute_isaspect': True, 'attribute_showascharacteristic': True}\n {'attribute_name': 'SizeManufacturer', 'attribute_value': '50', 'attribute_isaspect': True, 'attribute_showascharacteristic': True}\n {'attribute_name': 'SexMaster', 'attribute_value': 'Женский', 'attribute_isaspect': False, 'attribute_showascharacteristic': True}\n {'attribute_name': 'SizeGrid', 'attribute_value': 'Универсальная размерная сетка: Женская одежда', 'attribute_isaspect': False, 'attribute_showascharacteristic': False}\n {'attribute_name': 'Material', 'attribute_value': 'Вискоза', 'attribute_isaspect': False, 'attribute_showascharacteristic': True}\n {'attribute_name': 'Composition', 'attribute_value': '10% эластан, 90% вискоза', 'attribute_isaspect': False, 'attribute_showascharacteristic': True}\n {'attribute_name': 'StyleApparel', 'attribute_value': 'Повседневный', 'attribute_isaspect': False, 'attribute_showascharacteristic': True}\n {'attribute_name': 'Season', 'attribute_value': 'На любой сезон', 'attribute_isaspect': False, 'attribute_showascharacteristic': True}\n {'attribute_name': 'clothescut', 'attribute_value': 'полуприталенный', 'attribute_isaspect': False, 'attribute_showascharacteristic': True}\n {'attribute_name': 'SleeveLength', 'attribute_value': 'Короткий', 'attribute_isaspect': False, 'attribute_showascharacteristic': True}\n {'attribute_name': 'FilterSizeINT', 'attribute_value': 'L', 'attribute_isaspect': False, 'attribute_showascharacteristic': False}\n {'attribute_name': 'FilterSizeINT', 'attribute_value': 'XL', 'attribute_isaspect': False, 'attribute_showascharacteristic': False}\n {'attribute_name': 'NumItemsDcml', 'attribute_value': '1', 'attribute_isaspect': False, 'attribute_showascharacteristic': True}\n {'attribute_name': 'Name', 'attribute_value': 'Футболка женская, Magic Lady', 'attribute_isaspect': False, 'attribute_showascharacteristic': False}\n {'attribute_name': 'ColorBase_Forfilter', 'attribute_value': 'Синий', 'attribute_isaspect': False, 'attribute_showascharacteristic': False}]",
         "[ 2.57387191e-01  3.62804651e-01  1.01268381e-01 -9.45720226e-02\n -1.01832472e-01 -1.72068149e-01 -4.36420739e-01  2.26808280e-01\n -2.53557749e-02  4.48762298e-01  2.68848300e-01 -3.44491482e-01\n -1.92466632e-01  5.63338637e-01 -9.31500793e-01 -4.76728380e-03\n -9.89198923e-01 -3.33218038e-01 -1.35284543e-01  1.97392449e-01\n  4.32747081e-02 -1.07352924e+00 -6.17092848e-01 -2.07038045e-01\n -4.72306311e-02  2.62298644e-01  2.41886109e-01  6.88430190e-01\n -3.13001961e-01  7.07879066e-02 -1.06590724e+00 -2.30611175e-01\n  1.00275353e-01  2.93357283e-01 -2.96515673e-02  4.79518592e-01\n -5.56804001e-01  1.80042490e-01  8.58308226e-02 -2.20867455e-01\n  3.84459138e-01 -4.10318494e-01  3.12505275e-01  2.61575431e-01\n -2.76122510e-01 -4.52181876e-01 -7.58451343e-01  3.46136570e-01\n -7.86547214e-02 -3.30272824e-01  2.30382875e-01  8.74768496e-01\n  3.31471175e-01 -1.31107584e-01  2.88126528e-01  6.49337173e-01\n -1.26022369e-01  7.72947595e-02  7.79744267e-01  2.42951214e-01\n  1.49591044e-01 -5.79394549e-02  8.37424338e-01  4.41814363e-01\n -1.57273382e-01 -3.66603956e-02 -3.25293720e-01 -6.98596418e-01\n -2.88681448e-01 -1.72142670e-01 -6.02446795e-01  6.58424318e-01\n -2.04535276e-02  7.74921775e-01 -9.27450359e-02 -8.06250125e-02\n  3.75709414e-01  2.83512533e-01  1.91118300e-01  3.81546319e-01\n  9.06342566e-02 -2.57618189e-01  1.58029795e-03 -7.90255815e-02\n  2.71098197e-01 -8.61064345e-02  1.19212121e-01  5.14163971e-01\n -4.13614511e-03  5.65388143e-01 -7.22318888e-04  1.23002976e-01\n -2.44485304e-01  1.34955436e-01 -2.47983724e-01  4.62847978e-01\n  5.36214888e-01  3.61176074e-01  6.14794344e-02 -1.41898483e-01\n -2.89999455e-01  1.82829201e-01  3.82737398e-01 -3.71841013e-01\n  6.60101473e-01  5.52207947e-01  7.02684522e-01  4.47570503e-01\n  4.99301627e-02 -5.49655296e-02  1.77923918e-01 -8.91197026e-02\n -1.64356768e-01 -3.34559977e-02  3.26545537e-01 -7.25568831e-03\n -7.87047595e-02  1.56509101e-01 -3.06040198e-02  5.92308283e-01\n  4.56251413e-01 -1.88961476e-02  1.74498633e-01 -2.59810686e-03\n  1.62964314e-03 -5.10008991e-01  3.04408252e-01  7.35961348e-02\n  1.14774361e-01  8.77719820e-02  3.98406327e-01 -1.95946500e-01\n  2.01952398e-01  1.14253156e-01 -4.11623716e-01 -2.40504146e-01\n -1.84570588e-02  4.25055742e-01  4.18840289e-01 -1.84169129e-01\n  5.09600341e-01 -1.55938104e-01  3.33585858e-01  3.91325653e-02\n -1.86747581e-01  1.73366711e-01  3.63040179e-01  9.05911922e-01\n  4.44636568e-02  5.41879833e-01 -1.04293004e-01  3.52756143e-01\n  2.48567438e+00  1.82412744e-01 -4.05697435e-01  9.17664319e-02\n  3.25429291e-02  1.71851754e-01 -9.71127599e-02 -3.33557129e-02\n -2.19170064e-01  2.11129934e-02  2.14989305e-01  8.47551674e-02\n -6.20214343e-02 -2.86419153e-01 -2.60273129e-01 -1.15361786e+00\n  2.69807011e-01 -7.71301836e-02 -2.19597384e-01  1.20350569e-02\n -6.23441100e-01  4.73821253e-01 -5.25370181e-01 -3.25923592e-01\n  1.96692497e-01  2.64578581e-01 -9.42670882e-01 -1.21797979e-01\n  8.07366371e-02 -6.81236863e-01  1.03511952e-01 -2.02790588e-01\n -3.01761270e-01  7.42955804e-02  8.82820964e-01 -1.23454317e-01\n -4.14091587e-01 -2.31359139e-01 -1.28907710e-02  5.95939159e-01\n  1.22267067e-01  4.06659275e-01 -5.12172580e-01 -1.79410741e-01\n -8.50663066e-01  1.61156982e-01 -4.99411702e-01 -3.58843952e-01\n  6.50610626e-01 -6.97057843e-01  3.00293326e-01 -6.65155172e-01\n -4.02094275e-02  6.32326603e-02  2.42870077e-01  4.01684284e-01\n  2.23356545e-01  2.67415196e-02  1.63910925e-01  8.96975547e-02\n  3.81615013e-03 -6.83532879e-02 -1.68657511e-01  2.01223060e-01\n -3.49648058e-01 -5.91977984e-02  1.22173160e-01 -1.61801815e-01\n  2.07915872e-01 -4.16512132e-01 -2.94478357e-01  1.51340306e-01\n  1.81437105e-01 -2.38165498e-01 -3.42805356e-01  1.11341864e-01\n -1.17997870e-01  1.06475100e-01  3.50790322e-01  3.83562446e-02\n -1.19196028e-02  2.86301672e-01 -4.19993520e-01 -1.43568456e-01\n -5.30199945e-01  4.50201631e-02  3.51798147e-01  2.65935659e-01\n -2.58092165e-01  3.10639679e-01  3.68493974e-01  3.22674572e-01\n  1.03363112e-01 -4.02619541e-02  2.26982370e-01 -1.03213060e+00\n  2.57825375e-01 -5.20797491e-01 -2.95447886e-01  3.39184970e-01\n  3.69709969e-01 -6.02560282e-01  2.17854202e-01 -6.24094844e-01\n -1.21625662e+00  1.00075886e-01 -1.31366402e-01 -2.06203029e-01\n  6.63534626e-02  3.03123891e-01 -1.84634045e-01 -7.25319982e-01\n -5.00225842e-01 -6.41411483e-01 -6.51036859e-01  2.44444609e-02\n -7.72981465e-01 -1.65445119e-01  1.45145702e+00 -3.04385781e-01\n  7.30339050e-01 -2.33229816e-01 -3.49036008e-01 -5.27610183e-01\n  1.15839563e-01  3.11443210e-01  5.71955085e-01 -1.42754883e-01\n  4.04706746e-01  3.93189967e-01  1.48158088e-01  2.86729157e-01\n  7.59733915e-02 -3.93753588e-01  2.05640122e-02  1.00170195e-01\n  1.35103047e-01 -7.06292510e-01 -1.31514579e-01 -4.15026605e-01\n -7.19702989e-02 -4.88231063e-01 -2.53728539e-01 -7.61435181e-02\n  1.15285784e-01 -4.39058006e-01 -5.36482632e-02 -1.07382968e-01\n  4.01984245e-01 -4.24768686e-01  2.15177685e-02  1.29602611e-01\n -8.03317666e-01  3.99759263e-02 -5.16372621e-01 -2.48336625e+00\n -4.12883818e-01  1.40129715e-01 -4.92296517e-01 -1.35247183e+00\n -4.12815154e-01  3.53076965e-01  1.92321867e-01 -2.65014172e-02\n  4.90501970e-02 -2.55292267e-01 -7.24072605e-02 -7.39160240e-01\n  1.50048733e-01  6.41071796e-02 -2.30966538e-01  1.19015574e-04\n -4.73134220e-02  8.93536955e-02 -4.07902062e-01  1.58906236e-01\n -9.12978649e-01  4.03194815e-01  2.09514230e-01 -4.10783172e-01\n  2.11544782e-01 -2.26787537e-01 -5.43715179e-01  8.88851508e-02\n  5.28447568e-01  4.29572165e-02 -4.73019719e-01  4.41271782e-01\n -2.06710517e-01  2.11796969e-01 -2.11088240e-01 -2.30004311e-01\n  3.29344124e-01 -3.61210793e-01  3.17867249e-02  4.01750535e-01\n -1.24483573e+00 -4.78476554e-01  6.65980875e-02 -1.52045310e-01\n -7.38634169e-02 -5.05154967e-01  4.18992639e-02  5.45440078e-01\n -1.22754991e-01  8.02022219e-02 -5.03006577e-03  4.78286535e-01\n  2.02262744e-01  2.30081886e-01  2.79856324e-01  2.28999078e-01\n -1.68050289e-01  3.10480446e-01 -1.34966880e-01  1.73325390e-01\n -2.93925524e-01  3.25205386e-01 -1.59997240e-01 -4.73900512e-03\n -2.47476786e-01 -1.85859695e-01 -2.98036903e-01  1.34768558e+00\n -2.57287502e-01 -3.63023281e-02 -8.13239515e-02 -2.05432922e-01\n  3.50040436e-01  1.33245021e-01  4.16834652e-03 -6.76932573e-01\n  2.85387188e-02  6.21284485e-01  3.13908458e-01 -1.65469348e-01\n  1.35677233e-01  5.95018268e-01 -1.71860188e-01 -4.10825342e-01\n  4.37973768e-01  1.41319007e-01  1.02087164e+00 -1.20901227e-01\n -6.70536280e-01  3.18854660e-01 -1.78958058e-01 -7.99924433e-01\n -5.19761682e-01  2.82815903e-01 -6.38244033e-01  1.74133927e-02\n  2.02742204e-01 -1.66561604e-01  4.68948454e-01 -4.87024099e-01\n  1.92054063e-01  3.86520803e-01 -6.10792935e-02  9.26542640e-01\n  1.65596318e+00  3.87085080e-01  3.08299720e-01  2.52587423e-02\n -8.26621950e-01 -3.90900791e-01 -3.80151212e-01  3.42530817e-01\n  1.90329134e-01 -5.81206918e-01  4.42223251e-01 -8.51791799e-02\n  6.04723036e-01 -7.58163929e-02  1.15472242e-01 -4.86254692e-02\n -1.71446502e-01 -4.05549049e-01 -3.21755260e-01  1.39654016e+00\n -1.47517771e-01  2.46630609e-01  3.12407315e-01  2.54588276e-01\n -7.30418265e-02  3.40057947e-02  1.67999148e-01 -9.57660824e-02\n  2.23614991e-01 -1.79506451e-01  2.60703236e-01  2.42186442e-01\n -8.35568011e-02  1.37894928e-01 -4.26919460e-01 -6.46120429e-01\n -4.45363522e-01  6.32834792e-01  8.34893286e-01  6.57286882e-01\n  3.39296192e-01 -7.34898448e-03 -6.89313293e-01 -1.44335794e+00\n  1.53785452e-01 -2.40348548e-01  5.63319325e-02  1.42398104e-01\n  8.10527653e-02 -1.41116321e-01 -3.14547777e-01 -5.09700716e-01\n  1.73272327e-01 -2.06515908e-01  2.70833701e-01  3.66046757e-01\n  7.20546395e-02 -1.14759482e-01 -2.88584054e-01  7.97339156e-02\n  2.40344331e-01  3.41126800e-01  1.82282120e-01  1.45288503e+00\n  6.53650939e-01 -4.01437357e-02  2.00626671e-01 -1.37108892e-01\n -3.40908080e-01  1.49901956e-01 -1.41350865e-01 -1.97360158e-01\n  4.12526429e-02 -3.27403575e-01 -3.13872665e-01 -2.00535223e-01\n  7.72818476e-02  3.81217897e-01 -4.56979692e-01 -3.22738051e-01\n -9.62045044e-03  2.37822354e-01  3.72419417e-01  1.13009024e+00\n  3.40711698e-02  4.43650782e-02 -3.58614087e-01 -3.81627291e-01\n -2.96007365e-01 -1.75246909e-01 -2.63279736e-01  4.88677502e-01\n  4.03495312e-01 -3.80491689e-02  1.61653012e-01  1.68588996e-01\n -2.71061808e-01  5.42882562e-01  5.28334260e-01 -4.11962748e-01]",
         "7508",
         "125005773",
         "1178176"
        ],
        [
         "45",
         "11808691",
         "Джинсы KariKids Meow",
         "[{'attribute_name': 'Type', 'attribute_value': 'Джинсы', 'attribute_isaspect': False, 'attribute_showascharacteristic': True}\n {'attribute_name': 'Brand', 'attribute_value': 'KariKids', 'attribute_isaspect': False, 'attribute_showascharacteristic': True}\n {'attribute_name': 'Annotation', 'attribute_value': 'джинсы<br/><br/>джинсы для девочек<br/><br/>джинсы для девочки<br/><br/>джинсы детские<br/><br/>джинсы на резинке<br/><br/>джинсы на девочку<br/><br/>джинсы детские для девочки<br/><br/>джинсы подростковые для девочек<br/><br/>джинсы для подростка девочки<br/><br/>джинсы с принтом<br/><br/>джинсы для малышей<br/><br/>детские джинсы', 'attribute_isaspect': False, 'attribute_showascharacteristic': True}\n {'attribute_name': 'ColorBase', 'attribute_value': 'темно-серый', 'attribute_isaspect': True, 'attribute_showascharacteristic': True}\n {'attribute_name': 'ColorName', 'attribute_value': 'темно-серый', 'attribute_isaspect': True, 'attribute_showascharacteristic': True}\n {'attribute_name': 'RussianSizeClothes', 'attribute_value': '116', 'attribute_isaspect': True, 'attribute_showascharacteristic': True}\n {'attribute_name': 'SizeManufacturer', 'attribute_value': '5-6', 'attribute_isaspect': True, 'attribute_showascharacteristic': True}\n {'attribute_name': 'SexMaster', 'attribute_value': 'Девочки', 'attribute_isaspect': False, 'attribute_showascharacteristic': True}\n {'attribute_name': 'SizeGrid', 'attribute_value': 'Универсальная размерная сетка: детская одежда', 'attribute_isaspect': False, 'attribute_showascharacteristic': False}\n {'attribute_name': 'Material', 'attribute_value': 'Хлопок', 'attribute_isaspect': False, 'attribute_showascharacteristic': True}\n {'attribute_name': 'Material', 'attribute_value': 'Деним', 'attribute_isaspect': False, 'attribute_showascharacteristic': True}\n {'attribute_name': 'Composition', 'attribute_value': '100% хлопок', 'attribute_isaspect': False, 'attribute_showascharacteristic': True}\n {'attribute_name': 'InnerMaterial', 'attribute_value': 'Без подклада', 'attribute_isaspect': False, 'attribute_showascharacteristic': True}\n {'attribute_name': 'StyleApparel', 'attribute_value': 'Повседневный', 'attribute_isaspect': False, 'attribute_showascharacteristic': True}\n {'attribute_name': 'Season', 'attribute_value': 'На любой сезон', 'attribute_isaspect': False, 'attribute_showascharacteristic': True}\n {'attribute_name': 'clothescut', 'attribute_value': 'свободный', 'attribute_isaspect': False, 'attribute_showascharacteristic': True}\n {'attribute_name': 'DetailsClothes', 'attribute_value': 'Аппликация', 'attribute_isaspect': False, 'attribute_showascharacteristic': True}\n {'attribute_name': 'DetailsClothes', 'attribute_value': 'Блестки', 'attribute_isaspect': False, 'attribute_showascharacteristic': True}\n {'attribute_name': 'DetailsClothes', 'attribute_value': 'Декоративные пуговицы', 'attribute_isaspect': False, 'attribute_showascharacteristic': True}\n {'attribute_name': 'Name', 'attribute_value': 'Джинсы Long leg для девочек KariKids размер 5-6', 'attribute_isaspect': False, 'attribute_showascharacteristic': False}\n {'attribute_name': 'ColorBase_Forfilter', 'attribute_value': 'Серый', 'attribute_isaspect': False, 'attribute_showascharacteristic': False}]",
         "[-8.24137777e-02 -3.21110487e-02 -4.12408054e-01 -1.83708519e-01\n  1.89455166e-01 -3.20164382e-01  3.11888963e-01 -5.29616028e-02\n -3.94358724e-01  4.14301485e-01  1.08330563e-01  1.46429956e-01\n  9.49978828e-02  1.64280400e-01  6.88274503e-01  1.42674968e-01\n -7.45995581e-01  6.28450960e-02  4.34712708e-01  4.15657729e-01\n  3.00549865e-02  2.83562899e-01 -2.74601802e-02 -2.78383732e-01\n -2.81338990e-02 -3.05671841e-02  8.73700231e-02  5.11304736e-01\n  3.91761065e-02 -3.03229988e-01 -4.22084033e-01  5.56225926e-02\n -1.29200131e-01 -1.23985149e-01  1.55683458e-01  2.73782611e-01\n  1.58499524e-01  4.71638560e-01 -8.05625439e-01  2.53072381e-02\n -6.53975606e-02 -5.48621356e-01 -7.14082420e-01 -5.90265155e-01\n  1.15508981e-01 -2.48166174e-01 -4.68327403e-01  2.14662254e-01\n  2.47542113e-01  3.00623119e-01 -3.51633906e-01 -3.24052811e-01\n  2.35136226e-02 -1.14950828e-01 -6.80213809e-01  8.76595378e-01\n -1.53957129e-01  3.14032286e-01 -4.20108736e-02 -2.30465204e-01\n  4.04129565e-01 -1.29055560e-01  4.53818768e-01  4.22206998e-01\n -6.93554282e-01  1.91108361e-01 -2.26691574e-01 -1.67822218e+00\n  4.25487280e-01 -3.25405389e-01 -2.45162934e-01 -6.94447398e-01\n  3.88897508e-01 -3.30414206e-01  1.01544052e-01 -3.01438510e-01\n  2.79081434e-01 -2.41142362e-01  3.28036189e-01  4.45352882e-01\n -1.70931965e-01  2.06366926e-01 -6.24037743e-01  2.64148295e-01\n  1.11208752e-01 -2.27171183e-03 -6.18524313e-01 -2.39189267e-02\n  1.69725746e-01 -5.89528382e-02  5.62612116e-02 -3.28099668e-01\n -8.57559085e-01  2.53100395e-01  4.96556982e-02  3.16542983e-02\n  3.63424569e-02  2.29927853e-01  9.89648998e-02  7.71460831e-02\n -7.51848668e-02  1.03229001e-01  9.75361913e-02  4.79102910e-01\n  1.16513491e-01 -1.55992642e-01  1.07728019e-01  5.04764259e-01\n -2.74376959e-01  4.58516479e-02  2.53757566e-01  1.88449308e-01\n -3.55795771e-02 -2.73830116e-01  1.14101946e-01 -2.50237197e-01\n  1.11862876e-01 -3.41589376e-02  5.79089761e-01  3.82515430e-01\n  2.81935781e-01  3.57377082e-02 -8.83292377e-01 -4.81805652e-01\n -3.34639728e-01 -6.45806044e-02  4.85106707e-01 -1.75329328e-01\n -1.17470562e-01  2.00970858e-01  3.74898493e-01 -2.77807176e-01\n  4.25406277e-01 -2.67611623e-01  2.35134453e-01  3.02219242e-01\n -2.93407649e-01  5.86499751e-01 -5.19190431e-02  5.42371750e-01\n  1.85281545e-01  2.40960449e-01 -1.47003978e-02  1.92549124e-01\n  2.12724507e-01 -1.13035396e-01 -1.21188283e-01  3.58068228e-01\n -6.70017153e-02  4.58357513e-01 -1.94234073e-01 -1.01057887e-02\n  3.82974339e+00  3.51598501e-01  3.93065214e-02  5.49060285e-01\n  2.49284327e-01 -2.18808427e-01  1.59179747e-01  4.18828279e-01\n -2.83297896e-02  5.94924152e-01  6.53125197e-02  1.90190226e-01\n -5.03555298e-01  9.72049832e-01  7.93972790e-01  4.61062789e-01\n  5.08429527e-01 -4.19667810e-01 -1.72132403e-02 -3.09190512e-01\n  1.55864805e-01 -1.53773263e-01  3.24653745e-01  4.79935914e-01\n  9.24210906e-01  2.67115027e-01 -1.56351781e+00  3.95565212e-01\n -4.70251739e-01 -8.49041879e-01  3.40499252e-01 -3.62248838e-01\n -1.98248863e-01 -4.28241134e-01 -3.29453647e-02  4.74931151e-01\n  6.13400936e-01 -7.95691758e-02 -3.63318324e-01  2.08812332e+00\n  5.69087625e-01 -1.54687852e-01  3.94941330e-01  5.03905863e-02\n -5.44430077e-01 -2.58347511e-01 -1.68567985e-01  5.02703115e-02\n -5.70309162e-01 -1.11035836e+00 -1.96387559e-01 -1.31702483e-01\n -6.15418196e-01  5.14357090e-01  8.34393322e-01  1.74038887e-01\n -9.15993601e-02 -4.80200022e-01 -4.11411703e-01  1.07523665e-01\n -1.09693214e-01 -1.45597547e-01 -2.20472813e-01  3.39433551e-03\n -3.71382236e-01  4.56380785e-01  1.63274035e-01  7.89971650e-02\n  4.16903436e-01  4.01194334e-01  1.05681591e-01 -2.97981411e-01\n  2.10638776e-01  2.62660325e-01  5.09385318e-02  2.88501561e-01\n -6.37321472e-01  6.23702168e-01 -8.83168876e-02 -2.69450277e-01\n -2.94804573e-01  6.50748685e-02 -2.47442946e-01 -1.98415965e-01\n -1.04155630e-01  5.22355080e-01  7.85856664e-01  1.41525909e-01\n -8.02745581e-01  8.41885090e-01  1.35598511e-01 -1.47268504e-01\n -4.51731235e-01  2.38713264e-01  1.72203064e-01 -5.89873970e-01\n -3.36834252e-01 -7.67290354e-01  1.42329717e+00 -2.08906010e-01\n  5.91147095e-02 -2.45602220e-01 -1.50525403e+00 -2.95711249e-01\n -5.96340671e-02  6.14629030e-01  7.73849249e-01 -1.13466918e-01\n  4.49402988e-01  1.01507999e-01  5.29381871e-01 -5.77676773e-01\n -7.79248357e-01 -1.14310011e-01  1.16254941e-01  4.90373999e-01\n -8.62622917e-01 -2.39801645e-01 -5.46985388e-01 -5.28792515e-02\n  2.31120735e-02  2.17449367e-01  5.12789041e-02 -2.58537173e-01\n  8.63555968e-02 -8.76534805e-02  8.14579949e-02  3.02967787e-01\n -1.56380534e-01 -4.32789028e-01 -5.78028023e-01  2.44673193e-02\n  1.78460076e-01  5.11669278e-01  1.03978723e-01  1.00879498e-01\n -7.13542998e-02 -7.90305972e-01  4.63027172e-02  2.93547541e-01\n  1.27802998e-01  3.43120039e-01  2.05324441e-02  2.84306794e-01\n  2.89327621e-01  3.95791590e-01  3.73389006e-01 -8.38854790e-01\n  5.65530539e-01 -1.43015251e-01  7.25901127e-01 -7.58063644e-02\n -4.82635558e-01 -1.71887755e-01  1.19470835e-01 -3.82376957e+00\n -3.29945534e-02  2.39454299e-01 -9.17973161e-01 -1.19358790e+00\n -1.40262917e-01 -3.06673378e-01 -3.57306600e-02  5.67342401e-01\n  5.53788245e-01 -3.05451691e-01  2.34471038e-02 -8.17282557e-01\n -7.03833103e-02 -3.33367825e-01 -9.10358131e-02 -1.41221225e-01\n -4.66634184e-01  2.01755300e-01 -9.77630138e-01 -6.10499501e-01\n -2.88223743e-01 -2.41301984e-01 -5.05397804e-02  2.18746811e-02\n  4.19649243e-01  3.77107143e-01 -3.55830103e-01 -4.60360795e-01\n  2.12669954e-01 -5.73561370e-01  2.29938477e-01  1.27040997e-01\n  1.31121993e-01 -7.41837323e-02  1.27307534e-01 -4.18988131e-02\n -1.85626924e-01 -4.90749776e-01  8.56447071e-02  4.35472459e-01\n -9.59565878e-01 -3.33885491e-01 -3.17656964e-01 -1.87376827e-01\n -5.58400869e-01 -1.25495613e-01  1.68173879e-01 -3.95721376e-01\n  5.57306886e-01  8.58730823e-02 -5.17381251e-01  1.51354194e-01\n  2.08311886e-01  5.60812652e-02 -2.10232496e-01  7.72801042e-02\n  5.90309739e-01  1.01383686e-01 -2.65935719e-01 -3.37760746e-02\n  3.50589335e-01  6.95693418e-02  3.08039904e-01 -4.38601613e-01\n  1.62774116e-01  2.90677547e-01 -3.00721437e-01  8.02870274e-01\n -1.08405024e-01  7.74770975e-03  2.14484870e-01  4.70519289e-02\n  1.79722905e-04  4.48875010e-01 -2.93833017e-03 -2.55855292e-01\n  1.69065952e-01  7.91723967e-01  5.11812389e-01  2.08838046e-01\n  1.84418797e-01 -1.88437462e-01  2.05016658e-01 -3.45742136e-01\n  2.00999677e-02  2.43428886e-01  3.79084855e-01 -2.94676721e-01\n -4.31102991e-01  6.65825844e-01  4.46503341e-01  1.80948675e-01\n  3.58409584e-02  6.83234632e-02 -5.20146310e-01 -1.01899195e+00\n -3.89677048e-01 -1.31536260e-01 -8.74132276e-01  1.70349985e-01\n -8.68105769e-01  1.90784812e-01  7.07147866e-02  1.27719924e-01\n  9.17258799e-01  4.54056710e-01  4.11354661e-01  3.57110858e-01\n -4.51355428e-01 -4.11919355e-02  5.41745424e-01 -5.81226110e-01\n  1.84205577e-01 -2.19029292e-01 -4.66775447e-01 -4.43018615e-01\n -1.03335977e-02  1.10328771e-01 -3.27182055e-01  3.45924050e-02\n -1.98118985e-02  2.46943593e-01  4.28957194e-01  1.24248767e+00\n -1.56110406e-01 -5.63106835e-02 -2.62468934e-01  2.14948341e-01\n -4.37153876e-03 -3.04554850e-01 -4.17582601e-01 -4.17710729e-02\n -3.27264011e-01  2.15785950e-01  1.23743236e-01 -1.92784309e-01\n -2.15998232e-01 -3.49469155e-01  6.19026572e-02  4.14889812e-01\n -3.01422566e-01 -1.40629113e-02  5.21498144e-01 -3.72323841e-02\n  3.29159021e-01 -5.82294390e-02  4.43923324e-01 -5.19273043e-01\n -1.64891541e-01 -4.22290266e-01 -4.42060053e-01 -3.24906349e-01\n -6.41744852e-01 -7.30353117e-01 -2.01044261e-01  3.05662543e-01\n  2.87258178e-02 -3.91333699e-01  5.51044106e-01  7.77103230e-02\n  6.75567269e-01 -9.85405296e-02 -7.99551159e-02 -4.86364275e-01\n -5.23354769e-01  1.89513981e-01 -2.04472587e-01 -5.77106178e-02\n  1.24710441e-01 -1.53319836e-01  5.07028878e-01 -2.69676954e-01\n  4.96616006e-01 -4.40401509e-02  9.66072083e-04  7.72398114e-01\n  1.21470504e-01  2.70284981e-01  8.15782845e-02 -4.56394523e-01\n -1.21836722e-01 -3.39236736e-01 -1.81957257e+00  6.54094875e-01\n  4.28884506e-01 -1.23839796e-01  2.20528841e-02  9.52061564e-02\n -4.05039012e-01 -2.64891535e-01 -5.53577662e-01  9.01789844e-01\n  2.77280360e-01  8.21975619e-03 -1.31937742e-01 -5.17304659e-01\n -4.53669131e-01 -5.53604960e-01  7.82254457e-01  3.36900592e-01\n  1.80063263e-01  5.43156385e-01 -3.78008723e-01  1.11389279e-01]",
         "36617",
         "325448604",
         "27097122"
        ],
        [
         "46",
         "11951535",
         "Костюм классический TheCaSH Базовая коллекция",
         "[{'attribute_name': 'Type', 'attribute_value': 'Костюм классический', 'attribute_isaspect': False, 'attribute_showascharacteristic': True}\n {'attribute_name': 'Brand', 'attribute_value': 'TheCaSH', 'attribute_isaspect': False, 'attribute_showascharacteristic': True}\n {'attribute_name': 'Annotation', 'attribute_value': 'Женский брючный костюм тройка — это идеальное сочетание делового стиля и элегантного вечернего образа. Комплект с легким пиджаком, создает стильный наряд для любого случая. Трендовое изделие со штанами палаццо и жилетом подойдет на праздничные мероприятия, а также подчеркнет вечерний, школьный и офисный лук. Особое внимание уделено комфорту: широкий тканевый костюм из вискозы и эластана представлен в вариантах больших размеров, что дает возможностью выбрать фасон оверсайз и создать модный повседневный образ на полных и беременных женщин. <br/><br/>Классический костюм на пуговицах станет отличным выбором на каждый день. Однотонный базовый набор подходит как для школы, так и для работы в офис, подчёркивая индивидуальность. Одежда адаптирована для девушек любого возраста благодаря разнообразию фасонов. Свободного кроя штаны с карманами и высокой посадкой подойдут как для высокого роста, так и для невысоких. Также они подходят для девочек-подростков. Одеяние так же предоставлено в размерах плюс сайз. Молодежный нарядный комплект легко впишется в любой гардероб и подойдет для осени и зимы. Красивый и строгий образ, универсальный для любого праздника. Праздничный деловой костюм - это идеальный выбор взрослых женщин, которые ценят стиль и удобство. Комплект состоит из длинного двубортного жилета на пуговицах. Универсальный дизайн позволяет использовать для любого вида торжества: будь то выпускной или новый год. Строгость наряда также подчеркнёт статус учителя. Удобные штаны на молнии с прямыми штанинами, создают современный образ y2k. <br/><br/>Благодаря дышащим премиум материалам, кэжуал наряд идеален для прогулок или на корпоратив. Жилетный стиль добавляет элегантности, делая официальное одеяние неотъемлемой частью вашего гардероба. Настоящая классика, которая никогда не выйдет из моды.', 'attribute_isaspect': False, 'attribute_showascharacteristic': True}\n {'attribute_name': 'ColorBase', 'attribute_value': 'серый', 'attribute_isaspect': True, 'attribute_showascharacteristic': True}\n {'attribute_name': 'ColorName', 'attribute_value': 'серый', 'attribute_isaspect': True, 'attribute_showascharacteristic': True}\n {'attribute_name': 'RussianSizeClothes', 'attribute_value': '48', 'attribute_isaspect': True, 'attribute_showascharacteristic': True}\n {'attribute_name': 'SizeManufacturer', 'attribute_value': '48/170-180', 'attribute_isaspect': True, 'attribute_showascharacteristic': True}\n {'attribute_name': 'SizeM', 'attribute_value': '40', 'attribute_isaspect': False, 'attribute_showascharacteristic': True}\n {'attribute_name': 'SexMaster', 'attribute_value': 'Женский', 'attribute_isaspect': False, 'attribute_showascharacteristic': True}\n {'attribute_name': 'HeightM', 'attribute_value': '173 см', 'attribute_isaspect': False, 'attribute_showascharacteristic': True}\n {'attribute_name': 'SizeGrid', 'attribute_value': 'Универсальная размерная сетка: Женская одежда', 'attribute_isaspect': False, 'attribute_showascharacteristic': False}\n {'attribute_name': 'Material', 'attribute_value': 'Костюмная ткань', 'attribute_isaspect': False, 'attribute_showascharacteristic': True}\n {'attribute_name': 'Composition', 'attribute_value': 'вискоза - 72%;лен - 8%;эластан - 20%', 'attribute_isaspect': False, 'attribute_showascharacteristic': True}\n {'attribute_name': 'InnerMaterial', 'attribute_value': 'Вискоза', 'attribute_isaspect': False, 'attribute_showascharacteristic': True}\n {'attribute_name': 'StyleApparel', 'attribute_value': 'Повседневный', 'attribute_isaspect': False, 'attribute_showascharacteristic': True}\n {'attribute_name': 'Season', 'attribute_value': 'На любой сезон', 'attribute_isaspect': False, 'attribute_showascharacteristic': True}\n {'attribute_name': 'clothescut', 'attribute_value': 'оверсайз', 'attribute_isaspect': False, 'attribute_showascharacteristic': True}\n {'attribute_name': 'DetailsClothes', 'attribute_value': 'Декоративные пуговицы', 'attribute_isaspect': False, 'attribute_showascharacteristic': True}\n {'attribute_name': 'DetailsClothes', 'attribute_value': 'Карманы', 'attribute_isaspect': False, 'attribute_showascharacteristic': True}\n {'attribute_name': 'SleeveLength', 'attribute_value': 'Длинный', 'attribute_isaspect': False, 'attribute_showascharacteristic': True}\n {'attribute_name': 'FilterSizeINT', 'attribute_value': 'L', 'attribute_isaspect': False, 'attribute_showascharacteristic': False}\n {'attribute_name': 'Name', 'attribute_value': 'Костюм женский брючный тройка с жилеткой и пиджаком, брюки палаццо оверсайз', 'attribute_isaspect': False, 'attribute_showascharacteristic': False}\n {'attribute_name': 'ColorBase_Forfilter', 'attribute_value': 'Серый', 'attribute_isaspect': False, 'attribute_showascharacteristic': False}]",
         "[ 1.06445216e-01  4.70761925e-01  6.29615486e-02  2.44084060e-01\n  7.63619170e-02 -3.91030073e-01 -1.96933314e-01  2.38084584e-01\n  1.73566028e-01 -1.39913112e-02 -4.37519908e-01  4.20594633e-01\n  1.18497476e-01  1.25308335e-02 -1.44386023e-01  1.46088943e-01\n -2.68638313e-01 -1.96702912e-01  2.12163031e-01 -4.26466942e-01\n -2.24139765e-01  1.40028939e-01 -1.61051080e-01  2.04907358e-02\n  8.07428956e-02 -3.14086854e-01 -1.60815105e-01  3.36057842e-02\n -4.99962270e-02  5.52169979e-02 -5.43594241e-01  3.65297973e-01\n -7.04055279e-03 -2.17101723e-02 -1.85177162e-01  5.77910900e-01\n  2.01280713e-02 -8.44491571e-02  1.20656043e-01  2.91334480e-01\n -1.76377594e-01 -1.74211562e-01  2.44911492e-01  6.23426437e-02\n -6.02287203e-02 -5.53528488e-01 -1.24512926e-01  3.29281181e-01\n  1.65622741e-01  2.02899203e-01 -2.42425948e-01  4.25956666e-01\n  9.30267125e-02  1.35778159e-01  6.49591327e-01  5.31933784e-01\n  2.09070593e-02  1.37807116e-01  7.42140055e-01  2.33512998e-01\n -5.02232552e-01 -2.82586247e-01  4.52120870e-01  1.18682608e-02\n -1.68706477e-02  1.24125183e-03 -1.53592229e-01 -3.93159091e-02\n -1.95628658e-01 -5.46682954e-01 -5.14408231e-01 -1.06056094e-01\n  1.05415970e-01  5.14696956e-01 -1.23012722e-01 -6.94917440e-01\n  9.01206315e-01  6.50335312e-01 -2.95026004e-01 -5.40191412e-01\n -3.19497645e-01 -5.98153293e-01 -3.02497983e-01 -2.95535386e-01\n  2.75998741e-01 -1.08737208e-01 -6.99266315e-01 -8.87206495e-02\n  2.82116055e-01 -6.42157853e-01  5.98432124e-01  1.41247690e-01\n -3.54937315e-02  2.63376325e-01 -1.37104630e-01  2.95975327e-01\n -1.40965968e-01 -5.29816747e-02  1.58874422e-01 -9.06558335e-02\n -2.74182767e-01  3.51708531e-02  3.68745923e-01  9.59055126e-02\n  2.06965953e-01  1.32007852e-01 -4.54326987e-01 -1.29642010e+00\n  4.16265547e-01 -1.77271664e-01 -7.72715032e-01 -3.21696818e-01\n  1.81104273e-01 -6.57797158e-02 -1.86012864e-01 -4.16809410e-01\n -4.91712153e-01  9.54241455e-02  4.24393117e-01 -4.25423682e-03\n  1.40350237e-01  6.87088907e-01  5.19170582e-01  1.55250877e-02\n  6.94762468e-02  1.18854329e-01  1.10158220e-01 -3.91937822e-01\n  3.66792709e-01  2.42928267e-01  2.10269600e-01 -5.47425270e-01\n -4.24802482e-01 -1.52556658e-01 -8.20128798e-01 -7.67668545e-01\n  4.31585848e-01  1.69365495e-01 -1.60144925e-01  3.79992843e-01\n  7.56941736e-03  2.60072708e-01  1.42565101e-01  2.75797397e-02\n -2.64175057e-01  9.28910732e-01  1.64180428e-01  1.47050723e-01\n  2.27423340e-01  6.15657568e-01 -3.46399397e-02 -3.58160913e-01\n  4.05174065e+00 -1.40756413e-01 -4.21939641e-02  1.53038234e-01\n -5.50893843e-01 -8.84310454e-02 -1.52391747e-01  3.13014925e-01\n  3.93547237e-01  7.82856420e-02  2.35543549e-02  9.72768739e-02\n  1.31790042e-01 -1.98987037e-01 -1.53205603e-01 -8.78819823e-01\n -6.52590394e-02 -2.36047506e-01  4.62134391e-01  1.73897594e-01\n -7.80340731e-02  2.87992418e-01  5.16830266e-01 -1.55786014e+00\n  4.88722682e-01  3.14695656e-01 -1.09504253e-01  3.45164448e-01\n -5.52889228e-01 -6.96659625e-01 -8.22078809e-02 -2.62734890e-02\n  1.08446568e-01 -4.20271307e-01  6.24410987e-01  3.27534854e-01\n -4.23111469e-01 -1.17930248e-01  9.56254303e-02  7.18925357e-01\n -3.74786079e-01 -2.11672783e-01 -2.00369790e-01  4.04883921e-01\n -4.87078801e-02  2.42056698e-01  1.46166623e-01  1.43212974e-02\n  5.84864974e-01 -3.47700596e-01  2.12107033e-01 -4.63115364e-01\n -2.55135298e-01 -2.23653764e-02  4.46928382e-01 -7.46243894e-01\n  1.94048107e-01 -5.71622699e-03 -7.22701192e-01 -9.27568734e-01\n  1.76635742e-01 -8.23835358e-02  5.93000114e-01  3.40569705e-01\n -3.72895002e-02  6.11085892e-01 -1.96324512e-02  2.28536665e-01\n  4.69543129e-01  2.19414800e-01 -3.36667478e-01 -1.19839728e-01\n  6.13512099e-01  1.83162093e-01 -5.84158778e-01 -7.47898370e-02\n  6.45046160e-02 -3.51184607e-01  8.90728831e-01 -6.47853374e-01\n  1.63134724e-01  1.07980631e-01 -1.91375256e-01 -3.63178253e-02\n -8.21877271e-02 -2.07083225e-02  3.86734128e-01  1.06660880e-01\n -1.90458715e-01  7.08908141e-02  9.12472248e-01  3.02702248e-01\n  1.56269312e-01 -1.84565648e-01 -1.97214037e-01 -3.59876186e-01\n  1.13606602e-01  1.31526637e+00  4.81757909e-01 -3.31697583e-01\n -1.56020358e-01 -5.14413893e-01 -6.38865769e-01 -2.19484881e-01\n  1.28494874e-02 -3.46911550e-01 -1.35033751e+00 -9.34920609e-01\n  9.33759212e-02 -4.92083788e-01  3.80563974e-01  3.49913239e-02\n  7.15044141e-03  5.03483713e-02  3.09744239e-01  3.17202002e-01\n  1.32277817e-01 -4.66777503e-01 -7.39598632e-01 -2.35706225e-01\n -1.33186236e-01  1.62027866e-01  2.18246058e-02 -1.52605385e-01\n  4.52105224e-01 -1.55689463e-01  3.60572398e-01  4.32462752e-01\n  1.24580435e-01 -3.44690681e-01 -2.66220868e-01  4.22666907e-01\n -4.90767092e-01  3.68572891e-01  7.03023911e-01 -2.90548354e-02\n  2.35364899e-01 -1.28833964e-01  1.54646203e-01  2.07820281e-01\n  2.42666170e-01  3.91239107e-01  3.74545455e-02  2.41797209e-01\n  3.85074168e-02 -1.09125718e-01  7.48586297e-01  2.16396302e-02\n  1.11014485e+00 -1.21035278e-02  3.52129072e-01 -5.36656827e-02\n  3.12905133e-01 -1.04801722e-01 -3.43407929e-01 -4.04387331e+00\n -2.68347800e-01  1.83274925e-01 -1.70162827e-01 -6.59827173e-01\n  2.92938143e-01 -5.65191388e-01  6.67107701e-01  2.14050680e-01\n  3.79743636e-01 -5.19736707e-01  1.85725123e-01 -3.93465638e-01\n  2.65173286e-01  2.17938960e-01  2.88899064e-01 -2.38686129e-01\n -4.96528625e-01 -3.14514399e-01 -4.89787996e-01 -4.43273902e-01\n  5.45875132e-02  1.20687351e-01  3.03592086e-02 -5.71955740e-02\n  5.10768473e-01  8.39805156e-02  6.13769293e-02 -2.55870938e-01\n  4.55119252e-01 -1.55532956e-01 -5.77698350e-01 -2.32971713e-01\n  6.45398974e-01 -9.58287865e-02  1.65276080e-01  7.03185558e-01\n -4.73409414e-01  7.83269778e-02  3.12430710e-01 -2.08323449e-02\n -1.98823571e+00 -2.10592881e-01  1.55850196e+00 -2.55259067e-01\n -1.83272198e-01 -1.98104292e-01  2.40745991e-01  3.08266044e-01\n -2.44716927e-01  6.33980513e-01 -2.88120098e-02  2.43330032e-01\n -4.08729702e-01  1.10709593e-02 -4.21410352e-01  9.41093192e-02\n  9.06850845e-02  3.95555973e-01  1.11941606e-01  4.84258145e-01\n -1.94691122e-01  8.15886140e-01 -2.74243444e-01  4.87773418e-02\n  3.60159099e-01 -3.23544919e-01 -1.53548181e-01  5.43413401e-01\n -5.08511066e-01  1.09252080e-01  2.81426609e-01  1.63866222e-01\n  2.38942936e-01  3.70975226e-01 -3.92199993e-01 -3.59195054e-01\n  3.47229183e-01  9.22042608e-01 -3.70886117e-01 -1.52084678e-02\n  1.29319042e-01  4.10557128e-02  1.01325393e-01 -4.94412929e-02\n -4.44975346e-02 -2.52210051e-01  1.28424793e-01 -2.25357898e-02\n -9.64438736e-01 -3.87577206e-01  2.45838776e-01  1.79953963e-01\n -3.58452260e-01 -2.35479072e-01 -5.68339586e-01 -3.26227486e-01\n  1.80438846e-01 -6.18359819e-03  2.14876488e-01 -6.81530952e-01\n -2.07012683e-01  3.05353552e-01 -6.84560895e-01 -1.33876488e-01\n  6.91754639e-01  1.85410723e-01 -3.82333517e-01  6.63475156e-01\n -5.30185938e-01 -2.52503872e-01 -2.65594542e-01 -1.87501520e-01\n -2.11425304e-01  2.18922436e-01 -3.40932757e-01 -7.31759787e-01\n -6.08569145e-01 -3.93696129e-04  2.15789557e-01  9.57129002e-02\n -1.93564519e-01 -1.17916986e-01 -3.10833722e-01  2.03827620e+00\n -2.55303085e-01  3.34905684e-02  5.63217342e-01 -2.75287211e-01\n  5.40656686e-01  1.26626283e-01  9.34918672e-02 -1.11341715e-01\n -3.31902683e-01  2.85413861e-03  1.20541096e-01  7.64251128e-02\n -4.99635577e-01 -1.87514067e-01 -5.24870098e-01 -8.97119343e-02\n  7.25512385e-01  2.27280498e-01 -1.90995008e-01 -8.98505151e-02\n -1.47897497e-01  5.93621254e-01  7.19809011e-02 -1.58436608e+00\n -1.91152483e-01  2.19259515e-01 -3.29542547e-01  3.78819332e-02\n -1.23600617e-01 -2.34924763e-01 -5.36517560e-01 -6.76323175e-02\n  6.99441075e-01 -1.15809359e-01  5.65262198e-01  6.17487669e-01\n  1.33934274e-01 -4.67251003e-01 -4.82470810e-01 -4.63566065e-01\n -1.19308956e-01  2.75824755e-01 -3.30723822e-02  7.12080717e-01\n  3.97739351e-01  5.75097442e-01 -1.41049802e-01 -5.68387389e-01\n  4.63521123e-01  8.26722324e-01 -1.25687182e-01 -9.06652063e-02\n -1.99097559e-01  2.07408279e-01 -2.08671346e-01 -1.07456580e-01\n -5.64993918e-01 -2.36489624e-01 -2.63497424e+00  2.03084290e-01\n -1.80771157e-01  4.49832380e-01 -2.24783957e-01  8.21271896e-01\n  2.85267949e-01  2.46978462e-01 -1.56510770e-01  4.41189170e-01\n  3.58463049e-01  5.98189384e-02  2.23878995e-01 -6.93045318e-01\n  2.09705114e-01 -2.00636804e-01  2.68358499e-01  8.34986329e-01\n -1.32374346e-01 -1.66981518e-02 -6.67852163e-02  3.17165971e-01]",
         "7536",
         "183868539",
         "14785620"
        ],
        [
         "47",
         "12037224",
         "Колготки belle you, 1 шт",
         "[{'attribute_name': 'Type', 'attribute_value': 'Колготки', 'attribute_isaspect': False, 'attribute_showascharacteristic': True}\n {'attribute_name': 'Brand', 'attribute_value': 'belle you', 'attribute_isaspect': False, 'attribute_showascharacteristic': True}\n {'attribute_name': 'Annotation', 'attribute_value': 'Прозрачные колготки из шелковистой микрофибры с оригинальным рисунком «гусиная лапка». Модель имеет гладкие шортики, усиленный мысок и мягкую ластовицу для дополнительного комфорта.<br/><br/>При выборе размера, советуем ориентироваться на ваш рост и обхват бёдер: Размер 2: рост 150-165 см, обхват бёдер 90-94 см. Размер 3: рост 165-175 см, обхват бёдер 94-98 см. Размер 4: рост 175-180 см, обхват бёдер 98-102 см. Обратите внимание при склонности к аллергии: на завершающем этапе производства мы обрабатываем изделия нашим фирменным кондиционером. При покупке изделия сохраняют аромат кондиционера, который исчезнет после стирки.', 'attribute_isaspect': False, 'attribute_showascharacteristic': True}\n {'attribute_name': 'AgeO', 'attribute_value': 'Взрослая', 'attribute_isaspect': False, 'attribute_showascharacteristic': False}\n {'attribute_name': 'ColorBase', 'attribute_value': 'черный', 'attribute_isaspect': True, 'attribute_showascharacteristic': True}\n {'attribute_name': 'ColorName', 'attribute_value': 'черный', 'attribute_isaspect': True, 'attribute_showascharacteristic': True}\n {'attribute_name': 'RussianSizeClothes', 'attribute_value': '2', 'attribute_isaspect': True, 'attribute_showascharacteristic': True}\n {'attribute_name': 'SizeM', 'attribute_value': '40-42', 'attribute_isaspect': False, 'attribute_showascharacteristic': True}\n {'attribute_name': 'SexMaster', 'attribute_value': 'Женский', 'attribute_isaspect': False, 'attribute_showascharacteristic': True}\n {'attribute_name': 'HeightM', 'attribute_value': '167 см', 'attribute_isaspect': False, 'attribute_showascharacteristic': True}\n {'attribute_name': 'SizeGrid', 'attribute_value': 'Универсальная размерная сетка: колготки', 'attribute_isaspect': False, 'attribute_showascharacteristic': False}\n {'attribute_name': 'Material', 'attribute_value': 'Полиамид', 'attribute_isaspect': False, 'attribute_showascharacteristic': True}\n {'attribute_name': 'Composition', 'attribute_value': '90% полиамид, 10% эластан', 'attribute_isaspect': False, 'attribute_showascharacteristic': True}\n {'attribute_name': 'StyleApparel', 'attribute_value': 'Повседневный', 'attribute_isaspect': False, 'attribute_showascharacteristic': True}\n {'attribute_name': 'Season', 'attribute_value': 'На любой сезон', 'attribute_isaspect': False, 'attribute_showascharacteristic': True}\n {'attribute_name': 'NumItemsDcml', 'attribute_value': '1', 'attribute_isaspect': True, 'attribute_showascharacteristic': True}\n {'attribute_name': 'Name', 'attribute_value': 'Колготки с рисунком belle you, женские', 'attribute_isaspect': False, 'attribute_showascharacteristic': False}\n {'attribute_name': 'InnerMaterial', 'attribute_value': 'Полиамид', 'attribute_isaspect': False, 'attribute_showascharacteristic': False}\n {'attribute_name': 'InnerMaterial', 'attribute_value': 'Эластан', 'attribute_isaspect': False, 'attribute_showascharacteristic': False}\n {'attribute_name': 'TypeSport', 'attribute_value': 'Танцы', 'attribute_isaspect': False, 'attribute_showascharacteristic': False}\n {'attribute_name': 'ColorBase_Forfilter', 'attribute_value': 'Черный', 'attribute_isaspect': False, 'attribute_showascharacteristic': False}]",
         "[-2.54765972e-02  5.65461397e-01  2.77509093e-01  2.33648658e-01\n  4.45873439e-01 -1.90183550e-01  1.49082616e-01  3.16246331e-01\n  7.41908491e-01  1.69955939e-02 -1.60839766e-01  7.70764887e-01\n -8.24218839e-02 -2.43930221e-02 -5.07399261e-01  1.49253920e-01\n -9.84141946e-01  1.49563402e-01 -4.35292944e-02 -1.41054645e-01\n  1.76352814e-01 -5.42802572e-01  2.72797227e-01  2.52816945e-01\n -3.86131883e-01 -9.00609434e-01  3.05194199e-01  7.40902066e-01\n -6.65972590e-01 -6.29947037e-02 -6.30752027e-01  2.72108793e-01\n  2.13508278e-01 -5.94269097e-01 -1.81717932e-01  8.44062448e-01\n -2.33828008e-01 -1.73332334e-01 -3.46389890e-01  2.73363501e-01\n  1.58416688e-01  2.21662894e-02  5.20864069e-01 -5.64381838e-01\n  7.60890543e-01 -1.92971185e-01  1.67266831e-01 -1.90120399e-01\n  3.46758962e-01  7.59078935e-02  1.54704258e-01  1.76997811e-01\n  1.14578128e-01  3.19788605e-01 -6.00660443e-02  6.31419063e-01\n -3.26272905e-01 -8.39915097e-01  6.23975575e-01  2.00084448e-01\n  5.38239717e-01 -6.63574338e-01  1.00312185e+00  9.67407227e-03\n -1.62737563e-01  5.54383039e-01 -5.92952847e-01 -9.63795543e-01\n  8.63313675e-04 -9.44540203e-02 -2.90998459e-01  1.21167266e+00\n  2.89645642e-02  9.00027096e-01  5.28697819e-02 -5.38031697e-01\n  1.48974419e-01 -2.79305756e-01  3.17355618e-02 -1.95486531e-01\n -1.13265634e-01  1.15255415e-01  3.36071849e-03  1.13968417e-01\n  1.09215587e-01  3.84188563e-01 -2.28138253e-01  1.57392025e-02\n  4.77248430e-03  2.55608298e-02  3.58768404e-01 -2.73603648e-01\n -1.39383674e-01 -1.74793869e-01  4.53382283e-02 -1.06605589e-01\n  5.20076230e-03  3.11094940e-01  4.62686360e-01  3.55443060e-02\n  1.83095828e-01  1.80737078e-01  3.65443006e-02  2.06504911e-01\n  1.84381500e-01 -1.03357524e-01 -4.25519049e-01 -3.47339898e-01\n  1.42427474e-01 -7.23123252e-02 -5.87017417e-01 -2.79425204e-01\n -3.43817294e-01 -2.62979269e-01 -3.85836810e-01 -4.86941069e-01\n  5.49125671e-01  3.43174636e-01 -6.04347363e-02  5.66922128e-02\n  5.53607047e-02 -2.56584316e-01  3.84963118e-02 -2.37296760e-01\n  2.00598985e-01  4.88084704e-01  2.83065200e-01  4.29060757e-02\n -2.98648864e-01  1.11650482e-01  8.70384723e-02 -1.20459825e-01\n -3.95276695e-01 -1.56429529e-01 -6.09168887e-01 -3.31017971e-02\n -2.18382850e-02 -2.59372473e-01  9.33642685e-02  5.90856075e-01\n  5.52753031e-01  1.71606988e-01 -2.49085948e-03  2.20199153e-02\n -2.28321835e-01 -2.83188105e-01  2.64358997e-01  8.09271157e-01\n  4.52654779e-01  1.16488822e-01 -1.83501989e-01 -1.22189857e-01\n  3.52128506e+00 -1.12429261e-01 -4.53965455e-01  3.89320463e-01\n -7.27016330e-02 -1.89241469e-02  2.16453254e-01  3.58163655e-01\n  4.85278338e-01  2.85507321e-01  2.55550086e-01  5.20713329e-01\n -2.45771915e-01  1.87146127e-01 -4.19208497e-01 -4.08053875e-01\n  6.06713891e-02 -2.85182893e-01  4.70203012e-01  2.34984756e-01\n -7.90823400e-01  2.74147451e-01  2.20952526e-01 -1.07974434e+00\n  9.61056173e-01  1.31042957e-01 -1.12576222e+00  4.05244231e-01\n  5.80483675e-01 -3.66839588e-01  3.58991057e-01 -6.68967485e-01\n -4.95664999e-02  2.27097094e-01  3.89429301e-01 -4.69166368e-01\n  9.95991752e-02 -1.08096167e-01  1.51444003e-02 -1.74593896e-01\n -9.88668352e-02  3.18547428e-01 -3.54463965e-01  9.88351852e-02\n  5.38506508e-02 -1.59626156e-02 -2.55537152e-01  2.86743104e-01\n  2.96397746e-01 -5.02756715e-01 -6.75541833e-02  6.32796586e-02\n -1.80876613e-01 -4.65199202e-02  5.08699894e-01 -1.78065404e-01\n  2.18762994e-01 -7.84202397e-01 -4.46228176e-01 -1.12915754e-01\n  4.34506088e-02 -2.82991588e-01  6.94618374e-03 -6.54836446e-02\n  1.41767338e-01  9.12220359e-01 -1.86428428e-02  3.48929167e-01\n  1.44271359e-01  2.19935879e-01 -1.52163655e-01  4.81548578e-01\n  3.78187418e-01  4.23774302e-01  1.86795637e-01 -1.04847744e-01\n -1.17307827e-01 -4.47948843e-01 -8.06737766e-02  1.03240609e-01\n -9.16770697e-01  7.51602203e-02 -3.75925362e-01  2.48314962e-01\n -4.44468886e-01  1.77699924e-01 -1.27638817e-01  2.60092258e-01\n -4.95408326e-02  6.77603483e-01  3.94598007e-01  5.81273437e-03\n -1.94716394e-01 -5.78529477e-01 -1.62423141e-02  2.75640249e-01\n -2.51862317e-01  8.72797221e-02 -5.03783226e-02  8.20672750e-01\n -2.94616729e-01 -2.91333616e-01 -4.30014819e-01  1.70807868e-01\n  6.58348799e-02 -8.71556282e-01 -1.88203439e-01 -5.39480805e-01\n -5.96295059e-01 -2.10429922e-01  6.44432902e-02 -2.17215151e-01\n  9.02395993e-02  4.01449382e-01  2.02845335e-02  3.01028252e-01\n -1.72528550e-01 -4.96389896e-01 -1.11741936e+00  4.99543846e-02\n -2.14829430e-01 -3.01129460e-01 -1.64805308e-01  3.99130940e-01\n  3.27901870e-01 -8.64164606e-02  3.32734525e-01 -5.78611851e-01\n  1.01531506e+00  3.90284836e-01 -7.36264884e-02  1.42672986e-01\n  3.40503156e-02 -2.37930864e-02 -1.97484754e-02 -3.02800536e-01\n  9.51052830e-02 -6.61994815e-01  4.12244737e-01 -3.74092609e-01\n -2.04115510e-01  8.93354416e-03  1.38458490e-01  4.68785077e-01\n -6.92977965e-01 -4.72581029e-01 -3.15752864e-01 -4.33352560e-01\n  1.14853859e+00 -3.22987139e-01  3.14850509e-01  4.08245265e-01\n  9.35234189e-01  2.24222213e-01  9.82690156e-02 -3.50568676e+00\n -1.04662970e-01 -3.65437567e-01 -5.03949821e-01 -7.05376267e-02\n  3.72743249e-01  3.16005528e-01  3.71269703e-01  2.06008971e-01\n -1.26490831e-01 -4.64759022e-01  2.84652710e-02 -2.38440409e-01\n  1.02937773e-01  4.04498458e-01 -3.87743890e-01  7.32627511e-01\n -6.79140449e-01 -1.70876324e-01 -4.63013947e-01  5.61744571e-01\n -3.88527513e-01 -4.02603030e-01  7.19927192e-01  2.67166466e-01\n -2.05655545e-02 -1.19644754e-01  1.15610272e-01  3.79779696e-01\n  9.84762311e-02 -3.73546004e-01 -5.05688548e-01 -1.86826989e-01\n  1.29183725e-01  7.37810433e-01  1.59704089e-02  3.59514475e-01\n  2.08038658e-01  2.51010060e-05  4.64267135e-01  1.14307702e-02\n -1.27543235e+00 -7.73653626e-01 -3.35730225e-01  9.80920866e-02\n -2.66311884e-01 -4.84017164e-01  9.29494426e-02 -4.45740521e-02\n -2.61152267e-01  1.86135292e-01  1.34324998e-01 -6.19423389e-03\n  2.71374941e-01 -8.75443071e-02  5.06566465e-01  9.12519246e-02\n  4.94959056e-02  1.61464512e-01  4.99780059e-01  4.10050750e-01\n  5.76098442e-01  4.01731819e-01  5.32723546e-01  2.37780809e-02\n -2.82669842e-01  2.43213475e-01 -4.64080036e-01  1.84598494e+00\n -1.99195623e-01 -1.58307269e-01 -6.38721287e-02  1.04698151e-01\n -2.01049909e-01  1.07574284e-01  1.45145327e-01 -1.44753590e-01\n -1.21884644e-02  3.52346361e-01 -1.81811154e-01 -7.26863444e-01\n  5.68306386e-01 -3.30253720e-01  2.64372900e-02 -1.16626754e-01\n  3.59843671e-02  4.80555862e-01 -1.38717949e-01  6.73349574e-02\n  5.78817129e-02 -5.68754554e-01  2.81231612e-01  7.80847073e-01\n -2.30772927e-01  7.87575319e-02 -4.99843389e-01 -2.42670923e-01\n -8.28634501e-02 -4.78246808e-02 -2.45757684e-01 -9.54871058e-01\n  4.45486903e-02  1.83510676e-01  4.42773193e-01  3.92733291e-02\n -1.42528564e-02  2.76818514e-01  1.53611898e-01 -1.09543286e-01\n -7.19653726e-01  2.07419932e-01  2.12728977e-04 -1.15621656e-01\n -2.81932712e-01 -1.02297103e+00 -5.65319777e-01 -3.28938290e-02\n -4.41999525e-01  4.87653255e-01  4.43453550e-01  2.33338162e-01\n -1.39283240e-01 -4.17400897e-01 -5.73765218e-01  1.66253328e+00\n -2.21816629e-01  5.83605468e-01  1.68679953e-02 -3.72438997e-01\n -1.03120118e-01 -6.29890859e-02  1.64219111e-01 -4.15438533e-01\n  7.75329769e-02 -1.41419828e-01  3.12983453e-01 -3.85254622e-01\n  3.43416512e-01 -3.00842673e-01  2.63013899e-01 -8.18887353e-02\n -2.89524436e-01 -1.88122407e-01  3.74541372e-01 -9.45372581e-02\n  2.31755599e-01  5.33620864e-02 -2.51732826e-01 -8.76320422e-01\n  1.05656013e-01  2.21812755e-01 -9.58772898e-02  2.95134872e-01\n  4.54505026e-01  1.25635415e-02 -8.79960954e-02  7.05308914e-02\n  7.29627371e-01  8.26270282e-01 -4.00327712e-01  4.89509970e-01\n -1.27379492e-01 -8.51983726e-02 -4.58898038e-01  1.19475625e-01\n  3.58578295e-01  5.03589436e-02  5.27361870e-01 -2.60869414e-02\n -1.70184970e-01 -5.73357046e-02  1.09516717e-02 -6.42254204e-02\n -4.56714749e-01 -2.96846300e-01  4.51112747e-01  7.29553401e-04\n -3.99077475e-01 -6.37772605e-02  4.79464412e-01  3.91516566e-01\n  1.00793511e-01  4.84638065e-01 -1.73046899e+00  1.81194723e-01\n -1.95753098e-01  2.10387021e-01 -2.76251584e-02  7.66335368e-01\n -1.22931667e-01  1.24467082e-01 -2.52399772e-01  4.07992601e-01\n -1.09572500e-01 -3.46482158e-01  8.05998445e-01 -3.80159974e-01\n  6.23222888e-02  4.30515260e-02 -2.90489346e-01  5.88780701e-01\n  6.04510903e-02 -8.08643103e-02  1.12153992e-01 -5.68072915e-01]",
         "36470",
         "102008670",
         "34783909"
        ],
        [
         "48",
         "12126607",
         "LEADER Сумка дорожная",
         "[{'attribute_name': 'Type', 'attribute_value': 'Сумка дорожная', 'attribute_isaspect': False, 'attribute_showascharacteristic': True}\n {'attribute_name': 'Brand', 'attribute_value': 'LEADER', 'attribute_isaspect': False, 'attribute_showascharacteristic': True}\n {'attribute_name': 'ColorBase', 'attribute_value': 'черно-коричневый', 'attribute_isaspect': True, 'attribute_showascharacteristic': True}\n {'attribute_name': 'ColorName', 'attribute_value': 'черный', 'attribute_isaspect': True, 'attribute_showascharacteristic': True}\n {'attribute_name': 'SexMaster', 'attribute_value': 'Женский', 'attribute_isaspect': False, 'attribute_showascharacteristic': True}\n {'attribute_name': 'SexMaster', 'attribute_value': 'Мужской', 'attribute_isaspect': False, 'attribute_showascharacteristic': True}\n {'attribute_name': 'Name', 'attribute_value': 'LEADER Сумка дорожная спортивная багажная в самолет', 'attribute_isaspect': False, 'attribute_showascharacteristic': False}\n {'attribute_name': 'ColorBase_Forfilter', 'attribute_value': 'Коричневый', 'attribute_isaspect': False, 'attribute_showascharacteristic': False}]",
         "[ 3.39768827e-01 -3.88100892e-01 -3.90924037e-01  2.07165599e-01\n  1.60028040e-03 -6.30883574e-01  9.02016461e-02  7.44673312e-02\n  6.56329691e-02  1.08549684e-01 -2.81006157e-01 -1.39846966e-01\n -4.44168031e-01 -3.22140396e-01  2.14266613e-01  7.92257935e-02\n -8.18559587e-01 -2.34768689e-01  2.83504009e-01 -4.85336006e-01\n -3.53907257e-01  1.34867921e-01 -2.25973725e-01 -3.36640298e-01\n  3.47556412e-01 -6.50416374e-01  1.52535081e-01  2.80090094e-01\n -2.52669573e-01 -2.34051779e-01  1.31578267e-01  4.29797173e-03\n -4.20987070e-01  3.18486035e-01 -4.83095646e-05  4.98689145e-01\n  1.18837595e-01  3.55027407e-01 -2.60246664e-01  2.68601716e-01\n -1.62619010e-01 -1.44963115e-01  1.46880746e-02  2.77229607e-01\n -3.11302394e-01  7.39833117e-02 -4.72432911e-01 -3.25997174e-02\n  5.46063960e-01  1.26108930e-01  5.15852869e-01  1.60910368e-01\n -1.27347291e-01 -2.04029009e-01  5.76983765e-02  1.98989838e-01\n -2.56627500e-01  2.34105900e-01  3.57470602e-01  5.34438014e-01\n  4.31213379e-02 -5.84716499e-01 -3.69745940e-02  3.19958895e-01\n -2.96070397e-01  2.93309569e-01  6.83069110e-01 -1.85143992e-01\n -1.13894343e-02 -4.08730209e-02 -5.85097849e-01  2.92298079e-01\n -9.27350372e-02  4.74266082e-01  4.44811583e-01 -3.07209730e-01\n  1.08045667e-01  3.75415415e-01  1.33510172e+00  5.33244908e-02\n -7.14749217e-01  5.84300458e-02 -2.81293392e-01 -1.34282574e-01\n  2.92601645e-01 -7.09563047e-02 -8.61773640e-02  4.24858600e-01\n  4.57919598e-01 -1.48576558e-01 -1.09851152e-01 -1.48172811e-01\n -4.41377521e-01 -1.51931405e-01 -2.59503484e-01 -1.21018961e-01\n  1.08108021e-01 -3.23768482e-02  6.47509456e-01  2.52105176e-01\n -6.19664490e-01  2.51220822e-01  3.72774065e-01  3.66395235e-01\n  3.91928613e-01  3.83098423e-01 -1.84342310e-01 -1.01997364e+00\n  2.05511391e-01 -3.57926548e-01 -6.46724939e-01  1.40737057e-01\n -2.52665490e-01  2.99714267e-01  2.74442434e-01 -3.53982806e-01\n  1.04567480e+00  4.91489470e-02  1.90408021e-01 -4.24203217e-01\n -3.76966774e-01  3.38784993e-01  3.69032651e-01  5.85176289e-01\n  1.00117005e-01  2.65414417e-02 -3.42640042e-01  6.43045187e-01\n -1.89816788e-01 -3.53525043e-01 -2.91170448e-01  6.76774383e-02\n  4.02328938e-01 -1.71377614e-01  2.99753696e-02  7.64012039e-02\n  8.38986456e-01  1.36803389e-02  1.02698839e+00  4.02404040e-01\n -6.48972690e-02 -7.69171119e-02 -5.79745024e-02  3.66270900e-01\n  4.99736309e-01  8.27683985e-01 -2.30144054e-01  2.03738824e-01\n  3.59187424e-01 -5.98904788e-01 -5.35207689e-02 -6.16656542e-02\n  2.72878647e+00  2.48989135e-01 -2.93437600e-01  8.41119885e-02\n -8.79235268e-02  2.45501608e-01 -3.03395391e-02  2.49257118e-01\n -7.28899240e-02 -5.26455581e-01  2.13743925e-01  2.26333991e-01\n -5.55529445e-02  2.27847695e-01  9.65532511e-02 -1.67951807e-02\n  2.74816036e-01  4.45126742e-01  7.89682508e-01 -3.91461015e-01\n -3.04669216e-02  2.48944491e-01 -3.79751146e-01 -1.17234349e+00\n  4.33209613e-02 -4.57645655e-01 -1.24354386e+00 -4.82068360e-01\n -7.63711095e-01  2.27225125e-02 -1.07628614e-01  2.72536933e-01\n -3.46668005e-01  3.50496918e-02  1.99376345e-02 -1.78884208e-01\n  2.21561909e-01 -2.49099180e-01  1.77332878e-01  8.15901011e-02\n  9.74032432e-02  5.75549453e-02 -6.82134986e-01 -8.71815979e-02\n  2.15528905e-03  3.07515264e-04 -7.14790225e-01 -1.42824709e-01\n  7.08484650e-03  3.71850193e-01  1.41246557e+00  5.64836204e-01\n  2.21519351e-01  8.41715097e-01  1.75366729e-01 -2.85667479e-02\n  3.82846326e-01  4.18798387e-01  1.88784391e-01 -7.03544617e-01\n  7.59130865e-02 -6.82952851e-02 -5.79157948e-01  1.46628082e-01\n  1.28367335e-01 -2.39521444e-01 -2.28531897e-01  1.00633216e+00\n  3.97180557e-01  3.61988425e-01 -4.22375500e-02  3.77907678e-02\n  6.00933671e-01  6.61577135e-02  4.69024479e-01  9.98829007e-01\n -2.65728176e-01 -3.46806943e-02  5.60351491e-01  2.70806432e-01\n  1.34961367e-01  5.04146039e-01  4.59213048e-01  4.62297678e-01\n -7.97249913e-01 -1.96876004e-02  5.71483150e-02 -4.14475888e-01\n -4.48252231e-01  1.50972992e-01 -7.05522746e-02 -8.66102099e-01\n -9.93879437e-02 -1.85334712e-01 -2.60317251e-02 -5.86573243e-01\n -3.65877509e-01 -3.50837976e-01  8.94887149e-01 -7.33091384e-02\n  6.00809634e-01 -5.85240781e-01 -3.88505548e-01 -6.17469102e-03\n -7.93246746e-01 -3.27759415e-01  2.77818114e-01 -8.45638752e-01\n  4.79278624e-01  1.99580610e-01 -3.02441657e-01  1.70107186e-01\n  4.38188851e-01 -4.28938240e-01 -1.89153403e-01 -7.37156272e-02\n  2.27756262e-01 -1.55173540e-02 -5.89270532e-01  4.51118320e-01\n -5.40048219e-02  3.18041116e-01  2.03431606e-01  7.97323465e-01\n  2.37537950e-01  2.26402789e-01 -1.37143821e-01  1.03091753e+00\n  5.01619458e-01  7.64187336e-01 -9.63130891e-02 -6.16614163e-01\n -3.31732869e-01 -6.51677251e-01  7.40927875e-01  1.61467910e-01\n  4.94282514e-01 -1.71648294e-01  1.10540003e-01 -1.82725638e-01\n -3.64856660e-01  3.62975240e-01  1.82280540e-02  2.67921478e-01\n  2.76835620e-01 -1.07705384e-01 -3.46454144e-01 -4.56504881e-01\n -4.70502973e-02  1.53815746e-01 -8.93306553e-01  1.47568941e-01\n -1.34028292e+00  4.82985139e-01 -4.57089186e-01 -2.72230244e+00\n -1.78735107e-01  7.21064210e-02  1.35267824e-01  6.02056146e-01\n  2.08019912e-01  1.41880900e-01  5.97675443e-01 -2.93349713e-01\n  1.79725349e-01  9.08079073e-02 -6.17490351e-01  4.29078400e-01\n -5.33497036e-01  1.12021595e-01 -3.52382809e-01  5.06214261e-01\n -3.70215774e-01 -3.84145856e-01 -2.08394662e-01 -6.19984269e-02\n  5.81312776e-01 -3.95250201e-01 -2.01826498e-01 -1.40611470e-01\n  5.71459532e-01  2.93701887e-02  1.51704997e-02 -3.28832388e-01\n  2.93394178e-02 -3.21634293e-01 -6.28932491e-02 -3.32802236e-02\n  2.81497627e-01 -3.76111180e-01  5.05546033e-01 -5.10582983e-01\n -7.31465220e-03 -2.37085298e-02  1.83782801e-02  3.16459268e-01\n -1.94834161e+00  3.71425867e-01  5.53996086e-01 -2.90345013e-01\n  4.50269282e-01 -2.16441154e-02 -6.92074895e-01  2.92902887e-01\n -3.67793709e-01 -1.74093723e-01  3.40964317e-01  1.10803396e-01\n  8.54641199e-03 -8.80877823e-02  2.24126816e-01 -1.32079154e-01\n -1.97539985e-01  3.32638562e-01 -2.04981118e-01  4.82961267e-01\n -2.90331453e-01  2.85159312e-02  1.92252278e-01 -4.77417171e-01\n -8.44970703e-01 -2.02237844e-01 -2.32481420e-01  6.30759120e-01\n -3.33636194e-01  7.52909333e-02  2.63770640e-01  4.92620558e-01\n -5.38832992e-02 -1.60930261e-01  1.79577470e-01  1.18622236e-01\n  2.48350471e-01  1.10813928e+00  4.08821940e-01  1.62205786e-01\n -2.29462415e-01 -1.62431598e-01  5.46984315e-01 -8.35679173e-02\n -1.63315862e-01  4.18228388e-01  1.29162356e-01 -3.71616423e-01\n -2.40280688e-01 -3.42546165e-01  3.73418182e-02 -4.10070360e-01\n -5.50697185e-02  1.91596404e-01 -2.19863206e-01 -5.20932853e-01\n  1.17660373e-01  2.45239913e-01  2.90033579e-01 -1.86479032e-01\n -1.37618154e-01  2.41334260e-01 -3.23043823e-01  4.31808650e-01\n  7.67661095e-01  1.34657919e-01 -1.52561843e-01  2.85585135e-01\n -6.20205253e-02 -4.11762983e-01 -4.73303199e-01  4.66316342e-01\n -4.46167827e-01 -8.38044435e-02 -5.70512831e-01  6.46580875e-01\n  9.77360427e-01  1.19212791e-01  1.73883229e-01 -3.79928440e-01\n  5.33982337e-01  6.87622428e-01 -2.33176082e-01  2.88183659e-01\n -1.57609016e-01  4.73903492e-02  3.07513088e-01  1.54288217e-01\n -5.55566967e-01  1.07266486e+00  1.23150073e-01  2.07207024e-01\n -1.53738603e-01 -5.35305142e-01  1.25374854e-01  7.21407890e-01\n -9.56618935e-02  2.81460464e-01 -2.67366916e-01  3.78062367e-01\n -8.21577311e-02 -1.97095394e-01 -1.54134631e-01 -3.02868903e-01\n -4.78027463e-02  2.54075944e-01 -2.85444975e-01 -1.15358043e+00\n -5.04323125e-01  1.16405845e-01  6.10434771e-01 -3.92717510e-01\n -2.20185786e-01  5.41742206e-01 -1.25693619e-01  2.36437380e-01\n  3.69612336e-01 -2.11702436e-02 -8.70207846e-02  5.21424413e-01\n  4.50303793e-01  1.88345790e-01  3.03605437e-01  4.79304731e-01\n  4.63481933e-01  3.55725974e-01  1.78062946e-01 -3.16362828e-02\n -8.83767605e-02 -6.03656173e-02 -1.74690470e-01  4.97784019e-01\n  4.38574791e-01  4.50696528e-01 -2.31144577e-01 -3.24618876e-01\n -1.56709641e-01  1.30737782e-01  1.37651935e-01  5.60038149e-01\n -8.12351644e-01 -2.83451974e-01 -1.39469099e+00 -2.46467263e-01\n  1.36003539e-01  3.36571485e-01  4.43779409e-01 -4.38522547e-04\n  3.79216522e-01 -1.77960753e-01 -7.09691763e-01  7.19016671e-01\n  4.11295593e-01 -6.42451942e-02  4.05280828e-01 -5.88911533e-01\n  4.40208614e-02  2.14592725e-01 -3.81318659e-01  1.05089940e-01\n -2.30758160e-01 -1.19450152e-01 -2.98110008e-01  7.76070207e-02]",
         "7706",
         "105031475",
         "7844634"
        ],
        [
         "49",
         "12206762",
         "Футболка для малышей",
         "[{'attribute_name': 'Type', 'attribute_value': 'Футболка для малышей', 'attribute_isaspect': False, 'attribute_showascharacteristic': True}\n {'attribute_name': 'Brand', 'attribute_value': 'Нет бренда', 'attribute_isaspect': False, 'attribute_showascharacteristic': True}\n {'attribute_name': 'Annotation', 'attribute_value': 'Лонгслив для выполнен хлопка и украшен стильными набивными принтами. Легкий лонгслив - отличная альтернатива футболкам, если в них холодно, и джемперам, если в них слишком жарко. Прямая модель футболки с длинным рукавом со спущенной линией плеча хорошо сидит на фигурах разного типа, не сковывает движений. Вашему ребенку будет легко и комфортно в детском саду: мягкий трикотаж приятен к телу, гипоаллергенен, хорошо пропускает воздух, позволяя коже дышать.', 'attribute_isaspect': False, 'attribute_showascharacteristic': True}\n {'attribute_name': 'ColorBase', 'attribute_value': 'белый бриллиант', 'attribute_isaspect': True, 'attribute_showascharacteristic': True}\n {'attribute_name': 'RussianSizeClothes', 'attribute_value': '105', 'attribute_isaspect': True, 'attribute_showascharacteristic': True}\n {'attribute_name': 'SizeManufacturer', 'attribute_value': '110( Рост:  94-104CM)', 'attribute_isaspect': True, 'attribute_showascharacteristic': True}\n {'attribute_name': 'SexMaster', 'attribute_value': 'Девочки', 'attribute_isaspect': False, 'attribute_showascharacteristic': True}\n {'attribute_name': 'SizeGrid', 'attribute_value': 'Универсальная размерная сетка: детская одежда', 'attribute_isaspect': False, 'attribute_showascharacteristic': False}\n {'attribute_name': 'Material', 'attribute_value': 'Хлопок', 'attribute_isaspect': False, 'attribute_showascharacteristic': True}\n {'attribute_name': 'Composition', 'attribute_value': 'хлопок + Полиэстер', 'attribute_isaspect': False, 'attribute_showascharacteristic': True}\n {'attribute_name': 'StyleApparel', 'attribute_value': 'Повседневный', 'attribute_isaspect': False, 'attribute_showascharacteristic': True}\n {'attribute_name': 'Season', 'attribute_value': 'Лето', 'attribute_isaspect': False, 'attribute_showascharacteristic': True}\n {'attribute_name': 'SleeveLength', 'attribute_value': 'Короткий', 'attribute_isaspect': False, 'attribute_showascharacteristic': True}\n {'attribute_name': 'NumItemsDcml', 'attribute_value': '1', 'attribute_isaspect': False, 'attribute_showascharacteristic': True}\n {'attribute_name': 'Name', 'attribute_value': 'футболка для девочек', 'attribute_isaspect': False, 'attribute_showascharacteristic': False}\n {'attribute_name': 'ColorBase_Forfilter', 'attribute_value': 'Белый', 'attribute_isaspect': False, 'attribute_showascharacteristic': False}]",
         "[-3.26252729e-01 -9.03120935e-02 -1.29045963e+00  3.92866284e-01\n  5.75470626e-01 -3.52693439e-01  3.42680216e-02  1.44840688e-01\n  1.23079821e-01  4.21725899e-01  3.52342725e-02  2.98704267e-01\n -2.53248245e-01 -3.31191212e-01  2.92661756e-01  2.56902665e-01\n -5.33353448e-01 -1.55127600e-01  1.83156103e-01  1.69216216e-01\n -4.68771219e-01 -1.03367829e+00 -9.20261443e-02  1.49512202e-01\n  9.19445753e-02 -6.67897403e-01  2.57122815e-01  2.35719532e-01\n -1.98162541e-01  6.02307379e-01 -4.75193352e-01  6.09554112e-01\n -2.42884696e-01  9.61211249e-02  9.19122845e-02 -2.34667510e-01\n  1.14241898e-01  7.68070996e-01 -5.67921162e-01  1.92395732e-01\n  1.09882198e-01 -1.90375388e-01  5.47028363e-01  4.26525116e-01\n -7.85051823e-01 -2.42876083e-01 -1.44347802e-01 -1.30054519e-01\n  4.26684141e-01 -1.50736570e-01  3.14803481e-01  4.02567089e-02\n  6.26195312e-01  1.06245019e-01 -3.89968067e-01 -3.49552929e-03\n -4.19986427e-01 -4.70451936e-02  6.90123439e-01  2.04761654e-01\n -3.35794121e-01 -8.96051824e-02  3.94656360e-01 -1.32071346e-01\n -5.19350052e-01 -4.88460869e-01 -3.14702094e-01 -5.95114350e-01\n  4.31998193e-01  7.01081157e-02 -7.03086674e-01  4.79964346e-01\n  2.34185696e-01 -1.29959941e-01  2.06455827e-01  4.17042911e-01\n  1.61497325e-01  2.43470013e-01  3.72915000e-01  3.44227016e-01\n -2.01847106e-01  2.25234210e-01 -4.07072067e-01  2.00348482e-01\n  5.39878368e-01  2.94508189e-02  4.87101376e-01  3.84685814e-01\n  2.80940115e-01  3.30549985e-01 -2.55629480e-01 -2.32293352e-01\n  2.48097092e-01 -1.42200142e-01 -4.04606760e-02 -1.81191310e-01\n  2.60576606e-01  1.27117097e-01  7.70647079e-02  3.56151819e-01\n -7.15033233e-01  5.61473191e-01 -8.59704539e-02 -3.94778073e-01\n  2.57054627e-01  3.86829972e-01 -4.88475323e-01  6.77555799e-01\n  2.88097620e-01  4.40617651e-03 -6.25569344e-01  2.12038368e-01\n -6.25814140e-01 -2.89282650e-01  9.16087687e-01 -7.39394844e-01\n  2.42489487e-01 -4.43080336e-01 -1.09152436e-01  7.40178645e-01\n  1.78508818e-01  1.99083760e-01  5.31960428e-01 -2.11079866e-01\n  3.87797534e-01 -1.69009805e-01 -3.42332006e-01  4.02166486e-01\n -1.87747359e-01  1.14120476e-01  4.46279883e-01 -2.28748471e-01\n  4.77545232e-01 -3.21902812e-01  1.72573119e-01  2.80105829e-01\n -2.46257037e-01 -4.06340539e-01  1.27802312e-01 -1.85344264e-01\n -7.29340851e-01 -3.80535424e-01  3.05824399e-01 -2.14295954e-01\n  1.52439207e-01  2.62096822e-02  3.56555760e-01 -5.10056496e-01\n  7.63922632e-02 -7.22812712e-02 -6.80870831e-01  2.59357095e-02\n  2.85416389e+00 -2.35071868e-01  4.64975536e-02  1.68516576e-01\n -3.41693819e-01  7.11515009e-01 -1.58342943e-01 -4.96644050e-01\n -1.51394486e-01 -3.29461470e-02 -2.33403370e-01  4.60265696e-01\n  2.87117958e-01 -4.73869815e-02  2.01596990e-01 -1.05075985e-02\n  1.28152668e-01  7.55112469e-02  5.87594688e-01 -7.54175484e-02\n  5.78843355e-01  1.52198270e-01 -6.81627870e-01  1.14936554e+00\n  4.82912004e-01 -4.25372571e-02 -1.59400749e+00 -2.84242809e-01\n -4.76272970e-01 -9.08037066e-01  5.47264576e-01 -5.89710951e-01\n -3.90187889e-01  1.18849605e-01  3.50669116e-01  3.18319350e-01\n  1.43407971e-01 -2.71816701e-02  4.79034707e-02  7.49843240e-01\n  1.75496936e-03 -2.22949490e-01 -1.70107692e-01 -3.93968761e-01\n -7.80384660e-01 -8.76775384e-02 -8.03402960e-02 -2.40025699e-01\n  8.25066447e-01 -3.06639850e-01 -8.34623948e-02 -1.78557515e-01\n  7.62311757e-01  5.58847487e-01  9.25871134e-02 -7.83602595e-01\n  3.70337844e-01 -2.51901805e-01 -3.68341357e-02 -1.13599166e-01\n  3.79962236e-01  2.88990378e-01 -3.30514431e-01  5.25910795e-01\n -3.58994126e-01 -4.33567166e-02  2.05861956e-01  2.54622638e-01\n  1.41864300e-01 -5.35770468e-02 -1.05474591e-02 -9.68617052e-02\n  3.75892609e-01  9.63640958e-02  3.15274924e-01  2.91820884e-01\n -3.69731963e-01  1.31837413e-01  1.32529840e-01 -4.34371293e-01\n  3.35682839e-01 -4.78247702e-02 -1.61050990e-01  1.40877217e-01\n -1.02837160e-01  5.86290359e-01  5.08990288e-01 -3.48927349e-01\n -3.15378547e-01  5.05019426e-02  2.36891627e-01 -4.63939369e-01\n  7.11938739e-03 -7.49751031e-02 -3.15941125e-01  5.44429183e-01\n  4.44853902e-02 -5.00179410e-01 -9.40206200e-02 -2.36221611e-01\n  3.21645021e-01 -7.03213155e-01 -3.37165445e-01 -1.31018803e-01\n -8.50825548e-01 -1.72597140e-01  9.48371172e-01 -2.71537274e-01\n  4.17878509e-01 -2.13005751e-01 -2.73138076e-01 -8.22763294e-02\n  1.42539993e-01 -6.86700046e-01  3.22308958e-01  1.77607879e-01\n -5.07767856e-01  1.08608603e-02 -9.92538333e-01 -6.33241117e-01\n  4.43880826e-01 -6.13636002e-02 -6.26624227e-02 -7.16763616e-01\n -9.95468199e-02 -1.78910255e-01  6.44353986e-01  5.72798371e-01\n  1.37488410e-01  3.22609961e-01 -1.18924946e-01  2.88928092e-01\n -1.30870029e-01 -3.29625964e-01  5.59219420e-02 -2.35671654e-01\n  7.23034143e-04 -1.93647414e-01  5.98148853e-02  8.09633955e-02\n -2.84420818e-01 -4.24049139e-01 -4.76325452e-01  1.62755013e-01\n -3.81968915e-02 -5.07225037e-01  1.27425238e-01 -1.90610081e-01\n -4.15593863e-01 -1.54681087e-01  2.79934406e-01 -2.79323101e-01\n -2.30915976e+00  5.81880569e-01 -1.71047002e-01 -2.87474203e+00\n -2.07073927e-01  8.73758346e-02 -4.40039277e-01  5.91778457e-01\n -4.08283621e-01 -1.23268783e-01  1.30835265e-01  5.17427444e-01\n  2.10570842e-01 -4.28836286e-01  5.65072656e-01 -1.97122455e-01\n  1.40754491e-01 -3.79584432e-02 -3.71828005e-02 -1.22107601e+00\n  2.55026221e-01  4.01671708e-01 -6.13110065e-01  2.26670891e-01\n -4.00835454e-01 -8.97353366e-02  1.76588655e-01  1.29588306e-01\n  2.79531106e-02 -1.67762190e-02  1.04523733e-01 -1.09904259e-01\n  3.48350614e-01 -4.69915092e-01  1.88994005e-01 -1.10513017e-01\n  1.18281841e-02 -3.09708476e-01  5.75252712e-01  1.95310846e-01\n -3.21649700e-01 -2.90275455e-01  6.19345307e-02  5.97147703e-01\n -2.61903739e+00 -8.09186339e-01  6.37591600e-01 -3.55517864e-01\n  2.46222854e-01 -9.88155305e-02 -5.77691019e-01  2.00412601e-01\n -2.64539003e-01 -3.75090241e-02  1.27366796e-01 -1.21838599e-03\n -1.79696977e-02  3.40751290e-01  4.59124237e-01 -1.56366229e-01\n -5.95209181e-01  5.18822134e-01 -6.56074107e-01  1.73116595e-01\n -5.98627448e-01 -1.64348572e-01  2.18138084e-01  1.33781642e-01\n  2.88299888e-01 -3.06655049e-01 -7.24133134e-01  2.06554711e-01\n  4.66619968e-01  4.41549212e-01  1.69963896e-01  6.07575834e-01\n -1.81068450e-01 -4.10329998e-02  5.87308824e-01 -4.52398419e-01\n -5.42485237e-01  1.03331470e+00  2.83092052e-01 -6.68647140e-02\n -8.91529471e-02 -2.29187131e-01  2.36490667e-02 -8.66936326e-01\n  7.98282474e-02  5.06134987e-01  5.41155696e-01 -1.22853309e-01\n  1.97445318e-01  2.12846175e-02 -3.30322504e-01 -4.38108683e-01\n -2.56992221e-01 -7.78153837e-02 -3.28576922e-01 -2.96186656e-02\n  5.74347794e-01 -1.39392585e-01  1.04063019e-01 -4.88971293e-01\n -4.31343019e-01  6.19040489e-01 -3.65339965e-03  7.15615988e-01\n  1.48019910e+00  2.56682605e-01  3.75569820e-01  4.07040082e-02\n -6.68950915e-01 -3.35351229e-01  3.61472130e-01 -3.27924192e-01\n -1.26279414e-01 -5.50126672e-01  6.97755441e-02  2.44281992e-01\n  8.73167992e-01  5.42605221e-02 -2.49539018e-02  1.31692901e-01\n  5.38571358e-01  2.27046400e-01 -2.46381640e-01  9.63226557e-01\n -1.05949014e-01 -3.33515376e-01  5.47378063e-01  5.11875898e-02\n  1.68543339e-01  2.80141294e-01 -8.82750079e-02  6.19396091e-01\n  2.24709511e-02  3.28938484e-01  1.69079468e-01  3.33995283e-01\n -3.27979267e-01  1.92406878e-01 -5.69132328e-01 -2.72903740e-01\n  1.39192581e-01  5.79303980e-01 -1.69748008e-01  5.38004041e-02\n -1.19871974e-01 -1.43983781e-01 -7.74446189e-01 -1.49046099e+00\n -4.75122750e-01 -1.72229797e-01 -9.57995802e-02  5.26235342e-01\n -4.68534231e-02 -3.04024011e-01 -6.17213547e-02 -2.87862778e-01\n -9.52258110e-02 -8.58129561e-03  2.91765809e-01  3.22260559e-01\n  2.94935822e-01 -1.62480548e-01 -8.00440073e-01  1.26434296e-01\n  1.65541023e-02 -5.14331460e-02  6.74610734e-02  1.33036947e+00\n  7.19905138e-01  4.48447704e-01  1.08182758e-01  8.60453397e-02\n -7.02518106e-01  4.52521145e-02  4.43750054e-01 -4.80420291e-01\n  3.00122529e-01  8.47608596e-03 -7.42885888e-01 -3.70417118e-01\n -4.54419404e-01 -3.64652932e-01 -1.14311755e+00 -1.89265192e-01\n  6.43872619e-01 -4.59834754e-01 -2.20238373e-01  4.81007487e-01\n -2.12023392e-01 -3.41067225e-01 -1.12608051e+00  7.91734979e-02\n  2.94046700e-02  4.82532620e-01 -4.75723863e-01 -6.12093210e-02\n -1.70526683e-01 -7.16918290e-01  2.43499324e-01 -5.60656190e-02\n -2.10925817e-01  7.44055152e-01  8.12711716e-02 -7.51115978e-02]",
         "36624",
         "200746268",
         "42883931"
        ]
       ],
       "shape": {
        "columns": 7,
        "rows": 643822
       }
      },
      "text/html": [
       "<div>\n",
       "<style scoped>\n",
       "    .dataframe tbody tr th:only-of-type {\n",
       "        vertical-align: middle;\n",
       "    }\n",
       "\n",
       "    .dataframe tbody tr th {\n",
       "        vertical-align: top;\n",
       "    }\n",
       "\n",
       "    .dataframe thead th {\n",
       "        text-align: right;\n",
       "    }\n",
       "</style>\n",
       "<table border=\"1\" class=\"dataframe\">\n",
       "  <thead>\n",
       "    <tr style=\"text-align: right;\">\n",
       "      <th></th>\n",
       "      <th>item_id</th>\n",
       "      <th>itemname</th>\n",
       "      <th>attributes</th>\n",
       "      <th>fclip_embed</th>\n",
       "      <th>catalogid</th>\n",
       "      <th>variant_id</th>\n",
       "      <th>model_id</th>\n",
       "    </tr>\n",
       "  </thead>\n",
       "  <tbody>\n",
       "    <tr>\n",
       "      <th>0</th>\n",
       "      <td>400301</td>\n",
       "      <td>Очки солнцезащитные</td>\n",
       "      <td>[{'attribute_name': 'Type', 'attribute_value':...</td>\n",
       "      <td>[0.32023853, 0.11766258, -0.784552, 0.4168199,...</td>\n",
       "      <td>17080</td>\n",
       "      <td>243954236</td>\n",
       "      <td>33306429</td>\n",
       "    </tr>\n",
       "    <tr>\n",
       "      <th>1</th>\n",
       "      <td>678602</td>\n",
       "      <td>Футболка GOLDUSTIM Футболка женская</td>\n",
       "      <td>[{'attribute_name': 'Type', 'attribute_value':...</td>\n",
       "      <td>[0.4360095, 0.6339668, 0.029741853, 0.09847632...</td>\n",
       "      <td>7508</td>\n",
       "      <td>8039633</td>\n",
       "      <td>27057398</td>\n",
       "    </tr>\n",
       "    <tr>\n",
       "      <th>2</th>\n",
       "      <td>746401</td>\n",
       "      <td>Худи Patagonia</td>\n",
       "      <td>[{'attribute_name': 'Type', 'attribute_value':...</td>\n",
       "      <td>[0.47452784, -0.4727797, -0.51971936, -0.08221...</td>\n",
       "      <td>7555</td>\n",
       "      <td>120078071</td>\n",
       "      <td>11645051</td>\n",
       "    </tr>\n",
       "    <tr>\n",
       "      <th>3</th>\n",
       "      <td>872829</td>\n",
       "      <td>Комплект носков adidas 3S C Spw Mid 3P, 3 пары</td>\n",
       "      <td>[{'attribute_name': 'Type', 'attribute_value':...</td>\n",
       "      <td>[-0.06987186, -2.2802832, -0.5829071, -0.33674...</td>\n",
       "      <td>36563</td>\n",
       "      <td>247120069</td>\n",
       "      <td>38088455</td>\n",
       "    </tr>\n",
       "    <tr>\n",
       "      <th>4</th>\n",
       "      <td>893255</td>\n",
       "      <td>Жилет Buy &amp; Style жилеты</td>\n",
       "      <td>[{'attribute_name': 'Type', 'attribute_value':...</td>\n",
       "      <td>[0.12488763, 0.5466293, 0.29031003, 0.21499962...</td>\n",
       "      <td>7535</td>\n",
       "      <td>327822613</td>\n",
       "      <td>19339929</td>\n",
       "    </tr>\n",
       "    <tr>\n",
       "      <th>...</th>\n",
       "      <td>...</td>\n",
       "      <td>...</td>\n",
       "      <td>...</td>\n",
       "      <td>...</td>\n",
       "      <td>...</td>\n",
       "      <td>...</td>\n",
       "      <td>...</td>\n",
       "    </tr>\n",
       "    <tr>\n",
       "      <th>643817</th>\n",
       "      <td>337511737</td>\n",
       "      <td>Брюки Koton</td>\n",
       "      <td>[{'attribute_name': 'Type', 'attribute_value':...</td>\n",
       "      <td>[0.24482095, 0.9870064, 0.022553533, 0.534935,...</td>\n",
       "      <td>7512</td>\n",
       "      <td>27632331</td>\n",
       "      <td>38304950</td>\n",
       "    </tr>\n",
       "    <tr>\n",
       "      <th>643818</th>\n",
       "      <td>338025745</td>\n",
       "      <td>Брюки SELA</td>\n",
       "      <td>[{'attribute_name': 'Type', 'attribute_value':...</td>\n",
       "      <td>[0.60598457, 0.7227131, 0.011865512, -0.307703...</td>\n",
       "      <td>36617</td>\n",
       "      <td>287124308</td>\n",
       "      <td>36965932</td>\n",
       "    </tr>\n",
       "    <tr>\n",
       "      <th>643819</th>\n",
       "      <td>338454800</td>\n",
       "      <td>Футболка</td>\n",
       "      <td>[{'attribute_name': 'Type', 'attribute_value':...</td>\n",
       "      <td>[0.20186266, -1.0103929, -1.2348884, 0.5005319...</td>\n",
       "      <td>7508</td>\n",
       "      <td>290239692</td>\n",
       "      <td>32834089</td>\n",
       "    </tr>\n",
       "    <tr>\n",
       "      <th>643820</th>\n",
       "      <td>338596307</td>\n",
       "      <td>Платье Koton</td>\n",
       "      <td>[{'attribute_name': 'Type', 'attribute_value':...</td>\n",
       "      <td>[0.071969345, 0.524616, -0.3169561, -0.290882,...</td>\n",
       "      <td>7502</td>\n",
       "      <td>319078691</td>\n",
       "      <td>24755854</td>\n",
       "    </tr>\n",
       "    <tr>\n",
       "      <th>643821</th>\n",
       "      <td>338975252</td>\n",
       "      <td>Джинсы H&amp;M</td>\n",
       "      <td>[{'attribute_name': 'Type', 'attribute_value':...</td>\n",
       "      <td>[0.12977229, -0.8223011, 0.044287354, -0.33300...</td>\n",
       "      <td>7556</td>\n",
       "      <td>216231709</td>\n",
       "      <td>4541564</td>\n",
       "    </tr>\n",
       "  </tbody>\n",
       "</table>\n",
       "<p>643822 rows × 7 columns</p>\n",
       "</div>"
      ],
      "text/plain": [
       "          item_id                                        itemname  \\\n",
       "0          400301                             Очки солнцезащитные   \n",
       "1          678602             Футболка GOLDUSTIM Футболка женская   \n",
       "2          746401                                  Худи Patagonia   \n",
       "3          872829  Комплект носков adidas 3S C Spw Mid 3P, 3 пары   \n",
       "4          893255                        Жилет Buy & Style жилеты   \n",
       "...           ...                                             ...   \n",
       "643817  337511737                                     Брюки Koton   \n",
       "643818  338025745                                      Брюки SELA   \n",
       "643819  338454800                                        Футболка   \n",
       "643820  338596307                                    Платье Koton   \n",
       "643821  338975252                                      Джинсы H&M   \n",
       "\n",
       "                                               attributes  \\\n",
       "0       [{'attribute_name': 'Type', 'attribute_value':...   \n",
       "1       [{'attribute_name': 'Type', 'attribute_value':...   \n",
       "2       [{'attribute_name': 'Type', 'attribute_value':...   \n",
       "3       [{'attribute_name': 'Type', 'attribute_value':...   \n",
       "4       [{'attribute_name': 'Type', 'attribute_value':...   \n",
       "...                                                   ...   \n",
       "643817  [{'attribute_name': 'Type', 'attribute_value':...   \n",
       "643818  [{'attribute_name': 'Type', 'attribute_value':...   \n",
       "643819  [{'attribute_name': 'Type', 'attribute_value':...   \n",
       "643820  [{'attribute_name': 'Type', 'attribute_value':...   \n",
       "643821  [{'attribute_name': 'Type', 'attribute_value':...   \n",
       "\n",
       "                                              fclip_embed  catalogid  \\\n",
       "0       [0.32023853, 0.11766258, -0.784552, 0.4168199,...      17080   \n",
       "1       [0.4360095, 0.6339668, 0.029741853, 0.09847632...       7508   \n",
       "2       [0.47452784, -0.4727797, -0.51971936, -0.08221...       7555   \n",
       "3       [-0.06987186, -2.2802832, -0.5829071, -0.33674...      36563   \n",
       "4       [0.12488763, 0.5466293, 0.29031003, 0.21499962...       7535   \n",
       "...                                                   ...        ...   \n",
       "643817  [0.24482095, 0.9870064, 0.022553533, 0.534935,...       7512   \n",
       "643818  [0.60598457, 0.7227131, 0.011865512, -0.307703...      36617   \n",
       "643819  [0.20186266, -1.0103929, -1.2348884, 0.5005319...       7508   \n",
       "643820  [0.071969345, 0.524616, -0.3169561, -0.290882,...       7502   \n",
       "643821  [0.12977229, -0.8223011, 0.044287354, -0.33300...       7556   \n",
       "\n",
       "        variant_id  model_id  \n",
       "0        243954236  33306429  \n",
       "1          8039633  27057398  \n",
       "2        120078071  11645051  \n",
       "3        247120069  38088455  \n",
       "4        327822613  19339929  \n",
       "...            ...       ...  \n",
       "643817    27632331  38304950  \n",
       "643818   287124308  36965932  \n",
       "643819   290239692  32834089  \n",
       "643820   319078691  24755854  \n",
       "643821   216231709   4541564  \n",
       "\n",
       "[643822 rows x 7 columns]"
      ]
     },
     "execution_count": 61,
     "metadata": {},
     "output_type": "execute_result"
    }
   ],
   "source": [
    "items_df"
   ]
  },
  {
   "cell_type": "code",
   "execution_count": null,
   "id": "c23f3c97",
   "metadata": {},
   "outputs": [
    {
     "data": {
      "application/vnd.microsoft.datawrangler.viewer.v0+json": {
       "columns": [
        {
         "name": "index",
         "rawType": "int64",
         "type": "integer"
        },
        {
         "name": "item_id",
         "rawType": "int32",
         "type": "integer"
        },
        {
         "name": "user_id",
         "rawType": "int32",
         "type": "integer"
        },
        {
         "name": "created_timestamp",
         "rawType": "datetime64[ns]",
         "type": "datetime"
        },
        {
         "name": "last_status",
         "rawType": "object",
         "type": "string"
        },
        {
         "name": "last_status_timestamp",
         "rawType": "datetime64[ns]",
         "type": "datetime"
        },
        {
         "name": "created_date",
         "rawType": "object",
         "type": "string"
        }
       ],
       "ref": "dd796f14-ce88-4d59-be22-2cfbed2952e9",
       "rows": [
        [
         "0",
         "15535",
         "3423970",
         "2025-01-11 19:20:02.550000",
         "delivered_orders",
         "2025-01-16 10:53:03",
         "2025-01-11"
        ],
        [
         "3",
         "119241",
         "2356390",
         "2025-05-01 17:53:00.716000",
         "delivered_orders",
         "2025-05-14 14:36:20",
         "2025-05-01"
        ],
        [
         "5",
         "119241",
         "3470100",
         "2025-05-15 23:54:20.860000",
         "delivered_orders",
         "2025-05-17 15:34:40",
         "2025-05-15"
        ],
        [
         "8",
         "166547",
         "815321",
         "2025-02-12 19:09:39.360000",
         "delivered_orders",
         "2025-02-14 18:04:32",
         "2025-02-12"
        ],
        [
         "12",
         "194001",
         "3675391",
         "2025-05-30 21:40:48.613000",
         "delivered_orders",
         "2025-06-02 18:32:42",
         "2025-05-30"
        ],
        [
         "19",
         "319008",
         "1525971",
         "2025-06-10 17:17:47.090000",
         "delivered_orders",
         "2025-06-15 20:08:43",
         "2025-06-10"
        ],
        [
         "20",
         "319008",
         "3612281",
         "2025-05-19 13:28:50.150000",
         "delivered_orders",
         "2025-05-22 19:28:20",
         "2025-05-19"
        ],
        [
         "21",
         "319008",
         "3863370",
         "2025-06-04 22:56:46.883000",
         "delivered_orders",
         "2025-06-09 20:02:19",
         "2025-06-04"
        ],
        [
         "28",
         "328255",
         "1063981",
         "2025-02-25 10:36:51.230000",
         "delivered_orders",
         "2025-02-28 18:46:02",
         "2025-02-25"
        ],
        [
         "32",
         "409181",
         "15250",
         "2025-03-20 11:58:41.860000",
         "delivered_orders",
         "2025-03-24 17:26:14",
         "2025-03-20"
        ],
        [
         "33",
         "409181",
         "2358331",
         "2025-01-08 06:56:26.970000",
         "delivered_orders",
         "2025-01-11 18:25:28",
         "2025-01-08"
        ],
        [
         "34",
         "409181",
         "4402820",
         "2025-03-01 23:49:06.826000",
         "delivered_orders",
         "2025-03-03 19:05:32",
         "2025-03-01"
        ],
        [
         "36",
         "450546",
         "4453241",
         "2025-01-10 13:27:25.240000",
         "delivered_orders",
         "2025-02-08 12:07:56.410000",
         "2025-01-10"
        ],
        [
         "41",
         "567620",
         "3347911",
         "2025-05-31 18:05:35.410000",
         "delivered_orders",
         "2025-06-01 19:22:11",
         "2025-05-31"
        ],
        [
         "42",
         "567620",
         "1950631",
         "2025-05-31 11:35:12.006000",
         "delivered_orders",
         "2025-06-02 11:56:15",
         "2025-05-31"
        ],
        [
         "47",
         "602129",
         "2891751",
         "2025-06-11 08:57:09.033000",
         "delivered_orders",
         "2025-06-14 10:16:03",
         "2025-06-11"
        ],
        [
         "48",
         "602129",
         "608430",
         "2025-03-09 17:25:58.193000",
         "delivered_orders",
         "2025-03-10 16:38:55",
         "2025-03-09"
        ],
        [
         "50",
         "602129",
         "3562351",
         "2025-05-25 13:34:17.726000",
         "delivered_orders",
         "2025-06-09 16:25:53",
         "2025-05-25"
        ],
        [
         "51",
         "602129",
         "4549831",
         "2025-05-25 22:35:25.826000",
         "delivered_orders",
         "2025-05-28 18:16:33",
         "2025-05-25"
        ],
        [
         "53",
         "602129",
         "790401",
         "2025-03-13 20:54:09.566000",
         "delivered_orders",
         "2025-03-14 16:32:36",
         "2025-03-13"
        ],
        [
         "57",
         "602129",
         "4048801",
         "2025-05-23 09:05:07.193000",
         "delivered_orders",
         "2025-05-28 20:37:25",
         "2025-05-23"
        ],
        [
         "60",
         "602129",
         "201440",
         "2025-03-11 17:05:54.443000",
         "delivered_orders",
         "2025-03-15 10:24:32",
         "2025-03-11"
        ],
        [
         "61",
         "602129",
         "2592401",
         "2025-05-20 04:31:19.196000",
         "delivered_orders",
         "2025-05-21 19:34:39",
         "2025-05-20"
        ],
        [
         "62",
         "602129",
         "2276461",
         "2025-06-16 16:27:50.950000",
         "delivered_orders",
         "2025-06-17 20:19:16",
         "2025-06-16"
        ],
        [
         "64",
         "602129",
         "2662600",
         "2025-05-27 13:24:34.750000",
         "delivered_orders",
         "2025-06-01 16:05:14",
         "2025-05-27"
        ],
        [
         "65",
         "602129",
         "2849480",
         "2025-05-27 15:49:04.630000",
         "delivered_orders",
         "2025-06-14 09:59:31",
         "2025-05-27"
        ],
        [
         "66",
         "602129",
         "4953620",
         "2025-05-08 04:11:00.190000",
         "delivered_orders",
         "2025-05-11 10:23:35",
         "2025-05-08"
        ],
        [
         "67",
         "602129",
         "3706480",
         "2025-03-01 21:25:00.470000",
         "delivered_orders",
         "2025-03-06 17:43:49",
         "2025-03-01"
        ],
        [
         "71",
         "669551",
         "2904960",
         "2025-04-13 22:56:01.196000",
         "delivered_orders",
         "2025-05-09 19:26:37.567000",
         "2025-04-13"
        ],
        [
         "73",
         "678602",
         "4217810",
         "2025-04-26 21:37:58.996000",
         "delivered_orders",
         "2025-04-30 14:27:14",
         "2025-04-26"
        ],
        [
         "77",
         "843767",
         "2927060",
         "2025-03-09 20:55:44.206000",
         "delivered_orders",
         "2025-03-13 17:22:34",
         "2025-03-09"
        ],
        [
         "80",
         "843767",
         "529120",
         "2025-03-09 08:36:10.543000",
         "delivered_orders",
         "2025-03-10 18:21:35",
         "2025-03-09"
        ],
        [
         "81",
         "843767",
         "1214261",
         "2025-03-28 14:43:07.773000",
         "delivered_orders",
         "2025-03-30 14:17:02",
         "2025-03-28"
        ],
        [
         "83",
         "843767",
         "3092640",
         "2025-03-21 12:39:43.870000",
         "delivered_orders",
         "2025-03-22 15:24:56",
         "2025-03-21"
        ],
        [
         "84",
         "872829",
         "544081",
         "2025-02-01 11:29:05.123000",
         "delivered_orders",
         "2025-02-06 07:48:24",
         "2025-02-01"
        ],
        [
         "85",
         "872829",
         "3517490",
         "2025-02-13 09:36:20.523000",
         "delivered_orders",
         "2025-02-22 09:20:49",
         "2025-02-13"
        ],
        [
         "86",
         "872829",
         "667200",
         "2025-01-17 21:43:25.550000",
         "delivered_orders",
         "2025-01-21 11:56:44",
         "2025-01-17"
        ],
        [
         "87",
         "872829",
         "3801180",
         "2025-02-08 13:08:09.816000",
         "delivered_orders",
         "2025-02-10 17:55:39",
         "2025-02-08"
        ],
        [
         "88",
         "872829",
         "424361",
         "2025-02-17 18:26:08.550000",
         "delivered_orders",
         "2025-02-21 17:39:39",
         "2025-02-17"
        ],
        [
         "89",
         "885541",
         "1087480",
         "2025-04-30 20:50:30.516000",
         "delivered_orders",
         "2025-05-03 09:19:52",
         "2025-04-30"
        ],
        [
         "102",
         "977450",
         "4966591",
         "2025-05-01 11:10:50.596000",
         "delivered_orders",
         "2025-05-04 22:18:08",
         "2025-05-01"
        ],
        [
         "103",
         "977450",
         "2718650",
         "2025-01-25 05:49:04.380000",
         "delivered_orders",
         "2025-01-27 16:06:08",
         "2025-01-25"
        ],
        [
         "109",
         "977450",
         "633590",
         "2025-04-21 10:06:12.906000",
         "delivered_orders",
         "2025-04-27 09:59:32",
         "2025-04-21"
        ],
        [
         "110",
         "977450",
         "3704351",
         "2025-04-10 15:44:19.710000",
         "delivered_orders",
         "2025-04-13 10:31:45",
         "2025-04-10"
        ],
        [
         "111",
         "983369",
         "4186870",
         "2025-03-21 09:06:40.163000",
         "delivered_orders",
         "2025-03-28 16:27:44",
         "2025-03-21"
        ],
        [
         "113",
         "983369",
         "2722341",
         "2025-05-02 03:09:44.166000",
         "delivered_orders",
         "2025-05-10 11:41:47",
         "2025-05-02"
        ],
        [
         "114",
         "983369",
         "4298830",
         "2025-04-18 22:17:54.406000",
         "delivered_orders",
         "2025-04-20 18:26:57",
         "2025-04-18"
        ],
        [
         "115",
         "1013534",
         "2842891",
         "2025-05-21 17:13:15.830000",
         "delivered_orders",
         "2025-06-22 08:25:18",
         "2025-05-21"
        ],
        [
         "117",
         "1013534",
         "2543981",
         "2025-05-25 09:48:04.396000",
         "delivered_orders",
         "2025-06-20 20:05:02",
         "2025-05-25"
        ],
        [
         "121",
         "1013534",
         "924740",
         "2025-06-05 19:39:52.036000",
         "delivered_orders",
         "2025-06-29 09:38:23",
         "2025-06-05"
        ]
       ],
       "shape": {
        "columns": 6,
        "rows": 9936249
       }
      },
      "text/html": [
       "<div>\n",
       "<style scoped>\n",
       "    .dataframe tbody tr th:only-of-type {\n",
       "        vertical-align: middle;\n",
       "    }\n",
       "\n",
       "    .dataframe tbody tr th {\n",
       "        vertical-align: top;\n",
       "    }\n",
       "\n",
       "    .dataframe thead th {\n",
       "        text-align: right;\n",
       "    }\n",
       "</style>\n",
       "<table border=\"1\" class=\"dataframe\">\n",
       "  <thead>\n",
       "    <tr style=\"text-align: right;\">\n",
       "      <th></th>\n",
       "      <th>item_id</th>\n",
       "      <th>user_id</th>\n",
       "      <th>created_timestamp</th>\n",
       "      <th>last_status</th>\n",
       "      <th>last_status_timestamp</th>\n",
       "      <th>created_date</th>\n",
       "    </tr>\n",
       "  </thead>\n",
       "  <tbody>\n",
       "    <tr>\n",
       "      <th>0</th>\n",
       "      <td>15535</td>\n",
       "      <td>3423970</td>\n",
       "      <td>2025-01-11 19:20:02.550</td>\n",
       "      <td>delivered_orders</td>\n",
       "      <td>2025-01-16 10:53:03</td>\n",
       "      <td>2025-01-11</td>\n",
       "    </tr>\n",
       "    <tr>\n",
       "      <th>3</th>\n",
       "      <td>119241</td>\n",
       "      <td>2356390</td>\n",
       "      <td>2025-05-01 17:53:00.716</td>\n",
       "      <td>delivered_orders</td>\n",
       "      <td>2025-05-14 14:36:20</td>\n",
       "      <td>2025-05-01</td>\n",
       "    </tr>\n",
       "    <tr>\n",
       "      <th>5</th>\n",
       "      <td>119241</td>\n",
       "      <td>3470100</td>\n",
       "      <td>2025-05-15 23:54:20.860</td>\n",
       "      <td>delivered_orders</td>\n",
       "      <td>2025-05-17 15:34:40</td>\n",
       "      <td>2025-05-15</td>\n",
       "    </tr>\n",
       "    <tr>\n",
       "      <th>8</th>\n",
       "      <td>166547</td>\n",
       "      <td>815321</td>\n",
       "      <td>2025-02-12 19:09:39.360</td>\n",
       "      <td>delivered_orders</td>\n",
       "      <td>2025-02-14 18:04:32</td>\n",
       "      <td>2025-02-12</td>\n",
       "    </tr>\n",
       "    <tr>\n",
       "      <th>12</th>\n",
       "      <td>194001</td>\n",
       "      <td>3675391</td>\n",
       "      <td>2025-05-30 21:40:48.613</td>\n",
       "      <td>delivered_orders</td>\n",
       "      <td>2025-06-02 18:32:42</td>\n",
       "      <td>2025-05-30</td>\n",
       "    </tr>\n",
       "    <tr>\n",
       "      <th>...</th>\n",
       "      <td>...</td>\n",
       "      <td>...</td>\n",
       "      <td>...</td>\n",
       "      <td>...</td>\n",
       "      <td>...</td>\n",
       "      <td>...</td>\n",
       "    </tr>\n",
       "    <tr>\n",
       "      <th>18887113</th>\n",
       "      <td>339333163</td>\n",
       "      <td>2593920</td>\n",
       "      <td>2025-06-01 19:41:19.080</td>\n",
       "      <td>delivered_orders</td>\n",
       "      <td>2025-06-06 16:27:07</td>\n",
       "      <td>2025-06-01</td>\n",
       "    </tr>\n",
       "    <tr>\n",
       "      <th>18887114</th>\n",
       "      <td>339333163</td>\n",
       "      <td>522120</td>\n",
       "      <td>2025-03-31 05:52:03.046</td>\n",
       "      <td>delivered_orders</td>\n",
       "      <td>2025-04-07 07:27:51</td>\n",
       "      <td>2025-03-31</td>\n",
       "    </tr>\n",
       "    <tr>\n",
       "      <th>18887116</th>\n",
       "      <td>339333163</td>\n",
       "      <td>200191</td>\n",
       "      <td>2025-05-15 07:07:16.546</td>\n",
       "      <td>delivered_orders</td>\n",
       "      <td>2025-05-25 09:01:24</td>\n",
       "      <td>2025-05-15</td>\n",
       "    </tr>\n",
       "    <tr>\n",
       "      <th>18887118</th>\n",
       "      <td>339334813</td>\n",
       "      <td>2943711</td>\n",
       "      <td>2025-06-18 08:42:19.543</td>\n",
       "      <td>delivered_orders</td>\n",
       "      <td>2025-06-29 11:44:48</td>\n",
       "      <td>2025-06-18</td>\n",
       "    </tr>\n",
       "    <tr>\n",
       "      <th>18887120</th>\n",
       "      <td>339342311</td>\n",
       "      <td>4460790</td>\n",
       "      <td>2025-05-17 08:42:00.863</td>\n",
       "      <td>delivered_orders</td>\n",
       "      <td>2025-05-20 17:44:01</td>\n",
       "      <td>2025-05-17</td>\n",
       "    </tr>\n",
       "  </tbody>\n",
       "</table>\n",
       "<p>9936249 rows × 6 columns</p>\n",
       "</div>"
      ],
      "text/plain": [
       "            item_id  user_id       created_timestamp       last_status  \\\n",
       "0             15535  3423970 2025-01-11 19:20:02.550  delivered_orders   \n",
       "3            119241  2356390 2025-05-01 17:53:00.716  delivered_orders   \n",
       "5            119241  3470100 2025-05-15 23:54:20.860  delivered_orders   \n",
       "8            166547   815321 2025-02-12 19:09:39.360  delivered_orders   \n",
       "12           194001  3675391 2025-05-30 21:40:48.613  delivered_orders   \n",
       "...             ...      ...                     ...               ...   \n",
       "18887113  339333163  2593920 2025-06-01 19:41:19.080  delivered_orders   \n",
       "18887114  339333163   522120 2025-03-31 05:52:03.046  delivered_orders   \n",
       "18887116  339333163   200191 2025-05-15 07:07:16.546  delivered_orders   \n",
       "18887118  339334813  2943711 2025-06-18 08:42:19.543  delivered_orders   \n",
       "18887120  339342311  4460790 2025-05-17 08:42:00.863  delivered_orders   \n",
       "\n",
       "         last_status_timestamp created_date  \n",
       "0          2025-01-16 10:53:03   2025-01-11  \n",
       "3          2025-05-14 14:36:20   2025-05-01  \n",
       "5          2025-05-17 15:34:40   2025-05-15  \n",
       "8          2025-02-14 18:04:32   2025-02-12  \n",
       "12         2025-06-02 18:32:42   2025-05-30  \n",
       "...                        ...          ...  \n",
       "18887113   2025-06-06 16:27:07   2025-06-01  \n",
       "18887114   2025-04-07 07:27:51   2025-03-31  \n",
       "18887116   2025-05-25 09:01:24   2025-05-15  \n",
       "18887118   2025-06-29 11:44:48   2025-06-18  \n",
       "18887120   2025-05-20 17:44:01   2025-05-17  \n",
       "\n",
       "[9936249 rows x 6 columns]"
      ]
     },
     "execution_count": 58,
     "metadata": {},
     "output_type": "execute_result"
    }
   ],
   "source": [
    "orders_df_delivered"
   ]
  },
  {
   "cell_type": "code",
   "execution_count": null,
   "id": "a7cfbdc3",
   "metadata": {},
   "outputs": [
    {
     "data": {
      "application/vnd.microsoft.datawrangler.viewer.v0+json": {
       "columns": [
        {
         "name": "index",
         "rawType": "int64",
         "type": "integer"
        },
        {
         "name": "item_id",
         "rawType": "int32",
         "type": "integer"
        },
        {
         "name": "user_id",
         "rawType": "int32",
         "type": "integer"
        },
        {
         "name": "created_timestamp",
         "rawType": "datetime64[ns]",
         "type": "datetime"
        },
        {
         "name": "last_status",
         "rawType": "object",
         "type": "string"
        },
        {
         "name": "last_status_timestamp",
         "rawType": "datetime64[ns]",
         "type": "datetime"
        },
        {
         "name": "created_date",
         "rawType": "object",
         "type": "string"
        }
       ],
       "ref": "529b0ef5-1e8b-4eb1-9622-f10ba1be5f57",
       "rows": [
        [
         "552",
         "5885425",
         "4969760",
         "2025-04-15 20:59:31.983000",
         "delivered_orders",
         "2025-04-21 10:26:51",
         "2025-04-15"
        ]
       ],
       "shape": {
        "columns": 6,
        "rows": 1
       }
      },
      "text/html": [
       "<div>\n",
       "<style scoped>\n",
       "    .dataframe tbody tr th:only-of-type {\n",
       "        vertical-align: middle;\n",
       "    }\n",
       "\n",
       "    .dataframe tbody tr th {\n",
       "        vertical-align: top;\n",
       "    }\n",
       "\n",
       "    .dataframe thead th {\n",
       "        text-align: right;\n",
       "    }\n",
       "</style>\n",
       "<table border=\"1\" class=\"dataframe\">\n",
       "  <thead>\n",
       "    <tr style=\"text-align: right;\">\n",
       "      <th></th>\n",
       "      <th>item_id</th>\n",
       "      <th>user_id</th>\n",
       "      <th>created_timestamp</th>\n",
       "      <th>last_status</th>\n",
       "      <th>last_status_timestamp</th>\n",
       "      <th>created_date</th>\n",
       "    </tr>\n",
       "  </thead>\n",
       "  <tbody>\n",
       "    <tr>\n",
       "      <th>552</th>\n",
       "      <td>5885425</td>\n",
       "      <td>4969760</td>\n",
       "      <td>2025-04-15 20:59:31.983</td>\n",
       "      <td>delivered_orders</td>\n",
       "      <td>2025-04-21 10:26:51</td>\n",
       "      <td>2025-04-15</td>\n",
       "    </tr>\n",
       "  </tbody>\n",
       "</table>\n",
       "</div>"
      ],
      "text/plain": [
       "     item_id  user_id       created_timestamp       last_status  \\\n",
       "552  5885425  4969760 2025-04-15 20:59:31.983  delivered_orders   \n",
       "\n",
       "    last_status_timestamp created_date  \n",
       "552   2025-04-21 10:26:51   2025-04-15  "
      ]
     },
     "execution_count": 22,
     "metadata": {},
     "output_type": "execute_result"
    }
   ],
   "source": [
    "orders_df_delivered[orders_df_delivered['item_id'] == 5885425]"
   ]
  }
 ],
 "metadata": {
  "kernelspec": {
   "display_name": "Python 3",
   "language": "python",
   "name": "python3"
  },
  "language_info": {
   "codemirror_mode": {
    "name": "ipython",
    "version": 3
   },
   "file_extension": ".py",
   "mimetype": "text/x-python",
   "name": "python",
   "nbconvert_exporter": "python",
   "pygments_lexer": "ipython3",
   "version": "3.13.0"
  }
 },
 "nbformat": 4,
 "nbformat_minor": 5
}
